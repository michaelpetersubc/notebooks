{
 "cells": [
  {
   "cell_type": "markdown",
   "id": "d3ca6bf5-840d-447f-b006-a7c6b40496de",
   "metadata": {},
   "source": [
    "This is the julia version of the notebook that will illustrate all the calculations in the directed search reading.  You can read the details of the basic model at [https://montoya.econ.ubc.ca/Econ600/directed_search.pdf](https://montoya.econ.ubc.ca/Econ600/directed_search.pdf).\n",
    "\n",
    "The first is the basic equation is the condition that makes each worker indifferent between his or her two strategies.\n",
    "$$\\pi w_1 /2+(1-\\pi)w_1=\\pi w_2+(1-\\pi)w_2 /2$$\n",
    "The solution to this equation makes both workers indfferent about whether they apply to firm 1 or firm 2. The code for the solution in sagemath follows. If the solution isn't there, put your cursor in the cell and press ctl-enter."
   ]
  },
  {
   "cell_type": "code",
   "execution_count": 1,
   "id": "38e385ae-76b5-45d3-ab74-75cbc8555b29",
   "metadata": {},
   "outputs": [
    {
     "data": {
      "text/latex": [
       "$\\begin{equation*}\\pi\\end{equation*}$\n"
      ],
      "text/plain": [
       "π"
      ]
     },
     "execution_count": 1,
     "metadata": {},
     "output_type": "execute_result"
    }
   ],
   "source": [
    "using SymPy\n",
    "w_1, w_2 = symbols(\"w_1, w_2\",real=true,positive=true)\n",
    "pi = symbols(\"pi\")"
   ]
  },
  {
   "cell_type": "code",
   "execution_count": 2,
   "id": "ae491a0f-e91b-41a3-9270-2a8ffef907be",
   "metadata": {},
   "outputs": [
    {
     "data": {
      "text/latex": [
       "$\\begin{equation*}\\frac{\\pi w_{1}}{2} + w_{1} \\left(1 - \\pi\\right)\\end{equation*}$\n"
      ],
      "text/plain": [
       "π⋅w₁             \n",
       "──── + w₁⋅(1 - π)\n",
       " 2               "
      ]
     },
     "execution_count": 2,
     "metadata": {},
     "output_type": "execute_result"
    }
   ],
   "source": [
    "left = pi*(w_1/2)+(1-pi)w_1"
   ]
  },
  {
   "cell_type": "code",
   "execution_count": 3,
   "id": "207904f3-5ec0-4621-9e29-93605d9f3845",
   "metadata": {},
   "outputs": [
    {
     "data": {
      "text/latex": [
       "$\\begin{equation*}\\pi w_{2} + \\frac{w_{2} \\left(1 - \\pi\\right)}{2}\\end{equation*}$\n"
      ],
      "text/plain": [
       "       w₂⋅(1 - π)\n",
       "π⋅w₂ + ──────────\n",
       "           2     "
      ]
     },
     "execution_count": 3,
     "metadata": {},
     "output_type": "execute_result"
    }
   ],
   "source": [
    "right = pi*w_2+(1-pi)*w_2/2"
   ]
  },
  {
   "cell_type": "markdown",
   "id": "6f69d510-9ec1-4d40-825d-fa68c9941511",
   "metadata": {},
   "source": [
    "Having done all this setup, we can start actual calculations.  The first thing is to do a naive solve to find a formula."
   ]
  },
  {
   "cell_type": "code",
   "execution_count": 4,
   "id": "66449153-ca73-4b25-95e5-09d29102ebd2",
   "metadata": {},
   "outputs": [
    {
     "data": {
      "text/latex": [
       "$\\begin{equation*}\\frac{2 w_{1} - w_{2}}{w_{1} + w_{2}}\\end{equation*}$\n"
      ],
      "text/plain": [
       "2⋅w₁ - w₂\n",
       "─────────\n",
       " w₁ + w₂ "
      ]
     },
     "execution_count": 4,
     "metadata": {},
     "output_type": "execute_result"
    }
   ],
   "source": [
    "prob_simp = solve(left-right,pi)[1]"
   ]
  },
  {
   "cell_type": "markdown",
   "id": "6dba5999-c2be-440f-bed0-bdec3523b364",
   "metadata": {},
   "source": [
    "We'll need this formula for finding best replies.  However, since we want to solve the whole game, which includes finding the wages $w_1$ and $w_2$, the formula above has a problem, it might give values that are negative or larger than 1 for some pairs of wages, and at this point we have no way to tell what wages are.  \n",
    "\n",
    "If you recall the basic game theory, when the solution to this equation is negative, it means that applying to the firm offering wage $w_1$  is a dominated strategy, so we want the formula in that case to give $0$ instead.  Similarly, if the formula above gives a number larger than 1, it means applying to firm 1 dominates applying to firm 2.  We can accomplish this with the following trick."
   ]
  },
  {
   "cell_type": "code",
   "execution_count": 5,
   "id": "ff115dd2-fa9a-428f-9ab1-10ccba46e5eb",
   "metadata": {},
   "outputs": [
    {
     "data": {
      "text/latex": [
       "$\\begin{equation*}\\max\\left(0, \\min\\left(1, \\frac{2 w_{1} - w_{2}}{w_{1} + w_{2}}\\right)\\right)\\end{equation*}$\n"
      ],
      "text/plain": [
       "Max(0, Min(1, (2*w_1 - w_2)/(w_1 + w_2)))"
      ]
     },
     "execution_count": 5,
     "metadata": {},
     "output_type": "execute_result"
    }
   ],
   "source": [
    "prob = max(min(solve(left-right,pi)[1],1),0)"
   ]
  },
  {
   "cell_type": "markdown",
   "id": "36dc0a09-ebc4-457f-b891-73ad12541e64",
   "metadata": {},
   "source": [
    "Assuming that firm 1 has revenue $y_1$ whenever it hires an employee, its profits will be $y_1-w_1$.  Expected profits are then the probability that at least one worker applies multiplied by $y_1-w_1$  That is \n",
    "$$\n",
    "(y_1-w_1)(1-(1-\\pi)^2)\n",
    "$$\n",
    "In code:"
   ]
  },
  {
   "cell_type": "code",
   "execution_count": 6,
   "id": "ca984358-e2dc-4c68-bbf3-0f05024b6a42",
   "metadata": {},
   "outputs": [
    {
     "data": {
      "text/latex": [
       "$\\begin{equation*}\\left(1 - \\left(1 - \\max\\left(0, \\min\\left(1, \\frac{2 w_{1} - w_{2}}{w_{1} + w_{2}}\\right)\\right)\\right)^{2}\\right) \\left(- w_{1} + y_{1}\\right)\\end{equation*}$\n"
      ],
      "text/plain": [
       "⎛                                                   2⎞           \n",
       "⎝1 - (1 - Max(0, Min(1, (2*w_1 - w_2)/(w_1 + w_2)))) ⎠⋅(-w₁ + y₁)"
      ]
     },
     "execution_count": 6,
     "metadata": {},
     "output_type": "execute_result"
    }
   ],
   "source": [
    "y_1,y_2 = symbols(\"y_1,y_2\")\n",
    "profit = (1-(1-prob)^2)*(y_1-w_1)"
   ]
  },
  {
   "cell_type": "markdown",
   "id": "5fcaec8a-b969-4599-8d05-aab8990b350b",
   "metadata": {},
   "source": [
    "Now by plotting the profit function, we can get a really good idea what the problem is about."
   ]
  },
  {
   "cell_type": "code",
   "execution_count": 7,
   "id": "945e6f42-b611-4c82-88d8-7d7b5f2b88ee",
   "metadata": {},
   "outputs": [
    {
     "data": {
      "image/svg+xml": [
       "<?xml version=\"1.0\" encoding=\"utf-8\"?>\n",
       "<svg xmlns=\"http://www.w3.org/2000/svg\" xmlns:xlink=\"http://www.w3.org/1999/xlink\" width=\"600\" height=\"400\" viewBox=\"0 0 2400 1600\">\n",
       "<defs>\n",
       "  <clipPath id=\"clip220\">\n",
       "    <rect x=\"0\" y=\"0\" width=\"2400\" height=\"1600\"/>\n",
       "  </clipPath>\n",
       "</defs>\n",
       "<path clip-path=\"url(#clip220)\" d=\"\n",
       "M0 1600 L2400 1600 L2400 0 L0 0  Z\n",
       "  \" fill=\"#ffffff\" fill-rule=\"evenodd\" fill-opacity=\"1\"/>\n",
       "<defs>\n",
       "  <clipPath id=\"clip221\">\n",
       "    <rect x=\"480\" y=\"0\" width=\"1681\" height=\"1600\"/>\n",
       "  </clipPath>\n",
       "</defs>\n",
       "<path clip-path=\"url(#clip220)\" d=\"\n",
       "M156.112 1486.45 L2352.76 1486.45 L2352.76 47.2441 L156.112 47.2441  Z\n",
       "  \" fill=\"#ffffff\" fill-rule=\"evenodd\" fill-opacity=\"1\"/>\n",
       "<defs>\n",
       "  <clipPath id=\"clip222\">\n",
       "    <rect x=\"156\" y=\"47\" width=\"2198\" height=\"1440\"/>\n",
       "  </clipPath>\n",
       "</defs>\n",
       "<polyline clip-path=\"url(#clip222)\" style=\"stroke:#000000; stroke-width:2; stroke-opacity:0.1; fill:none\" points=\"\n",
       "  197.135,1486.45 197.135,47.2441 \n",
       "  \"/>\n",
       "<polyline clip-path=\"url(#clip222)\" style=\"stroke:#000000; stroke-width:2; stroke-opacity:0.1; fill:none\" points=\"\n",
       "  725.785,1486.45 725.785,47.2441 \n",
       "  \"/>\n",
       "<polyline clip-path=\"url(#clip222)\" style=\"stroke:#000000; stroke-width:2; stroke-opacity:0.1; fill:none\" points=\"\n",
       "  1254.43,1486.45 1254.43,47.2441 \n",
       "  \"/>\n",
       "<polyline clip-path=\"url(#clip222)\" style=\"stroke:#000000; stroke-width:2; stroke-opacity:0.1; fill:none\" points=\"\n",
       "  1783.08,1486.45 1783.08,47.2441 \n",
       "  \"/>\n",
       "<polyline clip-path=\"url(#clip222)\" style=\"stroke:#000000; stroke-width:2; stroke-opacity:0.1; fill:none\" points=\"\n",
       "  2311.73,1486.45 2311.73,47.2441 \n",
       "  \"/>\n",
       "<polyline clip-path=\"url(#clip220)\" style=\"stroke:#000000; stroke-width:4; stroke-opacity:1; fill:none\" points=\"\n",
       "  156.112,1486.45 2352.76,1486.45 \n",
       "  \"/>\n",
       "<polyline clip-path=\"url(#clip220)\" style=\"stroke:#000000; stroke-width:4; stroke-opacity:1; fill:none\" points=\"\n",
       "  197.135,1486.45 197.135,1469.18 \n",
       "  \"/>\n",
       "<polyline clip-path=\"url(#clip220)\" style=\"stroke:#000000; stroke-width:4; stroke-opacity:1; fill:none\" points=\"\n",
       "  725.785,1486.45 725.785,1469.18 \n",
       "  \"/>\n",
       "<polyline clip-path=\"url(#clip220)\" style=\"stroke:#000000; stroke-width:4; stroke-opacity:1; fill:none\" points=\"\n",
       "  1254.43,1486.45 1254.43,1469.18 \n",
       "  \"/>\n",
       "<polyline clip-path=\"url(#clip220)\" style=\"stroke:#000000; stroke-width:4; stroke-opacity:1; fill:none\" points=\"\n",
       "  1783.08,1486.45 1783.08,1469.18 \n",
       "  \"/>\n",
       "<polyline clip-path=\"url(#clip220)\" style=\"stroke:#000000; stroke-width:4; stroke-opacity:1; fill:none\" points=\"\n",
       "  2311.73,1486.45 2311.73,1469.18 \n",
       "  \"/>\n",
       "<path clip-path=\"url(#clip220)\" d=\"M 0 0 M159.439 1515.64 Q155.828 1515.64 153.999 1519.2 Q152.193 1522.75 152.193 1529.87 Q152.193 1536.98 153.999 1540.55 Q155.828 1544.09 159.439 1544.09 Q163.073 1544.09 164.879 1540.55 Q166.707 1536.98 166.707 1529.87 Q166.707 1522.75 164.879 1519.2 Q163.073 1515.64 159.439 1515.64 M159.439 1511.93 Q165.249 1511.93 168.304 1516.54 Q171.383 1521.12 171.383 1529.87 Q171.383 1538.6 168.304 1543.21 Q165.249 1547.79 159.439 1547.79 Q153.629 1547.79 150.55 1543.21 Q147.494 1538.6 147.494 1529.87 Q147.494 1521.12 150.55 1516.54 Q153.629 1511.93 159.439 1511.93 Z\" fill=\"#000000\" fill-rule=\"evenodd\" fill-opacity=\"1\" /><path clip-path=\"url(#clip220)\" d=\"M 0 0 M179.601 1541.24 L184.485 1541.24 L184.485 1547.12 L179.601 1547.12 L179.601 1541.24 Z\" fill=\"#000000\" fill-rule=\"evenodd\" fill-opacity=\"1\" /><path clip-path=\"url(#clip220)\" d=\"M 0 0 M204.67 1515.64 Q201.059 1515.64 199.23 1519.2 Q197.425 1522.75 197.425 1529.87 Q197.425 1536.98 199.23 1540.55 Q201.059 1544.09 204.67 1544.09 Q208.304 1544.09 210.11 1540.55 Q211.938 1536.98 211.938 1529.87 Q211.938 1522.75 210.11 1519.2 Q208.304 1515.64 204.67 1515.64 M204.67 1511.93 Q210.48 1511.93 213.536 1516.54 Q216.614 1521.12 216.614 1529.87 Q216.614 1538.6 213.536 1543.21 Q210.48 1547.79 204.67 1547.79 Q198.86 1547.79 195.781 1543.21 Q192.726 1538.6 192.726 1529.87 Q192.726 1521.12 195.781 1516.54 Q198.86 1511.93 204.67 1511.93 Z\" fill=\"#000000\" fill-rule=\"evenodd\" fill-opacity=\"1\" /><path clip-path=\"url(#clip220)\" d=\"M 0 0 M234.832 1515.64 Q231.221 1515.64 229.392 1519.2 Q227.587 1522.75 227.587 1529.87 Q227.587 1536.98 229.392 1540.55 Q231.221 1544.09 234.832 1544.09 Q238.466 1544.09 240.272 1540.55 Q242.1 1536.98 242.1 1529.87 Q242.1 1522.75 240.272 1519.2 Q238.466 1515.64 234.832 1515.64 M234.832 1511.93 Q240.642 1511.93 243.698 1516.54 Q246.776 1521.12 246.776 1529.87 Q246.776 1538.6 243.698 1543.21 Q240.642 1547.79 234.832 1547.79 Q229.022 1547.79 225.943 1543.21 Q222.887 1538.6 222.887 1529.87 Q222.887 1521.12 225.943 1516.54 Q229.022 1511.93 234.832 1511.93 Z\" fill=\"#000000\" fill-rule=\"evenodd\" fill-opacity=\"1\" /><path clip-path=\"url(#clip220)\" d=\"M 0 0 M688.586 1515.64 Q684.975 1515.64 683.146 1519.2 Q681.34 1522.75 681.34 1529.87 Q681.34 1536.98 683.146 1540.55 Q684.975 1544.09 688.586 1544.09 Q692.22 1544.09 694.026 1540.55 Q695.854 1536.98 695.854 1529.87 Q695.854 1522.75 694.026 1519.2 Q692.22 1515.64 688.586 1515.64 M688.586 1511.93 Q694.396 1511.93 697.451 1516.54 Q700.53 1521.12 700.53 1529.87 Q700.53 1538.6 697.451 1543.21 Q694.396 1547.79 688.586 1547.79 Q682.776 1547.79 679.697 1543.21 Q676.641 1538.6 676.641 1529.87 Q676.641 1521.12 679.697 1516.54 Q682.776 1511.93 688.586 1511.93 Z\" fill=\"#000000\" fill-rule=\"evenodd\" fill-opacity=\"1\" /><path clip-path=\"url(#clip220)\" d=\"M 0 0 M708.748 1541.24 L713.632 1541.24 L713.632 1547.12 L708.748 1547.12 L708.748 1541.24 Z\" fill=\"#000000\" fill-rule=\"evenodd\" fill-opacity=\"1\" /><path clip-path=\"url(#clip220)\" d=\"M 0 0 M727.845 1543.18 L744.164 1543.18 L744.164 1547.12 L722.22 1547.12 L722.22 1543.18 Q724.882 1540.43 729.465 1535.8 Q734.072 1531.15 735.252 1529.81 Q737.498 1527.28 738.377 1525.55 Q739.28 1523.79 739.28 1522.1 Q739.28 1519.34 737.336 1517.61 Q735.414 1515.87 732.312 1515.87 Q730.113 1515.87 727.66 1516.63 Q725.229 1517.4 722.451 1518.95 L722.451 1514.23 Q725.275 1513.09 727.729 1512.51 Q730.183 1511.93 732.22 1511.93 Q737.59 1511.93 740.785 1514.62 Q743.979 1517.31 743.979 1521.8 Q743.979 1523.93 743.169 1525.85 Q742.382 1527.74 740.275 1530.34 Q739.697 1531.01 736.595 1534.23 Q733.493 1537.42 727.845 1543.18 Z\" fill=\"#000000\" fill-rule=\"evenodd\" fill-opacity=\"1\" /><path clip-path=\"url(#clip220)\" d=\"M 0 0 M754.025 1512.56 L772.382 1512.56 L772.382 1516.5 L758.308 1516.5 L758.308 1524.97 Q759.326 1524.62 760.345 1524.46 Q761.363 1524.27 762.382 1524.27 Q768.169 1524.27 771.548 1527.44 Q774.928 1530.62 774.928 1536.03 Q774.928 1541.61 771.456 1544.71 Q767.984 1547.79 761.664 1547.79 Q759.488 1547.79 757.22 1547.42 Q754.974 1547.05 752.567 1546.31 L752.567 1541.61 Q754.65 1542.74 756.872 1543.3 Q759.095 1543.86 761.572 1543.86 Q765.576 1543.86 767.914 1541.75 Q770.252 1539.64 770.252 1536.03 Q770.252 1532.42 767.914 1530.31 Q765.576 1528.21 761.572 1528.21 Q759.697 1528.21 757.822 1528.62 Q755.97 1529.04 754.025 1529.92 L754.025 1512.56 Z\" fill=\"#000000\" fill-rule=\"evenodd\" fill-opacity=\"1\" /><path clip-path=\"url(#clip220)\" d=\"M 0 0 M1216.74 1515.64 Q1213.13 1515.64 1211.3 1519.2 Q1209.49 1522.75 1209.49 1529.87 Q1209.49 1536.98 1211.3 1540.55 Q1213.13 1544.09 1216.74 1544.09 Q1220.37 1544.09 1222.18 1540.55 Q1224.01 1536.98 1224.01 1529.87 Q1224.01 1522.75 1222.18 1519.2 Q1220.37 1515.64 1216.74 1515.64 M1216.74 1511.93 Q1222.55 1511.93 1225.6 1516.54 Q1228.68 1521.12 1228.68 1529.87 Q1228.68 1538.6 1225.6 1543.21 Q1222.55 1547.79 1216.74 1547.79 Q1210.93 1547.79 1207.85 1543.21 Q1204.79 1538.6 1204.79 1529.87 Q1204.79 1521.12 1207.85 1516.54 Q1210.93 1511.93 1216.74 1511.93 Z\" fill=\"#000000\" fill-rule=\"evenodd\" fill-opacity=\"1\" /><path clip-path=\"url(#clip220)\" d=\"M 0 0 M1236.9 1541.24 L1241.78 1541.24 L1241.78 1547.12 L1236.9 1547.12 L1236.9 1541.24 Z\" fill=\"#000000\" fill-rule=\"evenodd\" fill-opacity=\"1\" /><path clip-path=\"url(#clip220)\" d=\"M 0 0 M1252.02 1512.56 L1270.37 1512.56 L1270.37 1516.5 L1256.3 1516.5 L1256.3 1524.97 Q1257.32 1524.62 1258.33 1524.46 Q1259.35 1524.27 1260.37 1524.27 Q1266.16 1524.27 1269.54 1527.44 Q1272.92 1530.62 1272.92 1536.03 Q1272.92 1541.61 1269.45 1544.71 Q1265.97 1547.79 1259.65 1547.79 Q1257.48 1547.79 1255.21 1547.42 Q1252.96 1547.05 1250.56 1546.31 L1250.56 1541.61 Q1252.64 1542.74 1254.86 1543.3 Q1257.08 1543.86 1259.56 1543.86 Q1263.57 1543.86 1265.9 1541.75 Q1268.24 1539.64 1268.24 1536.03 Q1268.24 1532.42 1265.9 1530.31 Q1263.57 1528.21 1259.56 1528.21 Q1257.69 1528.21 1255.81 1528.62 Q1253.96 1529.04 1252.02 1529.92 L1252.02 1512.56 Z\" fill=\"#000000\" fill-rule=\"evenodd\" fill-opacity=\"1\" /><path clip-path=\"url(#clip220)\" d=\"M 0 0 M1292.13 1515.64 Q1288.52 1515.64 1286.69 1519.2 Q1284.89 1522.75 1284.89 1529.87 Q1284.89 1536.98 1286.69 1540.55 Q1288.52 1544.09 1292.13 1544.09 Q1295.76 1544.09 1297.57 1540.55 Q1299.4 1536.98 1299.4 1529.87 Q1299.4 1522.75 1297.57 1519.2 Q1295.76 1515.64 1292.13 1515.64 M1292.13 1511.93 Q1297.94 1511.93 1301 1516.54 Q1304.07 1521.12 1304.07 1529.87 Q1304.07 1538.6 1301 1543.21 Q1297.94 1547.79 1292.13 1547.79 Q1286.32 1547.79 1283.24 1543.21 Q1280.19 1538.6 1280.19 1529.87 Q1280.19 1521.12 1283.24 1516.54 Q1286.32 1511.93 1292.13 1511.93 Z\" fill=\"#000000\" fill-rule=\"evenodd\" fill-opacity=\"1\" /><path clip-path=\"url(#clip220)\" d=\"M 0 0 M1745.88 1515.64 Q1742.27 1515.64 1740.44 1519.2 Q1738.64 1522.75 1738.64 1529.87 Q1738.64 1536.98 1740.44 1540.55 Q1742.27 1544.09 1745.88 1544.09 Q1749.52 1544.09 1751.32 1540.55 Q1753.15 1536.98 1753.15 1529.87 Q1753.15 1522.75 1751.32 1519.2 Q1749.52 1515.64 1745.88 1515.64 M1745.88 1511.93 Q1751.69 1511.93 1754.75 1516.54 Q1757.83 1521.12 1757.83 1529.87 Q1757.83 1538.6 1754.75 1543.21 Q1751.69 1547.79 1745.88 1547.79 Q1740.07 1547.79 1737 1543.21 Q1733.94 1538.6 1733.94 1529.87 Q1733.94 1521.12 1737 1516.54 Q1740.07 1511.93 1745.88 1511.93 Z\" fill=\"#000000\" fill-rule=\"evenodd\" fill-opacity=\"1\" /><path clip-path=\"url(#clip220)\" d=\"M 0 0 M1766.05 1541.24 L1770.93 1541.24 L1770.93 1547.12 L1766.05 1547.12 L1766.05 1541.24 Z\" fill=\"#000000\" fill-rule=\"evenodd\" fill-opacity=\"1\" /><path clip-path=\"url(#clip220)\" d=\"M 0 0 M1779.94 1512.56 L1802.16 1512.56 L1802.16 1514.55 L1789.61 1547.12 L1784.73 1547.12 L1796.53 1516.5 L1779.94 1516.5 L1779.94 1512.56 Z\" fill=\"#000000\" fill-rule=\"evenodd\" fill-opacity=\"1\" /><path clip-path=\"url(#clip220)\" d=\"M 0 0 M1811.32 1512.56 L1829.68 1512.56 L1829.68 1516.5 L1815.61 1516.5 L1815.61 1524.97 Q1816.62 1524.62 1817.64 1524.46 Q1818.66 1524.27 1819.68 1524.27 Q1825.47 1524.27 1828.85 1527.44 Q1832.23 1530.62 1832.23 1536.03 Q1832.23 1541.61 1828.75 1544.71 Q1825.28 1547.79 1818.96 1547.79 Q1816.79 1547.79 1814.52 1547.42 Q1812.27 1547.05 1809.87 1546.31 L1809.87 1541.61 Q1811.95 1542.74 1814.17 1543.3 Q1816.39 1543.86 1818.87 1543.86 Q1822.87 1543.86 1825.21 1541.75 Q1827.55 1539.64 1827.55 1536.03 Q1827.55 1532.42 1825.21 1530.31 Q1822.87 1528.21 1818.87 1528.21 Q1817 1528.21 1815.12 1528.62 Q1813.27 1529.04 1811.32 1529.92 L1811.32 1512.56 Z\" fill=\"#000000\" fill-rule=\"evenodd\" fill-opacity=\"1\" /><path clip-path=\"url(#clip220)\" d=\"M 0 0 M2263.8 1543.18 L2271.44 1543.18 L2271.44 1516.82 L2263.13 1518.49 L2263.13 1514.23 L2271.4 1512.56 L2276.07 1512.56 L2276.07 1543.18 L2283.71 1543.18 L2283.71 1547.12 L2263.8 1547.12 L2263.8 1543.18 Z\" fill=\"#000000\" fill-rule=\"evenodd\" fill-opacity=\"1\" /><path clip-path=\"url(#clip220)\" d=\"M 0 0 M2293.16 1541.24 L2298.04 1541.24 L2298.04 1547.12 L2293.16 1547.12 L2293.16 1541.24 Z\" fill=\"#000000\" fill-rule=\"evenodd\" fill-opacity=\"1\" /><path clip-path=\"url(#clip220)\" d=\"M 0 0 M2318.23 1515.64 Q2314.61 1515.64 2312.79 1519.2 Q2310.98 1522.75 2310.98 1529.87 Q2310.98 1536.98 2312.79 1540.55 Q2314.61 1544.09 2318.23 1544.09 Q2321.86 1544.09 2323.67 1540.55 Q2325.49 1536.98 2325.49 1529.87 Q2325.49 1522.75 2323.67 1519.2 Q2321.86 1515.64 2318.23 1515.64 M2318.23 1511.93 Q2324.04 1511.93 2327.09 1516.54 Q2330.17 1521.12 2330.17 1529.87 Q2330.17 1538.6 2327.09 1543.21 Q2324.04 1547.79 2318.23 1547.79 Q2312.42 1547.79 2309.34 1543.21 Q2306.28 1538.6 2306.28 1529.87 Q2306.28 1521.12 2309.34 1516.54 Q2312.42 1511.93 2318.23 1511.93 Z\" fill=\"#000000\" fill-rule=\"evenodd\" fill-opacity=\"1\" /><path clip-path=\"url(#clip220)\" d=\"M 0 0 M2348.39 1515.64 Q2344.78 1515.64 2342.95 1519.2 Q2341.14 1522.75 2341.14 1529.87 Q2341.14 1536.98 2342.95 1540.55 Q2344.78 1544.09 2348.39 1544.09 Q2352.02 1544.09 2353.83 1540.55 Q2355.66 1536.98 2355.66 1529.87 Q2355.66 1522.75 2353.83 1519.2 Q2352.02 1515.64 2348.39 1515.64 M2348.39 1511.93 Q2354.2 1511.93 2357.25 1516.54 Q2360.33 1521.12 2360.33 1529.87 Q2360.33 1538.6 2357.25 1543.21 Q2354.2 1547.79 2348.39 1547.79 Q2342.58 1547.79 2339.5 1543.21 Q2336.44 1538.6 2336.44 1529.87 Q2336.44 1521.12 2339.5 1516.54 Q2342.58 1511.93 2348.39 1511.93 Z\" fill=\"#000000\" fill-rule=\"evenodd\" fill-opacity=\"1\" /><polyline clip-path=\"url(#clip222)\" style=\"stroke:#000000; stroke-width:2; stroke-opacity:0.1; fill:none\" points=\"\n",
       "  156.112,1445.72 2352.76,1445.72 \n",
       "  \"/>\n",
       "<polyline clip-path=\"url(#clip222)\" style=\"stroke:#000000; stroke-width:2; stroke-opacity:0.1; fill:none\" points=\"\n",
       "  156.112,1083.63 2352.76,1083.63 \n",
       "  \"/>\n",
       "<polyline clip-path=\"url(#clip222)\" style=\"stroke:#000000; stroke-width:2; stroke-opacity:0.1; fill:none\" points=\"\n",
       "  156.112,721.55 2352.76,721.55 \n",
       "  \"/>\n",
       "<polyline clip-path=\"url(#clip222)\" style=\"stroke:#000000; stroke-width:2; stroke-opacity:0.1; fill:none\" points=\"\n",
       "  156.112,359.467 2352.76,359.467 \n",
       "  \"/>\n",
       "<polyline clip-path=\"url(#clip220)\" style=\"stroke:#000000; stroke-width:4; stroke-opacity:1; fill:none\" points=\"\n",
       "  156.112,1486.45 156.112,47.2441 \n",
       "  \"/>\n",
       "<polyline clip-path=\"url(#clip220)\" style=\"stroke:#000000; stroke-width:4; stroke-opacity:1; fill:none\" points=\"\n",
       "  156.112,1445.72 182.472,1445.72 \n",
       "  \"/>\n",
       "<polyline clip-path=\"url(#clip220)\" style=\"stroke:#000000; stroke-width:4; stroke-opacity:1; fill:none\" points=\"\n",
       "  156.112,1083.63 182.472,1083.63 \n",
       "  \"/>\n",
       "<polyline clip-path=\"url(#clip220)\" style=\"stroke:#000000; stroke-width:4; stroke-opacity:1; fill:none\" points=\"\n",
       "  156.112,721.55 182.472,721.55 \n",
       "  \"/>\n",
       "<polyline clip-path=\"url(#clip220)\" style=\"stroke:#000000; stroke-width:4; stroke-opacity:1; fill:none\" points=\"\n",
       "  156.112,359.467 182.472,359.467 \n",
       "  \"/>\n",
       "<path clip-path=\"url(#clip220)\" d=\"M 0 0 M62.9365 1431.51 Q59.3254 1431.51 57.4967 1435.08 Q55.6912 1438.62 55.6912 1445.75 Q55.6912 1452.86 57.4967 1456.42 Q59.3254 1459.96 62.9365 1459.96 Q66.5707 1459.96 68.3763 1456.42 Q70.205 1452.86 70.205 1445.75 Q70.205 1438.62 68.3763 1435.08 Q66.5707 1431.51 62.9365 1431.51 M62.9365 1427.81 Q68.7467 1427.81 71.8022 1432.42 Q74.8809 1437 74.8809 1445.75 Q74.8809 1454.48 71.8022 1459.08 Q68.7467 1463.67 62.9365 1463.67 Q57.1264 1463.67 54.0477 1459.08 Q50.9921 1454.48 50.9921 1445.75 Q50.9921 1437 54.0477 1432.42 Q57.1264 1427.81 62.9365 1427.81 Z\" fill=\"#000000\" fill-rule=\"evenodd\" fill-opacity=\"1\" /><path clip-path=\"url(#clip220)\" d=\"M 0 0 M83.0984 1457.12 L87.9827 1457.12 L87.9827 1463 L83.0984 1463 L83.0984 1457.12 Z\" fill=\"#000000\" fill-rule=\"evenodd\" fill-opacity=\"1\" /><path clip-path=\"url(#clip220)\" d=\"M 0 0 M108.168 1431.51 Q104.557 1431.51 102.728 1435.08 Q100.922 1438.62 100.922 1445.75 Q100.922 1452.86 102.728 1456.42 Q104.557 1459.96 108.168 1459.96 Q111.802 1459.96 113.608 1456.42 Q115.436 1452.86 115.436 1445.75 Q115.436 1438.62 113.608 1435.08 Q111.802 1431.51 108.168 1431.51 M108.168 1427.81 Q113.978 1427.81 117.033 1432.42 Q120.112 1437 120.112 1445.75 Q120.112 1454.48 117.033 1459.08 Q113.978 1463.67 108.168 1463.67 Q102.358 1463.67 99.2789 1459.08 Q96.2234 1454.48 96.2234 1445.75 Q96.2234 1437 99.2789 1432.42 Q102.358 1427.81 108.168 1427.81 Z\" fill=\"#000000\" fill-rule=\"evenodd\" fill-opacity=\"1\" /><path clip-path=\"url(#clip220)\" d=\"M 0 0 M64.1634 1069.43 Q60.5523 1069.43 58.7236 1073 Q56.918 1076.54 56.918 1083.67 Q56.918 1090.77 58.7236 1094.34 Q60.5523 1097.88 64.1634 1097.88 Q67.7976 1097.88 69.6031 1094.34 Q71.4318 1090.77 71.4318 1083.67 Q71.4318 1076.54 69.6031 1073 Q67.7976 1069.43 64.1634 1069.43 M64.1634 1065.73 Q69.9735 1065.73 73.029 1070.33 Q76.1077 1074.92 76.1077 1083.67 Q76.1077 1092.39 73.029 1097 Q69.9735 1101.58 64.1634 1101.58 Q58.3532 1101.58 55.2745 1097 Q52.219 1092.39 52.219 1083.67 Q52.219 1074.92 55.2745 1070.33 Q58.3532 1065.73 64.1634 1065.73 Z\" fill=\"#000000\" fill-rule=\"evenodd\" fill-opacity=\"1\" /><path clip-path=\"url(#clip220)\" d=\"M 0 0 M84.3253 1095.03 L89.2095 1095.03 L89.2095 1100.91 L84.3253 1100.91 L84.3253 1095.03 Z\" fill=\"#000000\" fill-rule=\"evenodd\" fill-opacity=\"1\" /><path clip-path=\"url(#clip220)\" d=\"M 0 0 M100.205 1096.98 L107.844 1096.98 L107.844 1070.61 L99.5335 1072.28 L99.5335 1068.02 L107.797 1066.35 L112.473 1066.35 L112.473 1096.98 L120.112 1096.98 L120.112 1100.91 L100.205 1100.91 L100.205 1096.98 Z\" fill=\"#000000\" fill-rule=\"evenodd\" fill-opacity=\"1\" /><path clip-path=\"url(#clip220)\" d=\"M 0 0 M64.5337 707.348 Q60.9226 707.348 59.0939 710.913 Q57.2884 714.455 57.2884 721.584 Q57.2884 728.691 59.0939 732.256 Q60.9226 735.797 64.5337 735.797 Q68.168 735.797 69.9735 732.256 Q71.8022 728.691 71.8022 721.584 Q71.8022 714.455 69.9735 710.913 Q68.168 707.348 64.5337 707.348 M64.5337 703.645 Q70.3439 703.645 73.3994 708.251 Q76.4781 712.834 76.4781 721.584 Q76.4781 730.311 73.3994 734.918 Q70.3439 739.501 64.5337 739.501 Q58.7236 739.501 55.6449 734.918 Q52.5893 730.311 52.5893 721.584 Q52.5893 712.834 55.6449 708.251 Q58.7236 703.645 64.5337 703.645 Z\" fill=\"#000000\" fill-rule=\"evenodd\" fill-opacity=\"1\" /><path clip-path=\"url(#clip220)\" d=\"M 0 0 M84.6956 732.95 L89.5799 732.95 L89.5799 738.83 L84.6956 738.83 L84.6956 732.95 Z\" fill=\"#000000\" fill-rule=\"evenodd\" fill-opacity=\"1\" /><path clip-path=\"url(#clip220)\" d=\"M 0 0 M103.793 734.895 L120.112 734.895 L120.112 738.83 L98.1678 738.83 L98.1678 734.895 Q100.83 732.14 105.413 727.51 Q110.02 722.858 111.2 721.515 Q113.445 718.992 114.325 717.256 Q115.228 715.496 115.228 713.807 Q115.228 711.052 113.283 709.316 Q111.362 707.58 108.26 707.58 Q106.061 707.58 103.608 708.344 Q101.177 709.108 98.3993 710.659 L98.3993 705.936 Q101.223 704.802 103.677 704.223 Q106.131 703.645 108.168 703.645 Q113.538 703.645 116.733 706.33 Q119.927 709.015 119.927 713.506 Q119.927 715.635 119.117 717.557 Q118.33 719.455 116.223 722.047 Q115.645 722.719 112.543 725.936 Q109.441 729.131 103.793 734.895 Z\" fill=\"#000000\" fill-rule=\"evenodd\" fill-opacity=\"1\" /><path clip-path=\"url(#clip220)\" d=\"M 0 0 M63.5847 345.265 Q59.9736 345.265 58.1449 348.83 Q56.3393 352.372 56.3393 359.501 Q56.3393 366.608 58.1449 370.173 Q59.9736 373.714 63.5847 373.714 Q67.2189 373.714 69.0244 370.173 Q70.8531 366.608 70.8531 359.501 Q70.8531 352.372 69.0244 348.83 Q67.2189 345.265 63.5847 345.265 M63.5847 341.562 Q69.3948 341.562 72.4503 346.168 Q75.529 350.751 75.529 359.501 Q75.529 368.228 72.4503 372.835 Q69.3948 377.418 63.5847 377.418 Q57.7745 377.418 54.6958 372.835 Q51.6403 368.228 51.6403 359.501 Q51.6403 350.751 54.6958 346.168 Q57.7745 341.562 63.5847 341.562 Z\" fill=\"#000000\" fill-rule=\"evenodd\" fill-opacity=\"1\" /><path clip-path=\"url(#clip220)\" d=\"M 0 0 M83.7466 370.867 L88.6308 370.867 L88.6308 376.747 L83.7466 376.747 L83.7466 370.867 Z\" fill=\"#000000\" fill-rule=\"evenodd\" fill-opacity=\"1\" /><path clip-path=\"url(#clip220)\" d=\"M 0 0 M112.983 358.113 Q116.339 358.83 118.214 361.099 Q120.112 363.367 120.112 366.7 Q120.112 371.816 116.594 374.617 Q113.075 377.418 106.594 377.418 Q104.418 377.418 102.103 376.978 Q99.8113 376.562 97.3576 375.705 L97.3576 371.191 Q99.3021 372.325 101.617 372.904 Q103.932 373.483 106.455 373.483 Q110.853 373.483 113.145 371.747 Q115.459 370.011 115.459 366.7 Q115.459 363.645 113.307 361.932 Q111.177 360.196 107.358 360.196 L103.33 360.196 L103.33 356.353 L107.543 356.353 Q110.992 356.353 112.82 354.988 Q114.649 353.599 114.649 351.006 Q114.649 348.344 112.751 346.932 Q110.876 345.497 107.358 345.497 Q105.436 345.497 103.237 345.914 Q101.038 346.33 98.3993 347.21 L98.3993 343.043 Q101.061 342.302 103.376 341.932 Q105.714 341.562 107.774 341.562 Q113.098 341.562 116.2 343.992 Q119.302 346.4 119.302 350.52 Q119.302 353.39 117.658 355.381 Q116.015 357.349 112.983 358.113 Z\" fill=\"#000000\" fill-rule=\"evenodd\" fill-opacity=\"1\" /><polyline clip-path=\"url(#clip222)\" style=\"stroke:#009af9; stroke-width:4; stroke-opacity:1; fill:none\" points=\"\n",
       "  218.281,1445.72 238.519,1445.72 425.646,1445.72 538.102,1445.72 633.182,1445.72 659.003,1445.72 684.824,1445.72 697.734,1445.72 710.645,1445.72 717.1,1445.72 \n",
       "  723.555,1445.72 730.01,1417 736.465,1374.02 748.368,1297.49 760.27,1224.39 772.172,1154.57 784.074,1087.93 807.879,963.73 831.684,850.911 857.204,741.694 \n",
       "  882.725,643.742 908.246,556.22 933.767,478.366 963.336,399.326 992.905,331.316 1022.47,273.419 1052.04,224.804 1078.32,188.772 1104.6,158.978 1130.87,134.968 \n",
       "  1157.15,116.324 1203.24,95.4283 1249.32,87.9763 1299.57,93.2408 1349.81,110.666 1400.35,138.826 1450.9,176.218 1506.78,226.805 1562.66,285.686 1615.83,348.256 \n",
       "  1669.01,416.246 1779.58,571.536 1872.65,713.289 1986.29,895.745 2093.11,1073.42 2264.25,1364.43 2290.59,1409.51 \n",
       "  \"/>\n",
       "<path clip-path=\"url(#clip220)\" d=\"\n",
       "M1983.03 216.178 L2279.53 216.178 L2279.53 95.2176 L1983.03 95.2176  Z\n",
       "  \" fill=\"#ffffff\" fill-rule=\"evenodd\" fill-opacity=\"1\"/>\n",
       "<polyline clip-path=\"url(#clip220)\" style=\"stroke:#000000; stroke-width:4; stroke-opacity:1; fill:none\" points=\"\n",
       "  1983.03,216.178 2279.53,216.178 2279.53,95.2176 1983.03,95.2176 1983.03,216.178 \n",
       "  \"/>\n",
       "<polyline clip-path=\"url(#clip220)\" style=\"stroke:#009af9; stroke-width:4; stroke-opacity:1; fill:none\" points=\"\n",
       "  2007.44,155.698 2153.88,155.698 \n",
       "  \"/>\n",
       "<path clip-path=\"url(#clip220)\" d=\"M 0 0 M2192.13 175.385 Q2190.33 180.015 2188.61 181.427 Q2186.9 182.839 2184.03 182.839 L2180.63 182.839 L2180.63 179.274 L2183.13 179.274 Q2184.89 179.274 2185.86 178.44 Q2186.83 177.607 2188.01 174.505 L2188.78 172.561 L2178.29 147.052 L2182.8 147.052 L2190.91 167.329 L2199.01 147.052 L2203.52 147.052 L2192.13 175.385 Z\" fill=\"#000000\" fill-rule=\"evenodd\" fill-opacity=\"1\" /><path clip-path=\"url(#clip220)\" d=\"M 0 0 M2210.81 169.042 L2218.45 169.042 L2218.45 142.677 L2210.14 144.343 L2210.14 140.084 L2218.41 138.418 L2223.08 138.418 L2223.08 169.042 L2230.72 169.042 L2230.72 172.978 L2210.81 172.978 L2210.81 169.042 Z\" fill=\"#000000\" fill-rule=\"evenodd\" fill-opacity=\"1\" /></svg>\n"
      ]
     },
     "execution_count": 7,
     "metadata": {},
     "output_type": "execute_result"
    }
   ],
   "source": [
    "using Plots\n",
    "plot(profit(w_2 => 1/2,y_1 => 1),.01,.99)"
   ]
  },
  {
   "cell_type": "markdown",
   "id": "121bfb60-832f-4962-be3e-ffa6d94a1fbf",
   "metadata": {},
   "source": [
    "This is a very nicely behaved profit function with a single peak, at least when $w_2 = \\frac{1}{2}$.  However, notice that it isn't differentiable.  To the extent that differentriating a non differentiable function works, you will still end up with a continuum of solutions, including all the wages below $.25$ as solutions to the first order condition. You can experiment with this plot by re-assigning values to $w_2$  and $y_1$.  Doing so will give you a better feel for how the profit function behaves.\n",
    "\n",
    "We are looking for the best profit. The picture says that this is attained well within the region where the profit function is differentiable. So lets reconstruct the profit function so that it uses the formula for $\\pi$ that is free of the $\\max$ and $\\min$ operators."
   ]
  },
  {
   "cell_type": "code",
   "execution_count": 8,
   "id": "756b2d0c-e240-4e5f-ac19-fc12c290de38",
   "metadata": {},
   "outputs": [
    {
     "data": {
      "text/latex": [
       "$\\begin{equation*}\\left(1 - \\frac{2 w_{1} - w_{2}}{w_{1} + w_{2}}\\right)^{2} - \\left(1 - \\frac{2 w_{1} - w_{2}}{w_{1} + w_{2}}\\right) \\left(- w_{1} + y_{1}\\right) \\left(- \\frac{4}{w_{1} + w_{2}} + \\frac{2 \\left(2 w_{1} - w_{2}\\right)}{\\left(w_{1} + w_{2}\\right)^{2}}\\right) - 1\\end{equation*}$\n"
      ],
      "text/plain": [
       "               2                                                             \n",
       "⎛    2⋅w₁ - w₂⎞    ⎛    2⋅w₁ - w₂⎞            ⎛     4      2⋅(2⋅w₁ - w₂)⎞    \n",
       "⎜1 - ─────────⎟  - ⎜1 - ─────────⎟⋅(-w₁ + y₁)⋅⎜- ─────── + ─────────────⎟ - 1\n",
       "⎝     w₁ + w₂ ⎠    ⎝     w₁ + w₂ ⎠            ⎜  w₁ + w₂              2 ⎟    \n",
       "                                              ⎝              (w₁ + w₂)  ⎠    "
      ]
     },
     "execution_count": 8,
     "metadata": {},
     "output_type": "execute_result"
    }
   ],
   "source": [
    "profit_simp = (1-(1-prob_simp)^2)*(y_1-w_1)\n",
    "dprofit = diff(profit_simp, w_1)"
   ]
  },
  {
   "cell_type": "markdown",
   "id": "6bf73485-56a0-4bc6-9116-94c6439cf82c",
   "metadata": {},
   "source": [
    "Now we can find another famous idea in game theory - the best reply function:"
   ]
  },
  {
   "cell_type": "code",
   "execution_count": 9,
   "id": "ff8976d1-e905-40b6-8c77-0da5c0dc4069",
   "metadata": {},
   "outputs": [
    {
     "data": {
      "text/latex": [
       "$\\begin{equation*}\\frac{w_{2} \\left(w_{2} + 4 y_{1}\\right)}{5 w_{2} + 2 y_{1}}\\end{equation*}$\n"
      ],
      "text/plain": [
       "w₂⋅(w₂ + 4⋅y₁)\n",
       "──────────────\n",
       " 5⋅w₂ + 2⋅y₁  "
      ]
     },
     "execution_count": 9,
     "metadata": {},
     "output_type": "execute_result"
    }
   ],
   "source": [
    "BR = solve(dprofit,w_1)[1]"
   ]
  },
  {
   "cell_type": "code",
   "execution_count": 10,
   "id": "2dfef806-6d35-441d-8ac3-f6cb632cc4a5",
   "metadata": {},
   "outputs": [
    {
     "data": {
      "image/svg+xml": [
       "<?xml version=\"1.0\" encoding=\"utf-8\"?>\n",
       "<svg xmlns=\"http://www.w3.org/2000/svg\" xmlns:xlink=\"http://www.w3.org/1999/xlink\" width=\"600\" height=\"400\" viewBox=\"0 0 2400 1600\">\n",
       "<defs>\n",
       "  <clipPath id=\"clip260\">\n",
       "    <rect x=\"0\" y=\"0\" width=\"2400\" height=\"1600\"/>\n",
       "  </clipPath>\n",
       "</defs>\n",
       "<path clip-path=\"url(#clip260)\" d=\"\n",
       "M0 1600 L2400 1600 L2400 0 L0 0  Z\n",
       "  \" fill=\"#ffffff\" fill-rule=\"evenodd\" fill-opacity=\"1\"/>\n",
       "<defs>\n",
       "  <clipPath id=\"clip261\">\n",
       "    <rect x=\"480\" y=\"0\" width=\"1681\" height=\"1600\"/>\n",
       "  </clipPath>\n",
       "</defs>\n",
       "<path clip-path=\"url(#clip260)\" d=\"\n",
       "M156.598 1486.45 L2352.76 1486.45 L2352.76 47.2441 L156.598 47.2441  Z\n",
       "  \" fill=\"#ffffff\" fill-rule=\"evenodd\" fill-opacity=\"1\"/>\n",
       "<defs>\n",
       "  <clipPath id=\"clip262\">\n",
       "    <rect x=\"156\" y=\"47\" width=\"2197\" height=\"1440\"/>\n",
       "  </clipPath>\n",
       "</defs>\n",
       "<polyline clip-path=\"url(#clip262)\" style=\"stroke:#000000; stroke-width:2; stroke-opacity:0.1; fill:none\" points=\"\n",
       "  451.545,1486.45 451.545,47.2441 \n",
       "  \"/>\n",
       "<polyline clip-path=\"url(#clip262)\" style=\"stroke:#000000; stroke-width:2; stroke-opacity:0.1; fill:none\" points=\"\n",
       "  917.129,1486.45 917.129,47.2441 \n",
       "  \"/>\n",
       "<polyline clip-path=\"url(#clip262)\" style=\"stroke:#000000; stroke-width:2; stroke-opacity:0.1; fill:none\" points=\"\n",
       "  1382.71,1486.45 1382.71,47.2441 \n",
       "  \"/>\n",
       "<polyline clip-path=\"url(#clip262)\" style=\"stroke:#000000; stroke-width:2; stroke-opacity:0.1; fill:none\" points=\"\n",
       "  1848.3,1486.45 1848.3,47.2441 \n",
       "  \"/>\n",
       "<polyline clip-path=\"url(#clip262)\" style=\"stroke:#000000; stroke-width:2; stroke-opacity:0.1; fill:none\" points=\"\n",
       "  2313.88,1486.45 2313.88,47.2441 \n",
       "  \"/>\n",
       "<polyline clip-path=\"url(#clip260)\" style=\"stroke:#000000; stroke-width:4; stroke-opacity:1; fill:none\" points=\"\n",
       "  156.598,1486.45 2352.76,1486.45 \n",
       "  \"/>\n",
       "<polyline clip-path=\"url(#clip260)\" style=\"stroke:#000000; stroke-width:4; stroke-opacity:1; fill:none\" points=\"\n",
       "  451.545,1486.45 451.545,1469.18 \n",
       "  \"/>\n",
       "<polyline clip-path=\"url(#clip260)\" style=\"stroke:#000000; stroke-width:4; stroke-opacity:1; fill:none\" points=\"\n",
       "  917.129,1486.45 917.129,1469.18 \n",
       "  \"/>\n",
       "<polyline clip-path=\"url(#clip260)\" style=\"stroke:#000000; stroke-width:4; stroke-opacity:1; fill:none\" points=\"\n",
       "  1382.71,1486.45 1382.71,1469.18 \n",
       "  \"/>\n",
       "<polyline clip-path=\"url(#clip260)\" style=\"stroke:#000000; stroke-width:4; stroke-opacity:1; fill:none\" points=\"\n",
       "  1848.3,1486.45 1848.3,1469.18 \n",
       "  \"/>\n",
       "<polyline clip-path=\"url(#clip260)\" style=\"stroke:#000000; stroke-width:4; stroke-opacity:1; fill:none\" points=\"\n",
       "  2313.88,1486.45 2313.88,1469.18 \n",
       "  \"/>\n",
       "<path clip-path=\"url(#clip260)\" d=\"M 0 0 M429.728 1515.64 Q426.117 1515.64 424.289 1519.2 Q422.483 1522.75 422.483 1529.87 Q422.483 1536.98 424.289 1540.55 Q426.117 1544.09 429.728 1544.09 Q433.363 1544.09 435.168 1540.55 Q436.997 1536.98 436.997 1529.87 Q436.997 1522.75 435.168 1519.2 Q433.363 1515.64 429.728 1515.64 M429.728 1511.93 Q435.539 1511.93 438.594 1516.54 Q441.673 1521.12 441.673 1529.87 Q441.673 1538.6 438.594 1543.21 Q435.539 1547.79 429.728 1547.79 Q423.918 1547.79 420.84 1543.21 Q417.784 1538.6 417.784 1529.87 Q417.784 1521.12 420.84 1516.54 Q423.918 1511.93 429.728 1511.93 Z\" fill=\"#000000\" fill-rule=\"evenodd\" fill-opacity=\"1\" /><path clip-path=\"url(#clip260)\" d=\"M 0 0 M449.89 1541.24 L454.775 1541.24 L454.775 1547.12 L449.89 1547.12 L449.89 1541.24 Z\" fill=\"#000000\" fill-rule=\"evenodd\" fill-opacity=\"1\" /><path clip-path=\"url(#clip260)\" d=\"M 0 0 M468.987 1543.18 L485.307 1543.18 L485.307 1547.12 L463.362 1547.12 L463.362 1543.18 Q466.025 1540.43 470.608 1535.8 Q475.214 1531.15 476.395 1529.81 Q478.64 1527.28 479.52 1525.55 Q480.423 1523.79 480.423 1522.1 Q480.423 1519.34 478.478 1517.61 Q476.557 1515.87 473.455 1515.87 Q471.256 1515.87 468.802 1516.63 Q466.372 1517.4 463.594 1518.95 L463.594 1514.23 Q466.418 1513.09 468.872 1512.51 Q471.325 1511.93 473.362 1511.93 Q478.733 1511.93 481.927 1514.62 Q485.122 1517.31 485.122 1521.8 Q485.122 1523.93 484.311 1525.85 Q483.524 1527.74 481.418 1530.34 Q480.839 1531.01 477.737 1534.23 Q474.636 1537.42 468.987 1543.18 Z\" fill=\"#000000\" fill-rule=\"evenodd\" fill-opacity=\"1\" /><path clip-path=\"url(#clip260)\" d=\"M 0 0 M894.27 1515.64 Q890.659 1515.64 888.831 1519.2 Q887.025 1522.75 887.025 1529.87 Q887.025 1536.98 888.831 1540.55 Q890.659 1544.09 894.27 1544.09 Q897.905 1544.09 899.71 1540.55 Q901.539 1536.98 901.539 1529.87 Q901.539 1522.75 899.71 1519.2 Q897.905 1515.64 894.27 1515.64 M894.27 1511.93 Q900.08 1511.93 903.136 1516.54 Q906.215 1521.12 906.215 1529.87 Q906.215 1538.6 903.136 1543.21 Q900.08 1547.79 894.27 1547.79 Q888.46 1547.79 885.381 1543.21 Q882.326 1538.6 882.326 1529.87 Q882.326 1521.12 885.381 1516.54 Q888.46 1511.93 894.27 1511.93 Z\" fill=\"#000000\" fill-rule=\"evenodd\" fill-opacity=\"1\" /><path clip-path=\"url(#clip260)\" d=\"M 0 0 M914.432 1541.24 L919.316 1541.24 L919.316 1547.12 L914.432 1547.12 L914.432 1541.24 Z\" fill=\"#000000\" fill-rule=\"evenodd\" fill-opacity=\"1\" /><path clip-path=\"url(#clip260)\" d=\"M 0 0 M942.349 1516.63 L930.543 1535.08 L942.349 1535.08 L942.349 1516.63 M941.122 1512.56 L947.002 1512.56 L947.002 1535.08 L951.932 1535.08 L951.932 1538.97 L947.002 1538.97 L947.002 1547.12 L942.349 1547.12 L942.349 1538.97 L926.747 1538.97 L926.747 1534.46 L941.122 1512.56 Z\" fill=\"#000000\" fill-rule=\"evenodd\" fill-opacity=\"1\" /><path clip-path=\"url(#clip260)\" d=\"M 0 0 M1360.02 1515.64 Q1356.4 1515.64 1354.58 1519.2 Q1352.77 1522.75 1352.77 1529.87 Q1352.77 1536.98 1354.58 1540.55 Q1356.4 1544.09 1360.02 1544.09 Q1363.65 1544.09 1365.46 1540.55 Q1367.28 1536.98 1367.28 1529.87 Q1367.28 1522.75 1365.46 1519.2 Q1363.65 1515.64 1360.02 1515.64 M1360.02 1511.93 Q1365.83 1511.93 1368.88 1516.54 Q1371.96 1521.12 1371.96 1529.87 Q1371.96 1538.6 1368.88 1543.21 Q1365.83 1547.79 1360.02 1547.79 Q1354.21 1547.79 1351.13 1543.21 Q1348.07 1538.6 1348.07 1529.87 Q1348.07 1521.12 1351.13 1516.54 Q1354.21 1511.93 1360.02 1511.93 Z\" fill=\"#000000\" fill-rule=\"evenodd\" fill-opacity=\"1\" /><path clip-path=\"url(#clip260)\" d=\"M 0 0 M1380.18 1541.24 L1385.06 1541.24 L1385.06 1547.12 L1380.18 1547.12 L1380.18 1541.24 Z\" fill=\"#000000\" fill-rule=\"evenodd\" fill-opacity=\"1\" /><path clip-path=\"url(#clip260)\" d=\"M 0 0 M1405.83 1527.98 Q1402.68 1527.98 1400.83 1530.13 Q1399 1532.28 1399 1536.03 Q1399 1539.76 1400.83 1541.93 Q1402.68 1544.09 1405.83 1544.09 Q1408.97 1544.09 1410.8 1541.93 Q1412.65 1539.76 1412.65 1536.03 Q1412.65 1532.28 1410.8 1530.13 Q1408.97 1527.98 1405.83 1527.98 M1415.11 1513.32 L1415.11 1517.58 Q1413.35 1516.75 1411.54 1516.31 Q1409.76 1515.87 1408 1515.87 Q1403.37 1515.87 1400.92 1519 Q1398.49 1522.12 1398.14 1528.44 Q1399.51 1526.43 1401.57 1525.36 Q1403.63 1524.27 1406.1 1524.27 Q1411.31 1524.27 1414.32 1527.44 Q1417.35 1530.59 1417.35 1536.03 Q1417.35 1541.36 1414.21 1544.57 Q1411.06 1547.79 1405.83 1547.79 Q1399.83 1547.79 1396.66 1543.21 Q1393.49 1538.6 1393.49 1529.87 Q1393.49 1521.68 1397.38 1516.82 Q1401.27 1511.93 1407.82 1511.93 Q1409.58 1511.93 1411.36 1512.28 Q1413.16 1512.63 1415.11 1513.32 Z\" fill=\"#000000\" fill-rule=\"evenodd\" fill-opacity=\"1\" /><path clip-path=\"url(#clip260)\" d=\"M 0 0 M1825.73 1515.64 Q1822.12 1515.64 1820.29 1519.2 Q1818.48 1522.75 1818.48 1529.87 Q1818.48 1536.98 1820.29 1540.55 Q1822.12 1544.09 1825.73 1544.09 Q1829.36 1544.09 1831.17 1540.55 Q1833 1536.98 1833 1529.87 Q1833 1522.75 1831.17 1519.2 Q1829.36 1515.64 1825.73 1515.64 M1825.73 1511.93 Q1831.54 1511.93 1834.59 1516.54 Q1837.67 1521.12 1837.67 1529.87 Q1837.67 1538.6 1834.59 1543.21 Q1831.54 1547.79 1825.73 1547.79 Q1819.92 1547.79 1816.84 1543.21 Q1813.78 1538.6 1813.78 1529.87 Q1813.78 1521.12 1816.84 1516.54 Q1819.92 1511.93 1825.73 1511.93 Z\" fill=\"#000000\" fill-rule=\"evenodd\" fill-opacity=\"1\" /><path clip-path=\"url(#clip260)\" d=\"M 0 0 M1845.89 1541.24 L1850.77 1541.24 L1850.77 1547.12 L1845.89 1547.12 L1845.89 1541.24 Z\" fill=\"#000000\" fill-rule=\"evenodd\" fill-opacity=\"1\" /><path clip-path=\"url(#clip260)\" d=\"M 0 0 M1870.96 1530.71 Q1867.62 1530.71 1865.7 1532.49 Q1863.81 1534.27 1863.81 1537.4 Q1863.81 1540.52 1865.7 1542.31 Q1867.62 1544.09 1870.96 1544.09 Q1874.29 1544.09 1876.21 1542.31 Q1878.13 1540.5 1878.13 1537.4 Q1878.13 1534.27 1876.21 1532.49 Q1874.31 1530.71 1870.96 1530.71 M1866.28 1528.72 Q1863.27 1527.98 1861.58 1525.92 Q1859.92 1523.86 1859.92 1520.89 Q1859.92 1516.75 1862.86 1514.34 Q1865.82 1511.93 1870.96 1511.93 Q1876.12 1511.93 1879.06 1514.34 Q1882 1516.75 1882 1520.89 Q1882 1523.86 1880.31 1525.92 Q1878.64 1527.98 1875.66 1528.72 Q1879.04 1529.5 1880.91 1531.8 Q1882.81 1534.09 1882.81 1537.4 Q1882.81 1542.42 1879.73 1545.11 Q1876.68 1547.79 1870.96 1547.79 Q1865.24 1547.79 1862.16 1545.11 Q1859.11 1542.42 1859.11 1537.4 Q1859.11 1534.09 1861 1531.8 Q1862.9 1529.5 1866.28 1528.72 M1864.57 1521.33 Q1864.57 1524.02 1866.24 1525.52 Q1867.93 1527.03 1870.96 1527.03 Q1873.97 1527.03 1875.66 1525.52 Q1877.37 1524.02 1877.37 1521.33 Q1877.37 1518.65 1875.66 1517.14 Q1873.97 1515.64 1870.96 1515.64 Q1867.93 1515.64 1866.24 1517.14 Q1864.57 1518.65 1864.57 1521.33 Z\" fill=\"#000000\" fill-rule=\"evenodd\" fill-opacity=\"1\" /><path clip-path=\"url(#clip260)\" d=\"M 0 0 M2281.03 1543.18 L2288.67 1543.18 L2288.67 1516.82 L2280.36 1518.49 L2280.36 1514.23 L2288.63 1512.56 L2293.3 1512.56 L2293.3 1543.18 L2300.94 1543.18 L2300.94 1547.12 L2281.03 1547.12 L2281.03 1543.18 Z\" fill=\"#000000\" fill-rule=\"evenodd\" fill-opacity=\"1\" /><path clip-path=\"url(#clip260)\" d=\"M 0 0 M2310.38 1541.24 L2315.27 1541.24 L2315.27 1547.12 L2310.38 1547.12 L2310.38 1541.24 Z\" fill=\"#000000\" fill-rule=\"evenodd\" fill-opacity=\"1\" /><path clip-path=\"url(#clip260)\" d=\"M 0 0 M2335.45 1515.64 Q2331.84 1515.64 2330.01 1519.2 Q2328.21 1522.75 2328.21 1529.87 Q2328.21 1536.98 2330.01 1540.55 Q2331.84 1544.09 2335.45 1544.09 Q2339.09 1544.09 2340.89 1540.55 Q2342.72 1536.98 2342.72 1529.87 Q2342.72 1522.75 2340.89 1519.2 Q2339.09 1515.64 2335.45 1515.64 M2335.45 1511.93 Q2341.26 1511.93 2344.32 1516.54 Q2347.4 1521.12 2347.4 1529.87 Q2347.4 1538.6 2344.32 1543.21 Q2341.26 1547.79 2335.45 1547.79 Q2329.64 1547.79 2326.56 1543.21 Q2323.51 1538.6 2323.51 1529.87 Q2323.51 1521.12 2326.56 1516.54 Q2329.64 1511.93 2335.45 1511.93 Z\" fill=\"#000000\" fill-rule=\"evenodd\" fill-opacity=\"1\" /><polyline clip-path=\"url(#clip262)\" style=\"stroke:#000000; stroke-width:2; stroke-opacity:0.1; fill:none\" points=\"\n",
       "  156.598,1356.33 2352.76,1356.33 \n",
       "  \"/>\n",
       "<polyline clip-path=\"url(#clip262)\" style=\"stroke:#000000; stroke-width:2; stroke-opacity:0.1; fill:none\" points=\"\n",
       "  156.598,1108.02 2352.76,1108.02 \n",
       "  \"/>\n",
       "<polyline clip-path=\"url(#clip262)\" style=\"stroke:#000000; stroke-width:2; stroke-opacity:0.1; fill:none\" points=\"\n",
       "  156.598,859.719 2352.76,859.719 \n",
       "  \"/>\n",
       "<polyline clip-path=\"url(#clip262)\" style=\"stroke:#000000; stroke-width:2; stroke-opacity:0.1; fill:none\" points=\"\n",
       "  156.598,611.415 2352.76,611.415 \n",
       "  \"/>\n",
       "<polyline clip-path=\"url(#clip262)\" style=\"stroke:#000000; stroke-width:2; stroke-opacity:0.1; fill:none\" points=\"\n",
       "  156.598,363.111 2352.76,363.111 \n",
       "  \"/>\n",
       "<polyline clip-path=\"url(#clip262)\" style=\"stroke:#000000; stroke-width:2; stroke-opacity:0.1; fill:none\" points=\"\n",
       "  156.598,114.807 2352.76,114.807 \n",
       "  \"/>\n",
       "<polyline clip-path=\"url(#clip260)\" style=\"stroke:#000000; stroke-width:4; stroke-opacity:1; fill:none\" points=\"\n",
       "  156.598,1486.45 156.598,47.2441 \n",
       "  \"/>\n",
       "<polyline clip-path=\"url(#clip260)\" style=\"stroke:#000000; stroke-width:4; stroke-opacity:1; fill:none\" points=\"\n",
       "  156.598,1356.33 182.952,1356.33 \n",
       "  \"/>\n",
       "<polyline clip-path=\"url(#clip260)\" style=\"stroke:#000000; stroke-width:4; stroke-opacity:1; fill:none\" points=\"\n",
       "  156.598,1108.02 182.952,1108.02 \n",
       "  \"/>\n",
       "<polyline clip-path=\"url(#clip260)\" style=\"stroke:#000000; stroke-width:4; stroke-opacity:1; fill:none\" points=\"\n",
       "  156.598,859.719 182.952,859.719 \n",
       "  \"/>\n",
       "<polyline clip-path=\"url(#clip260)\" style=\"stroke:#000000; stroke-width:4; stroke-opacity:1; fill:none\" points=\"\n",
       "  156.598,611.415 182.952,611.415 \n",
       "  \"/>\n",
       "<polyline clip-path=\"url(#clip260)\" style=\"stroke:#000000; stroke-width:4; stroke-opacity:1; fill:none\" points=\"\n",
       "  156.598,363.111 182.952,363.111 \n",
       "  \"/>\n",
       "<polyline clip-path=\"url(#clip260)\" style=\"stroke:#000000; stroke-width:4; stroke-opacity:1; fill:none\" points=\"\n",
       "  156.598,114.807 182.952,114.807 \n",
       "  \"/>\n",
       "<path clip-path=\"url(#clip260)\" d=\"M 0 0 M65.0198 1342.13 Q61.4087 1342.13 59.58 1345.69 Q57.7745 1349.23 57.7745 1356.36 Q57.7745 1363.47 59.58 1367.03 Q61.4087 1370.57 65.0198 1370.57 Q68.6541 1370.57 70.4596 1367.03 Q72.2883 1363.47 72.2883 1356.36 Q72.2883 1349.23 70.4596 1345.69 Q68.6541 1342.13 65.0198 1342.13 M65.0198 1338.42 Q70.83 1338.42 73.8855 1343.03 Q76.9642 1347.61 76.9642 1356.36 Q76.9642 1365.09 73.8855 1369.69 Q70.83 1374.28 65.0198 1374.28 Q59.2097 1374.28 56.131 1369.69 Q53.0754 1365.09 53.0754 1356.36 Q53.0754 1347.61 56.131 1343.03 Q59.2097 1338.42 65.0198 1338.42 Z\" fill=\"#000000\" fill-rule=\"evenodd\" fill-opacity=\"1\" /><path clip-path=\"url(#clip260)\" d=\"M 0 0 M85.1818 1367.73 L90.066 1367.73 L90.066 1373.61 L85.1818 1373.61 L85.1818 1367.73 Z\" fill=\"#000000\" fill-rule=\"evenodd\" fill-opacity=\"1\" /><path clip-path=\"url(#clip260)\" d=\"M 0 0 M104.279 1369.67 L120.598 1369.67 L120.598 1373.61 L98.6539 1373.61 L98.6539 1369.67 Q101.316 1366.92 105.899 1362.29 Q110.506 1357.63 111.686 1356.29 Q113.932 1353.77 114.811 1352.03 Q115.714 1350.27 115.714 1348.58 Q115.714 1345.83 113.77 1344.09 Q111.848 1342.36 108.746 1342.36 Q106.547 1342.36 104.094 1343.12 Q101.663 1343.88 98.8854 1345.44 L98.8854 1340.71 Q101.709 1339.58 104.163 1339 Q106.617 1338.42 108.654 1338.42 Q114.024 1338.42 117.219 1341.11 Q120.413 1343.79 120.413 1348.28 Q120.413 1350.41 119.603 1352.33 Q118.816 1354.23 116.709 1356.82 Q116.131 1357.5 113.029 1360.71 Q109.927 1363.91 104.279 1369.67 Z\" fill=\"#000000\" fill-rule=\"evenodd\" fill-opacity=\"1\" /><path clip-path=\"url(#clip260)\" d=\"M 0 0 M64.0708 1093.82 Q60.4597 1093.82 58.631 1097.39 Q56.8254 1100.93 56.8254 1108.06 Q56.8254 1115.16 58.631 1118.73 Q60.4597 1122.27 64.0708 1122.27 Q67.705 1122.27 69.5105 1118.73 Q71.3392 1115.16 71.3392 1108.06 Q71.3392 1100.93 69.5105 1097.39 Q67.705 1093.82 64.0708 1093.82 M64.0708 1090.12 Q69.8809 1090.12 72.9365 1094.72 Q76.0151 1099.31 76.0151 1108.06 Q76.0151 1116.78 72.9365 1121.39 Q69.8809 1125.97 64.0708 1125.97 Q58.2606 1125.97 55.1819 1121.39 Q52.1264 1116.78 52.1264 1108.06 Q52.1264 1099.31 55.1819 1094.72 Q58.2606 1090.12 64.0708 1090.12 Z\" fill=\"#000000\" fill-rule=\"evenodd\" fill-opacity=\"1\" /><path clip-path=\"url(#clip260)\" d=\"M 0 0 M84.2327 1119.42 L89.1169 1119.42 L89.1169 1125.3 L84.2327 1125.3 L84.2327 1119.42 Z\" fill=\"#000000\" fill-rule=\"evenodd\" fill-opacity=\"1\" /><path clip-path=\"url(#clip260)\" d=\"M 0 0 M113.469 1106.67 Q116.825 1107.39 118.7 1109.65 Q120.598 1111.92 120.598 1115.26 Q120.598 1120.37 117.08 1123.17 Q113.561 1125.97 107.08 1125.97 Q104.904 1125.97 102.589 1125.53 Q100.297 1125.12 97.8437 1124.26 L97.8437 1119.75 Q99.7882 1120.88 102.103 1121.46 Q104.418 1122.04 106.941 1122.04 Q111.339 1122.04 113.631 1120.3 Q115.945 1118.57 115.945 1115.26 Q115.945 1112.2 113.793 1110.49 Q111.663 1108.75 107.844 1108.75 L103.816 1108.75 L103.816 1104.91 L108.029 1104.91 Q111.478 1104.91 113.307 1103.54 Q115.135 1102.15 115.135 1099.56 Q115.135 1096.9 113.237 1095.49 Q111.362 1094.05 107.844 1094.05 Q105.922 1094.05 103.723 1094.47 Q101.524 1094.89 98.8854 1095.77 L98.8854 1091.6 Q101.547 1090.86 103.862 1090.49 Q106.2 1090.12 108.26 1090.12 Q113.584 1090.12 116.686 1092.55 Q119.788 1094.96 119.788 1099.08 Q119.788 1101.95 118.145 1103.94 Q116.501 1105.9 113.469 1106.67 Z\" fill=\"#000000\" fill-rule=\"evenodd\" fill-opacity=\"1\" /><path clip-path=\"url(#clip260)\" d=\"M 0 0 M62.9365 845.517 Q59.3254 845.517 57.4967 849.082 Q55.6912 852.624 55.6912 859.753 Q55.6912 866.86 57.4967 870.425 Q59.3254 873.966 62.9365 873.966 Q66.5707 873.966 68.3763 870.425 Q70.205 866.86 70.205 859.753 Q70.205 852.624 68.3763 849.082 Q66.5707 845.517 62.9365 845.517 M62.9365 841.814 Q68.7467 841.814 71.8022 846.42 Q74.8809 851.004 74.8809 859.753 Q74.8809 868.48 71.8022 873.087 Q68.7467 877.67 62.9365 877.67 Q57.1264 877.67 54.0477 873.087 Q50.9921 868.48 50.9921 859.753 Q50.9921 851.004 54.0477 846.42 Q57.1264 841.814 62.9365 841.814 Z\" fill=\"#000000\" fill-rule=\"evenodd\" fill-opacity=\"1\" /><path clip-path=\"url(#clip260)\" d=\"M 0 0 M83.0984 871.119 L87.9827 871.119 L87.9827 876.999 L83.0984 876.999 L83.0984 871.119 Z\" fill=\"#000000\" fill-rule=\"evenodd\" fill-opacity=\"1\" /><path clip-path=\"url(#clip260)\" d=\"M 0 0 M111.015 846.513 L99.2095 864.962 L111.015 864.962 L111.015 846.513 M109.788 842.439 L115.668 842.439 L115.668 864.962 L120.598 864.962 L120.598 868.851 L115.668 868.851 L115.668 876.999 L111.015 876.999 L111.015 868.851 L95.4132 868.851 L95.4132 864.337 L109.788 842.439 Z\" fill=\"#000000\" fill-rule=\"evenodd\" fill-opacity=\"1\" /><path clip-path=\"url(#clip260)\" d=\"M 0 0 M64.418 597.214 Q60.8069 597.214 58.9782 600.778 Q57.1726 604.32 57.1726 611.45 Q57.1726 618.556 58.9782 622.121 Q60.8069 625.663 64.418 625.663 Q68.0522 625.663 69.8578 622.121 Q71.6865 618.556 71.6865 611.45 Q71.6865 604.32 69.8578 600.778 Q68.0522 597.214 64.418 597.214 M64.418 593.51 Q70.2281 593.51 73.2837 598.116 Q76.3624 602.7 76.3624 611.45 Q76.3624 620.176 73.2837 624.783 Q70.2281 629.366 64.418 629.366 Q58.6078 629.366 55.5291 624.783 Q52.4736 620.176 52.4736 611.45 Q52.4736 602.7 55.5291 598.116 Q58.6078 593.51 64.418 593.51 Z\" fill=\"#000000\" fill-rule=\"evenodd\" fill-opacity=\"1\" /><path clip-path=\"url(#clip260)\" d=\"M 0 0 M84.5799 622.815 L89.4641 622.815 L89.4641 628.695 L84.5799 628.695 L84.5799 622.815 Z\" fill=\"#000000\" fill-rule=\"evenodd\" fill-opacity=\"1\" /><path clip-path=\"url(#clip260)\" d=\"M 0 0 M99.6956 594.135 L118.052 594.135 L118.052 598.07 L103.978 598.07 L103.978 606.542 Q104.996 606.195 106.015 606.033 Q107.033 605.848 108.052 605.848 Q113.839 605.848 117.219 609.019 Q120.598 612.19 120.598 617.607 Q120.598 623.186 117.126 626.288 Q113.654 629.366 107.334 629.366 Q105.159 629.366 102.89 628.996 Q100.645 628.626 98.2372 627.885 L98.2372 623.186 Q100.321 624.32 102.543 624.876 Q104.765 625.431 107.242 625.431 Q111.246 625.431 113.584 623.325 Q115.922 621.218 115.922 617.607 Q115.922 613.996 113.584 611.889 Q111.246 609.783 107.242 609.783 Q105.367 609.783 103.492 610.2 Q101.64 610.616 99.6956 611.496 L99.6956 594.135 Z\" fill=\"#000000\" fill-rule=\"evenodd\" fill-opacity=\"1\" /><path clip-path=\"url(#clip260)\" d=\"M 0 0 M63.2606 348.91 Q59.6495 348.91 57.8208 352.475 Q56.0152 356.016 56.0152 363.146 Q56.0152 370.252 57.8208 373.817 Q59.6495 377.359 63.2606 377.359 Q66.8948 377.359 68.7004 373.817 Q70.5291 370.252 70.5291 363.146 Q70.5291 356.016 68.7004 352.475 Q66.8948 348.91 63.2606 348.91 M63.2606 345.206 Q69.0707 345.206 72.1263 349.813 Q75.205 354.396 75.205 363.146 Q75.205 371.873 72.1263 376.479 Q69.0707 381.062 63.2606 381.062 Q57.4504 381.062 54.3717 376.479 Q51.3162 371.873 51.3162 363.146 Q51.3162 354.396 54.3717 349.813 Q57.4504 345.206 63.2606 345.206 Z\" fill=\"#000000\" fill-rule=\"evenodd\" fill-opacity=\"1\" /><path clip-path=\"url(#clip260)\" d=\"M 0 0 M83.4225 374.512 L88.3067 374.512 L88.3067 380.391 L83.4225 380.391 L83.4225 374.512 Z\" fill=\"#000000\" fill-rule=\"evenodd\" fill-opacity=\"1\" /><path clip-path=\"url(#clip260)\" d=\"M 0 0 M109.071 361.248 Q105.922 361.248 104.071 363.401 Q102.242 365.553 102.242 369.303 Q102.242 373.03 104.071 375.206 Q105.922 377.359 109.071 377.359 Q112.219 377.359 114.047 375.206 Q115.899 373.03 115.899 369.303 Q115.899 365.553 114.047 363.401 Q112.219 361.248 109.071 361.248 M118.353 346.595 L118.353 350.854 Q116.594 350.021 114.788 349.581 Q113.006 349.141 111.246 349.141 Q106.617 349.141 104.163 352.266 Q101.733 355.391 101.385 361.711 Q102.751 359.697 104.811 358.632 Q106.871 357.544 109.348 357.544 Q114.557 357.544 117.566 360.715 Q120.598 363.863 120.598 369.303 Q120.598 374.627 117.45 377.845 Q114.302 381.062 109.071 381.062 Q103.075 381.062 99.9039 376.479 Q96.7326 371.873 96.7326 363.146 Q96.7326 354.951 100.621 350.09 Q104.51 345.206 111.061 345.206 Q112.82 345.206 114.603 345.553 Q116.408 345.901 118.353 346.595 Z\" fill=\"#000000\" fill-rule=\"evenodd\" fill-opacity=\"1\" /><path clip-path=\"url(#clip260)\" d=\"M 0 0 M64.3254 100.606 Q60.7143 100.606 58.8856 104.171 Q57.0801 107.713 57.0801 114.842 Q57.0801 121.949 58.8856 125.513 Q60.7143 129.055 64.3254 129.055 Q67.9596 129.055 69.7652 125.513 Q71.5939 121.949 71.5939 114.842 Q71.5939 107.713 69.7652 104.171 Q67.9596 100.606 64.3254 100.606 M64.3254 96.9024 Q70.1355 96.9024 73.1911 101.509 Q76.2698 106.092 76.2698 114.842 Q76.2698 123.569 73.1911 128.175 Q70.1355 132.759 64.3254 132.759 Q58.5152 132.759 55.4365 128.175 Q52.381 123.569 52.381 114.842 Q52.381 106.092 55.4365 101.509 Q58.5152 96.9024 64.3254 96.9024 Z\" fill=\"#000000\" fill-rule=\"evenodd\" fill-opacity=\"1\" /><path clip-path=\"url(#clip260)\" d=\"M 0 0 M84.4873 126.208 L89.3715 126.208 L89.3715 132.087 L84.4873 132.087 L84.4873 126.208 Z\" fill=\"#000000\" fill-rule=\"evenodd\" fill-opacity=\"1\" /><path clip-path=\"url(#clip260)\" d=\"M 0 0 M98.3761 97.5274 L120.598 97.5274 L120.598 99.5181 L108.052 132.087 L103.168 132.087 L114.973 101.463 L98.3761 101.463 L98.3761 97.5274 Z\" fill=\"#000000\" fill-rule=\"evenodd\" fill-opacity=\"1\" /><polyline clip-path=\"url(#clip262)\" style=\"stroke:#009af9; stroke-width:4; stroke-opacity:1; fill:none\" points=\"\n",
       "  218.754,1445.72 238.987,1416.96 426.073,1185.26 538.504,1069.28 633.562,981.444 736.823,894.683 832.02,821.361 934.081,748.717 1052.33,671.053 1157.41,606.985 \n",
       "  1249.56,554.084 1350.03,499.45 1451.1,447.301 1562.84,392.512 1669.16,342.839 1779.7,293.423 1872.76,253.397 1986.37,206.266 2093.17,163.523 2264.27,97.8143 \n",
       "  2290.6,87.9763 \n",
       "  \"/>\n",
       "<path clip-path=\"url(#clip260)\" d=\"\n",
       "M1983.1 216.178 L2279.55 216.178 L2279.55 95.2176 L1983.1 95.2176  Z\n",
       "  \" fill=\"#ffffff\" fill-rule=\"evenodd\" fill-opacity=\"1\"/>\n",
       "<polyline clip-path=\"url(#clip260)\" style=\"stroke:#000000; stroke-width:4; stroke-opacity:1; fill:none\" points=\"\n",
       "  1983.1,216.178 2279.55,216.178 2279.55,95.2176 1983.1,95.2176 1983.1,216.178 \n",
       "  \"/>\n",
       "<polyline clip-path=\"url(#clip260)\" style=\"stroke:#009af9; stroke-width:4; stroke-opacity:1; fill:none\" points=\"\n",
       "  2007.5,155.698 2153.92,155.698 \n",
       "  \"/>\n",
       "<path clip-path=\"url(#clip260)\" d=\"M 0 0 M2192.16 175.385 Q2190.35 180.015 2188.64 181.427 Q2186.93 182.839 2184.06 182.839 L2180.65 182.839 L2180.65 179.274 L2183.15 179.274 Q2184.91 179.274 2185.89 178.44 Q2186.86 177.607 2188.04 174.505 L2188.8 172.561 L2178.32 147.052 L2182.83 147.052 L2190.93 167.329 L2199.03 147.052 L2203.55 147.052 L2192.16 175.385 Z\" fill=\"#000000\" fill-rule=\"evenodd\" fill-opacity=\"1\" /><path clip-path=\"url(#clip260)\" d=\"M 0 0 M2210.84 169.042 L2218.48 169.042 L2218.48 142.677 L2210.17 144.343 L2210.17 140.084 L2218.43 138.418 L2223.11 138.418 L2223.11 169.042 L2230.75 169.042 L2230.75 172.978 L2210.84 172.978 L2210.84 169.042 Z\" fill=\"#000000\" fill-rule=\"evenodd\" fill-opacity=\"1\" /></svg>\n"
      ]
     },
     "execution_count": 10,
     "metadata": {},
     "output_type": "execute_result"
    }
   ],
   "source": [
    "plot(BR(y_1 => 1),0.1,.99)\n"
   ]
  },
  {
   "cell_type": "markdown",
   "id": "92e3fbb8-cd40-41b9-a76d-301a2c9d117a",
   "metadata": {},
   "source": [
    "The best wage for firm 1 to offer is an increasing function of the wage that firm 2 sets.  We typically describe the equilibrium by looking at the point where the two best reply functions intersect. A couple of observations. First, firm 2 is indentical to firm 1, so it must have the same best reply function.  Second, we typically draw the intersection by using the same best reply function but drawing its inverse (changing the axis).   We can do this by drawing the plot again using the same best reply function `BR` but measuring $w_2$ on the vertical axis instead of $w_1$.  The way to do this is to specify the variable that should be on the vertical axis (note `w_2` in the command, then using `!` after `plot` in the command to overlay the picture on the last one."
   ]
  },
  {
   "cell_type": "code",
   "execution_count": 11,
   "id": "244d7f21-2830-4fca-a176-1e853cca81db",
   "metadata": {},
   "outputs": [
    {
     "data": {
      "image/svg+xml": [
       "<?xml version=\"1.0\" encoding=\"utf-8\"?>\n",
       "<svg xmlns=\"http://www.w3.org/2000/svg\" xmlns:xlink=\"http://www.w3.org/1999/xlink\" width=\"600\" height=\"400\" viewBox=\"0 0 2400 1600\">\n",
       "<defs>\n",
       "  <clipPath id=\"clip300\">\n",
       "    <rect x=\"0\" y=\"0\" width=\"2400\" height=\"1600\"/>\n",
       "  </clipPath>\n",
       "</defs>\n",
       "<path clip-path=\"url(#clip300)\" d=\"\n",
       "M0 1600 L2400 1600 L2400 0 L0 0  Z\n",
       "  \" fill=\"#ffffff\" fill-rule=\"evenodd\" fill-opacity=\"1\"/>\n",
       "<defs>\n",
       "  <clipPath id=\"clip301\">\n",
       "    <rect x=\"480\" y=\"0\" width=\"1681\" height=\"1600\"/>\n",
       "  </clipPath>\n",
       "</defs>\n",
       "<path clip-path=\"url(#clip300)\" d=\"\n",
       "M156.598 1486.45 L2352.76 1486.45 L2352.76 47.2441 L156.598 47.2441  Z\n",
       "  \" fill=\"#ffffff\" fill-rule=\"evenodd\" fill-opacity=\"1\"/>\n",
       "<defs>\n",
       "  <clipPath id=\"clip302\">\n",
       "    <rect x=\"156\" y=\"47\" width=\"2197\" height=\"1440\"/>\n",
       "  </clipPath>\n",
       "</defs>\n",
       "<polyline clip-path=\"url(#clip302)\" style=\"stroke:#000000; stroke-width:2; stroke-opacity:0.1; fill:none\" points=\"\n",
       "  451.545,1486.45 451.545,47.2441 \n",
       "  \"/>\n",
       "<polyline clip-path=\"url(#clip302)\" style=\"stroke:#000000; stroke-width:2; stroke-opacity:0.1; fill:none\" points=\"\n",
       "  917.129,1486.45 917.129,47.2441 \n",
       "  \"/>\n",
       "<polyline clip-path=\"url(#clip302)\" style=\"stroke:#000000; stroke-width:2; stroke-opacity:0.1; fill:none\" points=\"\n",
       "  1382.71,1486.45 1382.71,47.2441 \n",
       "  \"/>\n",
       "<polyline clip-path=\"url(#clip302)\" style=\"stroke:#000000; stroke-width:2; stroke-opacity:0.1; fill:none\" points=\"\n",
       "  1848.3,1486.45 1848.3,47.2441 \n",
       "  \"/>\n",
       "<polyline clip-path=\"url(#clip302)\" style=\"stroke:#000000; stroke-width:2; stroke-opacity:0.1; fill:none\" points=\"\n",
       "  2313.88,1486.45 2313.88,47.2441 \n",
       "  \"/>\n",
       "<polyline clip-path=\"url(#clip300)\" style=\"stroke:#000000; stroke-width:4; stroke-opacity:1; fill:none\" points=\"\n",
       "  156.598,1486.45 2352.76,1486.45 \n",
       "  \"/>\n",
       "<polyline clip-path=\"url(#clip300)\" style=\"stroke:#000000; stroke-width:4; stroke-opacity:1; fill:none\" points=\"\n",
       "  451.545,1486.45 451.545,1469.18 \n",
       "  \"/>\n",
       "<polyline clip-path=\"url(#clip300)\" style=\"stroke:#000000; stroke-width:4; stroke-opacity:1; fill:none\" points=\"\n",
       "  917.129,1486.45 917.129,1469.18 \n",
       "  \"/>\n",
       "<polyline clip-path=\"url(#clip300)\" style=\"stroke:#000000; stroke-width:4; stroke-opacity:1; fill:none\" points=\"\n",
       "  1382.71,1486.45 1382.71,1469.18 \n",
       "  \"/>\n",
       "<polyline clip-path=\"url(#clip300)\" style=\"stroke:#000000; stroke-width:4; stroke-opacity:1; fill:none\" points=\"\n",
       "  1848.3,1486.45 1848.3,1469.18 \n",
       "  \"/>\n",
       "<polyline clip-path=\"url(#clip300)\" style=\"stroke:#000000; stroke-width:4; stroke-opacity:1; fill:none\" points=\"\n",
       "  2313.88,1486.45 2313.88,1469.18 \n",
       "  \"/>\n",
       "<path clip-path=\"url(#clip300)\" d=\"M 0 0 M429.728 1515.64 Q426.117 1515.64 424.289 1519.2 Q422.483 1522.75 422.483 1529.87 Q422.483 1536.98 424.289 1540.55 Q426.117 1544.09 429.728 1544.09 Q433.363 1544.09 435.168 1540.55 Q436.997 1536.98 436.997 1529.87 Q436.997 1522.75 435.168 1519.2 Q433.363 1515.64 429.728 1515.64 M429.728 1511.93 Q435.539 1511.93 438.594 1516.54 Q441.673 1521.12 441.673 1529.87 Q441.673 1538.6 438.594 1543.21 Q435.539 1547.79 429.728 1547.79 Q423.918 1547.79 420.84 1543.21 Q417.784 1538.6 417.784 1529.87 Q417.784 1521.12 420.84 1516.54 Q423.918 1511.93 429.728 1511.93 Z\" fill=\"#000000\" fill-rule=\"evenodd\" fill-opacity=\"1\" /><path clip-path=\"url(#clip300)\" d=\"M 0 0 M449.89 1541.24 L454.775 1541.24 L454.775 1547.12 L449.89 1547.12 L449.89 1541.24 Z\" fill=\"#000000\" fill-rule=\"evenodd\" fill-opacity=\"1\" /><path clip-path=\"url(#clip300)\" d=\"M 0 0 M468.987 1543.18 L485.307 1543.18 L485.307 1547.12 L463.362 1547.12 L463.362 1543.18 Q466.025 1540.43 470.608 1535.8 Q475.214 1531.15 476.395 1529.81 Q478.64 1527.28 479.52 1525.55 Q480.423 1523.79 480.423 1522.1 Q480.423 1519.34 478.478 1517.61 Q476.557 1515.87 473.455 1515.87 Q471.256 1515.87 468.802 1516.63 Q466.372 1517.4 463.594 1518.95 L463.594 1514.23 Q466.418 1513.09 468.872 1512.51 Q471.325 1511.93 473.362 1511.93 Q478.733 1511.93 481.927 1514.62 Q485.122 1517.31 485.122 1521.8 Q485.122 1523.93 484.311 1525.85 Q483.524 1527.74 481.418 1530.34 Q480.839 1531.01 477.737 1534.23 Q474.636 1537.42 468.987 1543.18 Z\" fill=\"#000000\" fill-rule=\"evenodd\" fill-opacity=\"1\" /><path clip-path=\"url(#clip300)\" d=\"M 0 0 M894.27 1515.64 Q890.659 1515.64 888.831 1519.2 Q887.025 1522.75 887.025 1529.87 Q887.025 1536.98 888.831 1540.55 Q890.659 1544.09 894.27 1544.09 Q897.905 1544.09 899.71 1540.55 Q901.539 1536.98 901.539 1529.87 Q901.539 1522.75 899.71 1519.2 Q897.905 1515.64 894.27 1515.64 M894.27 1511.93 Q900.08 1511.93 903.136 1516.54 Q906.215 1521.12 906.215 1529.87 Q906.215 1538.6 903.136 1543.21 Q900.08 1547.79 894.27 1547.79 Q888.46 1547.79 885.381 1543.21 Q882.326 1538.6 882.326 1529.87 Q882.326 1521.12 885.381 1516.54 Q888.46 1511.93 894.27 1511.93 Z\" fill=\"#000000\" fill-rule=\"evenodd\" fill-opacity=\"1\" /><path clip-path=\"url(#clip300)\" d=\"M 0 0 M914.432 1541.24 L919.316 1541.24 L919.316 1547.12 L914.432 1547.12 L914.432 1541.24 Z\" fill=\"#000000\" fill-rule=\"evenodd\" fill-opacity=\"1\" /><path clip-path=\"url(#clip300)\" d=\"M 0 0 M942.349 1516.63 L930.543 1535.08 L942.349 1535.08 L942.349 1516.63 M941.122 1512.56 L947.002 1512.56 L947.002 1535.08 L951.932 1535.08 L951.932 1538.97 L947.002 1538.97 L947.002 1547.12 L942.349 1547.12 L942.349 1538.97 L926.747 1538.97 L926.747 1534.46 L941.122 1512.56 Z\" fill=\"#000000\" fill-rule=\"evenodd\" fill-opacity=\"1\" /><path clip-path=\"url(#clip300)\" d=\"M 0 0 M1360.02 1515.64 Q1356.4 1515.64 1354.58 1519.2 Q1352.77 1522.75 1352.77 1529.87 Q1352.77 1536.98 1354.58 1540.55 Q1356.4 1544.09 1360.02 1544.09 Q1363.65 1544.09 1365.46 1540.55 Q1367.28 1536.98 1367.28 1529.87 Q1367.28 1522.75 1365.46 1519.2 Q1363.65 1515.64 1360.02 1515.64 M1360.02 1511.93 Q1365.83 1511.93 1368.88 1516.54 Q1371.96 1521.12 1371.96 1529.87 Q1371.96 1538.6 1368.88 1543.21 Q1365.83 1547.79 1360.02 1547.79 Q1354.21 1547.79 1351.13 1543.21 Q1348.07 1538.6 1348.07 1529.87 Q1348.07 1521.12 1351.13 1516.54 Q1354.21 1511.93 1360.02 1511.93 Z\" fill=\"#000000\" fill-rule=\"evenodd\" fill-opacity=\"1\" /><path clip-path=\"url(#clip300)\" d=\"M 0 0 M1380.18 1541.24 L1385.06 1541.24 L1385.06 1547.12 L1380.18 1547.12 L1380.18 1541.24 Z\" fill=\"#000000\" fill-rule=\"evenodd\" fill-opacity=\"1\" /><path clip-path=\"url(#clip300)\" d=\"M 0 0 M1405.83 1527.98 Q1402.68 1527.98 1400.83 1530.13 Q1399 1532.28 1399 1536.03 Q1399 1539.76 1400.83 1541.93 Q1402.68 1544.09 1405.83 1544.09 Q1408.97 1544.09 1410.8 1541.93 Q1412.65 1539.76 1412.65 1536.03 Q1412.65 1532.28 1410.8 1530.13 Q1408.97 1527.98 1405.83 1527.98 M1415.11 1513.32 L1415.11 1517.58 Q1413.35 1516.75 1411.54 1516.31 Q1409.76 1515.87 1408 1515.87 Q1403.37 1515.87 1400.92 1519 Q1398.49 1522.12 1398.14 1528.44 Q1399.51 1526.43 1401.57 1525.36 Q1403.63 1524.27 1406.1 1524.27 Q1411.31 1524.27 1414.32 1527.44 Q1417.35 1530.59 1417.35 1536.03 Q1417.35 1541.36 1414.21 1544.57 Q1411.06 1547.79 1405.83 1547.79 Q1399.83 1547.79 1396.66 1543.21 Q1393.49 1538.6 1393.49 1529.87 Q1393.49 1521.68 1397.38 1516.82 Q1401.27 1511.93 1407.82 1511.93 Q1409.58 1511.93 1411.36 1512.28 Q1413.16 1512.63 1415.11 1513.32 Z\" fill=\"#000000\" fill-rule=\"evenodd\" fill-opacity=\"1\" /><path clip-path=\"url(#clip300)\" d=\"M 0 0 M1825.73 1515.64 Q1822.12 1515.64 1820.29 1519.2 Q1818.48 1522.75 1818.48 1529.87 Q1818.48 1536.98 1820.29 1540.55 Q1822.12 1544.09 1825.73 1544.09 Q1829.36 1544.09 1831.17 1540.55 Q1833 1536.98 1833 1529.87 Q1833 1522.75 1831.17 1519.2 Q1829.36 1515.64 1825.73 1515.64 M1825.73 1511.93 Q1831.54 1511.93 1834.59 1516.54 Q1837.67 1521.12 1837.67 1529.87 Q1837.67 1538.6 1834.59 1543.21 Q1831.54 1547.79 1825.73 1547.79 Q1819.92 1547.79 1816.84 1543.21 Q1813.78 1538.6 1813.78 1529.87 Q1813.78 1521.12 1816.84 1516.54 Q1819.92 1511.93 1825.73 1511.93 Z\" fill=\"#000000\" fill-rule=\"evenodd\" fill-opacity=\"1\" /><path clip-path=\"url(#clip300)\" d=\"M 0 0 M1845.89 1541.24 L1850.77 1541.24 L1850.77 1547.12 L1845.89 1547.12 L1845.89 1541.24 Z\" fill=\"#000000\" fill-rule=\"evenodd\" fill-opacity=\"1\" /><path clip-path=\"url(#clip300)\" d=\"M 0 0 M1870.96 1530.71 Q1867.62 1530.71 1865.7 1532.49 Q1863.81 1534.27 1863.81 1537.4 Q1863.81 1540.52 1865.7 1542.31 Q1867.62 1544.09 1870.96 1544.09 Q1874.29 1544.09 1876.21 1542.31 Q1878.13 1540.5 1878.13 1537.4 Q1878.13 1534.27 1876.21 1532.49 Q1874.31 1530.71 1870.96 1530.71 M1866.28 1528.72 Q1863.27 1527.98 1861.58 1525.92 Q1859.92 1523.86 1859.92 1520.89 Q1859.92 1516.75 1862.86 1514.34 Q1865.82 1511.93 1870.96 1511.93 Q1876.12 1511.93 1879.06 1514.34 Q1882 1516.75 1882 1520.89 Q1882 1523.86 1880.31 1525.92 Q1878.64 1527.98 1875.66 1528.72 Q1879.04 1529.5 1880.91 1531.8 Q1882.81 1534.09 1882.81 1537.4 Q1882.81 1542.42 1879.73 1545.11 Q1876.68 1547.79 1870.96 1547.79 Q1865.24 1547.79 1862.16 1545.11 Q1859.11 1542.42 1859.11 1537.4 Q1859.11 1534.09 1861 1531.8 Q1862.9 1529.5 1866.28 1528.72 M1864.57 1521.33 Q1864.57 1524.02 1866.24 1525.52 Q1867.93 1527.03 1870.96 1527.03 Q1873.97 1527.03 1875.66 1525.52 Q1877.37 1524.02 1877.37 1521.33 Q1877.37 1518.65 1875.66 1517.14 Q1873.97 1515.64 1870.96 1515.64 Q1867.93 1515.64 1866.24 1517.14 Q1864.57 1518.65 1864.57 1521.33 Z\" fill=\"#000000\" fill-rule=\"evenodd\" fill-opacity=\"1\" /><path clip-path=\"url(#clip300)\" d=\"M 0 0 M2281.03 1543.18 L2288.67 1543.18 L2288.67 1516.82 L2280.36 1518.49 L2280.36 1514.23 L2288.63 1512.56 L2293.3 1512.56 L2293.3 1543.18 L2300.94 1543.18 L2300.94 1547.12 L2281.03 1547.12 L2281.03 1543.18 Z\" fill=\"#000000\" fill-rule=\"evenodd\" fill-opacity=\"1\" /><path clip-path=\"url(#clip300)\" d=\"M 0 0 M2310.38 1541.24 L2315.27 1541.24 L2315.27 1547.12 L2310.38 1547.12 L2310.38 1541.24 Z\" fill=\"#000000\" fill-rule=\"evenodd\" fill-opacity=\"1\" /><path clip-path=\"url(#clip300)\" d=\"M 0 0 M2335.45 1515.64 Q2331.84 1515.64 2330.01 1519.2 Q2328.21 1522.75 2328.21 1529.87 Q2328.21 1536.98 2330.01 1540.55 Q2331.84 1544.09 2335.45 1544.09 Q2339.09 1544.09 2340.89 1540.55 Q2342.72 1536.98 2342.72 1529.87 Q2342.72 1522.75 2340.89 1519.2 Q2339.09 1515.64 2335.45 1515.64 M2335.45 1511.93 Q2341.26 1511.93 2344.32 1516.54 Q2347.4 1521.12 2347.4 1529.87 Q2347.4 1538.6 2344.32 1543.21 Q2341.26 1547.79 2335.45 1547.79 Q2329.64 1547.79 2326.56 1543.21 Q2323.51 1538.6 2323.51 1529.87 Q2323.51 1521.12 2326.56 1516.54 Q2329.64 1511.93 2335.45 1511.93 Z\" fill=\"#000000\" fill-rule=\"evenodd\" fill-opacity=\"1\" /><polyline clip-path=\"url(#clip302)\" style=\"stroke:#000000; stroke-width:2; stroke-opacity:0.1; fill:none\" points=\"\n",
       "  156.598,1293.16 2352.76,1293.16 \n",
       "  \"/>\n",
       "<polyline clip-path=\"url(#clip302)\" style=\"stroke:#000000; stroke-width:2; stroke-opacity:0.1; fill:none\" points=\"\n",
       "  156.598,988.051 2352.76,988.051 \n",
       "  \"/>\n",
       "<polyline clip-path=\"url(#clip302)\" style=\"stroke:#000000; stroke-width:2; stroke-opacity:0.1; fill:none\" points=\"\n",
       "  156.598,682.941 2352.76,682.941 \n",
       "  \"/>\n",
       "<polyline clip-path=\"url(#clip302)\" style=\"stroke:#000000; stroke-width:2; stroke-opacity:0.1; fill:none\" points=\"\n",
       "  156.598,377.831 2352.76,377.831 \n",
       "  \"/>\n",
       "<polyline clip-path=\"url(#clip302)\" style=\"stroke:#000000; stroke-width:2; stroke-opacity:0.1; fill:none\" points=\"\n",
       "  156.598,72.7208 2352.76,72.7208 \n",
       "  \"/>\n",
       "<polyline clip-path=\"url(#clip300)\" style=\"stroke:#000000; stroke-width:4; stroke-opacity:1; fill:none\" points=\"\n",
       "  156.598,1486.45 156.598,47.2441 \n",
       "  \"/>\n",
       "<polyline clip-path=\"url(#clip300)\" style=\"stroke:#000000; stroke-width:4; stroke-opacity:1; fill:none\" points=\"\n",
       "  156.598,1293.16 182.952,1293.16 \n",
       "  \"/>\n",
       "<polyline clip-path=\"url(#clip300)\" style=\"stroke:#000000; stroke-width:4; stroke-opacity:1; fill:none\" points=\"\n",
       "  156.598,988.051 182.952,988.051 \n",
       "  \"/>\n",
       "<polyline clip-path=\"url(#clip300)\" style=\"stroke:#000000; stroke-width:4; stroke-opacity:1; fill:none\" points=\"\n",
       "  156.598,682.941 182.952,682.941 \n",
       "  \"/>\n",
       "<polyline clip-path=\"url(#clip300)\" style=\"stroke:#000000; stroke-width:4; stroke-opacity:1; fill:none\" points=\"\n",
       "  156.598,377.831 182.952,377.831 \n",
       "  \"/>\n",
       "<polyline clip-path=\"url(#clip300)\" style=\"stroke:#000000; stroke-width:4; stroke-opacity:1; fill:none\" points=\"\n",
       "  156.598,72.7208 182.952,72.7208 \n",
       "  \"/>\n",
       "<path clip-path=\"url(#clip300)\" d=\"M 0 0 M65.0198 1278.96 Q61.4087 1278.96 59.58 1282.52 Q57.7745 1286.07 57.7745 1293.2 Q57.7745 1300.3 59.58 1303.87 Q61.4087 1307.41 65.0198 1307.41 Q68.6541 1307.41 70.4596 1303.87 Q72.2883 1300.3 72.2883 1293.2 Q72.2883 1286.07 70.4596 1282.52 Q68.6541 1278.96 65.0198 1278.96 M65.0198 1275.26 Q70.83 1275.26 73.8855 1279.86 Q76.9642 1284.45 76.9642 1293.2 Q76.9642 1301.92 73.8855 1306.53 Q70.83 1311.11 65.0198 1311.11 Q59.2097 1311.11 56.131 1306.53 Q53.0754 1301.92 53.0754 1293.2 Q53.0754 1284.45 56.131 1279.86 Q59.2097 1275.26 65.0198 1275.26 Z\" fill=\"#000000\" fill-rule=\"evenodd\" fill-opacity=\"1\" /><path clip-path=\"url(#clip300)\" d=\"M 0 0 M85.1818 1304.56 L90.066 1304.56 L90.066 1310.44 L85.1818 1310.44 L85.1818 1304.56 Z\" fill=\"#000000\" fill-rule=\"evenodd\" fill-opacity=\"1\" /><path clip-path=\"url(#clip300)\" d=\"M 0 0 M104.279 1306.51 L120.598 1306.51 L120.598 1310.44 L98.6539 1310.44 L98.6539 1306.51 Q101.316 1303.75 105.899 1299.12 Q110.506 1294.47 111.686 1293.13 Q113.932 1290.6 114.811 1288.87 Q115.714 1287.11 115.714 1285.42 Q115.714 1282.66 113.77 1280.93 Q111.848 1279.19 108.746 1279.19 Q106.547 1279.19 104.094 1279.95 Q101.663 1280.72 98.8854 1282.27 L98.8854 1277.55 Q101.709 1276.41 104.163 1275.83 Q106.617 1275.26 108.654 1275.26 Q114.024 1275.26 117.219 1277.94 Q120.413 1280.63 120.413 1285.12 Q120.413 1287.25 119.603 1289.17 Q118.816 1291.07 116.709 1293.66 Q116.131 1294.33 113.029 1297.55 Q109.927 1300.74 104.279 1306.51 Z\" fill=\"#000000\" fill-rule=\"evenodd\" fill-opacity=\"1\" /><path clip-path=\"url(#clip300)\" d=\"M 0 0 M62.9365 973.849 Q59.3254 973.849 57.4967 977.414 Q55.6912 980.956 55.6912 988.085 Q55.6912 995.192 57.4967 998.757 Q59.3254 1002.3 62.9365 1002.3 Q66.5707 1002.3 68.3763 998.757 Q70.205 995.192 70.205 988.085 Q70.205 980.956 68.3763 977.414 Q66.5707 973.849 62.9365 973.849 M62.9365 970.146 Q68.7467 970.146 71.8022 974.752 Q74.8809 979.335 74.8809 988.085 Q74.8809 996.812 71.8022 1001.42 Q68.7467 1006 62.9365 1006 Q57.1264 1006 54.0477 1001.42 Q50.9921 996.812 50.9921 988.085 Q50.9921 979.335 54.0477 974.752 Q57.1264 970.146 62.9365 970.146 Z\" fill=\"#000000\" fill-rule=\"evenodd\" fill-opacity=\"1\" /><path clip-path=\"url(#clip300)\" d=\"M 0 0 M83.0984 999.451 L87.9827 999.451 L87.9827 1005.33 L83.0984 1005.33 L83.0984 999.451 Z\" fill=\"#000000\" fill-rule=\"evenodd\" fill-opacity=\"1\" /><path clip-path=\"url(#clip300)\" d=\"M 0 0 M111.015 974.845 L99.2095 993.294 L111.015 993.294 L111.015 974.845 M109.788 970.771 L115.668 970.771 L115.668 993.294 L120.598 993.294 L120.598 997.183 L115.668 997.183 L115.668 1005.33 L111.015 1005.33 L111.015 997.183 L95.4132 997.183 L95.4132 992.669 L109.788 970.771 Z\" fill=\"#000000\" fill-rule=\"evenodd\" fill-opacity=\"1\" /><path clip-path=\"url(#clip300)\" d=\"M 0 0 M63.2606 668.739 Q59.6495 668.739 57.8208 672.304 Q56.0152 675.846 56.0152 682.975 Q56.0152 690.082 57.8208 693.647 Q59.6495 697.188 63.2606 697.188 Q66.8948 697.188 68.7004 693.647 Q70.5291 690.082 70.5291 682.975 Q70.5291 675.846 68.7004 672.304 Q66.8948 668.739 63.2606 668.739 M63.2606 665.036 Q69.0707 665.036 72.1263 669.642 Q75.205 674.226 75.205 682.975 Q75.205 691.702 72.1263 696.309 Q69.0707 700.892 63.2606 700.892 Q57.4504 700.892 54.3717 696.309 Q51.3162 691.702 51.3162 682.975 Q51.3162 674.226 54.3717 669.642 Q57.4504 665.036 63.2606 665.036 Z\" fill=\"#000000\" fill-rule=\"evenodd\" fill-opacity=\"1\" /><path clip-path=\"url(#clip300)\" d=\"M 0 0 M83.4225 694.341 L88.3067 694.341 L88.3067 700.221 L83.4225 700.221 L83.4225 694.341 Z\" fill=\"#000000\" fill-rule=\"evenodd\" fill-opacity=\"1\" /><path clip-path=\"url(#clip300)\" d=\"M 0 0 M109.071 681.077 Q105.922 681.077 104.071 683.23 Q102.242 685.383 102.242 689.133 Q102.242 692.86 104.071 695.036 Q105.922 697.188 109.071 697.188 Q112.219 697.188 114.047 695.036 Q115.899 692.86 115.899 689.133 Q115.899 685.383 114.047 683.23 Q112.219 681.077 109.071 681.077 M118.353 666.425 L118.353 670.684 Q116.594 669.851 114.788 669.411 Q113.006 668.971 111.246 668.971 Q106.617 668.971 104.163 672.096 Q101.733 675.221 101.385 681.54 Q102.751 679.526 104.811 678.462 Q106.871 677.374 109.348 677.374 Q114.557 677.374 117.566 680.545 Q120.598 683.693 120.598 689.133 Q120.598 694.457 117.45 697.674 Q114.302 700.892 109.071 700.892 Q103.075 700.892 99.9039 696.309 Q96.7326 691.702 96.7326 682.975 Q96.7326 674.781 100.621 669.92 Q104.51 665.036 111.061 665.036 Q112.82 665.036 114.603 665.383 Q116.408 665.73 118.353 666.425 Z\" fill=\"#000000\" fill-rule=\"evenodd\" fill-opacity=\"1\" /><path clip-path=\"url(#clip300)\" d=\"M 0 0 M63.5152 363.629 Q59.9041 363.629 58.0754 367.194 Q56.2699 370.736 56.2699 377.865 Q56.2699 384.972 58.0754 388.537 Q59.9041 392.078 63.5152 392.078 Q67.1494 392.078 68.955 388.537 Q70.7837 384.972 70.7837 377.865 Q70.7837 370.736 68.955 367.194 Q67.1494 363.629 63.5152 363.629 M63.5152 359.926 Q69.3254 359.926 72.3809 364.532 Q75.4596 369.116 75.4596 377.865 Q75.4596 386.592 72.3809 391.199 Q69.3254 395.782 63.5152 395.782 Q57.7051 395.782 54.6264 391.199 Q51.5708 386.592 51.5708 377.865 Q51.5708 369.116 54.6264 364.532 Q57.7051 359.926 63.5152 359.926 Z\" fill=\"#000000\" fill-rule=\"evenodd\" fill-opacity=\"1\" /><path clip-path=\"url(#clip300)\" d=\"M 0 0 M83.6771 389.231 L88.5614 389.231 L88.5614 395.111 L83.6771 395.111 L83.6771 389.231 Z\" fill=\"#000000\" fill-rule=\"evenodd\" fill-opacity=\"1\" /><path clip-path=\"url(#clip300)\" d=\"M 0 0 M108.746 378.699 Q105.413 378.699 103.492 380.481 Q101.594 382.264 101.594 385.389 Q101.594 388.514 103.492 390.296 Q105.413 392.078 108.746 392.078 Q112.08 392.078 114.001 390.296 Q115.922 388.49 115.922 385.389 Q115.922 382.264 114.001 380.481 Q112.103 378.699 108.746 378.699 M104.071 376.708 Q101.061 375.967 99.3715 373.907 Q97.7048 371.847 97.7048 368.884 Q97.7048 364.741 100.645 362.333 Q103.608 359.926 108.746 359.926 Q113.908 359.926 116.848 362.333 Q119.788 364.741 119.788 368.884 Q119.788 371.847 118.098 373.907 Q116.432 375.967 113.445 376.708 Q116.825 377.495 118.7 379.787 Q120.598 382.078 120.598 385.389 Q120.598 390.412 117.52 393.097 Q114.464 395.782 108.746 395.782 Q103.029 395.782 99.9502 393.097 Q96.8947 390.412 96.8947 385.389 Q96.8947 382.078 98.7928 379.787 Q100.691 377.495 104.071 376.708 M102.358 369.324 Q102.358 372.009 104.024 373.514 Q105.714 375.018 108.746 375.018 Q111.756 375.018 113.445 373.514 Q115.158 372.009 115.158 369.324 Q115.158 366.639 113.445 365.134 Q111.756 363.629 108.746 363.629 Q105.714 363.629 104.024 365.134 Q102.358 366.639 102.358 369.324 Z\" fill=\"#000000\" fill-rule=\"evenodd\" fill-opacity=\"1\" /><path clip-path=\"url(#clip300)\" d=\"M 0 0 M54.2328 86.0656 L61.8717 86.0656 L61.8717 59.7 L53.5616 61.3667 L53.5616 57.1074 L61.8254 55.4408 L66.5013 55.4408 L66.5013 86.0656 L74.1402 86.0656 L74.1402 90.0008 L54.2328 90.0008 L54.2328 86.0656 Z\" fill=\"#000000\" fill-rule=\"evenodd\" fill-opacity=\"1\" /><path clip-path=\"url(#clip300)\" d=\"M 0 0 M83.5845 84.1212 L88.4688 84.1212 L88.4688 90.0008 L83.5845 90.0008 L83.5845 84.1212 Z\" fill=\"#000000\" fill-rule=\"evenodd\" fill-opacity=\"1\" /><path clip-path=\"url(#clip300)\" d=\"M 0 0 M108.654 58.5195 Q105.043 58.5195 103.214 62.0843 Q101.409 65.6259 101.409 72.7555 Q101.409 79.8619 103.214 83.4267 Q105.043 86.9684 108.654 86.9684 Q112.288 86.9684 114.094 83.4267 Q115.922 79.8619 115.922 72.7555 Q115.922 65.6259 114.094 62.0843 Q112.288 58.5195 108.654 58.5195 M108.654 54.8158 Q114.464 54.8158 117.52 59.4222 Q120.598 64.0055 120.598 72.7555 Q120.598 81.4823 117.52 86.0888 Q114.464 90.6721 108.654 90.6721 Q102.844 90.6721 99.765 86.0888 Q96.7095 81.4823 96.7095 72.7555 Q96.7095 64.0055 99.765 59.4222 Q102.844 54.8158 108.654 54.8158 Z\" fill=\"#000000\" fill-rule=\"evenodd\" fill-opacity=\"1\" /><polyline clip-path=\"url(#clip302)\" style=\"stroke:#009af9; stroke-width:4; stroke-opacity:1; fill:none\" points=\"\n",
       "  218.754,1348.08 238.987,1330.41 426.073,1188.06 538.504,1116.8 633.562,1062.84 736.823,1009.53 832.02,964.484 934.081,919.853 1052.33,872.137 1157.41,832.774 \n",
       "  1249.56,800.272 1350.03,766.706 1451.1,734.666 1562.84,701.004 1669.16,670.485 1779.7,640.125 1872.76,615.534 1986.37,586.577 2093.17,560.316 2264.27,519.945 \n",
       "  2290.6,513.901 \n",
       "  \"/>\n",
       "<polyline clip-path=\"url(#clip302)\" style=\"stroke:#e26f46; stroke-width:4; stroke-opacity:1; fill:none\" points=\"\n",
       "  367.74,1445.72 381.71,1438.89 395.471,1432.07 409.028,1425.25 422.387,1418.42 435.553,1411.6 448.531,1404.78 461.326,1397.96 473.941,1391.13 486.383,1384.31 \n",
       "  498.654,1377.49 510.759,1370.66 522.702,1363.84 534.487,1357.02 546.118,1350.2 557.599,1343.37 568.932,1336.55 580.121,1329.73 591.171,1322.91 602.083,1316.08 \n",
       "  612.861,1309.26 623.508,1302.44 634.027,1295.61 644.421,1288.79 654.693,1281.97 664.845,1275.15 674.88,1268.32 684.8,1261.5 694.608,1254.68 704.306,1247.85 \n",
       "  713.897,1241.03 723.383,1234.21 732.765,1227.39 742.047,1220.56 751.23,1213.74 760.317,1206.92 769.308,1200.09 778.207,1193.27 787.015,1186.45 795.733,1179.63 \n",
       "  804.364,1172.8 812.91,1165.98 821.371,1159.16 829.75,1152.33 838.048,1145.51 846.267,1138.69 854.408,1131.87 862.472,1125.04 870.462,1118.22 878.378,1111.4 \n",
       "  886.223,1104.58 893.996,1097.75 901.7,1090.93 909.336,1084.11 916.904,1077.28 924.407,1070.46 931.846,1063.64 939.221,1056.82 946.533,1049.99 953.784,1043.17 \n",
       "  960.976,1036.35 968.108,1029.52 975.181,1022.7 982.198,1015.88 989.159,1009.06 996.064,1002.23 1002.92,995.41 1009.71,988.587 1016.46,981.765 1023.15,974.942 \n",
       "  1029.8,968.119 1036.39,961.296 1042.93,954.473 1049.43,947.65 1055.88,940.828 1062.28,934.005 1068.63,927.182 1074.94,920.359 1081.21,913.536 1087.43,906.714 \n",
       "  1093.61,899.891 1099.75,893.068 1105.84,886.245 1111.89,879.422 1117.91,872.6 1123.88,865.777 1129.81,858.954 1135.71,852.131 1141.56,845.308 1147.38,838.486 \n",
       "  1153.16,831.663 1158.91,824.84 1164.62,818.017 1170.29,811.194 1175.93,804.371 1181.54,797.549 1187.11,790.726 1192.64,783.903 1198.15,777.08 1203.62,770.257 \n",
       "  1209.06,763.435 1214.47,756.612 1219.85,749.789 1225.19,742.966 1230.51,736.143 1235.8,729.321 1241.05,722.498 1246.28,715.675 1251.48,708.852 1256.65,702.029 \n",
       "  1261.79,695.206 1266.91,688.384 1272,681.561 1277.06,674.738 1282.1,667.915 1287.11,661.092 1292.09,654.27 1297.05,647.447 1301.98,640.624 1306.89,633.801 \n",
       "  1311.78,626.978 1316.64,620.156 1321.47,613.333 1326.29,606.51 1331.08,599.687 1335.84,592.864 1340.59,586.041 1345.31,579.219 1350.01,572.396 1354.69,565.573 \n",
       "  1359.34,558.75 1363.98,551.927 1368.59,545.105 1373.19,538.282 1377.76,531.459 1382.32,524.636 1386.85,517.813 1391.36,510.991 1395.86,504.168 1400.33,497.345 \n",
       "  1404.79,490.522 1409.23,483.699 1413.64,476.877 1418.04,470.054 1422.43,463.231 1426.79,456.408 1431.14,449.585 1435.47,442.762 1439.78,435.94 1444.07,429.117 \n",
       "  1448.35,422.294 1452.61,415.471 1456.86,408.648 1461.09,401.826 1465.3,395.003 1469.49,388.18 1473.67,381.357 1477.84,374.534 1481.99,367.712 1486.12,360.889 \n",
       "  1490.24,354.066 1494.35,347.243 1498.44,340.42 1502.51,333.597 1506.57,326.775 1510.62,319.952 1514.65,313.129 1518.67,306.306 1522.67,299.483 1526.66,292.661 \n",
       "  1530.64,285.838 1534.6,279.015 1538.55,272.192 1542.49,265.369 1546.41,258.547 1550.32,251.724 1554.22,244.901 1558.11,238.078 1561.98,231.255 1565.84,224.432 \n",
       "  1569.69,217.61 1573.53,210.787 1577.35,203.964 1581.16,197.141 1584.97,190.318 1588.76,183.496 1592.53,176.673 1596.3,169.85 1600.06,163.027 1603.8,156.204 \n",
       "  1607.54,149.382 1611.26,142.559 1614.97,135.736 1618.67,128.913 1622.36,122.09 1626.04,115.268 1629.71,108.445 1633.37,101.622 1637.02,94.7991 1640.66,87.9763 \n",
       "  \n",
       "  \"/>\n",
       "<path clip-path=\"url(#clip300)\" d=\"\n",
       "M1983.1 276.658 L2279.55 276.658 L2279.55 95.2176 L1983.1 95.2176  Z\n",
       "  \" fill=\"#ffffff\" fill-rule=\"evenodd\" fill-opacity=\"1\"/>\n",
       "<polyline clip-path=\"url(#clip300)\" style=\"stroke:#000000; stroke-width:4; stroke-opacity:1; fill:none\" points=\"\n",
       "  1983.1,276.658 2279.55,276.658 2279.55,95.2176 1983.1,95.2176 1983.1,276.658 \n",
       "  \"/>\n",
       "<polyline clip-path=\"url(#clip300)\" style=\"stroke:#009af9; stroke-width:4; stroke-opacity:1; fill:none\" points=\"\n",
       "  2007.5,155.698 2153.92,155.698 \n",
       "  \"/>\n",
       "<path clip-path=\"url(#clip300)\" d=\"M 0 0 M2192.16 175.385 Q2190.35 180.015 2188.64 181.427 Q2186.93 182.839 2184.06 182.839 L2180.65 182.839 L2180.65 179.274 L2183.15 179.274 Q2184.91 179.274 2185.89 178.44 Q2186.86 177.607 2188.04 174.505 L2188.8 172.561 L2178.32 147.052 L2182.83 147.052 L2190.93 167.329 L2199.03 147.052 L2203.55 147.052 L2192.16 175.385 Z\" fill=\"#000000\" fill-rule=\"evenodd\" fill-opacity=\"1\" /><path clip-path=\"url(#clip300)\" d=\"M 0 0 M2210.84 169.042 L2218.48 169.042 L2218.48 142.677 L2210.17 144.343 L2210.17 140.084 L2218.43 138.418 L2223.11 138.418 L2223.11 169.042 L2230.75 169.042 L2230.75 172.978 L2210.84 172.978 L2210.84 169.042 Z\" fill=\"#000000\" fill-rule=\"evenodd\" fill-opacity=\"1\" /><polyline clip-path=\"url(#clip300)\" style=\"stroke:#e26f46; stroke-width:4; stroke-opacity:1; fill:none\" points=\"\n",
       "  2007.5,216.178 2153.92,216.178 \n",
       "  \"/>\n",
       "<path clip-path=\"url(#clip300)\" d=\"M 0 0 M2192.16 235.865 Q2190.35 240.495 2188.64 241.907 Q2186.93 243.319 2184.06 243.319 L2180.65 243.319 L2180.65 239.754 L2183.15 239.754 Q2184.91 239.754 2185.89 238.92 Q2186.86 238.087 2188.04 234.985 L2188.8 233.041 L2178.32 207.532 L2182.83 207.532 L2190.93 227.809 L2199.03 207.532 L2203.55 207.532 L2192.16 235.865 Z\" fill=\"#000000\" fill-rule=\"evenodd\" fill-opacity=\"1\" /><path clip-path=\"url(#clip300)\" d=\"M 0 0 M2214.06 229.522 L2230.38 229.522 L2230.38 233.458 L2208.43 233.458 L2208.43 229.522 Q2211.09 226.768 2215.68 222.138 Q2220.28 217.485 2221.46 216.143 Q2223.71 213.62 2224.59 211.884 Q2225.49 210.124 2225.49 208.435 Q2225.49 205.68 2223.55 203.944 Q2221.63 202.208 2218.52 202.208 Q2216.33 202.208 2213.87 202.972 Q2211.44 203.735 2208.66 205.286 L2208.66 200.564 Q2211.49 199.43 2213.94 198.851 Q2216.4 198.273 2218.43 198.273 Q2223.8 198.273 2227 200.958 Q2230.19 203.643 2230.19 208.134 Q2230.19 210.263 2229.38 212.185 Q2228.59 214.083 2226.49 216.675 Q2225.91 217.347 2222.81 220.564 Q2219.71 223.759 2214.06 229.522 Z\" fill=\"#000000\" fill-rule=\"evenodd\" fill-opacity=\"1\" /></svg>\n"
      ]
     },
     "execution_count": 11,
     "metadata": {},
     "output_type": "execute_result"
    }
   ],
   "source": [
    "plot!(BR(y_1 => 1),w_2,0.1,.99)"
   ]
  },
  {
   "cell_type": "markdown",
   "id": "ddf3a5e3-1319-444e-88c1-2e85d19da885",
   "metadata": {},
   "source": [
    "Notice the two lines intersect nicely at $\\frac{1}{2}$, in other words each firm should set the wage $\\frac{1}{2}$ in equilibrium. \n",
    "\n",
    "Since the firms are identical, we have good reason to believe they will both set the same wage in equilibrium.  Whatever that wage is, the best reply to that wage should be equal to that wage.  So we can try solving."
   ]
  },
  {
   "cell_type": "code",
   "execution_count": 12,
   "id": "c374266b-448b-4974-865a-95b55c49ccac",
   "metadata": {},
   "outputs": [
    {
     "data": {
      "text/latex": [
       "$\\left[ \\begin{array}{r}\\frac{1}{2}\\end{array} \\right]$\n"
      ],
      "text/plain": [
       "1-element Vector{Sym}:\n",
       " 1/2"
      ]
     },
     "execution_count": 12,
     "metadata": {},
     "output_type": "execute_result"
    }
   ],
   "source": [
    "solve(w_2-BR(y_1 => 1))"
   ]
  },
  {
   "cell_type": "markdown",
   "id": "d19d2861-e0c7-4c16-a34c-63b694a41f7b",
   "metadata": {},
   "source": [
    "Can you explain why the solution $w_1=w_2=0$ is not an equilibrium?"
   ]
  },
  {
   "cell_type": "markdown",
   "id": "837b51f4-db28-469d-a75a-0392fad06cee",
   "metadata": {},
   "source": [
    "# Different Firms\n",
    "\n",
    "It isn't really much harder to make the firms different when you have the symbolic software.  This might also give you a better sense of how the equilibrium wages are being determined.  The condition we want is that both wages are best replies to each other.  \n",
    "\n",
    "To accomplish this, we can write the profit and best reply function for firm 2 - we need to do this now because firm 1 and 2 are different.  Since for a pair of wages $w_1,w_2$, `prob_simp` gives the probability that any worker will apply to firm 1, we just use `1-prob_simp` as the probability each worker applies to firm 2.  This gives the following computational stuff"
   ]
  },
  {
   "cell_type": "code",
   "execution_count": 13,
   "id": "799eb737-52b7-4a18-a1ba-acf48dc4a2b7",
   "metadata": {},
   "outputs": [
    {
     "data": {
      "text/latex": [
       "$\\begin{equation*}\\left(- w_{2} + y_{2}\\right) \\left(- \\frac{- 4 w_{1} + 2 w_{2}}{\\left(w_{1} + w_{2}\\right)^{2}} + \\frac{2 \\left(2 w_{1} - w_{2}\\right)^{2}}{\\left(w_{1} + w_{2}\\right)^{3}}\\right) - 1 + \\frac{\\left(2 w_{1} - w_{2}\\right)^{2}}{\\left(w_{1} + w_{2}\\right)^{2}}\\end{equation*}$\n"
      ],
      "text/plain": [
       "           ⎛                              2⎞                  2\n",
       "           ⎜  -4⋅w₁ + 2⋅w₂   2⋅(2⋅w₁ - w₂) ⎟       (2⋅w₁ - w₂) \n",
       "(-w₂ + y₂)⋅⎜- ──────────── + ──────────────⎟ - 1 + ────────────\n",
       "           ⎜            2               3  ⎟                 2 \n",
       "           ⎝   (w₁ + w₂)       (w₁ + w₂)   ⎠        (w₁ + w₂)  "
      ]
     },
     "execution_count": 13,
     "metadata": {},
     "output_type": "execute_result"
    }
   ],
   "source": [
    "profit_simp2 = (1-(prob_simp)^2)*(y_2-w_2)\n",
    "dprofit2 = diff(profit_simp2, w_2)"
   ]
  },
  {
   "cell_type": "code",
   "execution_count": 14,
   "id": "0606b265-462a-4a05-884a-586c27fb9745",
   "metadata": {},
   "outputs": [
    {
     "data": {
      "text/latex": [
       "$\\begin{equation*}\\frac{w_{1} \\left(w_{1} + 4 y_{2}\\right)}{5 w_{1} + 2 y_{2}}\\end{equation*}$\n"
      ],
      "text/plain": [
       "w₁⋅(w₁ + 4⋅y₂)\n",
       "──────────────\n",
       " 5⋅w₁ + 2⋅y₂  "
      ]
     },
     "execution_count": 14,
     "metadata": {},
     "output_type": "execute_result"
    }
   ],
   "source": [
    "BR2 = solve(dprofit2,w_2)[1]"
   ]
  },
  {
   "cell_type": "code",
   "execution_count": 15,
   "id": "870d7e71-43e8-4171-bdb0-0e739a395da7",
   "metadata": {},
   "outputs": [
    {
     "data": {
      "text/latex": [
       "$\\begin{equation*}\\frac{w_{2} \\left(w_{2} + 4 y_{1}\\right)}{5 w_{2} + 2 y_{1}}\\end{equation*}$\n"
      ],
      "text/plain": [
       "w₂⋅(w₂ + 4⋅y₁)\n",
       "──────────────\n",
       " 5⋅w₂ + 2⋅y₁  "
      ]
     },
     "execution_count": 15,
     "metadata": {},
     "output_type": "execute_result"
    }
   ],
   "source": [
    "BR"
   ]
  },
  {
   "cell_type": "markdown",
   "id": "0eb6385b-9642-4c3b-9edc-1e8edbb20f8e",
   "metadata": {},
   "source": [
    "Finally, since the `solve` command given in the previous section is looking for a symbolic solve, we can now convert everything to real numbers to solve for the fixed point."
   ]
  },
  {
   "cell_type": "code",
   "execution_count": 16,
   "id": "f1556fa8-c142-4bbc-8d04-54a5962b2461",
   "metadata": {},
   "outputs": [
    {
     "data": {
      "text/latex": [
       "$\\left[ \\begin{array}{r}0.431733526043031\\\\0.460081956966271\\end{array}\\right]$\n"
      ],
      "text/plain": [
       "2×1 Matrix{Sym}:\n",
       " 0.431733526043031\n",
       " 0.460081956966271"
      ]
     },
     "execution_count": 16,
     "metadata": {},
     "output_type": "execute_result"
    }
   ],
   "source": [
    "sympy.nsolve((w_1-BR(y_1 => .8),w_2-BR2(y_2 => 1)),(w_1,w_2),(.5,.5))"
   ]
  },
  {
   "cell_type": "code",
   "execution_count": null,
   "id": "7a8acc5a-5d93-452d-8877-9847a84eb3c7",
   "metadata": {},
   "outputs": [],
   "source": []
  }
 ],
 "metadata": {
  "kernelspec": {
   "display_name": "Julia 1.8.5",
   "language": "julia",
   "name": "julia-1.8"
  },
  "language_info": {
   "file_extension": ".jl",
   "mimetype": "application/julia",
   "name": "julia",
   "version": "1.8.5"
  }
 },
 "nbformat": 4,
 "nbformat_minor": 5
}
