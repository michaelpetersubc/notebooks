{
 "cells": [
  {
   "cell_type": "markdown",
   "id": "d75b2bac-a471-4640-a372-651fb18460d4",
   "metadata": {},
   "source": [
    "# Introduction\n",
    "\n",
    "This is the julia version of the directed search problem with incomplete information. Whether you use julia or sagemath or some commercially produced computer algebra system, symbolic computations are probably the only way to properly understand the subgame perfect equilibrium for this problem.\n",
    "\n",
    "We'll show below that when workers are equally productive in the two worker two firm version of the problem, then there won't be a pure strategy equilibrium in firms' wages.  It seems hard to imagine that this problem could be solved by hand, but maybe it is just my limited imagination and patience telling me this.\n",
    "\n",
    "There are two firms, 1 and 2 and two workers, each of whom applies to one and only one of the firms.  The firms earn revenues of $y_1$ and $y_2$ respectively if they are able to hire a worker. They offer wages $w_1$ and $w_2$. If only a single worker applies to a firm, the firm hires that worker.  In that case, the firm gets its revenue less the wage that it pays, the worker gets the wage.\n",
    "\n",
    "If two workers apply to the same firm, the firm will select the worker with the most desirable type.  Workers types are given by $h$ or $l$. Each firm will hire a type $h$ if one applies.  Otherwise they are happy to hire a type $l$.  In cases where two workers are considered equally good, the firm will hire each of them with probability $\\frac{1}{2}$.\n",
    "\n",
    "Firms with no applicants and workers who are not offered a job get nothing.\n",
    "\n",
    "We'll look for a symmetric subgame perect equilibrium of the directed search game in which workers of the same type use the same application strategy. Recall the basic assumption of directed search - both workers see the wage offers made by the firms and use an application strategy that depends on those wages.\n",
    "\n",
    "To make this a model of incomplete information, we'll assume that workers know their own types, but not the other worker's type.  Firms don't know the workers' types but can observe these types when the worker apply.  It is common belief that each worker is type $h$ with probability $\\lambda$.\n",
    "\n",
    "# Workers\n",
    "\n",
    "As always, to find a subgame perfect equilibrium you need to start with the last sub-game.  This is the one where workers apply.  There are two types of workers, so we want to find two mixed strategies, represented by $\\pi_h$ and $\\pi_l$, where $\\pi_j$ is the probability that a worker of type $j$ applies to firm 1 (the one offering wage $w_1$\n",
    "\n",
    "As you now know, the best way to find a mixed strategy is to write down an indifference condition.  For example, if you are a worker of type $H$, then you should expect your opponent to play in a way that makes you indifferent between your options. \n",
    "\n",
    "For a type $H$ worker, this is straightforward because the type $H$ workers don't care what type $L$ workers do.  So we can write the indifference condition as\n",
    "$$\n",
    "\\lambda \\{\\pi_h \\frac{w_1}{2} +(1-\\pi_h)w_1\\}+(1-\\lambda)w_1 =\n",
    "\\lambda \\{\\pi_h w_2 +(1-\\pi_h)\\frac{w_2}{2}\\}+(1-\\lambda)w_2\n",
    "$$\n",
    "\n",
    "We are ready to start to figure this game out using symbolics."
   ]
  },
  {
   "cell_type": "code",
   "execution_count": 1,
   "id": "090936fe-ca0a-4d3f-9dd7-8353bac29cb1",
   "metadata": {},
   "outputs": [],
   "source": [
    "using SymPy\n",
    "w_1, w_2 = symbols(\"w_1, w_2\",real=true,positive=true)\n",
    "pi_h, pi_l, y_1, y_2, lambda = symbols(\"pi_h, pi_l, y_1, y_2, lambda\")\n",
    "using Plots"
   ]
  },
  {
   "cell_type": "markdown",
   "id": "53b52a9e-27ca-48c8-aa0b-193b81e127a3",
   "metadata": {},
   "source": [
    "## Type H\n",
    "\n",
    "Since type $h$ workers are always hired ahead of type $l$ workers, type $h$ workers don't care what type $l$ workers do.  So finding the continuation strategy involves just a trivial modification of what you would do with complete information."
   ]
  },
  {
   "cell_type": "code",
   "execution_count": 2,
   "id": "24f853ea-8b89-4fa0-84d0-9b38f77c7cc4",
   "metadata": {},
   "outputs": [
    {
     "data": {
      "text/latex": [
       "$\\begin{equation*}\\lambda \\left(\\frac{\\pi_{h} w_{1}}{2} + w_{1} \\left(1 - \\pi_{h}\\right)\\right) + w_{1} \\left(1 - \\lambda\\right)\\end{equation*}$\n"
      ],
      "text/plain": [
       "  ⎛πₕ⋅w₁              ⎞             \n",
       "λ⋅⎜───── + w₁⋅(1 - πₕ)⎟ + w₁⋅(1 - λ)\n",
       "  ⎝  2                ⎠             "
      ]
     },
     "execution_count": 2,
     "metadata": {},
     "output_type": "execute_result"
    }
   ],
   "source": [
    "lefth = lambda*(pi_h*(w_1/2)+(1-pi_h)w_1)+(1-lambda)*w_1"
   ]
  },
  {
   "cell_type": "code",
   "execution_count": 3,
   "id": "e91dc950-b62e-4024-8d2b-ecc23b31d2b4",
   "metadata": {},
   "outputs": [
    {
     "data": {
      "text/latex": [
       "$\\begin{equation*}\\lambda \\left(\\pi_{h} w_{2} + \\frac{w_{2} \\left(1 - \\pi_{h}\\right)}{2}\\right) + w_{2} \\left(1 - \\lambda\\right)\\end{equation*}$\n"
      ],
      "text/plain": [
       "  ⎛        w₂⋅(1 - πₕ)⎞             \n",
       "λ⋅⎜πₕ⋅w₂ + ───────────⎟ + w₂⋅(1 - λ)\n",
       "  ⎝             2     ⎠             "
      ]
     },
     "execution_count": 3,
     "metadata": {},
     "output_type": "execute_result"
    }
   ],
   "source": [
    "righth =lambda*(pi_h*w_2+(1-pi_h)w_2/2)+(1-lambda)w_2"
   ]
  },
  {
   "cell_type": "code",
   "execution_count": 4,
   "id": "c1fa274a-8960-441a-8646-3e7313eea7c6",
   "metadata": {},
   "outputs": [
    {
     "data": {
      "text/latex": [
       "$\\begin{equation*}\\frac{\\lambda w_{2} + 2 w_{1} - 2 w_{2}}{\\lambda \\left(w_{1} + w_{2}\\right)}\\end{equation*}$\n"
      ],
      "text/plain": [
       "λ⋅w₂ + 2⋅w₁ - 2⋅w₂\n",
       "──────────────────\n",
       "   λ⋅(w₁ + w₂)    "
      ]
     },
     "execution_count": 4,
     "metadata": {},
     "output_type": "execute_result"
    }
   ],
   "source": [
    "probh_simp = solve(lefth-righth,pi_h)[1]"
   ]
  },
  {
   "cell_type": "markdown",
   "id": "e42b12c6-471d-42c4-8e28-fc9784a67714",
   "metadata": {},
   "source": [
    "The complication with this formula is that, because we want a subgame perfect equilibrium, we aren't yet sure what firms' wages will be.  The formula above could give a solution larger than 1 or less that 0, neither of which make sense here.  This is really what makes this problem so complicated to solve on paper.  In any case we can use the following trick - when a strategy is dominant, the solution for `probh_simp` will be larger than 1, similarly for a dominated strategy.  Symbolics lets us use the following trick."
   ]
  },
  {
   "cell_type": "code",
   "execution_count": 5,
   "id": "13a480d2-bc8a-4b8a-9ea7-7bd899fff846",
   "metadata": {},
   "outputs": [
    {
     "data": {
      "text/latex": [
       "$\\begin{equation*}\\max\\left(0, \\min\\left(1, \\frac{\\lambda w_{2} + 2 w_{1} - 2 w_{2}}{\\lambda \\left(w_{1} + w_{2}\\right)}\\right)\\right)\\end{equation*}$\n"
      ],
      "text/plain": [
       "Max(0, Min(1, (lambda*w_2 + 2*w_1 - 2*w_2)/(lambda*(w_1 + w_2))))"
      ]
     },
     "execution_count": 5,
     "metadata": {},
     "output_type": "execute_result"
    }
   ],
   "source": [
    "probh = max(min(probh_simp,1),0)"
   ]
  },
  {
   "cell_type": "code",
   "execution_count": 6,
   "id": "974964b0-c43b-401a-990a-2e6cb55b1cbf",
   "metadata": {},
   "outputs": [
    {
     "data": {
      "image/svg+xml": [
       "<?xml version=\"1.0\" encoding=\"utf-8\"?>\n",
       "<svg xmlns=\"http://www.w3.org/2000/svg\" xmlns:xlink=\"http://www.w3.org/1999/xlink\" width=\"600\" height=\"400\" viewBox=\"0 0 2400 1600\">\n",
       "<defs>\n",
       "  <clipPath id=\"clip890\">\n",
       "    <rect x=\"0\" y=\"0\" width=\"2400\" height=\"1600\"/>\n",
       "  </clipPath>\n",
       "</defs>\n",
       "<path clip-path=\"url(#clip890)\" d=\"\n",
       "M0 1600 L2400 1600 L2400 0 L0 0  Z\n",
       "  \" fill=\"#ffffff\" fill-rule=\"evenodd\" fill-opacity=\"1\"/>\n",
       "<defs>\n",
       "  <clipPath id=\"clip891\">\n",
       "    <rect x=\"480\" y=\"0\" width=\"1681\" height=\"1600\"/>\n",
       "  </clipPath>\n",
       "</defs>\n",
       "<path clip-path=\"url(#clip890)\" d=\"\n",
       "M186.274 1486.45 L2352.76 1486.45 L2352.76 47.2441 L186.274 47.2441  Z\n",
       "  \" fill=\"#ffffff\" fill-rule=\"evenodd\" fill-opacity=\"1\"/>\n",
       "<defs>\n",
       "  <clipPath id=\"clip892\">\n",
       "    <rect x=\"186\" y=\"47\" width=\"2167\" height=\"1440\"/>\n",
       "  </clipPath>\n",
       "</defs>\n",
       "<polyline clip-path=\"url(#clip892)\" style=\"stroke:#000000; stroke-linecap:butt; stroke-linejoin:round; stroke-width:2; stroke-opacity:0.1; fill:none\" points=\"\n",
       "  226.734,1486.45 226.734,47.2441 \n",
       "  \"/>\n",
       "<polyline clip-path=\"url(#clip892)\" style=\"stroke:#000000; stroke-linecap:butt; stroke-linejoin:round; stroke-width:2; stroke-opacity:0.1; fill:none\" points=\"\n",
       "  748.124,1486.45 748.124,47.2441 \n",
       "  \"/>\n",
       "<polyline clip-path=\"url(#clip892)\" style=\"stroke:#000000; stroke-linecap:butt; stroke-linejoin:round; stroke-width:2; stroke-opacity:0.1; fill:none\" points=\"\n",
       "  1269.51,1486.45 1269.51,47.2441 \n",
       "  \"/>\n",
       "<polyline clip-path=\"url(#clip892)\" style=\"stroke:#000000; stroke-linecap:butt; stroke-linejoin:round; stroke-width:2; stroke-opacity:0.1; fill:none\" points=\"\n",
       "  1790.91,1486.45 1790.91,47.2441 \n",
       "  \"/>\n",
       "<polyline clip-path=\"url(#clip892)\" style=\"stroke:#000000; stroke-linecap:butt; stroke-linejoin:round; stroke-width:2; stroke-opacity:0.1; fill:none\" points=\"\n",
       "  2312.3,1486.45 2312.3,47.2441 \n",
       "  \"/>\n",
       "<polyline clip-path=\"url(#clip890)\" style=\"stroke:#000000; stroke-linecap:butt; stroke-linejoin:round; stroke-width:4; stroke-opacity:1; fill:none\" points=\"\n",
       "  186.274,1486.45 2352.76,1486.45 \n",
       "  \"/>\n",
       "<polyline clip-path=\"url(#clip890)\" style=\"stroke:#000000; stroke-linecap:butt; stroke-linejoin:round; stroke-width:4; stroke-opacity:1; fill:none\" points=\"\n",
       "  226.734,1486.45 226.734,1467.55 \n",
       "  \"/>\n",
       "<polyline clip-path=\"url(#clip890)\" style=\"stroke:#000000; stroke-linecap:butt; stroke-linejoin:round; stroke-width:4; stroke-opacity:1; fill:none\" points=\"\n",
       "  748.124,1486.45 748.124,1467.55 \n",
       "  \"/>\n",
       "<polyline clip-path=\"url(#clip890)\" style=\"stroke:#000000; stroke-linecap:butt; stroke-linejoin:round; stroke-width:4; stroke-opacity:1; fill:none\" points=\"\n",
       "  1269.51,1486.45 1269.51,1467.55 \n",
       "  \"/>\n",
       "<polyline clip-path=\"url(#clip890)\" style=\"stroke:#000000; stroke-linecap:butt; stroke-linejoin:round; stroke-width:4; stroke-opacity:1; fill:none\" points=\"\n",
       "  1790.91,1486.45 1790.91,1467.55 \n",
       "  \"/>\n",
       "<polyline clip-path=\"url(#clip890)\" style=\"stroke:#000000; stroke-linecap:butt; stroke-linejoin:round; stroke-width:4; stroke-opacity:1; fill:none\" points=\"\n",
       "  2312.3,1486.45 2312.3,1467.55 \n",
       "  \"/>\n",
       "<path clip-path=\"url(#clip890)\" d=\"M189.037 1517.37 Q185.426 1517.37 183.598 1520.93 Q181.792 1524.47 181.792 1531.6 Q181.792 1538.71 183.598 1542.27 Q185.426 1545.82 189.037 1545.82 Q192.672 1545.82 194.477 1542.27 Q196.306 1538.71 196.306 1531.6 Q196.306 1524.47 194.477 1520.93 Q192.672 1517.37 189.037 1517.37 M189.037 1513.66 Q194.848 1513.66 197.903 1518.27 Q200.982 1522.85 200.982 1531.6 Q200.982 1540.33 197.903 1544.94 Q194.848 1549.52 189.037 1549.52 Q183.227 1549.52 180.149 1544.94 Q177.093 1540.33 177.093 1531.6 Q177.093 1522.85 180.149 1518.27 Q183.227 1513.66 189.037 1513.66 Z\" fill=\"#000000\" fill-rule=\"evenodd\" fill-opacity=\"1\" /><path clip-path=\"url(#clip890)\" d=\"M209.199 1542.97 L214.084 1542.97 L214.084 1548.85 L209.199 1548.85 L209.199 1542.97 Z\" fill=\"#000000\" fill-rule=\"evenodd\" fill-opacity=\"1\" /><path clip-path=\"url(#clip890)\" d=\"M234.269 1517.37 Q230.657 1517.37 228.829 1520.93 Q227.023 1524.47 227.023 1531.6 Q227.023 1538.71 228.829 1542.27 Q230.657 1545.82 234.269 1545.82 Q237.903 1545.82 239.708 1542.27 Q241.537 1538.71 241.537 1531.6 Q241.537 1524.47 239.708 1520.93 Q237.903 1517.37 234.269 1517.37 M234.269 1513.66 Q240.079 1513.66 243.134 1518.27 Q246.213 1522.85 246.213 1531.6 Q246.213 1540.33 243.134 1544.94 Q240.079 1549.52 234.269 1549.52 Q228.458 1549.52 225.38 1544.94 Q222.324 1540.33 222.324 1531.6 Q222.324 1522.85 225.38 1518.27 Q228.458 1513.66 234.269 1513.66 Z\" fill=\"#000000\" fill-rule=\"evenodd\" fill-opacity=\"1\" /><path clip-path=\"url(#clip890)\" d=\"M264.43 1517.37 Q260.819 1517.37 258.991 1520.93 Q257.185 1524.47 257.185 1531.6 Q257.185 1538.71 258.991 1542.27 Q260.819 1545.82 264.43 1545.82 Q268.065 1545.82 269.87 1542.27 Q271.699 1538.71 271.699 1531.6 Q271.699 1524.47 269.87 1520.93 Q268.065 1517.37 264.43 1517.37 M264.43 1513.66 Q270.241 1513.66 273.296 1518.27 Q276.375 1522.85 276.375 1531.6 Q276.375 1540.33 273.296 1544.94 Q270.241 1549.52 264.43 1549.52 Q258.62 1549.52 255.542 1544.94 Q252.486 1540.33 252.486 1531.6 Q252.486 1522.85 255.542 1518.27 Q258.62 1513.66 264.43 1513.66 Z\" fill=\"#000000\" fill-rule=\"evenodd\" fill-opacity=\"1\" /><path clip-path=\"url(#clip890)\" d=\"M710.926 1517.37 Q707.314 1517.37 705.486 1520.93 Q703.68 1524.47 703.68 1531.6 Q703.68 1538.71 705.486 1542.27 Q707.314 1545.82 710.926 1545.82 Q714.56 1545.82 716.365 1542.27 Q718.194 1538.71 718.194 1531.6 Q718.194 1524.47 716.365 1520.93 Q714.56 1517.37 710.926 1517.37 M710.926 1513.66 Q716.736 1513.66 719.791 1518.27 Q722.87 1522.85 722.87 1531.6 Q722.87 1540.33 719.791 1544.94 Q716.736 1549.52 710.926 1549.52 Q705.115 1549.52 702.037 1544.94 Q698.981 1540.33 698.981 1531.6 Q698.981 1522.85 702.037 1518.27 Q705.115 1513.66 710.926 1513.66 Z\" fill=\"#000000\" fill-rule=\"evenodd\" fill-opacity=\"1\" /><path clip-path=\"url(#clip890)\" d=\"M731.087 1542.97 L735.972 1542.97 L735.972 1548.85 L731.087 1548.85 L731.087 1542.97 Z\" fill=\"#000000\" fill-rule=\"evenodd\" fill-opacity=\"1\" /><path clip-path=\"url(#clip890)\" d=\"M750.185 1544.91 L766.504 1544.91 L766.504 1548.85 L744.56 1548.85 L744.56 1544.91 Q747.222 1542.16 751.805 1537.53 Q756.411 1532.88 757.592 1531.53 Q759.837 1529.01 760.717 1527.27 Q761.62 1525.51 761.62 1523.82 Q761.62 1521.07 759.675 1519.33 Q757.754 1517.6 754.652 1517.6 Q752.453 1517.6 749.999 1518.36 Q747.569 1519.13 744.791 1520.68 L744.791 1515.95 Q747.615 1514.82 750.069 1514.24 Q752.523 1513.66 754.56 1513.66 Q759.93 1513.66 763.124 1516.35 Q766.319 1519.03 766.319 1523.52 Q766.319 1525.65 765.509 1527.57 Q764.722 1529.47 762.615 1532.07 Q762.036 1532.74 758.935 1535.95 Q755.833 1539.15 750.185 1544.91 Z\" fill=\"#000000\" fill-rule=\"evenodd\" fill-opacity=\"1\" /><path clip-path=\"url(#clip890)\" d=\"M776.365 1514.29 L794.721 1514.29 L794.721 1518.22 L780.647 1518.22 L780.647 1526.7 Q781.666 1526.35 782.684 1526.19 Q783.703 1526 784.721 1526 Q790.508 1526 793.888 1529.17 Q797.268 1532.34 797.268 1537.76 Q797.268 1543.34 793.795 1546.44 Q790.323 1549.52 784.004 1549.52 Q781.828 1549.52 779.559 1549.15 Q777.314 1548.78 774.907 1548.04 L774.907 1543.34 Q776.99 1544.47 779.212 1545.03 Q781.434 1545.58 783.911 1545.58 Q787.916 1545.58 790.254 1543.48 Q792.592 1541.37 792.592 1537.76 Q792.592 1534.15 790.254 1532.04 Q787.916 1529.94 783.911 1529.94 Q782.036 1529.94 780.161 1530.35 Q778.309 1530.77 776.365 1531.65 L776.365 1514.29 Z\" fill=\"#000000\" fill-rule=\"evenodd\" fill-opacity=\"1\" /><path clip-path=\"url(#clip890)\" d=\"M1231.82 1517.37 Q1228.21 1517.37 1226.38 1520.93 Q1224.57 1524.47 1224.57 1531.6 Q1224.57 1538.71 1226.38 1542.27 Q1228.21 1545.82 1231.82 1545.82 Q1235.45 1545.82 1237.26 1542.27 Q1239.09 1538.71 1239.09 1531.6 Q1239.09 1524.47 1237.26 1520.93 Q1235.45 1517.37 1231.82 1517.37 M1231.82 1513.66 Q1237.63 1513.66 1240.68 1518.27 Q1243.76 1522.85 1243.76 1531.6 Q1243.76 1540.33 1240.68 1544.94 Q1237.63 1549.52 1231.82 1549.52 Q1226.01 1549.52 1222.93 1544.94 Q1219.87 1540.33 1219.87 1531.6 Q1219.87 1522.85 1222.93 1518.27 Q1226.01 1513.66 1231.82 1513.66 Z\" fill=\"#000000\" fill-rule=\"evenodd\" fill-opacity=\"1\" /><path clip-path=\"url(#clip890)\" d=\"M1251.98 1542.97 L1256.86 1542.97 L1256.86 1548.85 L1251.98 1548.85 L1251.98 1542.97 Z\" fill=\"#000000\" fill-rule=\"evenodd\" fill-opacity=\"1\" /><path clip-path=\"url(#clip890)\" d=\"M1267.1 1514.29 L1285.45 1514.29 L1285.45 1518.22 L1271.38 1518.22 L1271.38 1526.7 Q1272.4 1526.35 1273.42 1526.19 Q1274.43 1526 1275.45 1526 Q1281.24 1526 1284.62 1529.17 Q1288 1532.34 1288 1537.76 Q1288 1543.34 1284.53 1546.44 Q1281.05 1549.52 1274.73 1549.52 Q1272.56 1549.52 1270.29 1549.15 Q1268.05 1548.78 1265.64 1548.04 L1265.64 1543.34 Q1267.72 1544.47 1269.94 1545.03 Q1272.17 1545.58 1274.64 1545.58 Q1278.65 1545.58 1280.98 1543.48 Q1283.32 1541.37 1283.32 1537.76 Q1283.32 1534.15 1280.98 1532.04 Q1278.65 1529.94 1274.64 1529.94 Q1272.77 1529.94 1270.89 1530.35 Q1269.04 1530.77 1267.1 1531.65 L1267.1 1514.29 Z\" fill=\"#000000\" fill-rule=\"evenodd\" fill-opacity=\"1\" /><path clip-path=\"url(#clip890)\" d=\"M1307.21 1517.37 Q1303.6 1517.37 1301.77 1520.93 Q1299.97 1524.47 1299.97 1531.6 Q1299.97 1538.71 1301.77 1542.27 Q1303.6 1545.82 1307.21 1545.82 Q1310.85 1545.82 1312.65 1542.27 Q1314.48 1538.71 1314.48 1531.6 Q1314.48 1524.47 1312.65 1520.93 Q1310.85 1517.37 1307.21 1517.37 M1307.21 1513.66 Q1313.02 1513.66 1316.08 1518.27 Q1319.16 1522.85 1319.16 1531.6 Q1319.16 1540.33 1316.08 1544.94 Q1313.02 1549.52 1307.21 1549.52 Q1301.4 1549.52 1298.32 1544.94 Q1295.27 1540.33 1295.27 1531.6 Q1295.27 1522.85 1298.32 1518.27 Q1301.4 1513.66 1307.21 1513.66 Z\" fill=\"#000000\" fill-rule=\"evenodd\" fill-opacity=\"1\" /><path clip-path=\"url(#clip890)\" d=\"M1753.71 1517.37 Q1750.1 1517.37 1748.27 1520.93 Q1746.46 1524.47 1746.46 1531.6 Q1746.46 1538.71 1748.27 1542.27 Q1750.1 1545.82 1753.71 1545.82 Q1757.34 1545.82 1759.15 1542.27 Q1760.98 1538.71 1760.98 1531.6 Q1760.98 1524.47 1759.15 1520.93 Q1757.34 1517.37 1753.71 1517.37 M1753.71 1513.66 Q1759.52 1513.66 1762.57 1518.27 Q1765.65 1522.85 1765.65 1531.6 Q1765.65 1540.33 1762.57 1544.94 Q1759.52 1549.52 1753.71 1549.52 Q1747.9 1549.52 1744.82 1544.94 Q1741.76 1540.33 1741.76 1531.6 Q1741.76 1522.85 1744.82 1518.27 Q1747.9 1513.66 1753.71 1513.66 Z\" fill=\"#000000\" fill-rule=\"evenodd\" fill-opacity=\"1\" /><path clip-path=\"url(#clip890)\" d=\"M1773.87 1542.97 L1778.75 1542.97 L1778.75 1548.85 L1773.87 1548.85 L1773.87 1542.97 Z\" fill=\"#000000\" fill-rule=\"evenodd\" fill-opacity=\"1\" /><path clip-path=\"url(#clip890)\" d=\"M1787.76 1514.29 L1809.98 1514.29 L1809.98 1516.28 L1797.43 1548.85 L1792.55 1548.85 L1804.35 1518.22 L1787.76 1518.22 L1787.76 1514.29 Z\" fill=\"#000000\" fill-rule=\"evenodd\" fill-opacity=\"1\" /><path clip-path=\"url(#clip890)\" d=\"M1819.15 1514.29 L1837.5 1514.29 L1837.5 1518.22 L1823.43 1518.22 L1823.43 1526.7 Q1824.45 1526.35 1825.47 1526.19 Q1826.48 1526 1827.5 1526 Q1833.29 1526 1836.67 1529.17 Q1840.05 1532.34 1840.05 1537.76 Q1840.05 1543.34 1836.58 1546.44 Q1833.1 1549.52 1826.78 1549.52 Q1824.61 1549.52 1822.34 1549.15 Q1820.1 1548.78 1817.69 1548.04 L1817.69 1543.34 Q1819.77 1544.47 1821.99 1545.03 Q1824.22 1545.58 1826.69 1545.58 Q1830.7 1545.58 1833.03 1543.48 Q1835.37 1541.37 1835.37 1537.76 Q1835.37 1534.15 1833.03 1532.04 Q1830.7 1529.94 1826.69 1529.94 Q1824.82 1529.94 1822.94 1530.35 Q1821.09 1530.77 1819.15 1531.65 L1819.15 1514.29 Z\" fill=\"#000000\" fill-rule=\"evenodd\" fill-opacity=\"1\" /><path clip-path=\"url(#clip890)\" d=\"M2264.37 1544.91 L2272.01 1544.91 L2272.01 1518.55 L2263.7 1520.21 L2263.7 1515.95 L2271.96 1514.29 L2276.64 1514.29 L2276.64 1544.91 L2284.28 1544.91 L2284.28 1548.85 L2264.37 1548.85 L2264.37 1544.91 Z\" fill=\"#000000\" fill-rule=\"evenodd\" fill-opacity=\"1\" /><path clip-path=\"url(#clip890)\" d=\"M2293.72 1542.97 L2298.6 1542.97 L2298.6 1548.85 L2293.72 1548.85 L2293.72 1542.97 Z\" fill=\"#000000\" fill-rule=\"evenodd\" fill-opacity=\"1\" /><path clip-path=\"url(#clip890)\" d=\"M2318.79 1517.37 Q2315.18 1517.37 2313.35 1520.93 Q2311.54 1524.47 2311.54 1531.6 Q2311.54 1538.71 2313.35 1542.27 Q2315.18 1545.82 2318.79 1545.82 Q2322.42 1545.82 2324.23 1542.27 Q2326.06 1538.71 2326.06 1531.6 Q2326.06 1524.47 2324.23 1520.93 Q2322.42 1517.37 2318.79 1517.37 M2318.79 1513.66 Q2324.6 1513.66 2327.65 1518.27 Q2330.73 1522.85 2330.73 1531.6 Q2330.73 1540.33 2327.65 1544.94 Q2324.6 1549.52 2318.79 1549.52 Q2312.98 1549.52 2309.9 1544.94 Q2306.84 1540.33 2306.84 1531.6 Q2306.84 1522.85 2309.9 1518.27 Q2312.98 1513.66 2318.79 1513.66 Z\" fill=\"#000000\" fill-rule=\"evenodd\" fill-opacity=\"1\" /><path clip-path=\"url(#clip890)\" d=\"M2348.95 1517.37 Q2345.34 1517.37 2343.51 1520.93 Q2341.71 1524.47 2341.71 1531.6 Q2341.71 1538.71 2343.51 1542.27 Q2345.34 1545.82 2348.95 1545.82 Q2352.59 1545.82 2354.39 1542.27 Q2356.22 1538.71 2356.22 1531.6 Q2356.22 1524.47 2354.39 1520.93 Q2352.59 1517.37 2348.95 1517.37 M2348.95 1513.66 Q2354.76 1513.66 2357.82 1518.27 Q2360.9 1522.85 2360.9 1531.6 Q2360.9 1540.33 2357.82 1544.94 Q2354.76 1549.52 2348.95 1549.52 Q2343.14 1549.52 2340.06 1544.94 Q2337.01 1540.33 2337.01 1531.6 Q2337.01 1522.85 2340.06 1518.27 Q2343.14 1513.66 2348.95 1513.66 Z\" fill=\"#000000\" fill-rule=\"evenodd\" fill-opacity=\"1\" /><polyline clip-path=\"url(#clip892)\" style=\"stroke:#000000; stroke-linecap:butt; stroke-linejoin:round; stroke-width:2; stroke-opacity:0.1; fill:none\" points=\"\n",
       "  186.274,1445.72 2352.76,1445.72 \n",
       "  \"/>\n",
       "<polyline clip-path=\"url(#clip892)\" style=\"stroke:#000000; stroke-linecap:butt; stroke-linejoin:round; stroke-width:2; stroke-opacity:0.1; fill:none\" points=\"\n",
       "  186.274,1106.28 2352.76,1106.28 \n",
       "  \"/>\n",
       "<polyline clip-path=\"url(#clip892)\" style=\"stroke:#000000; stroke-linecap:butt; stroke-linejoin:round; stroke-width:2; stroke-opacity:0.1; fill:none\" points=\"\n",
       "  186.274,766.846 2352.76,766.846 \n",
       "  \"/>\n",
       "<polyline clip-path=\"url(#clip892)\" style=\"stroke:#000000; stroke-linecap:butt; stroke-linejoin:round; stroke-width:2; stroke-opacity:0.1; fill:none\" points=\"\n",
       "  186.274,427.411 2352.76,427.411 \n",
       "  \"/>\n",
       "<polyline clip-path=\"url(#clip892)\" style=\"stroke:#000000; stroke-linecap:butt; stroke-linejoin:round; stroke-width:2; stroke-opacity:0.1; fill:none\" points=\"\n",
       "  186.274,87.9763 2352.76,87.9763 \n",
       "  \"/>\n",
       "<polyline clip-path=\"url(#clip890)\" style=\"stroke:#000000; stroke-linecap:butt; stroke-linejoin:round; stroke-width:4; stroke-opacity:1; fill:none\" points=\"\n",
       "  186.274,1486.45 186.274,47.2441 \n",
       "  \"/>\n",
       "<polyline clip-path=\"url(#clip890)\" style=\"stroke:#000000; stroke-linecap:butt; stroke-linejoin:round; stroke-width:4; stroke-opacity:1; fill:none\" points=\"\n",
       "  186.274,1445.72 205.172,1445.72 \n",
       "  \"/>\n",
       "<polyline clip-path=\"url(#clip890)\" style=\"stroke:#000000; stroke-linecap:butt; stroke-linejoin:round; stroke-width:4; stroke-opacity:1; fill:none\" points=\"\n",
       "  186.274,1106.28 205.172,1106.28 \n",
       "  \"/>\n",
       "<polyline clip-path=\"url(#clip890)\" style=\"stroke:#000000; stroke-linecap:butt; stroke-linejoin:round; stroke-width:4; stroke-opacity:1; fill:none\" points=\"\n",
       "  186.274,766.846 205.172,766.846 \n",
       "  \"/>\n",
       "<polyline clip-path=\"url(#clip890)\" style=\"stroke:#000000; stroke-linecap:butt; stroke-linejoin:round; stroke-width:4; stroke-opacity:1; fill:none\" points=\"\n",
       "  186.274,427.411 205.172,427.411 \n",
       "  \"/>\n",
       "<polyline clip-path=\"url(#clip890)\" style=\"stroke:#000000; stroke-linecap:butt; stroke-linejoin:round; stroke-width:4; stroke-opacity:1; fill:none\" points=\"\n",
       "  186.274,87.9763 205.172,87.9763 \n",
       "  \"/>\n",
       "<path clip-path=\"url(#clip890)\" d=\"M62.9365 1431.51 Q59.3254 1431.51 57.4967 1435.08 Q55.6912 1438.62 55.6912 1445.75 Q55.6912 1452.86 57.4967 1456.42 Q59.3254 1459.96 62.9365 1459.96 Q66.5707 1459.96 68.3763 1456.42 Q70.205 1452.86 70.205 1445.75 Q70.205 1438.62 68.3763 1435.08 Q66.5707 1431.51 62.9365 1431.51 M62.9365 1427.81 Q68.7467 1427.81 71.8022 1432.42 Q74.8809 1437 74.8809 1445.75 Q74.8809 1454.48 71.8022 1459.08 Q68.7467 1463.67 62.9365 1463.67 Q57.1264 1463.67 54.0477 1459.08 Q50.9921 1454.48 50.9921 1445.75 Q50.9921 1437 54.0477 1432.42 Q57.1264 1427.81 62.9365 1427.81 Z\" fill=\"#000000\" fill-rule=\"evenodd\" fill-opacity=\"1\" /><path clip-path=\"url(#clip890)\" d=\"M83.0984 1457.12 L87.9827 1457.12 L87.9827 1463 L83.0984 1463 L83.0984 1457.12 Z\" fill=\"#000000\" fill-rule=\"evenodd\" fill-opacity=\"1\" /><path clip-path=\"url(#clip890)\" d=\"M108.168 1431.51 Q104.557 1431.51 102.728 1435.08 Q100.922 1438.62 100.922 1445.75 Q100.922 1452.86 102.728 1456.42 Q104.557 1459.96 108.168 1459.96 Q111.802 1459.96 113.608 1456.42 Q115.436 1452.86 115.436 1445.75 Q115.436 1438.62 113.608 1435.08 Q111.802 1431.51 108.168 1431.51 M108.168 1427.81 Q113.978 1427.81 117.033 1432.42 Q120.112 1437 120.112 1445.75 Q120.112 1454.48 117.033 1459.08 Q113.978 1463.67 108.168 1463.67 Q102.358 1463.67 99.2789 1459.08 Q96.2234 1454.48 96.2234 1445.75 Q96.2234 1437 99.2789 1432.42 Q102.358 1427.81 108.168 1427.81 Z\" fill=\"#000000\" fill-rule=\"evenodd\" fill-opacity=\"1\" /><path clip-path=\"url(#clip890)\" d=\"M138.33 1431.51 Q134.719 1431.51 132.89 1435.08 Q131.084 1438.62 131.084 1445.75 Q131.084 1452.86 132.89 1456.42 Q134.719 1459.96 138.33 1459.96 Q141.964 1459.96 143.769 1456.42 Q145.598 1452.86 145.598 1445.75 Q145.598 1438.62 143.769 1435.08 Q141.964 1431.51 138.33 1431.51 M138.33 1427.81 Q144.14 1427.81 147.195 1432.42 Q150.274 1437 150.274 1445.75 Q150.274 1454.48 147.195 1459.08 Q144.14 1463.67 138.33 1463.67 Q132.519 1463.67 129.441 1459.08 Q126.385 1454.48 126.385 1445.75 Q126.385 1437 129.441 1432.42 Q132.519 1427.81 138.33 1427.81 Z\" fill=\"#000000\" fill-rule=\"evenodd\" fill-opacity=\"1\" /><path clip-path=\"url(#clip890)\" d=\"M63.9319 1092.08 Q60.3208 1092.08 58.4921 1095.64 Q56.6865 1099.19 56.6865 1106.32 Q56.6865 1113.42 58.4921 1116.99 Q60.3208 1120.53 63.9319 1120.53 Q67.5661 1120.53 69.3717 1116.99 Q71.2004 1113.42 71.2004 1106.32 Q71.2004 1099.19 69.3717 1095.64 Q67.5661 1092.08 63.9319 1092.08 M63.9319 1088.38 Q69.742 1088.38 72.7976 1092.98 Q75.8763 1097.57 75.8763 1106.32 Q75.8763 1115.04 72.7976 1119.65 Q69.742 1124.23 63.9319 1124.23 Q58.1217 1124.23 55.043 1119.65 Q51.9875 1115.04 51.9875 1106.32 Q51.9875 1097.57 55.043 1092.98 Q58.1217 1088.38 63.9319 1088.38 Z\" fill=\"#000000\" fill-rule=\"evenodd\" fill-opacity=\"1\" /><path clip-path=\"url(#clip890)\" d=\"M84.0938 1117.68 L88.978 1117.68 L88.978 1123.56 L84.0938 1123.56 L84.0938 1117.68 Z\" fill=\"#000000\" fill-rule=\"evenodd\" fill-opacity=\"1\" /><path clip-path=\"url(#clip890)\" d=\"M103.191 1119.63 L119.51 1119.63 L119.51 1123.56 L97.566 1123.56 L97.566 1119.63 Q100.228 1116.87 104.811 1112.24 Q109.418 1107.59 110.598 1106.25 Q112.844 1103.72 113.723 1101.99 Q114.626 1100.23 114.626 1098.54 Q114.626 1095.78 112.682 1094.05 Q110.76 1092.31 107.658 1092.31 Q105.459 1092.31 103.006 1093.07 Q100.575 1093.84 97.7974 1095.39 L97.7974 1090.67 Q100.621 1089.53 103.075 1088.95 Q105.529 1088.38 107.566 1088.38 Q112.936 1088.38 116.131 1091.06 Q119.325 1093.75 119.325 1098.24 Q119.325 1100.37 118.515 1102.29 Q117.728 1104.19 115.621 1106.78 Q115.043 1107.45 111.941 1110.67 Q108.839 1113.86 103.191 1119.63 Z\" fill=\"#000000\" fill-rule=\"evenodd\" fill-opacity=\"1\" /><path clip-path=\"url(#clip890)\" d=\"M129.371 1089 L147.728 1089 L147.728 1092.94 L133.654 1092.94 L133.654 1101.41 Q134.672 1101.06 135.691 1100.9 Q136.709 1100.71 137.728 1100.71 Q143.515 1100.71 146.894 1103.89 Q150.274 1107.06 150.274 1112.47 Q150.274 1118.05 146.802 1121.15 Q143.33 1124.23 137.01 1124.23 Q134.834 1124.23 132.566 1123.86 Q130.32 1123.49 127.913 1122.75 L127.913 1118.05 Q129.996 1119.19 132.219 1119.74 Q134.441 1120.3 136.918 1120.3 Q140.922 1120.3 143.26 1118.19 Q145.598 1116.08 145.598 1112.47 Q145.598 1108.86 143.26 1106.76 Q140.922 1104.65 136.918 1104.65 Q135.043 1104.65 133.168 1105.07 Q131.316 1105.48 129.371 1106.36 L129.371 1089 Z\" fill=\"#000000\" fill-rule=\"evenodd\" fill-opacity=\"1\" /><path clip-path=\"url(#clip890)\" d=\"M62.9365 752.645 Q59.3254 752.645 57.4967 756.209 Q55.6912 759.751 55.6912 766.881 Q55.6912 773.987 57.4967 777.552 Q59.3254 781.094 62.9365 781.094 Q66.5707 781.094 68.3763 777.552 Q70.205 773.987 70.205 766.881 Q70.205 759.751 68.3763 756.209 Q66.5707 752.645 62.9365 752.645 M62.9365 748.941 Q68.7467 748.941 71.8022 753.547 Q74.8809 758.131 74.8809 766.881 Q74.8809 775.608 71.8022 780.214 Q68.7467 784.797 62.9365 784.797 Q57.1264 784.797 54.0477 780.214 Q50.9921 775.608 50.9921 766.881 Q50.9921 758.131 54.0477 753.547 Q57.1264 748.941 62.9365 748.941 Z\" fill=\"#000000\" fill-rule=\"evenodd\" fill-opacity=\"1\" /><path clip-path=\"url(#clip890)\" d=\"M83.0984 778.246 L87.9827 778.246 L87.9827 784.126 L83.0984 784.126 L83.0984 778.246 Z\" fill=\"#000000\" fill-rule=\"evenodd\" fill-opacity=\"1\" /><path clip-path=\"url(#clip890)\" d=\"M98.2141 749.566 L116.57 749.566 L116.57 753.501 L102.496 753.501 L102.496 761.973 Q103.515 761.626 104.534 761.464 Q105.552 761.279 106.571 761.279 Q112.358 761.279 115.737 764.45 Q119.117 767.621 119.117 773.038 Q119.117 778.617 115.645 781.719 Q112.172 784.797 105.853 784.797 Q103.677 784.797 101.409 784.427 Q99.1632 784.057 96.7558 783.316 L96.7558 778.617 Q98.8391 779.751 101.061 780.307 Q103.284 780.862 105.76 780.862 Q109.765 780.862 112.103 778.756 Q114.441 776.649 114.441 773.038 Q114.441 769.427 112.103 767.321 Q109.765 765.214 105.76 765.214 Q103.885 765.214 102.01 765.631 Q100.159 766.047 98.2141 766.927 L98.2141 749.566 Z\" fill=\"#000000\" fill-rule=\"evenodd\" fill-opacity=\"1\" /><path clip-path=\"url(#clip890)\" d=\"M138.33 752.645 Q134.719 752.645 132.89 756.209 Q131.084 759.751 131.084 766.881 Q131.084 773.987 132.89 777.552 Q134.719 781.094 138.33 781.094 Q141.964 781.094 143.769 777.552 Q145.598 773.987 145.598 766.881 Q145.598 759.751 143.769 756.209 Q141.964 752.645 138.33 752.645 M138.33 748.941 Q144.14 748.941 147.195 753.547 Q150.274 758.131 150.274 766.881 Q150.274 775.608 147.195 780.214 Q144.14 784.797 138.33 784.797 Q132.519 784.797 129.441 780.214 Q126.385 775.608 126.385 766.881 Q126.385 758.131 129.441 753.547 Q132.519 748.941 138.33 748.941 Z\" fill=\"#000000\" fill-rule=\"evenodd\" fill-opacity=\"1\" /><path clip-path=\"url(#clip890)\" d=\"M63.9319 413.21 Q60.3208 413.21 58.4921 416.775 Q56.6865 420.316 56.6865 427.446 Q56.6865 434.552 58.4921 438.117 Q60.3208 441.659 63.9319 441.659 Q67.5661 441.659 69.3717 438.117 Q71.2004 434.552 71.2004 427.446 Q71.2004 420.316 69.3717 416.775 Q67.5661 413.21 63.9319 413.21 M63.9319 409.506 Q69.742 409.506 72.7976 414.113 Q75.8763 418.696 75.8763 427.446 Q75.8763 436.173 72.7976 440.779 Q69.742 445.362 63.9319 445.362 Q58.1217 445.362 55.043 440.779 Q51.9875 436.173 51.9875 427.446 Q51.9875 418.696 55.043 414.113 Q58.1217 409.506 63.9319 409.506 Z\" fill=\"#000000\" fill-rule=\"evenodd\" fill-opacity=\"1\" /><path clip-path=\"url(#clip890)\" d=\"M84.0938 438.812 L88.978 438.812 L88.978 444.691 L84.0938 444.691 L84.0938 438.812 Z\" fill=\"#000000\" fill-rule=\"evenodd\" fill-opacity=\"1\" /><path clip-path=\"url(#clip890)\" d=\"M97.9826 410.131 L120.205 410.131 L120.205 412.122 L107.658 444.691 L102.774 444.691 L114.58 414.066 L97.9826 414.066 L97.9826 410.131 Z\" fill=\"#000000\" fill-rule=\"evenodd\" fill-opacity=\"1\" /><path clip-path=\"url(#clip890)\" d=\"M129.371 410.131 L147.728 410.131 L147.728 414.066 L133.654 414.066 L133.654 422.538 Q134.672 422.191 135.691 422.029 Q136.709 421.844 137.728 421.844 Q143.515 421.844 146.894 425.015 Q150.274 428.187 150.274 433.603 Q150.274 439.182 146.802 442.284 Q143.33 445.362 137.01 445.362 Q134.834 445.362 132.566 444.992 Q130.32 444.622 127.913 443.881 L127.913 439.182 Q129.996 440.316 132.219 440.872 Q134.441 441.427 136.918 441.427 Q140.922 441.427 143.26 439.321 Q145.598 437.214 145.598 433.603 Q145.598 429.992 143.26 427.886 Q140.922 425.779 136.918 425.779 Q135.043 425.779 133.168 426.196 Q131.316 426.613 129.371 427.492 L129.371 410.131 Z\" fill=\"#000000\" fill-rule=\"evenodd\" fill-opacity=\"1\" /><path clip-path=\"url(#clip890)\" d=\"M53.7467 101.321 L61.3856 101.321 L61.3856 74.9555 L53.0754 76.6222 L53.0754 72.3629 L61.3393 70.6963 L66.0152 70.6963 L66.0152 101.321 L73.654 101.321 L73.654 105.256 L53.7467 105.256 L53.7467 101.321 Z\" fill=\"#000000\" fill-rule=\"evenodd\" fill-opacity=\"1\" /><path clip-path=\"url(#clip890)\" d=\"M83.0984 99.3767 L87.9827 99.3767 L87.9827 105.256 L83.0984 105.256 L83.0984 99.3767 Z\" fill=\"#000000\" fill-rule=\"evenodd\" fill-opacity=\"1\" /><path clip-path=\"url(#clip890)\" d=\"M108.168 73.775 Q104.557 73.775 102.728 77.3398 Q100.922 80.8814 100.922 88.011 Q100.922 95.1174 102.728 98.6822 Q104.557 102.224 108.168 102.224 Q111.802 102.224 113.608 98.6822 Q115.436 95.1174 115.436 88.011 Q115.436 80.8814 113.608 77.3398 Q111.802 73.775 108.168 73.775 M108.168 70.0713 Q113.978 70.0713 117.033 74.6777 Q120.112 79.261 120.112 88.011 Q120.112 96.7378 117.033 101.344 Q113.978 105.928 108.168 105.928 Q102.358 105.928 99.2789 101.344 Q96.2234 96.7378 96.2234 88.011 Q96.2234 79.261 99.2789 74.6777 Q102.358 70.0713 108.168 70.0713 Z\" fill=\"#000000\" fill-rule=\"evenodd\" fill-opacity=\"1\" /><path clip-path=\"url(#clip890)\" d=\"M138.33 73.775 Q134.719 73.775 132.89 77.3398 Q131.084 80.8814 131.084 88.011 Q131.084 95.1174 132.89 98.6822 Q134.719 102.224 138.33 102.224 Q141.964 102.224 143.769 98.6822 Q145.598 95.1174 145.598 88.011 Q145.598 80.8814 143.769 77.3398 Q141.964 73.775 138.33 73.775 M138.33 70.0713 Q144.14 70.0713 147.195 74.6777 Q150.274 79.261 150.274 88.011 Q150.274 96.7378 147.195 101.344 Q144.14 105.928 138.33 105.928 Q132.519 105.928 129.441 101.344 Q126.385 96.7378 126.385 88.011 Q126.385 79.261 129.441 74.6777 Q132.519 70.0713 138.33 70.0713 Z\" fill=\"#000000\" fill-rule=\"evenodd\" fill-opacity=\"1\" /><polyline clip-path=\"url(#clip892)\" style=\"stroke:#009af9; stroke-linecap:butt; stroke-linejoin:round; stroke-width:4; stroke-opacity:1; fill:none\" points=\"\n",
       "  247.59,1445.72 267.549,1445.72 452.107,1445.72 563.019,1445.72 656.793,1445.72 758.658,1445.72 852.569,1445.72 953.251,1445.72 1069.9,1445.72 1095.82,1445.72 \n",
       "  1121.73,1445.72 1134.69,1445.72 1147.65,1445.72 1154.13,1445.72 1160.61,1445.72 1163.85,1445.72 1167.09,1433.05 1170.33,1410.92 1173.57,1388.87 1184.93,1312.09 \n",
       "  1196.29,1236.18 1207.66,1161.12 1219.02,1086.9 1241.75,940.911 1264.47,798.114 1289.25,645.941 1314.03,497.308 1338.8,352.093 1363.58,210.179 1369.81,174.996 \n",
       "  1376.04,140.013 1382.28,105.229 1388.51,87.9763 1400.97,87.9763 1413.43,87.9763 1438.36,87.9763 1463.28,87.9763 1518.4,87.9763 1573.51,87.9763 1625.95,87.9763 \n",
       "  1678.39,87.9763 1787.45,87.9763 1879.25,87.9763 1991.32,87.9763 2096.68,87.9763 2265.46,87.9763 2291.44,87.9763 \n",
       "  \"/>\n",
       "<path clip-path=\"url(#clip890)\" d=\"\n",
       "M1987.39 198.898 L2280.54 198.898 L2280.54 95.2176 L1987.39 95.2176  Z\n",
       "  \" fill=\"#ffffff\" fill-rule=\"evenodd\" fill-opacity=\"1\"/>\n",
       "<polyline clip-path=\"url(#clip890)\" style=\"stroke:#000000; stroke-linecap:butt; stroke-linejoin:round; stroke-width:4; stroke-opacity:1; fill:none\" points=\"\n",
       "  1987.39,198.898 2280.54,198.898 2280.54,95.2176 1987.39,95.2176 1987.39,198.898 \n",
       "  \"/>\n",
       "<polyline clip-path=\"url(#clip890)\" style=\"stroke:#009af9; stroke-linecap:butt; stroke-linejoin:round; stroke-width:4; stroke-opacity:1; fill:none\" points=\"\n",
       "  2011.46,147.058 2155.89,147.058 \n",
       "  \"/>\n",
       "<path clip-path=\"url(#clip890)\" d=\"M2193.81 166.745 Q2192 171.375 2190.29 172.787 Q2188.58 174.199 2185.71 174.199 L2182.3 174.199 L2182.3 170.634 L2184.8 170.634 Q2186.56 170.634 2187.53 169.8 Q2188.51 168.967 2189.69 165.865 L2190.45 163.921 L2179.97 138.412 L2184.48 138.412 L2192.58 158.689 L2200.68 138.412 L2205.2 138.412 L2193.81 166.745 Z\" fill=\"#000000\" fill-rule=\"evenodd\" fill-opacity=\"1\" /><path clip-path=\"url(#clip890)\" d=\"M2212.49 160.402 L2220.13 160.402 L2220.13 134.037 L2211.82 135.703 L2211.82 131.444 L2220.08 129.778 L2224.76 129.778 L2224.76 160.402 L2232.4 160.402 L2232.4 164.338 L2212.49 164.338 L2212.49 160.402 Z\" fill=\"#000000\" fill-rule=\"evenodd\" fill-opacity=\"1\" /></svg>\n"
      ]
     },
     "execution_count": 6,
     "metadata": {},
     "output_type": "execute_result"
    }
   ],
   "source": [
    "plot(probh(w_2=>1/2,lambda=>.2),.01,.99)"
   ]
  },
  {
   "cell_type": "markdown",
   "id": "772582a5-c2af-442c-a0b4-6d732c495fc9",
   "metadata": {},
   "source": [
    "1\n",
    "\n",
    ", which is just the compete information case\n",
    "As always, it is good to check that your computations are working by looking at special cases where you already know the solution.  If you have looked at the notebook that describes the directed search game with complete information, then one thing you can do is to check what happens when $\\lambda=1$, which is just the compete information case"
   ]
  },
  {
   "cell_type": "code",
   "execution_count": 7,
   "id": "f47bcb70-d1a2-488e-abd9-3cf9ced5ccff",
   "metadata": {},
   "outputs": [
    {
     "data": {
      "text/latex": [
       "$\\begin{equation*}\\max\\left(0, \\min\\left(1, \\frac{2 w_{1} - w_{2}}{w_{1} + w_{2}}\\right)\\right)\\end{equation*}$\n"
      ],
      "text/plain": [
       "Max(0, Min(1, (2*w_1 - w_2)/(w_1 + w_2)))"
      ]
     },
     "execution_count": 7,
     "metadata": {},
     "output_type": "execute_result"
    }
   ],
   "source": [
    "probh(lambda => 1)"
   ]
  },
  {
   "cell_type": "markdown",
   "id": "6c793d8d-a2d0-4490-aa08-416c9ddc18b0",
   "metadata": {},
   "source": [
    "That check passes, a second special case is when $w_1=w_2$:"
   ]
  },
  {
   "cell_type": "code",
   "execution_count": 8,
   "id": "b818a225-392d-457c-9f8d-73682e90d34b",
   "metadata": {},
   "outputs": [
    {
     "data": {
      "text/latex": [
       "$\\begin{equation*}\\frac{1}{2}\\end{equation*}$\n"
      ],
      "text/plain": [
       "1/2"
      ]
     },
     "execution_count": 8,
     "metadata": {},
     "output_type": "execute_result"
    }
   ],
   "source": [
    "probh(w_1 => w_2)"
   ]
  },
  {
   "cell_type": "markdown",
   "id": "8d7773b6-9c00-4001-9f1b-15f18861272b",
   "metadata": {},
   "source": [
    "## Type L\n",
    "\n",
    "For type $l$ workers the problem is more complicated because they do care what the type $h$ worker does.  If they apply to firm 1, their expected payoff is\n",
    "$$\n",
    "\\lambda(1-\\pi_h)w_1+(1-\\lambda)\\{(\\pi_l \\frac{w_1}{2})+(1-\\pi_l)w_1\\}\n",
    "$$\n",
    "while if they apply to firm 2 it is\n",
    "$$\n",
    "\\lambda\\pi_h w_2 +(1-\\lambda)\\{\\pi_l w_2 +(1-\\pi_l)\\frac{w_2}{2}\\}\n",
    "$$"
   ]
  },
  {
   "cell_type": "code",
   "execution_count": 9,
   "id": "35140dea-719a-4d3e-9c98-8633a0717437",
   "metadata": {},
   "outputs": [
    {
     "data": {
      "text/latex": [
       "$\\begin{equation*}\\lambda w_{1} \\left(1 - \\max\\left(0, \\min\\left(1, \\frac{\\lambda w_{2} + 2 w_{1} - 2 w_{2}}{\\lambda \\left(w_{1} + w_{2}\\right)}\\right)\\right)\\right) + \\left(1 - \\lambda\\right) \\left(\\frac{\\pi_{l} w_{1}}{2} + w_{1} \\left(1 - \\pi_{l}\\right)\\right)\\end{equation*}$\n"
      ],
      "text/plain": [
       "                                                                              \n",
       "λ⋅w₁⋅(1 - Max(0, Min(1, (lambda*w_2 + 2*w_1 - 2*w_2)/(lambda*(w_1 + w_2))))) +\n",
       "                                                                              \n",
       "\n",
       "         ⎛πₗ⋅w₁              ⎞\n",
       " (1 - λ)⋅⎜───── + w₁⋅(1 - πₗ)⎟\n",
       "         ⎝  2                ⎠"
      ]
     },
     "execution_count": 9,
     "metadata": {},
     "output_type": "execute_result"
    }
   ],
   "source": [
    "leftl = lambda*(1-probh)*w_1 + (1-lambda)*(pi_l*w_1/2 +(1-pi_l)*w_1)"
   ]
  },
  {
   "cell_type": "code",
   "execution_count": 10,
   "id": "7f435ab9-d253-4fd1-9282-f082e7e33241",
   "metadata": {},
   "outputs": [
    {
     "data": {
      "text/latex": [
       "$\\begin{equation*}\\lambda w_{2} \\max\\left(0, \\min\\left(1, \\frac{\\lambda w_{2} + 2 w_{1} - 2 w_{2}}{\\lambda \\left(w_{1} + w_{2}\\right)}\\right)\\right) + \\left(1 - \\lambda\\right) \\left(\\pi_{l} w_{2} + \\frac{w_{2} \\left(1 - \\pi_{l}\\right)}{2}\\right)\\end{equation*}$\n"
      ],
      "text/plain": [
       "                                                                              \n",
       "λ⋅w₂⋅Max(0, Min(1, (lambda*w_2 + 2*w_1 - 2*w_2)/(lambda*(w_1 + w_2)))) + (1 - \n",
       "                                                                              \n",
       "\n",
       "   ⎛        w₂⋅(1 - πₗ)⎞\n",
       "λ)⋅⎜πₗ⋅w₂ + ───────────⎟\n",
       "   ⎝             2     ⎠"
      ]
     },
     "execution_count": 10,
     "metadata": {},
     "output_type": "execute_result"
    }
   ],
   "source": [
    "rightl = lambda*probh*w_2 +(1-lambda)*(pi_l*w_2+(1-pi_l)*w_2/2)"
   ]
  },
  {
   "cell_type": "code",
   "execution_count": 11,
   "id": "13656f9e-4d44-4e1b-a2d4-4218e1e5a2b0",
   "metadata": {},
   "outputs": [
    {
     "data": {
      "text/latex": [
       "$\\begin{equation*}\\frac{2 \\lambda w_{1} \\max\\left(0, \\min\\left(1, \\frac{\\lambda w_{2} + 2 w_{1} - 2 w_{2}}{\\lambda \\left(w_{1} + w_{2}\\right)}\\right)\\right) + 2 \\lambda w_{2} \\max\\left(0, \\min\\left(1, \\frac{\\lambda w_{2} + 2 w_{1} - 2 w_{2}}{\\lambda \\left(w_{1} + w_{2}\\right)}\\right)\\right) - \\lambda w_{2} - 2 w_{1} + w_{2}}{\\lambda w_{1} + \\lambda w_{2} - w_{1} - w_{2}}\\end{equation*}$\n"
      ],
      "text/plain": [
       "2⋅λ⋅w₁⋅Max(0, Min(1, (lambda*w_2 + 2*w_1 - 2*w_2)/(lambda*(w_1 + w_2)))) + 2⋅λ\n",
       "──────────────────────────────────────────────────────────────────────────────\n",
       "                                                                        λ⋅w₁ +\n",
       "\n",
       "⋅w₂⋅Max(0, Min(1, (lambda*w_2 + 2*w_1 - 2*w_2)/(lambda*(w_1 + w_2)))) - λ⋅w₂ -\n",
       "──────────────────────────────────────────────────────────────────────────────\n",
       " λ⋅w₂ - w₁ - w₂                                                               \n",
       "\n",
       " 2⋅w₁ + w₂\n",
       "──────────\n",
       "          "
      ]
     },
     "execution_count": 11,
     "metadata": {},
     "output_type": "execute_result"
    }
   ],
   "source": [
    "sol = solve(leftl-rightl,pi_l)[1]"
   ]
  },
  {
   "cell_type": "code",
   "execution_count": 12,
   "id": "39adcb2b-4bc2-4e78-a0e9-cc301f2b2c06",
   "metadata": {},
   "outputs": [
    {
     "data": {
      "text/latex": [
       "$\\begin{equation*}\\frac{- 2 w_{1} + w_{2}}{- w_{1} - w_{2}}\\end{equation*}$\n"
      ],
      "text/plain": [
       "-2⋅w₁ + w₂\n",
       "──────────\n",
       " -w₁ - w₂ "
      ]
     },
     "execution_count": 12,
     "metadata": {},
     "output_type": "execute_result"
    }
   ],
   "source": [
    "sol(lambda => 0)"
   ]
  },
  {
   "cell_type": "code",
   "execution_count": 13,
   "id": "41d35f2b-4445-4f74-a5aa-17b3bcb41da5",
   "metadata": {},
   "outputs": [
    {
     "data": {
      "text/latex": [
       "$\\begin{equation*}\\max\\left(0, \\min\\left(1, \\frac{2 \\lambda w_{1} \\max\\left(0, \\min\\left(1, \\frac{\\lambda w_{2} + 2 w_{1} - 2 w_{2}}{\\lambda \\left(w_{1} + w_{2}\\right)}\\right)\\right) + 2 \\lambda w_{2} \\max\\left(0, \\min\\left(1, \\frac{\\lambda w_{2} + 2 w_{1} - 2 w_{2}}{\\lambda \\left(w_{1} + w_{2}\\right)}\\right)\\right) - \\lambda w_{2} - 2 w_{1} + w_{2}}{\\lambda w_{1} + \\lambda w_{2} - w_{1} - w_{2}}\\right)\\right)\\end{equation*}$\n"
      ],
      "text/plain": [
       "Max(0, Min(1, (2*lambda*w_1*Max(0, Min(1, (lambda*w_2 + 2*w_1 - 2*w_2)/(lambda\n",
       "*(w_1 + w_2)))) + 2*lambda*w_2*Max(0, Min(1, (lambda*w_2 + 2*w_1 - 2*w_2)/(lam\n",
       "bda*(w_1 + w_2)))) - lambda*w_2 - 2*w_1 + w_2)/(lambda*w_1 + lambda*w_2 - w_1 \n",
       "- w_2)))"
      ]
     },
     "execution_count": 13,
     "metadata": {},
     "output_type": "execute_result"
    }
   ],
   "source": [
    "probl = max(min(sol,1),0)"
   ]
  },
  {
   "cell_type": "code",
   "execution_count": 14,
   "id": "31a0287a-d82d-4a8a-9983-f3f254c0437e",
   "metadata": {},
   "outputs": [
    {
     "data": {
      "image/svg+xml": [
       "<?xml version=\"1.0\" encoding=\"utf-8\"?>\n",
       "<svg xmlns=\"http://www.w3.org/2000/svg\" xmlns:xlink=\"http://www.w3.org/1999/xlink\" width=\"600\" height=\"400\" viewBox=\"0 0 2400 1600\">\n",
       "<defs>\n",
       "  <clipPath id=\"clip930\">\n",
       "    <rect x=\"0\" y=\"0\" width=\"2400\" height=\"1600\"/>\n",
       "  </clipPath>\n",
       "</defs>\n",
       "<path clip-path=\"url(#clip930)\" d=\"\n",
       "M0 1600 L2400 1600 L2400 0 L0 0  Z\n",
       "  \" fill=\"#ffffff\" fill-rule=\"evenodd\" fill-opacity=\"1\"/>\n",
       "<defs>\n",
       "  <clipPath id=\"clip931\">\n",
       "    <rect x=\"480\" y=\"0\" width=\"1681\" height=\"1600\"/>\n",
       "  </clipPath>\n",
       "</defs>\n",
       "<path clip-path=\"url(#clip930)\" d=\"\n",
       "M186.274 1486.45 L2352.76 1486.45 L2352.76 47.2441 L186.274 47.2441  Z\n",
       "  \" fill=\"#ffffff\" fill-rule=\"evenodd\" fill-opacity=\"1\"/>\n",
       "<defs>\n",
       "  <clipPath id=\"clip932\">\n",
       "    <rect x=\"186\" y=\"47\" width=\"2167\" height=\"1440\"/>\n",
       "  </clipPath>\n",
       "</defs>\n",
       "<polyline clip-path=\"url(#clip932)\" style=\"stroke:#000000; stroke-linecap:butt; stroke-linejoin:round; stroke-width:2; stroke-opacity:0.1; fill:none\" points=\"\n",
       "  226.734,1486.45 226.734,47.2441 \n",
       "  \"/>\n",
       "<polyline clip-path=\"url(#clip932)\" style=\"stroke:#000000; stroke-linecap:butt; stroke-linejoin:round; stroke-width:2; stroke-opacity:0.1; fill:none\" points=\"\n",
       "  748.124,1486.45 748.124,47.2441 \n",
       "  \"/>\n",
       "<polyline clip-path=\"url(#clip932)\" style=\"stroke:#000000; stroke-linecap:butt; stroke-linejoin:round; stroke-width:2; stroke-opacity:0.1; fill:none\" points=\"\n",
       "  1269.51,1486.45 1269.51,47.2441 \n",
       "  \"/>\n",
       "<polyline clip-path=\"url(#clip932)\" style=\"stroke:#000000; stroke-linecap:butt; stroke-linejoin:round; stroke-width:2; stroke-opacity:0.1; fill:none\" points=\"\n",
       "  1790.91,1486.45 1790.91,47.2441 \n",
       "  \"/>\n",
       "<polyline clip-path=\"url(#clip932)\" style=\"stroke:#000000; stroke-linecap:butt; stroke-linejoin:round; stroke-width:2; stroke-opacity:0.1; fill:none\" points=\"\n",
       "  2312.3,1486.45 2312.3,47.2441 \n",
       "  \"/>\n",
       "<polyline clip-path=\"url(#clip930)\" style=\"stroke:#000000; stroke-linecap:butt; stroke-linejoin:round; stroke-width:4; stroke-opacity:1; fill:none\" points=\"\n",
       "  186.274,1486.45 2352.76,1486.45 \n",
       "  \"/>\n",
       "<polyline clip-path=\"url(#clip930)\" style=\"stroke:#000000; stroke-linecap:butt; stroke-linejoin:round; stroke-width:4; stroke-opacity:1; fill:none\" points=\"\n",
       "  226.734,1486.45 226.734,1467.55 \n",
       "  \"/>\n",
       "<polyline clip-path=\"url(#clip930)\" style=\"stroke:#000000; stroke-linecap:butt; stroke-linejoin:round; stroke-width:4; stroke-opacity:1; fill:none\" points=\"\n",
       "  748.124,1486.45 748.124,1467.55 \n",
       "  \"/>\n",
       "<polyline clip-path=\"url(#clip930)\" style=\"stroke:#000000; stroke-linecap:butt; stroke-linejoin:round; stroke-width:4; stroke-opacity:1; fill:none\" points=\"\n",
       "  1269.51,1486.45 1269.51,1467.55 \n",
       "  \"/>\n",
       "<polyline clip-path=\"url(#clip930)\" style=\"stroke:#000000; stroke-linecap:butt; stroke-linejoin:round; stroke-width:4; stroke-opacity:1; fill:none\" points=\"\n",
       "  1790.91,1486.45 1790.91,1467.55 \n",
       "  \"/>\n",
       "<polyline clip-path=\"url(#clip930)\" style=\"stroke:#000000; stroke-linecap:butt; stroke-linejoin:round; stroke-width:4; stroke-opacity:1; fill:none\" points=\"\n",
       "  2312.3,1486.45 2312.3,1467.55 \n",
       "  \"/>\n",
       "<path clip-path=\"url(#clip930)\" d=\"M189.037 1517.37 Q185.426 1517.37 183.598 1520.93 Q181.792 1524.47 181.792 1531.6 Q181.792 1538.71 183.598 1542.27 Q185.426 1545.82 189.037 1545.82 Q192.672 1545.82 194.477 1542.27 Q196.306 1538.71 196.306 1531.6 Q196.306 1524.47 194.477 1520.93 Q192.672 1517.37 189.037 1517.37 M189.037 1513.66 Q194.848 1513.66 197.903 1518.27 Q200.982 1522.85 200.982 1531.6 Q200.982 1540.33 197.903 1544.94 Q194.848 1549.52 189.037 1549.52 Q183.227 1549.52 180.149 1544.94 Q177.093 1540.33 177.093 1531.6 Q177.093 1522.85 180.149 1518.27 Q183.227 1513.66 189.037 1513.66 Z\" fill=\"#000000\" fill-rule=\"evenodd\" fill-opacity=\"1\" /><path clip-path=\"url(#clip930)\" d=\"M209.199 1542.97 L214.084 1542.97 L214.084 1548.85 L209.199 1548.85 L209.199 1542.97 Z\" fill=\"#000000\" fill-rule=\"evenodd\" fill-opacity=\"1\" /><path clip-path=\"url(#clip930)\" d=\"M234.269 1517.37 Q230.657 1517.37 228.829 1520.93 Q227.023 1524.47 227.023 1531.6 Q227.023 1538.71 228.829 1542.27 Q230.657 1545.82 234.269 1545.82 Q237.903 1545.82 239.708 1542.27 Q241.537 1538.71 241.537 1531.6 Q241.537 1524.47 239.708 1520.93 Q237.903 1517.37 234.269 1517.37 M234.269 1513.66 Q240.079 1513.66 243.134 1518.27 Q246.213 1522.85 246.213 1531.6 Q246.213 1540.33 243.134 1544.94 Q240.079 1549.52 234.269 1549.52 Q228.458 1549.52 225.38 1544.94 Q222.324 1540.33 222.324 1531.6 Q222.324 1522.85 225.38 1518.27 Q228.458 1513.66 234.269 1513.66 Z\" fill=\"#000000\" fill-rule=\"evenodd\" fill-opacity=\"1\" /><path clip-path=\"url(#clip930)\" d=\"M264.43 1517.37 Q260.819 1517.37 258.991 1520.93 Q257.185 1524.47 257.185 1531.6 Q257.185 1538.71 258.991 1542.27 Q260.819 1545.82 264.43 1545.82 Q268.065 1545.82 269.87 1542.27 Q271.699 1538.71 271.699 1531.6 Q271.699 1524.47 269.87 1520.93 Q268.065 1517.37 264.43 1517.37 M264.43 1513.66 Q270.241 1513.66 273.296 1518.27 Q276.375 1522.85 276.375 1531.6 Q276.375 1540.33 273.296 1544.94 Q270.241 1549.52 264.43 1549.52 Q258.62 1549.52 255.542 1544.94 Q252.486 1540.33 252.486 1531.6 Q252.486 1522.85 255.542 1518.27 Q258.62 1513.66 264.43 1513.66 Z\" fill=\"#000000\" fill-rule=\"evenodd\" fill-opacity=\"1\" /><path clip-path=\"url(#clip930)\" d=\"M710.926 1517.37 Q707.314 1517.37 705.486 1520.93 Q703.68 1524.47 703.68 1531.6 Q703.68 1538.71 705.486 1542.27 Q707.314 1545.82 710.926 1545.82 Q714.56 1545.82 716.365 1542.27 Q718.194 1538.71 718.194 1531.6 Q718.194 1524.47 716.365 1520.93 Q714.56 1517.37 710.926 1517.37 M710.926 1513.66 Q716.736 1513.66 719.791 1518.27 Q722.87 1522.85 722.87 1531.6 Q722.87 1540.33 719.791 1544.94 Q716.736 1549.52 710.926 1549.52 Q705.115 1549.52 702.037 1544.94 Q698.981 1540.33 698.981 1531.6 Q698.981 1522.85 702.037 1518.27 Q705.115 1513.66 710.926 1513.66 Z\" fill=\"#000000\" fill-rule=\"evenodd\" fill-opacity=\"1\" /><path clip-path=\"url(#clip930)\" d=\"M731.087 1542.97 L735.972 1542.97 L735.972 1548.85 L731.087 1548.85 L731.087 1542.97 Z\" fill=\"#000000\" fill-rule=\"evenodd\" fill-opacity=\"1\" /><path clip-path=\"url(#clip930)\" d=\"M750.185 1544.91 L766.504 1544.91 L766.504 1548.85 L744.56 1548.85 L744.56 1544.91 Q747.222 1542.16 751.805 1537.53 Q756.411 1532.88 757.592 1531.53 Q759.837 1529.01 760.717 1527.27 Q761.62 1525.51 761.62 1523.82 Q761.62 1521.07 759.675 1519.33 Q757.754 1517.6 754.652 1517.6 Q752.453 1517.6 749.999 1518.36 Q747.569 1519.13 744.791 1520.68 L744.791 1515.95 Q747.615 1514.82 750.069 1514.24 Q752.523 1513.66 754.56 1513.66 Q759.93 1513.66 763.124 1516.35 Q766.319 1519.03 766.319 1523.52 Q766.319 1525.65 765.509 1527.57 Q764.722 1529.47 762.615 1532.07 Q762.036 1532.74 758.935 1535.95 Q755.833 1539.15 750.185 1544.91 Z\" fill=\"#000000\" fill-rule=\"evenodd\" fill-opacity=\"1\" /><path clip-path=\"url(#clip930)\" d=\"M776.365 1514.29 L794.721 1514.29 L794.721 1518.22 L780.647 1518.22 L780.647 1526.7 Q781.666 1526.35 782.684 1526.19 Q783.703 1526 784.721 1526 Q790.508 1526 793.888 1529.17 Q797.268 1532.34 797.268 1537.76 Q797.268 1543.34 793.795 1546.44 Q790.323 1549.52 784.004 1549.52 Q781.828 1549.52 779.559 1549.15 Q777.314 1548.78 774.907 1548.04 L774.907 1543.34 Q776.99 1544.47 779.212 1545.03 Q781.434 1545.58 783.911 1545.58 Q787.916 1545.58 790.254 1543.48 Q792.592 1541.37 792.592 1537.76 Q792.592 1534.15 790.254 1532.04 Q787.916 1529.94 783.911 1529.94 Q782.036 1529.94 780.161 1530.35 Q778.309 1530.77 776.365 1531.65 L776.365 1514.29 Z\" fill=\"#000000\" fill-rule=\"evenodd\" fill-opacity=\"1\" /><path clip-path=\"url(#clip930)\" d=\"M1231.82 1517.37 Q1228.21 1517.37 1226.38 1520.93 Q1224.57 1524.47 1224.57 1531.6 Q1224.57 1538.71 1226.38 1542.27 Q1228.21 1545.82 1231.82 1545.82 Q1235.45 1545.82 1237.26 1542.27 Q1239.09 1538.71 1239.09 1531.6 Q1239.09 1524.47 1237.26 1520.93 Q1235.45 1517.37 1231.82 1517.37 M1231.82 1513.66 Q1237.63 1513.66 1240.68 1518.27 Q1243.76 1522.85 1243.76 1531.6 Q1243.76 1540.33 1240.68 1544.94 Q1237.63 1549.52 1231.82 1549.52 Q1226.01 1549.52 1222.93 1544.94 Q1219.87 1540.33 1219.87 1531.6 Q1219.87 1522.85 1222.93 1518.27 Q1226.01 1513.66 1231.82 1513.66 Z\" fill=\"#000000\" fill-rule=\"evenodd\" fill-opacity=\"1\" /><path clip-path=\"url(#clip930)\" d=\"M1251.98 1542.97 L1256.86 1542.97 L1256.86 1548.85 L1251.98 1548.85 L1251.98 1542.97 Z\" fill=\"#000000\" fill-rule=\"evenodd\" fill-opacity=\"1\" /><path clip-path=\"url(#clip930)\" d=\"M1267.1 1514.29 L1285.45 1514.29 L1285.45 1518.22 L1271.38 1518.22 L1271.38 1526.7 Q1272.4 1526.35 1273.42 1526.19 Q1274.43 1526 1275.45 1526 Q1281.24 1526 1284.62 1529.17 Q1288 1532.34 1288 1537.76 Q1288 1543.34 1284.53 1546.44 Q1281.05 1549.52 1274.73 1549.52 Q1272.56 1549.52 1270.29 1549.15 Q1268.05 1548.78 1265.64 1548.04 L1265.64 1543.34 Q1267.72 1544.47 1269.94 1545.03 Q1272.17 1545.58 1274.64 1545.58 Q1278.65 1545.58 1280.98 1543.48 Q1283.32 1541.37 1283.32 1537.76 Q1283.32 1534.15 1280.98 1532.04 Q1278.65 1529.94 1274.64 1529.94 Q1272.77 1529.94 1270.89 1530.35 Q1269.04 1530.77 1267.1 1531.65 L1267.1 1514.29 Z\" fill=\"#000000\" fill-rule=\"evenodd\" fill-opacity=\"1\" /><path clip-path=\"url(#clip930)\" d=\"M1307.21 1517.37 Q1303.6 1517.37 1301.77 1520.93 Q1299.97 1524.47 1299.97 1531.6 Q1299.97 1538.71 1301.77 1542.27 Q1303.6 1545.82 1307.21 1545.82 Q1310.85 1545.82 1312.65 1542.27 Q1314.48 1538.71 1314.48 1531.6 Q1314.48 1524.47 1312.65 1520.93 Q1310.85 1517.37 1307.21 1517.37 M1307.21 1513.66 Q1313.02 1513.66 1316.08 1518.27 Q1319.16 1522.85 1319.16 1531.6 Q1319.16 1540.33 1316.08 1544.94 Q1313.02 1549.52 1307.21 1549.52 Q1301.4 1549.52 1298.32 1544.94 Q1295.27 1540.33 1295.27 1531.6 Q1295.27 1522.85 1298.32 1518.27 Q1301.4 1513.66 1307.21 1513.66 Z\" fill=\"#000000\" fill-rule=\"evenodd\" fill-opacity=\"1\" /><path clip-path=\"url(#clip930)\" d=\"M1753.71 1517.37 Q1750.1 1517.37 1748.27 1520.93 Q1746.46 1524.47 1746.46 1531.6 Q1746.46 1538.71 1748.27 1542.27 Q1750.1 1545.82 1753.71 1545.82 Q1757.34 1545.82 1759.15 1542.27 Q1760.98 1538.71 1760.98 1531.6 Q1760.98 1524.47 1759.15 1520.93 Q1757.34 1517.37 1753.71 1517.37 M1753.71 1513.66 Q1759.52 1513.66 1762.57 1518.27 Q1765.65 1522.85 1765.65 1531.6 Q1765.65 1540.33 1762.57 1544.94 Q1759.52 1549.52 1753.71 1549.52 Q1747.9 1549.52 1744.82 1544.94 Q1741.76 1540.33 1741.76 1531.6 Q1741.76 1522.85 1744.82 1518.27 Q1747.9 1513.66 1753.71 1513.66 Z\" fill=\"#000000\" fill-rule=\"evenodd\" fill-opacity=\"1\" /><path clip-path=\"url(#clip930)\" d=\"M1773.87 1542.97 L1778.75 1542.97 L1778.75 1548.85 L1773.87 1548.85 L1773.87 1542.97 Z\" fill=\"#000000\" fill-rule=\"evenodd\" fill-opacity=\"1\" /><path clip-path=\"url(#clip930)\" d=\"M1787.76 1514.29 L1809.98 1514.29 L1809.98 1516.28 L1797.43 1548.85 L1792.55 1548.85 L1804.35 1518.22 L1787.76 1518.22 L1787.76 1514.29 Z\" fill=\"#000000\" fill-rule=\"evenodd\" fill-opacity=\"1\" /><path clip-path=\"url(#clip930)\" d=\"M1819.15 1514.29 L1837.5 1514.29 L1837.5 1518.22 L1823.43 1518.22 L1823.43 1526.7 Q1824.45 1526.35 1825.47 1526.19 Q1826.48 1526 1827.5 1526 Q1833.29 1526 1836.67 1529.17 Q1840.05 1532.34 1840.05 1537.76 Q1840.05 1543.34 1836.58 1546.44 Q1833.1 1549.52 1826.78 1549.52 Q1824.61 1549.52 1822.34 1549.15 Q1820.1 1548.78 1817.69 1548.04 L1817.69 1543.34 Q1819.77 1544.47 1821.99 1545.03 Q1824.22 1545.58 1826.69 1545.58 Q1830.7 1545.58 1833.03 1543.48 Q1835.37 1541.37 1835.37 1537.76 Q1835.37 1534.15 1833.03 1532.04 Q1830.7 1529.94 1826.69 1529.94 Q1824.82 1529.94 1822.94 1530.35 Q1821.09 1530.77 1819.15 1531.65 L1819.15 1514.29 Z\" fill=\"#000000\" fill-rule=\"evenodd\" fill-opacity=\"1\" /><path clip-path=\"url(#clip930)\" d=\"M2264.37 1544.91 L2272.01 1544.91 L2272.01 1518.55 L2263.7 1520.21 L2263.7 1515.95 L2271.96 1514.29 L2276.64 1514.29 L2276.64 1544.91 L2284.28 1544.91 L2284.28 1548.85 L2264.37 1548.85 L2264.37 1544.91 Z\" fill=\"#000000\" fill-rule=\"evenodd\" fill-opacity=\"1\" /><path clip-path=\"url(#clip930)\" d=\"M2293.72 1542.97 L2298.6 1542.97 L2298.6 1548.85 L2293.72 1548.85 L2293.72 1542.97 Z\" fill=\"#000000\" fill-rule=\"evenodd\" fill-opacity=\"1\" /><path clip-path=\"url(#clip930)\" d=\"M2318.79 1517.37 Q2315.18 1517.37 2313.35 1520.93 Q2311.54 1524.47 2311.54 1531.6 Q2311.54 1538.71 2313.35 1542.27 Q2315.18 1545.82 2318.79 1545.82 Q2322.42 1545.82 2324.23 1542.27 Q2326.06 1538.71 2326.06 1531.6 Q2326.06 1524.47 2324.23 1520.93 Q2322.42 1517.37 2318.79 1517.37 M2318.79 1513.66 Q2324.6 1513.66 2327.65 1518.27 Q2330.73 1522.85 2330.73 1531.6 Q2330.73 1540.33 2327.65 1544.94 Q2324.6 1549.52 2318.79 1549.52 Q2312.98 1549.52 2309.9 1544.94 Q2306.84 1540.33 2306.84 1531.6 Q2306.84 1522.85 2309.9 1518.27 Q2312.98 1513.66 2318.79 1513.66 Z\" fill=\"#000000\" fill-rule=\"evenodd\" fill-opacity=\"1\" /><path clip-path=\"url(#clip930)\" d=\"M2348.95 1517.37 Q2345.34 1517.37 2343.51 1520.93 Q2341.71 1524.47 2341.71 1531.6 Q2341.71 1538.71 2343.51 1542.27 Q2345.34 1545.82 2348.95 1545.82 Q2352.59 1545.82 2354.39 1542.27 Q2356.22 1538.71 2356.22 1531.6 Q2356.22 1524.47 2354.39 1520.93 Q2352.59 1517.37 2348.95 1517.37 M2348.95 1513.66 Q2354.76 1513.66 2357.82 1518.27 Q2360.9 1522.85 2360.9 1531.6 Q2360.9 1540.33 2357.82 1544.94 Q2354.76 1549.52 2348.95 1549.52 Q2343.14 1549.52 2340.06 1544.94 Q2337.01 1540.33 2337.01 1531.6 Q2337.01 1522.85 2340.06 1518.27 Q2343.14 1513.66 2348.95 1513.66 Z\" fill=\"#000000\" fill-rule=\"evenodd\" fill-opacity=\"1\" /><polyline clip-path=\"url(#clip932)\" style=\"stroke:#000000; stroke-linecap:butt; stroke-linejoin:round; stroke-width:2; stroke-opacity:0.1; fill:none\" points=\"\n",
       "  186.274,1445.72 2352.76,1445.72 \n",
       "  \"/>\n",
       "<polyline clip-path=\"url(#clip932)\" style=\"stroke:#000000; stroke-linecap:butt; stroke-linejoin:round; stroke-width:2; stroke-opacity:0.1; fill:none\" points=\"\n",
       "  186.274,1106.28 2352.76,1106.28 \n",
       "  \"/>\n",
       "<polyline clip-path=\"url(#clip932)\" style=\"stroke:#000000; stroke-linecap:butt; stroke-linejoin:round; stroke-width:2; stroke-opacity:0.1; fill:none\" points=\"\n",
       "  186.274,766.846 2352.76,766.846 \n",
       "  \"/>\n",
       "<polyline clip-path=\"url(#clip932)\" style=\"stroke:#000000; stroke-linecap:butt; stroke-linejoin:round; stroke-width:2; stroke-opacity:0.1; fill:none\" points=\"\n",
       "  186.274,427.411 2352.76,427.411 \n",
       "  \"/>\n",
       "<polyline clip-path=\"url(#clip932)\" style=\"stroke:#000000; stroke-linecap:butt; stroke-linejoin:round; stroke-width:2; stroke-opacity:0.1; fill:none\" points=\"\n",
       "  186.274,87.9763 2352.76,87.9763 \n",
       "  \"/>\n",
       "<polyline clip-path=\"url(#clip930)\" style=\"stroke:#000000; stroke-linecap:butt; stroke-linejoin:round; stroke-width:4; stroke-opacity:1; fill:none\" points=\"\n",
       "  186.274,1486.45 186.274,47.2441 \n",
       "  \"/>\n",
       "<polyline clip-path=\"url(#clip930)\" style=\"stroke:#000000; stroke-linecap:butt; stroke-linejoin:round; stroke-width:4; stroke-opacity:1; fill:none\" points=\"\n",
       "  186.274,1445.72 205.172,1445.72 \n",
       "  \"/>\n",
       "<polyline clip-path=\"url(#clip930)\" style=\"stroke:#000000; stroke-linecap:butt; stroke-linejoin:round; stroke-width:4; stroke-opacity:1; fill:none\" points=\"\n",
       "  186.274,1106.28 205.172,1106.28 \n",
       "  \"/>\n",
       "<polyline clip-path=\"url(#clip930)\" style=\"stroke:#000000; stroke-linecap:butt; stroke-linejoin:round; stroke-width:4; stroke-opacity:1; fill:none\" points=\"\n",
       "  186.274,766.846 205.172,766.846 \n",
       "  \"/>\n",
       "<polyline clip-path=\"url(#clip930)\" style=\"stroke:#000000; stroke-linecap:butt; stroke-linejoin:round; stroke-width:4; stroke-opacity:1; fill:none\" points=\"\n",
       "  186.274,427.411 205.172,427.411 \n",
       "  \"/>\n",
       "<polyline clip-path=\"url(#clip930)\" style=\"stroke:#000000; stroke-linecap:butt; stroke-linejoin:round; stroke-width:4; stroke-opacity:1; fill:none\" points=\"\n",
       "  186.274,87.9763 205.172,87.9763 \n",
       "  \"/>\n",
       "<path clip-path=\"url(#clip930)\" d=\"M62.9365 1431.51 Q59.3254 1431.51 57.4967 1435.08 Q55.6912 1438.62 55.6912 1445.75 Q55.6912 1452.86 57.4967 1456.42 Q59.3254 1459.96 62.9365 1459.96 Q66.5707 1459.96 68.3763 1456.42 Q70.205 1452.86 70.205 1445.75 Q70.205 1438.62 68.3763 1435.08 Q66.5707 1431.51 62.9365 1431.51 M62.9365 1427.81 Q68.7467 1427.81 71.8022 1432.42 Q74.8809 1437 74.8809 1445.75 Q74.8809 1454.48 71.8022 1459.08 Q68.7467 1463.67 62.9365 1463.67 Q57.1264 1463.67 54.0477 1459.08 Q50.9921 1454.48 50.9921 1445.75 Q50.9921 1437 54.0477 1432.42 Q57.1264 1427.81 62.9365 1427.81 Z\" fill=\"#000000\" fill-rule=\"evenodd\" fill-opacity=\"1\" /><path clip-path=\"url(#clip930)\" d=\"M83.0984 1457.12 L87.9827 1457.12 L87.9827 1463 L83.0984 1463 L83.0984 1457.12 Z\" fill=\"#000000\" fill-rule=\"evenodd\" fill-opacity=\"1\" /><path clip-path=\"url(#clip930)\" d=\"M108.168 1431.51 Q104.557 1431.51 102.728 1435.08 Q100.922 1438.62 100.922 1445.75 Q100.922 1452.86 102.728 1456.42 Q104.557 1459.96 108.168 1459.96 Q111.802 1459.96 113.608 1456.42 Q115.436 1452.86 115.436 1445.75 Q115.436 1438.62 113.608 1435.08 Q111.802 1431.51 108.168 1431.51 M108.168 1427.81 Q113.978 1427.81 117.033 1432.42 Q120.112 1437 120.112 1445.75 Q120.112 1454.48 117.033 1459.08 Q113.978 1463.67 108.168 1463.67 Q102.358 1463.67 99.2789 1459.08 Q96.2234 1454.48 96.2234 1445.75 Q96.2234 1437 99.2789 1432.42 Q102.358 1427.81 108.168 1427.81 Z\" fill=\"#000000\" fill-rule=\"evenodd\" fill-opacity=\"1\" /><path clip-path=\"url(#clip930)\" d=\"M138.33 1431.51 Q134.719 1431.51 132.89 1435.08 Q131.084 1438.62 131.084 1445.75 Q131.084 1452.86 132.89 1456.42 Q134.719 1459.96 138.33 1459.96 Q141.964 1459.96 143.769 1456.42 Q145.598 1452.86 145.598 1445.75 Q145.598 1438.62 143.769 1435.08 Q141.964 1431.51 138.33 1431.51 M138.33 1427.81 Q144.14 1427.81 147.195 1432.42 Q150.274 1437 150.274 1445.75 Q150.274 1454.48 147.195 1459.08 Q144.14 1463.67 138.33 1463.67 Q132.519 1463.67 129.441 1459.08 Q126.385 1454.48 126.385 1445.75 Q126.385 1437 129.441 1432.42 Q132.519 1427.81 138.33 1427.81 Z\" fill=\"#000000\" fill-rule=\"evenodd\" fill-opacity=\"1\" /><path clip-path=\"url(#clip930)\" d=\"M63.9319 1092.08 Q60.3208 1092.08 58.4921 1095.64 Q56.6865 1099.19 56.6865 1106.32 Q56.6865 1113.42 58.4921 1116.99 Q60.3208 1120.53 63.9319 1120.53 Q67.5661 1120.53 69.3717 1116.99 Q71.2004 1113.42 71.2004 1106.32 Q71.2004 1099.19 69.3717 1095.64 Q67.5661 1092.08 63.9319 1092.08 M63.9319 1088.38 Q69.742 1088.38 72.7976 1092.98 Q75.8763 1097.57 75.8763 1106.32 Q75.8763 1115.04 72.7976 1119.65 Q69.742 1124.23 63.9319 1124.23 Q58.1217 1124.23 55.043 1119.65 Q51.9875 1115.04 51.9875 1106.32 Q51.9875 1097.57 55.043 1092.98 Q58.1217 1088.38 63.9319 1088.38 Z\" fill=\"#000000\" fill-rule=\"evenodd\" fill-opacity=\"1\" /><path clip-path=\"url(#clip930)\" d=\"M84.0938 1117.68 L88.978 1117.68 L88.978 1123.56 L84.0938 1123.56 L84.0938 1117.68 Z\" fill=\"#000000\" fill-rule=\"evenodd\" fill-opacity=\"1\" /><path clip-path=\"url(#clip930)\" d=\"M103.191 1119.63 L119.51 1119.63 L119.51 1123.56 L97.566 1123.56 L97.566 1119.63 Q100.228 1116.87 104.811 1112.24 Q109.418 1107.59 110.598 1106.25 Q112.844 1103.72 113.723 1101.99 Q114.626 1100.23 114.626 1098.54 Q114.626 1095.78 112.682 1094.05 Q110.76 1092.31 107.658 1092.31 Q105.459 1092.31 103.006 1093.07 Q100.575 1093.84 97.7974 1095.39 L97.7974 1090.67 Q100.621 1089.53 103.075 1088.95 Q105.529 1088.38 107.566 1088.38 Q112.936 1088.38 116.131 1091.06 Q119.325 1093.75 119.325 1098.24 Q119.325 1100.37 118.515 1102.29 Q117.728 1104.19 115.621 1106.78 Q115.043 1107.45 111.941 1110.67 Q108.839 1113.86 103.191 1119.63 Z\" fill=\"#000000\" fill-rule=\"evenodd\" fill-opacity=\"1\" /><path clip-path=\"url(#clip930)\" d=\"M129.371 1089 L147.728 1089 L147.728 1092.94 L133.654 1092.94 L133.654 1101.41 Q134.672 1101.06 135.691 1100.9 Q136.709 1100.71 137.728 1100.71 Q143.515 1100.71 146.894 1103.89 Q150.274 1107.06 150.274 1112.47 Q150.274 1118.05 146.802 1121.15 Q143.33 1124.23 137.01 1124.23 Q134.834 1124.23 132.566 1123.86 Q130.32 1123.49 127.913 1122.75 L127.913 1118.05 Q129.996 1119.19 132.219 1119.74 Q134.441 1120.3 136.918 1120.3 Q140.922 1120.3 143.26 1118.19 Q145.598 1116.08 145.598 1112.47 Q145.598 1108.86 143.26 1106.76 Q140.922 1104.65 136.918 1104.65 Q135.043 1104.65 133.168 1105.07 Q131.316 1105.48 129.371 1106.36 L129.371 1089 Z\" fill=\"#000000\" fill-rule=\"evenodd\" fill-opacity=\"1\" /><path clip-path=\"url(#clip930)\" d=\"M62.9365 752.645 Q59.3254 752.645 57.4967 756.209 Q55.6912 759.751 55.6912 766.881 Q55.6912 773.987 57.4967 777.552 Q59.3254 781.094 62.9365 781.094 Q66.5707 781.094 68.3763 777.552 Q70.205 773.987 70.205 766.881 Q70.205 759.751 68.3763 756.209 Q66.5707 752.645 62.9365 752.645 M62.9365 748.941 Q68.7467 748.941 71.8022 753.547 Q74.8809 758.131 74.8809 766.881 Q74.8809 775.608 71.8022 780.214 Q68.7467 784.797 62.9365 784.797 Q57.1264 784.797 54.0477 780.214 Q50.9921 775.608 50.9921 766.881 Q50.9921 758.131 54.0477 753.547 Q57.1264 748.941 62.9365 748.941 Z\" fill=\"#000000\" fill-rule=\"evenodd\" fill-opacity=\"1\" /><path clip-path=\"url(#clip930)\" d=\"M83.0984 778.246 L87.9827 778.246 L87.9827 784.126 L83.0984 784.126 L83.0984 778.246 Z\" fill=\"#000000\" fill-rule=\"evenodd\" fill-opacity=\"1\" /><path clip-path=\"url(#clip930)\" d=\"M98.2141 749.566 L116.57 749.566 L116.57 753.501 L102.496 753.501 L102.496 761.973 Q103.515 761.626 104.534 761.464 Q105.552 761.279 106.571 761.279 Q112.358 761.279 115.737 764.45 Q119.117 767.621 119.117 773.038 Q119.117 778.617 115.645 781.719 Q112.172 784.797 105.853 784.797 Q103.677 784.797 101.409 784.427 Q99.1632 784.057 96.7558 783.316 L96.7558 778.617 Q98.8391 779.751 101.061 780.307 Q103.284 780.862 105.76 780.862 Q109.765 780.862 112.103 778.756 Q114.441 776.649 114.441 773.038 Q114.441 769.427 112.103 767.321 Q109.765 765.214 105.76 765.214 Q103.885 765.214 102.01 765.631 Q100.159 766.047 98.2141 766.927 L98.2141 749.566 Z\" fill=\"#000000\" fill-rule=\"evenodd\" fill-opacity=\"1\" /><path clip-path=\"url(#clip930)\" d=\"M138.33 752.645 Q134.719 752.645 132.89 756.209 Q131.084 759.751 131.084 766.881 Q131.084 773.987 132.89 777.552 Q134.719 781.094 138.33 781.094 Q141.964 781.094 143.769 777.552 Q145.598 773.987 145.598 766.881 Q145.598 759.751 143.769 756.209 Q141.964 752.645 138.33 752.645 M138.33 748.941 Q144.14 748.941 147.195 753.547 Q150.274 758.131 150.274 766.881 Q150.274 775.608 147.195 780.214 Q144.14 784.797 138.33 784.797 Q132.519 784.797 129.441 780.214 Q126.385 775.608 126.385 766.881 Q126.385 758.131 129.441 753.547 Q132.519 748.941 138.33 748.941 Z\" fill=\"#000000\" fill-rule=\"evenodd\" fill-opacity=\"1\" /><path clip-path=\"url(#clip930)\" d=\"M63.9319 413.21 Q60.3208 413.21 58.4921 416.775 Q56.6865 420.316 56.6865 427.446 Q56.6865 434.552 58.4921 438.117 Q60.3208 441.659 63.9319 441.659 Q67.5661 441.659 69.3717 438.117 Q71.2004 434.552 71.2004 427.446 Q71.2004 420.316 69.3717 416.775 Q67.5661 413.21 63.9319 413.21 M63.9319 409.506 Q69.742 409.506 72.7976 414.113 Q75.8763 418.696 75.8763 427.446 Q75.8763 436.173 72.7976 440.779 Q69.742 445.362 63.9319 445.362 Q58.1217 445.362 55.043 440.779 Q51.9875 436.173 51.9875 427.446 Q51.9875 418.696 55.043 414.113 Q58.1217 409.506 63.9319 409.506 Z\" fill=\"#000000\" fill-rule=\"evenodd\" fill-opacity=\"1\" /><path clip-path=\"url(#clip930)\" d=\"M84.0938 438.812 L88.978 438.812 L88.978 444.691 L84.0938 444.691 L84.0938 438.812 Z\" fill=\"#000000\" fill-rule=\"evenodd\" fill-opacity=\"1\" /><path clip-path=\"url(#clip930)\" d=\"M97.9826 410.131 L120.205 410.131 L120.205 412.122 L107.658 444.691 L102.774 444.691 L114.58 414.066 L97.9826 414.066 L97.9826 410.131 Z\" fill=\"#000000\" fill-rule=\"evenodd\" fill-opacity=\"1\" /><path clip-path=\"url(#clip930)\" d=\"M129.371 410.131 L147.728 410.131 L147.728 414.066 L133.654 414.066 L133.654 422.538 Q134.672 422.191 135.691 422.029 Q136.709 421.844 137.728 421.844 Q143.515 421.844 146.894 425.015 Q150.274 428.187 150.274 433.603 Q150.274 439.182 146.802 442.284 Q143.33 445.362 137.01 445.362 Q134.834 445.362 132.566 444.992 Q130.32 444.622 127.913 443.881 L127.913 439.182 Q129.996 440.316 132.219 440.872 Q134.441 441.427 136.918 441.427 Q140.922 441.427 143.26 439.321 Q145.598 437.214 145.598 433.603 Q145.598 429.992 143.26 427.886 Q140.922 425.779 136.918 425.779 Q135.043 425.779 133.168 426.196 Q131.316 426.613 129.371 427.492 L129.371 410.131 Z\" fill=\"#000000\" fill-rule=\"evenodd\" fill-opacity=\"1\" /><path clip-path=\"url(#clip930)\" d=\"M53.7467 101.321 L61.3856 101.321 L61.3856 74.9555 L53.0754 76.6222 L53.0754 72.3629 L61.3393 70.6963 L66.0152 70.6963 L66.0152 101.321 L73.654 101.321 L73.654 105.256 L53.7467 105.256 L53.7467 101.321 Z\" fill=\"#000000\" fill-rule=\"evenodd\" fill-opacity=\"1\" /><path clip-path=\"url(#clip930)\" d=\"M83.0984 99.3767 L87.9827 99.3767 L87.9827 105.256 L83.0984 105.256 L83.0984 99.3767 Z\" fill=\"#000000\" fill-rule=\"evenodd\" fill-opacity=\"1\" /><path clip-path=\"url(#clip930)\" d=\"M108.168 73.775 Q104.557 73.775 102.728 77.3398 Q100.922 80.8814 100.922 88.011 Q100.922 95.1174 102.728 98.6822 Q104.557 102.224 108.168 102.224 Q111.802 102.224 113.608 98.6822 Q115.436 95.1174 115.436 88.011 Q115.436 80.8814 113.608 77.3398 Q111.802 73.775 108.168 73.775 M108.168 70.0713 Q113.978 70.0713 117.033 74.6777 Q120.112 79.261 120.112 88.011 Q120.112 96.7378 117.033 101.344 Q113.978 105.928 108.168 105.928 Q102.358 105.928 99.2789 101.344 Q96.2234 96.7378 96.2234 88.011 Q96.2234 79.261 99.2789 74.6777 Q102.358 70.0713 108.168 70.0713 Z\" fill=\"#000000\" fill-rule=\"evenodd\" fill-opacity=\"1\" /><path clip-path=\"url(#clip930)\" d=\"M138.33 73.775 Q134.719 73.775 132.89 77.3398 Q131.084 80.8814 131.084 88.011 Q131.084 95.1174 132.89 98.6822 Q134.719 102.224 138.33 102.224 Q141.964 102.224 143.769 98.6822 Q145.598 95.1174 145.598 88.011 Q145.598 80.8814 143.769 77.3398 Q141.964 73.775 138.33 73.775 M138.33 70.0713 Q144.14 70.0713 147.195 74.6777 Q150.274 79.261 150.274 88.011 Q150.274 96.7378 147.195 101.344 Q144.14 105.928 138.33 105.928 Q132.519 105.928 129.441 101.344 Q126.385 96.7378 126.385 88.011 Q126.385 79.261 129.441 74.6777 Q132.519 70.0713 138.33 70.0713 Z\" fill=\"#000000\" fill-rule=\"evenodd\" fill-opacity=\"1\" /><polyline clip-path=\"url(#clip932)\" style=\"stroke:#009af9; stroke-linecap:butt; stroke-linejoin:round; stroke-width:4; stroke-opacity:1; fill:none\" points=\"\n",
       "  247.59,1445.72 267.549,1445.72 452.107,1445.72 563.019,1445.72 656.793,1445.72 758.658,1445.72 852.569,1445.72 902.91,1445.72 953.251,1445.72 967.833,1445.72 \n",
       "  982.414,1445.72 996.995,1445.72 1011.58,1437.52 1026.16,1394.6 1040.74,1352.35 1055.32,1310.76 1069.9,1269.82 1121.73,1129.25 1173.57,996.014 1219.02,884.759 \n",
       "  1264.47,778.366 1314.03,667.542 1363.58,561.758 1413.43,460.09 1463.28,362.869 1518.4,260.211 1573.51,162.29 1599.73,117.273 1625.95,87.9763 1652.17,87.9763 \n",
       "  1678.39,87.9763 1732.92,87.9763 1787.45,87.9763 1833.35,87.9763 1879.25,87.9763 1991.32,87.9763 2096.68,87.9763 2265.46,87.9763 2291.44,87.9763 \n",
       "  \"/>\n",
       "<path clip-path=\"url(#clip930)\" d=\"\n",
       "M1987.39 198.898 L2280.54 198.898 L2280.54 95.2176 L1987.39 95.2176  Z\n",
       "  \" fill=\"#ffffff\" fill-rule=\"evenodd\" fill-opacity=\"1\"/>\n",
       "<polyline clip-path=\"url(#clip930)\" style=\"stroke:#000000; stroke-linecap:butt; stroke-linejoin:round; stroke-width:4; stroke-opacity:1; fill:none\" points=\"\n",
       "  1987.39,198.898 2280.54,198.898 2280.54,95.2176 1987.39,95.2176 1987.39,198.898 \n",
       "  \"/>\n",
       "<polyline clip-path=\"url(#clip930)\" style=\"stroke:#009af9; stroke-linecap:butt; stroke-linejoin:round; stroke-width:4; stroke-opacity:1; fill:none\" points=\"\n",
       "  2011.46,147.058 2155.89,147.058 \n",
       "  \"/>\n",
       "<path clip-path=\"url(#clip930)\" d=\"M2193.81 166.745 Q2192 171.375 2190.29 172.787 Q2188.58 174.199 2185.71 174.199 L2182.3 174.199 L2182.3 170.634 L2184.8 170.634 Q2186.56 170.634 2187.53 169.8 Q2188.51 168.967 2189.69 165.865 L2190.45 163.921 L2179.97 138.412 L2184.48 138.412 L2192.58 158.689 L2200.68 138.412 L2205.2 138.412 L2193.81 166.745 Z\" fill=\"#000000\" fill-rule=\"evenodd\" fill-opacity=\"1\" /><path clip-path=\"url(#clip930)\" d=\"M2212.49 160.402 L2220.13 160.402 L2220.13 134.037 L2211.82 135.703 L2211.82 131.444 L2220.08 129.778 L2224.76 129.778 L2224.76 160.402 L2232.4 160.402 L2232.4 164.338 L2212.49 164.338 L2212.49 160.402 Z\" fill=\"#000000\" fill-rule=\"evenodd\" fill-opacity=\"1\" /></svg>\n"
      ]
     },
     "execution_count": 14,
     "metadata": {},
     "output_type": "execute_result"
    }
   ],
   "source": [
    "\n",
    "plot(probh(lambda => .5,w_2=>.5),.01,.99)"
   ]
  },
  {
   "cell_type": "code",
   "execution_count": 15,
   "id": "ba31bacf-5a6e-443c-8413-afab0e54aa09",
   "metadata": {},
   "outputs": [
    {
     "data": {
      "image/svg+xml": [
       "<?xml version=\"1.0\" encoding=\"utf-8\"?>\n",
       "<svg xmlns=\"http://www.w3.org/2000/svg\" xmlns:xlink=\"http://www.w3.org/1999/xlink\" width=\"600\" height=\"400\" viewBox=\"0 0 2400 1600\">\n",
       "<defs>\n",
       "  <clipPath id=\"clip970\">\n",
       "    <rect x=\"0\" y=\"0\" width=\"2400\" height=\"1600\"/>\n",
       "  </clipPath>\n",
       "</defs>\n",
       "<path clip-path=\"url(#clip970)\" d=\"\n",
       "M0 1600 L2400 1600 L2400 0 L0 0  Z\n",
       "  \" fill=\"#ffffff\" fill-rule=\"evenodd\" fill-opacity=\"1\"/>\n",
       "<defs>\n",
       "  <clipPath id=\"clip971\">\n",
       "    <rect x=\"480\" y=\"0\" width=\"1681\" height=\"1600\"/>\n",
       "  </clipPath>\n",
       "</defs>\n",
       "<path clip-path=\"url(#clip970)\" d=\"\n",
       "M186.274 1486.45 L2352.76 1486.45 L2352.76 47.2441 L186.274 47.2441  Z\n",
       "  \" fill=\"#ffffff\" fill-rule=\"evenodd\" fill-opacity=\"1\"/>\n",
       "<defs>\n",
       "  <clipPath id=\"clip972\">\n",
       "    <rect x=\"186\" y=\"47\" width=\"2167\" height=\"1440\"/>\n",
       "  </clipPath>\n",
       "</defs>\n",
       "<polyline clip-path=\"url(#clip972)\" style=\"stroke:#000000; stroke-linecap:butt; stroke-linejoin:round; stroke-width:2; stroke-opacity:0.1; fill:none\" points=\"\n",
       "  226.734,1486.45 226.734,47.2441 \n",
       "  \"/>\n",
       "<polyline clip-path=\"url(#clip972)\" style=\"stroke:#000000; stroke-linecap:butt; stroke-linejoin:round; stroke-width:2; stroke-opacity:0.1; fill:none\" points=\"\n",
       "  748.124,1486.45 748.124,47.2441 \n",
       "  \"/>\n",
       "<polyline clip-path=\"url(#clip972)\" style=\"stroke:#000000; stroke-linecap:butt; stroke-linejoin:round; stroke-width:2; stroke-opacity:0.1; fill:none\" points=\"\n",
       "  1269.51,1486.45 1269.51,47.2441 \n",
       "  \"/>\n",
       "<polyline clip-path=\"url(#clip972)\" style=\"stroke:#000000; stroke-linecap:butt; stroke-linejoin:round; stroke-width:2; stroke-opacity:0.1; fill:none\" points=\"\n",
       "  1790.91,1486.45 1790.91,47.2441 \n",
       "  \"/>\n",
       "<polyline clip-path=\"url(#clip972)\" style=\"stroke:#000000; stroke-linecap:butt; stroke-linejoin:round; stroke-width:2; stroke-opacity:0.1; fill:none\" points=\"\n",
       "  2312.3,1486.45 2312.3,47.2441 \n",
       "  \"/>\n",
       "<polyline clip-path=\"url(#clip970)\" style=\"stroke:#000000; stroke-linecap:butt; stroke-linejoin:round; stroke-width:4; stroke-opacity:1; fill:none\" points=\"\n",
       "  186.274,1486.45 2352.76,1486.45 \n",
       "  \"/>\n",
       "<polyline clip-path=\"url(#clip970)\" style=\"stroke:#000000; stroke-linecap:butt; stroke-linejoin:round; stroke-width:4; stroke-opacity:1; fill:none\" points=\"\n",
       "  226.734,1486.45 226.734,1467.55 \n",
       "  \"/>\n",
       "<polyline clip-path=\"url(#clip970)\" style=\"stroke:#000000; stroke-linecap:butt; stroke-linejoin:round; stroke-width:4; stroke-opacity:1; fill:none\" points=\"\n",
       "  748.124,1486.45 748.124,1467.55 \n",
       "  \"/>\n",
       "<polyline clip-path=\"url(#clip970)\" style=\"stroke:#000000; stroke-linecap:butt; stroke-linejoin:round; stroke-width:4; stroke-opacity:1; fill:none\" points=\"\n",
       "  1269.51,1486.45 1269.51,1467.55 \n",
       "  \"/>\n",
       "<polyline clip-path=\"url(#clip970)\" style=\"stroke:#000000; stroke-linecap:butt; stroke-linejoin:round; stroke-width:4; stroke-opacity:1; fill:none\" points=\"\n",
       "  1790.91,1486.45 1790.91,1467.55 \n",
       "  \"/>\n",
       "<polyline clip-path=\"url(#clip970)\" style=\"stroke:#000000; stroke-linecap:butt; stroke-linejoin:round; stroke-width:4; stroke-opacity:1; fill:none\" points=\"\n",
       "  2312.3,1486.45 2312.3,1467.55 \n",
       "  \"/>\n",
       "<path clip-path=\"url(#clip970)\" d=\"M189.037 1517.37 Q185.426 1517.37 183.598 1520.93 Q181.792 1524.47 181.792 1531.6 Q181.792 1538.71 183.598 1542.27 Q185.426 1545.82 189.037 1545.82 Q192.672 1545.82 194.477 1542.27 Q196.306 1538.71 196.306 1531.6 Q196.306 1524.47 194.477 1520.93 Q192.672 1517.37 189.037 1517.37 M189.037 1513.66 Q194.848 1513.66 197.903 1518.27 Q200.982 1522.85 200.982 1531.6 Q200.982 1540.33 197.903 1544.94 Q194.848 1549.52 189.037 1549.52 Q183.227 1549.52 180.149 1544.94 Q177.093 1540.33 177.093 1531.6 Q177.093 1522.85 180.149 1518.27 Q183.227 1513.66 189.037 1513.66 Z\" fill=\"#000000\" fill-rule=\"evenodd\" fill-opacity=\"1\" /><path clip-path=\"url(#clip970)\" d=\"M209.199 1542.97 L214.084 1542.97 L214.084 1548.85 L209.199 1548.85 L209.199 1542.97 Z\" fill=\"#000000\" fill-rule=\"evenodd\" fill-opacity=\"1\" /><path clip-path=\"url(#clip970)\" d=\"M234.269 1517.37 Q230.657 1517.37 228.829 1520.93 Q227.023 1524.47 227.023 1531.6 Q227.023 1538.71 228.829 1542.27 Q230.657 1545.82 234.269 1545.82 Q237.903 1545.82 239.708 1542.27 Q241.537 1538.71 241.537 1531.6 Q241.537 1524.47 239.708 1520.93 Q237.903 1517.37 234.269 1517.37 M234.269 1513.66 Q240.079 1513.66 243.134 1518.27 Q246.213 1522.85 246.213 1531.6 Q246.213 1540.33 243.134 1544.94 Q240.079 1549.52 234.269 1549.52 Q228.458 1549.52 225.38 1544.94 Q222.324 1540.33 222.324 1531.6 Q222.324 1522.85 225.38 1518.27 Q228.458 1513.66 234.269 1513.66 Z\" fill=\"#000000\" fill-rule=\"evenodd\" fill-opacity=\"1\" /><path clip-path=\"url(#clip970)\" d=\"M264.43 1517.37 Q260.819 1517.37 258.991 1520.93 Q257.185 1524.47 257.185 1531.6 Q257.185 1538.71 258.991 1542.27 Q260.819 1545.82 264.43 1545.82 Q268.065 1545.82 269.87 1542.27 Q271.699 1538.71 271.699 1531.6 Q271.699 1524.47 269.87 1520.93 Q268.065 1517.37 264.43 1517.37 M264.43 1513.66 Q270.241 1513.66 273.296 1518.27 Q276.375 1522.85 276.375 1531.6 Q276.375 1540.33 273.296 1544.94 Q270.241 1549.52 264.43 1549.52 Q258.62 1549.52 255.542 1544.94 Q252.486 1540.33 252.486 1531.6 Q252.486 1522.85 255.542 1518.27 Q258.62 1513.66 264.43 1513.66 Z\" fill=\"#000000\" fill-rule=\"evenodd\" fill-opacity=\"1\" /><path clip-path=\"url(#clip970)\" d=\"M710.926 1517.37 Q707.314 1517.37 705.486 1520.93 Q703.68 1524.47 703.68 1531.6 Q703.68 1538.71 705.486 1542.27 Q707.314 1545.82 710.926 1545.82 Q714.56 1545.82 716.365 1542.27 Q718.194 1538.71 718.194 1531.6 Q718.194 1524.47 716.365 1520.93 Q714.56 1517.37 710.926 1517.37 M710.926 1513.66 Q716.736 1513.66 719.791 1518.27 Q722.87 1522.85 722.87 1531.6 Q722.87 1540.33 719.791 1544.94 Q716.736 1549.52 710.926 1549.52 Q705.115 1549.52 702.037 1544.94 Q698.981 1540.33 698.981 1531.6 Q698.981 1522.85 702.037 1518.27 Q705.115 1513.66 710.926 1513.66 Z\" fill=\"#000000\" fill-rule=\"evenodd\" fill-opacity=\"1\" /><path clip-path=\"url(#clip970)\" d=\"M731.087 1542.97 L735.972 1542.97 L735.972 1548.85 L731.087 1548.85 L731.087 1542.97 Z\" fill=\"#000000\" fill-rule=\"evenodd\" fill-opacity=\"1\" /><path clip-path=\"url(#clip970)\" d=\"M750.185 1544.91 L766.504 1544.91 L766.504 1548.85 L744.56 1548.85 L744.56 1544.91 Q747.222 1542.16 751.805 1537.53 Q756.411 1532.88 757.592 1531.53 Q759.837 1529.01 760.717 1527.27 Q761.62 1525.51 761.62 1523.82 Q761.62 1521.07 759.675 1519.33 Q757.754 1517.6 754.652 1517.6 Q752.453 1517.6 749.999 1518.36 Q747.569 1519.13 744.791 1520.68 L744.791 1515.95 Q747.615 1514.82 750.069 1514.24 Q752.523 1513.66 754.56 1513.66 Q759.93 1513.66 763.124 1516.35 Q766.319 1519.03 766.319 1523.52 Q766.319 1525.65 765.509 1527.57 Q764.722 1529.47 762.615 1532.07 Q762.036 1532.74 758.935 1535.95 Q755.833 1539.15 750.185 1544.91 Z\" fill=\"#000000\" fill-rule=\"evenodd\" fill-opacity=\"1\" /><path clip-path=\"url(#clip970)\" d=\"M776.365 1514.29 L794.721 1514.29 L794.721 1518.22 L780.647 1518.22 L780.647 1526.7 Q781.666 1526.35 782.684 1526.19 Q783.703 1526 784.721 1526 Q790.508 1526 793.888 1529.17 Q797.268 1532.34 797.268 1537.76 Q797.268 1543.34 793.795 1546.44 Q790.323 1549.52 784.004 1549.52 Q781.828 1549.52 779.559 1549.15 Q777.314 1548.78 774.907 1548.04 L774.907 1543.34 Q776.99 1544.47 779.212 1545.03 Q781.434 1545.58 783.911 1545.58 Q787.916 1545.58 790.254 1543.48 Q792.592 1541.37 792.592 1537.76 Q792.592 1534.15 790.254 1532.04 Q787.916 1529.94 783.911 1529.94 Q782.036 1529.94 780.161 1530.35 Q778.309 1530.77 776.365 1531.65 L776.365 1514.29 Z\" fill=\"#000000\" fill-rule=\"evenodd\" fill-opacity=\"1\" /><path clip-path=\"url(#clip970)\" d=\"M1231.82 1517.37 Q1228.21 1517.37 1226.38 1520.93 Q1224.57 1524.47 1224.57 1531.6 Q1224.57 1538.71 1226.38 1542.27 Q1228.21 1545.82 1231.82 1545.82 Q1235.45 1545.82 1237.26 1542.27 Q1239.09 1538.71 1239.09 1531.6 Q1239.09 1524.47 1237.26 1520.93 Q1235.45 1517.37 1231.82 1517.37 M1231.82 1513.66 Q1237.63 1513.66 1240.68 1518.27 Q1243.76 1522.85 1243.76 1531.6 Q1243.76 1540.33 1240.68 1544.94 Q1237.63 1549.52 1231.82 1549.52 Q1226.01 1549.52 1222.93 1544.94 Q1219.87 1540.33 1219.87 1531.6 Q1219.87 1522.85 1222.93 1518.27 Q1226.01 1513.66 1231.82 1513.66 Z\" fill=\"#000000\" fill-rule=\"evenodd\" fill-opacity=\"1\" /><path clip-path=\"url(#clip970)\" d=\"M1251.98 1542.97 L1256.86 1542.97 L1256.86 1548.85 L1251.98 1548.85 L1251.98 1542.97 Z\" fill=\"#000000\" fill-rule=\"evenodd\" fill-opacity=\"1\" /><path clip-path=\"url(#clip970)\" d=\"M1267.1 1514.29 L1285.45 1514.29 L1285.45 1518.22 L1271.38 1518.22 L1271.38 1526.7 Q1272.4 1526.35 1273.42 1526.19 Q1274.43 1526 1275.45 1526 Q1281.24 1526 1284.62 1529.17 Q1288 1532.34 1288 1537.76 Q1288 1543.34 1284.53 1546.44 Q1281.05 1549.52 1274.73 1549.52 Q1272.56 1549.52 1270.29 1549.15 Q1268.05 1548.78 1265.64 1548.04 L1265.64 1543.34 Q1267.72 1544.47 1269.94 1545.03 Q1272.17 1545.58 1274.64 1545.58 Q1278.65 1545.58 1280.98 1543.48 Q1283.32 1541.37 1283.32 1537.76 Q1283.32 1534.15 1280.98 1532.04 Q1278.65 1529.94 1274.64 1529.94 Q1272.77 1529.94 1270.89 1530.35 Q1269.04 1530.77 1267.1 1531.65 L1267.1 1514.29 Z\" fill=\"#000000\" fill-rule=\"evenodd\" fill-opacity=\"1\" /><path clip-path=\"url(#clip970)\" d=\"M1307.21 1517.37 Q1303.6 1517.37 1301.77 1520.93 Q1299.97 1524.47 1299.97 1531.6 Q1299.97 1538.71 1301.77 1542.27 Q1303.6 1545.82 1307.21 1545.82 Q1310.85 1545.82 1312.65 1542.27 Q1314.48 1538.71 1314.48 1531.6 Q1314.48 1524.47 1312.65 1520.93 Q1310.85 1517.37 1307.21 1517.37 M1307.21 1513.66 Q1313.02 1513.66 1316.08 1518.27 Q1319.16 1522.85 1319.16 1531.6 Q1319.16 1540.33 1316.08 1544.94 Q1313.02 1549.52 1307.21 1549.52 Q1301.4 1549.52 1298.32 1544.94 Q1295.27 1540.33 1295.27 1531.6 Q1295.27 1522.85 1298.32 1518.27 Q1301.4 1513.66 1307.21 1513.66 Z\" fill=\"#000000\" fill-rule=\"evenodd\" fill-opacity=\"1\" /><path clip-path=\"url(#clip970)\" d=\"M1753.71 1517.37 Q1750.1 1517.37 1748.27 1520.93 Q1746.46 1524.47 1746.46 1531.6 Q1746.46 1538.71 1748.27 1542.27 Q1750.1 1545.82 1753.71 1545.82 Q1757.34 1545.82 1759.15 1542.27 Q1760.98 1538.71 1760.98 1531.6 Q1760.98 1524.47 1759.15 1520.93 Q1757.34 1517.37 1753.71 1517.37 M1753.71 1513.66 Q1759.52 1513.66 1762.57 1518.27 Q1765.65 1522.85 1765.65 1531.6 Q1765.65 1540.33 1762.57 1544.94 Q1759.52 1549.52 1753.71 1549.52 Q1747.9 1549.52 1744.82 1544.94 Q1741.76 1540.33 1741.76 1531.6 Q1741.76 1522.85 1744.82 1518.27 Q1747.9 1513.66 1753.71 1513.66 Z\" fill=\"#000000\" fill-rule=\"evenodd\" fill-opacity=\"1\" /><path clip-path=\"url(#clip970)\" d=\"M1773.87 1542.97 L1778.75 1542.97 L1778.75 1548.85 L1773.87 1548.85 L1773.87 1542.97 Z\" fill=\"#000000\" fill-rule=\"evenodd\" fill-opacity=\"1\" /><path clip-path=\"url(#clip970)\" d=\"M1787.76 1514.29 L1809.98 1514.29 L1809.98 1516.28 L1797.43 1548.85 L1792.55 1548.85 L1804.35 1518.22 L1787.76 1518.22 L1787.76 1514.29 Z\" fill=\"#000000\" fill-rule=\"evenodd\" fill-opacity=\"1\" /><path clip-path=\"url(#clip970)\" d=\"M1819.15 1514.29 L1837.5 1514.29 L1837.5 1518.22 L1823.43 1518.22 L1823.43 1526.7 Q1824.45 1526.35 1825.47 1526.19 Q1826.48 1526 1827.5 1526 Q1833.29 1526 1836.67 1529.17 Q1840.05 1532.34 1840.05 1537.76 Q1840.05 1543.34 1836.58 1546.44 Q1833.1 1549.52 1826.78 1549.52 Q1824.61 1549.52 1822.34 1549.15 Q1820.1 1548.78 1817.69 1548.04 L1817.69 1543.34 Q1819.77 1544.47 1821.99 1545.03 Q1824.22 1545.58 1826.69 1545.58 Q1830.7 1545.58 1833.03 1543.48 Q1835.37 1541.37 1835.37 1537.76 Q1835.37 1534.15 1833.03 1532.04 Q1830.7 1529.94 1826.69 1529.94 Q1824.82 1529.94 1822.94 1530.35 Q1821.09 1530.77 1819.15 1531.65 L1819.15 1514.29 Z\" fill=\"#000000\" fill-rule=\"evenodd\" fill-opacity=\"1\" /><path clip-path=\"url(#clip970)\" d=\"M2264.37 1544.91 L2272.01 1544.91 L2272.01 1518.55 L2263.7 1520.21 L2263.7 1515.95 L2271.96 1514.29 L2276.64 1514.29 L2276.64 1544.91 L2284.28 1544.91 L2284.28 1548.85 L2264.37 1548.85 L2264.37 1544.91 Z\" fill=\"#000000\" fill-rule=\"evenodd\" fill-opacity=\"1\" /><path clip-path=\"url(#clip970)\" d=\"M2293.72 1542.97 L2298.6 1542.97 L2298.6 1548.85 L2293.72 1548.85 L2293.72 1542.97 Z\" fill=\"#000000\" fill-rule=\"evenodd\" fill-opacity=\"1\" /><path clip-path=\"url(#clip970)\" d=\"M2318.79 1517.37 Q2315.18 1517.37 2313.35 1520.93 Q2311.54 1524.47 2311.54 1531.6 Q2311.54 1538.71 2313.35 1542.27 Q2315.18 1545.82 2318.79 1545.82 Q2322.42 1545.82 2324.23 1542.27 Q2326.06 1538.71 2326.06 1531.6 Q2326.06 1524.47 2324.23 1520.93 Q2322.42 1517.37 2318.79 1517.37 M2318.79 1513.66 Q2324.6 1513.66 2327.65 1518.27 Q2330.73 1522.85 2330.73 1531.6 Q2330.73 1540.33 2327.65 1544.94 Q2324.6 1549.52 2318.79 1549.52 Q2312.98 1549.52 2309.9 1544.94 Q2306.84 1540.33 2306.84 1531.6 Q2306.84 1522.85 2309.9 1518.27 Q2312.98 1513.66 2318.79 1513.66 Z\" fill=\"#000000\" fill-rule=\"evenodd\" fill-opacity=\"1\" /><path clip-path=\"url(#clip970)\" d=\"M2348.95 1517.37 Q2345.34 1517.37 2343.51 1520.93 Q2341.71 1524.47 2341.71 1531.6 Q2341.71 1538.71 2343.51 1542.27 Q2345.34 1545.82 2348.95 1545.82 Q2352.59 1545.82 2354.39 1542.27 Q2356.22 1538.71 2356.22 1531.6 Q2356.22 1524.47 2354.39 1520.93 Q2352.59 1517.37 2348.95 1517.37 M2348.95 1513.66 Q2354.76 1513.66 2357.82 1518.27 Q2360.9 1522.85 2360.9 1531.6 Q2360.9 1540.33 2357.82 1544.94 Q2354.76 1549.52 2348.95 1549.52 Q2343.14 1549.52 2340.06 1544.94 Q2337.01 1540.33 2337.01 1531.6 Q2337.01 1522.85 2340.06 1518.27 Q2343.14 1513.66 2348.95 1513.66 Z\" fill=\"#000000\" fill-rule=\"evenodd\" fill-opacity=\"1\" /><polyline clip-path=\"url(#clip972)\" style=\"stroke:#000000; stroke-linecap:butt; stroke-linejoin:round; stroke-width:2; stroke-opacity:0.1; fill:none\" points=\"\n",
       "  186.274,1445.72 2352.76,1445.72 \n",
       "  \"/>\n",
       "<polyline clip-path=\"url(#clip972)\" style=\"stroke:#000000; stroke-linecap:butt; stroke-linejoin:round; stroke-width:2; stroke-opacity:0.1; fill:none\" points=\"\n",
       "  186.274,1106.28 2352.76,1106.28 \n",
       "  \"/>\n",
       "<polyline clip-path=\"url(#clip972)\" style=\"stroke:#000000; stroke-linecap:butt; stroke-linejoin:round; stroke-width:2; stroke-opacity:0.1; fill:none\" points=\"\n",
       "  186.274,766.846 2352.76,766.846 \n",
       "  \"/>\n",
       "<polyline clip-path=\"url(#clip972)\" style=\"stroke:#000000; stroke-linecap:butt; stroke-linejoin:round; stroke-width:2; stroke-opacity:0.1; fill:none\" points=\"\n",
       "  186.274,427.411 2352.76,427.411 \n",
       "  \"/>\n",
       "<polyline clip-path=\"url(#clip972)\" style=\"stroke:#000000; stroke-linecap:butt; stroke-linejoin:round; stroke-width:2; stroke-opacity:0.1; fill:none\" points=\"\n",
       "  186.274,87.9763 2352.76,87.9763 \n",
       "  \"/>\n",
       "<polyline clip-path=\"url(#clip970)\" style=\"stroke:#000000; stroke-linecap:butt; stroke-linejoin:round; stroke-width:4; stroke-opacity:1; fill:none\" points=\"\n",
       "  186.274,1486.45 186.274,47.2441 \n",
       "  \"/>\n",
       "<polyline clip-path=\"url(#clip970)\" style=\"stroke:#000000; stroke-linecap:butt; stroke-linejoin:round; stroke-width:4; stroke-opacity:1; fill:none\" points=\"\n",
       "  186.274,1445.72 205.172,1445.72 \n",
       "  \"/>\n",
       "<polyline clip-path=\"url(#clip970)\" style=\"stroke:#000000; stroke-linecap:butt; stroke-linejoin:round; stroke-width:4; stroke-opacity:1; fill:none\" points=\"\n",
       "  186.274,1106.28 205.172,1106.28 \n",
       "  \"/>\n",
       "<polyline clip-path=\"url(#clip970)\" style=\"stroke:#000000; stroke-linecap:butt; stroke-linejoin:round; stroke-width:4; stroke-opacity:1; fill:none\" points=\"\n",
       "  186.274,766.846 205.172,766.846 \n",
       "  \"/>\n",
       "<polyline clip-path=\"url(#clip970)\" style=\"stroke:#000000; stroke-linecap:butt; stroke-linejoin:round; stroke-width:4; stroke-opacity:1; fill:none\" points=\"\n",
       "  186.274,427.411 205.172,427.411 \n",
       "  \"/>\n",
       "<polyline clip-path=\"url(#clip970)\" style=\"stroke:#000000; stroke-linecap:butt; stroke-linejoin:round; stroke-width:4; stroke-opacity:1; fill:none\" points=\"\n",
       "  186.274,87.9763 205.172,87.9763 \n",
       "  \"/>\n",
       "<path clip-path=\"url(#clip970)\" d=\"M62.9365 1431.51 Q59.3254 1431.51 57.4967 1435.08 Q55.6912 1438.62 55.6912 1445.75 Q55.6912 1452.86 57.4967 1456.42 Q59.3254 1459.96 62.9365 1459.96 Q66.5707 1459.96 68.3763 1456.42 Q70.205 1452.86 70.205 1445.75 Q70.205 1438.62 68.3763 1435.08 Q66.5707 1431.51 62.9365 1431.51 M62.9365 1427.81 Q68.7467 1427.81 71.8022 1432.42 Q74.8809 1437 74.8809 1445.75 Q74.8809 1454.48 71.8022 1459.08 Q68.7467 1463.67 62.9365 1463.67 Q57.1264 1463.67 54.0477 1459.08 Q50.9921 1454.48 50.9921 1445.75 Q50.9921 1437 54.0477 1432.42 Q57.1264 1427.81 62.9365 1427.81 Z\" fill=\"#000000\" fill-rule=\"evenodd\" fill-opacity=\"1\" /><path clip-path=\"url(#clip970)\" d=\"M83.0984 1457.12 L87.9827 1457.12 L87.9827 1463 L83.0984 1463 L83.0984 1457.12 Z\" fill=\"#000000\" fill-rule=\"evenodd\" fill-opacity=\"1\" /><path clip-path=\"url(#clip970)\" d=\"M108.168 1431.51 Q104.557 1431.51 102.728 1435.08 Q100.922 1438.62 100.922 1445.75 Q100.922 1452.86 102.728 1456.42 Q104.557 1459.96 108.168 1459.96 Q111.802 1459.96 113.608 1456.42 Q115.436 1452.86 115.436 1445.75 Q115.436 1438.62 113.608 1435.08 Q111.802 1431.51 108.168 1431.51 M108.168 1427.81 Q113.978 1427.81 117.033 1432.42 Q120.112 1437 120.112 1445.75 Q120.112 1454.48 117.033 1459.08 Q113.978 1463.67 108.168 1463.67 Q102.358 1463.67 99.2789 1459.08 Q96.2234 1454.48 96.2234 1445.75 Q96.2234 1437 99.2789 1432.42 Q102.358 1427.81 108.168 1427.81 Z\" fill=\"#000000\" fill-rule=\"evenodd\" fill-opacity=\"1\" /><path clip-path=\"url(#clip970)\" d=\"M138.33 1431.51 Q134.719 1431.51 132.89 1435.08 Q131.084 1438.62 131.084 1445.75 Q131.084 1452.86 132.89 1456.42 Q134.719 1459.96 138.33 1459.96 Q141.964 1459.96 143.769 1456.42 Q145.598 1452.86 145.598 1445.75 Q145.598 1438.62 143.769 1435.08 Q141.964 1431.51 138.33 1431.51 M138.33 1427.81 Q144.14 1427.81 147.195 1432.42 Q150.274 1437 150.274 1445.75 Q150.274 1454.48 147.195 1459.08 Q144.14 1463.67 138.33 1463.67 Q132.519 1463.67 129.441 1459.08 Q126.385 1454.48 126.385 1445.75 Q126.385 1437 129.441 1432.42 Q132.519 1427.81 138.33 1427.81 Z\" fill=\"#000000\" fill-rule=\"evenodd\" fill-opacity=\"1\" /><path clip-path=\"url(#clip970)\" d=\"M63.9319 1092.08 Q60.3208 1092.08 58.4921 1095.64 Q56.6865 1099.19 56.6865 1106.32 Q56.6865 1113.42 58.4921 1116.99 Q60.3208 1120.53 63.9319 1120.53 Q67.5661 1120.53 69.3717 1116.99 Q71.2004 1113.42 71.2004 1106.32 Q71.2004 1099.19 69.3717 1095.64 Q67.5661 1092.08 63.9319 1092.08 M63.9319 1088.38 Q69.742 1088.38 72.7976 1092.98 Q75.8763 1097.57 75.8763 1106.32 Q75.8763 1115.04 72.7976 1119.65 Q69.742 1124.23 63.9319 1124.23 Q58.1217 1124.23 55.043 1119.65 Q51.9875 1115.04 51.9875 1106.32 Q51.9875 1097.57 55.043 1092.98 Q58.1217 1088.38 63.9319 1088.38 Z\" fill=\"#000000\" fill-rule=\"evenodd\" fill-opacity=\"1\" /><path clip-path=\"url(#clip970)\" d=\"M84.0938 1117.68 L88.978 1117.68 L88.978 1123.56 L84.0938 1123.56 L84.0938 1117.68 Z\" fill=\"#000000\" fill-rule=\"evenodd\" fill-opacity=\"1\" /><path clip-path=\"url(#clip970)\" d=\"M103.191 1119.63 L119.51 1119.63 L119.51 1123.56 L97.566 1123.56 L97.566 1119.63 Q100.228 1116.87 104.811 1112.24 Q109.418 1107.59 110.598 1106.25 Q112.844 1103.72 113.723 1101.99 Q114.626 1100.23 114.626 1098.54 Q114.626 1095.78 112.682 1094.05 Q110.76 1092.31 107.658 1092.31 Q105.459 1092.31 103.006 1093.07 Q100.575 1093.84 97.7974 1095.39 L97.7974 1090.67 Q100.621 1089.53 103.075 1088.95 Q105.529 1088.38 107.566 1088.38 Q112.936 1088.38 116.131 1091.06 Q119.325 1093.75 119.325 1098.24 Q119.325 1100.37 118.515 1102.29 Q117.728 1104.19 115.621 1106.78 Q115.043 1107.45 111.941 1110.67 Q108.839 1113.86 103.191 1119.63 Z\" fill=\"#000000\" fill-rule=\"evenodd\" fill-opacity=\"1\" /><path clip-path=\"url(#clip970)\" d=\"M129.371 1089 L147.728 1089 L147.728 1092.94 L133.654 1092.94 L133.654 1101.41 Q134.672 1101.06 135.691 1100.9 Q136.709 1100.71 137.728 1100.71 Q143.515 1100.71 146.894 1103.89 Q150.274 1107.06 150.274 1112.47 Q150.274 1118.05 146.802 1121.15 Q143.33 1124.23 137.01 1124.23 Q134.834 1124.23 132.566 1123.86 Q130.32 1123.49 127.913 1122.75 L127.913 1118.05 Q129.996 1119.19 132.219 1119.74 Q134.441 1120.3 136.918 1120.3 Q140.922 1120.3 143.26 1118.19 Q145.598 1116.08 145.598 1112.47 Q145.598 1108.86 143.26 1106.76 Q140.922 1104.65 136.918 1104.65 Q135.043 1104.65 133.168 1105.07 Q131.316 1105.48 129.371 1106.36 L129.371 1089 Z\" fill=\"#000000\" fill-rule=\"evenodd\" fill-opacity=\"1\" /><path clip-path=\"url(#clip970)\" d=\"M62.9365 752.645 Q59.3254 752.645 57.4967 756.209 Q55.6912 759.751 55.6912 766.881 Q55.6912 773.987 57.4967 777.552 Q59.3254 781.094 62.9365 781.094 Q66.5707 781.094 68.3763 777.552 Q70.205 773.987 70.205 766.881 Q70.205 759.751 68.3763 756.209 Q66.5707 752.645 62.9365 752.645 M62.9365 748.941 Q68.7467 748.941 71.8022 753.547 Q74.8809 758.131 74.8809 766.881 Q74.8809 775.608 71.8022 780.214 Q68.7467 784.797 62.9365 784.797 Q57.1264 784.797 54.0477 780.214 Q50.9921 775.608 50.9921 766.881 Q50.9921 758.131 54.0477 753.547 Q57.1264 748.941 62.9365 748.941 Z\" fill=\"#000000\" fill-rule=\"evenodd\" fill-opacity=\"1\" /><path clip-path=\"url(#clip970)\" d=\"M83.0984 778.246 L87.9827 778.246 L87.9827 784.126 L83.0984 784.126 L83.0984 778.246 Z\" fill=\"#000000\" fill-rule=\"evenodd\" fill-opacity=\"1\" /><path clip-path=\"url(#clip970)\" d=\"M98.2141 749.566 L116.57 749.566 L116.57 753.501 L102.496 753.501 L102.496 761.973 Q103.515 761.626 104.534 761.464 Q105.552 761.279 106.571 761.279 Q112.358 761.279 115.737 764.45 Q119.117 767.621 119.117 773.038 Q119.117 778.617 115.645 781.719 Q112.172 784.797 105.853 784.797 Q103.677 784.797 101.409 784.427 Q99.1632 784.057 96.7558 783.316 L96.7558 778.617 Q98.8391 779.751 101.061 780.307 Q103.284 780.862 105.76 780.862 Q109.765 780.862 112.103 778.756 Q114.441 776.649 114.441 773.038 Q114.441 769.427 112.103 767.321 Q109.765 765.214 105.76 765.214 Q103.885 765.214 102.01 765.631 Q100.159 766.047 98.2141 766.927 L98.2141 749.566 Z\" fill=\"#000000\" fill-rule=\"evenodd\" fill-opacity=\"1\" /><path clip-path=\"url(#clip970)\" d=\"M138.33 752.645 Q134.719 752.645 132.89 756.209 Q131.084 759.751 131.084 766.881 Q131.084 773.987 132.89 777.552 Q134.719 781.094 138.33 781.094 Q141.964 781.094 143.769 777.552 Q145.598 773.987 145.598 766.881 Q145.598 759.751 143.769 756.209 Q141.964 752.645 138.33 752.645 M138.33 748.941 Q144.14 748.941 147.195 753.547 Q150.274 758.131 150.274 766.881 Q150.274 775.608 147.195 780.214 Q144.14 784.797 138.33 784.797 Q132.519 784.797 129.441 780.214 Q126.385 775.608 126.385 766.881 Q126.385 758.131 129.441 753.547 Q132.519 748.941 138.33 748.941 Z\" fill=\"#000000\" fill-rule=\"evenodd\" fill-opacity=\"1\" /><path clip-path=\"url(#clip970)\" d=\"M63.9319 413.21 Q60.3208 413.21 58.4921 416.775 Q56.6865 420.316 56.6865 427.446 Q56.6865 434.552 58.4921 438.117 Q60.3208 441.659 63.9319 441.659 Q67.5661 441.659 69.3717 438.117 Q71.2004 434.552 71.2004 427.446 Q71.2004 420.316 69.3717 416.775 Q67.5661 413.21 63.9319 413.21 M63.9319 409.506 Q69.742 409.506 72.7976 414.113 Q75.8763 418.696 75.8763 427.446 Q75.8763 436.173 72.7976 440.779 Q69.742 445.362 63.9319 445.362 Q58.1217 445.362 55.043 440.779 Q51.9875 436.173 51.9875 427.446 Q51.9875 418.696 55.043 414.113 Q58.1217 409.506 63.9319 409.506 Z\" fill=\"#000000\" fill-rule=\"evenodd\" fill-opacity=\"1\" /><path clip-path=\"url(#clip970)\" d=\"M84.0938 438.812 L88.978 438.812 L88.978 444.691 L84.0938 444.691 L84.0938 438.812 Z\" fill=\"#000000\" fill-rule=\"evenodd\" fill-opacity=\"1\" /><path clip-path=\"url(#clip970)\" d=\"M97.9826 410.131 L120.205 410.131 L120.205 412.122 L107.658 444.691 L102.774 444.691 L114.58 414.066 L97.9826 414.066 L97.9826 410.131 Z\" fill=\"#000000\" fill-rule=\"evenodd\" fill-opacity=\"1\" /><path clip-path=\"url(#clip970)\" d=\"M129.371 410.131 L147.728 410.131 L147.728 414.066 L133.654 414.066 L133.654 422.538 Q134.672 422.191 135.691 422.029 Q136.709 421.844 137.728 421.844 Q143.515 421.844 146.894 425.015 Q150.274 428.187 150.274 433.603 Q150.274 439.182 146.802 442.284 Q143.33 445.362 137.01 445.362 Q134.834 445.362 132.566 444.992 Q130.32 444.622 127.913 443.881 L127.913 439.182 Q129.996 440.316 132.219 440.872 Q134.441 441.427 136.918 441.427 Q140.922 441.427 143.26 439.321 Q145.598 437.214 145.598 433.603 Q145.598 429.992 143.26 427.886 Q140.922 425.779 136.918 425.779 Q135.043 425.779 133.168 426.196 Q131.316 426.613 129.371 427.492 L129.371 410.131 Z\" fill=\"#000000\" fill-rule=\"evenodd\" fill-opacity=\"1\" /><path clip-path=\"url(#clip970)\" d=\"M53.7467 101.321 L61.3856 101.321 L61.3856 74.9555 L53.0754 76.6222 L53.0754 72.3629 L61.3393 70.6963 L66.0152 70.6963 L66.0152 101.321 L73.654 101.321 L73.654 105.256 L53.7467 105.256 L53.7467 101.321 Z\" fill=\"#000000\" fill-rule=\"evenodd\" fill-opacity=\"1\" /><path clip-path=\"url(#clip970)\" d=\"M83.0984 99.3767 L87.9827 99.3767 L87.9827 105.256 L83.0984 105.256 L83.0984 99.3767 Z\" fill=\"#000000\" fill-rule=\"evenodd\" fill-opacity=\"1\" /><path clip-path=\"url(#clip970)\" d=\"M108.168 73.775 Q104.557 73.775 102.728 77.3398 Q100.922 80.8814 100.922 88.011 Q100.922 95.1174 102.728 98.6822 Q104.557 102.224 108.168 102.224 Q111.802 102.224 113.608 98.6822 Q115.436 95.1174 115.436 88.011 Q115.436 80.8814 113.608 77.3398 Q111.802 73.775 108.168 73.775 M108.168 70.0713 Q113.978 70.0713 117.033 74.6777 Q120.112 79.261 120.112 88.011 Q120.112 96.7378 117.033 101.344 Q113.978 105.928 108.168 105.928 Q102.358 105.928 99.2789 101.344 Q96.2234 96.7378 96.2234 88.011 Q96.2234 79.261 99.2789 74.6777 Q102.358 70.0713 108.168 70.0713 Z\" fill=\"#000000\" fill-rule=\"evenodd\" fill-opacity=\"1\" /><path clip-path=\"url(#clip970)\" d=\"M138.33 73.775 Q134.719 73.775 132.89 77.3398 Q131.084 80.8814 131.084 88.011 Q131.084 95.1174 132.89 98.6822 Q134.719 102.224 138.33 102.224 Q141.964 102.224 143.769 98.6822 Q145.598 95.1174 145.598 88.011 Q145.598 80.8814 143.769 77.3398 Q141.964 73.775 138.33 73.775 M138.33 70.0713 Q144.14 70.0713 147.195 74.6777 Q150.274 79.261 150.274 88.011 Q150.274 96.7378 147.195 101.344 Q144.14 105.928 138.33 105.928 Q132.519 105.928 129.441 101.344 Q126.385 96.7378 126.385 88.011 Q126.385 79.261 129.441 74.6777 Q132.519 70.0713 138.33 70.0713 Z\" fill=\"#000000\" fill-rule=\"evenodd\" fill-opacity=\"1\" /><polyline clip-path=\"url(#clip972)\" style=\"stroke:#009af9; stroke-linecap:butt; stroke-linejoin:round; stroke-width:4; stroke-opacity:1; fill:none\" points=\"\n",
       "  247.59,1445.72 267.549,1445.72 452.107,1445.72 563.019,1445.72 656.793,1445.72 758.658,1445.72 852.569,1445.72 902.91,1445.72 953.251,1445.72 967.833,1445.72 \n",
       "  982.414,1445.72 996.995,1445.72 1011.58,1437.52 1026.16,1394.6 1040.74,1352.35 1055.32,1310.76 1069.9,1269.82 1121.73,1129.25 1173.57,996.014 1219.02,884.759 \n",
       "  1264.47,778.366 1314.03,667.542 1363.58,561.758 1413.43,460.09 1463.28,362.869 1518.4,260.211 1573.51,162.29 1599.73,117.273 1625.95,87.9763 1652.17,87.9763 \n",
       "  1678.39,87.9763 1732.92,87.9763 1787.45,87.9763 1833.35,87.9763 1879.25,87.9763 1991.32,87.9763 2096.68,87.9763 2265.46,87.9763 2291.44,87.9763 \n",
       "  \"/>\n",
       "<polyline clip-path=\"url(#clip972)\" style=\"stroke:#e26f46; stroke-linecap:butt; stroke-linejoin:round; stroke-width:4; stroke-opacity:1; fill:none\" points=\"\n",
       "  247.59,1445.72 257.569,1445.72 267.549,1445.72 359.828,1445.72 452.107,1445.72 465.971,1445.72 479.835,1445.72 486.767,1445.72 493.699,1419.72 500.631,1391.26 \n",
       "  507.563,1363.1 535.291,1253.36 563.019,1148.03 609.906,979.244 656.793,821.202 707.726,660.545 758.658,510.281 805.614,380.112 852.569,257.27 877.74,194.224 \n",
       "  902.91,133.024 915.496,103.092 928.081,87.9763 940.666,87.9763 953.251,87.9763 982.414,87.9763 1011.58,87.9763 1026.16,87.9763 1040.74,87.9763 1048.03,87.9763 \n",
       "  1055.32,87.9763 1062.61,93.9468 1069.9,120.167 1082.86,166.274 1095.82,211.755 1108.78,256.624 1121.73,300.893 1147.65,387.678 1173.57,472.202 1219.02,615.243 \n",
       "  1264.47,752.035 1314.03,894.522 1363.58,1030.53 1413.43,1161.25 1463.28,1286.25 1490.84,1353.03 1518.4,1418.23 1532.18,1445.72 1545.95,1445.72 1559.73,1445.72 \n",
       "  1573.51,1445.72 1625.95,1445.72 1678.39,1445.72 1732.92,1445.72 1787.45,1445.72 1833.35,1402.22 1879.25,1356.71 1991.32,1251.86 2096.68,1160.65 2265.46,1027.53 \n",
       "  2291.44,1008.32 \n",
       "  \"/>\n",
       "<path clip-path=\"url(#clip970)\" d=\"\n",
       "M1987.39 250.738 L2280.54 250.738 L2280.54 95.2176 L1987.39 95.2176  Z\n",
       "  \" fill=\"#ffffff\" fill-rule=\"evenodd\" fill-opacity=\"1\"/>\n",
       "<polyline clip-path=\"url(#clip970)\" style=\"stroke:#000000; stroke-linecap:butt; stroke-linejoin:round; stroke-width:4; stroke-opacity:1; fill:none\" points=\"\n",
       "  1987.39,250.738 2280.54,250.738 2280.54,95.2176 1987.39,95.2176 1987.39,250.738 \n",
       "  \"/>\n",
       "<polyline clip-path=\"url(#clip970)\" style=\"stroke:#009af9; stroke-linecap:butt; stroke-linejoin:round; stroke-width:4; stroke-opacity:1; fill:none\" points=\"\n",
       "  2011.46,147.058 2155.89,147.058 \n",
       "  \"/>\n",
       "<path clip-path=\"url(#clip970)\" d=\"M2193.81 166.745 Q2192 171.375 2190.29 172.787 Q2188.58 174.199 2185.71 174.199 L2182.3 174.199 L2182.3 170.634 L2184.8 170.634 Q2186.56 170.634 2187.53 169.8 Q2188.51 168.967 2189.69 165.865 L2190.45 163.921 L2179.97 138.412 L2184.48 138.412 L2192.58 158.689 L2200.68 138.412 L2205.2 138.412 L2193.81 166.745 Z\" fill=\"#000000\" fill-rule=\"evenodd\" fill-opacity=\"1\" /><path clip-path=\"url(#clip970)\" d=\"M2212.49 160.402 L2220.13 160.402 L2220.13 134.037 L2211.82 135.703 L2211.82 131.444 L2220.08 129.778 L2224.76 129.778 L2224.76 160.402 L2232.4 160.402 L2232.4 164.338 L2212.49 164.338 L2212.49 160.402 Z\" fill=\"#000000\" fill-rule=\"evenodd\" fill-opacity=\"1\" /><polyline clip-path=\"url(#clip970)\" style=\"stroke:#e26f46; stroke-linecap:butt; stroke-linejoin:round; stroke-width:4; stroke-opacity:1; fill:none\" points=\"\n",
       "  2011.46,198.898 2155.89,198.898 \n",
       "  \"/>\n",
       "<path clip-path=\"url(#clip970)\" d=\"M2193.81 218.585 Q2192 223.215 2190.29 224.627 Q2188.58 226.039 2185.71 226.039 L2182.3 226.039 L2182.3 222.474 L2184.8 222.474 Q2186.56 222.474 2187.53 221.64 Q2188.51 220.807 2189.69 217.705 L2190.45 215.761 L2179.97 190.252 L2184.48 190.252 L2192.58 210.529 L2200.68 190.252 L2205.2 190.252 L2193.81 218.585 Z\" fill=\"#000000\" fill-rule=\"evenodd\" fill-opacity=\"1\" /><path clip-path=\"url(#clip970)\" d=\"M2215.71 212.242 L2232.03 212.242 L2232.03 216.178 L2210.08 216.178 L2210.08 212.242 Q2212.74 209.488 2217.33 204.858 Q2221.93 200.205 2223.11 198.863 Q2225.36 196.34 2226.24 194.604 Q2227.14 192.844 2227.14 191.155 Q2227.14 188.4 2225.2 186.664 Q2223.28 184.928 2220.17 184.928 Q2217.97 184.928 2215.52 185.692 Q2213.09 186.455 2210.31 188.006 L2210.31 183.284 Q2213.14 182.15 2215.59 181.571 Q2218.04 180.993 2220.08 180.993 Q2225.45 180.993 2228.65 183.678 Q2231.84 186.363 2231.84 190.854 Q2231.84 192.983 2231.03 194.905 Q2230.24 196.803 2228.14 199.395 Q2227.56 200.067 2224.46 203.284 Q2221.35 206.479 2215.71 212.242 Z\" fill=\"#000000\" fill-rule=\"evenodd\" fill-opacity=\"1\" /></svg>\n"
      ]
     },
     "execution_count": 15,
     "metadata": {},
     "output_type": "execute_result"
    }
   ],
   "source": [
    "plot!(probl(lambda =>5/10,w_2=>1/2),.01,.99)"
   ]
  },
  {
   "cell_type": "markdown",
   "id": "6244238e-3231-4f33-ae34-e201db4cbe6c",
   "metadata": {},
   "source": [
    "To figure out sellers' profits, notice that the seller doesn't really care which type of employee he or she hires because they are both equally productive.  There is no real reason to discriminate between the two types.\n",
    "\n",
    "To be specific this means that the seller will earn their profit as long as at least one worker applies.  As we described above, if a worker has type $h$ they apply with probability $\\pi_h$, if they have type $l$ the probability they apply is $\\pi_l$.  Then any particular worker applies to the firm with probability $\\lambda\\pi_h+(1-\\lambda)\\pi_l$.  One way to put this is that a worker applies to the firm 1 with probability $Q_1(w_1,w_2) = \\lambda\\pi_h+(1-\\lambda)\\pi_l$."
   ]
  },
  {
   "cell_type": "code",
   "execution_count": 16,
   "id": "ace01013-5a34-4874-8b4a-3906efe3a89d",
   "metadata": {},
   "outputs": [
    {
     "data": {
      "text/latex": [
       "$\\begin{equation*}\\lambda \\max\\left(0, \\min\\left(1, \\frac{\\lambda w_{2} + 2 w_{1} - 2 w_{2}}{\\lambda \\left(w_{1} + w_{2}\\right)}\\right)\\right) + \\left(1 - \\lambda\\right) \\max\\left(0, \\min\\left(1, \\frac{2 \\lambda w_{1} \\max\\left(0, \\min\\left(1, \\frac{\\lambda w_{2} + 2 w_{1} - 2 w_{2}}{\\lambda \\left(w_{1} + w_{2}\\right)}\\right)\\right) + 2 \\lambda w_{2} \\max\\left(0, \\min\\left(1, \\frac{\\lambda w_{2} + 2 w_{1} - 2 w_{2}}{\\lambda \\left(w_{1} + w_{2}\\right)}\\right)\\right) - \\lambda w_{2} - 2 w_{1} + w_{2}}{\\lambda w_{1} + \\lambda w_{2} - w_{1} - w_{2}}\\right)\\right)\\end{equation*}$\n"
      ],
      "text/plain": [
       "λ⋅Max(0, Min(1, (lambda*w_2 + 2*w_1 - 2*w_2)/(lambda*(w_1 + w_2)))) + (1 - λ)⋅\n",
       "Max(0, Min(1, (2*lambda*w_1*Max(0, Min(1, (lambda*w_2 + 2*w_1 - 2*w_2)/(lambda\n",
       "*(w_1 + w_2)))) + 2*lambda*w_2*Max(0, Min(1, (lambda*w_2 + 2*w_1 - 2*w_2)/(lam\n",
       "bda*(w_1 + w_2)))) - lambda*w_2 - 2*w_1 + w_2)/(lambda*w_1 + lambda*w_2 - w_1 \n",
       "- w_2)))"
      ]
     },
     "execution_count": 16,
     "metadata": {},
     "output_type": "execute_result"
    }
   ],
   "source": [
    "Q1 = lambda*probh+(1-lambda)*probl"
   ]
  },
  {
   "cell_type": "code",
   "execution_count": 17,
   "id": "23a4d6ca-a68b-4693-972e-b412604ff510",
   "metadata": {},
   "outputs": [
    {
     "data": {
      "image/svg+xml": [
       "<?xml version=\"1.0\" encoding=\"utf-8\"?>\n",
       "<svg xmlns=\"http://www.w3.org/2000/svg\" xmlns:xlink=\"http://www.w3.org/1999/xlink\" width=\"600\" height=\"400\" viewBox=\"0 0 2400 1600\">\n",
       "<defs>\n",
       "  <clipPath id=\"clip010\">\n",
       "    <rect x=\"0\" y=\"0\" width=\"2400\" height=\"1600\"/>\n",
       "  </clipPath>\n",
       "</defs>\n",
       "<path clip-path=\"url(#clip010)\" d=\"\n",
       "M0 1600 L2400 1600 L2400 0 L0 0  Z\n",
       "  \" fill=\"#ffffff\" fill-rule=\"evenodd\" fill-opacity=\"1\"/>\n",
       "<defs>\n",
       "  <clipPath id=\"clip011\">\n",
       "    <rect x=\"480\" y=\"0\" width=\"1681\" height=\"1600\"/>\n",
       "  </clipPath>\n",
       "</defs>\n",
       "<path clip-path=\"url(#clip010)\" d=\"\n",
       "M186.274 1486.45 L2352.76 1486.45 L2352.76 47.2441 L186.274 47.2441  Z\n",
       "  \" fill=\"#ffffff\" fill-rule=\"evenodd\" fill-opacity=\"1\"/>\n",
       "<defs>\n",
       "  <clipPath id=\"clip012\">\n",
       "    <rect x=\"186\" y=\"47\" width=\"2167\" height=\"1440\"/>\n",
       "  </clipPath>\n",
       "</defs>\n",
       "<polyline clip-path=\"url(#clip012)\" style=\"stroke:#000000; stroke-linecap:butt; stroke-linejoin:round; stroke-width:2; stroke-opacity:0.1; fill:none\" points=\"\n",
       "  226.734,1486.45 226.734,47.2441 \n",
       "  \"/>\n",
       "<polyline clip-path=\"url(#clip012)\" style=\"stroke:#000000; stroke-linecap:butt; stroke-linejoin:round; stroke-width:2; stroke-opacity:0.1; fill:none\" points=\"\n",
       "  748.124,1486.45 748.124,47.2441 \n",
       "  \"/>\n",
       "<polyline clip-path=\"url(#clip012)\" style=\"stroke:#000000; stroke-linecap:butt; stroke-linejoin:round; stroke-width:2; stroke-opacity:0.1; fill:none\" points=\"\n",
       "  1269.51,1486.45 1269.51,47.2441 \n",
       "  \"/>\n",
       "<polyline clip-path=\"url(#clip012)\" style=\"stroke:#000000; stroke-linecap:butt; stroke-linejoin:round; stroke-width:2; stroke-opacity:0.1; fill:none\" points=\"\n",
       "  1790.91,1486.45 1790.91,47.2441 \n",
       "  \"/>\n",
       "<polyline clip-path=\"url(#clip012)\" style=\"stroke:#000000; stroke-linecap:butt; stroke-linejoin:round; stroke-width:2; stroke-opacity:0.1; fill:none\" points=\"\n",
       "  2312.3,1486.45 2312.3,47.2441 \n",
       "  \"/>\n",
       "<polyline clip-path=\"url(#clip010)\" style=\"stroke:#000000; stroke-linecap:butt; stroke-linejoin:round; stroke-width:4; stroke-opacity:1; fill:none\" points=\"\n",
       "  186.274,1486.45 2352.76,1486.45 \n",
       "  \"/>\n",
       "<polyline clip-path=\"url(#clip010)\" style=\"stroke:#000000; stroke-linecap:butt; stroke-linejoin:round; stroke-width:4; stroke-opacity:1; fill:none\" points=\"\n",
       "  226.734,1486.45 226.734,1467.55 \n",
       "  \"/>\n",
       "<polyline clip-path=\"url(#clip010)\" style=\"stroke:#000000; stroke-linecap:butt; stroke-linejoin:round; stroke-width:4; stroke-opacity:1; fill:none\" points=\"\n",
       "  748.124,1486.45 748.124,1467.55 \n",
       "  \"/>\n",
       "<polyline clip-path=\"url(#clip010)\" style=\"stroke:#000000; stroke-linecap:butt; stroke-linejoin:round; stroke-width:4; stroke-opacity:1; fill:none\" points=\"\n",
       "  1269.51,1486.45 1269.51,1467.55 \n",
       "  \"/>\n",
       "<polyline clip-path=\"url(#clip010)\" style=\"stroke:#000000; stroke-linecap:butt; stroke-linejoin:round; stroke-width:4; stroke-opacity:1; fill:none\" points=\"\n",
       "  1790.91,1486.45 1790.91,1467.55 \n",
       "  \"/>\n",
       "<polyline clip-path=\"url(#clip010)\" style=\"stroke:#000000; stroke-linecap:butt; stroke-linejoin:round; stroke-width:4; stroke-opacity:1; fill:none\" points=\"\n",
       "  2312.3,1486.45 2312.3,1467.55 \n",
       "  \"/>\n",
       "<path clip-path=\"url(#clip010)\" d=\"M189.037 1517.37 Q185.426 1517.37 183.598 1520.93 Q181.792 1524.47 181.792 1531.6 Q181.792 1538.71 183.598 1542.27 Q185.426 1545.82 189.037 1545.82 Q192.672 1545.82 194.477 1542.27 Q196.306 1538.71 196.306 1531.6 Q196.306 1524.47 194.477 1520.93 Q192.672 1517.37 189.037 1517.37 M189.037 1513.66 Q194.848 1513.66 197.903 1518.27 Q200.982 1522.85 200.982 1531.6 Q200.982 1540.33 197.903 1544.94 Q194.848 1549.52 189.037 1549.52 Q183.227 1549.52 180.149 1544.94 Q177.093 1540.33 177.093 1531.6 Q177.093 1522.85 180.149 1518.27 Q183.227 1513.66 189.037 1513.66 Z\" fill=\"#000000\" fill-rule=\"evenodd\" fill-opacity=\"1\" /><path clip-path=\"url(#clip010)\" d=\"M209.199 1542.97 L214.084 1542.97 L214.084 1548.85 L209.199 1548.85 L209.199 1542.97 Z\" fill=\"#000000\" fill-rule=\"evenodd\" fill-opacity=\"1\" /><path clip-path=\"url(#clip010)\" d=\"M234.269 1517.37 Q230.657 1517.37 228.829 1520.93 Q227.023 1524.47 227.023 1531.6 Q227.023 1538.71 228.829 1542.27 Q230.657 1545.82 234.269 1545.82 Q237.903 1545.82 239.708 1542.27 Q241.537 1538.71 241.537 1531.6 Q241.537 1524.47 239.708 1520.93 Q237.903 1517.37 234.269 1517.37 M234.269 1513.66 Q240.079 1513.66 243.134 1518.27 Q246.213 1522.85 246.213 1531.6 Q246.213 1540.33 243.134 1544.94 Q240.079 1549.52 234.269 1549.52 Q228.458 1549.52 225.38 1544.94 Q222.324 1540.33 222.324 1531.6 Q222.324 1522.85 225.38 1518.27 Q228.458 1513.66 234.269 1513.66 Z\" fill=\"#000000\" fill-rule=\"evenodd\" fill-opacity=\"1\" /><path clip-path=\"url(#clip010)\" d=\"M264.43 1517.37 Q260.819 1517.37 258.991 1520.93 Q257.185 1524.47 257.185 1531.6 Q257.185 1538.71 258.991 1542.27 Q260.819 1545.82 264.43 1545.82 Q268.065 1545.82 269.87 1542.27 Q271.699 1538.71 271.699 1531.6 Q271.699 1524.47 269.87 1520.93 Q268.065 1517.37 264.43 1517.37 M264.43 1513.66 Q270.241 1513.66 273.296 1518.27 Q276.375 1522.85 276.375 1531.6 Q276.375 1540.33 273.296 1544.94 Q270.241 1549.52 264.43 1549.52 Q258.62 1549.52 255.542 1544.94 Q252.486 1540.33 252.486 1531.6 Q252.486 1522.85 255.542 1518.27 Q258.62 1513.66 264.43 1513.66 Z\" fill=\"#000000\" fill-rule=\"evenodd\" fill-opacity=\"1\" /><path clip-path=\"url(#clip010)\" d=\"M710.926 1517.37 Q707.314 1517.37 705.486 1520.93 Q703.68 1524.47 703.68 1531.6 Q703.68 1538.71 705.486 1542.27 Q707.314 1545.82 710.926 1545.82 Q714.56 1545.82 716.365 1542.27 Q718.194 1538.71 718.194 1531.6 Q718.194 1524.47 716.365 1520.93 Q714.56 1517.37 710.926 1517.37 M710.926 1513.66 Q716.736 1513.66 719.791 1518.27 Q722.87 1522.85 722.87 1531.6 Q722.87 1540.33 719.791 1544.94 Q716.736 1549.52 710.926 1549.52 Q705.115 1549.52 702.037 1544.94 Q698.981 1540.33 698.981 1531.6 Q698.981 1522.85 702.037 1518.27 Q705.115 1513.66 710.926 1513.66 Z\" fill=\"#000000\" fill-rule=\"evenodd\" fill-opacity=\"1\" /><path clip-path=\"url(#clip010)\" d=\"M731.087 1542.97 L735.972 1542.97 L735.972 1548.85 L731.087 1548.85 L731.087 1542.97 Z\" fill=\"#000000\" fill-rule=\"evenodd\" fill-opacity=\"1\" /><path clip-path=\"url(#clip010)\" d=\"M750.185 1544.91 L766.504 1544.91 L766.504 1548.85 L744.56 1548.85 L744.56 1544.91 Q747.222 1542.16 751.805 1537.53 Q756.411 1532.88 757.592 1531.53 Q759.837 1529.01 760.717 1527.27 Q761.62 1525.51 761.62 1523.82 Q761.62 1521.07 759.675 1519.33 Q757.754 1517.6 754.652 1517.6 Q752.453 1517.6 749.999 1518.36 Q747.569 1519.13 744.791 1520.68 L744.791 1515.95 Q747.615 1514.82 750.069 1514.24 Q752.523 1513.66 754.56 1513.66 Q759.93 1513.66 763.124 1516.35 Q766.319 1519.03 766.319 1523.52 Q766.319 1525.65 765.509 1527.57 Q764.722 1529.47 762.615 1532.07 Q762.036 1532.74 758.935 1535.95 Q755.833 1539.15 750.185 1544.91 Z\" fill=\"#000000\" fill-rule=\"evenodd\" fill-opacity=\"1\" /><path clip-path=\"url(#clip010)\" d=\"M776.365 1514.29 L794.721 1514.29 L794.721 1518.22 L780.647 1518.22 L780.647 1526.7 Q781.666 1526.35 782.684 1526.19 Q783.703 1526 784.721 1526 Q790.508 1526 793.888 1529.17 Q797.268 1532.34 797.268 1537.76 Q797.268 1543.34 793.795 1546.44 Q790.323 1549.52 784.004 1549.52 Q781.828 1549.52 779.559 1549.15 Q777.314 1548.78 774.907 1548.04 L774.907 1543.34 Q776.99 1544.47 779.212 1545.03 Q781.434 1545.58 783.911 1545.58 Q787.916 1545.58 790.254 1543.48 Q792.592 1541.37 792.592 1537.76 Q792.592 1534.15 790.254 1532.04 Q787.916 1529.94 783.911 1529.94 Q782.036 1529.94 780.161 1530.35 Q778.309 1530.77 776.365 1531.65 L776.365 1514.29 Z\" fill=\"#000000\" fill-rule=\"evenodd\" fill-opacity=\"1\" /><path clip-path=\"url(#clip010)\" d=\"M1231.82 1517.37 Q1228.21 1517.37 1226.38 1520.93 Q1224.57 1524.47 1224.57 1531.6 Q1224.57 1538.71 1226.38 1542.27 Q1228.21 1545.82 1231.82 1545.82 Q1235.45 1545.82 1237.26 1542.27 Q1239.09 1538.71 1239.09 1531.6 Q1239.09 1524.47 1237.26 1520.93 Q1235.45 1517.37 1231.82 1517.37 M1231.82 1513.66 Q1237.63 1513.66 1240.68 1518.27 Q1243.76 1522.85 1243.76 1531.6 Q1243.76 1540.33 1240.68 1544.94 Q1237.63 1549.52 1231.82 1549.52 Q1226.01 1549.52 1222.93 1544.94 Q1219.87 1540.33 1219.87 1531.6 Q1219.87 1522.85 1222.93 1518.27 Q1226.01 1513.66 1231.82 1513.66 Z\" fill=\"#000000\" fill-rule=\"evenodd\" fill-opacity=\"1\" /><path clip-path=\"url(#clip010)\" d=\"M1251.98 1542.97 L1256.86 1542.97 L1256.86 1548.85 L1251.98 1548.85 L1251.98 1542.97 Z\" fill=\"#000000\" fill-rule=\"evenodd\" fill-opacity=\"1\" /><path clip-path=\"url(#clip010)\" d=\"M1267.1 1514.29 L1285.45 1514.29 L1285.45 1518.22 L1271.38 1518.22 L1271.38 1526.7 Q1272.4 1526.35 1273.42 1526.19 Q1274.43 1526 1275.45 1526 Q1281.24 1526 1284.62 1529.17 Q1288 1532.34 1288 1537.76 Q1288 1543.34 1284.53 1546.44 Q1281.05 1549.52 1274.73 1549.52 Q1272.56 1549.52 1270.29 1549.15 Q1268.05 1548.78 1265.64 1548.04 L1265.64 1543.34 Q1267.72 1544.47 1269.94 1545.03 Q1272.17 1545.58 1274.64 1545.58 Q1278.65 1545.58 1280.98 1543.48 Q1283.32 1541.37 1283.32 1537.76 Q1283.32 1534.15 1280.98 1532.04 Q1278.65 1529.94 1274.64 1529.94 Q1272.77 1529.94 1270.89 1530.35 Q1269.04 1530.77 1267.1 1531.65 L1267.1 1514.29 Z\" fill=\"#000000\" fill-rule=\"evenodd\" fill-opacity=\"1\" /><path clip-path=\"url(#clip010)\" d=\"M1307.21 1517.37 Q1303.6 1517.37 1301.77 1520.93 Q1299.97 1524.47 1299.97 1531.6 Q1299.97 1538.71 1301.77 1542.27 Q1303.6 1545.82 1307.21 1545.82 Q1310.85 1545.82 1312.65 1542.27 Q1314.48 1538.71 1314.48 1531.6 Q1314.48 1524.47 1312.65 1520.93 Q1310.85 1517.37 1307.21 1517.37 M1307.21 1513.66 Q1313.02 1513.66 1316.08 1518.27 Q1319.16 1522.85 1319.16 1531.6 Q1319.16 1540.33 1316.08 1544.94 Q1313.02 1549.52 1307.21 1549.52 Q1301.4 1549.52 1298.32 1544.94 Q1295.27 1540.33 1295.27 1531.6 Q1295.27 1522.85 1298.32 1518.27 Q1301.4 1513.66 1307.21 1513.66 Z\" fill=\"#000000\" fill-rule=\"evenodd\" fill-opacity=\"1\" /><path clip-path=\"url(#clip010)\" d=\"M1753.71 1517.37 Q1750.1 1517.37 1748.27 1520.93 Q1746.46 1524.47 1746.46 1531.6 Q1746.46 1538.71 1748.27 1542.27 Q1750.1 1545.82 1753.71 1545.82 Q1757.34 1545.82 1759.15 1542.27 Q1760.98 1538.71 1760.98 1531.6 Q1760.98 1524.47 1759.15 1520.93 Q1757.34 1517.37 1753.71 1517.37 M1753.71 1513.66 Q1759.52 1513.66 1762.57 1518.27 Q1765.65 1522.85 1765.65 1531.6 Q1765.65 1540.33 1762.57 1544.94 Q1759.52 1549.52 1753.71 1549.52 Q1747.9 1549.52 1744.82 1544.94 Q1741.76 1540.33 1741.76 1531.6 Q1741.76 1522.85 1744.82 1518.27 Q1747.9 1513.66 1753.71 1513.66 Z\" fill=\"#000000\" fill-rule=\"evenodd\" fill-opacity=\"1\" /><path clip-path=\"url(#clip010)\" d=\"M1773.87 1542.97 L1778.75 1542.97 L1778.75 1548.85 L1773.87 1548.85 L1773.87 1542.97 Z\" fill=\"#000000\" fill-rule=\"evenodd\" fill-opacity=\"1\" /><path clip-path=\"url(#clip010)\" d=\"M1787.76 1514.29 L1809.98 1514.29 L1809.98 1516.28 L1797.43 1548.85 L1792.55 1548.85 L1804.35 1518.22 L1787.76 1518.22 L1787.76 1514.29 Z\" fill=\"#000000\" fill-rule=\"evenodd\" fill-opacity=\"1\" /><path clip-path=\"url(#clip010)\" d=\"M1819.15 1514.29 L1837.5 1514.29 L1837.5 1518.22 L1823.43 1518.22 L1823.43 1526.7 Q1824.45 1526.35 1825.47 1526.19 Q1826.48 1526 1827.5 1526 Q1833.29 1526 1836.67 1529.17 Q1840.05 1532.34 1840.05 1537.76 Q1840.05 1543.34 1836.58 1546.44 Q1833.1 1549.52 1826.78 1549.52 Q1824.61 1549.52 1822.34 1549.15 Q1820.1 1548.78 1817.69 1548.04 L1817.69 1543.34 Q1819.77 1544.47 1821.99 1545.03 Q1824.22 1545.58 1826.69 1545.58 Q1830.7 1545.58 1833.03 1543.48 Q1835.37 1541.37 1835.37 1537.76 Q1835.37 1534.15 1833.03 1532.04 Q1830.7 1529.94 1826.69 1529.94 Q1824.82 1529.94 1822.94 1530.35 Q1821.09 1530.77 1819.15 1531.65 L1819.15 1514.29 Z\" fill=\"#000000\" fill-rule=\"evenodd\" fill-opacity=\"1\" /><path clip-path=\"url(#clip010)\" d=\"M2264.37 1544.91 L2272.01 1544.91 L2272.01 1518.55 L2263.7 1520.21 L2263.7 1515.95 L2271.96 1514.29 L2276.64 1514.29 L2276.64 1544.91 L2284.28 1544.91 L2284.28 1548.85 L2264.37 1548.85 L2264.37 1544.91 Z\" fill=\"#000000\" fill-rule=\"evenodd\" fill-opacity=\"1\" /><path clip-path=\"url(#clip010)\" d=\"M2293.72 1542.97 L2298.6 1542.97 L2298.6 1548.85 L2293.72 1548.85 L2293.72 1542.97 Z\" fill=\"#000000\" fill-rule=\"evenodd\" fill-opacity=\"1\" /><path clip-path=\"url(#clip010)\" d=\"M2318.79 1517.37 Q2315.18 1517.37 2313.35 1520.93 Q2311.54 1524.47 2311.54 1531.6 Q2311.54 1538.71 2313.35 1542.27 Q2315.18 1545.82 2318.79 1545.82 Q2322.42 1545.82 2324.23 1542.27 Q2326.06 1538.71 2326.06 1531.6 Q2326.06 1524.47 2324.23 1520.93 Q2322.42 1517.37 2318.79 1517.37 M2318.79 1513.66 Q2324.6 1513.66 2327.65 1518.27 Q2330.73 1522.85 2330.73 1531.6 Q2330.73 1540.33 2327.65 1544.94 Q2324.6 1549.52 2318.79 1549.52 Q2312.98 1549.52 2309.9 1544.94 Q2306.84 1540.33 2306.84 1531.6 Q2306.84 1522.85 2309.9 1518.27 Q2312.98 1513.66 2318.79 1513.66 Z\" fill=\"#000000\" fill-rule=\"evenodd\" fill-opacity=\"1\" /><path clip-path=\"url(#clip010)\" d=\"M2348.95 1517.37 Q2345.34 1517.37 2343.51 1520.93 Q2341.71 1524.47 2341.71 1531.6 Q2341.71 1538.71 2343.51 1542.27 Q2345.34 1545.82 2348.95 1545.82 Q2352.59 1545.82 2354.39 1542.27 Q2356.22 1538.71 2356.22 1531.6 Q2356.22 1524.47 2354.39 1520.93 Q2352.59 1517.37 2348.95 1517.37 M2348.95 1513.66 Q2354.76 1513.66 2357.82 1518.27 Q2360.9 1522.85 2360.9 1531.6 Q2360.9 1540.33 2357.82 1544.94 Q2354.76 1549.52 2348.95 1549.52 Q2343.14 1549.52 2340.06 1544.94 Q2337.01 1540.33 2337.01 1531.6 Q2337.01 1522.85 2340.06 1518.27 Q2343.14 1513.66 2348.95 1513.66 Z\" fill=\"#000000\" fill-rule=\"evenodd\" fill-opacity=\"1\" /><polyline clip-path=\"url(#clip012)\" style=\"stroke:#000000; stroke-linecap:butt; stroke-linejoin:round; stroke-width:2; stroke-opacity:0.1; fill:none\" points=\"\n",
       "  186.274,1445.72 2352.76,1445.72 \n",
       "  \"/>\n",
       "<polyline clip-path=\"url(#clip012)\" style=\"stroke:#000000; stroke-linecap:butt; stroke-linejoin:round; stroke-width:2; stroke-opacity:0.1; fill:none\" points=\"\n",
       "  186.274,1106.28 2352.76,1106.28 \n",
       "  \"/>\n",
       "<polyline clip-path=\"url(#clip012)\" style=\"stroke:#000000; stroke-linecap:butt; stroke-linejoin:round; stroke-width:2; stroke-opacity:0.1; fill:none\" points=\"\n",
       "  186.274,766.846 2352.76,766.846 \n",
       "  \"/>\n",
       "<polyline clip-path=\"url(#clip012)\" style=\"stroke:#000000; stroke-linecap:butt; stroke-linejoin:round; stroke-width:2; stroke-opacity:0.1; fill:none\" points=\"\n",
       "  186.274,427.411 2352.76,427.411 \n",
       "  \"/>\n",
       "<polyline clip-path=\"url(#clip012)\" style=\"stroke:#000000; stroke-linecap:butt; stroke-linejoin:round; stroke-width:2; stroke-opacity:0.1; fill:none\" points=\"\n",
       "  186.274,87.9763 2352.76,87.9763 \n",
       "  \"/>\n",
       "<polyline clip-path=\"url(#clip010)\" style=\"stroke:#000000; stroke-linecap:butt; stroke-linejoin:round; stroke-width:4; stroke-opacity:1; fill:none\" points=\"\n",
       "  186.274,1486.45 186.274,47.2441 \n",
       "  \"/>\n",
       "<polyline clip-path=\"url(#clip010)\" style=\"stroke:#000000; stroke-linecap:butt; stroke-linejoin:round; stroke-width:4; stroke-opacity:1; fill:none\" points=\"\n",
       "  186.274,1445.72 205.172,1445.72 \n",
       "  \"/>\n",
       "<polyline clip-path=\"url(#clip010)\" style=\"stroke:#000000; stroke-linecap:butt; stroke-linejoin:round; stroke-width:4; stroke-opacity:1; fill:none\" points=\"\n",
       "  186.274,1106.28 205.172,1106.28 \n",
       "  \"/>\n",
       "<polyline clip-path=\"url(#clip010)\" style=\"stroke:#000000; stroke-linecap:butt; stroke-linejoin:round; stroke-width:4; stroke-opacity:1; fill:none\" points=\"\n",
       "  186.274,766.846 205.172,766.846 \n",
       "  \"/>\n",
       "<polyline clip-path=\"url(#clip010)\" style=\"stroke:#000000; stroke-linecap:butt; stroke-linejoin:round; stroke-width:4; stroke-opacity:1; fill:none\" points=\"\n",
       "  186.274,427.411 205.172,427.411 \n",
       "  \"/>\n",
       "<polyline clip-path=\"url(#clip010)\" style=\"stroke:#000000; stroke-linecap:butt; stroke-linejoin:round; stroke-width:4; stroke-opacity:1; fill:none\" points=\"\n",
       "  186.274,87.9763 205.172,87.9763 \n",
       "  \"/>\n",
       "<path clip-path=\"url(#clip010)\" d=\"M62.9365 1431.51 Q59.3254 1431.51 57.4967 1435.08 Q55.6912 1438.62 55.6912 1445.75 Q55.6912 1452.86 57.4967 1456.42 Q59.3254 1459.96 62.9365 1459.96 Q66.5707 1459.96 68.3763 1456.42 Q70.205 1452.86 70.205 1445.75 Q70.205 1438.62 68.3763 1435.08 Q66.5707 1431.51 62.9365 1431.51 M62.9365 1427.81 Q68.7467 1427.81 71.8022 1432.42 Q74.8809 1437 74.8809 1445.75 Q74.8809 1454.48 71.8022 1459.08 Q68.7467 1463.67 62.9365 1463.67 Q57.1264 1463.67 54.0477 1459.08 Q50.9921 1454.48 50.9921 1445.75 Q50.9921 1437 54.0477 1432.42 Q57.1264 1427.81 62.9365 1427.81 Z\" fill=\"#000000\" fill-rule=\"evenodd\" fill-opacity=\"1\" /><path clip-path=\"url(#clip010)\" d=\"M83.0984 1457.12 L87.9827 1457.12 L87.9827 1463 L83.0984 1463 L83.0984 1457.12 Z\" fill=\"#000000\" fill-rule=\"evenodd\" fill-opacity=\"1\" /><path clip-path=\"url(#clip010)\" d=\"M108.168 1431.51 Q104.557 1431.51 102.728 1435.08 Q100.922 1438.62 100.922 1445.75 Q100.922 1452.86 102.728 1456.42 Q104.557 1459.96 108.168 1459.96 Q111.802 1459.96 113.608 1456.42 Q115.436 1452.86 115.436 1445.75 Q115.436 1438.62 113.608 1435.08 Q111.802 1431.51 108.168 1431.51 M108.168 1427.81 Q113.978 1427.81 117.033 1432.42 Q120.112 1437 120.112 1445.75 Q120.112 1454.48 117.033 1459.08 Q113.978 1463.67 108.168 1463.67 Q102.358 1463.67 99.2789 1459.08 Q96.2234 1454.48 96.2234 1445.75 Q96.2234 1437 99.2789 1432.42 Q102.358 1427.81 108.168 1427.81 Z\" fill=\"#000000\" fill-rule=\"evenodd\" fill-opacity=\"1\" /><path clip-path=\"url(#clip010)\" d=\"M138.33 1431.51 Q134.719 1431.51 132.89 1435.08 Q131.084 1438.62 131.084 1445.75 Q131.084 1452.86 132.89 1456.42 Q134.719 1459.96 138.33 1459.96 Q141.964 1459.96 143.769 1456.42 Q145.598 1452.86 145.598 1445.75 Q145.598 1438.62 143.769 1435.08 Q141.964 1431.51 138.33 1431.51 M138.33 1427.81 Q144.14 1427.81 147.195 1432.42 Q150.274 1437 150.274 1445.75 Q150.274 1454.48 147.195 1459.08 Q144.14 1463.67 138.33 1463.67 Q132.519 1463.67 129.441 1459.08 Q126.385 1454.48 126.385 1445.75 Q126.385 1437 129.441 1432.42 Q132.519 1427.81 138.33 1427.81 Z\" fill=\"#000000\" fill-rule=\"evenodd\" fill-opacity=\"1\" /><path clip-path=\"url(#clip010)\" d=\"M63.9319 1092.08 Q60.3208 1092.08 58.4921 1095.64 Q56.6865 1099.19 56.6865 1106.32 Q56.6865 1113.42 58.4921 1116.99 Q60.3208 1120.53 63.9319 1120.53 Q67.5661 1120.53 69.3717 1116.99 Q71.2004 1113.42 71.2004 1106.32 Q71.2004 1099.19 69.3717 1095.64 Q67.5661 1092.08 63.9319 1092.08 M63.9319 1088.38 Q69.742 1088.38 72.7976 1092.98 Q75.8763 1097.57 75.8763 1106.32 Q75.8763 1115.04 72.7976 1119.65 Q69.742 1124.23 63.9319 1124.23 Q58.1217 1124.23 55.043 1119.65 Q51.9875 1115.04 51.9875 1106.32 Q51.9875 1097.57 55.043 1092.98 Q58.1217 1088.38 63.9319 1088.38 Z\" fill=\"#000000\" fill-rule=\"evenodd\" fill-opacity=\"1\" /><path clip-path=\"url(#clip010)\" d=\"M84.0938 1117.68 L88.978 1117.68 L88.978 1123.56 L84.0938 1123.56 L84.0938 1117.68 Z\" fill=\"#000000\" fill-rule=\"evenodd\" fill-opacity=\"1\" /><path clip-path=\"url(#clip010)\" d=\"M103.191 1119.63 L119.51 1119.63 L119.51 1123.56 L97.566 1123.56 L97.566 1119.63 Q100.228 1116.87 104.811 1112.24 Q109.418 1107.59 110.598 1106.25 Q112.844 1103.72 113.723 1101.99 Q114.626 1100.23 114.626 1098.54 Q114.626 1095.78 112.682 1094.05 Q110.76 1092.31 107.658 1092.31 Q105.459 1092.31 103.006 1093.07 Q100.575 1093.84 97.7974 1095.39 L97.7974 1090.67 Q100.621 1089.53 103.075 1088.95 Q105.529 1088.38 107.566 1088.38 Q112.936 1088.38 116.131 1091.06 Q119.325 1093.75 119.325 1098.24 Q119.325 1100.37 118.515 1102.29 Q117.728 1104.19 115.621 1106.78 Q115.043 1107.45 111.941 1110.67 Q108.839 1113.86 103.191 1119.63 Z\" fill=\"#000000\" fill-rule=\"evenodd\" fill-opacity=\"1\" /><path clip-path=\"url(#clip010)\" d=\"M129.371 1089 L147.728 1089 L147.728 1092.94 L133.654 1092.94 L133.654 1101.41 Q134.672 1101.06 135.691 1100.9 Q136.709 1100.71 137.728 1100.71 Q143.515 1100.71 146.894 1103.89 Q150.274 1107.06 150.274 1112.47 Q150.274 1118.05 146.802 1121.15 Q143.33 1124.23 137.01 1124.23 Q134.834 1124.23 132.566 1123.86 Q130.32 1123.49 127.913 1122.75 L127.913 1118.05 Q129.996 1119.19 132.219 1119.74 Q134.441 1120.3 136.918 1120.3 Q140.922 1120.3 143.26 1118.19 Q145.598 1116.08 145.598 1112.47 Q145.598 1108.86 143.26 1106.76 Q140.922 1104.65 136.918 1104.65 Q135.043 1104.65 133.168 1105.07 Q131.316 1105.48 129.371 1106.36 L129.371 1089 Z\" fill=\"#000000\" fill-rule=\"evenodd\" fill-opacity=\"1\" /><path clip-path=\"url(#clip010)\" d=\"M62.9365 752.645 Q59.3254 752.645 57.4967 756.209 Q55.6912 759.751 55.6912 766.881 Q55.6912 773.987 57.4967 777.552 Q59.3254 781.094 62.9365 781.094 Q66.5707 781.094 68.3763 777.552 Q70.205 773.987 70.205 766.881 Q70.205 759.751 68.3763 756.209 Q66.5707 752.645 62.9365 752.645 M62.9365 748.941 Q68.7467 748.941 71.8022 753.547 Q74.8809 758.131 74.8809 766.881 Q74.8809 775.608 71.8022 780.214 Q68.7467 784.797 62.9365 784.797 Q57.1264 784.797 54.0477 780.214 Q50.9921 775.608 50.9921 766.881 Q50.9921 758.131 54.0477 753.547 Q57.1264 748.941 62.9365 748.941 Z\" fill=\"#000000\" fill-rule=\"evenodd\" fill-opacity=\"1\" /><path clip-path=\"url(#clip010)\" d=\"M83.0984 778.246 L87.9827 778.246 L87.9827 784.126 L83.0984 784.126 L83.0984 778.246 Z\" fill=\"#000000\" fill-rule=\"evenodd\" fill-opacity=\"1\" /><path clip-path=\"url(#clip010)\" d=\"M98.2141 749.566 L116.57 749.566 L116.57 753.501 L102.496 753.501 L102.496 761.973 Q103.515 761.626 104.534 761.464 Q105.552 761.279 106.571 761.279 Q112.358 761.279 115.737 764.45 Q119.117 767.621 119.117 773.038 Q119.117 778.617 115.645 781.719 Q112.172 784.797 105.853 784.797 Q103.677 784.797 101.409 784.427 Q99.1632 784.057 96.7558 783.316 L96.7558 778.617 Q98.8391 779.751 101.061 780.307 Q103.284 780.862 105.76 780.862 Q109.765 780.862 112.103 778.756 Q114.441 776.649 114.441 773.038 Q114.441 769.427 112.103 767.321 Q109.765 765.214 105.76 765.214 Q103.885 765.214 102.01 765.631 Q100.159 766.047 98.2141 766.927 L98.2141 749.566 Z\" fill=\"#000000\" fill-rule=\"evenodd\" fill-opacity=\"1\" /><path clip-path=\"url(#clip010)\" d=\"M138.33 752.645 Q134.719 752.645 132.89 756.209 Q131.084 759.751 131.084 766.881 Q131.084 773.987 132.89 777.552 Q134.719 781.094 138.33 781.094 Q141.964 781.094 143.769 777.552 Q145.598 773.987 145.598 766.881 Q145.598 759.751 143.769 756.209 Q141.964 752.645 138.33 752.645 M138.33 748.941 Q144.14 748.941 147.195 753.547 Q150.274 758.131 150.274 766.881 Q150.274 775.608 147.195 780.214 Q144.14 784.797 138.33 784.797 Q132.519 784.797 129.441 780.214 Q126.385 775.608 126.385 766.881 Q126.385 758.131 129.441 753.547 Q132.519 748.941 138.33 748.941 Z\" fill=\"#000000\" fill-rule=\"evenodd\" fill-opacity=\"1\" /><path clip-path=\"url(#clip010)\" d=\"M63.9319 413.21 Q60.3208 413.21 58.4921 416.775 Q56.6865 420.316 56.6865 427.446 Q56.6865 434.552 58.4921 438.117 Q60.3208 441.659 63.9319 441.659 Q67.5661 441.659 69.3717 438.117 Q71.2004 434.552 71.2004 427.446 Q71.2004 420.316 69.3717 416.775 Q67.5661 413.21 63.9319 413.21 M63.9319 409.506 Q69.742 409.506 72.7976 414.113 Q75.8763 418.696 75.8763 427.446 Q75.8763 436.173 72.7976 440.779 Q69.742 445.362 63.9319 445.362 Q58.1217 445.362 55.043 440.779 Q51.9875 436.173 51.9875 427.446 Q51.9875 418.696 55.043 414.113 Q58.1217 409.506 63.9319 409.506 Z\" fill=\"#000000\" fill-rule=\"evenodd\" fill-opacity=\"1\" /><path clip-path=\"url(#clip010)\" d=\"M84.0938 438.812 L88.978 438.812 L88.978 444.691 L84.0938 444.691 L84.0938 438.812 Z\" fill=\"#000000\" fill-rule=\"evenodd\" fill-opacity=\"1\" /><path clip-path=\"url(#clip010)\" d=\"M97.9826 410.131 L120.205 410.131 L120.205 412.122 L107.658 444.691 L102.774 444.691 L114.58 414.066 L97.9826 414.066 L97.9826 410.131 Z\" fill=\"#000000\" fill-rule=\"evenodd\" fill-opacity=\"1\" /><path clip-path=\"url(#clip010)\" d=\"M129.371 410.131 L147.728 410.131 L147.728 414.066 L133.654 414.066 L133.654 422.538 Q134.672 422.191 135.691 422.029 Q136.709 421.844 137.728 421.844 Q143.515 421.844 146.894 425.015 Q150.274 428.187 150.274 433.603 Q150.274 439.182 146.802 442.284 Q143.33 445.362 137.01 445.362 Q134.834 445.362 132.566 444.992 Q130.32 444.622 127.913 443.881 L127.913 439.182 Q129.996 440.316 132.219 440.872 Q134.441 441.427 136.918 441.427 Q140.922 441.427 143.26 439.321 Q145.598 437.214 145.598 433.603 Q145.598 429.992 143.26 427.886 Q140.922 425.779 136.918 425.779 Q135.043 425.779 133.168 426.196 Q131.316 426.613 129.371 427.492 L129.371 410.131 Z\" fill=\"#000000\" fill-rule=\"evenodd\" fill-opacity=\"1\" /><path clip-path=\"url(#clip010)\" d=\"M53.7467 101.321 L61.3856 101.321 L61.3856 74.9555 L53.0754 76.6222 L53.0754 72.3629 L61.3393 70.6963 L66.0152 70.6963 L66.0152 101.321 L73.654 101.321 L73.654 105.256 L53.7467 105.256 L53.7467 101.321 Z\" fill=\"#000000\" fill-rule=\"evenodd\" fill-opacity=\"1\" /><path clip-path=\"url(#clip010)\" d=\"M83.0984 99.3767 L87.9827 99.3767 L87.9827 105.256 L83.0984 105.256 L83.0984 99.3767 Z\" fill=\"#000000\" fill-rule=\"evenodd\" fill-opacity=\"1\" /><path clip-path=\"url(#clip010)\" d=\"M108.168 73.775 Q104.557 73.775 102.728 77.3398 Q100.922 80.8814 100.922 88.011 Q100.922 95.1174 102.728 98.6822 Q104.557 102.224 108.168 102.224 Q111.802 102.224 113.608 98.6822 Q115.436 95.1174 115.436 88.011 Q115.436 80.8814 113.608 77.3398 Q111.802 73.775 108.168 73.775 M108.168 70.0713 Q113.978 70.0713 117.033 74.6777 Q120.112 79.261 120.112 88.011 Q120.112 96.7378 117.033 101.344 Q113.978 105.928 108.168 105.928 Q102.358 105.928 99.2789 101.344 Q96.2234 96.7378 96.2234 88.011 Q96.2234 79.261 99.2789 74.6777 Q102.358 70.0713 108.168 70.0713 Z\" fill=\"#000000\" fill-rule=\"evenodd\" fill-opacity=\"1\" /><path clip-path=\"url(#clip010)\" d=\"M138.33 73.775 Q134.719 73.775 132.89 77.3398 Q131.084 80.8814 131.084 88.011 Q131.084 95.1174 132.89 98.6822 Q134.719 102.224 138.33 102.224 Q141.964 102.224 143.769 98.6822 Q145.598 95.1174 145.598 88.011 Q145.598 80.8814 143.769 77.3398 Q141.964 73.775 138.33 73.775 M138.33 70.0713 Q144.14 70.0713 147.195 74.6777 Q150.274 79.261 150.274 88.011 Q150.274 96.7378 147.195 101.344 Q144.14 105.928 138.33 105.928 Q132.519 105.928 129.441 101.344 Q126.385 96.7378 126.385 88.011 Q126.385 79.261 129.441 74.6777 Q132.519 70.0713 138.33 70.0713 Z\" fill=\"#000000\" fill-rule=\"evenodd\" fill-opacity=\"1\" /><polyline clip-path=\"url(#clip012)\" style=\"stroke:#009af9; stroke-linecap:butt; stroke-linejoin:round; stroke-width:4; stroke-opacity:1; fill:none\" points=\"\n",
       "  247.59,1445.72 267.549,1445.72 452.107,1445.72 563.019,1445.72 656.793,1445.72 758.658,1445.72 852.569,1445.72 902.91,1445.72 953.251,1445.72 967.833,1445.72 \n",
       "  982.414,1445.72 996.995,1445.72 1011.58,1437.52 1026.16,1394.6 1040.74,1352.35 1055.32,1310.76 1069.9,1269.82 1121.73,1129.25 1173.57,996.014 1219.02,884.759 \n",
       "  1264.47,778.366 1314.03,667.542 1363.58,561.758 1413.43,460.09 1463.28,362.869 1518.4,260.211 1573.51,162.29 1599.73,117.273 1625.95,87.9763 1652.17,87.9763 \n",
       "  1678.39,87.9763 1732.92,87.9763 1787.45,87.9763 1833.35,87.9763 1879.25,87.9763 1991.32,87.9763 2096.68,87.9763 2265.46,87.9763 2291.44,87.9763 \n",
       "  \"/>\n",
       "<polyline clip-path=\"url(#clip012)\" style=\"stroke:#e26f46; stroke-linecap:butt; stroke-linejoin:round; stroke-width:4; stroke-opacity:1; fill:none\" points=\"\n",
       "  247.59,1445.72 257.569,1445.72 267.549,1445.72 359.828,1445.72 452.107,1445.72 465.971,1445.72 479.835,1445.72 486.767,1445.72 493.699,1419.72 500.631,1391.26 \n",
       "  507.563,1363.1 535.291,1253.36 563.019,1148.03 609.906,979.244 656.793,821.202 707.726,660.545 758.658,510.281 805.614,380.112 852.569,257.27 877.74,194.224 \n",
       "  902.91,133.024 915.496,103.092 928.081,87.9763 940.666,87.9763 953.251,87.9763 982.414,87.9763 1011.58,87.9763 1026.16,87.9763 1040.74,87.9763 1048.03,87.9763 \n",
       "  1055.32,87.9763 1062.61,93.9468 1069.9,120.167 1082.86,166.274 1095.82,211.755 1108.78,256.624 1121.73,300.893 1147.65,387.678 1173.57,472.202 1219.02,615.243 \n",
       "  1264.47,752.035 1314.03,894.522 1363.58,1030.53 1413.43,1161.25 1463.28,1286.25 1490.84,1353.03 1518.4,1418.23 1532.18,1445.72 1545.95,1445.72 1559.73,1445.72 \n",
       "  1573.51,1445.72 1625.95,1445.72 1678.39,1445.72 1732.92,1445.72 1787.45,1445.72 1833.35,1402.22 1879.25,1356.71 1991.32,1251.86 2096.68,1160.65 2265.46,1027.53 \n",
       "  2291.44,1008.32 \n",
       "  \"/>\n",
       "<polyline clip-path=\"url(#clip012)\" style=\"stroke:#3da44d; stroke-linecap:butt; stroke-linejoin:round; stroke-width:4; stroke-opacity:1; fill:none\" points=\"\n",
       "  247.59,1445.72 257.569,1445.72 267.549,1445.72 359.828,1445.72 452.107,1445.72 465.971,1445.72 479.835,1445.72 486.767,1445.72 493.699,1432.72 500.631,1418.49 \n",
       "  507.563,1404.41 535.291,1349.54 563.019,1296.87 609.906,1212.48 656.793,1133.46 707.726,1053.13 758.658,977.998 805.614,912.914 852.569,851.493 877.74,819.97 \n",
       "  902.91,789.37 915.496,774.404 928.081,766.846 940.666,766.846 953.251,766.846 967.833,766.846 982.414,766.846 996.995,766.846 1011.58,762.75 1026.16,741.289 \n",
       "  1040.74,720.165 1048.03,709.727 1055.32,699.37 1062.61,692.079 1069.9,694.993 1095.82,705.169 1121.73,715.073 1147.65,724.716 1173.57,734.108 1219.02,750.001 \n",
       "  1264.47,765.2 1363.58,796.144 1463.28,824.557 1490.84,831.977 1518.4,839.222 1532.18,840.508 1545.95,828.198 1559.73,816.03 1573.51,804.003 1599.73,781.494 \n",
       "  1625.95,766.846 1652.17,766.846 1678.39,766.846 1732.92,766.846 1787.45,766.846 1833.35,745.096 1879.25,722.345 1991.32,669.917 2096.68,624.313 2265.46,557.751 \n",
       "  2291.44,548.15 \n",
       "  \"/>\n",
       "<path clip-path=\"url(#clip010)\" d=\"\n",
       "M1986.81 302.578 L2280.54 302.578 L2280.54 95.2176 L1986.81 95.2176  Z\n",
       "  \" fill=\"#ffffff\" fill-rule=\"evenodd\" fill-opacity=\"1\"/>\n",
       "<polyline clip-path=\"url(#clip010)\" style=\"stroke:#000000; stroke-linecap:butt; stroke-linejoin:round; stroke-width:4; stroke-opacity:1; fill:none\" points=\"\n",
       "  1986.81,302.578 2280.54,302.578 2280.54,95.2176 1986.81,95.2176 1986.81,302.578 \n",
       "  \"/>\n",
       "<polyline clip-path=\"url(#clip010)\" style=\"stroke:#009af9; stroke-linecap:butt; stroke-linejoin:round; stroke-width:4; stroke-opacity:1; fill:none\" points=\"\n",
       "  2010.88,147.058 2155.31,147.058 \n",
       "  \"/>\n",
       "<path clip-path=\"url(#clip010)\" d=\"M2193.23 166.745 Q2191.42 171.375 2189.71 172.787 Q2188 174.199 2185.13 174.199 L2181.72 174.199 L2181.72 170.634 L2184.22 170.634 Q2185.98 170.634 2186.96 169.8 Q2187.93 168.967 2189.11 165.865 L2189.87 163.921 L2179.39 138.412 L2183.9 138.412 L2192 158.689 L2200.1 138.412 L2204.62 138.412 L2193.23 166.745 Z\" fill=\"#000000\" fill-rule=\"evenodd\" fill-opacity=\"1\" /><path clip-path=\"url(#clip010)\" d=\"M2211.91 160.402 L2219.55 160.402 L2219.55 134.037 L2211.24 135.703 L2211.24 131.444 L2219.5 129.778 L2224.18 129.778 L2224.18 160.402 L2231.82 160.402 L2231.82 164.338 L2211.91 164.338 L2211.91 160.402 Z\" fill=\"#000000\" fill-rule=\"evenodd\" fill-opacity=\"1\" /><polyline clip-path=\"url(#clip010)\" style=\"stroke:#e26f46; stroke-linecap:butt; stroke-linejoin:round; stroke-width:4; stroke-opacity:1; fill:none\" points=\"\n",
       "  2010.88,198.898 2155.31,198.898 \n",
       "  \"/>\n",
       "<path clip-path=\"url(#clip010)\" d=\"M2193.23 218.585 Q2191.42 223.215 2189.71 224.627 Q2188 226.039 2185.13 226.039 L2181.72 226.039 L2181.72 222.474 L2184.22 222.474 Q2185.98 222.474 2186.96 221.64 Q2187.93 220.807 2189.11 217.705 L2189.87 215.761 L2179.39 190.252 L2183.9 190.252 L2192 210.529 L2200.1 190.252 L2204.62 190.252 L2193.23 218.585 Z\" fill=\"#000000\" fill-rule=\"evenodd\" fill-opacity=\"1\" /><path clip-path=\"url(#clip010)\" d=\"M2215.13 212.242 L2231.45 212.242 L2231.45 216.178 L2209.5 216.178 L2209.5 212.242 Q2212.16 209.488 2216.75 204.858 Q2221.35 200.205 2222.53 198.863 Q2224.78 196.34 2225.66 194.604 Q2226.56 192.844 2226.56 191.155 Q2226.56 188.4 2224.62 186.664 Q2222.7 184.928 2219.59 184.928 Q2217.4 184.928 2214.94 185.692 Q2212.51 186.455 2209.73 188.006 L2209.73 183.284 Q2212.56 182.15 2215.01 181.571 Q2217.47 180.993 2219.5 180.993 Q2224.87 180.993 2228.07 183.678 Q2231.26 186.363 2231.26 190.854 Q2231.26 192.983 2230.45 194.905 Q2229.66 196.803 2227.56 199.395 Q2226.98 200.067 2223.88 203.284 Q2220.78 206.479 2215.13 212.242 Z\" fill=\"#000000\" fill-rule=\"evenodd\" fill-opacity=\"1\" /><polyline clip-path=\"url(#clip010)\" style=\"stroke:#3da44d; stroke-linecap:butt; stroke-linejoin:round; stroke-width:4; stroke-opacity:1; fill:none\" points=\"\n",
       "  2010.88,250.738 2155.31,250.738 \n",
       "  \"/>\n",
       "<path clip-path=\"url(#clip010)\" d=\"M2193.23 270.425 Q2191.42 275.055 2189.71 276.467 Q2188 277.879 2185.13 277.879 L2181.72 277.879 L2181.72 274.314 L2184.22 274.314 Q2185.98 274.314 2186.96 273.48 Q2187.93 272.647 2189.11 269.545 L2189.87 267.601 L2179.39 242.092 L2183.9 242.092 L2192 262.369 L2200.1 242.092 L2204.62 242.092 L2193.23 270.425 Z\" fill=\"#000000\" fill-rule=\"evenodd\" fill-opacity=\"1\" /><path clip-path=\"url(#clip010)\" d=\"M2225.27 249.383 Q2228.62 250.101 2230.5 252.369 Q2232.4 254.638 2232.4 257.971 Q2232.4 263.087 2228.88 265.888 Q2225.36 268.689 2218.88 268.689 Q2216.7 268.689 2214.39 268.249 Q2212.09 267.832 2209.64 266.976 L2209.64 262.462 Q2211.59 263.596 2213.9 264.175 Q2216.22 264.754 2218.74 264.754 Q2223.14 264.754 2225.43 263.018 Q2227.74 261.281 2227.74 257.971 Q2227.74 254.916 2225.59 253.203 Q2223.46 251.467 2219.64 251.467 L2215.61 251.467 L2215.61 247.624 L2219.83 247.624 Q2223.28 247.624 2225.1 246.258 Q2226.93 244.87 2226.93 242.277 Q2226.93 239.615 2225.03 238.203 Q2223.16 236.768 2219.64 236.768 Q2217.72 236.768 2215.52 237.184 Q2213.32 237.601 2210.68 238.481 L2210.68 234.314 Q2213.34 233.573 2215.66 233.203 Q2218 232.833 2220.06 232.833 Q2225.38 232.833 2228.48 235.263 Q2231.59 237.67 2231.59 241.791 Q2231.59 244.661 2229.94 246.652 Q2228.3 248.62 2225.27 249.383 Z\" fill=\"#000000\" fill-rule=\"evenodd\" fill-opacity=\"1\" /></svg>\n"
      ]
     },
     "execution_count": 17,
     "metadata": {},
     "output_type": "execute_result"
    }
   ],
   "source": [
    "plot!(Q1(lambda =>5/10,w_2=>1/2),.01,.99)"
   ]
  },
  {
   "cell_type": "code",
   "execution_count": 18,
   "id": "28c451f6-acc3-4ab1-b024-e313fd5c8eee",
   "metadata": {},
   "outputs": [
    {
     "data": {
      "text/latex": [
       "$\\begin{equation*}\\left(1 - \\left(- \\lambda \\max\\left(0, \\min\\left(1, \\frac{\\lambda w_{2} + 2 w_{1} - 2 w_{2}}{\\lambda \\left(w_{1} + w_{2}\\right)}\\right)\\right) - \\left(1 - \\lambda\\right) \\max\\left(0, \\min\\left(1, \\frac{2 \\lambda w_{1} \\max\\left(0, \\min\\left(1, \\frac{\\lambda w_{2} + 2 w_{1} - 2 w_{2}}{\\lambda \\left(w_{1} + w_{2}\\right)}\\right)\\right) + 2 \\lambda w_{2} \\max\\left(0, \\min\\left(1, \\frac{\\lambda w_{2} + 2 w_{1} - 2 w_{2}}{\\lambda \\left(w_{1} + w_{2}\\right)}\\right)\\right) - \\lambda w_{2} - 2 w_{1} + w_{2}}{\\lambda w_{1} + \\lambda w_{2} - w_{1} - w_{2}}\\right)\\right) + 1\\right)^{2}\\right) \\left(- w_{1} + y_{1}\\right)\\end{equation*}$\n"
      ],
      "text/plain": [
       "⎛                                                                             \n",
       "⎝1 - (-λ⋅Max(0, Min(1, (lambda*w_2 + 2*w_1 - 2*w_2)/(lambda*(w_1 + w_2)))) - (\n",
       "\n",
       "                                                                              \n",
       "1 - λ)⋅Max(0, Min(1, (2*lambda*w_1*Max(0, Min(1, (lambda*w_2 + 2*w_1 - 2*w_2)/\n",
       "\n",
       "                                                                              \n",
       "(lambda*(w_1 + w_2)))) + 2*lambda*w_2*Max(0, Min(1, (lambda*w_2 + 2*w_1 - 2*w_\n",
       "\n",
       "                                                                              \n",
       "2)/(lambda*(w_1 + w_2)))) - lambda*w_2 - 2*w_1 + w_2)/(lambda*w_1 + lambda*w_2\n",
       "\n",
       "                    2⎞           \n",
       " - w_1 - w_2))) + 1) ⎠⋅(-w₁ + y₁)"
      ]
     },
     "execution_count": 18,
     "metadata": {},
     "output_type": "execute_result"
    }
   ],
   "source": [
    "prof = (y_1-w_1)*(1-(1-(lambda*probh+(1-lambda)*probl))^2)"
   ]
  },
  {
   "cell_type": "code",
   "execution_count": 19,
   "id": "a6e0537f-3066-4ec1-8309-9fbdba862f97",
   "metadata": {},
   "outputs": [
    {
     "data": {
      "image/svg+xml": [
       "<?xml version=\"1.0\" encoding=\"utf-8\"?>\n",
       "<svg xmlns=\"http://www.w3.org/2000/svg\" xmlns:xlink=\"http://www.w3.org/1999/xlink\" width=\"600\" height=\"400\" viewBox=\"0 0 2400 1600\">\n",
       "<defs>\n",
       "  <clipPath id=\"clip050\">\n",
       "    <rect x=\"0\" y=\"0\" width=\"2400\" height=\"1600\"/>\n",
       "  </clipPath>\n",
       "</defs>\n",
       "<path clip-path=\"url(#clip050)\" d=\"\n",
       "M0 1600 L2400 1600 L2400 0 L0 0  Z\n",
       "  \" fill=\"#ffffff\" fill-rule=\"evenodd\" fill-opacity=\"1\"/>\n",
       "<defs>\n",
       "  <clipPath id=\"clip051\">\n",
       "    <rect x=\"480\" y=\"0\" width=\"1681\" height=\"1600\"/>\n",
       "  </clipPath>\n",
       "</defs>\n",
       "<path clip-path=\"url(#clip050)\" d=\"\n",
       "M216.436 1486.45 L2352.76 1486.45 L2352.76 47.2441 L216.436 47.2441  Z\n",
       "  \" fill=\"#ffffff\" fill-rule=\"evenodd\" fill-opacity=\"1\"/>\n",
       "<defs>\n",
       "  <clipPath id=\"clip052\">\n",
       "    <rect x=\"216\" y=\"47\" width=\"2137\" height=\"1440\"/>\n",
       "  </clipPath>\n",
       "</defs>\n",
       "<polyline clip-path=\"url(#clip052)\" style=\"stroke:#000000; stroke-linecap:butt; stroke-linejoin:round; stroke-width:2; stroke-opacity:0.1; fill:none\" points=\"\n",
       "  276.898,1486.45 276.898,47.2441 \n",
       "  \"/>\n",
       "<polyline clip-path=\"url(#clip052)\" style=\"stroke:#000000; stroke-linecap:butt; stroke-linejoin:round; stroke-width:2; stroke-opacity:0.1; fill:none\" points=\"\n",
       "  780.747,1486.45 780.747,47.2441 \n",
       "  \"/>\n",
       "<polyline clip-path=\"url(#clip052)\" style=\"stroke:#000000; stroke-linecap:butt; stroke-linejoin:round; stroke-width:2; stroke-opacity:0.1; fill:none\" points=\"\n",
       "  1284.6,1486.45 1284.6,47.2441 \n",
       "  \"/>\n",
       "<polyline clip-path=\"url(#clip052)\" style=\"stroke:#000000; stroke-linecap:butt; stroke-linejoin:round; stroke-width:2; stroke-opacity:0.1; fill:none\" points=\"\n",
       "  1788.44,1486.45 1788.44,47.2441 \n",
       "  \"/>\n",
       "<polyline clip-path=\"url(#clip052)\" style=\"stroke:#000000; stroke-linecap:butt; stroke-linejoin:round; stroke-width:2; stroke-opacity:0.1; fill:none\" points=\"\n",
       "  2292.29,1486.45 2292.29,47.2441 \n",
       "  \"/>\n",
       "<polyline clip-path=\"url(#clip050)\" style=\"stroke:#000000; stroke-linecap:butt; stroke-linejoin:round; stroke-width:4; stroke-opacity:1; fill:none\" points=\"\n",
       "  216.436,1486.45 2352.76,1486.45 \n",
       "  \"/>\n",
       "<polyline clip-path=\"url(#clip050)\" style=\"stroke:#000000; stroke-linecap:butt; stroke-linejoin:round; stroke-width:4; stroke-opacity:1; fill:none\" points=\"\n",
       "  276.898,1486.45 276.898,1467.55 \n",
       "  \"/>\n",
       "<polyline clip-path=\"url(#clip050)\" style=\"stroke:#000000; stroke-linecap:butt; stroke-linejoin:round; stroke-width:4; stroke-opacity:1; fill:none\" points=\"\n",
       "  780.747,1486.45 780.747,1467.55 \n",
       "  \"/>\n",
       "<polyline clip-path=\"url(#clip050)\" style=\"stroke:#000000; stroke-linecap:butt; stroke-linejoin:round; stroke-width:4; stroke-opacity:1; fill:none\" points=\"\n",
       "  1284.6,1486.45 1284.6,1467.55 \n",
       "  \"/>\n",
       "<polyline clip-path=\"url(#clip050)\" style=\"stroke:#000000; stroke-linecap:butt; stroke-linejoin:round; stroke-width:4; stroke-opacity:1; fill:none\" points=\"\n",
       "  1788.44,1486.45 1788.44,1467.55 \n",
       "  \"/>\n",
       "<polyline clip-path=\"url(#clip050)\" style=\"stroke:#000000; stroke-linecap:butt; stroke-linejoin:round; stroke-width:4; stroke-opacity:1; fill:none\" points=\"\n",
       "  2292.29,1486.45 2292.29,1467.55 \n",
       "  \"/>\n",
       "<path clip-path=\"url(#clip050)\" d=\"M239.201 1517.37 Q235.59 1517.37 233.761 1520.93 Q231.956 1524.47 231.956 1531.6 Q231.956 1538.71 233.761 1542.27 Q235.59 1545.82 239.201 1545.82 Q242.835 1545.82 244.641 1542.27 Q246.47 1538.71 246.47 1531.6 Q246.47 1524.47 244.641 1520.93 Q242.835 1517.37 239.201 1517.37 M239.201 1513.66 Q245.011 1513.66 248.067 1518.27 Q251.146 1522.85 251.146 1531.6 Q251.146 1540.33 248.067 1544.94 Q245.011 1549.52 239.201 1549.52 Q233.391 1549.52 230.312 1544.94 Q227.257 1540.33 227.257 1531.6 Q227.257 1522.85 230.312 1518.27 Q233.391 1513.66 239.201 1513.66 Z\" fill=\"#000000\" fill-rule=\"evenodd\" fill-opacity=\"1\" /><path clip-path=\"url(#clip050)\" d=\"M259.363 1542.97 L264.247 1542.97 L264.247 1548.85 L259.363 1548.85 L259.363 1542.97 Z\" fill=\"#000000\" fill-rule=\"evenodd\" fill-opacity=\"1\" /><path clip-path=\"url(#clip050)\" d=\"M285.011 1529.7 Q281.863 1529.7 280.011 1531.86 Q278.182 1534.01 278.182 1537.76 Q278.182 1541.49 280.011 1543.66 Q281.863 1545.82 285.011 1545.82 Q288.159 1545.82 289.988 1543.66 Q291.84 1541.49 291.84 1537.76 Q291.84 1534.01 289.988 1531.86 Q288.159 1529.7 285.011 1529.7 M294.294 1515.05 L294.294 1519.31 Q292.534 1518.48 290.729 1518.04 Q288.946 1517.6 287.187 1517.6 Q282.557 1517.6 280.104 1520.72 Q277.673 1523.85 277.326 1530.17 Q278.692 1528.15 280.752 1527.09 Q282.812 1526 285.289 1526 Q290.497 1526 293.506 1529.17 Q296.539 1532.32 296.539 1537.76 Q296.539 1543.08 293.391 1546.3 Q290.243 1549.52 285.011 1549.52 Q279.016 1549.52 275.845 1544.94 Q272.673 1540.33 272.673 1531.6 Q272.673 1523.41 276.562 1518.55 Q280.451 1513.66 287.002 1513.66 Q288.761 1513.66 290.544 1514.01 Q292.349 1514.36 294.294 1515.05 Z\" fill=\"#000000\" fill-rule=\"evenodd\" fill-opacity=\"1\" /><path clip-path=\"url(#clip050)\" d=\"M314.594 1517.37 Q310.983 1517.37 309.155 1520.93 Q307.349 1524.47 307.349 1531.6 Q307.349 1538.71 309.155 1542.27 Q310.983 1545.82 314.594 1545.82 Q318.229 1545.82 320.034 1542.27 Q321.863 1538.71 321.863 1531.6 Q321.863 1524.47 320.034 1520.93 Q318.229 1517.37 314.594 1517.37 M314.594 1513.66 Q320.404 1513.66 323.46 1518.27 Q326.539 1522.85 326.539 1531.6 Q326.539 1540.33 323.46 1544.94 Q320.404 1549.52 314.594 1549.52 Q308.784 1549.52 305.705 1544.94 Q302.65 1540.33 302.65 1531.6 Q302.65 1522.85 305.705 1518.27 Q308.784 1513.66 314.594 1513.66 Z\" fill=\"#000000\" fill-rule=\"evenodd\" fill-opacity=\"1\" /><path clip-path=\"url(#clip050)\" d=\"M743.548 1517.37 Q739.937 1517.37 738.108 1520.93 Q736.303 1524.47 736.303 1531.6 Q736.303 1538.71 738.108 1542.27 Q739.937 1545.82 743.548 1545.82 Q747.182 1545.82 748.988 1542.27 Q750.816 1538.71 750.816 1531.6 Q750.816 1524.47 748.988 1520.93 Q747.182 1517.37 743.548 1517.37 M743.548 1513.66 Q749.358 1513.66 752.414 1518.27 Q755.492 1522.85 755.492 1531.6 Q755.492 1540.33 752.414 1544.94 Q749.358 1549.52 743.548 1549.52 Q737.738 1549.52 734.659 1544.94 Q731.604 1540.33 731.604 1531.6 Q731.604 1522.85 734.659 1518.27 Q737.738 1513.66 743.548 1513.66 Z\" fill=\"#000000\" fill-rule=\"evenodd\" fill-opacity=\"1\" /><path clip-path=\"url(#clip050)\" d=\"M763.71 1542.97 L768.594 1542.97 L768.594 1548.85 L763.71 1548.85 L763.71 1542.97 Z\" fill=\"#000000\" fill-rule=\"evenodd\" fill-opacity=\"1\" /><path clip-path=\"url(#clip050)\" d=\"M789.358 1529.7 Q786.21 1529.7 784.358 1531.86 Q782.529 1534.01 782.529 1537.76 Q782.529 1541.49 784.358 1543.66 Q786.21 1545.82 789.358 1545.82 Q792.506 1545.82 794.335 1543.66 Q796.187 1541.49 796.187 1537.76 Q796.187 1534.01 794.335 1531.86 Q792.506 1529.7 789.358 1529.7 M798.64 1515.05 L798.64 1519.31 Q796.881 1518.48 795.075 1518.04 Q793.293 1517.6 791.534 1517.6 Q786.904 1517.6 784.451 1520.72 Q782.02 1523.85 781.673 1530.17 Q783.038 1528.15 785.099 1527.09 Q787.159 1526 789.636 1526 Q794.844 1526 797.853 1529.17 Q800.886 1532.32 800.886 1537.76 Q800.886 1543.08 797.737 1546.3 Q794.589 1549.52 789.358 1549.52 Q783.363 1549.52 780.191 1544.94 Q777.02 1540.33 777.02 1531.6 Q777.02 1523.41 780.909 1518.55 Q784.798 1513.66 791.349 1513.66 Q793.108 1513.66 794.89 1514.01 Q796.696 1514.36 798.64 1515.05 Z\" fill=\"#000000\" fill-rule=\"evenodd\" fill-opacity=\"1\" /><path clip-path=\"url(#clip050)\" d=\"M808.987 1514.29 L827.344 1514.29 L827.344 1518.22 L813.27 1518.22 L813.27 1526.7 Q814.288 1526.35 815.307 1526.19 Q816.325 1526 817.344 1526 Q823.131 1526 826.51 1529.17 Q829.89 1532.34 829.89 1537.76 Q829.89 1543.34 826.418 1546.44 Q822.946 1549.52 816.626 1549.52 Q814.45 1549.52 812.182 1549.15 Q809.936 1548.78 807.529 1548.04 L807.529 1543.34 Q809.612 1544.47 811.835 1545.03 Q814.057 1545.58 816.534 1545.58 Q820.538 1545.58 822.876 1543.48 Q825.214 1541.37 825.214 1537.76 Q825.214 1534.15 822.876 1532.04 Q820.538 1529.94 816.534 1529.94 Q814.659 1529.94 812.784 1530.35 Q810.932 1530.77 808.987 1531.65 L808.987 1514.29 Z\" fill=\"#000000\" fill-rule=\"evenodd\" fill-opacity=\"1\" /><path clip-path=\"url(#clip050)\" d=\"M1246.9 1517.37 Q1243.29 1517.37 1241.46 1520.93 Q1239.65 1524.47 1239.65 1531.6 Q1239.65 1538.71 1241.46 1542.27 Q1243.29 1545.82 1246.9 1545.82 Q1250.53 1545.82 1252.34 1542.27 Q1254.17 1538.71 1254.17 1531.6 Q1254.17 1524.47 1252.34 1520.93 Q1250.53 1517.37 1246.9 1517.37 M1246.9 1513.66 Q1252.71 1513.66 1255.77 1518.27 Q1258.84 1522.85 1258.84 1531.6 Q1258.84 1540.33 1255.77 1544.94 Q1252.71 1549.52 1246.9 1549.52 Q1241.09 1549.52 1238.01 1544.94 Q1234.95 1540.33 1234.95 1531.6 Q1234.95 1522.85 1238.01 1518.27 Q1241.09 1513.66 1246.9 1513.66 Z\" fill=\"#000000\" fill-rule=\"evenodd\" fill-opacity=\"1\" /><path clip-path=\"url(#clip050)\" d=\"M1267.06 1542.97 L1271.95 1542.97 L1271.95 1548.85 L1267.06 1548.85 L1267.06 1542.97 Z\" fill=\"#000000\" fill-rule=\"evenodd\" fill-opacity=\"1\" /><path clip-path=\"url(#clip050)\" d=\"M1280.95 1514.29 L1303.17 1514.29 L1303.17 1516.28 L1290.63 1548.85 L1285.74 1548.85 L1297.55 1518.22 L1280.95 1518.22 L1280.95 1514.29 Z\" fill=\"#000000\" fill-rule=\"evenodd\" fill-opacity=\"1\" /><path clip-path=\"url(#clip050)\" d=\"M1322.29 1517.37 Q1318.68 1517.37 1316.85 1520.93 Q1315.05 1524.47 1315.05 1531.6 Q1315.05 1538.71 1316.85 1542.27 Q1318.68 1545.82 1322.29 1545.82 Q1325.93 1545.82 1327.73 1542.27 Q1329.56 1538.71 1329.56 1531.6 Q1329.56 1524.47 1327.73 1520.93 Q1325.93 1517.37 1322.29 1517.37 M1322.29 1513.66 Q1328.1 1513.66 1331.16 1518.27 Q1334.24 1522.85 1334.24 1531.6 Q1334.24 1540.33 1331.16 1544.94 Q1328.1 1549.52 1322.29 1549.52 Q1316.48 1549.52 1313.4 1544.94 Q1310.35 1540.33 1310.35 1531.6 Q1310.35 1522.85 1313.4 1518.27 Q1316.48 1513.66 1322.29 1513.66 Z\" fill=\"#000000\" fill-rule=\"evenodd\" fill-opacity=\"1\" /><path clip-path=\"url(#clip050)\" d=\"M1751.25 1517.37 Q1747.63 1517.37 1745.81 1520.93 Q1744 1524.47 1744 1531.6 Q1744 1538.71 1745.81 1542.27 Q1747.63 1545.82 1751.25 1545.82 Q1754.88 1545.82 1756.69 1542.27 Q1758.51 1538.71 1758.51 1531.6 Q1758.51 1524.47 1756.69 1520.93 Q1754.88 1517.37 1751.25 1517.37 M1751.25 1513.66 Q1757.06 1513.66 1760.11 1518.27 Q1763.19 1522.85 1763.19 1531.6 Q1763.19 1540.33 1760.11 1544.94 Q1757.06 1549.52 1751.25 1549.52 Q1745.44 1549.52 1742.36 1544.94 Q1739.3 1540.33 1739.3 1531.6 Q1739.3 1522.85 1742.36 1518.27 Q1745.44 1513.66 1751.25 1513.66 Z\" fill=\"#000000\" fill-rule=\"evenodd\" fill-opacity=\"1\" /><path clip-path=\"url(#clip050)\" d=\"M1771.41 1542.97 L1776.29 1542.97 L1776.29 1548.85 L1771.41 1548.85 L1771.41 1542.97 Z\" fill=\"#000000\" fill-rule=\"evenodd\" fill-opacity=\"1\" /><path clip-path=\"url(#clip050)\" d=\"M1785.3 1514.29 L1807.52 1514.29 L1807.52 1516.28 L1794.97 1548.85 L1790.09 1548.85 L1801.89 1518.22 L1785.3 1518.22 L1785.3 1514.29 Z\" fill=\"#000000\" fill-rule=\"evenodd\" fill-opacity=\"1\" /><path clip-path=\"url(#clip050)\" d=\"M1816.69 1514.29 L1835.04 1514.29 L1835.04 1518.22 L1820.97 1518.22 L1820.97 1526.7 Q1821.99 1526.35 1823 1526.19 Q1824.02 1526 1825.04 1526 Q1830.83 1526 1834.21 1529.17 Q1837.59 1532.34 1837.59 1537.76 Q1837.59 1543.34 1834.12 1546.44 Q1830.64 1549.52 1824.32 1549.52 Q1822.15 1549.52 1819.88 1549.15 Q1817.63 1548.78 1815.23 1548.04 L1815.23 1543.34 Q1817.31 1544.47 1819.53 1545.03 Q1821.75 1545.58 1824.23 1545.58 Q1828.24 1545.58 1830.57 1543.48 Q1832.91 1541.37 1832.91 1537.76 Q1832.91 1534.15 1830.57 1532.04 Q1828.24 1529.94 1824.23 1529.94 Q1822.36 1529.94 1820.48 1530.35 Q1818.63 1530.77 1816.69 1531.65 L1816.69 1514.29 Z\" fill=\"#000000\" fill-rule=\"evenodd\" fill-opacity=\"1\" /><path clip-path=\"url(#clip050)\" d=\"M2254.6 1517.37 Q2250.99 1517.37 2249.16 1520.93 Q2247.35 1524.47 2247.35 1531.6 Q2247.35 1538.71 2249.16 1542.27 Q2250.99 1545.82 2254.6 1545.82 Q2258.23 1545.82 2260.04 1542.27 Q2261.87 1538.71 2261.87 1531.6 Q2261.87 1524.47 2260.04 1520.93 Q2258.23 1517.37 2254.6 1517.37 M2254.6 1513.66 Q2260.41 1513.66 2263.46 1518.27 Q2266.54 1522.85 2266.54 1531.6 Q2266.54 1540.33 2263.46 1544.94 Q2260.41 1549.52 2254.6 1549.52 Q2248.79 1549.52 2245.71 1544.94 Q2242.65 1540.33 2242.65 1531.6 Q2242.65 1522.85 2245.71 1518.27 Q2248.79 1513.66 2254.6 1513.66 Z\" fill=\"#000000\" fill-rule=\"evenodd\" fill-opacity=\"1\" /><path clip-path=\"url(#clip050)\" d=\"M2274.76 1542.97 L2279.64 1542.97 L2279.64 1548.85 L2274.76 1548.85 L2274.76 1542.97 Z\" fill=\"#000000\" fill-rule=\"evenodd\" fill-opacity=\"1\" /><path clip-path=\"url(#clip050)\" d=\"M2299.83 1532.44 Q2296.5 1532.44 2294.57 1534.22 Q2292.68 1536 2292.68 1539.13 Q2292.68 1542.25 2294.57 1544.03 Q2296.5 1545.82 2299.83 1545.82 Q2303.16 1545.82 2305.08 1544.03 Q2307 1542.23 2307 1539.13 Q2307 1536 2305.08 1534.22 Q2303.19 1532.44 2299.83 1532.44 M2295.15 1530.45 Q2292.14 1529.7 2290.45 1527.64 Q2288.79 1525.58 2288.79 1522.62 Q2288.79 1518.48 2291.73 1516.07 Q2294.69 1513.66 2299.83 1513.66 Q2304.99 1513.66 2307.93 1516.07 Q2310.87 1518.48 2310.87 1522.62 Q2310.87 1525.58 2309.18 1527.64 Q2307.51 1529.7 2304.53 1530.45 Q2307.91 1531.23 2309.78 1533.52 Q2311.68 1535.82 2311.68 1539.13 Q2311.68 1544.15 2308.6 1546.83 Q2305.55 1549.52 2299.83 1549.52 Q2294.11 1549.52 2291.03 1546.83 Q2287.98 1544.15 2287.98 1539.13 Q2287.98 1535.82 2289.88 1533.52 Q2291.77 1531.23 2295.15 1530.45 M2293.44 1523.06 Q2293.44 1525.75 2295.11 1527.25 Q2296.8 1528.76 2299.83 1528.76 Q2302.84 1528.76 2304.53 1527.25 Q2306.24 1525.75 2306.24 1523.06 Q2306.24 1520.38 2304.53 1518.87 Q2302.84 1517.37 2299.83 1517.37 Q2296.8 1517.37 2295.11 1518.87 Q2293.44 1520.38 2293.44 1523.06 Z\" fill=\"#000000\" fill-rule=\"evenodd\" fill-opacity=\"1\" /><path clip-path=\"url(#clip050)\" d=\"M2329.99 1517.37 Q2326.38 1517.37 2324.55 1520.93 Q2322.75 1524.47 2322.75 1531.6 Q2322.75 1538.71 2324.55 1542.27 Q2326.38 1545.82 2329.99 1545.82 Q2333.62 1545.82 2335.43 1542.27 Q2337.26 1538.71 2337.26 1531.6 Q2337.26 1524.47 2335.43 1520.93 Q2333.62 1517.37 2329.99 1517.37 M2329.99 1513.66 Q2335.8 1513.66 2338.86 1518.27 Q2341.93 1522.85 2341.93 1531.6 Q2341.93 1540.33 2338.86 1544.94 Q2335.8 1549.52 2329.99 1549.52 Q2324.18 1549.52 2321.1 1544.94 Q2318.05 1540.33 2318.05 1531.6 Q2318.05 1522.85 2321.1 1518.27 Q2324.18 1513.66 2329.99 1513.66 Z\" fill=\"#000000\" fill-rule=\"evenodd\" fill-opacity=\"1\" /><polyline clip-path=\"url(#clip052)\" style=\"stroke:#000000; stroke-linecap:butt; stroke-linejoin:round; stroke-width:2; stroke-opacity:0.1; fill:none\" points=\"\n",
       "  216.436,1252.33 2352.76,1252.33 \n",
       "  \"/>\n",
       "<polyline clip-path=\"url(#clip052)\" style=\"stroke:#000000; stroke-linecap:butt; stroke-linejoin:round; stroke-width:2; stroke-opacity:0.1; fill:none\" points=\"\n",
       "  216.436,977.7 2352.76,977.7 \n",
       "  \"/>\n",
       "<polyline clip-path=\"url(#clip052)\" style=\"stroke:#000000; stroke-linecap:butt; stroke-linejoin:round; stroke-width:2; stroke-opacity:0.1; fill:none\" points=\"\n",
       "  216.436,703.066 2352.76,703.066 \n",
       "  \"/>\n",
       "<polyline clip-path=\"url(#clip052)\" style=\"stroke:#000000; stroke-linecap:butt; stroke-linejoin:round; stroke-width:2; stroke-opacity:0.1; fill:none\" points=\"\n",
       "  216.436,428.432 2352.76,428.432 \n",
       "  \"/>\n",
       "<polyline clip-path=\"url(#clip052)\" style=\"stroke:#000000; stroke-linecap:butt; stroke-linejoin:round; stroke-width:2; stroke-opacity:0.1; fill:none\" points=\"\n",
       "  216.436,153.798 2352.76,153.798 \n",
       "  \"/>\n",
       "<polyline clip-path=\"url(#clip050)\" style=\"stroke:#000000; stroke-linecap:butt; stroke-linejoin:round; stroke-width:4; stroke-opacity:1; fill:none\" points=\"\n",
       "  216.436,1486.45 216.436,47.2441 \n",
       "  \"/>\n",
       "<polyline clip-path=\"url(#clip050)\" style=\"stroke:#000000; stroke-linecap:butt; stroke-linejoin:round; stroke-width:4; stroke-opacity:1; fill:none\" points=\"\n",
       "  216.436,1252.33 235.334,1252.33 \n",
       "  \"/>\n",
       "<polyline clip-path=\"url(#clip050)\" style=\"stroke:#000000; stroke-linecap:butt; stroke-linejoin:round; stroke-width:4; stroke-opacity:1; fill:none\" points=\"\n",
       "  216.436,977.7 235.334,977.7 \n",
       "  \"/>\n",
       "<polyline clip-path=\"url(#clip050)\" style=\"stroke:#000000; stroke-linecap:butt; stroke-linejoin:round; stroke-width:4; stroke-opacity:1; fill:none\" points=\"\n",
       "  216.436,703.066 235.334,703.066 \n",
       "  \"/>\n",
       "<polyline clip-path=\"url(#clip050)\" style=\"stroke:#000000; stroke-linecap:butt; stroke-linejoin:round; stroke-width:4; stroke-opacity:1; fill:none\" points=\"\n",
       "  216.436,428.432 235.334,428.432 \n",
       "  \"/>\n",
       "<polyline clip-path=\"url(#clip050)\" style=\"stroke:#000000; stroke-linecap:butt; stroke-linejoin:round; stroke-width:4; stroke-opacity:1; fill:none\" points=\"\n",
       "  216.436,153.798 235.334,153.798 \n",
       "  \"/>\n",
       "<path clip-path=\"url(#clip050)\" d=\"M63.9319 1238.13 Q60.3208 1238.13 58.4921 1241.7 Q56.6865 1245.24 56.6865 1252.37 Q56.6865 1259.48 58.4921 1263.04 Q60.3208 1266.58 63.9319 1266.58 Q67.5661 1266.58 69.3717 1263.04 Q71.2004 1259.48 71.2004 1252.37 Q71.2004 1245.24 69.3717 1241.7 Q67.5661 1238.13 63.9319 1238.13 M63.9319 1234.43 Q69.742 1234.43 72.7976 1239.04 Q75.8763 1243.62 75.8763 1252.37 Q75.8763 1261.1 72.7976 1265.7 Q69.742 1270.29 63.9319 1270.29 Q58.1217 1270.29 55.043 1265.7 Q51.9875 1261.1 51.9875 1252.37 Q51.9875 1243.62 55.043 1239.04 Q58.1217 1234.43 63.9319 1234.43 Z\" fill=\"#000000\" fill-rule=\"evenodd\" fill-opacity=\"1\" /><path clip-path=\"url(#clip050)\" d=\"M84.0938 1263.73 L88.978 1263.73 L88.978 1269.61 L84.0938 1269.61 L84.0938 1263.73 Z\" fill=\"#000000\" fill-rule=\"evenodd\" fill-opacity=\"1\" /><path clip-path=\"url(#clip050)\" d=\"M99.9733 1265.68 L107.612 1265.68 L107.612 1239.31 L99.3021 1240.98 L99.3021 1236.72 L107.566 1235.05 L112.242 1235.05 L112.242 1265.68 L119.881 1265.68 L119.881 1269.61 L99.9733 1269.61 L99.9733 1265.68 Z\" fill=\"#000000\" fill-rule=\"evenodd\" fill-opacity=\"1\" /><path clip-path=\"url(#clip050)\" d=\"M128.144 1235.05 L150.367 1235.05 L150.367 1237.04 L137.82 1269.61 L132.936 1269.61 L144.742 1238.99 L128.144 1238.99 L128.144 1235.05 Z\" fill=\"#000000\" fill-rule=\"evenodd\" fill-opacity=\"1\" /><path clip-path=\"url(#clip050)\" d=\"M159.533 1235.05 L177.89 1235.05 L177.89 1238.99 L163.816 1238.99 L163.816 1247.46 Q164.834 1247.11 165.853 1246.95 Q166.871 1246.77 167.89 1246.77 Q173.677 1246.77 177.056 1249.94 Q180.436 1253.11 180.436 1258.53 Q180.436 1264.11 176.964 1267.21 Q173.491 1270.29 167.172 1270.29 Q164.996 1270.29 162.728 1269.92 Q160.482 1269.54 158.075 1268.8 L158.075 1264.11 Q160.158 1265.24 162.38 1265.79 Q164.603 1266.35 167.079 1266.35 Q171.084 1266.35 173.422 1264.24 Q175.76 1262.14 175.76 1258.53 Q175.76 1254.92 173.422 1252.81 Q171.084 1250.7 167.079 1250.7 Q165.204 1250.7 163.329 1251.12 Q161.478 1251.54 159.533 1252.42 L159.533 1235.05 Z\" fill=\"#000000\" fill-rule=\"evenodd\" fill-opacity=\"1\" /><path clip-path=\"url(#clip050)\" d=\"M62.9365 963.499 Q59.3254 963.499 57.4967 967.064 Q55.6912 970.605 55.6912 977.735 Q55.6912 984.841 57.4967 988.406 Q59.3254 991.948 62.9365 991.948 Q66.5707 991.948 68.3763 988.406 Q70.205 984.841 70.205 977.735 Q70.205 970.605 68.3763 967.064 Q66.5707 963.499 62.9365 963.499 M62.9365 959.795 Q68.7467 959.795 71.8022 964.402 Q74.8809 968.985 74.8809 977.735 Q74.8809 986.462 71.8022 991.068 Q68.7467 995.651 62.9365 995.651 Q57.1264 995.651 54.0477 991.068 Q50.9921 986.462 50.9921 977.735 Q50.9921 968.985 54.0477 964.402 Q57.1264 959.795 62.9365 959.795 Z\" fill=\"#000000\" fill-rule=\"evenodd\" fill-opacity=\"1\" /><path clip-path=\"url(#clip050)\" d=\"M83.0984 989.101 L87.9827 989.101 L87.9827 994.98 L83.0984 994.98 L83.0984 989.101 Z\" fill=\"#000000\" fill-rule=\"evenodd\" fill-opacity=\"1\" /><path clip-path=\"url(#clip050)\" d=\"M102.196 991.045 L118.515 991.045 L118.515 994.98 L96.5706 994.98 L96.5706 991.045 Q99.2326 988.29 103.816 983.661 Q108.422 979.008 109.603 977.665 Q111.848 975.142 112.728 973.406 Q113.631 971.647 113.631 969.957 Q113.631 967.202 111.686 965.466 Q109.765 963.73 106.663 963.73 Q104.464 963.73 102.01 964.494 Q99.5798 965.258 96.8021 966.809 L96.8021 962.087 Q99.6261 960.953 102.08 960.374 Q104.534 959.795 106.571 959.795 Q111.941 959.795 115.135 962.48 Q118.33 965.165 118.33 969.656 Q118.33 971.786 117.52 973.707 Q116.733 975.605 114.626 978.198 Q114.047 978.869 110.946 982.087 Q107.844 985.281 102.196 991.045 Z\" fill=\"#000000\" fill-rule=\"evenodd\" fill-opacity=\"1\" /><path clip-path=\"url(#clip050)\" d=\"M138.33 963.499 Q134.719 963.499 132.89 967.064 Q131.084 970.605 131.084 977.735 Q131.084 984.841 132.89 988.406 Q134.719 991.948 138.33 991.948 Q141.964 991.948 143.769 988.406 Q145.598 984.841 145.598 977.735 Q145.598 970.605 143.769 967.064 Q141.964 963.499 138.33 963.499 M138.33 959.795 Q144.14 959.795 147.195 964.402 Q150.274 968.985 150.274 977.735 Q150.274 986.462 147.195 991.068 Q144.14 995.651 138.33 995.651 Q132.519 995.651 129.441 991.068 Q126.385 986.462 126.385 977.735 Q126.385 968.985 129.441 964.402 Q132.519 959.795 138.33 959.795 Z\" fill=\"#000000\" fill-rule=\"evenodd\" fill-opacity=\"1\" /><path clip-path=\"url(#clip050)\" d=\"M168.491 963.499 Q164.88 963.499 163.052 967.064 Q161.246 970.605 161.246 977.735 Q161.246 984.841 163.052 988.406 Q164.88 991.948 168.491 991.948 Q172.126 991.948 173.931 988.406 Q175.76 984.841 175.76 977.735 Q175.76 970.605 173.931 967.064 Q172.126 963.499 168.491 963.499 M168.491 959.795 Q174.302 959.795 177.357 964.402 Q180.436 968.985 180.436 977.735 Q180.436 986.462 177.357 991.068 Q174.302 995.651 168.491 995.651 Q162.681 995.651 159.603 991.068 Q156.547 986.462 156.547 977.735 Q156.547 968.985 159.603 964.402 Q162.681 959.795 168.491 959.795 Z\" fill=\"#000000\" fill-rule=\"evenodd\" fill-opacity=\"1\" /><path clip-path=\"url(#clip050)\" d=\"M63.9319 688.865 Q60.3208 688.865 58.4921 692.429 Q56.6865 695.971 56.6865 703.101 Q56.6865 710.207 58.4921 713.772 Q60.3208 717.314 63.9319 717.314 Q67.5661 717.314 69.3717 713.772 Q71.2004 710.207 71.2004 703.101 Q71.2004 695.971 69.3717 692.429 Q67.5661 688.865 63.9319 688.865 M63.9319 685.161 Q69.742 685.161 72.7976 689.767 Q75.8763 694.351 75.8763 703.101 Q75.8763 711.827 72.7976 716.434 Q69.742 721.017 63.9319 721.017 Q58.1217 721.017 55.043 716.434 Q51.9875 711.827 51.9875 703.101 Q51.9875 694.351 55.043 689.767 Q58.1217 685.161 63.9319 685.161 Z\" fill=\"#000000\" fill-rule=\"evenodd\" fill-opacity=\"1\" /><path clip-path=\"url(#clip050)\" d=\"M84.0938 714.466 L88.978 714.466 L88.978 720.346 L84.0938 720.346 L84.0938 714.466 Z\" fill=\"#000000\" fill-rule=\"evenodd\" fill-opacity=\"1\" /><path clip-path=\"url(#clip050)\" d=\"M103.191 716.411 L119.51 716.411 L119.51 720.346 L97.566 720.346 L97.566 716.411 Q100.228 713.656 104.811 709.027 Q109.418 704.374 110.598 703.031 Q112.844 700.508 113.723 698.772 Q114.626 697.013 114.626 695.323 Q114.626 692.568 112.682 690.832 Q110.76 689.096 107.658 689.096 Q105.459 689.096 103.006 689.86 Q100.575 690.624 97.7974 692.175 L97.7974 687.453 Q100.621 686.318 103.075 685.74 Q105.529 685.161 107.566 685.161 Q112.936 685.161 116.131 687.846 Q119.325 690.531 119.325 695.022 Q119.325 697.152 118.515 699.073 Q117.728 700.971 115.621 703.564 Q115.043 704.235 111.941 707.453 Q108.839 710.647 103.191 716.411 Z\" fill=\"#000000\" fill-rule=\"evenodd\" fill-opacity=\"1\" /><path clip-path=\"url(#clip050)\" d=\"M133.353 716.411 L149.672 716.411 L149.672 720.346 L127.728 720.346 L127.728 716.411 Q130.39 713.656 134.973 709.027 Q139.58 704.374 140.76 703.031 Q143.006 700.508 143.885 698.772 Q144.788 697.013 144.788 695.323 Q144.788 692.568 142.843 690.832 Q140.922 689.096 137.82 689.096 Q135.621 689.096 133.168 689.86 Q130.737 690.624 127.959 692.175 L127.959 687.453 Q130.783 686.318 133.237 685.74 Q135.691 685.161 137.728 685.161 Q143.098 685.161 146.293 687.846 Q149.487 690.531 149.487 695.022 Q149.487 697.152 148.677 699.073 Q147.89 700.971 145.783 703.564 Q145.205 704.235 142.103 707.453 Q139.001 710.647 133.353 716.411 Z\" fill=\"#000000\" fill-rule=\"evenodd\" fill-opacity=\"1\" /><path clip-path=\"url(#clip050)\" d=\"M159.533 685.786 L177.89 685.786 L177.89 689.721 L163.816 689.721 L163.816 698.193 Q164.834 697.846 165.853 697.684 Q166.871 697.499 167.89 697.499 Q173.677 697.499 177.056 700.67 Q180.436 703.841 180.436 709.258 Q180.436 714.837 176.964 717.939 Q173.491 721.017 167.172 721.017 Q164.996 721.017 162.728 720.647 Q160.482 720.277 158.075 719.536 L158.075 714.837 Q160.158 715.971 162.38 716.527 Q164.603 717.082 167.079 717.082 Q171.084 717.082 173.422 714.976 Q175.76 712.869 175.76 709.258 Q175.76 705.647 173.422 703.541 Q171.084 701.434 167.079 701.434 Q165.204 701.434 163.329 701.851 Q161.478 702.267 159.533 703.147 L159.533 685.786 Z\" fill=\"#000000\" fill-rule=\"evenodd\" fill-opacity=\"1\" /><path clip-path=\"url(#clip050)\" d=\"M62.9365 414.231 Q59.3254 414.231 57.4967 417.795 Q55.6912 421.337 55.6912 428.467 Q55.6912 435.573 57.4967 439.138 Q59.3254 442.679 62.9365 442.679 Q66.5707 442.679 68.3763 439.138 Q70.205 435.573 70.205 428.467 Q70.205 421.337 68.3763 417.795 Q66.5707 414.231 62.9365 414.231 M62.9365 410.527 Q68.7467 410.527 71.8022 415.133 Q74.8809 419.717 74.8809 428.467 Q74.8809 437.193 71.8022 441.8 Q68.7467 446.383 62.9365 446.383 Q57.1264 446.383 54.0477 441.8 Q50.9921 437.193 50.9921 428.467 Q50.9921 419.717 54.0477 415.133 Q57.1264 410.527 62.9365 410.527 Z\" fill=\"#000000\" fill-rule=\"evenodd\" fill-opacity=\"1\" /><path clip-path=\"url(#clip050)\" d=\"M83.0984 439.832 L87.9827 439.832 L87.9827 445.712 L83.0984 445.712 L83.0984 439.832 Z\" fill=\"#000000\" fill-rule=\"evenodd\" fill-opacity=\"1\" /><path clip-path=\"url(#clip050)\" d=\"M102.196 441.777 L118.515 441.777 L118.515 445.712 L96.5706 445.712 L96.5706 441.777 Q99.2326 439.022 103.816 434.392 Q108.422 429.74 109.603 428.397 Q111.848 425.874 112.728 424.138 Q113.631 422.379 113.631 420.689 Q113.631 417.934 111.686 416.198 Q109.765 414.462 106.663 414.462 Q104.464 414.462 102.01 415.226 Q99.5798 415.99 96.8021 417.541 L96.8021 412.818 Q99.6261 411.684 102.08 411.106 Q104.534 410.527 106.571 410.527 Q111.941 410.527 115.135 413.212 Q118.33 415.897 118.33 420.388 Q118.33 422.518 117.52 424.439 Q116.733 426.337 114.626 428.93 Q114.047 429.601 110.946 432.818 Q107.844 436.013 102.196 441.777 Z\" fill=\"#000000\" fill-rule=\"evenodd\" fill-opacity=\"1\" /><path clip-path=\"url(#clip050)\" d=\"M128.376 411.152 L146.732 411.152 L146.732 415.087 L132.658 415.087 L132.658 423.559 Q133.677 423.212 134.695 423.05 Q135.714 422.865 136.732 422.865 Q142.519 422.865 145.899 426.036 Q149.279 429.207 149.279 434.624 Q149.279 440.203 145.806 443.304 Q142.334 446.383 136.015 446.383 Q133.839 446.383 131.57 446.013 Q129.325 445.642 126.918 444.902 L126.918 440.203 Q129.001 441.337 131.223 441.892 Q133.445 442.448 135.922 442.448 Q139.927 442.448 142.265 440.341 Q144.603 438.235 144.603 434.624 Q144.603 431.013 142.265 428.906 Q139.927 426.8 135.922 426.8 Q134.047 426.8 132.172 427.217 Q130.32 427.633 128.376 428.513 L128.376 411.152 Z\" fill=\"#000000\" fill-rule=\"evenodd\" fill-opacity=\"1\" /><path clip-path=\"url(#clip050)\" d=\"M168.491 414.231 Q164.88 414.231 163.052 417.795 Q161.246 421.337 161.246 428.467 Q161.246 435.573 163.052 439.138 Q164.88 442.679 168.491 442.679 Q172.126 442.679 173.931 439.138 Q175.76 435.573 175.76 428.467 Q175.76 421.337 173.931 417.795 Q172.126 414.231 168.491 414.231 M168.491 410.527 Q174.302 410.527 177.357 415.133 Q180.436 419.717 180.436 428.467 Q180.436 437.193 177.357 441.8 Q174.302 446.383 168.491 446.383 Q162.681 446.383 159.603 441.8 Q156.547 437.193 156.547 428.467 Q156.547 419.717 159.603 415.133 Q162.681 410.527 168.491 410.527 Z\" fill=\"#000000\" fill-rule=\"evenodd\" fill-opacity=\"1\" /><path clip-path=\"url(#clip050)\" d=\"M63.9319 139.596 Q60.3208 139.596 58.4921 143.161 Q56.6865 146.703 56.6865 153.832 Q56.6865 160.939 58.4921 164.504 Q60.3208 168.045 63.9319 168.045 Q67.5661 168.045 69.3717 164.504 Q71.2004 160.939 71.2004 153.832 Q71.2004 146.703 69.3717 143.161 Q67.5661 139.596 63.9319 139.596 M63.9319 135.893 Q69.742 135.893 72.7976 140.499 Q75.8763 145.082 75.8763 153.832 Q75.8763 162.559 72.7976 167.166 Q69.742 171.749 63.9319 171.749 Q58.1217 171.749 55.043 167.166 Q51.9875 162.559 51.9875 153.832 Q51.9875 145.082 55.043 140.499 Q58.1217 135.893 63.9319 135.893 Z\" fill=\"#000000\" fill-rule=\"evenodd\" fill-opacity=\"1\" /><path clip-path=\"url(#clip050)\" d=\"M84.0938 165.198 L88.978 165.198 L88.978 171.078 L84.0938 171.078 L84.0938 165.198 Z\" fill=\"#000000\" fill-rule=\"evenodd\" fill-opacity=\"1\" /><path clip-path=\"url(#clip050)\" d=\"M103.191 167.143 L119.51 167.143 L119.51 171.078 L97.566 171.078 L97.566 167.143 Q100.228 164.388 104.811 159.758 Q109.418 155.106 110.598 153.763 Q112.844 151.24 113.723 149.504 Q114.626 147.744 114.626 146.055 Q114.626 143.3 112.682 141.564 Q110.76 139.828 107.658 139.828 Q105.459 139.828 103.006 140.592 Q100.575 141.356 97.7974 142.907 L97.7974 138.184 Q100.621 137.05 103.075 136.471 Q105.529 135.893 107.566 135.893 Q112.936 135.893 116.131 138.578 Q119.325 141.263 119.325 145.754 Q119.325 147.883 118.515 149.805 Q117.728 151.703 115.621 154.295 Q115.043 154.967 111.941 158.184 Q108.839 161.379 103.191 167.143 Z\" fill=\"#000000\" fill-rule=\"evenodd\" fill-opacity=\"1\" /><path clip-path=\"url(#clip050)\" d=\"M128.144 136.518 L150.367 136.518 L150.367 138.508 L137.82 171.078 L132.936 171.078 L144.742 140.453 L128.144 140.453 L128.144 136.518 Z\" fill=\"#000000\" fill-rule=\"evenodd\" fill-opacity=\"1\" /><path clip-path=\"url(#clip050)\" d=\"M159.533 136.518 L177.89 136.518 L177.89 140.453 L163.816 140.453 L163.816 148.925 Q164.834 148.578 165.853 148.416 Q166.871 148.231 167.89 148.231 Q173.677 148.231 177.056 151.402 Q180.436 154.573 180.436 159.99 Q180.436 165.568 176.964 168.67 Q173.491 171.749 167.172 171.749 Q164.996 171.749 162.728 171.379 Q160.482 171.008 158.075 170.268 L158.075 165.568 Q160.158 166.703 162.38 167.258 Q164.603 167.814 167.079 167.814 Q171.084 167.814 173.422 165.707 Q175.76 163.601 175.76 159.99 Q175.76 156.379 173.422 154.272 Q171.084 152.166 167.079 152.166 Q165.204 152.166 163.329 152.582 Q161.478 152.999 159.533 153.879 L159.533 136.518 Z\" fill=\"#000000\" fill-rule=\"evenodd\" fill-opacity=\"1\" /><polyline clip-path=\"url(#clip052)\" style=\"stroke:#009af9; stroke-linecap:butt; stroke-linejoin:round; stroke-width:4; stroke-opacity:1; fill:none\" points=\"\n",
       "  276.898,87.9763 286.739,97.4413 296.58,106.895 387.574,193.768 478.568,279.678 505.91,305.306 533.252,327.278 560.594,331.007 587.936,335.175 634.17,343.207 \n",
       "  680.405,352.447 780.852,376.544 873.455,403.435 923.095,419.618 972.735,448.086 1030.25,495.109 1087.76,542.133 1189.98,625.71 1279.62,699 1377.35,778.905 \n",
       "  1475.67,859.286 1584.36,948.157 1687.78,1032.71 1795.32,1119.14 1885.84,1174.55 1996.35,1244.76 2100.24,1313.22 2266.68,1427.62 2292.29,1445.72 \n",
       "  \"/>\n",
       "<path clip-path=\"url(#clip050)\" d=\"\n",
       "M1991.75 198.898 L2281.55 198.898 L2281.55 95.2176 L1991.75 95.2176  Z\n",
       "  \" fill=\"#ffffff\" fill-rule=\"evenodd\" fill-opacity=\"1\"/>\n",
       "<polyline clip-path=\"url(#clip050)\" style=\"stroke:#000000; stroke-linecap:butt; stroke-linejoin:round; stroke-width:4; stroke-opacity:1; fill:none\" points=\"\n",
       "  1991.75,198.898 2281.55,198.898 2281.55,95.2176 1991.75,95.2176 1991.75,198.898 \n",
       "  \"/>\n",
       "<polyline clip-path=\"url(#clip050)\" style=\"stroke:#009af9; stroke-linecap:butt; stroke-linejoin:round; stroke-width:4; stroke-opacity:1; fill:none\" points=\"\n",
       "  2015.48,147.058 2157.9,147.058 \n",
       "  \"/>\n",
       "<path clip-path=\"url(#clip050)\" d=\"M2195.48 166.745 Q2193.68 171.375 2191.97 172.787 Q2190.25 174.199 2187.38 174.199 L2183.98 174.199 L2183.98 170.634 L2186.48 170.634 Q2188.24 170.634 2189.21 169.8 Q2190.18 168.967 2191.36 165.865 L2192.13 163.921 L2181.64 138.412 L2186.16 138.412 L2194.26 158.689 L2202.36 138.412 L2206.87 138.412 L2195.48 166.745 Z\" fill=\"#000000\" fill-rule=\"evenodd\" fill-opacity=\"1\" /><path clip-path=\"url(#clip050)\" d=\"M2214.16 160.402 L2221.8 160.402 L2221.8 134.037 L2213.49 135.703 L2213.49 131.444 L2221.76 129.778 L2226.43 129.778 L2226.43 160.402 L2234.07 160.402 L2234.07 164.338 L2214.16 164.338 L2214.16 160.402 Z\" fill=\"#000000\" fill-rule=\"evenodd\" fill-opacity=\"1\" /></svg>\n"
      ]
     },
     "execution_count": 19,
     "metadata": {},
     "output_type": "execute_result"
    }
   ],
   "source": [
    "plot(prof(lambda => 1/2,w_2 => 1/2,y_1 => 1),0.6,.8)"
   ]
  },
  {
   "cell_type": "code",
   "execution_count": 20,
   "id": "5f23472f-fc9a-44e3-9ea0-3337eb62f06f",
   "metadata": {},
   "outputs": [
    {
     "data": {
      "text/latex": [
       "$\\begin{equation*}\\frac{\\left(w_{1} + w_{2}\\right)^{2} \\left(\\left(- \\lambda \\max\\left(0, \\min\\left(1, \\frac{\\lambda w_{2} + 2 w_{1} - 2 w_{2}}{\\lambda \\left(w_{1} + w_{2}\\right)}\\right)\\right) + \\left(\\lambda - 1\\right) \\max\\left(0, \\min\\left(1, \\frac{2 \\lambda w_{1} \\max\\left(0, \\min\\left(1, \\frac{\\lambda w_{2} + 2 w_{1} - 2 w_{2}}{\\lambda \\left(w_{1} + w_{2}\\right)}\\right)\\right) + 2 \\lambda w_{2} \\max\\left(0, \\min\\left(1, \\frac{\\lambda w_{2} + 2 w_{1} - 2 w_{2}}{\\lambda \\left(w_{1} + w_{2}\\right)}\\right)\\right) - \\lambda w_{2} - 2 w_{1} + w_{2}}{\\lambda w_{1} + \\lambda w_{2} - w_{1} - w_{2}}\\right)\\right) + 1\\right)^{2} - 1\\right) \\left(\\lambda w_{1} + \\lambda w_{2} - w_{1} - w_{2}\\right)^{2} - 2 \\left(w_{1} - y_{1}\\right) \\left(w_{2} \\left(4 - \\lambda\\right) \\left(\\lambda w_{1} + \\lambda w_{2} - w_{1} - w_{2}\\right)^{2} \\theta\\left(\\frac{\\lambda w_{1} - 2 w_{1} + 2 w_{2}}{\\lambda \\left(w_{1} + w_{2}\\right)}\\right) \\theta\\left(\\min\\left(1, \\frac{\\lambda w_{2} + 2 w_{1} - 2 w_{2}}{\\lambda \\left(w_{1} + w_{2}\\right)}\\right)\\right) + \\left(\\lambda - 1\\right) \\left(\\left(\\lambda - 1\\right) \\left(w_{1} + w_{2}\\right)^{2} \\left(2 \\lambda w_{1} \\max\\left(0, \\min\\left(1, \\frac{\\lambda w_{2} + 2 w_{1} - 2 w_{2}}{\\lambda \\left(w_{1} + w_{2}\\right)}\\right)\\right) + 2 \\lambda w_{2} \\max\\left(0, \\min\\left(1, \\frac{\\lambda w_{2} + 2 w_{1} - 2 w_{2}}{\\lambda \\left(w_{1} + w_{2}\\right)}\\right)\\right) - \\lambda w_{2} - 2 w_{1} + w_{2}\\right) + 2 \\left(- w_{1} w_{2} \\left(4 - \\lambda\\right) \\theta\\left(\\frac{\\lambda w_{1} - 2 w_{1} + 2 w_{2}}{\\lambda \\left(w_{1} + w_{2}\\right)}\\right) \\theta\\left(\\min\\left(1, \\frac{\\lambda w_{2} + 2 w_{1} - 2 w_{2}}{\\lambda \\left(w_{1} + w_{2}\\right)}\\right)\\right) - w_{2}^{2} \\left(4 - \\lambda\\right) \\theta\\left(\\frac{\\lambda w_{1} - 2 w_{1} + 2 w_{2}}{\\lambda \\left(w_{1} + w_{2}\\right)}\\right) \\theta\\left(\\min\\left(1, \\frac{\\lambda w_{2} + 2 w_{1} - 2 w_{2}}{\\lambda \\left(w_{1} + w_{2}\\right)}\\right)\\right) + \\left(w_{1} + w_{2}\\right)^{2} \\left(- \\lambda \\max\\left(0, \\min\\left(1, \\frac{\\lambda w_{2} + 2 w_{1} - 2 w_{2}}{\\lambda \\left(w_{1} + w_{2}\\right)}\\right)\\right) + 1\\right)\\right) \\left(\\lambda w_{1} + \\lambda w_{2} - w_{1} - w_{2}\\right)\\right) \\theta\\left(\\frac{- 2 \\lambda w_{1} \\max\\left(0, \\min\\left(1, \\frac{\\lambda w_{2} + 2 w_{1} - 2 w_{2}}{\\lambda \\left(w_{1} + w_{2}\\right)}\\right)\\right) + \\lambda w_{1} - 2 \\lambda w_{2} \\max\\left(0, \\min\\left(1, \\frac{\\lambda w_{2} + 2 w_{1} - 2 w_{2}}{\\lambda \\left(w_{1} + w_{2}\\right)}\\right)\\right) + 2 \\lambda w_{2} + w_{1} - 2 w_{2}}{\\lambda w_{1} + \\lambda w_{2} - w_{1} - w_{2}}\\right) \\theta\\left(\\min\\left(1, \\frac{2 \\lambda w_{1} \\max\\left(0, \\min\\left(1, \\frac{\\lambda w_{2} + 2 w_{1} - 2 w_{2}}{\\lambda \\left(w_{1} + w_{2}\\right)}\\right)\\right) + 2 \\lambda w_{2} \\max\\left(0, \\min\\left(1, \\frac{\\lambda w_{2} + 2 w_{1} - 2 w_{2}}{\\lambda \\left(w_{1} + w_{2}\\right)}\\right)\\right) - \\lambda w_{2} - 2 w_{1} + w_{2}}{\\lambda w_{1} + \\lambda w_{2} - w_{1} - w_{2}}\\right)\\right)\\right) \\left(- \\lambda \\max\\left(0, \\min\\left(1, \\frac{\\lambda w_{2} + 2 w_{1} - 2 w_{2}}{\\lambda \\left(w_{1} + w_{2}\\right)}\\right)\\right) + \\left(\\lambda - 1\\right) \\max\\left(0, \\min\\left(1, \\frac{2 \\lambda w_{1} \\max\\left(0, \\min\\left(1, \\frac{\\lambda w_{2} + 2 w_{1} - 2 w_{2}}{\\lambda \\left(w_{1} + w_{2}\\right)}\\right)\\right) + 2 \\lambda w_{2} \\max\\left(0, \\min\\left(1, \\frac{\\lambda w_{2} + 2 w_{1} - 2 w_{2}}{\\lambda \\left(w_{1} + w_{2}\\right)}\\right)\\right) - \\lambda w_{2} - 2 w_{1} + w_{2}}{\\lambda w_{1} + \\lambda w_{2} - w_{1} - w_{2}}\\right)\\right) + 1\\right)}{\\left(w_{1} + w_{2}\\right)^{2} \\left(\\lambda w_{1} + \\lambda w_{2} - w_{1} - w_{2}\\right)^{2}}\\end{equation*}$\n"
      ],
      "text/plain": [
       "         2 ⎛                                                                  \n",
       "(w₁ + w₂) ⋅⎝(-λ⋅Max(0, Min(1, (lambda*w_2 + 2*w_1 - 2*w_2)/(lambda*(w_1 + w_2)\n",
       "                                                                              \n",
       "──────────────────────────────────────────────────────────────────────────────\n",
       "                                                                              \n",
       "                                                                              \n",
       "\n",
       "                                                                              \n",
       "))) + (λ - 1)⋅Max(0, Min(1, (2*lambda*w_1*Max(0, Min(1, (lambda*w_2 + 2*w_1 - \n",
       "                                                                              \n",
       "──────────────────────────────────────────────────────────────────────────────\n",
       "                                                                              \n",
       "                                                                              \n",
       "\n",
       "                                                                              \n",
       "2*w_2)/(lambda*(w_1 + w_2)))) + 2*lambda*w_2*Max(0, Min(1, (lambda*w_2 + 2*w_1\n",
       "                                                                              \n",
       "──────────────────────────────────────────────────────────────────────────────\n",
       "                                                                              \n",
       "                                                                              \n",
       "\n",
       "                                                                              \n",
       " - 2*w_2)/(lambda*(w_1 + w_2)))) - lambda*w_2 - 2*w_1 + w_2)/(lambda*w_1 + lam\n",
       "                                                                              \n",
       "──────────────────────────────────────────────────────────────────────────────\n",
       "                                                                              \n",
       "                                                                              \n",
       "\n",
       "                           2    ⎞                        2               ⎛    \n",
       "bda*w_2 - w_1 - w_2))) + 1)  - 1⎠⋅(λ⋅w₁ + λ⋅w₂ - w₁ - w₂)  - 2⋅(w₁ - y₁)⋅⎜w₂⋅(\n",
       "                                                                         ⎝    \n",
       "──────────────────────────────────────────────────────────────────────────────\n",
       "                                                                              \n",
       "                                                                              \n",
       "\n",
       "                              2  ⎛λ⋅w₁ - 2⋅w₁ + 2⋅w₂⎞                         \n",
       "4 - λ)⋅(λ⋅w₁ + λ⋅w₂ - w₁ - w₂) ⋅θ⎜──────────────────⎟⋅θ(Min(1, (lambda*w_2 + 2\n",
       "                                 ⎝   λ⋅(w₁ + w₂)    ⎠                         \n",
       "──────────────────────────────────────────────────────────────────────────────\n",
       "                                                                              \n",
       "                                                                              \n",
       "\n",
       "                                               ⎛                 2            \n",
       "*w_1 - 2*w_2)/(lambda*(w_1 + w_2)))) + (λ - 1)⋅⎜(λ - 1)⋅(w₁ + w₂) ⋅(2⋅λ⋅w₁⋅Max\n",
       "                                               ⎝                              \n",
       "──────────────────────────────────────────────────────────────────────────────\n",
       "                                                                              \n",
       "                                                                              \n",
       "\n",
       "                                                                              \n",
       "(0, Min(1, (lambda*w_2 + 2*w_1 - 2*w_2)/(lambda*(w_1 + w_2)))) + 2⋅λ⋅w₂⋅Max(0,\n",
       "                                                                              \n",
       "──────────────────────────────────────────────────────────────────────────────\n",
       "                                                                              \n",
       "                                                                              \n",
       "\n",
       "                                                                              \n",
       " Min(1, (lambda*w_2 + 2*w_1 - 2*w_2)/(lambda*(w_1 + w_2)))) - λ⋅w₂ - 2⋅w₁ + w₂\n",
       "                                                                              \n",
       "──────────────────────────────────────────────────────────────────────────────\n",
       "                                                                              \n",
       "                                                                              \n",
       "\n",
       "      ⎛                 ⎛λ⋅w₁ - 2⋅w₁ + 2⋅w₂⎞                                  \n",
       ") + 2⋅⎜- w₁⋅w₂⋅(4 - λ)⋅θ⎜──────────────────⎟⋅θ(Min(1, (lambda*w_2 + 2*w_1 - 2*\n",
       "      ⎝                 ⎝   λ⋅(w₁ + w₂)    ⎠                                  \n",
       "──────────────────────────────────────────────────────────────────────────────\n",
       "                                                                              \n",
       "                                                                              \n",
       "\n",
       "                                2          ⎛λ⋅w₁ - 2⋅w₁ + 2⋅w₂⎞               \n",
       "w_2)/(lambda*(w_1 + w_2)))) - w₂ ⋅(4 - λ)⋅θ⎜──────────────────⎟⋅θ(Min(1, (lamb\n",
       "                                           ⎝   λ⋅(w₁ + w₂)    ⎠               \n",
       "──────────────────────────────────────────────────────────────────────────────\n",
       "                                                                              \n",
       "                                                                              \n",
       "\n",
       "                                                          2                   \n",
       "da*w_2 + 2*w_1 - 2*w_2)/(lambda*(w_1 + w_2)))) + (w₁ + w₂) ⋅(-λ⋅Max(0, Min(1, \n",
       "                                                                              \n",
       "──────────────────────────────────────────────────────────────────────────────\n",
       "                2                        2                                    \n",
       "       (w₁ + w₂) ⋅(λ⋅w₁ + λ⋅w₂ - w₁ - w₂)                                     \n",
       "\n",
       "                                                        ⎞                     \n",
       "(lambda*w_2 + 2*w_1 - 2*w_2)/(lambda*(w_1 + w_2)))) + 1)⎟⋅(λ⋅w₁ + λ⋅w₂ - w₁ - \n",
       "                                                        ⎠                     \n",
       "──────────────────────────────────────────────────────────────────────────────\n",
       "                                                                              \n",
       "                                                                              \n",
       "\n",
       "   ⎞  ⎛-2⋅λ⋅w₁⋅Max(0, Min(1, (lambda*w_2 + 2*w_1 - 2*w_2)/(lambda*(w_1 + w_2))\n",
       "w₂)⎟⋅θ⎜───────────────────────────────────────────────────────────────────────\n",
       "   ⎠  ⎝                                                                       \n",
       "──────────────────────────────────────────────────────────────────────────────\n",
       "                                                                              \n",
       "                                                                              \n",
       "\n",
       ")) + λ⋅w₁ - 2⋅λ⋅w₂⋅Max(0, Min(1, (lambda*w_2 + 2*w_1 - 2*w_2)/(lambda*(w_1 + w\n",
       "──────────────────────────────────────────────────────────────────────────────\n",
       "      λ⋅w₁ + λ⋅w₂ - w₁ - w₂                                                   \n",
       "──────────────────────────────────────────────────────────────────────────────\n",
       "                                                                              \n",
       "                                                                              \n",
       "\n",
       "_2)))) + 2⋅λ⋅w₂ + w₁ - 2⋅w₂⎞                                                  \n",
       "───────────────────────────⎟⋅θ(Min(1, (2*lambda*w_1*Max(0, Min(1, (lambda*w_2 \n",
       "                           ⎠                                                  \n",
       "──────────────────────────────────────────────────────────────────────────────\n",
       "                                                                              \n",
       "                                                                              \n",
       "\n",
       "                                                                              \n",
       "+ 2*w_1 - 2*w_2)/(lambda*(w_1 + w_2)))) + 2*lambda*w_2*Max(0, Min(1, (lambda*w\n",
       "                                                                              \n",
       "──────────────────────────────────────────────────────────────────────────────\n",
       "                                                                              \n",
       "                                                                              \n",
       "\n",
       "                                                                              \n",
       "_2 + 2*w_1 - 2*w_2)/(lambda*(w_1 + w_2)))) - lambda*w_2 - 2*w_1 + w_2)/(lambda\n",
       "                                                                              \n",
       "──────────────────────────────────────────────────────────────────────────────\n",
       "                                                                              \n",
       "                                                                              \n",
       "\n",
       "                                ⎞                                             \n",
       "*w_1 + lambda*w_2 - w_1 - w_2)))⎟⋅(-λ⋅Max(0, Min(1, (lambda*w_2 + 2*w_1 - 2*w_\n",
       "                                ⎠                                             \n",
       "──────────────────────────────────────────────────────────────────────────────\n",
       "                                                                              \n",
       "                                                                              \n",
       "\n",
       "                                                                              \n",
       "2)/(lambda*(w_1 + w_2)))) + (λ - 1)⋅Max(0, Min(1, (2*lambda*w_1*Max(0, Min(1, \n",
       "                                                                              \n",
       "──────────────────────────────────────────────────────────────────────────────\n",
       "                                                                              \n",
       "                                                                              \n",
       "\n",
       "                                                                              \n",
       "(lambda*w_2 + 2*w_1 - 2*w_2)/(lambda*(w_1 + w_2)))) + 2*lambda*w_2*Max(0, Min(\n",
       "                                                                              \n",
       "──────────────────────────────────────────────────────────────────────────────\n",
       "                                                                              \n",
       "                                                                              \n",
       "\n",
       "                                                                              \n",
       "1, (lambda*w_2 + 2*w_1 - 2*w_2)/(lambda*(w_1 + w_2)))) - lambda*w_2 - 2*w_1 + \n",
       "                                                                              \n",
       "──────────────────────────────────────────────────────────────────────────────\n",
       "                                                                              \n",
       "                                                                              \n",
       "\n",
       "                                                 \n",
       "w_2)/(lambda*w_1 + lambda*w_2 - w_1 - w_2))) + 1)\n",
       "                                                 \n",
       "─────────────────────────────────────────────────\n",
       "                                                 \n",
       "                                                 "
      ]
     },
     "execution_count": 20,
     "metadata": {},
     "output_type": "execute_result"
    }
   ],
   "source": [
    "dprof = simplify(diff(prof,w_1))"
   ]
  },
  {
   "cell_type": "code",
   "execution_count": 21,
   "id": "108e7cfa-58a6-4a47-894e-d936f8137e7d",
   "metadata": {},
   "outputs": [
    {
     "data": {
      "text/latex": [
       "$\\begin{equation*}\\frac{0.25 \\left(- 3.0 w_{2}^{4} + 1.0 w_{2}^{3} \\left(w_{2} - y_{1}\\right)\\right)}{w_{2}^{4}}\\end{equation*}$\n"
      ],
      "text/plain": [
       "     ⎛        4         3          ⎞\n",
       "0.25⋅⎝- 3.0⋅w₂  + 1.0⋅w₂ ⋅(w₂ - y₁)⎠\n",
       "────────────────────────────────────\n",
       "                  4                 \n",
       "                w₂                  "
      ]
     },
     "execution_count": 21,
     "metadata": {},
     "output_type": "execute_result"
    }
   ],
   "source": [
    "dprof(w_1 => w_2, lambda => 1/2)"
   ]
  }
 ],
 "metadata": {
  "kernelspec": {
   "display_name": "Julia 1.11.2",
   "language": "julia",
   "name": "julia-1.11"
  },
  "language_info": {
   "file_extension": ".jl",
   "mimetype": "application/julia",
   "name": "julia",
   "version": "1.11.2"
  }
 },
 "nbformat": 4,
 "nbformat_minor": 5
}
