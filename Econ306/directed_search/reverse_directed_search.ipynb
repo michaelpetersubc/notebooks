{
 "cells": [
  {
   "cell_type": "markdown",
   "id": "f1bf0e55-0b5a-45a2-b30f-efdc4696162c",
   "metadata": {},
   "source": [
    "## Trading Probability and Surplus\n",
    "\n",
    "The point of this notebook is to compute the average number of trades and the expected surplus in the reverse directed search model 2 tier case.  The question is what happens when the difference in quality  between the 2 tiers increases.  This is part of a bigger question about what happens when the accuracy of the mapinator classification improves.  Does this create enough friction (competition for the top tier candates) to make things worse off."
   ]
  },
  {
   "cell_type": "code",
   "execution_count": 1,
   "id": "dbf3805c-336e-4160-b090-f5c68f45ac74",
   "metadata": {},
   "outputs": [
    {
     "data": {
      "text/plain": [
       "(x, z, y, v_1, v_2, n, m_1, m_2)"
      ]
     },
     "execution_count": 1,
     "metadata": {},
     "output_type": "execute_result"
    }
   ],
   "source": [
    "using SymPy, Plots\n",
    "x,z,y, v_1, v_2, n, m_1, m_2 = symbols(\"x,z,y, v_1, v_2, n, m_1, m_2\")"
   ]
  },
  {
   "cell_type": "markdown",
   "id": "5d7d90c0-c269-47bc-ae6a-d38f9d5857c5",
   "metadata": {},
   "source": [
    "There are two functions\n",
    "$$\n",
    "Q_1(x) = (1-\\overline{\\pi}\\frac{(F(x^\\ast)-F(x))}{m_1}-\\frac{1-F(x^\\ast)}{m_1})^{(n-1)}\n",
    "$$\n",
    "when $x<x^\\ast$ and\n",
    "$$\n",
    "Q_1(x) = (1-(\\frac{1-F(x)}{m_1}))^{n-1}\n",
    "$$\n",
    "otherwise."
   ]
  },
  {
   "cell_type": "code",
   "execution_count": 2,
   "id": "a44a63f2-930f-432a-a9fa-10380178b945",
   "metadata": {},
   "outputs": [
    {
     "data": {
      "text/latex": [
       "$m_{1} \\left(\\frac{v_{2}}{v_{1}}\\right)^{\\frac{1}{n - 1}} - m_{1} + 1$"
      ],
      "text/plain": [
       "         1           \n",
       "       ─────         \n",
       "       n - 1         \n",
       "   ⎛v₂⎞              \n",
       "m₁⋅⎜──⎟      - m₁ + 1\n",
       "   ⎝v₁⎠              "
      ]
     },
     "execution_count": 2,
     "metadata": {},
     "output_type": "execute_result"
    }
   ],
   "source": [
    "# find the cutoff\n",
    "rhs = v_1*((1-(1-y)/(m_1))^(n-1))\n",
    "z=solve(v_2-rhs,y)[1]"
   ]
  },
  {
   "cell_type": "code",
   "execution_count": 3,
   "id": "0ac1383b-6a95-407f-bd46-e26f7cac50c8",
   "metadata": {},
   "outputs": [
    {
     "data": {
      "text/latex": [
       "$\\frac{m_{1} \\left(\\frac{v_{2}}{v_{1}}\\right)^{\\frac{1}{n - 1}}}{m_{2} \\left(\\frac{m_{1} \\left(\\frac{v_{2}}{v_{1}}\\right)^{\\frac{1}{n - 1}}}{m_{2}} + 1\\right)}$"
      ],
      "text/plain": [
       "              1      \n",
       "            ─────    \n",
       "            n - 1    \n",
       "        ⎛v₂⎞         \n",
       "     m₁⋅⎜──⎟         \n",
       "        ⎝v₁⎠         \n",
       "─────────────────────\n",
       "   ⎛         1      ⎞\n",
       "   ⎜       ─────    ⎟\n",
       "   ⎜       n - 1    ⎟\n",
       "   ⎜   ⎛v₂⎞         ⎟\n",
       "   ⎜m₁⋅⎜──⎟         ⎟\n",
       "   ⎜   ⎝v₁⎠         ⎟\n",
       "m₂⋅⎜──────────── + 1⎟\n",
       "   ⎝     m₂         ⎠"
      ]
     },
     "execution_count": 3,
     "metadata": {},
     "output_type": "execute_result"
    }
   ],
   "source": [
    "\n",
    "pi =(v_2/v_1)^(1/(n-1))*m_1/m_2/(1+(v_2/v_1)^(1/(n-1))*m_1/m_2)"
   ]
  },
  {
   "cell_type": "code",
   "execution_count": 4,
   "id": "63db09cc-07bd-4c4d-bc0d-a7e03c174c4c",
   "metadata": {},
   "outputs": [
    {
     "data": {
      "text/latex": [
       "$\\left(1 - \\frac{\\left(\\frac{v_{2}}{v_{1}}\\right)^{\\frac{1}{n - 1}} \\max\\left(0, m_{1} \\left(\\frac{v_{2}}{v_{1}}\\right)^{\\frac{1}{n - 1}} - m_{1} - x + 1\\right)}{m_{2} \\left(\\frac{m_{1} \\left(\\frac{v_{2}}{v_{1}}\\right)^{\\frac{1}{n - 1}}}{m_{2}} + 1\\right)} - \\frac{1 - \\max\\left(x, m_{1} \\left(\\frac{v_{2}}{v_{1}}\\right)^{\\frac{1}{n - 1}} - m_{1} + 1\\right)}{m_{1}}\\right)^{n - 1}$"
      ],
      "text/plain": [
       "                                                                              \n",
       "⎛          1                                                                  \n",
       "⎜        ─────                                                                \n",
       "⎜        n - 1                                                                \n",
       "⎜    ⎛v₂⎞                                                                     \n",
       "⎜    ⎜──⎟     ⋅Max(0, m_1*(v_2/v_1)**(1/(n - 1)) - m_1 - x + 1)               \n",
       "⎜    ⎝v₁⎠                                                         1 - Max(x, m\n",
       "⎜1 - ────────────────────────────────────────────────────────── - ────────────\n",
       "⎜                         ⎛         1      ⎞                                  \n",
       "⎜                         ⎜       ─────    ⎟                                  \n",
       "⎜                         ⎜       n - 1    ⎟                                  \n",
       "⎜                         ⎜   ⎛v₂⎞         ⎟                                  \n",
       "⎜                         ⎜m₁⋅⎜──⎟         ⎟                                  \n",
       "⎜                         ⎜   ⎝v₁⎠         ⎟                                  \n",
       "⎜                      m₂⋅⎜──────────── + 1⎟                                  \n",
       "⎝                         ⎝     m₂         ⎠                                  \n",
       "\n",
       "                                     n - 1\n",
       "                                    ⎞     \n",
       "                                    ⎟     \n",
       "                                    ⎟     \n",
       "                                    ⎟     \n",
       "                                    ⎟     \n",
       "_1*(v_2/v_1)**(1/(n - 1)) - m_1 + 1)⎟     \n",
       "────────────────────────────────────⎟     \n",
       "           m₁                       ⎟     \n",
       "                                    ⎟     \n",
       "                                    ⎟     \n",
       "                                    ⎟     \n",
       "                                    ⎟     \n",
       "                                    ⎟     \n",
       "                                    ⎟     \n",
       "                                    ⎠     "
      ]
     },
     "execution_count": 4,
     "metadata": {},
     "output_type": "execute_result"
    }
   ],
   "source": [
    "Q_1 = (1-(max(z-x,0)*pi)/m_1 - ((1-max(z,x))/m_1))^(n-1)"
   ]
  },
  {
   "cell_type": "code",
   "execution_count": 17,
   "id": "7c3c8266-dfd6-4eaa-9e0a-af06821f6ca4",
   "metadata": {},
   "outputs": [
    {
     "data": {
      "text/latex": [
       "$\\begin{cases} \\frac{m_{1} \\left(\\frac{v_{2}}{v_{1}}\\right)^{\\frac{1}{n - 1}}}{m_{2} \\left(\\frac{m_{1} \\left(\\frac{v_{2}}{v_{1}}\\right)^{\\frac{1}{n - 1}}}{m_{2}} + 1\\right)} & \\text{for}\\: x < m_{1} \\left(\\frac{v_{2}}{v_{1}}\\right)^{\\frac{1}{n - 1}} - m_{1} + 1 \\\\1 & \\text{otherwise} \\end{cases}$"
      ],
      "text/plain": [
       "⎧              1                                     \n",
       "⎪            ─────                                   \n",
       "⎪            n - 1                       1           \n",
       "⎪        ⎛v₂⎞                          ─────         \n",
       "⎪     m₁⋅⎜──⎟                          n - 1         \n",
       "⎪        ⎝v₁⎠                      ⎛v₂⎞              \n",
       "⎪─────────────────────  for x < m₁⋅⎜──⎟      - m₁ + 1\n",
       "⎪   ⎛         1      ⎞             ⎝v₁⎠              \n",
       "⎨   ⎜       ─────    ⎟                               \n",
       "⎪   ⎜       n - 1    ⎟                               \n",
       "⎪   ⎜   ⎛v₂⎞         ⎟                               \n",
       "⎪   ⎜m₁⋅⎜──⎟         ⎟                               \n",
       "⎪   ⎜   ⎝v₁⎠         ⎟                               \n",
       "⎪m₂⋅⎜──────────── + 1⎟                               \n",
       "⎪   ⎝     m₂         ⎠                               \n",
       "⎪                                                    \n",
       "⎩          1                      otherwise          "
      ]
     },
     "execution_count": 17,
     "metadata": {},
     "output_type": "execute_result"
    }
   ],
   "source": [
    "pbar = sympy.Piecewise((pi, Lt(x,z)), (1, Ge(x,z)))"
   ]
  },
  {
   "cell_type": "code",
   "execution_count": 23,
   "id": "943c66d0-33c5-4f4b-b0da-956793dfce67",
   "metadata": {},
   "outputs": [
    {
     "data": {
      "text/latex": [
       "$\\left(1 - \\frac{\\left(- \\frac{m_{1} \\left(\\frac{v_{2}}{v_{1}}\\right)^{\\frac{1}{n - 1}}}{m_{2} \\left(\\frac{m_{1} \\left(\\frac{v_{2}}{v_{1}}\\right)^{\\frac{1}{n - 1}}}{m_{2}} + 1\\right)} + 1\\right) \\max\\left(0, m_{1} \\left(\\frac{v_{2}}{v_{1}}\\right)^{\\frac{1}{n - 1}} - m_{1} - x + 1\\right)}{m_{2}}\\right)^{n - 1}$"
      ],
      "text/plain": [
       "                                                                              \n",
       "⎛    ⎛                1          ⎞                                            \n",
       "⎜    ⎜              ─────        ⎟                                            \n",
       "⎜    ⎜              n - 1        ⎟                                            \n",
       "⎜    ⎜          ⎛v₂⎞             ⎟                                            \n",
       "⎜    ⎜       m₁⋅⎜──⎟             ⎟                                            \n",
       "⎜    ⎜          ⎝v₁⎠             ⎟                                            \n",
       "⎜    ⎜- ───────────────────── + 1⎟⋅Max(0, m_1*(v_2/v_1)**(1/(n - 1)) - m_1 - x\n",
       "⎜    ⎜     ⎛         1      ⎞    ⎟                                            \n",
       "⎜    ⎜     ⎜       ─────    ⎟    ⎟                                            \n",
       "⎜    ⎜     ⎜       n - 1    ⎟    ⎟                                            \n",
       "⎜    ⎜     ⎜   ⎛v₂⎞         ⎟    ⎟                                            \n",
       "⎜    ⎜     ⎜m₁⋅⎜──⎟         ⎟    ⎟                                            \n",
       "⎜    ⎜     ⎜   ⎝v₁⎠         ⎟    ⎟                                            \n",
       "⎜    ⎜  m₂⋅⎜──────────── + 1⎟    ⎟                                            \n",
       "⎜    ⎝     ⎝     m₂         ⎠    ⎠                                            \n",
       "⎜1 - ─────────────────────────────────────────────────────────────────────────\n",
       "⎝                                          m₂                                 \n",
       "\n",
       "      n - 1\n",
       "     ⎞     \n",
       "     ⎟     \n",
       "     ⎟     \n",
       "     ⎟     \n",
       "     ⎟     \n",
       "     ⎟     \n",
       " + 1)⎟     \n",
       "     ⎟     \n",
       "     ⎟     \n",
       "     ⎟     \n",
       "     ⎟     \n",
       "     ⎟     \n",
       "     ⎟     \n",
       "     ⎟     \n",
       "     ⎟     \n",
       "─────⎟     \n",
       "     ⎠     "
      ]
     },
     "execution_count": 23,
     "metadata": {},
     "output_type": "execute_result"
    }
   ],
   "source": [
    "Q_2 = (1-max(z-x,0)*(1-pi)/m_2)^(n-1)"
   ]
  },
  {
   "cell_type": "code",
   "execution_count": 8,
   "id": "848d4fc6-a703-408e-b83c-12abbfdcb385",
   "metadata": {},
   "outputs": [
    {
     "data": {
      "text/latex": [
       "$\\left(1 - \\frac{\\left(- \\frac{m_{1} \\left(\\frac{v_{2}}{v_{1}}\\right)^{\\frac{1}{n - 1}}}{m_{2} \\left(\\frac{m_{1} \\left(\\frac{v_{2}}{v_{1}}\\right)^{\\frac{1}{n - 1}}}{m_{2}} + 1\\right)} + 1\\right) \\max\\left(0, m_{1} \\left(\\frac{v_{2}}{v_{1}}\\right)^{\\frac{1}{n - 1}} - m_{1} - x + 1\\right)}{m_{2}}\\right)^{n - 1} \\cdot \\left(1 - \\begin{cases} \\frac{m_{1} \\left(\\frac{v_{2}}{v_{1}}\\right)^{\\frac{1}{n - 1}}}{m_{2} \\left(\\frac{m_{1} \\left(\\frac{v_{2}}{v_{1}}\\right)^{\\frac{1}{n - 1}}}{m_{2}} + 1\\right)} & \\text{for}\\: x < m_{1} \\left(\\frac{v_{2}}{v_{1}}\\right)^{\\frac{1}{n - 1}} - m_{1} + 1 \\\\1 & \\text{for}\\: x > m_{1} \\left(\\frac{v_{2}}{v_{1}}\\right)^{\\frac{1}{n - 1}} - m_{1} + 1 \\end{cases}\\right)$"
      ],
      "text/plain": [
       "                                                                              \n",
       "⎛    ⎛                1          ⎞                                            \n",
       "⎜    ⎜              ─────        ⎟                                            \n",
       "⎜    ⎜              n - 1        ⎟                                            \n",
       "⎜    ⎜          ⎛v₂⎞             ⎟                                            \n",
       "⎜    ⎜       m₁⋅⎜──⎟             ⎟                                            \n",
       "⎜    ⎜          ⎝v₁⎠             ⎟                                            \n",
       "⎜    ⎜- ───────────────────── + 1⎟⋅Max(0, m_1*(v_2/v_1)**(1/(n - 1)) - m_1 - x\n",
       "⎜    ⎜     ⎛         1      ⎞    ⎟                                            \n",
       "⎜    ⎜     ⎜       ─────    ⎟    ⎟                                            \n",
       "⎜    ⎜     ⎜       n - 1    ⎟    ⎟                                            \n",
       "⎜    ⎜     ⎜   ⎛v₂⎞         ⎟    ⎟                                            \n",
       "⎜    ⎜     ⎜m₁⋅⎜──⎟         ⎟    ⎟                                            \n",
       "⎜    ⎜     ⎜   ⎝v₁⎠         ⎟    ⎟                                            \n",
       "⎜    ⎜  m₂⋅⎜──────────── + 1⎟    ⎟                                            \n",
       "⎜    ⎝     ⎝     m₂         ⎠    ⎠                                            \n",
       "⎜1 - ─────────────────────────────────────────────────────────────────────────\n",
       "⎝                                          m₂                                 \n",
       "                                                                              \n",
       "                                                                              \n",
       "                                                                              \n",
       "                                                                              \n",
       "                                                                              \n",
       "                                                                              \n",
       "                                                                              \n",
       "                                                                              \n",
       "                                                                              \n",
       "                                                                              \n",
       "\n",
       "      n - 1                                                              \n",
       "     ⎞                                                                   \n",
       "     ⎟                                                                   \n",
       "     ⎟                                                                   \n",
       "     ⎟                                                                   \n",
       "     ⎟      ⎛    ⎛⎧              1                                     ⎞⎞\n",
       "     ⎟      ⎜    ⎜⎪            ─────                                   ⎟⎟\n",
       " + 1)⎟      ⎜    ⎜⎪            n - 1                       1           ⎟⎟\n",
       "     ⎟      ⎜    ⎜⎪        ⎛v₂⎞                          ─────         ⎟⎟\n",
       "     ⎟      ⎜    ⎜⎪     m₁⋅⎜──⎟                          n - 1         ⎟⎟\n",
       "     ⎟      ⎜    ⎜⎪        ⎝v₁⎠                      ⎛v₂⎞              ⎟⎟\n",
       "     ⎟      ⎜    ⎜⎪─────────────────────  for x < m₁⋅⎜──⎟      - m₁ + 1⎟⎟\n",
       "     ⎟      ⎜    ⎜⎪   ⎛         1      ⎞             ⎝v₁⎠              ⎟⎟\n",
       "     ⎟      ⎜    ⎜⎪   ⎜       ─────    ⎟                               ⎟⎟\n",
       "     ⎟      ⎜    ⎜⎪   ⎜       n - 1    ⎟                               ⎟⎟\n",
       "     ⎟      ⎜    ⎜⎪   ⎜   ⎛v₂⎞         ⎟                               ⎟⎟\n",
       "─────⎟     ⋅⎜1 - ⎜⎨   ⎜m₁⋅⎜──⎟         ⎟                               ⎟⎟\n",
       "     ⎠      ⎜    ⎜⎪   ⎜   ⎝v₁⎠         ⎟                               ⎟⎟\n",
       "            ⎜    ⎜⎪m₂⋅⎜──────────── + 1⎟                               ⎟⎟\n",
       "            ⎜    ⎜⎪   ⎝     m₂         ⎠                               ⎟⎟\n",
       "            ⎜    ⎜⎪                                                    ⎟⎟\n",
       "            ⎜    ⎜⎪                                        1           ⎟⎟\n",
       "            ⎜    ⎜⎪                                      ─────         ⎟⎟\n",
       "            ⎜    ⎜⎪                                      n - 1         ⎟⎟\n",
       "            ⎜    ⎜⎪                                  ⎛v₂⎞              ⎟⎟\n",
       "            ⎜    ⎜⎪          1            for x > m₁⋅⎜──⎟      - m₁ + 1⎟⎟\n",
       "            ⎜    ⎜⎪                                  ⎝v₁⎠              ⎟⎟\n",
       "            ⎝    ⎝⎩                                                    ⎠⎠"
      ]
     },
     "execution_count": 8,
     "metadata": {},
     "output_type": "execute_result"
    }
   ],
   "source": [
    "Prob1 = pbar*Q_1\n",
    "Prob2 = (1-pbar)*Q_2"
   ]
  },
  {
   "cell_type": "code",
   "execution_count": 18,
   "id": "eec6585b-0d61-496a-a6f1-4562c45396b3",
   "metadata": {},
   "outputs": [
    {
     "data": {
      "text/plain": [
       "p_lot (generic function with 1 method)"
      ]
     },
     "execution_count": 18,
     "metadata": {},
     "output_type": "execute_result"
    }
   ],
   "source": [
    "function p_lot(x,y)\n",
    "    plot(Prob1(m_1 => x[1],m_2=>x[2],v_1=>x[3],v_2=>x[4],n=>x[5]),0,1)\n",
    "    plot!(Prob1(m_1 => y[1],m_2=>y[2],v_1=>y[3],v_2=>y[4],n=>y[5]),0,1)\n",
    "    plot!(Prob2(m_1 => x[1],m_2=>x[2],v_1=>x[3],v_2=>x[4],n=>x[5]),0,1)\n",
    "    plot!(Prob2(m_1 => y[1],m_2=>y[2],v_1=>y[3],v_2=>y[4],n=>y[5]),0,1)\n",
    "end"
   ]
  },
  {
   "cell_type": "code",
   "execution_count": 19,
   "id": "9f88c09b-76c5-47f2-b822-7b44b374631e",
   "metadata": {},
   "outputs": [
    {
     "ename": "LoadError",
     "evalue": "MethodError: no method matching *(::Float64, ::Nothing)\n\u001b[0mClosest candidates are:\n\u001b[0m  *(::Any, ::Any, \u001b[91m::Any\u001b[39m, \u001b[91m::Any...\u001b[39m) at operators.jl:591\n\u001b[0m  *(::T, \u001b[91m::T\u001b[39m) where T<:Union{Float16, Float32, Float64} at float.jl:385\n\u001b[0m  *(::Union{Float16, Float32, Float64}, \u001b[91m::BigFloat\u001b[39m) at mpfr.jl:414\n\u001b[0m  ...",
     "output_type": "error",
     "traceback": [
      "MethodError: no method matching *(::Float64, ::Nothing)\n\u001b[0mClosest candidates are:\n\u001b[0m  *(::Any, ::Any, \u001b[91m::Any\u001b[39m, \u001b[91m::Any...\u001b[39m) at operators.jl:591\n\u001b[0m  *(::T, \u001b[91m::T\u001b[39m) where T<:Union{Float16, Float32, Float64} at float.jl:385\n\u001b[0m  *(::Union{Float16, Float32, Float64}, \u001b[91m::BigFloat\u001b[39m) at mpfr.jl:414\n\u001b[0m  ...",
      "",
      "Stacktrace:",
      "  [1] *",
      "    @ ./operators.jl:591 [inlined]",
      "  [2] var\"##319\"(x::Float64)",
      "    @ SymPy ./none:0",
      "  [3] #invokelatest#2",
      "    @ ./essentials.jl:729 [inlined]",
      "  [4] invokelatest",
      "    @ ./essentials.jl:726 [inlined]",
      "  [5] #118",
      "    @ ~/.julia/packages/SymPy/gkr7m/src/lambdify.jl:223 [inlined]",
      "  [6] call_composed",
      "    @ ./operators.jl:1039 [inlined]",
      "  [7] (::ComposedFunction{ComposedFunction{RecipesPipeline.var\"#1#2\"{Symbol}, SymPy.var\"#118#119\"{SymPy.var\"###319\"}}, RecipesPipeline.var\"#3#4\"{Symbol}})(x::Float64; kw::Base.Pairs{Symbol, Union{}, Tuple{}, NamedTuple{(), Tuple{}}})",
      "    @ Base ./operators.jl:1035",
      "  [8] ComposedFunction",
      "    @ ./operators.jl:1033 [inlined]",
      "  [9] (::PlotUtils.var\"#21#23\"{ComposedFunction{ComposedFunction{RecipesPipeline.var\"#1#2\"{Symbol}, SymPy.var\"#118#119\"{SymPy.var\"###319\"}}, RecipesPipeline.var\"#3#4\"{Symbol}}})(x::Float64)",
      "    @ PlotUtils ~/.julia/packages/PlotUtils/mHQ0Q/src/adapted_grid.jl:49",
      " [10] _broadcast_getindex_evalf",
      "    @ ./broadcast.jl:670 [inlined]",
      " [11] _broadcast_getindex",
      "    @ ./broadcast.jl:643 [inlined]",
      " [12] getindex",
      "    @ ./broadcast.jl:597 [inlined]",
      " [13] copyto_nonleaf!(dest::Vector{Float64}, bc::Base.Broadcast.Broadcasted{Base.Broadcast.DefaultArrayStyle{1}, Tuple{Base.OneTo{Int64}}, PlotUtils.var\"#21#23\"{ComposedFunction{ComposedFunction{RecipesPipeline.var\"#1#2\"{Symbol}, SymPy.var\"#118#119\"{SymPy.var\"###319\"}}, RecipesPipeline.var\"#3#4\"{Symbol}}}, Tuple{Base.Broadcast.Extruded{Vector{Float64}, Tuple{Bool}, Tuple{Int64}}}}, iter::Base.OneTo{Int64}, state::Int64, count::Int64)",
      "    @ Base.Broadcast ./broadcast.jl:1055",
      " [14] copy",
      "    @ ./broadcast.jl:907 [inlined]",
      " [15] materialize(bc::Base.Broadcast.Broadcasted{Base.Broadcast.DefaultArrayStyle{1}, Nothing, PlotUtils.var\"#21#23\"{ComposedFunction{ComposedFunction{RecipesPipeline.var\"#1#2\"{Symbol}, SymPy.var\"#118#119\"{SymPy.var\"###319\"}}, RecipesPipeline.var\"#3#4\"{Symbol}}}, Tuple{Vector{Float64}}})",
      "    @ Base.Broadcast ./broadcast.jl:860",
      " [16] adapted_grid(f::Any, minmax::Tuple{Float64, Float64}; max_recursions::Int64, max_curvature::Float64, n_points::Int64)",
      "    @ PlotUtils ~/.julia/packages/PlotUtils/mHQ0Q/src/adapted_grid.jl:60",
      " [17] adapted_grid(f::Any, minmax::Tuple{Float64, Float64})",
      "    @ PlotUtils ~/.julia/packages/PlotUtils/mHQ0Q/src/adapted_grid.jl:14",
      " [18] _scaled_adapted_grid(f::Function, xscale::Symbol, yscale::Symbol, xmin::Int64, xmax::Int64)",
      "    @ RecipesPipeline ~/.julia/packages/RecipesPipeline/BGM3l/src/user_recipe.jl:322",
      " [19] macro expansion",
      "    @ ~/.julia/packages/RecipesPipeline/BGM3l/src/user_recipe.jl:265 [inlined]",
      " [20] apply_recipe(plotattributes::AbstractDict{Symbol, Any}, f::Function, xmin::Number, xmax::Number)",
      "    @ RecipesPipeline ~/.julia/packages/RecipesBase/BRe07/src/RecipesBase.jl:300",
      " [21] _process_userrecipes!(plt::Any, plotattributes::Any, args::Any)",
      "    @ RecipesPipeline ~/.julia/packages/RecipesPipeline/BGM3l/src/user_recipe.jl:38",
      " [22] recipe_pipeline!(plt::Any, plotattributes::Any, args::Any)",
      "    @ RecipesPipeline ~/.julia/packages/RecipesPipeline/BGM3l/src/RecipesPipeline.jl:72",
      " [23] _plot!(plt::Plots.Plot, plotattributes::Any, args::Any)",
      "    @ Plots ~/.julia/packages/Plots/B5j7d/src/plot.jl:223",
      " [24] plot(::Any, ::Vararg{Any}; kw::Base.Pairs{Symbol, V, Tuple{Vararg{Symbol, N}}, NamedTuple{names, T}} where {V, N, names, T<:Tuple{Vararg{Any, N}}})",
      "    @ Plots ~/.julia/packages/Plots/B5j7d/src/plot.jl:102",
      " [25] plot(::Any, ::Any, ::Any)",
      "    @ Plots ~/.julia/packages/Plots/B5j7d/src/plot.jl:93",
      " [26] p_lot(x::Vector{Float64}, y::Vector{Float64})",
      "    @ Main ./In[18]:2",
      " [27] top-level scope",
      "    @ In[19]:4"
     ]
    }
   ],
   "source": [
    "#m_1 => 7,m_2=>7,v_1=>.65,v_2=>.65,n=>14\n",
    "a = [7,7,.65,.65,14]\n",
    "b = [7,7,.8,.5,14]\n",
    "p_lot(a,b)"
   ]
  },
  {
   "cell_type": "code",
   "execution_count": 11,
   "id": "70ffd3aa-fd22-45b4-8bee-30a47b24a5cf",
   "metadata": {},
   "outputs": [
    {
     "data": {
      "text/latex": [
       "$\\frac{m_{1} v_{1} \\left(\\frac{v_{2}}{v_{1}}\\right)^{\\frac{1}{n - 1}} \\left(1 - \\frac{\\left(\\frac{v_{2}}{v_{1}}\\right)^{\\frac{1}{n - 1}} \\max\\left(0, m_{1} \\left(\\frac{v_{2}}{v_{1}}\\right)^{\\frac{1}{n - 1}} - m_{1} - x + 1\\right)}{m_{2} \\left(\\frac{m_{1} \\left(\\frac{v_{2}}{v_{1}}\\right)^{\\frac{1}{n - 1}}}{m_{2}} + 1\\right)} - \\frac{1 - \\max\\left(x, m_{1} \\left(\\frac{v_{2}}{v_{1}}\\right)^{\\frac{1}{n - 1}} - m_{1} + 1\\right)}{m_{1}}\\right)^{n - 1}}{m_{2} \\left(\\frac{m_{1} \\left(\\frac{v_{2}}{v_{1}}\\right)^{\\frac{1}{n - 1}}}{m_{2}} + 1\\right)} + v_{2} \\left(1 - \\frac{\\left(- \\frac{m_{1} \\left(\\frac{v_{2}}{v_{1}}\\right)^{\\frac{1}{n - 1}}}{m_{2} \\left(\\frac{m_{1} \\left(\\frac{v_{2}}{v_{1}}\\right)^{\\frac{1}{n - 1}}}{m_{2}} + 1\\right)} + 1\\right) \\max\\left(0, m_{1} \\left(\\frac{v_{2}}{v_{1}}\\right)^{\\frac{1}{n - 1}} - m_{1} - x + 1\\right)}{m_{2}}\\right)^{n - 1} \\left(- \\frac{m_{1} \\left(\\frac{v_{2}}{v_{1}}\\right)^{\\frac{1}{n - 1}}}{m_{2} \\left(\\frac{m_{1} \\left(\\frac{v_{2}}{v_{1}}\\right)^{\\frac{1}{n - 1}}}{m_{2}} + 1\\right)} + 1\\right)$"
      ],
      "text/plain": [
       "                                                                              \n",
       "                ⎛          1                                                  \n",
       "                ⎜        ─────                                                \n",
       "            1   ⎜        n - 1                                                \n",
       "          ───── ⎜    ⎛v₂⎞                                                     \n",
       "          n - 1 ⎜    ⎜──⎟     ⋅Max(0, m_1*(v_2/v_1)**(1/(n - 1)) - m_1 - x + 1\n",
       "      ⎛v₂⎞      ⎜    ⎝v₁⎠                                                     \n",
       "m₁⋅v₁⋅⎜──⎟     ⋅⎜1 - ─────────────────────────────────────────────────────────\n",
       "      ⎝v₁⎠      ⎜                         ⎛         1      ⎞                  \n",
       "                ⎜                         ⎜       ─────    ⎟                  \n",
       "                ⎜                         ⎜       n - 1    ⎟                  \n",
       "                ⎜                         ⎜   ⎛v₂⎞         ⎟                  \n",
       "                ⎜                         ⎜m₁⋅⎜──⎟         ⎟                  \n",
       "                ⎜                         ⎜   ⎝v₁⎠         ⎟                  \n",
       "                ⎜                      m₂⋅⎜──────────── + 1⎟                  \n",
       "                ⎝                         ⎝     m₂         ⎠                  \n",
       "──────────────────────────────────────────────────────────────────────────────\n",
       "                                                            ⎛         1      ⎞\n",
       "                                                            ⎜       ─────    ⎟\n",
       "                                                            ⎜       n - 1    ⎟\n",
       "                                                            ⎜   ⎛v₂⎞         ⎟\n",
       "                                                            ⎜m₁⋅⎜──⎟         ⎟\n",
       "                                                            ⎜   ⎝v₁⎠         ⎟\n",
       "                                                         m₂⋅⎜──────────── + 1⎟\n",
       "                                                            ⎝     m₂         ⎠\n",
       "\n",
       "                                                     n - 1                    \n",
       "                                                    ⎞           ⎛    ⎛        \n",
       "                                                    ⎟           ⎜    ⎜        \n",
       "                                                    ⎟           ⎜    ⎜        \n",
       "                                                    ⎟           ⎜    ⎜        \n",
       ")                                                   ⎟           ⎜    ⎜       m\n",
       "    1 - Max(x, m_1*(v_2/v_1)**(1/(n - 1)) - m_1 + 1)⎟           ⎜    ⎜        \n",
       "─ - ────────────────────────────────────────────────⎟           ⎜    ⎜- ──────\n",
       "                           m₁                       ⎟           ⎜    ⎜     ⎛  \n",
       "                                                    ⎟           ⎜    ⎜     ⎜  \n",
       "                                                    ⎟           ⎜    ⎜     ⎜  \n",
       "                                                    ⎟           ⎜    ⎜     ⎜  \n",
       "                                                    ⎟           ⎜    ⎜     ⎜m₁\n",
       "                                                    ⎟           ⎜    ⎜     ⎜  \n",
       "                                                    ⎟           ⎜    ⎜  m₂⋅⎜──\n",
       "                                                    ⎠           ⎜    ⎝     ⎝  \n",
       "────────────────────────────────────────────────────────── + v₂⋅⎜1 - ─────────\n",
       "                                                                ⎝             \n",
       "                                                                              \n",
       "                                                                              \n",
       "                                                                              \n",
       "                                                                              \n",
       "                                                                              \n",
       "                                                                              \n",
       "                                                                              \n",
       "\n",
       "                                                                      n - 1   \n",
       "        1          ⎞                                                 ⎞        \n",
       "      ─────        ⎟                                                 ⎟        \n",
       "      n - 1        ⎟                                                 ⎟        \n",
       "  ⎛v₂⎞             ⎟                                                 ⎟        \n",
       "₁⋅⎜──⎟             ⎟                                                 ⎟        \n",
       "  ⎝v₁⎠             ⎟                                                 ⎟        \n",
       "─────────────── + 1⎟⋅Max(0, m_1*(v_2/v_1)**(1/(n - 1)) - m_1 - x + 1)⎟        \n",
       "       1      ⎞    ⎟                                                 ⎟        \n",
       "     ─────    ⎟    ⎟                                                 ⎟        \n",
       "     n - 1    ⎟    ⎟                                                 ⎟      ⎛ \n",
       " ⎛v₂⎞         ⎟    ⎟                                                 ⎟      ⎜ \n",
       "⋅⎜──⎟         ⎟    ⎟                                                 ⎟      ⎜ \n",
       " ⎝v₁⎠         ⎟    ⎟                                                 ⎟      ⎜ \n",
       "────────── + 1⎟    ⎟                                                 ⎟      ⎜ \n",
       "   m₂         ⎠    ⎠                                                 ⎟      ⎜ \n",
       "─────────────────────────────────────────────────────────────────────⎟     ⋅⎜-\n",
       "                             m₂                                      ⎠      ⎜ \n",
       "                                                                            ⎜ \n",
       "                                                                            ⎜ \n",
       "                                                                            ⎜ \n",
       "                                                                            ⎜ \n",
       "                                                                            ⎜ \n",
       "                                                                            ⎜ \n",
       "                                                                            ⎝ \n",
       "\n",
       "                           \n",
       "                           \n",
       "                           \n",
       "                           \n",
       "                           \n",
       "                           \n",
       "                           \n",
       "                           \n",
       "                           \n",
       "                           \n",
       "               1          ⎞\n",
       "             ─────        ⎟\n",
       "             n - 1        ⎟\n",
       "         ⎛v₂⎞             ⎟\n",
       "      m₁⋅⎜──⎟             ⎟\n",
       "         ⎝v₁⎠             ⎟\n",
       " ───────────────────── + 1⎟\n",
       "    ⎛         1      ⎞    ⎟\n",
       "    ⎜       ─────    ⎟    ⎟\n",
       "    ⎜       n - 1    ⎟    ⎟\n",
       "    ⎜   ⎛v₂⎞         ⎟    ⎟\n",
       "    ⎜m₁⋅⎜──⎟         ⎟    ⎟\n",
       "    ⎜   ⎝v₁⎠         ⎟    ⎟\n",
       " m₂⋅⎜──────────── + 1⎟    ⎟\n",
       "    ⎝     m₂         ⎠    ⎠"
      ]
     },
     "execution_count": 11,
     "metadata": {},
     "output_type": "execute_result"
    }
   ],
   "source": [
    "Prob=pi*Q_1+(1-pi)*Q_2\n",
    "surplus=pi*v_1*Q_1+(1-pi)*v_2*Q_2"
   ]
  },
  {
   "cell_type": "code",
   "execution_count": 12,
   "id": "4bfefe9c-3880-4efa-9030-469bcca98b8b",
   "metadata": {},
   "outputs": [
    {
     "data": {
      "image/svg+xml": [
       "<?xml version=\"1.0\" encoding=\"utf-8\"?>\n",
       "<svg xmlns=\"http://www.w3.org/2000/svg\" xmlns:xlink=\"http://www.w3.org/1999/xlink\" width=\"600\" height=\"400\" viewBox=\"0 0 2400 1600\">\n",
       "<defs>\n",
       "  <clipPath id=\"clip710\">\n",
       "    <rect x=\"0\" y=\"0\" width=\"2400\" height=\"1600\"/>\n",
       "  </clipPath>\n",
       "</defs>\n",
       "<path clip-path=\"url(#clip710)\" d=\"M0 1600 L2400 1600 L2400 0 L0 0  Z\" fill=\"#ffffff\" fill-rule=\"evenodd\" fill-opacity=\"1\"/>\n",
       "<defs>\n",
       "  <clipPath id=\"clip711\">\n",
       "    <rect x=\"480\" y=\"0\" width=\"1681\" height=\"1600\"/>\n",
       "  </clipPath>\n",
       "</defs>\n",
       "<path clip-path=\"url(#clip710)\" d=\"M156.598 1486.45 L2352.76 1486.45 L2352.76 47.2441 L156.598 47.2441  Z\" fill=\"#ffffff\" fill-rule=\"evenodd\" fill-opacity=\"1\"/>\n",
       "<defs>\n",
       "  <clipPath id=\"clip712\">\n",
       "    <rect x=\"156\" y=\"47\" width=\"2197\" height=\"1440\"/>\n",
       "  </clipPath>\n",
       "</defs>\n",
       "<polyline clip-path=\"url(#clip712)\" style=\"stroke:#000000; stroke-linecap:round; stroke-linejoin:round; stroke-width:2; stroke-opacity:0.1; fill:none\" points=\"218.754,1486.45 218.754,47.2441 \"/>\n",
       "<polyline clip-path=\"url(#clip712)\" style=\"stroke:#000000; stroke-linecap:round; stroke-linejoin:round; stroke-width:2; stroke-opacity:0.1; fill:none\" points=\"736.715,1486.45 736.715,47.2441 \"/>\n",
       "<polyline clip-path=\"url(#clip712)\" style=\"stroke:#000000; stroke-linecap:round; stroke-linejoin:round; stroke-width:2; stroke-opacity:0.1; fill:none\" points=\"1254.68,1486.45 1254.68,47.2441 \"/>\n",
       "<polyline clip-path=\"url(#clip712)\" style=\"stroke:#000000; stroke-linecap:round; stroke-linejoin:round; stroke-width:2; stroke-opacity:0.1; fill:none\" points=\"1772.64,1486.45 1772.64,47.2441 \"/>\n",
       "<polyline clip-path=\"url(#clip712)\" style=\"stroke:#000000; stroke-linecap:round; stroke-linejoin:round; stroke-width:2; stroke-opacity:0.1; fill:none\" points=\"2290.6,1486.45 2290.6,47.2441 \"/>\n",
       "<polyline clip-path=\"url(#clip710)\" style=\"stroke:#000000; stroke-linecap:round; stroke-linejoin:round; stroke-width:4; stroke-opacity:1; fill:none\" points=\"156.598,1486.45 2352.76,1486.45 \"/>\n",
       "<polyline clip-path=\"url(#clip710)\" style=\"stroke:#000000; stroke-linecap:round; stroke-linejoin:round; stroke-width:4; stroke-opacity:1; fill:none\" points=\"218.754,1486.45 218.754,1467.55 \"/>\n",
       "<polyline clip-path=\"url(#clip710)\" style=\"stroke:#000000; stroke-linecap:round; stroke-linejoin:round; stroke-width:4; stroke-opacity:1; fill:none\" points=\"736.715,1486.45 736.715,1467.55 \"/>\n",
       "<polyline clip-path=\"url(#clip710)\" style=\"stroke:#000000; stroke-linecap:round; stroke-linejoin:round; stroke-width:4; stroke-opacity:1; fill:none\" points=\"1254.68,1486.45 1254.68,1467.55 \"/>\n",
       "<polyline clip-path=\"url(#clip710)\" style=\"stroke:#000000; stroke-linecap:round; stroke-linejoin:round; stroke-width:4; stroke-opacity:1; fill:none\" points=\"1772.64,1486.45 1772.64,1467.55 \"/>\n",
       "<polyline clip-path=\"url(#clip710)\" style=\"stroke:#000000; stroke-linecap:round; stroke-linejoin:round; stroke-width:4; stroke-opacity:1; fill:none\" points=\"2290.6,1486.45 2290.6,1467.55 \"/>\n",
       "<path clip-path=\"url(#clip710)\" d=\"M181.057 1517.37 Q177.446 1517.37 175.617 1520.93 Q173.812 1524.47 173.812 1531.6 Q173.812 1538.71 175.617 1542.27 Q177.446 1545.82 181.057 1545.82 Q184.691 1545.82 186.497 1542.27 Q188.326 1538.71 188.326 1531.6 Q188.326 1524.47 186.497 1520.93 Q184.691 1517.37 181.057 1517.37 M181.057 1513.66 Q186.867 1513.66 189.923 1518.27 Q193.001 1522.85 193.001 1531.6 Q193.001 1540.33 189.923 1544.94 Q186.867 1549.52 181.057 1549.52 Q175.247 1549.52 172.168 1544.94 Q169.113 1540.33 169.113 1531.6 Q169.113 1522.85 172.168 1518.27 Q175.247 1513.66 181.057 1513.66 Z\" fill=\"#000000\" fill-rule=\"nonzero\" fill-opacity=\"1\" /><path clip-path=\"url(#clip710)\" d=\"M201.219 1542.97 L206.103 1542.97 L206.103 1548.85 L201.219 1548.85 L201.219 1542.97 Z\" fill=\"#000000\" fill-rule=\"nonzero\" fill-opacity=\"1\" /><path clip-path=\"url(#clip710)\" d=\"M226.288 1517.37 Q222.677 1517.37 220.849 1520.93 Q219.043 1524.47 219.043 1531.6 Q219.043 1538.71 220.849 1542.27 Q222.677 1545.82 226.288 1545.82 Q229.923 1545.82 231.728 1542.27 Q233.557 1538.71 233.557 1531.6 Q233.557 1524.47 231.728 1520.93 Q229.923 1517.37 226.288 1517.37 M226.288 1513.66 Q232.098 1513.66 235.154 1518.27 Q238.233 1522.85 238.233 1531.6 Q238.233 1540.33 235.154 1544.94 Q232.098 1549.52 226.288 1549.52 Q220.478 1549.52 217.399 1544.94 Q214.344 1540.33 214.344 1531.6 Q214.344 1522.85 217.399 1518.27 Q220.478 1513.66 226.288 1513.66 Z\" fill=\"#000000\" fill-rule=\"nonzero\" fill-opacity=\"1\" /><path clip-path=\"url(#clip710)\" d=\"M256.45 1517.37 Q252.839 1517.37 251.01 1520.93 Q249.205 1524.47 249.205 1531.6 Q249.205 1538.71 251.01 1542.27 Q252.839 1545.82 256.45 1545.82 Q260.084 1545.82 261.89 1542.27 Q263.719 1538.71 263.719 1531.6 Q263.719 1524.47 261.89 1520.93 Q260.084 1517.37 256.45 1517.37 M256.45 1513.66 Q262.26 1513.66 265.316 1518.27 Q268.395 1522.85 268.395 1531.6 Q268.395 1540.33 265.316 1544.94 Q262.26 1549.52 256.45 1549.52 Q250.64 1549.52 247.561 1544.94 Q244.506 1540.33 244.506 1531.6 Q244.506 1522.85 247.561 1518.27 Q250.64 1513.66 256.45 1513.66 Z\" fill=\"#000000\" fill-rule=\"nonzero\" fill-opacity=\"1\" /><path clip-path=\"url(#clip710)\" d=\"M699.516 1517.37 Q695.905 1517.37 694.077 1520.93 Q692.271 1524.47 692.271 1531.6 Q692.271 1538.71 694.077 1542.27 Q695.905 1545.82 699.516 1545.82 Q703.151 1545.82 704.956 1542.27 Q706.785 1538.71 706.785 1531.6 Q706.785 1524.47 704.956 1520.93 Q703.151 1517.37 699.516 1517.37 M699.516 1513.66 Q705.327 1513.66 708.382 1518.27 Q711.461 1522.85 711.461 1531.6 Q711.461 1540.33 708.382 1544.94 Q705.327 1549.52 699.516 1549.52 Q693.706 1549.52 690.628 1544.94 Q687.572 1540.33 687.572 1531.6 Q687.572 1522.85 690.628 1518.27 Q693.706 1513.66 699.516 1513.66 Z\" fill=\"#000000\" fill-rule=\"nonzero\" fill-opacity=\"1\" /><path clip-path=\"url(#clip710)\" d=\"M719.678 1542.97 L724.563 1542.97 L724.563 1548.85 L719.678 1548.85 L719.678 1542.97 Z\" fill=\"#000000\" fill-rule=\"nonzero\" fill-opacity=\"1\" /><path clip-path=\"url(#clip710)\" d=\"M738.776 1544.91 L755.095 1544.91 L755.095 1548.85 L733.151 1548.85 L733.151 1544.91 Q735.813 1542.16 740.396 1537.53 Q745.002 1532.88 746.183 1531.53 Q748.428 1529.01 749.308 1527.27 Q750.211 1525.51 750.211 1523.82 Q750.211 1521.07 748.266 1519.33 Q746.345 1517.6 743.243 1517.6 Q741.044 1517.6 738.59 1518.36 Q736.16 1519.13 733.382 1520.68 L733.382 1515.95 Q736.206 1514.82 738.66 1514.24 Q741.113 1513.66 743.151 1513.66 Q748.521 1513.66 751.715 1516.35 Q754.91 1519.03 754.91 1523.52 Q754.91 1525.65 754.1 1527.57 Q753.312 1529.47 751.206 1532.07 Q750.627 1532.74 747.525 1535.95 Q744.424 1539.15 738.776 1544.91 Z\" fill=\"#000000\" fill-rule=\"nonzero\" fill-opacity=\"1\" /><path clip-path=\"url(#clip710)\" d=\"M764.956 1514.29 L783.312 1514.29 L783.312 1518.22 L769.238 1518.22 L769.238 1526.7 Q770.257 1526.35 771.275 1526.19 Q772.294 1526 773.312 1526 Q779.099 1526 782.479 1529.17 Q785.859 1532.34 785.859 1537.76 Q785.859 1543.34 782.386 1546.44 Q778.914 1549.52 772.595 1549.52 Q770.419 1549.52 768.15 1549.15 Q765.905 1548.78 763.498 1548.04 L763.498 1543.34 Q765.581 1544.47 767.803 1545.03 Q770.025 1545.58 772.502 1545.58 Q776.507 1545.58 778.845 1543.48 Q781.183 1541.37 781.183 1537.76 Q781.183 1534.15 778.845 1532.04 Q776.507 1529.94 772.502 1529.94 Q770.627 1529.94 768.752 1530.35 Q766.9 1530.77 764.956 1531.65 L764.956 1514.29 Z\" fill=\"#000000\" fill-rule=\"nonzero\" fill-opacity=\"1\" /><path clip-path=\"url(#clip710)\" d=\"M1216.98 1517.37 Q1213.37 1517.37 1211.54 1520.93 Q1209.74 1524.47 1209.74 1531.6 Q1209.74 1538.71 1211.54 1542.27 Q1213.37 1545.82 1216.98 1545.82 Q1220.61 1545.82 1222.42 1542.27 Q1224.25 1538.71 1224.25 1531.6 Q1224.25 1524.47 1222.42 1520.93 Q1220.61 1517.37 1216.98 1517.37 M1216.98 1513.66 Q1222.79 1513.66 1225.85 1518.27 Q1228.92 1522.85 1228.92 1531.6 Q1228.92 1540.33 1225.85 1544.94 Q1222.79 1549.52 1216.98 1549.52 Q1211.17 1549.52 1208.09 1544.94 Q1205.04 1540.33 1205.04 1531.6 Q1205.04 1522.85 1208.09 1518.27 Q1211.17 1513.66 1216.98 1513.66 Z\" fill=\"#000000\" fill-rule=\"nonzero\" fill-opacity=\"1\" /><path clip-path=\"url(#clip710)\" d=\"M1237.14 1542.97 L1242.03 1542.97 L1242.03 1548.85 L1237.14 1548.85 L1237.14 1542.97 Z\" fill=\"#000000\" fill-rule=\"nonzero\" fill-opacity=\"1\" /><path clip-path=\"url(#clip710)\" d=\"M1252.26 1514.29 L1270.61 1514.29 L1270.61 1518.22 L1256.54 1518.22 L1256.54 1526.7 Q1257.56 1526.35 1258.58 1526.19 Q1259.6 1526 1260.61 1526 Q1266.4 1526 1269.78 1529.17 Q1273.16 1532.34 1273.16 1537.76 Q1273.16 1543.34 1269.69 1546.44 Q1266.22 1549.52 1259.9 1549.52 Q1257.72 1549.52 1255.45 1549.15 Q1253.21 1548.78 1250.8 1548.04 L1250.8 1543.34 Q1252.88 1544.47 1255.11 1545.03 Q1257.33 1545.58 1259.8 1545.58 Q1263.81 1545.58 1266.15 1543.48 Q1268.48 1541.37 1268.48 1537.76 Q1268.48 1534.15 1266.15 1532.04 Q1263.81 1529.94 1259.8 1529.94 Q1257.93 1529.94 1256.05 1530.35 Q1254.2 1530.77 1252.26 1531.65 L1252.26 1514.29 Z\" fill=\"#000000\" fill-rule=\"nonzero\" fill-opacity=\"1\" /><path clip-path=\"url(#clip710)\" d=\"M1292.37 1517.37 Q1288.76 1517.37 1286.93 1520.93 Q1285.13 1524.47 1285.13 1531.6 Q1285.13 1538.71 1286.93 1542.27 Q1288.76 1545.82 1292.37 1545.82 Q1296.01 1545.82 1297.81 1542.27 Q1299.64 1538.71 1299.64 1531.6 Q1299.64 1524.47 1297.81 1520.93 Q1296.01 1517.37 1292.37 1517.37 M1292.37 1513.66 Q1298.18 1513.66 1301.24 1518.27 Q1304.32 1522.85 1304.32 1531.6 Q1304.32 1540.33 1301.24 1544.94 Q1298.18 1549.52 1292.37 1549.52 Q1286.56 1549.52 1283.48 1544.94 Q1280.43 1540.33 1280.43 1531.6 Q1280.43 1522.85 1283.48 1518.27 Q1286.56 1513.66 1292.37 1513.66 Z\" fill=\"#000000\" fill-rule=\"nonzero\" fill-opacity=\"1\" /><path clip-path=\"url(#clip710)\" d=\"M1735.44 1517.37 Q1731.83 1517.37 1730 1520.93 Q1728.19 1524.47 1728.19 1531.6 Q1728.19 1538.71 1730 1542.27 Q1731.83 1545.82 1735.44 1545.82 Q1739.07 1545.82 1740.88 1542.27 Q1742.71 1538.71 1742.71 1531.6 Q1742.71 1524.47 1740.88 1520.93 Q1739.07 1517.37 1735.44 1517.37 M1735.44 1513.66 Q1741.25 1513.66 1744.31 1518.27 Q1747.38 1522.85 1747.38 1531.6 Q1747.38 1540.33 1744.31 1544.94 Q1741.25 1549.52 1735.44 1549.52 Q1729.63 1549.52 1726.55 1544.94 Q1723.5 1540.33 1723.5 1531.6 Q1723.5 1522.85 1726.55 1518.27 Q1729.63 1513.66 1735.44 1513.66 Z\" fill=\"#000000\" fill-rule=\"nonzero\" fill-opacity=\"1\" /><path clip-path=\"url(#clip710)\" d=\"M1755.6 1542.97 L1760.49 1542.97 L1760.49 1548.85 L1755.6 1548.85 L1755.6 1542.97 Z\" fill=\"#000000\" fill-rule=\"nonzero\" fill-opacity=\"1\" /><path clip-path=\"url(#clip710)\" d=\"M1769.49 1514.29 L1791.71 1514.29 L1791.71 1516.28 L1779.17 1548.85 L1774.28 1548.85 L1786.09 1518.22 L1769.49 1518.22 L1769.49 1514.29 Z\" fill=\"#000000\" fill-rule=\"nonzero\" fill-opacity=\"1\" /><path clip-path=\"url(#clip710)\" d=\"M1800.88 1514.29 L1819.24 1514.29 L1819.24 1518.22 L1805.16 1518.22 L1805.16 1526.7 Q1806.18 1526.35 1807.2 1526.19 Q1808.22 1526 1809.24 1526 Q1815.02 1526 1818.4 1529.17 Q1821.78 1532.34 1821.78 1537.76 Q1821.78 1543.34 1818.31 1546.44 Q1814.84 1549.52 1808.52 1549.52 Q1806.34 1549.52 1804.07 1549.15 Q1801.83 1548.78 1799.42 1548.04 L1799.42 1543.34 Q1801.5 1544.47 1803.73 1545.03 Q1805.95 1545.58 1808.43 1545.58 Q1812.43 1545.58 1814.77 1543.48 Q1817.11 1541.37 1817.11 1537.76 Q1817.11 1534.15 1814.77 1532.04 Q1812.43 1529.94 1808.43 1529.94 Q1806.55 1529.94 1804.68 1530.35 Q1802.82 1530.77 1800.88 1531.65 L1800.88 1514.29 Z\" fill=\"#000000\" fill-rule=\"nonzero\" fill-opacity=\"1\" /><path clip-path=\"url(#clip710)\" d=\"M2242.67 1544.91 L2250.31 1544.91 L2250.31 1518.55 L2242 1520.21 L2242 1515.95 L2250.27 1514.29 L2254.94 1514.29 L2254.94 1544.91 L2262.58 1544.91 L2262.58 1548.85 L2242.67 1548.85 L2242.67 1544.91 Z\" fill=\"#000000\" fill-rule=\"nonzero\" fill-opacity=\"1\" /><path clip-path=\"url(#clip710)\" d=\"M2272.02 1542.97 L2276.91 1542.97 L2276.91 1548.85 L2272.02 1548.85 L2272.02 1542.97 Z\" fill=\"#000000\" fill-rule=\"nonzero\" fill-opacity=\"1\" /><path clip-path=\"url(#clip710)\" d=\"M2297.09 1517.37 Q2293.48 1517.37 2291.65 1520.93 Q2289.85 1524.47 2289.85 1531.6 Q2289.85 1538.71 2291.65 1542.27 Q2293.48 1545.82 2297.09 1545.82 Q2300.73 1545.82 2302.53 1542.27 Q2304.36 1538.71 2304.36 1531.6 Q2304.36 1524.47 2302.53 1520.93 Q2300.73 1517.37 2297.09 1517.37 M2297.09 1513.66 Q2302.9 1513.66 2305.96 1518.27 Q2309.04 1522.85 2309.04 1531.6 Q2309.04 1540.33 2305.96 1544.94 Q2302.9 1549.52 2297.09 1549.52 Q2291.28 1549.52 2288.2 1544.94 Q2285.15 1540.33 2285.15 1531.6 Q2285.15 1522.85 2288.2 1518.27 Q2291.28 1513.66 2297.09 1513.66 Z\" fill=\"#000000\" fill-rule=\"nonzero\" fill-opacity=\"1\" /><path clip-path=\"url(#clip710)\" d=\"M2327.26 1517.37 Q2323.64 1517.37 2321.82 1520.93 Q2320.01 1524.47 2320.01 1531.6 Q2320.01 1538.71 2321.82 1542.27 Q2323.64 1545.82 2327.26 1545.82 Q2330.89 1545.82 2332.7 1542.27 Q2334.52 1538.71 2334.52 1531.6 Q2334.52 1524.47 2332.7 1520.93 Q2330.89 1517.37 2327.26 1517.37 M2327.26 1513.66 Q2333.07 1513.66 2336.12 1518.27 Q2339.2 1522.85 2339.2 1531.6 Q2339.2 1540.33 2336.12 1544.94 Q2333.07 1549.52 2327.26 1549.52 Q2321.45 1549.52 2318.37 1544.94 Q2315.31 1540.33 2315.31 1531.6 Q2315.31 1522.85 2318.37 1518.27 Q2321.45 1513.66 2327.26 1513.66 Z\" fill=\"#000000\" fill-rule=\"nonzero\" fill-opacity=\"1\" /><polyline clip-path=\"url(#clip712)\" style=\"stroke:#000000; stroke-linecap:round; stroke-linejoin:round; stroke-width:2; stroke-opacity:0.1; fill:none\" points=\"156.598,1166.43 2352.76,1166.43 \"/>\n",
       "<polyline clip-path=\"url(#clip712)\" style=\"stroke:#000000; stroke-linecap:round; stroke-linejoin:round; stroke-width:2; stroke-opacity:0.1; fill:none\" points=\"156.598,806.946 2352.76,806.946 \"/>\n",
       "<polyline clip-path=\"url(#clip712)\" style=\"stroke:#000000; stroke-linecap:round; stroke-linejoin:round; stroke-width:2; stroke-opacity:0.1; fill:none\" points=\"156.598,447.461 2352.76,447.461 \"/>\n",
       "<polyline clip-path=\"url(#clip712)\" style=\"stroke:#000000; stroke-linecap:round; stroke-linejoin:round; stroke-width:2; stroke-opacity:0.1; fill:none\" points=\"156.598,87.9763 2352.76,87.9763 \"/>\n",
       "<polyline clip-path=\"url(#clip710)\" style=\"stroke:#000000; stroke-linecap:round; stroke-linejoin:round; stroke-width:4; stroke-opacity:1; fill:none\" points=\"156.598,1486.45 156.598,47.2441 \"/>\n",
       "<polyline clip-path=\"url(#clip710)\" style=\"stroke:#000000; stroke-linecap:round; stroke-linejoin:round; stroke-width:4; stroke-opacity:1; fill:none\" points=\"156.598,1166.43 175.496,1166.43 \"/>\n",
       "<polyline clip-path=\"url(#clip710)\" style=\"stroke:#000000; stroke-linecap:round; stroke-linejoin:round; stroke-width:4; stroke-opacity:1; fill:none\" points=\"156.598,806.946 175.496,806.946 \"/>\n",
       "<polyline clip-path=\"url(#clip710)\" style=\"stroke:#000000; stroke-linecap:round; stroke-linejoin:round; stroke-width:4; stroke-opacity:1; fill:none\" points=\"156.598,447.461 175.496,447.461 \"/>\n",
       "<polyline clip-path=\"url(#clip710)\" style=\"stroke:#000000; stroke-linecap:round; stroke-linejoin:round; stroke-width:4; stroke-opacity:1; fill:none\" points=\"156.598,87.9763 175.496,87.9763 \"/>\n",
       "<path clip-path=\"url(#clip710)\" d=\"M62.9365 1152.23 Q59.3254 1152.23 57.4967 1155.79 Q55.6912 1159.34 55.6912 1166.47 Q55.6912 1173.57 57.4967 1177.14 Q59.3254 1180.68 62.9365 1180.68 Q66.5707 1180.68 68.3763 1177.14 Q70.205 1173.57 70.205 1166.47 Q70.205 1159.34 68.3763 1155.79 Q66.5707 1152.23 62.9365 1152.23 M62.9365 1148.53 Q68.7467 1148.53 71.8022 1153.13 Q74.8809 1157.72 74.8809 1166.47 Q74.8809 1175.19 71.8022 1179.8 Q68.7467 1184.38 62.9365 1184.38 Q57.1264 1184.38 54.0477 1179.8 Q50.9921 1175.19 50.9921 1166.47 Q50.9921 1157.72 54.0477 1153.13 Q57.1264 1148.53 62.9365 1148.53 Z\" fill=\"#000000\" fill-rule=\"nonzero\" fill-opacity=\"1\" /><path clip-path=\"url(#clip710)\" d=\"M83.0984 1177.83 L87.9827 1177.83 L87.9827 1183.71 L83.0984 1183.71 L83.0984 1177.83 Z\" fill=\"#000000\" fill-rule=\"nonzero\" fill-opacity=\"1\" /><path clip-path=\"url(#clip710)\" d=\"M111.015 1153.22 L99.2095 1171.67 L111.015 1171.67 L111.015 1153.22 M109.788 1149.15 L115.668 1149.15 L115.668 1171.67 L120.598 1171.67 L120.598 1175.56 L115.668 1175.56 L115.668 1183.71 L111.015 1183.71 L111.015 1175.56 L95.4132 1175.56 L95.4132 1171.05 L109.788 1149.15 Z\" fill=\"#000000\" fill-rule=\"nonzero\" fill-opacity=\"1\" /><path clip-path=\"url(#clip710)\" d=\"M63.2606 792.745 Q59.6495 792.745 57.8208 796.31 Q56.0152 799.851 56.0152 806.981 Q56.0152 814.087 57.8208 817.652 Q59.6495 821.194 63.2606 821.194 Q66.8948 821.194 68.7004 817.652 Q70.5291 814.087 70.5291 806.981 Q70.5291 799.851 68.7004 796.31 Q66.8948 792.745 63.2606 792.745 M63.2606 789.041 Q69.0707 789.041 72.1263 793.648 Q75.205 798.231 75.205 806.981 Q75.205 815.708 72.1263 820.314 Q69.0707 824.897 63.2606 824.897 Q57.4504 824.897 54.3717 820.314 Q51.3162 815.708 51.3162 806.981 Q51.3162 798.231 54.3717 793.648 Q57.4504 789.041 63.2606 789.041 Z\" fill=\"#000000\" fill-rule=\"nonzero\" fill-opacity=\"1\" /><path clip-path=\"url(#clip710)\" d=\"M83.4225 818.346 L88.3067 818.346 L88.3067 824.226 L83.4225 824.226 L83.4225 818.346 Z\" fill=\"#000000\" fill-rule=\"nonzero\" fill-opacity=\"1\" /><path clip-path=\"url(#clip710)\" d=\"M109.071 805.083 Q105.922 805.083 104.071 807.235 Q102.242 809.388 102.242 813.138 Q102.242 816.865 104.071 819.041 Q105.922 821.194 109.071 821.194 Q112.219 821.194 114.047 819.041 Q115.899 816.865 115.899 813.138 Q115.899 809.388 114.047 807.235 Q112.219 805.083 109.071 805.083 M118.353 790.43 L118.353 794.689 Q116.594 793.856 114.788 793.416 Q113.006 792.976 111.246 792.976 Q106.617 792.976 104.163 796.101 Q101.733 799.226 101.385 805.546 Q102.751 803.532 104.811 802.467 Q106.871 801.379 109.348 801.379 Q114.557 801.379 117.566 804.55 Q120.598 807.698 120.598 813.138 Q120.598 818.462 117.45 821.68 Q114.302 824.897 109.071 824.897 Q103.075 824.897 99.9039 820.314 Q96.7326 815.708 96.7326 806.981 Q96.7326 798.786 100.621 793.925 Q104.51 789.041 111.061 789.041 Q112.82 789.041 114.603 789.388 Q116.408 789.735 118.353 790.43 Z\" fill=\"#000000\" fill-rule=\"nonzero\" fill-opacity=\"1\" /><path clip-path=\"url(#clip710)\" d=\"M63.5152 433.26 Q59.9041 433.26 58.0754 436.825 Q56.2699 440.366 56.2699 447.496 Q56.2699 454.602 58.0754 458.167 Q59.9041 461.709 63.5152 461.709 Q67.1494 461.709 68.955 458.167 Q70.7837 454.602 70.7837 447.496 Q70.7837 440.366 68.955 436.825 Q67.1494 433.26 63.5152 433.26 M63.5152 429.556 Q69.3254 429.556 72.3809 434.163 Q75.4596 438.746 75.4596 447.496 Q75.4596 456.223 72.3809 460.829 Q69.3254 465.412 63.5152 465.412 Q57.7051 465.412 54.6264 460.829 Q51.5708 456.223 51.5708 447.496 Q51.5708 438.746 54.6264 434.163 Q57.7051 429.556 63.5152 429.556 Z\" fill=\"#000000\" fill-rule=\"nonzero\" fill-opacity=\"1\" /><path clip-path=\"url(#clip710)\" d=\"M83.6771 458.862 L88.5614 458.862 L88.5614 464.741 L83.6771 464.741 L83.6771 458.862 Z\" fill=\"#000000\" fill-rule=\"nonzero\" fill-opacity=\"1\" /><path clip-path=\"url(#clip710)\" d=\"M108.746 448.329 Q105.413 448.329 103.492 450.112 Q101.594 451.894 101.594 455.019 Q101.594 458.144 103.492 459.926 Q105.413 461.709 108.746 461.709 Q112.08 461.709 114.001 459.926 Q115.922 458.121 115.922 455.019 Q115.922 451.894 114.001 450.112 Q112.103 448.329 108.746 448.329 M104.071 446.338 Q101.061 445.598 99.3715 443.538 Q97.7048 441.477 97.7048 438.514 Q97.7048 434.371 100.645 431.964 Q103.608 429.556 108.746 429.556 Q113.908 429.556 116.848 431.964 Q119.788 434.371 119.788 438.514 Q119.788 441.477 118.098 443.538 Q116.432 445.598 113.445 446.338 Q116.825 447.126 118.7 449.417 Q120.598 451.709 120.598 455.019 Q120.598 460.042 117.52 462.727 Q114.464 465.412 108.746 465.412 Q103.029 465.412 99.9502 462.727 Q96.8947 460.042 96.8947 455.019 Q96.8947 451.709 98.7928 449.417 Q100.691 447.126 104.071 446.338 M102.358 438.954 Q102.358 441.639 104.024 443.144 Q105.714 444.649 108.746 444.649 Q111.756 444.649 113.445 443.144 Q115.158 441.639 115.158 438.954 Q115.158 436.269 113.445 434.764 Q111.756 433.26 108.746 433.26 Q105.714 433.26 104.024 434.764 Q102.358 436.269 102.358 438.954 Z\" fill=\"#000000\" fill-rule=\"nonzero\" fill-opacity=\"1\" /><path clip-path=\"url(#clip710)\" d=\"M54.2328 101.321 L61.8717 101.321 L61.8717 74.9555 L53.5616 76.6222 L53.5616 72.3629 L61.8254 70.6963 L66.5013 70.6963 L66.5013 101.321 L74.1402 101.321 L74.1402 105.256 L54.2328 105.256 L54.2328 101.321 Z\" fill=\"#000000\" fill-rule=\"nonzero\" fill-opacity=\"1\" /><path clip-path=\"url(#clip710)\" d=\"M83.5845 99.3767 L88.4688 99.3767 L88.4688 105.256 L83.5845 105.256 L83.5845 99.3767 Z\" fill=\"#000000\" fill-rule=\"nonzero\" fill-opacity=\"1\" /><path clip-path=\"url(#clip710)\" d=\"M108.654 73.775 Q105.043 73.775 103.214 77.3398 Q101.409 80.8814 101.409 88.011 Q101.409 95.1174 103.214 98.6822 Q105.043 102.224 108.654 102.224 Q112.288 102.224 114.094 98.6822 Q115.922 95.1174 115.922 88.011 Q115.922 80.8814 114.094 77.3398 Q112.288 73.775 108.654 73.775 M108.654 70.0713 Q114.464 70.0713 117.52 74.6777 Q120.598 79.261 120.598 88.011 Q120.598 96.7378 117.52 101.344 Q114.464 105.928 108.654 105.928 Q102.844 105.928 99.765 101.344 Q96.7095 96.7378 96.7095 88.011 Q96.7095 79.261 99.765 74.6777 Q102.844 70.0713 108.654 70.0713 Z\" fill=\"#000000\" fill-rule=\"nonzero\" fill-opacity=\"1\" /><polyline clip-path=\"url(#clip712)\" style=\"stroke:#009af9; stroke-linecap:round; stroke-linejoin:round; stroke-width:4; stroke-opacity:1; fill:none\" points=\"218.754,1445.72 232.242,1441.51 356.966,1400.81 431.92,1374.67 495.293,1351.54 564.133,1325.28 627.598,1300 695.639,1271.69 774.471,1237.27 844.528,1205.16 905.961,1175.76 972.94,1142.35 1040.32,1107.23 1114.81,1066.57 1185.69,1026.03 1259.39,981.857 1321.42,943.017 1397.17,893.452 1466.55,845.888 1530.63,800.047 1595.54,751.663 1668.29,695.011 1734.21,641.369 1809.69,577.141 1879.57,514.882 1948.47,450.762 2015.36,385.794 2049.65,351.424 2083.94,316.307 2121.5,276.96 2159.07,236.678 2213.64,176.457 2268.21,114.156 2279.41,101.112 2290.6,87.9763 \"/>\n",
       "<polyline clip-path=\"url(#clip712)\" style=\"stroke:#e26f46; stroke-linecap:round; stroke-linejoin:round; stroke-width:4; stroke-opacity:1; fill:none\" points=\"218.754,1432.89 232.242,1428.56 356.966,1386.67 431.92,1359.77 495.293,1335.96 564.133,1308.94 627.598,1282.92 695.639,1253.78 774.471,1218.36 844.528,1185.31 905.961,1155.06 972.94,1120.67 1040.32,1084.52 1114.81,1042.68 1185.69,1000.95 1259.39,955.495 1321.42,915.521 1397.17,864.51 1466.55,815.558 1530.63,768.38 1595.54,718.584 1668.29,660.279 1734.21,605.072 1809.69,538.971 1879.57,474.895 1914.02,442.257 1948.47,411.645 1981.92,385.792 2015.36,358.82 2049.65,329.959 2083.94,299.821 2121.5,265.274 2159.07,229.059 2213.64,173.32 2268.21,113.654 2279.41,100.904 2290.6,87.9763 \"/>\n",
       "<path clip-path=\"url(#clip710)\" d=\"M229.803 250.738 L501.85 250.738 L501.85 95.2176 L229.803 95.2176  Z\" fill=\"#ffffff\" fill-rule=\"evenodd\" fill-opacity=\"1\"/>\n",
       "<polyline clip-path=\"url(#clip710)\" style=\"stroke:#000000; stroke-linecap:round; stroke-linejoin:round; stroke-width:4; stroke-opacity:1; fill:none\" points=\"229.803,250.738 501.85,250.738 501.85,95.2176 229.803,95.2176 229.803,250.738 \"/>\n",
       "<polyline clip-path=\"url(#clip710)\" style=\"stroke:#009af9; stroke-linecap:round; stroke-linejoin:round; stroke-width:4; stroke-opacity:1; fill:none\" points=\"254.205,147.058 400.616,147.058 \"/>\n",
       "<path clip-path=\"url(#clip710)\" d=\"M438.86 166.745 Q437.054 171.375 435.342 172.787 Q433.629 174.199 430.758 174.199 L427.355 174.199 L427.355 170.634 L429.855 170.634 Q431.615 170.634 432.587 169.8 Q433.559 168.967 434.74 165.865 L435.504 163.921 L425.018 138.412 L429.531 138.412 L437.633 158.689 L445.735 138.412 L450.249 138.412 L438.86 166.745 Z\" fill=\"#000000\" fill-rule=\"nonzero\" fill-opacity=\"1\" /><path clip-path=\"url(#clip710)\" d=\"M457.54 160.402 L465.179 160.402 L465.179 134.037 L456.869 135.703 L456.869 131.444 L465.133 129.778 L469.809 129.778 L469.809 160.402 L477.448 160.402 L477.448 164.338 L457.54 164.338 L457.54 160.402 Z\" fill=\"#000000\" fill-rule=\"nonzero\" fill-opacity=\"1\" /><polyline clip-path=\"url(#clip710)\" style=\"stroke:#e26f46; stroke-linecap:round; stroke-linejoin:round; stroke-width:4; stroke-opacity:1; fill:none\" points=\"254.205,198.898 400.616,198.898 \"/>\n",
       "<path clip-path=\"url(#clip710)\" d=\"M438.86 218.585 Q437.054 223.215 435.342 224.627 Q433.629 226.039 430.758 226.039 L427.355 226.039 L427.355 222.474 L429.855 222.474 Q431.615 222.474 432.587 221.64 Q433.559 220.807 434.74 217.705 L435.504 215.761 L425.018 190.252 L429.531 190.252 L437.633 210.529 L445.735 190.252 L450.249 190.252 L438.86 218.585 Z\" fill=\"#000000\" fill-rule=\"nonzero\" fill-opacity=\"1\" /><path clip-path=\"url(#clip710)\" d=\"M460.758 212.242 L477.077 212.242 L477.077 216.178 L455.133 216.178 L455.133 212.242 Q457.795 209.488 462.378 204.858 Q466.985 200.205 468.165 198.863 Q470.411 196.34 471.29 194.604 Q472.193 192.844 472.193 191.155 Q472.193 188.4 470.249 186.664 Q468.327 184.928 465.226 184.928 Q463.027 184.928 460.573 185.692 Q458.142 186.455 455.365 188.006 L455.365 183.284 Q458.189 182.15 460.642 181.571 Q463.096 180.993 465.133 180.993 Q470.503 180.993 473.698 183.678 Q476.892 186.363 476.892 190.854 Q476.892 192.983 476.082 194.905 Q475.295 196.803 473.189 199.395 Q472.61 200.067 469.508 203.284 Q466.406 206.479 460.758 212.242 Z\" fill=\"#000000\" fill-rule=\"nonzero\" fill-opacity=\"1\" /></svg>\n"
      ]
     },
     "execution_count": 12,
     "metadata": {},
     "output_type": "execute_result"
    }
   ],
   "source": [
    "plot(Prob(m_1 => 7,m_2=>7,v_1=>.65,v_2=>.65,n=>20),0,1)\n",
    "plot!(Prob(m_1 => 7,m_2=>7,v_1=>.8,v_2=>.5,n=>20),0,1)"
   ]
  },
  {
   "cell_type": "code",
   "execution_count": 13,
   "id": "66ef4a8a-6e36-4876-b22a-ce5a4f17ed24",
   "metadata": {},
   "outputs": [
    {
     "data": {
      "image/svg+xml": [
       "<?xml version=\"1.0\" encoding=\"utf-8\"?>\n",
       "<svg xmlns=\"http://www.w3.org/2000/svg\" xmlns:xlink=\"http://www.w3.org/1999/xlink\" width=\"600\" height=\"400\" viewBox=\"0 0 2400 1600\">\n",
       "<defs>\n",
       "  <clipPath id=\"clip750\">\n",
       "    <rect x=\"0\" y=\"0\" width=\"2400\" height=\"1600\"/>\n",
       "  </clipPath>\n",
       "</defs>\n",
       "<path clip-path=\"url(#clip750)\" d=\"M0 1600 L2400 1600 L2400 0 L0 0  Z\" fill=\"#ffffff\" fill-rule=\"evenodd\" fill-opacity=\"1\"/>\n",
       "<defs>\n",
       "  <clipPath id=\"clip751\">\n",
       "    <rect x=\"480\" y=\"0\" width=\"1681\" height=\"1600\"/>\n",
       "  </clipPath>\n",
       "</defs>\n",
       "<path clip-path=\"url(#clip750)\" d=\"M156.598 1486.45 L2352.76 1486.45 L2352.76 47.2441 L156.598 47.2441  Z\" fill=\"#ffffff\" fill-rule=\"evenodd\" fill-opacity=\"1\"/>\n",
       "<defs>\n",
       "  <clipPath id=\"clip752\">\n",
       "    <rect x=\"156\" y=\"47\" width=\"2197\" height=\"1440\"/>\n",
       "  </clipPath>\n",
       "</defs>\n",
       "<polyline clip-path=\"url(#clip752)\" style=\"stroke:#000000; stroke-linecap:round; stroke-linejoin:round; stroke-width:2; stroke-opacity:0.1; fill:none\" points=\"218.754,1486.45 218.754,47.2441 \"/>\n",
       "<polyline clip-path=\"url(#clip752)\" style=\"stroke:#000000; stroke-linecap:round; stroke-linejoin:round; stroke-width:2; stroke-opacity:0.1; fill:none\" points=\"736.715,1486.45 736.715,47.2441 \"/>\n",
       "<polyline clip-path=\"url(#clip752)\" style=\"stroke:#000000; stroke-linecap:round; stroke-linejoin:round; stroke-width:2; stroke-opacity:0.1; fill:none\" points=\"1254.68,1486.45 1254.68,47.2441 \"/>\n",
       "<polyline clip-path=\"url(#clip752)\" style=\"stroke:#000000; stroke-linecap:round; stroke-linejoin:round; stroke-width:2; stroke-opacity:0.1; fill:none\" points=\"1772.64,1486.45 1772.64,47.2441 \"/>\n",
       "<polyline clip-path=\"url(#clip752)\" style=\"stroke:#000000; stroke-linecap:round; stroke-linejoin:round; stroke-width:2; stroke-opacity:0.1; fill:none\" points=\"2290.6,1486.45 2290.6,47.2441 \"/>\n",
       "<polyline clip-path=\"url(#clip750)\" style=\"stroke:#000000; stroke-linecap:round; stroke-linejoin:round; stroke-width:4; stroke-opacity:1; fill:none\" points=\"156.598,1486.45 2352.76,1486.45 \"/>\n",
       "<polyline clip-path=\"url(#clip750)\" style=\"stroke:#000000; stroke-linecap:round; stroke-linejoin:round; stroke-width:4; stroke-opacity:1; fill:none\" points=\"218.754,1486.45 218.754,1467.55 \"/>\n",
       "<polyline clip-path=\"url(#clip750)\" style=\"stroke:#000000; stroke-linecap:round; stroke-linejoin:round; stroke-width:4; stroke-opacity:1; fill:none\" points=\"736.715,1486.45 736.715,1467.55 \"/>\n",
       "<polyline clip-path=\"url(#clip750)\" style=\"stroke:#000000; stroke-linecap:round; stroke-linejoin:round; stroke-width:4; stroke-opacity:1; fill:none\" points=\"1254.68,1486.45 1254.68,1467.55 \"/>\n",
       "<polyline clip-path=\"url(#clip750)\" style=\"stroke:#000000; stroke-linecap:round; stroke-linejoin:round; stroke-width:4; stroke-opacity:1; fill:none\" points=\"1772.64,1486.45 1772.64,1467.55 \"/>\n",
       "<polyline clip-path=\"url(#clip750)\" style=\"stroke:#000000; stroke-linecap:round; stroke-linejoin:round; stroke-width:4; stroke-opacity:1; fill:none\" points=\"2290.6,1486.45 2290.6,1467.55 \"/>\n",
       "<path clip-path=\"url(#clip750)\" d=\"M181.057 1517.37 Q177.446 1517.37 175.617 1520.93 Q173.812 1524.47 173.812 1531.6 Q173.812 1538.71 175.617 1542.27 Q177.446 1545.82 181.057 1545.82 Q184.691 1545.82 186.497 1542.27 Q188.326 1538.71 188.326 1531.6 Q188.326 1524.47 186.497 1520.93 Q184.691 1517.37 181.057 1517.37 M181.057 1513.66 Q186.867 1513.66 189.923 1518.27 Q193.001 1522.85 193.001 1531.6 Q193.001 1540.33 189.923 1544.94 Q186.867 1549.52 181.057 1549.52 Q175.247 1549.52 172.168 1544.94 Q169.113 1540.33 169.113 1531.6 Q169.113 1522.85 172.168 1518.27 Q175.247 1513.66 181.057 1513.66 Z\" fill=\"#000000\" fill-rule=\"nonzero\" fill-opacity=\"1\" /><path clip-path=\"url(#clip750)\" d=\"M201.219 1542.97 L206.103 1542.97 L206.103 1548.85 L201.219 1548.85 L201.219 1542.97 Z\" fill=\"#000000\" fill-rule=\"nonzero\" fill-opacity=\"1\" /><path clip-path=\"url(#clip750)\" d=\"M226.288 1517.37 Q222.677 1517.37 220.849 1520.93 Q219.043 1524.47 219.043 1531.6 Q219.043 1538.71 220.849 1542.27 Q222.677 1545.82 226.288 1545.82 Q229.923 1545.82 231.728 1542.27 Q233.557 1538.71 233.557 1531.6 Q233.557 1524.47 231.728 1520.93 Q229.923 1517.37 226.288 1517.37 M226.288 1513.66 Q232.098 1513.66 235.154 1518.27 Q238.233 1522.85 238.233 1531.6 Q238.233 1540.33 235.154 1544.94 Q232.098 1549.52 226.288 1549.52 Q220.478 1549.52 217.399 1544.94 Q214.344 1540.33 214.344 1531.6 Q214.344 1522.85 217.399 1518.27 Q220.478 1513.66 226.288 1513.66 Z\" fill=\"#000000\" fill-rule=\"nonzero\" fill-opacity=\"1\" /><path clip-path=\"url(#clip750)\" d=\"M256.45 1517.37 Q252.839 1517.37 251.01 1520.93 Q249.205 1524.47 249.205 1531.6 Q249.205 1538.71 251.01 1542.27 Q252.839 1545.82 256.45 1545.82 Q260.084 1545.82 261.89 1542.27 Q263.719 1538.71 263.719 1531.6 Q263.719 1524.47 261.89 1520.93 Q260.084 1517.37 256.45 1517.37 M256.45 1513.66 Q262.26 1513.66 265.316 1518.27 Q268.395 1522.85 268.395 1531.6 Q268.395 1540.33 265.316 1544.94 Q262.26 1549.52 256.45 1549.52 Q250.64 1549.52 247.561 1544.94 Q244.506 1540.33 244.506 1531.6 Q244.506 1522.85 247.561 1518.27 Q250.64 1513.66 256.45 1513.66 Z\" fill=\"#000000\" fill-rule=\"nonzero\" fill-opacity=\"1\" /><path clip-path=\"url(#clip750)\" d=\"M699.516 1517.37 Q695.905 1517.37 694.077 1520.93 Q692.271 1524.47 692.271 1531.6 Q692.271 1538.71 694.077 1542.27 Q695.905 1545.82 699.516 1545.82 Q703.151 1545.82 704.956 1542.27 Q706.785 1538.71 706.785 1531.6 Q706.785 1524.47 704.956 1520.93 Q703.151 1517.37 699.516 1517.37 M699.516 1513.66 Q705.327 1513.66 708.382 1518.27 Q711.461 1522.85 711.461 1531.6 Q711.461 1540.33 708.382 1544.94 Q705.327 1549.52 699.516 1549.52 Q693.706 1549.52 690.628 1544.94 Q687.572 1540.33 687.572 1531.6 Q687.572 1522.85 690.628 1518.27 Q693.706 1513.66 699.516 1513.66 Z\" fill=\"#000000\" fill-rule=\"nonzero\" fill-opacity=\"1\" /><path clip-path=\"url(#clip750)\" d=\"M719.678 1542.97 L724.563 1542.97 L724.563 1548.85 L719.678 1548.85 L719.678 1542.97 Z\" fill=\"#000000\" fill-rule=\"nonzero\" fill-opacity=\"1\" /><path clip-path=\"url(#clip750)\" d=\"M738.776 1544.91 L755.095 1544.91 L755.095 1548.85 L733.151 1548.85 L733.151 1544.91 Q735.813 1542.16 740.396 1537.53 Q745.002 1532.88 746.183 1531.53 Q748.428 1529.01 749.308 1527.27 Q750.211 1525.51 750.211 1523.82 Q750.211 1521.07 748.266 1519.33 Q746.345 1517.6 743.243 1517.6 Q741.044 1517.6 738.59 1518.36 Q736.16 1519.13 733.382 1520.68 L733.382 1515.95 Q736.206 1514.82 738.66 1514.24 Q741.113 1513.66 743.151 1513.66 Q748.521 1513.66 751.715 1516.35 Q754.91 1519.03 754.91 1523.52 Q754.91 1525.65 754.1 1527.57 Q753.312 1529.47 751.206 1532.07 Q750.627 1532.74 747.525 1535.95 Q744.424 1539.15 738.776 1544.91 Z\" fill=\"#000000\" fill-rule=\"nonzero\" fill-opacity=\"1\" /><path clip-path=\"url(#clip750)\" d=\"M764.956 1514.29 L783.312 1514.29 L783.312 1518.22 L769.238 1518.22 L769.238 1526.7 Q770.257 1526.35 771.275 1526.19 Q772.294 1526 773.312 1526 Q779.099 1526 782.479 1529.17 Q785.859 1532.34 785.859 1537.76 Q785.859 1543.34 782.386 1546.44 Q778.914 1549.52 772.595 1549.52 Q770.419 1549.52 768.15 1549.15 Q765.905 1548.78 763.498 1548.04 L763.498 1543.34 Q765.581 1544.47 767.803 1545.03 Q770.025 1545.58 772.502 1545.58 Q776.507 1545.58 778.845 1543.48 Q781.183 1541.37 781.183 1537.76 Q781.183 1534.15 778.845 1532.04 Q776.507 1529.94 772.502 1529.94 Q770.627 1529.94 768.752 1530.35 Q766.9 1530.77 764.956 1531.65 L764.956 1514.29 Z\" fill=\"#000000\" fill-rule=\"nonzero\" fill-opacity=\"1\" /><path clip-path=\"url(#clip750)\" d=\"M1216.98 1517.37 Q1213.37 1517.37 1211.54 1520.93 Q1209.74 1524.47 1209.74 1531.6 Q1209.74 1538.71 1211.54 1542.27 Q1213.37 1545.82 1216.98 1545.82 Q1220.61 1545.82 1222.42 1542.27 Q1224.25 1538.71 1224.25 1531.6 Q1224.25 1524.47 1222.42 1520.93 Q1220.61 1517.37 1216.98 1517.37 M1216.98 1513.66 Q1222.79 1513.66 1225.85 1518.27 Q1228.92 1522.85 1228.92 1531.6 Q1228.92 1540.33 1225.85 1544.94 Q1222.79 1549.52 1216.98 1549.52 Q1211.17 1549.52 1208.09 1544.94 Q1205.04 1540.33 1205.04 1531.6 Q1205.04 1522.85 1208.09 1518.27 Q1211.17 1513.66 1216.98 1513.66 Z\" fill=\"#000000\" fill-rule=\"nonzero\" fill-opacity=\"1\" /><path clip-path=\"url(#clip750)\" d=\"M1237.14 1542.97 L1242.03 1542.97 L1242.03 1548.85 L1237.14 1548.85 L1237.14 1542.97 Z\" fill=\"#000000\" fill-rule=\"nonzero\" fill-opacity=\"1\" /><path clip-path=\"url(#clip750)\" d=\"M1252.26 1514.29 L1270.61 1514.29 L1270.61 1518.22 L1256.54 1518.22 L1256.54 1526.7 Q1257.56 1526.35 1258.58 1526.19 Q1259.6 1526 1260.61 1526 Q1266.4 1526 1269.78 1529.17 Q1273.16 1532.34 1273.16 1537.76 Q1273.16 1543.34 1269.69 1546.44 Q1266.22 1549.52 1259.9 1549.52 Q1257.72 1549.52 1255.45 1549.15 Q1253.21 1548.78 1250.8 1548.04 L1250.8 1543.34 Q1252.88 1544.47 1255.11 1545.03 Q1257.33 1545.58 1259.8 1545.58 Q1263.81 1545.58 1266.15 1543.48 Q1268.48 1541.37 1268.48 1537.76 Q1268.48 1534.15 1266.15 1532.04 Q1263.81 1529.94 1259.8 1529.94 Q1257.93 1529.94 1256.05 1530.35 Q1254.2 1530.77 1252.26 1531.65 L1252.26 1514.29 Z\" fill=\"#000000\" fill-rule=\"nonzero\" fill-opacity=\"1\" /><path clip-path=\"url(#clip750)\" d=\"M1292.37 1517.37 Q1288.76 1517.37 1286.93 1520.93 Q1285.13 1524.47 1285.13 1531.6 Q1285.13 1538.71 1286.93 1542.27 Q1288.76 1545.82 1292.37 1545.82 Q1296.01 1545.82 1297.81 1542.27 Q1299.64 1538.71 1299.64 1531.6 Q1299.64 1524.47 1297.81 1520.93 Q1296.01 1517.37 1292.37 1517.37 M1292.37 1513.66 Q1298.18 1513.66 1301.24 1518.27 Q1304.32 1522.85 1304.32 1531.6 Q1304.32 1540.33 1301.24 1544.94 Q1298.18 1549.52 1292.37 1549.52 Q1286.56 1549.52 1283.48 1544.94 Q1280.43 1540.33 1280.43 1531.6 Q1280.43 1522.85 1283.48 1518.27 Q1286.56 1513.66 1292.37 1513.66 Z\" fill=\"#000000\" fill-rule=\"nonzero\" fill-opacity=\"1\" /><path clip-path=\"url(#clip750)\" d=\"M1735.44 1517.37 Q1731.83 1517.37 1730 1520.93 Q1728.19 1524.47 1728.19 1531.6 Q1728.19 1538.71 1730 1542.27 Q1731.83 1545.82 1735.44 1545.82 Q1739.07 1545.82 1740.88 1542.27 Q1742.71 1538.71 1742.71 1531.6 Q1742.71 1524.47 1740.88 1520.93 Q1739.07 1517.37 1735.44 1517.37 M1735.44 1513.66 Q1741.25 1513.66 1744.31 1518.27 Q1747.38 1522.85 1747.38 1531.6 Q1747.38 1540.33 1744.31 1544.94 Q1741.25 1549.52 1735.44 1549.52 Q1729.63 1549.52 1726.55 1544.94 Q1723.5 1540.33 1723.5 1531.6 Q1723.5 1522.85 1726.55 1518.27 Q1729.63 1513.66 1735.44 1513.66 Z\" fill=\"#000000\" fill-rule=\"nonzero\" fill-opacity=\"1\" /><path clip-path=\"url(#clip750)\" d=\"M1755.6 1542.97 L1760.49 1542.97 L1760.49 1548.85 L1755.6 1548.85 L1755.6 1542.97 Z\" fill=\"#000000\" fill-rule=\"nonzero\" fill-opacity=\"1\" /><path clip-path=\"url(#clip750)\" d=\"M1769.49 1514.29 L1791.71 1514.29 L1791.71 1516.28 L1779.17 1548.85 L1774.28 1548.85 L1786.09 1518.22 L1769.49 1518.22 L1769.49 1514.29 Z\" fill=\"#000000\" fill-rule=\"nonzero\" fill-opacity=\"1\" /><path clip-path=\"url(#clip750)\" d=\"M1800.88 1514.29 L1819.24 1514.29 L1819.24 1518.22 L1805.16 1518.22 L1805.16 1526.7 Q1806.18 1526.35 1807.2 1526.19 Q1808.22 1526 1809.24 1526 Q1815.02 1526 1818.4 1529.17 Q1821.78 1532.34 1821.78 1537.76 Q1821.78 1543.34 1818.31 1546.44 Q1814.84 1549.52 1808.52 1549.52 Q1806.34 1549.52 1804.07 1549.15 Q1801.83 1548.78 1799.42 1548.04 L1799.42 1543.34 Q1801.5 1544.47 1803.73 1545.03 Q1805.95 1545.58 1808.43 1545.58 Q1812.43 1545.58 1814.77 1543.48 Q1817.11 1541.37 1817.11 1537.76 Q1817.11 1534.15 1814.77 1532.04 Q1812.43 1529.94 1808.43 1529.94 Q1806.55 1529.94 1804.68 1530.35 Q1802.82 1530.77 1800.88 1531.65 L1800.88 1514.29 Z\" fill=\"#000000\" fill-rule=\"nonzero\" fill-opacity=\"1\" /><path clip-path=\"url(#clip750)\" d=\"M2242.67 1544.91 L2250.31 1544.91 L2250.31 1518.55 L2242 1520.21 L2242 1515.95 L2250.27 1514.29 L2254.94 1514.29 L2254.94 1544.91 L2262.58 1544.91 L2262.58 1548.85 L2242.67 1548.85 L2242.67 1544.91 Z\" fill=\"#000000\" fill-rule=\"nonzero\" fill-opacity=\"1\" /><path clip-path=\"url(#clip750)\" d=\"M2272.02 1542.97 L2276.91 1542.97 L2276.91 1548.85 L2272.02 1548.85 L2272.02 1542.97 Z\" fill=\"#000000\" fill-rule=\"nonzero\" fill-opacity=\"1\" /><path clip-path=\"url(#clip750)\" d=\"M2297.09 1517.37 Q2293.48 1517.37 2291.65 1520.93 Q2289.85 1524.47 2289.85 1531.6 Q2289.85 1538.71 2291.65 1542.27 Q2293.48 1545.82 2297.09 1545.82 Q2300.73 1545.82 2302.53 1542.27 Q2304.36 1538.71 2304.36 1531.6 Q2304.36 1524.47 2302.53 1520.93 Q2300.73 1517.37 2297.09 1517.37 M2297.09 1513.66 Q2302.9 1513.66 2305.96 1518.27 Q2309.04 1522.85 2309.04 1531.6 Q2309.04 1540.33 2305.96 1544.94 Q2302.9 1549.52 2297.09 1549.52 Q2291.28 1549.52 2288.2 1544.94 Q2285.15 1540.33 2285.15 1531.6 Q2285.15 1522.85 2288.2 1518.27 Q2291.28 1513.66 2297.09 1513.66 Z\" fill=\"#000000\" fill-rule=\"nonzero\" fill-opacity=\"1\" /><path clip-path=\"url(#clip750)\" d=\"M2327.26 1517.37 Q2323.64 1517.37 2321.82 1520.93 Q2320.01 1524.47 2320.01 1531.6 Q2320.01 1538.71 2321.82 1542.27 Q2323.64 1545.82 2327.26 1545.82 Q2330.89 1545.82 2332.7 1542.27 Q2334.52 1538.71 2334.52 1531.6 Q2334.52 1524.47 2332.7 1520.93 Q2330.89 1517.37 2327.26 1517.37 M2327.26 1513.66 Q2333.07 1513.66 2336.12 1518.27 Q2339.2 1522.85 2339.2 1531.6 Q2339.2 1540.33 2336.12 1544.94 Q2333.07 1549.52 2327.26 1549.52 Q2321.45 1549.52 2318.37 1544.94 Q2315.31 1540.33 2315.31 1531.6 Q2315.31 1522.85 2318.37 1518.27 Q2321.45 1513.66 2327.26 1513.66 Z\" fill=\"#000000\" fill-rule=\"nonzero\" fill-opacity=\"1\" /><polyline clip-path=\"url(#clip752)\" style=\"stroke:#000000; stroke-linecap:round; stroke-linejoin:round; stroke-width:2; stroke-opacity:0.1; fill:none\" points=\"156.598,1249.37 2352.76,1249.37 \"/>\n",
       "<polyline clip-path=\"url(#clip752)\" style=\"stroke:#000000; stroke-linecap:round; stroke-linejoin:round; stroke-width:2; stroke-opacity:0.1; fill:none\" points=\"156.598,917.541 2352.76,917.541 \"/>\n",
       "<polyline clip-path=\"url(#clip752)\" style=\"stroke:#000000; stroke-linecap:round; stroke-linejoin:round; stroke-width:2; stroke-opacity:0.1; fill:none\" points=\"156.598,585.715 2352.76,585.715 \"/>\n",
       "<polyline clip-path=\"url(#clip752)\" style=\"stroke:#000000; stroke-linecap:round; stroke-linejoin:round; stroke-width:2; stroke-opacity:0.1; fill:none\" points=\"156.598,253.889 2352.76,253.889 \"/>\n",
       "<polyline clip-path=\"url(#clip750)\" style=\"stroke:#000000; stroke-linecap:round; stroke-linejoin:round; stroke-width:4; stroke-opacity:1; fill:none\" points=\"156.598,1486.45 156.598,47.2441 \"/>\n",
       "<polyline clip-path=\"url(#clip750)\" style=\"stroke:#000000; stroke-linecap:round; stroke-linejoin:round; stroke-width:4; stroke-opacity:1; fill:none\" points=\"156.598,1249.37 175.496,1249.37 \"/>\n",
       "<polyline clip-path=\"url(#clip750)\" style=\"stroke:#000000; stroke-linecap:round; stroke-linejoin:round; stroke-width:4; stroke-opacity:1; fill:none\" points=\"156.598,917.541 175.496,917.541 \"/>\n",
       "<polyline clip-path=\"url(#clip750)\" style=\"stroke:#000000; stroke-linecap:round; stroke-linejoin:round; stroke-width:4; stroke-opacity:1; fill:none\" points=\"156.598,585.715 175.496,585.715 \"/>\n",
       "<polyline clip-path=\"url(#clip750)\" style=\"stroke:#000000; stroke-linecap:round; stroke-linejoin:round; stroke-width:4; stroke-opacity:1; fill:none\" points=\"156.598,253.889 175.496,253.889 \"/>\n",
       "<path clip-path=\"url(#clip750)\" d=\"M64.0708 1235.17 Q60.4597 1235.17 58.631 1238.73 Q56.8254 1242.27 56.8254 1249.4 Q56.8254 1256.51 58.631 1260.07 Q60.4597 1263.61 64.0708 1263.61 Q67.705 1263.61 69.5105 1260.07 Q71.3392 1256.51 71.3392 1249.4 Q71.3392 1242.27 69.5105 1238.73 Q67.705 1235.17 64.0708 1235.17 M64.0708 1231.46 Q69.8809 1231.46 72.9365 1236.07 Q76.0151 1240.65 76.0151 1249.4 Q76.0151 1258.13 72.9365 1262.74 Q69.8809 1267.32 64.0708 1267.32 Q58.2606 1267.32 55.1819 1262.74 Q52.1264 1258.13 52.1264 1249.4 Q52.1264 1240.65 55.1819 1236.07 Q58.2606 1231.46 64.0708 1231.46 Z\" fill=\"#000000\" fill-rule=\"nonzero\" fill-opacity=\"1\" /><path clip-path=\"url(#clip750)\" d=\"M84.2327 1260.77 L89.1169 1260.77 L89.1169 1266.65 L84.2327 1266.65 L84.2327 1260.77 Z\" fill=\"#000000\" fill-rule=\"nonzero\" fill-opacity=\"1\" /><path clip-path=\"url(#clip750)\" d=\"M113.469 1248.01 Q116.825 1248.73 118.7 1251 Q120.598 1253.27 120.598 1256.6 Q120.598 1261.72 117.08 1264.52 Q113.561 1267.32 107.08 1267.32 Q104.904 1267.32 102.589 1266.88 Q100.297 1266.46 97.8437 1265.61 L97.8437 1261.09 Q99.7882 1262.23 102.103 1262.8 Q104.418 1263.38 106.941 1263.38 Q111.339 1263.38 113.631 1261.65 Q115.945 1259.91 115.945 1256.6 Q115.945 1253.55 113.793 1251.83 Q111.663 1250.1 107.844 1250.1 L103.816 1250.1 L103.816 1246.25 L108.029 1246.25 Q111.478 1246.25 113.307 1244.89 Q115.135 1243.5 115.135 1240.91 Q115.135 1238.24 113.237 1236.83 Q111.362 1235.4 107.844 1235.4 Q105.922 1235.4 103.723 1235.81 Q101.524 1236.23 98.8854 1237.11 L98.8854 1232.94 Q101.547 1232.2 103.862 1231.83 Q106.2 1231.46 108.26 1231.46 Q113.584 1231.46 116.686 1233.89 Q119.788 1236.3 119.788 1240.42 Q119.788 1243.29 118.145 1245.28 Q116.501 1247.25 113.469 1248.01 Z\" fill=\"#000000\" fill-rule=\"nonzero\" fill-opacity=\"1\" /><path clip-path=\"url(#clip750)\" d=\"M62.9365 903.34 Q59.3254 903.34 57.4967 906.905 Q55.6912 910.446 55.6912 917.576 Q55.6912 924.682 57.4967 928.247 Q59.3254 931.789 62.9365 931.789 Q66.5707 931.789 68.3763 928.247 Q70.205 924.682 70.205 917.576 Q70.205 910.446 68.3763 906.905 Q66.5707 903.34 62.9365 903.34 M62.9365 899.636 Q68.7467 899.636 71.8022 904.243 Q74.8809 908.826 74.8809 917.576 Q74.8809 926.303 71.8022 930.909 Q68.7467 935.492 62.9365 935.492 Q57.1264 935.492 54.0477 930.909 Q50.9921 926.303 50.9921 917.576 Q50.9921 908.826 54.0477 904.243 Q57.1264 899.636 62.9365 899.636 Z\" fill=\"#000000\" fill-rule=\"nonzero\" fill-opacity=\"1\" /><path clip-path=\"url(#clip750)\" d=\"M83.0984 928.942 L87.9827 928.942 L87.9827 934.821 L83.0984 934.821 L83.0984 928.942 Z\" fill=\"#000000\" fill-rule=\"nonzero\" fill-opacity=\"1\" /><path clip-path=\"url(#clip750)\" d=\"M111.015 904.335 L99.2095 922.784 L111.015 922.784 L111.015 904.335 M109.788 900.261 L115.668 900.261 L115.668 922.784 L120.598 922.784 L120.598 926.673 L115.668 926.673 L115.668 934.821 L111.015 934.821 L111.015 926.673 L95.4132 926.673 L95.4132 922.159 L109.788 900.261 Z\" fill=\"#000000\" fill-rule=\"nonzero\" fill-opacity=\"1\" /><path clip-path=\"url(#clip750)\" d=\"M64.418 571.514 Q60.8069 571.514 58.9782 575.079 Q57.1726 578.62 57.1726 585.75 Q57.1726 592.856 58.9782 596.421 Q60.8069 599.963 64.418 599.963 Q68.0522 599.963 69.8578 596.421 Q71.6865 592.856 71.6865 585.75 Q71.6865 578.62 69.8578 575.079 Q68.0522 571.514 64.418 571.514 M64.418 567.81 Q70.2281 567.81 73.2837 572.417 Q76.3624 577 76.3624 585.75 Q76.3624 594.477 73.2837 599.083 Q70.2281 603.666 64.418 603.666 Q58.6078 603.666 55.5291 599.083 Q52.4736 594.477 52.4736 585.75 Q52.4736 577 55.5291 572.417 Q58.6078 567.81 64.418 567.81 Z\" fill=\"#000000\" fill-rule=\"nonzero\" fill-opacity=\"1\" /><path clip-path=\"url(#clip750)\" d=\"M84.5799 597.116 L89.4641 597.116 L89.4641 602.995 L84.5799 602.995 L84.5799 597.116 Z\" fill=\"#000000\" fill-rule=\"nonzero\" fill-opacity=\"1\" /><path clip-path=\"url(#clip750)\" d=\"M99.6956 568.435 L118.052 568.435 L118.052 572.37 L103.978 572.37 L103.978 580.843 Q104.996 580.495 106.015 580.333 Q107.033 580.148 108.052 580.148 Q113.839 580.148 117.219 583.319 Q120.598 586.491 120.598 591.907 Q120.598 597.486 117.126 600.588 Q113.654 603.666 107.334 603.666 Q105.159 603.666 102.89 603.296 Q100.645 602.926 98.2372 602.185 L98.2372 597.486 Q100.321 598.62 102.543 599.176 Q104.765 599.731 107.242 599.731 Q111.246 599.731 113.584 597.625 Q115.922 595.518 115.922 591.907 Q115.922 588.296 113.584 586.19 Q111.246 584.083 107.242 584.083 Q105.367 584.083 103.492 584.5 Q101.64 584.917 99.6956 585.796 L99.6956 568.435 Z\" fill=\"#000000\" fill-rule=\"nonzero\" fill-opacity=\"1\" /><path clip-path=\"url(#clip750)\" d=\"M63.2606 239.688 Q59.6495 239.688 57.8208 243.253 Q56.0152 246.794 56.0152 253.924 Q56.0152 261.03 57.8208 264.595 Q59.6495 268.137 63.2606 268.137 Q66.8948 268.137 68.7004 264.595 Q70.5291 261.03 70.5291 253.924 Q70.5291 246.794 68.7004 243.253 Q66.8948 239.688 63.2606 239.688 M63.2606 235.984 Q69.0707 235.984 72.1263 240.591 Q75.205 245.174 75.205 253.924 Q75.205 262.651 72.1263 267.257 Q69.0707 271.841 63.2606 271.841 Q57.4504 271.841 54.3717 267.257 Q51.3162 262.651 51.3162 253.924 Q51.3162 245.174 54.3717 240.591 Q57.4504 235.984 63.2606 235.984 Z\" fill=\"#000000\" fill-rule=\"nonzero\" fill-opacity=\"1\" /><path clip-path=\"url(#clip750)\" d=\"M83.4225 265.29 L88.3067 265.29 L88.3067 271.169 L83.4225 271.169 L83.4225 265.29 Z\" fill=\"#000000\" fill-rule=\"nonzero\" fill-opacity=\"1\" /><path clip-path=\"url(#clip750)\" d=\"M109.071 252.026 Q105.922 252.026 104.071 254.179 Q102.242 256.331 102.242 260.081 Q102.242 263.808 104.071 265.984 Q105.922 268.137 109.071 268.137 Q112.219 268.137 114.047 265.984 Q115.899 263.808 115.899 260.081 Q115.899 256.331 114.047 254.179 Q112.219 252.026 109.071 252.026 M118.353 237.373 L118.353 241.632 Q116.594 240.799 114.788 240.359 Q113.006 239.919 111.246 239.919 Q106.617 239.919 104.163 243.044 Q101.733 246.169 101.385 252.489 Q102.751 250.475 104.811 249.41 Q106.871 248.322 109.348 248.322 Q114.557 248.322 117.566 251.493 Q120.598 254.642 120.598 260.081 Q120.598 265.405 117.45 268.623 Q114.302 271.841 109.071 271.841 Q103.075 271.841 99.9039 267.257 Q96.7326 262.651 96.7326 253.924 Q96.7326 245.73 100.621 240.868 Q104.51 235.984 111.061 235.984 Q112.82 235.984 114.603 236.331 Q116.408 236.679 118.353 237.373 Z\" fill=\"#000000\" fill-rule=\"nonzero\" fill-opacity=\"1\" /><polyline clip-path=\"url(#clip752)\" style=\"stroke:#009af9; stroke-linecap:round; stroke-linejoin:round; stroke-width:4; stroke-opacity:1; fill:none\" points=\"218.754,1421.8 232.242,1416.43 356.966,1365.17 431.92,1332.98 495.293,1304.92 564.133,1273.53 627.598,1243.74 695.639,1210.87 774.471,1171.53 844.528,1135.43 905.961,1102.84 972.94,1066.32 1040.32,1028.48 1114.81,985.355 1185.69,943.011 1259.39,897.593 1321.42,858.231 1397.17,808.737 1466.55,761.971 1530.63,717.534 1595.54,671.271 1668.29,617.887 1734.21,568.074 1809.69,509.315 1879.57,453.22 1948.47,396.283 2015.36,339.408 2083.94,279.431 2159.07,211.722 2268.21,109.521 2290.6,87.9763 \"/>\n",
       "<polyline clip-path=\"url(#clip752)\" style=\"stroke:#e26f46; stroke-linecap:round; stroke-linejoin:round; stroke-width:4; stroke-opacity:1; fill:none\" points=\"218.754,1445.72 232.242,1440.5 356.966,1390.73 431.92,1359.48 495.293,1332.23 564.133,1301.75 627.598,1272.83 695.639,1240.91 774.471,1202.72 844.528,1167.66 905.961,1136.03 972.94,1100.56 1040.32,1063.83 1114.81,1021.95 1185.69,980.837 1259.39,936.739 1321.42,898.521 1397.17,850.465 1466.55,805.057 1530.63,761.912 1595.54,716.992 1668.29,665.16 1734.21,616.794 1809.69,559.548 1879.57,503.417 1914.02,474.493 1948.47,444.71 1981.92,414.95 2015.36,384.336 2049.65,352.043 2083.94,318.806 2121.5,281.275 2159.07,242.545 2213.64,184.075 2268.21,122.89 2279.41,109.991 2290.6,96.973 \"/>\n",
       "<path clip-path=\"url(#clip750)\" d=\"M229.803 250.738 L501.85 250.738 L501.85 95.2176 L229.803 95.2176  Z\" fill=\"#ffffff\" fill-rule=\"evenodd\" fill-opacity=\"1\"/>\n",
       "<polyline clip-path=\"url(#clip750)\" style=\"stroke:#000000; stroke-linecap:round; stroke-linejoin:round; stroke-width:4; stroke-opacity:1; fill:none\" points=\"229.803,250.738 501.85,250.738 501.85,95.2176 229.803,95.2176 229.803,250.738 \"/>\n",
       "<polyline clip-path=\"url(#clip750)\" style=\"stroke:#009af9; stroke-linecap:round; stroke-linejoin:round; stroke-width:4; stroke-opacity:1; fill:none\" points=\"254.205,147.058 400.616,147.058 \"/>\n",
       "<path clip-path=\"url(#clip750)\" d=\"M438.86 166.745 Q437.054 171.375 435.342 172.787 Q433.629 174.199 430.758 174.199 L427.355 174.199 L427.355 170.634 L429.855 170.634 Q431.615 170.634 432.587 169.8 Q433.559 168.967 434.74 165.865 L435.504 163.921 L425.018 138.412 L429.531 138.412 L437.633 158.689 L445.735 138.412 L450.249 138.412 L438.86 166.745 Z\" fill=\"#000000\" fill-rule=\"nonzero\" fill-opacity=\"1\" /><path clip-path=\"url(#clip750)\" d=\"M457.54 160.402 L465.179 160.402 L465.179 134.037 L456.869 135.703 L456.869 131.444 L465.133 129.778 L469.809 129.778 L469.809 160.402 L477.448 160.402 L477.448 164.338 L457.54 164.338 L457.54 160.402 Z\" fill=\"#000000\" fill-rule=\"nonzero\" fill-opacity=\"1\" /><polyline clip-path=\"url(#clip750)\" style=\"stroke:#e26f46; stroke-linecap:round; stroke-linejoin:round; stroke-width:4; stroke-opacity:1; fill:none\" points=\"254.205,198.898 400.616,198.898 \"/>\n",
       "<path clip-path=\"url(#clip750)\" d=\"M438.86 218.585 Q437.054 223.215 435.342 224.627 Q433.629 226.039 430.758 226.039 L427.355 226.039 L427.355 222.474 L429.855 222.474 Q431.615 222.474 432.587 221.64 Q433.559 220.807 434.74 217.705 L435.504 215.761 L425.018 190.252 L429.531 190.252 L437.633 210.529 L445.735 190.252 L450.249 190.252 L438.86 218.585 Z\" fill=\"#000000\" fill-rule=\"nonzero\" fill-opacity=\"1\" /><path clip-path=\"url(#clip750)\" d=\"M460.758 212.242 L477.077 212.242 L477.077 216.178 L455.133 216.178 L455.133 212.242 Q457.795 209.488 462.378 204.858 Q466.985 200.205 468.165 198.863 Q470.411 196.34 471.29 194.604 Q472.193 192.844 472.193 191.155 Q472.193 188.4 470.249 186.664 Q468.327 184.928 465.226 184.928 Q463.027 184.928 460.573 185.692 Q458.142 186.455 455.365 188.006 L455.365 183.284 Q458.189 182.15 460.642 181.571 Q463.096 180.993 465.133 180.993 Q470.503 180.993 473.698 183.678 Q476.892 186.363 476.892 190.854 Q476.892 192.983 476.082 194.905 Q475.295 196.803 473.189 199.395 Q472.61 200.067 469.508 203.284 Q466.406 206.479 460.758 212.242 Z\" fill=\"#000000\" fill-rule=\"nonzero\" fill-opacity=\"1\" /></svg>\n"
      ]
     },
     "execution_count": 13,
     "metadata": {},
     "output_type": "execute_result"
    }
   ],
   "source": [
    "plot(surplus(m_1 => 7,m_2=>7,v_1=>.65,v_2=>.65,n=>14),0,1)\n",
    "plot!(surplus(m_1 => 7,m_2=>7,v_1=>.8,v_2=>.5,n=>14),0,1)"
   ]
  }
 ],
 "metadata": {
  "kernelspec": {
   "display_name": "Julia 1.8.5",
   "language": "julia",
   "name": "julia-1.8"
  },
  "language_info": {
   "file_extension": ".jl",
   "mimetype": "application/julia",
   "name": "julia",
   "version": "1.8.5"
  }
 },
 "nbformat": 4,
 "nbformat_minor": 5
}
