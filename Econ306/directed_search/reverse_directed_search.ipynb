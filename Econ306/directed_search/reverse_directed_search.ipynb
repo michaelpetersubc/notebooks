{
 "cells": [
  {
   "cell_type": "markdown",
   "id": "f1bf0e55-0b5a-45a2-b30f-efdc4696162c",
   "metadata": {},
   "source": [
    "## Trading Probability and Surplus\n",
    "\n",
    "The point of this notebook is to compute the average number of trades and the expected surplus in the reverse directed search model 2 tier case.  The question is what happens when the difference in quality  between the 2 tiers increases.  This is part of a bigger question about what happens when the accuracy of the mapinator classification improves.  Does this create enough friction (competition for the top tier candates) to make things worse off."
   ]
  },
  {
   "cell_type": "code",
   "execution_count": 1,
   "id": "dbf3805c-336e-4160-b090-f5c68f45ac74",
   "metadata": {},
   "outputs": [
    {
     "data": {
      "text/plain": [
       "(x, z, y, v_1, v_2, n, m_1, m_2)"
      ]
     },
     "execution_count": 1,
     "metadata": {},
     "output_type": "execute_result"
    }
   ],
   "source": [
    "using SymPy, Plots\n",
    "x,z,y, v_1, v_2, n, m_1, m_2 = symbols(\"x,z,y, v_1, v_2, n, m_1, m_2\")"
   ]
  },
  {
   "cell_type": "markdown",
   "id": "5d7d90c0-c269-47bc-ae6a-d38f9d5857c5",
   "metadata": {},
   "source": [
    "There are two functions\n",
    "$$\n",
    "Q_1(x) = (1-\\overline{\\pi}\\frac{(F(x^\\ast)-F(x))}{m_1}-\\frac{1-F(x^\\ast)}{m_1})^{(n-1)}\n",
    "$$\n",
    "when $x<x^\\ast$ and\n",
    "$$\n",
    "Q_1(x) = (1-(\\frac{1-F(x)}{m_1}))^{n-1}\n",
    "$$\n",
    "otherwise."
   ]
  },
  {
   "cell_type": "code",
   "execution_count": 2,
   "id": "a44a63f2-930f-432a-a9fa-10380178b945",
   "metadata": {},
   "outputs": [
    {
     "data": {
      "text/latex": [
       "$m_{1} \\left(\\frac{v_{2}}{v_{1}}\\right)^{\\frac{1}{n - 1}} - m_{1} + 1$"
      ],
      "text/plain": [
       "         1           \n",
       "       ─────         \n",
       "       n - 1         \n",
       "   ⎛v₂⎞              \n",
       "m₁⋅⎜──⎟      - m₁ + 1\n",
       "   ⎝v₁⎠              "
      ]
     },
     "execution_count": 2,
     "metadata": {},
     "output_type": "execute_result"
    }
   ],
   "source": [
    "# find the cutoff\n",
    "rhs = v_1*((1-(1-y)/(m_1))^(n-1))\n",
    "z=solve(v_2-rhs,y)[1]"
   ]
  },
  {
   "cell_type": "code",
   "execution_count": 3,
   "id": "0ac1383b-6a95-407f-bd46-e26f7cac50c8",
   "metadata": {},
   "outputs": [
    {
     "data": {
      "text/latex": [
       "$\\frac{m_{1} \\left(\\frac{v_{2}}{v_{1}}\\right)^{\\frac{1}{n - 1}}}{m_{2} \\left(\\frac{m_{1} \\left(\\frac{v_{2}}{v_{1}}\\right)^{\\frac{1}{n - 1}}}{m_{2}} + 1\\right)}$"
      ],
      "text/plain": [
       "              1      \n",
       "            ─────    \n",
       "            n - 1    \n",
       "        ⎛v₂⎞         \n",
       "     m₁⋅⎜──⎟         \n",
       "        ⎝v₁⎠         \n",
       "─────────────────────\n",
       "   ⎛         1      ⎞\n",
       "   ⎜       ─────    ⎟\n",
       "   ⎜       n - 1    ⎟\n",
       "   ⎜   ⎛v₂⎞         ⎟\n",
       "   ⎜m₁⋅⎜──⎟         ⎟\n",
       "   ⎜   ⎝v₁⎠         ⎟\n",
       "m₂⋅⎜──────────── + 1⎟\n",
       "   ⎝     m₂         ⎠"
      ]
     },
     "execution_count": 3,
     "metadata": {},
     "output_type": "execute_result"
    }
   ],
   "source": [
    "\n",
    "pi =(v_2/v_1)^(1/(n-1))*m_1/m_2/(1+(v_2/v_1)^(1/(n-1))*m_1/m_2)"
   ]
  },
  {
   "cell_type": "code",
   "execution_count": 4,
   "id": "63db09cc-07bd-4c4d-bc0d-a7e03c174c4c",
   "metadata": {},
   "outputs": [
    {
     "data": {
      "text/latex": [
       "$\\left(1 - \\frac{\\left(\\frac{v_{2}}{v_{1}}\\right)^{\\frac{1}{n - 1}} \\max\\left(0, m_{1} \\left(\\frac{v_{2}}{v_{1}}\\right)^{\\frac{1}{n - 1}} - m_{1} - x + 1\\right)}{m_{2} \\left(\\frac{m_{1} \\left(\\frac{v_{2}}{v_{1}}\\right)^{\\frac{1}{n - 1}}}{m_{2}} + 1\\right)} - \\frac{1 - \\max\\left(x, m_{1} \\left(\\frac{v_{2}}{v_{1}}\\right)^{\\frac{1}{n - 1}} - m_{1} + 1\\right)}{m_{1}}\\right)^{n - 1}$"
      ],
      "text/plain": [
       "                                                                              \n",
       "⎛          1                                                                  \n",
       "⎜        ─────                                                                \n",
       "⎜        n - 1                                                                \n",
       "⎜    ⎛v₂⎞                                                                     \n",
       "⎜    ⎜──⎟     ⋅Max(0, m_1*(v_2/v_1)**(1/(n - 1)) - m_1 - x + 1)               \n",
       "⎜    ⎝v₁⎠                                                         1 - Max(x, m\n",
       "⎜1 - ────────────────────────────────────────────────────────── - ────────────\n",
       "⎜                         ⎛         1      ⎞                                  \n",
       "⎜                         ⎜       ─────    ⎟                                  \n",
       "⎜                         ⎜       n - 1    ⎟                                  \n",
       "⎜                         ⎜   ⎛v₂⎞         ⎟                                  \n",
       "⎜                         ⎜m₁⋅⎜──⎟         ⎟                                  \n",
       "⎜                         ⎜   ⎝v₁⎠         ⎟                                  \n",
       "⎜                      m₂⋅⎜──────────── + 1⎟                                  \n",
       "⎝                         ⎝     m₂         ⎠                                  \n",
       "\n",
       "                                     n - 1\n",
       "                                    ⎞     \n",
       "                                    ⎟     \n",
       "                                    ⎟     \n",
       "                                    ⎟     \n",
       "                                    ⎟     \n",
       "_1*(v_2/v_1)**(1/(n - 1)) - m_1 + 1)⎟     \n",
       "────────────────────────────────────⎟     \n",
       "           m₁                       ⎟     \n",
       "                                    ⎟     \n",
       "                                    ⎟     \n",
       "                                    ⎟     \n",
       "                                    ⎟     \n",
       "                                    ⎟     \n",
       "                                    ⎟     \n",
       "                                    ⎠     "
      ]
     },
     "execution_count": 4,
     "metadata": {},
     "output_type": "execute_result"
    }
   ],
   "source": [
    "Q_1 = (1-(max(z-x,0)*pi)/m_1 - ((1-max(z,x))/m_1))^(n-1)"
   ]
  },
  {
   "cell_type": "code",
   "execution_count": 5,
   "id": "7c3c8266-dfd6-4eaa-9e0a-af06821f6ca4",
   "metadata": {},
   "outputs": [
    {
     "data": {
      "text/latex": [
       "$\\begin{cases} \\frac{m_{1} \\left(\\frac{v_{2}}{v_{1}}\\right)^{\\frac{1}{n - 1}}}{m_{2} \\left(\\frac{m_{1} \\left(\\frac{v_{2}}{v_{1}}\\right)^{\\frac{1}{n - 1}}}{m_{2}} + 1\\right)} & \\text{for}\\: x \\leq m_{1} \\left(\\frac{v_{2}}{v_{1}}\\right)^{\\frac{1}{n - 1}} - m_{1} + 1 \\\\1 & \\text{otherwise} \\end{cases}$"
      ],
      "text/plain": [
       "⎧              1                                     \n",
       "⎪            ─────                                   \n",
       "⎪            n - 1                       1           \n",
       "⎪        ⎛v₂⎞                          ─────         \n",
       "⎪     m₁⋅⎜──⎟                          n - 1         \n",
       "⎪        ⎝v₁⎠                      ⎛v₂⎞              \n",
       "⎪─────────────────────  for x ≤ m₁⋅⎜──⎟      - m₁ + 1\n",
       "⎪   ⎛         1      ⎞             ⎝v₁⎠              \n",
       "⎨   ⎜       ─────    ⎟                               \n",
       "⎪   ⎜       n - 1    ⎟                               \n",
       "⎪   ⎜   ⎛v₂⎞         ⎟                               \n",
       "⎪   ⎜m₁⋅⎜──⎟         ⎟                               \n",
       "⎪   ⎜   ⎝v₁⎠         ⎟                               \n",
       "⎪m₂⋅⎜──────────── + 1⎟                               \n",
       "⎪   ⎝     m₂         ⎠                               \n",
       "⎪                                                    \n",
       "⎩          1                      otherwise          "
      ]
     },
     "execution_count": 5,
     "metadata": {},
     "output_type": "execute_result"
    }
   ],
   "source": [
    "pbar = sympy.Piecewise((pi, Le(x,z)), (1, Gt(x,z)))"
   ]
  },
  {
   "cell_type": "code",
   "execution_count": 6,
   "id": "943c66d0-33c5-4f4b-b0da-956793dfce67",
   "metadata": {},
   "outputs": [
    {
     "data": {
      "text/latex": [
       "$\\left(1 - \\frac{\\left(- \\frac{m_{1} \\left(\\frac{v_{2}}{v_{1}}\\right)^{\\frac{1}{n - 1}}}{m_{2} \\left(\\frac{m_{1} \\left(\\frac{v_{2}}{v_{1}}\\right)^{\\frac{1}{n - 1}}}{m_{2}} + 1\\right)} + 1\\right) \\max\\left(0, m_{1} \\left(\\frac{v_{2}}{v_{1}}\\right)^{\\frac{1}{n - 1}} - m_{1} - x + 1\\right)}{m_{2}}\\right)^{n - 1}$"
      ],
      "text/plain": [
       "                                                                              \n",
       "⎛    ⎛                1          ⎞                                            \n",
       "⎜    ⎜              ─────        ⎟                                            \n",
       "⎜    ⎜              n - 1        ⎟                                            \n",
       "⎜    ⎜          ⎛v₂⎞             ⎟                                            \n",
       "⎜    ⎜       m₁⋅⎜──⎟             ⎟                                            \n",
       "⎜    ⎜          ⎝v₁⎠             ⎟                                            \n",
       "⎜    ⎜- ───────────────────── + 1⎟⋅Max(0, m_1*(v_2/v_1)**(1/(n - 1)) - m_1 - x\n",
       "⎜    ⎜     ⎛         1      ⎞    ⎟                                            \n",
       "⎜    ⎜     ⎜       ─────    ⎟    ⎟                                            \n",
       "⎜    ⎜     ⎜       n - 1    ⎟    ⎟                                            \n",
       "⎜    ⎜     ⎜   ⎛v₂⎞         ⎟    ⎟                                            \n",
       "⎜    ⎜     ⎜m₁⋅⎜──⎟         ⎟    ⎟                                            \n",
       "⎜    ⎜     ⎜   ⎝v₁⎠         ⎟    ⎟                                            \n",
       "⎜    ⎜  m₂⋅⎜──────────── + 1⎟    ⎟                                            \n",
       "⎜    ⎝     ⎝     m₂         ⎠    ⎠                                            \n",
       "⎜1 - ─────────────────────────────────────────────────────────────────────────\n",
       "⎝                                          m₂                                 \n",
       "\n",
       "      n - 1\n",
       "     ⎞     \n",
       "     ⎟     \n",
       "     ⎟     \n",
       "     ⎟     \n",
       "     ⎟     \n",
       "     ⎟     \n",
       " + 1)⎟     \n",
       "     ⎟     \n",
       "     ⎟     \n",
       "     ⎟     \n",
       "     ⎟     \n",
       "     ⎟     \n",
       "     ⎟     \n",
       "     ⎟     \n",
       "     ⎟     \n",
       "─────⎟     \n",
       "     ⎠     "
      ]
     },
     "execution_count": 6,
     "metadata": {},
     "output_type": "execute_result"
    }
   ],
   "source": [
    "Q_2 = (1-max(z-x,0)*(1-pi)/m_2)^(n-1)"
   ]
  },
  {
   "cell_type": "code",
   "execution_count": 7,
   "id": "848d4fc6-a703-408e-b83c-12abbfdcb385",
   "metadata": {},
   "outputs": [
    {
     "data": {
      "text/latex": [
       "$\\left(1 - \\frac{\\left(- \\frac{m_{1} \\left(\\frac{v_{2}}{v_{1}}\\right)^{\\frac{1}{n - 1}}}{m_{2} \\left(\\frac{m_{1} \\left(\\frac{v_{2}}{v_{1}}\\right)^{\\frac{1}{n - 1}}}{m_{2}} + 1\\right)} + 1\\right) \\max\\left(0, m_{1} \\left(\\frac{v_{2}}{v_{1}}\\right)^{\\frac{1}{n - 1}} - m_{1} - x + 1\\right)}{m_{2}}\\right)^{n - 1} \\cdot \\left(1 - \\begin{cases} \\frac{m_{1} \\left(\\frac{v_{2}}{v_{1}}\\right)^{\\frac{1}{n - 1}}}{m_{2} \\left(\\frac{m_{1} \\left(\\frac{v_{2}}{v_{1}}\\right)^{\\frac{1}{n - 1}}}{m_{2}} + 1\\right)} & \\text{for}\\: x \\leq m_{1} \\left(\\frac{v_{2}}{v_{1}}\\right)^{\\frac{1}{n - 1}} - m_{1} + 1 \\\\1 & \\text{otherwise} \\end{cases}\\right)$"
      ],
      "text/plain": [
       "                                                                              \n",
       "⎛    ⎛                1          ⎞                                            \n",
       "⎜    ⎜              ─────        ⎟                                            \n",
       "⎜    ⎜              n - 1        ⎟                                            \n",
       "⎜    ⎜          ⎛v₂⎞             ⎟                                            \n",
       "⎜    ⎜       m₁⋅⎜──⎟             ⎟                                            \n",
       "⎜    ⎜          ⎝v₁⎠             ⎟                                            \n",
       "⎜    ⎜- ───────────────────── + 1⎟⋅Max(0, m_1*(v_2/v_1)**(1/(n - 1)) - m_1 - x\n",
       "⎜    ⎜     ⎛         1      ⎞    ⎟                                            \n",
       "⎜    ⎜     ⎜       ─────    ⎟    ⎟                                            \n",
       "⎜    ⎜     ⎜       n - 1    ⎟    ⎟                                            \n",
       "⎜    ⎜     ⎜   ⎛v₂⎞         ⎟    ⎟                                            \n",
       "⎜    ⎜     ⎜m₁⋅⎜──⎟         ⎟    ⎟                                            \n",
       "⎜    ⎜     ⎜   ⎝v₁⎠         ⎟    ⎟                                            \n",
       "⎜    ⎜  m₂⋅⎜──────────── + 1⎟    ⎟                                            \n",
       "⎜    ⎝     ⎝     m₂         ⎠    ⎠                                            \n",
       "⎜1 - ─────────────────────────────────────────────────────────────────────────\n",
       "⎝                                          m₂                                 \n",
       "                                                                              \n",
       "                                                                              \n",
       "                                                                              \n",
       "                                                                              \n",
       "                                                                              \n",
       "                                                                              \n",
       "                                                                              \n",
       "\n",
       "      n - 1                                                              \n",
       "     ⎞                                                                   \n",
       "     ⎟                                                                   \n",
       "     ⎟                                                                   \n",
       "     ⎟                                                                   \n",
       "     ⎟                                                                   \n",
       "     ⎟                                                                   \n",
       " + 1)⎟                                                                   \n",
       "     ⎟      ⎛    ⎛⎧              1                                     ⎞⎞\n",
       "     ⎟      ⎜    ⎜⎪            ─────                                   ⎟⎟\n",
       "     ⎟      ⎜    ⎜⎪            n - 1                       1           ⎟⎟\n",
       "     ⎟      ⎜    ⎜⎪        ⎛v₂⎞                          ─────         ⎟⎟\n",
       "     ⎟      ⎜    ⎜⎪     m₁⋅⎜──⎟                          n - 1         ⎟⎟\n",
       "     ⎟      ⎜    ⎜⎪        ⎝v₁⎠                      ⎛v₂⎞              ⎟⎟\n",
       "     ⎟      ⎜    ⎜⎪─────────────────────  for x ≤ m₁⋅⎜──⎟      - m₁ + 1⎟⎟\n",
       "     ⎟      ⎜    ⎜⎪   ⎛         1      ⎞             ⎝v₁⎠              ⎟⎟\n",
       "─────⎟     ⋅⎜1 - ⎜⎨   ⎜       ─────    ⎟                               ⎟⎟\n",
       "     ⎠      ⎜    ⎜⎪   ⎜       n - 1    ⎟                               ⎟⎟\n",
       "            ⎜    ⎜⎪   ⎜   ⎛v₂⎞         ⎟                               ⎟⎟\n",
       "            ⎜    ⎜⎪   ⎜m₁⋅⎜──⎟         ⎟                               ⎟⎟\n",
       "            ⎜    ⎜⎪   ⎜   ⎝v₁⎠         ⎟                               ⎟⎟\n",
       "            ⎜    ⎜⎪m₂⋅⎜──────────── + 1⎟                               ⎟⎟\n",
       "            ⎜    ⎜⎪   ⎝     m₂         ⎠                               ⎟⎟\n",
       "            ⎜    ⎜⎪                                                    ⎟⎟\n",
       "            ⎝    ⎝⎩          1                      otherwise          ⎠⎠"
      ]
     },
     "execution_count": 7,
     "metadata": {},
     "output_type": "execute_result"
    }
   ],
   "source": [
    "Prob1 = pbar*Q_1\n",
    "Prob2 = (1-pbar)*Q_2"
   ]
  },
  {
   "cell_type": "code",
   "execution_count": 8,
   "id": "3f265712-b200-4018-8002-0c3da6fe80ec",
   "metadata": {},
   "outputs": [
    {
     "data": {
      "text/latex": [
       "$v_{1} \\left(1 - \\frac{\\left(\\frac{v_{2}}{v_{1}}\\right)^{\\frac{1}{n - 1}} \\max\\left(0, m_{1} \\left(\\frac{v_{2}}{v_{1}}\\right)^{\\frac{1}{n - 1}} - m_{1} - x + 1\\right)}{m_{2} \\left(\\frac{m_{1} \\left(\\frac{v_{2}}{v_{1}}\\right)^{\\frac{1}{n - 1}}}{m_{2}} + 1\\right)} - \\frac{1 - \\max\\left(x, m_{1} \\left(\\frac{v_{2}}{v_{1}}\\right)^{\\frac{1}{n - 1}} - m_{1} + 1\\right)}{m_{1}}\\right)^{n - 1} \\left(\\begin{cases} \\frac{m_{1} \\left(\\frac{v_{2}}{v_{1}}\\right)^{\\frac{1}{n - 1}}}{m_{2} \\left(\\frac{m_{1} \\left(\\frac{v_{2}}{v_{1}}\\right)^{\\frac{1}{n - 1}}}{m_{2}} + 1\\right)} & \\text{for}\\: x \\leq m_{1} \\left(\\frac{v_{2}}{v_{1}}\\right)^{\\frac{1}{n - 1}} - m_{1} + 1 \\\\1 & \\text{otherwise} \\end{cases}\\right) + v_{2} \\left(1 - \\frac{\\left(- \\frac{m_{1} \\left(\\frac{v_{2}}{v_{1}}\\right)^{\\frac{1}{n - 1}}}{m_{2} \\left(\\frac{m_{1} \\left(\\frac{v_{2}}{v_{1}}\\right)^{\\frac{1}{n - 1}}}{m_{2}} + 1\\right)} + 1\\right) \\max\\left(0, m_{1} \\left(\\frac{v_{2}}{v_{1}}\\right)^{\\frac{1}{n - 1}} - m_{1} - x + 1\\right)}{m_{2}}\\right)^{n - 1} \\cdot \\left(1 - \\begin{cases} \\frac{m_{1} \\left(\\frac{v_{2}}{v_{1}}\\right)^{\\frac{1}{n - 1}}}{m_{2} \\left(\\frac{m_{1} \\left(\\frac{v_{2}}{v_{1}}\\right)^{\\frac{1}{n - 1}}}{m_{2}} + 1\\right)} & \\text{for}\\: x \\leq m_{1} \\left(\\frac{v_{2}}{v_{1}}\\right)^{\\frac{1}{n - 1}} - m_{1} + 1 \\\\1 & \\text{otherwise} \\end{cases}\\right)$"
      ],
      "text/plain": [
       "                                                                              \n",
       "                                                                              \n",
       "                                                                              \n",
       "                                                                              \n",
       "                                                                              \n",
       "                                                                              \n",
       "                                                                              \n",
       "                                                                              \n",
       "                                                                              \n",
       "                                                                              \n",
       "   ⎛          1                                                               \n",
       "   ⎜        ─────                                                             \n",
       "   ⎜        n - 1                                                             \n",
       "   ⎜    ⎛v₂⎞                                                                  \n",
       "   ⎜    ⎜──⎟     ⋅Max(0, m_1*(v_2/v_1)**(1/(n - 1)) - m_1 - x + 1)            \n",
       "   ⎜    ⎝v₁⎠                                                         1 - Max(x\n",
       "v₁⋅⎜1 - ────────────────────────────────────────────────────────── - ─────────\n",
       "   ⎜                         ⎛         1      ⎞                               \n",
       "   ⎜                         ⎜       ─────    ⎟                               \n",
       "   ⎜                         ⎜       n - 1    ⎟                               \n",
       "   ⎜                         ⎜   ⎛v₂⎞         ⎟                               \n",
       "   ⎜                         ⎜m₁⋅⎜──⎟         ⎟                               \n",
       "   ⎜                         ⎜   ⎝v₁⎠         ⎟                               \n",
       "   ⎜                      m₂⋅⎜──────────── + 1⎟                               \n",
       "   ⎝                         ⎝     m₂         ⎠                               \n",
       "\n",
       "                                                                              \n",
       "                                                                              \n",
       "                                                                              \n",
       "                                                                              \n",
       "                                                                              \n",
       "                                                                              \n",
       "                                                                              \n",
       "                                                                              \n",
       "                                              ⎛⎧              1               \n",
       "                                        n - 1 ⎜⎪            ─────             \n",
       "                                       ⎞      ⎜⎪            n - 1             \n",
       "                                       ⎟      ⎜⎪        ⎛v₂⎞                  \n",
       "                                       ⎟      ⎜⎪     m₁⋅⎜──⎟                  \n",
       "                                       ⎟      ⎜⎪        ⎝v₁⎠                  \n",
       "                                       ⎟      ⎜⎪─────────────────────  for x ≤\n",
       ", m_1*(v_2/v_1)**(1/(n - 1)) - m_1 + 1)⎟      ⎜⎪   ⎛         1      ⎞         \n",
       "───────────────────────────────────────⎟     ⋅⎜⎨   ⎜       ─────    ⎟         \n",
       "              m₁                       ⎟      ⎜⎪   ⎜       n - 1    ⎟         \n",
       "                                       ⎟      ⎜⎪   ⎜   ⎛v₂⎞         ⎟         \n",
       "                                       ⎟      ⎜⎪   ⎜m₁⋅⎜──⎟         ⎟         \n",
       "                                       ⎟      ⎜⎪   ⎜   ⎝v₁⎠         ⎟         \n",
       "                                       ⎟      ⎜⎪m₂⋅⎜──────────── + 1⎟         \n",
       "                                       ⎟      ⎜⎪   ⎝     m₂         ⎠         \n",
       "                                       ⎟      ⎜⎪                              \n",
       "                                       ⎠      ⎝⎩          1                   \n",
       "\n",
       "                                                                              \n",
       "                             ⎛    ⎛                1          ⎞               \n",
       "                             ⎜    ⎜              ─────        ⎟               \n",
       "                             ⎜    ⎜              n - 1        ⎟               \n",
       "                             ⎜    ⎜          ⎛v₂⎞             ⎟               \n",
       "                             ⎜    ⎜       m₁⋅⎜──⎟             ⎟               \n",
       "                             ⎜    ⎜          ⎝v₁⎠             ⎟               \n",
       "                             ⎜    ⎜- ───────────────────── + 1⎟⋅Max(0, m_1*(v_\n",
       "                      ⎞      ⎜    ⎜     ⎛         1      ⎞    ⎟               \n",
       "                      ⎟      ⎜    ⎜     ⎜       ─────    ⎟    ⎟               \n",
       "          1           ⎟      ⎜    ⎜     ⎜       n - 1    ⎟    ⎟               \n",
       "        ─────         ⎟      ⎜    ⎜     ⎜   ⎛v₂⎞         ⎟    ⎟               \n",
       "        n - 1         ⎟      ⎜    ⎜     ⎜m₁⋅⎜──⎟         ⎟    ⎟               \n",
       "    ⎛v₂⎞              ⎟      ⎜    ⎜     ⎜   ⎝v₁⎠         ⎟    ⎟               \n",
       " m₁⋅⎜──⎟      - m₁ + 1⎟      ⎜    ⎜  m₂⋅⎜──────────── + 1⎟    ⎟               \n",
       "    ⎝v₁⎠              ⎟      ⎜    ⎝     ⎝     m₂         ⎠    ⎠               \n",
       "                      ⎟ + v₂⋅⎜1 - ────────────────────────────────────────────\n",
       "                      ⎟      ⎝                                          m₂    \n",
       "                      ⎟                                                       \n",
       "                      ⎟                                                       \n",
       "                      ⎟                                                       \n",
       "                      ⎟                                                       \n",
       "                      ⎟                                                       \n",
       "                      ⎟                                                       \n",
       "   otherwise          ⎠                                                       \n",
       "\n",
       "                                   n - 1                                      \n",
       "                                  ⎞                                           \n",
       "                                  ⎟                                           \n",
       "                                  ⎟                                           \n",
       "                                  ⎟                                           \n",
       "                                  ⎟                                           \n",
       "                                  ⎟                                           \n",
       "2/v_1)**(1/(n - 1)) - m_1 - x + 1)⎟                                           \n",
       "                                  ⎟      ⎛    ⎛⎧              1               \n",
       "                                  ⎟      ⎜    ⎜⎪            ─────             \n",
       "                                  ⎟      ⎜    ⎜⎪            n - 1             \n",
       "                                  ⎟      ⎜    ⎜⎪        ⎛v₂⎞                  \n",
       "                                  ⎟      ⎜    ⎜⎪     m₁⋅⎜──⎟                  \n",
       "                                  ⎟      ⎜    ⎜⎪        ⎝v₁⎠                  \n",
       "                                  ⎟      ⎜    ⎜⎪─────────────────────  for x ≤\n",
       "                                  ⎟      ⎜    ⎜⎪   ⎛         1      ⎞         \n",
       "──────────────────────────────────⎟     ⋅⎜1 - ⎜⎨   ⎜       ─────    ⎟         \n",
       "                                  ⎠      ⎜    ⎜⎪   ⎜       n - 1    ⎟         \n",
       "                                         ⎜    ⎜⎪   ⎜   ⎛v₂⎞         ⎟         \n",
       "                                         ⎜    ⎜⎪   ⎜m₁⋅⎜──⎟         ⎟         \n",
       "                                         ⎜    ⎜⎪   ⎜   ⎝v₁⎠         ⎟         \n",
       "                                         ⎜    ⎜⎪m₂⋅⎜──────────── + 1⎟         \n",
       "                                         ⎜    ⎜⎪   ⎝     m₂         ⎠         \n",
       "                                         ⎜    ⎜⎪                              \n",
       "                                         ⎝    ⎝⎩          1                   \n",
       "\n",
       "                        \n",
       "                        \n",
       "                        \n",
       "                        \n",
       "                        \n",
       "                        \n",
       "                        \n",
       "                        \n",
       "                      ⎞⎞\n",
       "                      ⎟⎟\n",
       "          1           ⎟⎟\n",
       "        ─────         ⎟⎟\n",
       "        n - 1         ⎟⎟\n",
       "    ⎛v₂⎞              ⎟⎟\n",
       " m₁⋅⎜──⎟      - m₁ + 1⎟⎟\n",
       "    ⎝v₁⎠              ⎟⎟\n",
       "                      ⎟⎟\n",
       "                      ⎟⎟\n",
       "                      ⎟⎟\n",
       "                      ⎟⎟\n",
       "                      ⎟⎟\n",
       "                      ⎟⎟\n",
       "                      ⎟⎟\n",
       "                      ⎟⎟\n",
       "   otherwise          ⎠⎠"
      ]
     },
     "execution_count": 8,
     "metadata": {},
     "output_type": "execute_result"
    }
   ],
   "source": [
    "Prob=pbar*Q_1+(1-pbar)*Q_2\n",
    "surplus=pbar*v_1*Q_1+(1-pbar)*v_2*Q_2"
   ]
  },
  {
   "cell_type": "code",
   "execution_count": 9,
   "id": "eec6585b-0d61-496a-a6f1-4562c45396b3",
   "metadata": {},
   "outputs": [
    {
     "data": {
      "text/plain": [
       "i_Prob_without (generic function with 1 method)"
      ]
     },
     "execution_count": 9,
     "metadata": {},
     "output_type": "execute_result"
    }
   ],
   "source": [
    "# calculate the weighted average of values of the two tiers\n",
    "function surplus_test(a)\n",
    "    vbar = a[3]*(a[1]/(a[1]+a[2]))+a[4]*(a[2]/(a[1]+a[2]))\n",
    "    return vbar\n",
    "end\n",
    "## calculate trading probabilities Q_1 and Q_2 with no ai then ai\n",
    "function p_lot(x,b)\n",
    "    vbar = surplus_test(b)\n",
    "    #use average quality for all grads, then break the tiers down using\n",
    "    plot(Prob1(m_1 => b[1],m_2=>b[2],v_1=>vbar,v_2=>vbar,n=>a[5]),0,1)\n",
    "    plot!(Prob1(m_1 => b[1],m_2=>b[2],v_1=>b[3],v_2=>b[4],n=>b[5]),0,1)\n",
    "    plot!(Prob2(m_1 => b[1],m_2=>b[2],v_1=>vbar,v_2=> vbar,n =>b[5]),0,1)\n",
    "    plot!(Prob2(m_1 => b[1],m_2=>b[2],v_1=>b[3],v_2=>b[4],n=>b[5]),0,1)\n",
    "end\n",
    "function p_e(x,a)\n",
    "    # for testing\n",
    "    plot(Prob1(m_1 => a[1],m_2=>a[2],v_1=>a[3],v_2=>a[4],n=>a[5]),.9,1)\n",
    "end\n",
    "# calculate Q_1 with different parameters for comparison\n",
    "function Q_lot(x,a,b)\n",
    "    plot(Q_1(m_1 => a[1],m_2=>a[2],v_1=>a[3],v_2=>a[4],n=>a[5]),0,1)\n",
    "    plot!(Q_1(m_1 => b[1],m_2=>b[2],v_1=>b[3],v_2=>b[4],n=>b[5]),0,1)\n",
    "end\n",
    "# calculate overall trading probability first without then with ai\n",
    "# values in b are averaged to get the without part\n",
    "function q_lot(x,b)\n",
    "    vbar = surplus_test(b)\n",
    "    plot(Prob(m_1 => b[1],m_2=>b[2],v_1=>vbar,v_2=>vbar,n=>b[5]),0,1)\n",
    "    plot!(Prob(m_1 => b[1],m_2=>b[2],v_1=>b[3],v_2=>b[4],n=>b[5]),0,1)\n",
    "end\n",
    "# calculate overall surplus with parameters\n",
    "function s_lot(x,b)\n",
    "    vbar = surplus_test(b)\n",
    "    plot(surplus(m_1=>b[1],m_2=>b[2],v_1=>vbar,v_2=>vbar,n=>b[5]),0,1)\n",
    "    plot!(surplus(m_1 => b[1],m_2=>b[2],v_1=>b[3],v_2=>b[4],n=>b[5]),0,1)\n",
    "end\n",
    "function i_surplus_with(x,a)\n",
    "    return surplus(m_1 => a[1],m_2=>a[2],v_1=>a[3],v_2=>a[4],n=>a[5])\n",
    "end\n",
    "function i_surplus_without(x,a)\n",
    "    vbar = surplus_test(a)\n",
    "    return surplus(m_1 => a[1],m_2=>a[2],v_1=>vbar,v_2=>vbar,n=>a[5])\n",
    "end\n",
    "function i_Prob_with(x,a)\n",
    "    return Prob(m_1 => a[1],m_2=>a[2],v_1=>a[3],v_2=>a[4],n=>a[5])\n",
    "end\n",
    "function i_Prob_without(x,a)\n",
    "    vbar = surplus_test(a)\n",
    "    return Prob(m_1 => a[1],m_2=>a[2],v_1=>vbar,v_2=>vbar,n=>a[5])\n",
    "end\n"
   ]
  },
  {
   "cell_type": "code",
   "execution_count": 10,
   "id": "9f88c09b-76c5-47f2-b822-7b44b374631e",
   "metadata": {},
   "outputs": [
    {
     "data": {
      "text/plain": [
       "0.5789473684210527"
      ]
     },
     "execution_count": 10,
     "metadata": {},
     "output_type": "execute_result"
    }
   ],
   "source": [
    "#m_1 => 7,m_2=>7,v_1=>.65,v_2=>.65,n=>14\n",
    "a = [3,8,.6,.5,14];\n",
    "b = [5,14,.8,.5,20];\n",
    "surplus_test(b)"
   ]
  },
  {
   "cell_type": "code",
   "execution_count": 11,
   "id": "e695d43a-e0d7-4361-8b03-71e04ab2a60b",
   "metadata": {},
   "outputs": [],
   "source": [
    "# probability Q_1 first a has a low v_1 b has high v_1 \n",
    "#Q_lot(x,a,b)"
   ]
  },
  {
   "cell_type": "code",
   "execution_count": 12,
   "id": "4bfefe9c-3880-4efa-9030-469bcca98b8b",
   "metadata": {},
   "outputs": [
    {
     "data": {
      "image/svg+xml": [
       "<?xml version=\"1.0\" encoding=\"utf-8\"?>\n",
       "<svg xmlns=\"http://www.w3.org/2000/svg\" xmlns:xlink=\"http://www.w3.org/1999/xlink\" width=\"600\" height=\"400\" viewBox=\"0 0 2400 1600\">\n",
       "<defs>\n",
       "  <clipPath id=\"clip620\">\n",
       "    <rect x=\"0\" y=\"0\" width=\"2400\" height=\"1600\"/>\n",
       "  </clipPath>\n",
       "</defs>\n",
       "<path clip-path=\"url(#clip620)\" d=\"M0 1600 L2400 1600 L2400 0 L0 0  Z\" fill=\"#ffffff\" fill-rule=\"evenodd\" fill-opacity=\"1\"/>\n",
       "<defs>\n",
       "  <clipPath id=\"clip621\">\n",
       "    <rect x=\"480\" y=\"0\" width=\"1681\" height=\"1600\"/>\n",
       "  </clipPath>\n",
       "</defs>\n",
       "<path clip-path=\"url(#clip620)\" d=\"M156.598 1486.45 L2352.76 1486.45 L2352.76 47.2441 L156.598 47.2441  Z\" fill=\"#ffffff\" fill-rule=\"evenodd\" fill-opacity=\"1\"/>\n",
       "<defs>\n",
       "  <clipPath id=\"clip622\">\n",
       "    <rect x=\"156\" y=\"47\" width=\"2197\" height=\"1440\"/>\n",
       "  </clipPath>\n",
       "</defs>\n",
       "<polyline clip-path=\"url(#clip622)\" style=\"stroke:#000000; stroke-linecap:round; stroke-linejoin:round; stroke-width:2; stroke-opacity:0.1; fill:none\" points=\"218.754,1486.45 218.754,47.2441 \"/>\n",
       "<polyline clip-path=\"url(#clip622)\" style=\"stroke:#000000; stroke-linecap:round; stroke-linejoin:round; stroke-width:2; stroke-opacity:0.1; fill:none\" points=\"736.715,1486.45 736.715,47.2441 \"/>\n",
       "<polyline clip-path=\"url(#clip622)\" style=\"stroke:#000000; stroke-linecap:round; stroke-linejoin:round; stroke-width:2; stroke-opacity:0.1; fill:none\" points=\"1254.68,1486.45 1254.68,47.2441 \"/>\n",
       "<polyline clip-path=\"url(#clip622)\" style=\"stroke:#000000; stroke-linecap:round; stroke-linejoin:round; stroke-width:2; stroke-opacity:0.1; fill:none\" points=\"1772.64,1486.45 1772.64,47.2441 \"/>\n",
       "<polyline clip-path=\"url(#clip622)\" style=\"stroke:#000000; stroke-linecap:round; stroke-linejoin:round; stroke-width:2; stroke-opacity:0.1; fill:none\" points=\"2290.6,1486.45 2290.6,47.2441 \"/>\n",
       "<polyline clip-path=\"url(#clip620)\" style=\"stroke:#000000; stroke-linecap:round; stroke-linejoin:round; stroke-width:4; stroke-opacity:1; fill:none\" points=\"156.598,1486.45 2352.76,1486.45 \"/>\n",
       "<polyline clip-path=\"url(#clip620)\" style=\"stroke:#000000; stroke-linecap:round; stroke-linejoin:round; stroke-width:4; stroke-opacity:1; fill:none\" points=\"218.754,1486.45 218.754,1467.55 \"/>\n",
       "<polyline clip-path=\"url(#clip620)\" style=\"stroke:#000000; stroke-linecap:round; stroke-linejoin:round; stroke-width:4; stroke-opacity:1; fill:none\" points=\"736.715,1486.45 736.715,1467.55 \"/>\n",
       "<polyline clip-path=\"url(#clip620)\" style=\"stroke:#000000; stroke-linecap:round; stroke-linejoin:round; stroke-width:4; stroke-opacity:1; fill:none\" points=\"1254.68,1486.45 1254.68,1467.55 \"/>\n",
       "<polyline clip-path=\"url(#clip620)\" style=\"stroke:#000000; stroke-linecap:round; stroke-linejoin:round; stroke-width:4; stroke-opacity:1; fill:none\" points=\"1772.64,1486.45 1772.64,1467.55 \"/>\n",
       "<polyline clip-path=\"url(#clip620)\" style=\"stroke:#000000; stroke-linecap:round; stroke-linejoin:round; stroke-width:4; stroke-opacity:1; fill:none\" points=\"2290.6,1486.45 2290.6,1467.55 \"/>\n",
       "<path clip-path=\"url(#clip620)\" d=\"M181.057 1517.37 Q177.446 1517.37 175.617 1520.93 Q173.812 1524.47 173.812 1531.6 Q173.812 1538.71 175.617 1542.27 Q177.446 1545.82 181.057 1545.82 Q184.691 1545.82 186.497 1542.27 Q188.326 1538.71 188.326 1531.6 Q188.326 1524.47 186.497 1520.93 Q184.691 1517.37 181.057 1517.37 M181.057 1513.66 Q186.867 1513.66 189.923 1518.27 Q193.001 1522.85 193.001 1531.6 Q193.001 1540.33 189.923 1544.94 Q186.867 1549.52 181.057 1549.52 Q175.247 1549.52 172.168 1544.94 Q169.113 1540.33 169.113 1531.6 Q169.113 1522.85 172.168 1518.27 Q175.247 1513.66 181.057 1513.66 Z\" fill=\"#000000\" fill-rule=\"nonzero\" fill-opacity=\"1\" /><path clip-path=\"url(#clip620)\" d=\"M201.219 1542.97 L206.103 1542.97 L206.103 1548.85 L201.219 1548.85 L201.219 1542.97 Z\" fill=\"#000000\" fill-rule=\"nonzero\" fill-opacity=\"1\" /><path clip-path=\"url(#clip620)\" d=\"M226.288 1517.37 Q222.677 1517.37 220.849 1520.93 Q219.043 1524.47 219.043 1531.6 Q219.043 1538.71 220.849 1542.27 Q222.677 1545.82 226.288 1545.82 Q229.923 1545.82 231.728 1542.27 Q233.557 1538.71 233.557 1531.6 Q233.557 1524.47 231.728 1520.93 Q229.923 1517.37 226.288 1517.37 M226.288 1513.66 Q232.098 1513.66 235.154 1518.27 Q238.233 1522.85 238.233 1531.6 Q238.233 1540.33 235.154 1544.94 Q232.098 1549.52 226.288 1549.52 Q220.478 1549.52 217.399 1544.94 Q214.344 1540.33 214.344 1531.6 Q214.344 1522.85 217.399 1518.27 Q220.478 1513.66 226.288 1513.66 Z\" fill=\"#000000\" fill-rule=\"nonzero\" fill-opacity=\"1\" /><path clip-path=\"url(#clip620)\" d=\"M256.45 1517.37 Q252.839 1517.37 251.01 1520.93 Q249.205 1524.47 249.205 1531.6 Q249.205 1538.71 251.01 1542.27 Q252.839 1545.82 256.45 1545.82 Q260.084 1545.82 261.89 1542.27 Q263.719 1538.71 263.719 1531.6 Q263.719 1524.47 261.89 1520.93 Q260.084 1517.37 256.45 1517.37 M256.45 1513.66 Q262.26 1513.66 265.316 1518.27 Q268.395 1522.85 268.395 1531.6 Q268.395 1540.33 265.316 1544.94 Q262.26 1549.52 256.45 1549.52 Q250.64 1549.52 247.561 1544.94 Q244.506 1540.33 244.506 1531.6 Q244.506 1522.85 247.561 1518.27 Q250.64 1513.66 256.45 1513.66 Z\" fill=\"#000000\" fill-rule=\"nonzero\" fill-opacity=\"1\" /><path clip-path=\"url(#clip620)\" d=\"M699.516 1517.37 Q695.905 1517.37 694.077 1520.93 Q692.271 1524.47 692.271 1531.6 Q692.271 1538.71 694.077 1542.27 Q695.905 1545.82 699.516 1545.82 Q703.151 1545.82 704.956 1542.27 Q706.785 1538.71 706.785 1531.6 Q706.785 1524.47 704.956 1520.93 Q703.151 1517.37 699.516 1517.37 M699.516 1513.66 Q705.327 1513.66 708.382 1518.27 Q711.461 1522.85 711.461 1531.6 Q711.461 1540.33 708.382 1544.94 Q705.327 1549.52 699.516 1549.52 Q693.706 1549.52 690.628 1544.94 Q687.572 1540.33 687.572 1531.6 Q687.572 1522.85 690.628 1518.27 Q693.706 1513.66 699.516 1513.66 Z\" fill=\"#000000\" fill-rule=\"nonzero\" fill-opacity=\"1\" /><path clip-path=\"url(#clip620)\" d=\"M719.678 1542.97 L724.563 1542.97 L724.563 1548.85 L719.678 1548.85 L719.678 1542.97 Z\" fill=\"#000000\" fill-rule=\"nonzero\" fill-opacity=\"1\" /><path clip-path=\"url(#clip620)\" d=\"M738.776 1544.91 L755.095 1544.91 L755.095 1548.85 L733.151 1548.85 L733.151 1544.91 Q735.813 1542.16 740.396 1537.53 Q745.002 1532.88 746.183 1531.53 Q748.428 1529.01 749.308 1527.27 Q750.211 1525.51 750.211 1523.82 Q750.211 1521.07 748.266 1519.33 Q746.345 1517.6 743.243 1517.6 Q741.044 1517.6 738.59 1518.36 Q736.16 1519.13 733.382 1520.68 L733.382 1515.95 Q736.206 1514.82 738.66 1514.24 Q741.113 1513.66 743.151 1513.66 Q748.521 1513.66 751.715 1516.35 Q754.91 1519.03 754.91 1523.52 Q754.91 1525.65 754.1 1527.57 Q753.312 1529.47 751.206 1532.07 Q750.627 1532.74 747.525 1535.95 Q744.424 1539.15 738.776 1544.91 Z\" fill=\"#000000\" fill-rule=\"nonzero\" fill-opacity=\"1\" /><path clip-path=\"url(#clip620)\" d=\"M764.956 1514.29 L783.312 1514.29 L783.312 1518.22 L769.238 1518.22 L769.238 1526.7 Q770.257 1526.35 771.275 1526.19 Q772.294 1526 773.312 1526 Q779.099 1526 782.479 1529.17 Q785.859 1532.34 785.859 1537.76 Q785.859 1543.34 782.386 1546.44 Q778.914 1549.52 772.595 1549.52 Q770.419 1549.52 768.15 1549.15 Q765.905 1548.78 763.498 1548.04 L763.498 1543.34 Q765.581 1544.47 767.803 1545.03 Q770.025 1545.58 772.502 1545.58 Q776.507 1545.58 778.845 1543.48 Q781.183 1541.37 781.183 1537.76 Q781.183 1534.15 778.845 1532.04 Q776.507 1529.94 772.502 1529.94 Q770.627 1529.94 768.752 1530.35 Q766.9 1530.77 764.956 1531.65 L764.956 1514.29 Z\" fill=\"#000000\" fill-rule=\"nonzero\" fill-opacity=\"1\" /><path clip-path=\"url(#clip620)\" d=\"M1216.98 1517.37 Q1213.37 1517.37 1211.54 1520.93 Q1209.74 1524.47 1209.74 1531.6 Q1209.74 1538.71 1211.54 1542.27 Q1213.37 1545.82 1216.98 1545.82 Q1220.61 1545.82 1222.42 1542.27 Q1224.25 1538.71 1224.25 1531.6 Q1224.25 1524.47 1222.42 1520.93 Q1220.61 1517.37 1216.98 1517.37 M1216.98 1513.66 Q1222.79 1513.66 1225.85 1518.27 Q1228.92 1522.85 1228.92 1531.6 Q1228.92 1540.33 1225.85 1544.94 Q1222.79 1549.52 1216.98 1549.52 Q1211.17 1549.52 1208.09 1544.94 Q1205.04 1540.33 1205.04 1531.6 Q1205.04 1522.85 1208.09 1518.27 Q1211.17 1513.66 1216.98 1513.66 Z\" fill=\"#000000\" fill-rule=\"nonzero\" fill-opacity=\"1\" /><path clip-path=\"url(#clip620)\" d=\"M1237.14 1542.97 L1242.03 1542.97 L1242.03 1548.85 L1237.14 1548.85 L1237.14 1542.97 Z\" fill=\"#000000\" fill-rule=\"nonzero\" fill-opacity=\"1\" /><path clip-path=\"url(#clip620)\" d=\"M1252.26 1514.29 L1270.61 1514.29 L1270.61 1518.22 L1256.54 1518.22 L1256.54 1526.7 Q1257.56 1526.35 1258.58 1526.19 Q1259.6 1526 1260.61 1526 Q1266.4 1526 1269.78 1529.17 Q1273.16 1532.34 1273.16 1537.76 Q1273.16 1543.34 1269.69 1546.44 Q1266.22 1549.52 1259.9 1549.52 Q1257.72 1549.52 1255.45 1549.15 Q1253.21 1548.78 1250.8 1548.04 L1250.8 1543.34 Q1252.88 1544.47 1255.11 1545.03 Q1257.33 1545.58 1259.8 1545.58 Q1263.81 1545.58 1266.15 1543.48 Q1268.48 1541.37 1268.48 1537.76 Q1268.48 1534.15 1266.15 1532.04 Q1263.81 1529.94 1259.8 1529.94 Q1257.93 1529.94 1256.05 1530.35 Q1254.2 1530.77 1252.26 1531.65 L1252.26 1514.29 Z\" fill=\"#000000\" fill-rule=\"nonzero\" fill-opacity=\"1\" /><path clip-path=\"url(#clip620)\" d=\"M1292.37 1517.37 Q1288.76 1517.37 1286.93 1520.93 Q1285.13 1524.47 1285.13 1531.6 Q1285.13 1538.71 1286.93 1542.27 Q1288.76 1545.82 1292.37 1545.82 Q1296.01 1545.82 1297.81 1542.27 Q1299.64 1538.71 1299.64 1531.6 Q1299.64 1524.47 1297.81 1520.93 Q1296.01 1517.37 1292.37 1517.37 M1292.37 1513.66 Q1298.18 1513.66 1301.24 1518.27 Q1304.32 1522.85 1304.32 1531.6 Q1304.32 1540.33 1301.24 1544.94 Q1298.18 1549.52 1292.37 1549.52 Q1286.56 1549.52 1283.48 1544.94 Q1280.43 1540.33 1280.43 1531.6 Q1280.43 1522.85 1283.48 1518.27 Q1286.56 1513.66 1292.37 1513.66 Z\" fill=\"#000000\" fill-rule=\"nonzero\" fill-opacity=\"1\" /><path clip-path=\"url(#clip620)\" d=\"M1735.44 1517.37 Q1731.83 1517.37 1730 1520.93 Q1728.19 1524.47 1728.19 1531.6 Q1728.19 1538.71 1730 1542.27 Q1731.83 1545.82 1735.44 1545.82 Q1739.07 1545.82 1740.88 1542.27 Q1742.71 1538.71 1742.71 1531.6 Q1742.71 1524.47 1740.88 1520.93 Q1739.07 1517.37 1735.44 1517.37 M1735.44 1513.66 Q1741.25 1513.66 1744.31 1518.27 Q1747.38 1522.85 1747.38 1531.6 Q1747.38 1540.33 1744.31 1544.94 Q1741.25 1549.52 1735.44 1549.52 Q1729.63 1549.52 1726.55 1544.94 Q1723.5 1540.33 1723.5 1531.6 Q1723.5 1522.85 1726.55 1518.27 Q1729.63 1513.66 1735.44 1513.66 Z\" fill=\"#000000\" fill-rule=\"nonzero\" fill-opacity=\"1\" /><path clip-path=\"url(#clip620)\" d=\"M1755.6 1542.97 L1760.49 1542.97 L1760.49 1548.85 L1755.6 1548.85 L1755.6 1542.97 Z\" fill=\"#000000\" fill-rule=\"nonzero\" fill-opacity=\"1\" /><path clip-path=\"url(#clip620)\" d=\"M1769.49 1514.29 L1791.71 1514.29 L1791.71 1516.28 L1779.17 1548.85 L1774.28 1548.85 L1786.09 1518.22 L1769.49 1518.22 L1769.49 1514.29 Z\" fill=\"#000000\" fill-rule=\"nonzero\" fill-opacity=\"1\" /><path clip-path=\"url(#clip620)\" d=\"M1800.88 1514.29 L1819.24 1514.29 L1819.24 1518.22 L1805.16 1518.22 L1805.16 1526.7 Q1806.18 1526.35 1807.2 1526.19 Q1808.22 1526 1809.24 1526 Q1815.02 1526 1818.4 1529.17 Q1821.78 1532.34 1821.78 1537.76 Q1821.78 1543.34 1818.31 1546.44 Q1814.84 1549.52 1808.52 1549.52 Q1806.34 1549.52 1804.07 1549.15 Q1801.83 1548.78 1799.42 1548.04 L1799.42 1543.34 Q1801.5 1544.47 1803.73 1545.03 Q1805.95 1545.58 1808.43 1545.58 Q1812.43 1545.58 1814.77 1543.48 Q1817.11 1541.37 1817.11 1537.76 Q1817.11 1534.15 1814.77 1532.04 Q1812.43 1529.94 1808.43 1529.94 Q1806.55 1529.94 1804.68 1530.35 Q1802.82 1530.77 1800.88 1531.65 L1800.88 1514.29 Z\" fill=\"#000000\" fill-rule=\"nonzero\" fill-opacity=\"1\" /><path clip-path=\"url(#clip620)\" d=\"M2242.67 1544.91 L2250.31 1544.91 L2250.31 1518.55 L2242 1520.21 L2242 1515.95 L2250.27 1514.29 L2254.94 1514.29 L2254.94 1544.91 L2262.58 1544.91 L2262.58 1548.85 L2242.67 1548.85 L2242.67 1544.91 Z\" fill=\"#000000\" fill-rule=\"nonzero\" fill-opacity=\"1\" /><path clip-path=\"url(#clip620)\" d=\"M2272.02 1542.97 L2276.91 1542.97 L2276.91 1548.85 L2272.02 1548.85 L2272.02 1542.97 Z\" fill=\"#000000\" fill-rule=\"nonzero\" fill-opacity=\"1\" /><path clip-path=\"url(#clip620)\" d=\"M2297.09 1517.37 Q2293.48 1517.37 2291.65 1520.93 Q2289.85 1524.47 2289.85 1531.6 Q2289.85 1538.71 2291.65 1542.27 Q2293.48 1545.82 2297.09 1545.82 Q2300.73 1545.82 2302.53 1542.27 Q2304.36 1538.71 2304.36 1531.6 Q2304.36 1524.47 2302.53 1520.93 Q2300.73 1517.37 2297.09 1517.37 M2297.09 1513.66 Q2302.9 1513.66 2305.96 1518.27 Q2309.04 1522.85 2309.04 1531.6 Q2309.04 1540.33 2305.96 1544.94 Q2302.9 1549.52 2297.09 1549.52 Q2291.28 1549.52 2288.2 1544.94 Q2285.15 1540.33 2285.15 1531.6 Q2285.15 1522.85 2288.2 1518.27 Q2291.28 1513.66 2297.09 1513.66 Z\" fill=\"#000000\" fill-rule=\"nonzero\" fill-opacity=\"1\" /><path clip-path=\"url(#clip620)\" d=\"M2327.26 1517.37 Q2323.64 1517.37 2321.82 1520.93 Q2320.01 1524.47 2320.01 1531.6 Q2320.01 1538.71 2321.82 1542.27 Q2323.64 1545.82 2327.26 1545.82 Q2330.89 1545.82 2332.7 1542.27 Q2334.52 1538.71 2334.52 1531.6 Q2334.52 1524.47 2332.7 1520.93 Q2330.89 1517.37 2327.26 1517.37 M2327.26 1513.66 Q2333.07 1513.66 2336.12 1518.27 Q2339.2 1522.85 2339.2 1531.6 Q2339.2 1540.33 2336.12 1544.94 Q2333.07 1549.52 2327.26 1549.52 Q2321.45 1549.52 2318.37 1544.94 Q2315.31 1540.33 2315.31 1531.6 Q2315.31 1522.85 2318.37 1518.27 Q2321.45 1513.66 2327.26 1513.66 Z\" fill=\"#000000\" fill-rule=\"nonzero\" fill-opacity=\"1\" /><polyline clip-path=\"url(#clip622)\" style=\"stroke:#000000; stroke-linecap:round; stroke-linejoin:round; stroke-width:2; stroke-opacity:0.1; fill:none\" points=\"156.598,1356.85 2352.76,1356.85 \"/>\n",
       "<polyline clip-path=\"url(#clip622)\" style=\"stroke:#000000; stroke-linecap:round; stroke-linejoin:round; stroke-width:2; stroke-opacity:0.1; fill:none\" points=\"156.598,1145.37 2352.76,1145.37 \"/>\n",
       "<polyline clip-path=\"url(#clip622)\" style=\"stroke:#000000; stroke-linecap:round; stroke-linejoin:round; stroke-width:2; stroke-opacity:0.1; fill:none\" points=\"156.598,933.894 2352.76,933.894 \"/>\n",
       "<polyline clip-path=\"url(#clip622)\" style=\"stroke:#000000; stroke-linecap:round; stroke-linejoin:round; stroke-width:2; stroke-opacity:0.1; fill:none\" points=\"156.598,722.415 2352.76,722.415 \"/>\n",
       "<polyline clip-path=\"url(#clip622)\" style=\"stroke:#000000; stroke-linecap:round; stroke-linejoin:round; stroke-width:2; stroke-opacity:0.1; fill:none\" points=\"156.598,510.935 2352.76,510.935 \"/>\n",
       "<polyline clip-path=\"url(#clip622)\" style=\"stroke:#000000; stroke-linecap:round; stroke-linejoin:round; stroke-width:2; stroke-opacity:0.1; fill:none\" points=\"156.598,299.456 2352.76,299.456 \"/>\n",
       "<polyline clip-path=\"url(#clip622)\" style=\"stroke:#000000; stroke-linecap:round; stroke-linejoin:round; stroke-width:2; stroke-opacity:0.1; fill:none\" points=\"156.598,87.9763 2352.76,87.9763 \"/>\n",
       "<polyline clip-path=\"url(#clip620)\" style=\"stroke:#000000; stroke-linecap:round; stroke-linejoin:round; stroke-width:4; stroke-opacity:1; fill:none\" points=\"156.598,1486.45 156.598,47.2441 \"/>\n",
       "<polyline clip-path=\"url(#clip620)\" style=\"stroke:#000000; stroke-linecap:round; stroke-linejoin:round; stroke-width:4; stroke-opacity:1; fill:none\" points=\"156.598,1356.85 175.496,1356.85 \"/>\n",
       "<polyline clip-path=\"url(#clip620)\" style=\"stroke:#000000; stroke-linecap:round; stroke-linejoin:round; stroke-width:4; stroke-opacity:1; fill:none\" points=\"156.598,1145.37 175.496,1145.37 \"/>\n",
       "<polyline clip-path=\"url(#clip620)\" style=\"stroke:#000000; stroke-linecap:round; stroke-linejoin:round; stroke-width:4; stroke-opacity:1; fill:none\" points=\"156.598,933.894 175.496,933.894 \"/>\n",
       "<polyline clip-path=\"url(#clip620)\" style=\"stroke:#000000; stroke-linecap:round; stroke-linejoin:round; stroke-width:4; stroke-opacity:1; fill:none\" points=\"156.598,722.415 175.496,722.415 \"/>\n",
       "<polyline clip-path=\"url(#clip620)\" style=\"stroke:#000000; stroke-linecap:round; stroke-linejoin:round; stroke-width:4; stroke-opacity:1; fill:none\" points=\"156.598,510.935 175.496,510.935 \"/>\n",
       "<polyline clip-path=\"url(#clip620)\" style=\"stroke:#000000; stroke-linecap:round; stroke-linejoin:round; stroke-width:4; stroke-opacity:1; fill:none\" points=\"156.598,299.456 175.496,299.456 \"/>\n",
       "<polyline clip-path=\"url(#clip620)\" style=\"stroke:#000000; stroke-linecap:round; stroke-linejoin:round; stroke-width:4; stroke-opacity:1; fill:none\" points=\"156.598,87.9763 175.496,87.9763 \"/>\n",
       "<path clip-path=\"url(#clip620)\" d=\"M62.9365 1342.65 Q59.3254 1342.65 57.4967 1346.22 Q55.6912 1349.76 55.6912 1356.89 Q55.6912 1363.99 57.4967 1367.56 Q59.3254 1371.1 62.9365 1371.1 Q66.5707 1371.1 68.3763 1367.56 Q70.205 1363.99 70.205 1356.89 Q70.205 1349.76 68.3763 1346.22 Q66.5707 1342.65 62.9365 1342.65 M62.9365 1338.95 Q68.7467 1338.95 71.8022 1343.55 Q74.8809 1348.14 74.8809 1356.89 Q74.8809 1365.61 71.8022 1370.22 Q68.7467 1374.8 62.9365 1374.8 Q57.1264 1374.8 54.0477 1370.22 Q50.9921 1365.61 50.9921 1356.89 Q50.9921 1348.14 54.0477 1343.55 Q57.1264 1338.95 62.9365 1338.95 Z\" fill=\"#000000\" fill-rule=\"nonzero\" fill-opacity=\"1\" /><path clip-path=\"url(#clip620)\" d=\"M83.0984 1368.25 L87.9827 1368.25 L87.9827 1374.13 L83.0984 1374.13 L83.0984 1368.25 Z\" fill=\"#000000\" fill-rule=\"nonzero\" fill-opacity=\"1\" /><path clip-path=\"url(#clip620)\" d=\"M111.015 1343.65 L99.2095 1362.1 L111.015 1362.1 L111.015 1343.65 M109.788 1339.57 L115.668 1339.57 L115.668 1362.1 L120.598 1362.1 L120.598 1365.98 L115.668 1365.98 L115.668 1374.13 L111.015 1374.13 L111.015 1365.98 L95.4132 1365.98 L95.4132 1361.47 L109.788 1339.57 Z\" fill=\"#000000\" fill-rule=\"nonzero\" fill-opacity=\"1\" /><path clip-path=\"url(#clip620)\" d=\"M64.418 1131.17 Q60.8069 1131.17 58.9782 1134.74 Q57.1726 1138.28 57.1726 1145.41 Q57.1726 1152.51 58.9782 1156.08 Q60.8069 1159.62 64.418 1159.62 Q68.0522 1159.62 69.8578 1156.08 Q71.6865 1152.51 71.6865 1145.41 Q71.6865 1138.28 69.8578 1134.74 Q68.0522 1131.17 64.418 1131.17 M64.418 1127.47 Q70.2281 1127.47 73.2837 1132.07 Q76.3624 1136.66 76.3624 1145.41 Q76.3624 1154.13 73.2837 1158.74 Q70.2281 1163.32 64.418 1163.32 Q58.6078 1163.32 55.5291 1158.74 Q52.4736 1154.13 52.4736 1145.41 Q52.4736 1136.66 55.5291 1132.07 Q58.6078 1127.47 64.418 1127.47 Z\" fill=\"#000000\" fill-rule=\"nonzero\" fill-opacity=\"1\" /><path clip-path=\"url(#clip620)\" d=\"M84.5799 1156.77 L89.4641 1156.77 L89.4641 1162.65 L84.5799 1162.65 L84.5799 1156.77 Z\" fill=\"#000000\" fill-rule=\"nonzero\" fill-opacity=\"1\" /><path clip-path=\"url(#clip620)\" d=\"M99.6956 1128.09 L118.052 1128.09 L118.052 1132.03 L103.978 1132.03 L103.978 1140.5 Q104.996 1140.15 106.015 1139.99 Q107.033 1139.81 108.052 1139.81 Q113.839 1139.81 117.219 1142.98 Q120.598 1146.15 120.598 1151.57 Q120.598 1157.14 117.126 1160.25 Q113.654 1163.32 107.334 1163.32 Q105.159 1163.32 102.89 1162.95 Q100.645 1162.58 98.2372 1161.84 L98.2372 1157.14 Q100.321 1158.28 102.543 1158.83 Q104.765 1159.39 107.242 1159.39 Q111.246 1159.39 113.584 1157.28 Q115.922 1155.18 115.922 1151.57 Q115.922 1147.95 113.584 1145.85 Q111.246 1143.74 107.242 1143.74 Q105.367 1143.74 103.492 1144.16 Q101.64 1144.57 99.6956 1145.45 L99.6956 1128.09 Z\" fill=\"#000000\" fill-rule=\"nonzero\" fill-opacity=\"1\" /><path clip-path=\"url(#clip620)\" d=\"M63.2606 919.693 Q59.6495 919.693 57.8208 923.257 Q56.0152 926.799 56.0152 933.929 Q56.0152 941.035 57.8208 944.6 Q59.6495 948.142 63.2606 948.142 Q66.8948 948.142 68.7004 944.6 Q70.5291 941.035 70.5291 933.929 Q70.5291 926.799 68.7004 923.257 Q66.8948 919.693 63.2606 919.693 M63.2606 915.989 Q69.0707 915.989 72.1263 920.595 Q75.205 925.179 75.205 933.929 Q75.205 942.655 72.1263 947.262 Q69.0707 951.845 63.2606 951.845 Q57.4504 951.845 54.3717 947.262 Q51.3162 942.655 51.3162 933.929 Q51.3162 925.179 54.3717 920.595 Q57.4504 915.989 63.2606 915.989 Z\" fill=\"#000000\" fill-rule=\"nonzero\" fill-opacity=\"1\" /><path clip-path=\"url(#clip620)\" d=\"M83.4225 945.294 L88.3067 945.294 L88.3067 951.174 L83.4225 951.174 L83.4225 945.294 Z\" fill=\"#000000\" fill-rule=\"nonzero\" fill-opacity=\"1\" /><path clip-path=\"url(#clip620)\" d=\"M109.071 932.031 Q105.922 932.031 104.071 934.183 Q102.242 936.336 102.242 940.086 Q102.242 943.813 104.071 945.989 Q105.922 948.142 109.071 948.142 Q112.219 948.142 114.047 945.989 Q115.899 943.813 115.899 940.086 Q115.899 936.336 114.047 934.183 Q112.219 932.031 109.071 932.031 M118.353 917.378 L118.353 921.637 Q116.594 920.804 114.788 920.364 Q113.006 919.924 111.246 919.924 Q106.617 919.924 104.163 923.049 Q101.733 926.174 101.385 932.493 Q102.751 930.48 104.811 929.415 Q106.871 928.327 109.348 928.327 Q114.557 928.327 117.566 931.498 Q120.598 934.646 120.598 940.086 Q120.598 945.41 117.45 948.628 Q114.302 951.845 109.071 951.845 Q103.075 951.845 99.9039 947.262 Q96.7326 942.655 96.7326 933.929 Q96.7326 925.734 100.621 920.873 Q104.51 915.989 111.061 915.989 Q112.82 915.989 114.603 916.336 Q116.408 916.683 118.353 917.378 Z\" fill=\"#000000\" fill-rule=\"nonzero\" fill-opacity=\"1\" /><path clip-path=\"url(#clip620)\" d=\"M64.3254 708.213 Q60.7143 708.213 58.8856 711.778 Q57.0801 715.32 57.0801 722.449 Q57.0801 729.556 58.8856 733.12 Q60.7143 736.662 64.3254 736.662 Q67.9596 736.662 69.7652 733.12 Q71.5939 729.556 71.5939 722.449 Q71.5939 715.32 69.7652 711.778 Q67.9596 708.213 64.3254 708.213 M64.3254 704.51 Q70.1355 704.51 73.1911 709.116 Q76.2698 713.699 76.2698 722.449 Q76.2698 731.176 73.1911 735.783 Q70.1355 740.366 64.3254 740.366 Q58.5152 740.366 55.4365 735.783 Q52.381 731.176 52.381 722.449 Q52.381 713.699 55.4365 709.116 Q58.5152 704.51 64.3254 704.51 Z\" fill=\"#000000\" fill-rule=\"nonzero\" fill-opacity=\"1\" /><path clip-path=\"url(#clip620)\" d=\"M84.4873 733.815 L89.3715 733.815 L89.3715 739.695 L84.4873 739.695 L84.4873 733.815 Z\" fill=\"#000000\" fill-rule=\"nonzero\" fill-opacity=\"1\" /><path clip-path=\"url(#clip620)\" d=\"M98.3761 705.135 L120.598 705.135 L120.598 707.125 L108.052 739.695 L103.168 739.695 L114.973 709.07 L98.3761 709.07 L98.3761 705.135 Z\" fill=\"#000000\" fill-rule=\"nonzero\" fill-opacity=\"1\" /><path clip-path=\"url(#clip620)\" d=\"M63.5152 496.734 Q59.9041 496.734 58.0754 500.299 Q56.2699 503.84 56.2699 510.97 Q56.2699 518.076 58.0754 521.641 Q59.9041 525.183 63.5152 525.183 Q67.1494 525.183 68.955 521.641 Q70.7837 518.076 70.7837 510.97 Q70.7837 503.84 68.955 500.299 Q67.1494 496.734 63.5152 496.734 M63.5152 493.03 Q69.3254 493.03 72.3809 497.637 Q75.4596 502.22 75.4596 510.97 Q75.4596 519.697 72.3809 524.303 Q69.3254 528.886 63.5152 528.886 Q57.7051 528.886 54.6264 524.303 Q51.5708 519.697 51.5708 510.97 Q51.5708 502.22 54.6264 497.637 Q57.7051 493.03 63.5152 493.03 Z\" fill=\"#000000\" fill-rule=\"nonzero\" fill-opacity=\"1\" /><path clip-path=\"url(#clip620)\" d=\"M83.6771 522.336 L88.5614 522.336 L88.5614 528.215 L83.6771 528.215 L83.6771 522.336 Z\" fill=\"#000000\" fill-rule=\"nonzero\" fill-opacity=\"1\" /><path clip-path=\"url(#clip620)\" d=\"M108.746 511.803 Q105.413 511.803 103.492 513.586 Q101.594 515.368 101.594 518.493 Q101.594 521.618 103.492 523.4 Q105.413 525.183 108.746 525.183 Q112.08 525.183 114.001 523.4 Q115.922 521.595 115.922 518.493 Q115.922 515.368 114.001 513.586 Q112.103 511.803 108.746 511.803 M104.071 509.812 Q101.061 509.072 99.3715 507.012 Q97.7048 504.951 97.7048 501.988 Q97.7048 497.845 100.645 495.438 Q103.608 493.03 108.746 493.03 Q113.908 493.03 116.848 495.438 Q119.788 497.845 119.788 501.988 Q119.788 504.951 118.098 507.012 Q116.432 509.072 113.445 509.812 Q116.825 510.599 118.7 512.891 Q120.598 515.183 120.598 518.493 Q120.598 523.516 117.52 526.201 Q114.464 528.886 108.746 528.886 Q103.029 528.886 99.9502 526.201 Q96.8947 523.516 96.8947 518.493 Q96.8947 515.183 98.7928 512.891 Q100.691 510.599 104.071 509.812 M102.358 502.428 Q102.358 505.113 104.024 506.618 Q105.714 508.123 108.746 508.123 Q111.756 508.123 113.445 506.618 Q115.158 505.113 115.158 502.428 Q115.158 499.743 113.445 498.238 Q111.756 496.734 108.746 496.734 Q105.714 496.734 104.024 498.238 Q102.358 499.743 102.358 502.428 Z\" fill=\"#000000\" fill-rule=\"nonzero\" fill-opacity=\"1\" /><path clip-path=\"url(#clip620)\" d=\"M63.6078 285.254 Q59.9967 285.254 58.168 288.819 Q56.3625 292.361 56.3625 299.49 Q56.3625 306.597 58.168 310.162 Q59.9967 313.703 63.6078 313.703 Q67.242 313.703 69.0476 310.162 Q70.8763 306.597 70.8763 299.49 Q70.8763 292.361 69.0476 288.819 Q67.242 285.254 63.6078 285.254 M63.6078 281.551 Q69.418 281.551 72.4735 286.157 Q75.5522 290.74 75.5522 299.49 Q75.5522 308.217 72.4735 312.824 Q69.418 317.407 63.6078 317.407 Q57.7976 317.407 54.719 312.824 Q51.6634 308.217 51.6634 299.49 Q51.6634 290.74 54.719 286.157 Q57.7976 281.551 63.6078 281.551 Z\" fill=\"#000000\" fill-rule=\"nonzero\" fill-opacity=\"1\" /><path clip-path=\"url(#clip620)\" d=\"M83.7697 310.856 L88.654 310.856 L88.654 316.736 L83.7697 316.736 L83.7697 310.856 Z\" fill=\"#000000\" fill-rule=\"nonzero\" fill-opacity=\"1\" /><path clip-path=\"url(#clip620)\" d=\"M98.978 316.018 L98.978 311.759 Q100.737 312.592 102.543 313.032 Q104.348 313.472 106.084 313.472 Q110.714 313.472 113.145 310.37 Q115.598 307.245 115.945 300.902 Q114.603 302.893 112.543 303.958 Q110.483 305.023 107.983 305.023 Q102.797 305.023 99.765 301.898 Q96.7558 298.75 96.7558 293.31 Q96.7558 287.986 99.9039 284.768 Q103.052 281.551 108.283 281.551 Q114.279 281.551 117.427 286.157 Q120.598 290.74 120.598 299.49 Q120.598 307.662 116.709 312.546 Q112.844 317.407 106.293 317.407 Q104.534 317.407 102.728 317.06 Q100.922 316.713 98.978 316.018 M108.283 301.365 Q111.432 301.365 113.26 299.213 Q115.112 297.06 115.112 293.31 Q115.112 289.583 113.26 287.43 Q111.432 285.254 108.283 285.254 Q105.135 285.254 103.284 287.43 Q101.455 289.583 101.455 293.31 Q101.455 297.06 103.284 299.213 Q105.135 301.365 108.283 301.365 Z\" fill=\"#000000\" fill-rule=\"nonzero\" fill-opacity=\"1\" /><path clip-path=\"url(#clip620)\" d=\"M54.2328 101.321 L61.8717 101.321 L61.8717 74.9555 L53.5616 76.6222 L53.5616 72.3629 L61.8254 70.6963 L66.5013 70.6963 L66.5013 101.321 L74.1402 101.321 L74.1402 105.256 L54.2328 105.256 L54.2328 101.321 Z\" fill=\"#000000\" fill-rule=\"nonzero\" fill-opacity=\"1\" /><path clip-path=\"url(#clip620)\" d=\"M83.5845 99.3767 L88.4688 99.3767 L88.4688 105.256 L83.5845 105.256 L83.5845 99.3767 Z\" fill=\"#000000\" fill-rule=\"nonzero\" fill-opacity=\"1\" /><path clip-path=\"url(#clip620)\" d=\"M108.654 73.775 Q105.043 73.775 103.214 77.3398 Q101.409 80.8814 101.409 88.011 Q101.409 95.1174 103.214 98.6822 Q105.043 102.224 108.654 102.224 Q112.288 102.224 114.094 98.6822 Q115.922 95.1174 115.922 88.011 Q115.922 80.8814 114.094 77.3398 Q112.288 73.775 108.654 73.775 M108.654 70.0713 Q114.464 70.0713 117.52 74.6777 Q120.598 79.261 120.598 88.011 Q120.598 96.7378 117.52 101.344 Q114.464 105.928 108.654 105.928 Q102.844 105.928 99.765 101.344 Q96.7095 96.7378 96.7095 88.011 Q96.7095 79.261 99.765 74.6777 Q102.844 70.0713 108.654 70.0713 Z\" fill=\"#000000\" fill-rule=\"nonzero\" fill-opacity=\"1\" /><polyline clip-path=\"url(#clip622)\" style=\"stroke:#009af9; stroke-linecap:round; stroke-linejoin:round; stroke-width:4; stroke-opacity:1; fill:none\" points=\"218.754,1445.72 232.242,1440.5 356.966,1390.59 431.92,1359.13 495.293,1331.63 564.133,1300.79 627.598,1271.45 695.639,1239 774.471,1200.05 844.528,1164.19 905.961,1131.75 972.94,1095.29 1040.32,1057.43 1114.81,1014.14 1185.69,971.517 1259.39,925.666 1321.42,885.819 1397.17,835.574 1466.55,787.957 1530.63,742.586 1595.54,695.225 1668.29,640.417 1734.21,589.127 1809.69,528.445 1879.57,470.337 1948.47,411.182 2015.36,351.921 2083.94,289.246 2159.07,218.272 2268.21,110.714 2290.6,87.9763 \"/>\n",
       "<polyline clip-path=\"url(#clip622)\" style=\"stroke:#e26f46; stroke-linecap:round; stroke-linejoin:round; stroke-width:4; stroke-opacity:1; fill:none\" points=\"218.754,1429.92 232.242,1424.6 356.966,1373.65 431.92,1341.53 495.293,1313.46 564.133,1281.98 627.598,1252.03 695.639,1218.89 774.471,1179.13 844.528,1142.53 905.961,1109.41 972.94,1072.19 1040.32,1033.54 1114.81,989.347 1185.69,945.834 1259.39,899.026 1321.42,858.349 1397.17,807.055 1466.55,758.445 1530.63,712.128 1595.54,663.778 1668.29,607.827 1734.21,555.467 1809.69,493.519 1879.57,434.199 1914.02,404.245 1948.47,373.811 1965.19,358.861 1981.92,343.795 1998.64,328.613 2015.36,313.314 2019.65,309.374 2023.94,305.426 2028.22,301.47 2032.51,297.507 2033.58,296.515 2034.65,295.522 2035.19,295.026 2035.72,294.529 2036.26,294.032 2036.79,293.535 2037.33,293.039 2037.86,880.086 2038.4,878.754 2038.94,877.42 2040.01,874.748 2041.08,872.07 2043.22,866.701 2045.36,861.311 2047.51,855.9 2049.65,850.469 2058.22,828.535 2066.79,806.265 2075.37,783.653 2083.94,760.695 2102.72,709.152 2121.5,655.866 2140.29,600.783 2159.07,543.845 2172.71,501.293 2186.35,457.708 2200,413.067 2213.64,367.346 2227.28,320.519 2240.92,272.563 2254.57,223.45 2268.21,173.155 2273.81,152.17 2279.41,130.98 2285,109.583 2290.6,87.9763 \"/>\n",
       "<path clip-path=\"url(#clip620)\" d=\"M229.803 250.738 L501.85 250.738 L501.85 95.2176 L229.803 95.2176  Z\" fill=\"#ffffff\" fill-rule=\"evenodd\" fill-opacity=\"1\"/>\n",
       "<polyline clip-path=\"url(#clip620)\" style=\"stroke:#000000; stroke-linecap:round; stroke-linejoin:round; stroke-width:4; stroke-opacity:1; fill:none\" points=\"229.803,250.738 501.85,250.738 501.85,95.2176 229.803,95.2176 229.803,250.738 \"/>\n",
       "<polyline clip-path=\"url(#clip620)\" style=\"stroke:#009af9; stroke-linecap:round; stroke-linejoin:round; stroke-width:4; stroke-opacity:1; fill:none\" points=\"254.205,147.058 400.616,147.058 \"/>\n",
       "<path clip-path=\"url(#clip620)\" d=\"M438.86 166.745 Q437.054 171.375 435.342 172.787 Q433.629 174.199 430.758 174.199 L427.355 174.199 L427.355 170.634 L429.855 170.634 Q431.615 170.634 432.587 169.8 Q433.559 168.967 434.74 165.865 L435.504 163.921 L425.018 138.412 L429.531 138.412 L437.633 158.689 L445.735 138.412 L450.249 138.412 L438.86 166.745 Z\" fill=\"#000000\" fill-rule=\"nonzero\" fill-opacity=\"1\" /><path clip-path=\"url(#clip620)\" d=\"M457.54 160.402 L465.179 160.402 L465.179 134.037 L456.869 135.703 L456.869 131.444 L465.133 129.778 L469.809 129.778 L469.809 160.402 L477.448 160.402 L477.448 164.338 L457.54 164.338 L457.54 160.402 Z\" fill=\"#000000\" fill-rule=\"nonzero\" fill-opacity=\"1\" /><polyline clip-path=\"url(#clip620)\" style=\"stroke:#e26f46; stroke-linecap:round; stroke-linejoin:round; stroke-width:4; stroke-opacity:1; fill:none\" points=\"254.205,198.898 400.616,198.898 \"/>\n",
       "<path clip-path=\"url(#clip620)\" d=\"M438.86 218.585 Q437.054 223.215 435.342 224.627 Q433.629 226.039 430.758 226.039 L427.355 226.039 L427.355 222.474 L429.855 222.474 Q431.615 222.474 432.587 221.64 Q433.559 220.807 434.74 217.705 L435.504 215.761 L425.018 190.252 L429.531 190.252 L437.633 210.529 L445.735 190.252 L450.249 190.252 L438.86 218.585 Z\" fill=\"#000000\" fill-rule=\"nonzero\" fill-opacity=\"1\" /><path clip-path=\"url(#clip620)\" d=\"M460.758 212.242 L477.077 212.242 L477.077 216.178 L455.133 216.178 L455.133 212.242 Q457.795 209.488 462.378 204.858 Q466.985 200.205 468.165 198.863 Q470.411 196.34 471.29 194.604 Q472.193 192.844 472.193 191.155 Q472.193 188.4 470.249 186.664 Q468.327 184.928 465.226 184.928 Q463.027 184.928 460.573 185.692 Q458.142 186.455 455.365 188.006 L455.365 183.284 Q458.189 182.15 460.642 181.571 Q463.096 180.993 465.133 180.993 Q470.503 180.993 473.698 183.678 Q476.892 186.363 476.892 190.854 Q476.892 192.983 476.082 194.905 Q475.295 196.803 473.189 199.395 Q472.61 200.067 469.508 203.284 Q466.406 206.479 460.758 212.242 Z\" fill=\"#000000\" fill-rule=\"nonzero\" fill-opacity=\"1\" /></svg>\n"
      ]
     },
     "execution_count": 12,
     "metadata": {},
     "output_type": "execute_result"
    }
   ],
   "source": [
    "## overall trading probabilities without ai first then with ai\n",
    "# in a every grad has expected quality in b tiers are distinguished\n",
    "q_lot(x,b)"
   ]
  },
  {
   "cell_type": "code",
   "execution_count": 13,
   "id": "66ef4a8a-6e36-4876-b22a-ce5a4f17ed24",
   "metadata": {},
   "outputs": [
    {
     "data": {
      "image/svg+xml": [
       "<?xml version=\"1.0\" encoding=\"utf-8\"?>\n",
       "<svg xmlns=\"http://www.w3.org/2000/svg\" xmlns:xlink=\"http://www.w3.org/1999/xlink\" width=\"600\" height=\"400\" viewBox=\"0 0 2400 1600\">\n",
       "<defs>\n",
       "  <clipPath id=\"clip660\">\n",
       "    <rect x=\"0\" y=\"0\" width=\"2400\" height=\"1600\"/>\n",
       "  </clipPath>\n",
       "</defs>\n",
       "<path clip-path=\"url(#clip660)\" d=\"M0 1600 L2400 1600 L2400 0 L0 0  Z\" fill=\"#ffffff\" fill-rule=\"evenodd\" fill-opacity=\"1\"/>\n",
       "<defs>\n",
       "  <clipPath id=\"clip661\">\n",
       "    <rect x=\"480\" y=\"0\" width=\"1681\" height=\"1600\"/>\n",
       "  </clipPath>\n",
       "</defs>\n",
       "<path clip-path=\"url(#clip660)\" d=\"M156.598 1486.45 L2352.76 1486.45 L2352.76 47.2441 L156.598 47.2441  Z\" fill=\"#ffffff\" fill-rule=\"evenodd\" fill-opacity=\"1\"/>\n",
       "<defs>\n",
       "  <clipPath id=\"clip662\">\n",
       "    <rect x=\"156\" y=\"47\" width=\"2197\" height=\"1440\"/>\n",
       "  </clipPath>\n",
       "</defs>\n",
       "<polyline clip-path=\"url(#clip662)\" style=\"stroke:#000000; stroke-linecap:round; stroke-linejoin:round; stroke-width:2; stroke-opacity:0.1; fill:none\" points=\"218.754,1486.45 218.754,47.2441 \"/>\n",
       "<polyline clip-path=\"url(#clip662)\" style=\"stroke:#000000; stroke-linecap:round; stroke-linejoin:round; stroke-width:2; stroke-opacity:0.1; fill:none\" points=\"736.715,1486.45 736.715,47.2441 \"/>\n",
       "<polyline clip-path=\"url(#clip662)\" style=\"stroke:#000000; stroke-linecap:round; stroke-linejoin:round; stroke-width:2; stroke-opacity:0.1; fill:none\" points=\"1254.68,1486.45 1254.68,47.2441 \"/>\n",
       "<polyline clip-path=\"url(#clip662)\" style=\"stroke:#000000; stroke-linecap:round; stroke-linejoin:round; stroke-width:2; stroke-opacity:0.1; fill:none\" points=\"1772.64,1486.45 1772.64,47.2441 \"/>\n",
       "<polyline clip-path=\"url(#clip662)\" style=\"stroke:#000000; stroke-linecap:round; stroke-linejoin:round; stroke-width:2; stroke-opacity:0.1; fill:none\" points=\"2290.6,1486.45 2290.6,47.2441 \"/>\n",
       "<polyline clip-path=\"url(#clip660)\" style=\"stroke:#000000; stroke-linecap:round; stroke-linejoin:round; stroke-width:4; stroke-opacity:1; fill:none\" points=\"156.598,1486.45 2352.76,1486.45 \"/>\n",
       "<polyline clip-path=\"url(#clip660)\" style=\"stroke:#000000; stroke-linecap:round; stroke-linejoin:round; stroke-width:4; stroke-opacity:1; fill:none\" points=\"218.754,1486.45 218.754,1467.55 \"/>\n",
       "<polyline clip-path=\"url(#clip660)\" style=\"stroke:#000000; stroke-linecap:round; stroke-linejoin:round; stroke-width:4; stroke-opacity:1; fill:none\" points=\"736.715,1486.45 736.715,1467.55 \"/>\n",
       "<polyline clip-path=\"url(#clip660)\" style=\"stroke:#000000; stroke-linecap:round; stroke-linejoin:round; stroke-width:4; stroke-opacity:1; fill:none\" points=\"1254.68,1486.45 1254.68,1467.55 \"/>\n",
       "<polyline clip-path=\"url(#clip660)\" style=\"stroke:#000000; stroke-linecap:round; stroke-linejoin:round; stroke-width:4; stroke-opacity:1; fill:none\" points=\"1772.64,1486.45 1772.64,1467.55 \"/>\n",
       "<polyline clip-path=\"url(#clip660)\" style=\"stroke:#000000; stroke-linecap:round; stroke-linejoin:round; stroke-width:4; stroke-opacity:1; fill:none\" points=\"2290.6,1486.45 2290.6,1467.55 \"/>\n",
       "<path clip-path=\"url(#clip660)\" d=\"M181.057 1517.37 Q177.446 1517.37 175.617 1520.93 Q173.812 1524.47 173.812 1531.6 Q173.812 1538.71 175.617 1542.27 Q177.446 1545.82 181.057 1545.82 Q184.691 1545.82 186.497 1542.27 Q188.326 1538.71 188.326 1531.6 Q188.326 1524.47 186.497 1520.93 Q184.691 1517.37 181.057 1517.37 M181.057 1513.66 Q186.867 1513.66 189.923 1518.27 Q193.001 1522.85 193.001 1531.6 Q193.001 1540.33 189.923 1544.94 Q186.867 1549.52 181.057 1549.52 Q175.247 1549.52 172.168 1544.94 Q169.113 1540.33 169.113 1531.6 Q169.113 1522.85 172.168 1518.27 Q175.247 1513.66 181.057 1513.66 Z\" fill=\"#000000\" fill-rule=\"nonzero\" fill-opacity=\"1\" /><path clip-path=\"url(#clip660)\" d=\"M201.219 1542.97 L206.103 1542.97 L206.103 1548.85 L201.219 1548.85 L201.219 1542.97 Z\" fill=\"#000000\" fill-rule=\"nonzero\" fill-opacity=\"1\" /><path clip-path=\"url(#clip660)\" d=\"M226.288 1517.37 Q222.677 1517.37 220.849 1520.93 Q219.043 1524.47 219.043 1531.6 Q219.043 1538.71 220.849 1542.27 Q222.677 1545.82 226.288 1545.82 Q229.923 1545.82 231.728 1542.27 Q233.557 1538.71 233.557 1531.6 Q233.557 1524.47 231.728 1520.93 Q229.923 1517.37 226.288 1517.37 M226.288 1513.66 Q232.098 1513.66 235.154 1518.27 Q238.233 1522.85 238.233 1531.6 Q238.233 1540.33 235.154 1544.94 Q232.098 1549.52 226.288 1549.52 Q220.478 1549.52 217.399 1544.94 Q214.344 1540.33 214.344 1531.6 Q214.344 1522.85 217.399 1518.27 Q220.478 1513.66 226.288 1513.66 Z\" fill=\"#000000\" fill-rule=\"nonzero\" fill-opacity=\"1\" /><path clip-path=\"url(#clip660)\" d=\"M256.45 1517.37 Q252.839 1517.37 251.01 1520.93 Q249.205 1524.47 249.205 1531.6 Q249.205 1538.71 251.01 1542.27 Q252.839 1545.82 256.45 1545.82 Q260.084 1545.82 261.89 1542.27 Q263.719 1538.71 263.719 1531.6 Q263.719 1524.47 261.89 1520.93 Q260.084 1517.37 256.45 1517.37 M256.45 1513.66 Q262.26 1513.66 265.316 1518.27 Q268.395 1522.85 268.395 1531.6 Q268.395 1540.33 265.316 1544.94 Q262.26 1549.52 256.45 1549.52 Q250.64 1549.52 247.561 1544.94 Q244.506 1540.33 244.506 1531.6 Q244.506 1522.85 247.561 1518.27 Q250.64 1513.66 256.45 1513.66 Z\" fill=\"#000000\" fill-rule=\"nonzero\" fill-opacity=\"1\" /><path clip-path=\"url(#clip660)\" d=\"M699.516 1517.37 Q695.905 1517.37 694.077 1520.93 Q692.271 1524.47 692.271 1531.6 Q692.271 1538.71 694.077 1542.27 Q695.905 1545.82 699.516 1545.82 Q703.151 1545.82 704.956 1542.27 Q706.785 1538.71 706.785 1531.6 Q706.785 1524.47 704.956 1520.93 Q703.151 1517.37 699.516 1517.37 M699.516 1513.66 Q705.327 1513.66 708.382 1518.27 Q711.461 1522.85 711.461 1531.6 Q711.461 1540.33 708.382 1544.94 Q705.327 1549.52 699.516 1549.52 Q693.706 1549.52 690.628 1544.94 Q687.572 1540.33 687.572 1531.6 Q687.572 1522.85 690.628 1518.27 Q693.706 1513.66 699.516 1513.66 Z\" fill=\"#000000\" fill-rule=\"nonzero\" fill-opacity=\"1\" /><path clip-path=\"url(#clip660)\" d=\"M719.678 1542.97 L724.563 1542.97 L724.563 1548.85 L719.678 1548.85 L719.678 1542.97 Z\" fill=\"#000000\" fill-rule=\"nonzero\" fill-opacity=\"1\" /><path clip-path=\"url(#clip660)\" d=\"M738.776 1544.91 L755.095 1544.91 L755.095 1548.85 L733.151 1548.85 L733.151 1544.91 Q735.813 1542.16 740.396 1537.53 Q745.002 1532.88 746.183 1531.53 Q748.428 1529.01 749.308 1527.27 Q750.211 1525.51 750.211 1523.82 Q750.211 1521.07 748.266 1519.33 Q746.345 1517.6 743.243 1517.6 Q741.044 1517.6 738.59 1518.36 Q736.16 1519.13 733.382 1520.68 L733.382 1515.95 Q736.206 1514.82 738.66 1514.24 Q741.113 1513.66 743.151 1513.66 Q748.521 1513.66 751.715 1516.35 Q754.91 1519.03 754.91 1523.52 Q754.91 1525.65 754.1 1527.57 Q753.312 1529.47 751.206 1532.07 Q750.627 1532.74 747.525 1535.95 Q744.424 1539.15 738.776 1544.91 Z\" fill=\"#000000\" fill-rule=\"nonzero\" fill-opacity=\"1\" /><path clip-path=\"url(#clip660)\" d=\"M764.956 1514.29 L783.312 1514.29 L783.312 1518.22 L769.238 1518.22 L769.238 1526.7 Q770.257 1526.35 771.275 1526.19 Q772.294 1526 773.312 1526 Q779.099 1526 782.479 1529.17 Q785.859 1532.34 785.859 1537.76 Q785.859 1543.34 782.386 1546.44 Q778.914 1549.52 772.595 1549.52 Q770.419 1549.52 768.15 1549.15 Q765.905 1548.78 763.498 1548.04 L763.498 1543.34 Q765.581 1544.47 767.803 1545.03 Q770.025 1545.58 772.502 1545.58 Q776.507 1545.58 778.845 1543.48 Q781.183 1541.37 781.183 1537.76 Q781.183 1534.15 778.845 1532.04 Q776.507 1529.94 772.502 1529.94 Q770.627 1529.94 768.752 1530.35 Q766.9 1530.77 764.956 1531.65 L764.956 1514.29 Z\" fill=\"#000000\" fill-rule=\"nonzero\" fill-opacity=\"1\" /><path clip-path=\"url(#clip660)\" d=\"M1216.98 1517.37 Q1213.37 1517.37 1211.54 1520.93 Q1209.74 1524.47 1209.74 1531.6 Q1209.74 1538.71 1211.54 1542.27 Q1213.37 1545.82 1216.98 1545.82 Q1220.61 1545.82 1222.42 1542.27 Q1224.25 1538.71 1224.25 1531.6 Q1224.25 1524.47 1222.42 1520.93 Q1220.61 1517.37 1216.98 1517.37 M1216.98 1513.66 Q1222.79 1513.66 1225.85 1518.27 Q1228.92 1522.85 1228.92 1531.6 Q1228.92 1540.33 1225.85 1544.94 Q1222.79 1549.52 1216.98 1549.52 Q1211.17 1549.52 1208.09 1544.94 Q1205.04 1540.33 1205.04 1531.6 Q1205.04 1522.85 1208.09 1518.27 Q1211.17 1513.66 1216.98 1513.66 Z\" fill=\"#000000\" fill-rule=\"nonzero\" fill-opacity=\"1\" /><path clip-path=\"url(#clip660)\" d=\"M1237.14 1542.97 L1242.03 1542.97 L1242.03 1548.85 L1237.14 1548.85 L1237.14 1542.97 Z\" fill=\"#000000\" fill-rule=\"nonzero\" fill-opacity=\"1\" /><path clip-path=\"url(#clip660)\" d=\"M1252.26 1514.29 L1270.61 1514.29 L1270.61 1518.22 L1256.54 1518.22 L1256.54 1526.7 Q1257.56 1526.35 1258.58 1526.19 Q1259.6 1526 1260.61 1526 Q1266.4 1526 1269.78 1529.17 Q1273.16 1532.34 1273.16 1537.76 Q1273.16 1543.34 1269.69 1546.44 Q1266.22 1549.52 1259.9 1549.52 Q1257.72 1549.52 1255.45 1549.15 Q1253.21 1548.78 1250.8 1548.04 L1250.8 1543.34 Q1252.88 1544.47 1255.11 1545.03 Q1257.33 1545.58 1259.8 1545.58 Q1263.81 1545.58 1266.15 1543.48 Q1268.48 1541.37 1268.48 1537.76 Q1268.48 1534.15 1266.15 1532.04 Q1263.81 1529.94 1259.8 1529.94 Q1257.93 1529.94 1256.05 1530.35 Q1254.2 1530.77 1252.26 1531.65 L1252.26 1514.29 Z\" fill=\"#000000\" fill-rule=\"nonzero\" fill-opacity=\"1\" /><path clip-path=\"url(#clip660)\" d=\"M1292.37 1517.37 Q1288.76 1517.37 1286.93 1520.93 Q1285.13 1524.47 1285.13 1531.6 Q1285.13 1538.71 1286.93 1542.27 Q1288.76 1545.82 1292.37 1545.82 Q1296.01 1545.82 1297.81 1542.27 Q1299.64 1538.71 1299.64 1531.6 Q1299.64 1524.47 1297.81 1520.93 Q1296.01 1517.37 1292.37 1517.37 M1292.37 1513.66 Q1298.18 1513.66 1301.24 1518.27 Q1304.32 1522.85 1304.32 1531.6 Q1304.32 1540.33 1301.24 1544.94 Q1298.18 1549.52 1292.37 1549.52 Q1286.56 1549.52 1283.48 1544.94 Q1280.43 1540.33 1280.43 1531.6 Q1280.43 1522.85 1283.48 1518.27 Q1286.56 1513.66 1292.37 1513.66 Z\" fill=\"#000000\" fill-rule=\"nonzero\" fill-opacity=\"1\" /><path clip-path=\"url(#clip660)\" d=\"M1735.44 1517.37 Q1731.83 1517.37 1730 1520.93 Q1728.19 1524.47 1728.19 1531.6 Q1728.19 1538.71 1730 1542.27 Q1731.83 1545.82 1735.44 1545.82 Q1739.07 1545.82 1740.88 1542.27 Q1742.71 1538.71 1742.71 1531.6 Q1742.71 1524.47 1740.88 1520.93 Q1739.07 1517.37 1735.44 1517.37 M1735.44 1513.66 Q1741.25 1513.66 1744.31 1518.27 Q1747.38 1522.85 1747.38 1531.6 Q1747.38 1540.33 1744.31 1544.94 Q1741.25 1549.52 1735.44 1549.52 Q1729.63 1549.52 1726.55 1544.94 Q1723.5 1540.33 1723.5 1531.6 Q1723.5 1522.85 1726.55 1518.27 Q1729.63 1513.66 1735.44 1513.66 Z\" fill=\"#000000\" fill-rule=\"nonzero\" fill-opacity=\"1\" /><path clip-path=\"url(#clip660)\" d=\"M1755.6 1542.97 L1760.49 1542.97 L1760.49 1548.85 L1755.6 1548.85 L1755.6 1542.97 Z\" fill=\"#000000\" fill-rule=\"nonzero\" fill-opacity=\"1\" /><path clip-path=\"url(#clip660)\" d=\"M1769.49 1514.29 L1791.71 1514.29 L1791.71 1516.28 L1779.17 1548.85 L1774.28 1548.85 L1786.09 1518.22 L1769.49 1518.22 L1769.49 1514.29 Z\" fill=\"#000000\" fill-rule=\"nonzero\" fill-opacity=\"1\" /><path clip-path=\"url(#clip660)\" d=\"M1800.88 1514.29 L1819.24 1514.29 L1819.24 1518.22 L1805.16 1518.22 L1805.16 1526.7 Q1806.18 1526.35 1807.2 1526.19 Q1808.22 1526 1809.24 1526 Q1815.02 1526 1818.4 1529.17 Q1821.78 1532.34 1821.78 1537.76 Q1821.78 1543.34 1818.31 1546.44 Q1814.84 1549.52 1808.52 1549.52 Q1806.34 1549.52 1804.07 1549.15 Q1801.83 1548.78 1799.42 1548.04 L1799.42 1543.34 Q1801.5 1544.47 1803.73 1545.03 Q1805.95 1545.58 1808.43 1545.58 Q1812.43 1545.58 1814.77 1543.48 Q1817.11 1541.37 1817.11 1537.76 Q1817.11 1534.15 1814.77 1532.04 Q1812.43 1529.94 1808.43 1529.94 Q1806.55 1529.94 1804.68 1530.35 Q1802.82 1530.77 1800.88 1531.65 L1800.88 1514.29 Z\" fill=\"#000000\" fill-rule=\"nonzero\" fill-opacity=\"1\" /><path clip-path=\"url(#clip660)\" d=\"M2242.67 1544.91 L2250.31 1544.91 L2250.31 1518.55 L2242 1520.21 L2242 1515.95 L2250.27 1514.29 L2254.94 1514.29 L2254.94 1544.91 L2262.58 1544.91 L2262.58 1548.85 L2242.67 1548.85 L2242.67 1544.91 Z\" fill=\"#000000\" fill-rule=\"nonzero\" fill-opacity=\"1\" /><path clip-path=\"url(#clip660)\" d=\"M2272.02 1542.97 L2276.91 1542.97 L2276.91 1548.85 L2272.02 1548.85 L2272.02 1542.97 Z\" fill=\"#000000\" fill-rule=\"nonzero\" fill-opacity=\"1\" /><path clip-path=\"url(#clip660)\" d=\"M2297.09 1517.37 Q2293.48 1517.37 2291.65 1520.93 Q2289.85 1524.47 2289.85 1531.6 Q2289.85 1538.71 2291.65 1542.27 Q2293.48 1545.82 2297.09 1545.82 Q2300.73 1545.82 2302.53 1542.27 Q2304.36 1538.71 2304.36 1531.6 Q2304.36 1524.47 2302.53 1520.93 Q2300.73 1517.37 2297.09 1517.37 M2297.09 1513.66 Q2302.9 1513.66 2305.96 1518.27 Q2309.04 1522.85 2309.04 1531.6 Q2309.04 1540.33 2305.96 1544.94 Q2302.9 1549.52 2297.09 1549.52 Q2291.28 1549.52 2288.2 1544.94 Q2285.15 1540.33 2285.15 1531.6 Q2285.15 1522.85 2288.2 1518.27 Q2291.28 1513.66 2297.09 1513.66 Z\" fill=\"#000000\" fill-rule=\"nonzero\" fill-opacity=\"1\" /><path clip-path=\"url(#clip660)\" d=\"M2327.26 1517.37 Q2323.64 1517.37 2321.82 1520.93 Q2320.01 1524.47 2320.01 1531.6 Q2320.01 1538.71 2321.82 1542.27 Q2323.64 1545.82 2327.26 1545.82 Q2330.89 1545.82 2332.7 1542.27 Q2334.52 1538.71 2334.52 1531.6 Q2334.52 1524.47 2332.7 1520.93 Q2330.89 1517.37 2327.26 1517.37 M2327.26 1513.66 Q2333.07 1513.66 2336.12 1518.27 Q2339.2 1522.85 2339.2 1531.6 Q2339.2 1540.33 2336.12 1544.94 Q2333.07 1549.52 2327.26 1549.52 Q2321.45 1549.52 2318.37 1544.94 Q2315.31 1540.33 2315.31 1531.6 Q2315.31 1522.85 2318.37 1518.27 Q2321.45 1513.66 2327.26 1513.66 Z\" fill=\"#000000\" fill-rule=\"nonzero\" fill-opacity=\"1\" /><polyline clip-path=\"url(#clip662)\" style=\"stroke:#000000; stroke-linecap:round; stroke-linejoin:round; stroke-width:2; stroke-opacity:0.1; fill:none\" points=\"156.598,1451.01 2352.76,1451.01 \"/>\n",
       "<polyline clip-path=\"url(#clip662)\" style=\"stroke:#000000; stroke-linecap:round; stroke-linejoin:round; stroke-width:2; stroke-opacity:0.1; fill:none\" points=\"156.598,1223.83 2352.76,1223.83 \"/>\n",
       "<polyline clip-path=\"url(#clip662)\" style=\"stroke:#000000; stroke-linecap:round; stroke-linejoin:round; stroke-width:2; stroke-opacity:0.1; fill:none\" points=\"156.598,996.663 2352.76,996.663 \"/>\n",
       "<polyline clip-path=\"url(#clip662)\" style=\"stroke:#000000; stroke-linecap:round; stroke-linejoin:round; stroke-width:2; stroke-opacity:0.1; fill:none\" points=\"156.598,769.491 2352.76,769.491 \"/>\n",
       "<polyline clip-path=\"url(#clip662)\" style=\"stroke:#000000; stroke-linecap:round; stroke-linejoin:round; stroke-width:2; stroke-opacity:0.1; fill:none\" points=\"156.598,542.319 2352.76,542.319 \"/>\n",
       "<polyline clip-path=\"url(#clip662)\" style=\"stroke:#000000; stroke-linecap:round; stroke-linejoin:round; stroke-width:2; stroke-opacity:0.1; fill:none\" points=\"156.598,315.148 2352.76,315.148 \"/>\n",
       "<polyline clip-path=\"url(#clip662)\" style=\"stroke:#000000; stroke-linecap:round; stroke-linejoin:round; stroke-width:2; stroke-opacity:0.1; fill:none\" points=\"156.598,87.9763 2352.76,87.9763 \"/>\n",
       "<polyline clip-path=\"url(#clip660)\" style=\"stroke:#000000; stroke-linecap:round; stroke-linejoin:round; stroke-width:4; stroke-opacity:1; fill:none\" points=\"156.598,1486.45 156.598,47.2441 \"/>\n",
       "<polyline clip-path=\"url(#clip660)\" style=\"stroke:#000000; stroke-linecap:round; stroke-linejoin:round; stroke-width:4; stroke-opacity:1; fill:none\" points=\"156.598,1451.01 175.496,1451.01 \"/>\n",
       "<polyline clip-path=\"url(#clip660)\" style=\"stroke:#000000; stroke-linecap:round; stroke-linejoin:round; stroke-width:4; stroke-opacity:1; fill:none\" points=\"156.598,1223.83 175.496,1223.83 \"/>\n",
       "<polyline clip-path=\"url(#clip660)\" style=\"stroke:#000000; stroke-linecap:round; stroke-linejoin:round; stroke-width:4; stroke-opacity:1; fill:none\" points=\"156.598,996.663 175.496,996.663 \"/>\n",
       "<polyline clip-path=\"url(#clip660)\" style=\"stroke:#000000; stroke-linecap:round; stroke-linejoin:round; stroke-width:4; stroke-opacity:1; fill:none\" points=\"156.598,769.491 175.496,769.491 \"/>\n",
       "<polyline clip-path=\"url(#clip660)\" style=\"stroke:#000000; stroke-linecap:round; stroke-linejoin:round; stroke-width:4; stroke-opacity:1; fill:none\" points=\"156.598,542.319 175.496,542.319 \"/>\n",
       "<polyline clip-path=\"url(#clip660)\" style=\"stroke:#000000; stroke-linecap:round; stroke-linejoin:round; stroke-width:4; stroke-opacity:1; fill:none\" points=\"156.598,315.148 175.496,315.148 \"/>\n",
       "<polyline clip-path=\"url(#clip660)\" style=\"stroke:#000000; stroke-linecap:round; stroke-linejoin:round; stroke-width:4; stroke-opacity:1; fill:none\" points=\"156.598,87.9763 175.496,87.9763 \"/>\n",
       "<path clip-path=\"url(#clip660)\" d=\"M65.0198 1436.8 Q61.4087 1436.8 59.58 1440.37 Q57.7745 1443.91 57.7745 1451.04 Q57.7745 1458.15 59.58 1461.71 Q61.4087 1465.25 65.0198 1465.25 Q68.6541 1465.25 70.4596 1461.71 Q72.2883 1458.15 72.2883 1451.04 Q72.2883 1443.91 70.4596 1440.37 Q68.6541 1436.8 65.0198 1436.8 M65.0198 1433.1 Q70.83 1433.1 73.8855 1437.71 Q76.9642 1442.29 76.9642 1451.04 Q76.9642 1459.77 73.8855 1464.37 Q70.83 1468.96 65.0198 1468.96 Q59.2097 1468.96 56.131 1464.37 Q53.0754 1459.77 53.0754 1451.04 Q53.0754 1442.29 56.131 1437.71 Q59.2097 1433.1 65.0198 1433.1 Z\" fill=\"#000000\" fill-rule=\"nonzero\" fill-opacity=\"1\" /><path clip-path=\"url(#clip660)\" d=\"M85.1818 1462.41 L90.066 1462.41 L90.066 1468.29 L85.1818 1468.29 L85.1818 1462.41 Z\" fill=\"#000000\" fill-rule=\"nonzero\" fill-opacity=\"1\" /><path clip-path=\"url(#clip660)\" d=\"M104.279 1464.35 L120.598 1464.35 L120.598 1468.29 L98.6539 1468.29 L98.6539 1464.35 Q101.316 1461.6 105.899 1456.97 Q110.506 1452.31 111.686 1450.97 Q113.932 1448.45 114.811 1446.71 Q115.714 1444.95 115.714 1443.26 Q115.714 1440.51 113.77 1438.77 Q111.848 1437.04 108.746 1437.04 Q106.547 1437.04 104.094 1437.8 Q101.663 1438.56 98.8854 1440.11 L98.8854 1435.39 Q101.709 1434.26 104.163 1433.68 Q106.617 1433.1 108.654 1433.1 Q114.024 1433.1 117.219 1435.79 Q120.413 1438.47 120.413 1442.96 Q120.413 1445.09 119.603 1447.01 Q118.816 1448.91 116.709 1451.5 Q116.131 1452.17 113.029 1455.39 Q109.927 1458.59 104.279 1464.35 Z\" fill=\"#000000\" fill-rule=\"nonzero\" fill-opacity=\"1\" /><path clip-path=\"url(#clip660)\" d=\"M64.0708 1209.63 Q60.4597 1209.63 58.631 1213.2 Q56.8254 1216.74 56.8254 1223.87 Q56.8254 1230.98 58.631 1234.54 Q60.4597 1238.08 64.0708 1238.08 Q67.705 1238.08 69.5105 1234.54 Q71.3392 1230.98 71.3392 1223.87 Q71.3392 1216.74 69.5105 1213.2 Q67.705 1209.63 64.0708 1209.63 M64.0708 1205.93 Q69.8809 1205.93 72.9365 1210.54 Q76.0151 1215.12 76.0151 1223.87 Q76.0151 1232.6 72.9365 1237.2 Q69.8809 1241.79 64.0708 1241.79 Q58.2606 1241.79 55.1819 1237.2 Q52.1264 1232.6 52.1264 1223.87 Q52.1264 1215.12 55.1819 1210.54 Q58.2606 1205.93 64.0708 1205.93 Z\" fill=\"#000000\" fill-rule=\"nonzero\" fill-opacity=\"1\" /><path clip-path=\"url(#clip660)\" d=\"M84.2327 1235.23 L89.1169 1235.23 L89.1169 1241.11 L84.2327 1241.11 L84.2327 1235.23 Z\" fill=\"#000000\" fill-rule=\"nonzero\" fill-opacity=\"1\" /><path clip-path=\"url(#clip660)\" d=\"M113.469 1222.48 Q116.825 1223.2 118.7 1225.47 Q120.598 1227.73 120.598 1231.07 Q120.598 1236.18 117.08 1238.98 Q113.561 1241.79 107.08 1241.79 Q104.904 1241.79 102.589 1241.35 Q100.297 1240.93 97.8437 1240.07 L97.8437 1235.56 Q99.7882 1236.69 102.103 1237.27 Q104.418 1237.85 106.941 1237.85 Q111.339 1237.85 113.631 1236.11 Q115.945 1234.38 115.945 1231.07 Q115.945 1228.01 113.793 1226.3 Q111.663 1224.56 107.844 1224.56 L103.816 1224.56 L103.816 1220.72 L108.029 1220.72 Q111.478 1220.72 113.307 1219.35 Q115.135 1217.97 115.135 1215.37 Q115.135 1212.71 113.237 1211.3 Q111.362 1209.86 107.844 1209.86 Q105.922 1209.86 103.723 1210.28 Q101.524 1210.7 98.8854 1211.58 L98.8854 1207.41 Q101.547 1206.67 103.862 1206.3 Q106.2 1205.93 108.26 1205.93 Q113.584 1205.93 116.686 1208.36 Q119.788 1210.77 119.788 1214.89 Q119.788 1217.76 118.145 1219.75 Q116.501 1221.72 113.469 1222.48 Z\" fill=\"#000000\" fill-rule=\"nonzero\" fill-opacity=\"1\" /><path clip-path=\"url(#clip660)\" d=\"M62.9365 982.461 Q59.3254 982.461 57.4967 986.026 Q55.6912 989.568 55.6912 996.697 Q55.6912 1003.8 57.4967 1007.37 Q59.3254 1010.91 62.9365 1010.91 Q66.5707 1010.91 68.3763 1007.37 Q70.205 1003.8 70.205 996.697 Q70.205 989.568 68.3763 986.026 Q66.5707 982.461 62.9365 982.461 M62.9365 978.758 Q68.7467 978.758 71.8022 983.364 Q74.8809 987.947 74.8809 996.697 Q74.8809 1005.42 71.8022 1010.03 Q68.7467 1014.61 62.9365 1014.61 Q57.1264 1014.61 54.0477 1010.03 Q50.9921 1005.42 50.9921 996.697 Q50.9921 987.947 54.0477 983.364 Q57.1264 978.758 62.9365 978.758 Z\" fill=\"#000000\" fill-rule=\"nonzero\" fill-opacity=\"1\" /><path clip-path=\"url(#clip660)\" d=\"M83.0984 1008.06 L87.9827 1008.06 L87.9827 1013.94 L83.0984 1013.94 L83.0984 1008.06 Z\" fill=\"#000000\" fill-rule=\"nonzero\" fill-opacity=\"1\" /><path clip-path=\"url(#clip660)\" d=\"M111.015 983.457 L99.2095 1001.91 L111.015 1001.91 L111.015 983.457 M109.788 979.383 L115.668 979.383 L115.668 1001.91 L120.598 1001.91 L120.598 1005.79 L115.668 1005.79 L115.668 1013.94 L111.015 1013.94 L111.015 1005.79 L95.4132 1005.79 L95.4132 1001.28 L109.788 979.383 Z\" fill=\"#000000\" fill-rule=\"nonzero\" fill-opacity=\"1\" /><path clip-path=\"url(#clip660)\" d=\"M64.418 755.29 Q60.8069 755.29 58.9782 758.854 Q57.1726 762.396 57.1726 769.526 Q57.1726 776.632 58.9782 780.197 Q60.8069 783.739 64.418 783.739 Q68.0522 783.739 69.8578 780.197 Q71.6865 776.632 71.6865 769.526 Q71.6865 762.396 69.8578 758.854 Q68.0522 755.29 64.418 755.29 M64.418 751.586 Q70.2281 751.586 73.2837 756.192 Q76.3624 760.776 76.3624 769.526 Q76.3624 778.253 73.2837 782.859 Q70.2281 787.442 64.418 787.442 Q58.6078 787.442 55.5291 782.859 Q52.4736 778.253 52.4736 769.526 Q52.4736 760.776 55.5291 756.192 Q58.6078 751.586 64.418 751.586 Z\" fill=\"#000000\" fill-rule=\"nonzero\" fill-opacity=\"1\" /><path clip-path=\"url(#clip660)\" d=\"M84.5799 780.891 L89.4641 780.891 L89.4641 786.771 L84.5799 786.771 L84.5799 780.891 Z\" fill=\"#000000\" fill-rule=\"nonzero\" fill-opacity=\"1\" /><path clip-path=\"url(#clip660)\" d=\"M99.6956 752.211 L118.052 752.211 L118.052 756.146 L103.978 756.146 L103.978 764.618 Q104.996 764.271 106.015 764.109 Q107.033 763.924 108.052 763.924 Q113.839 763.924 117.219 767.095 Q120.598 770.266 120.598 775.683 Q120.598 781.262 117.126 784.364 Q113.654 787.442 107.334 787.442 Q105.159 787.442 102.89 787.072 Q100.645 786.702 98.2372 785.961 L98.2372 781.262 Q100.321 782.396 102.543 782.952 Q104.765 783.507 107.242 783.507 Q111.246 783.507 113.584 781.401 Q115.922 779.294 115.922 775.683 Q115.922 772.072 113.584 769.966 Q111.246 767.859 107.242 767.859 Q105.367 767.859 103.492 768.276 Q101.64 768.692 99.6956 769.572 L99.6956 752.211 Z\" fill=\"#000000\" fill-rule=\"nonzero\" fill-opacity=\"1\" /><path clip-path=\"url(#clip660)\" d=\"M63.2606 528.118 Q59.6495 528.118 57.8208 531.683 Q56.0152 535.225 56.0152 542.354 Q56.0152 549.461 57.8208 553.025 Q59.6495 556.567 63.2606 556.567 Q66.8948 556.567 68.7004 553.025 Q70.5291 549.461 70.5291 542.354 Q70.5291 535.225 68.7004 531.683 Q66.8948 528.118 63.2606 528.118 M63.2606 524.414 Q69.0707 524.414 72.1263 529.021 Q75.205 533.604 75.205 542.354 Q75.205 551.081 72.1263 555.687 Q69.0707 560.271 63.2606 560.271 Q57.4504 560.271 54.3717 555.687 Q51.3162 551.081 51.3162 542.354 Q51.3162 533.604 54.3717 529.021 Q57.4504 524.414 63.2606 524.414 Z\" fill=\"#000000\" fill-rule=\"nonzero\" fill-opacity=\"1\" /><path clip-path=\"url(#clip660)\" d=\"M83.4225 553.72 L88.3067 553.72 L88.3067 559.599 L83.4225 559.599 L83.4225 553.72 Z\" fill=\"#000000\" fill-rule=\"nonzero\" fill-opacity=\"1\" /><path clip-path=\"url(#clip660)\" d=\"M109.071 540.456 Q105.922 540.456 104.071 542.609 Q102.242 544.762 102.242 548.512 Q102.242 552.238 104.071 554.414 Q105.922 556.567 109.071 556.567 Q112.219 556.567 114.047 554.414 Q115.899 552.238 115.899 548.512 Q115.899 544.762 114.047 542.609 Q112.219 540.456 109.071 540.456 M118.353 525.803 L118.353 530.063 Q116.594 529.229 114.788 528.789 Q113.006 528.35 111.246 528.35 Q106.617 528.35 104.163 531.475 Q101.733 534.6 101.385 540.919 Q102.751 538.905 104.811 537.84 Q106.871 536.752 109.348 536.752 Q114.557 536.752 117.566 539.924 Q120.598 543.072 120.598 548.512 Q120.598 553.836 117.45 557.053 Q114.302 560.271 109.071 560.271 Q103.075 560.271 99.9039 555.687 Q96.7326 551.081 96.7326 542.354 Q96.7326 534.16 100.621 529.299 Q104.51 524.414 111.061 524.414 Q112.82 524.414 114.603 524.762 Q116.408 525.109 118.353 525.803 Z\" fill=\"#000000\" fill-rule=\"nonzero\" fill-opacity=\"1\" /><path clip-path=\"url(#clip660)\" d=\"M64.3254 300.947 Q60.7143 300.947 58.8856 304.511 Q57.0801 308.053 57.0801 315.183 Q57.0801 322.289 58.8856 325.854 Q60.7143 329.395 64.3254 329.395 Q67.9596 329.395 69.7652 325.854 Q71.5939 322.289 71.5939 315.183 Q71.5939 308.053 69.7652 304.511 Q67.9596 300.947 64.3254 300.947 M64.3254 297.243 Q70.1355 297.243 73.1911 301.849 Q76.2698 306.433 76.2698 315.183 Q76.2698 323.909 73.1911 328.516 Q70.1355 333.099 64.3254 333.099 Q58.5152 333.099 55.4365 328.516 Q52.381 323.909 52.381 315.183 Q52.381 306.433 55.4365 301.849 Q58.5152 297.243 64.3254 297.243 Z\" fill=\"#000000\" fill-rule=\"nonzero\" fill-opacity=\"1\" /><path clip-path=\"url(#clip660)\" d=\"M84.4873 326.548 L89.3715 326.548 L89.3715 332.428 L84.4873 332.428 L84.4873 326.548 Z\" fill=\"#000000\" fill-rule=\"nonzero\" fill-opacity=\"1\" /><path clip-path=\"url(#clip660)\" d=\"M98.3761 297.868 L120.598 297.868 L120.598 299.859 L108.052 332.428 L103.168 332.428 L114.973 301.803 L98.3761 301.803 L98.3761 297.868 Z\" fill=\"#000000\" fill-rule=\"nonzero\" fill-opacity=\"1\" /><path clip-path=\"url(#clip660)\" d=\"M63.5152 73.775 Q59.9041 73.775 58.0754 77.3398 Q56.2699 80.8814 56.2699 88.011 Q56.2699 95.1174 58.0754 98.6822 Q59.9041 102.224 63.5152 102.224 Q67.1494 102.224 68.955 98.6822 Q70.7837 95.1174 70.7837 88.011 Q70.7837 80.8814 68.955 77.3398 Q67.1494 73.775 63.5152 73.775 M63.5152 70.0713 Q69.3254 70.0713 72.3809 74.6777 Q75.4596 79.261 75.4596 88.011 Q75.4596 96.7378 72.3809 101.344 Q69.3254 105.928 63.5152 105.928 Q57.7051 105.928 54.6264 101.344 Q51.5708 96.7378 51.5708 88.011 Q51.5708 79.261 54.6264 74.6777 Q57.7051 70.0713 63.5152 70.0713 Z\" fill=\"#000000\" fill-rule=\"nonzero\" fill-opacity=\"1\" /><path clip-path=\"url(#clip660)\" d=\"M83.6771 99.3767 L88.5614 99.3767 L88.5614 105.256 L83.6771 105.256 L83.6771 99.3767 Z\" fill=\"#000000\" fill-rule=\"nonzero\" fill-opacity=\"1\" /><path clip-path=\"url(#clip660)\" d=\"M108.746 88.8443 Q105.413 88.8443 103.492 90.6267 Q101.594 92.4091 101.594 95.5341 Q101.594 98.6591 103.492 100.441 Q105.413 102.224 108.746 102.224 Q112.08 102.224 114.001 100.441 Q115.922 98.6359 115.922 95.5341 Q115.922 92.4091 114.001 90.6267 Q112.103 88.8443 108.746 88.8443 M104.071 86.8536 Q101.061 86.1129 99.3715 84.0527 Q97.7048 81.9925 97.7048 79.0296 Q97.7048 74.8861 100.645 72.4787 Q103.608 70.0713 108.746 70.0713 Q113.908 70.0713 116.848 72.4787 Q119.788 74.8861 119.788 79.0296 Q119.788 81.9925 118.098 84.0527 Q116.432 86.1129 113.445 86.8536 Q116.825 87.6406 118.7 89.9323 Q120.598 92.2239 120.598 95.5341 Q120.598 100.557 117.52 103.242 Q114.464 105.928 108.746 105.928 Q103.029 105.928 99.9502 103.242 Q96.8947 100.557 96.8947 95.5341 Q96.8947 92.2239 98.7928 89.9323 Q100.691 87.6406 104.071 86.8536 M102.358 79.4694 Q102.358 82.1545 104.024 83.6592 Q105.714 85.1638 108.746 85.1638 Q111.756 85.1638 113.445 83.6592 Q115.158 82.1545 115.158 79.4694 Q115.158 76.7842 113.445 75.2796 Q111.756 73.775 108.746 73.775 Q105.714 73.775 104.024 75.2796 Q102.358 76.7842 102.358 79.4694 Z\" fill=\"#000000\" fill-rule=\"nonzero\" fill-opacity=\"1\" /><polyline clip-path=\"url(#clip662)\" style=\"stroke:#009af9; stroke-linecap:round; stroke-linejoin:round; stroke-width:4; stroke-opacity:1; fill:none\" points=\"218.754,1434.53 232.242,1431.29 356.966,1400.25 431.92,1380.68 495.293,1363.58 564.133,1344.4 627.598,1326.16 695.639,1305.97 774.471,1281.75 844.528,1259.45 905.961,1239.28 972.94,1216.6 1040.32,1193.05 1114.81,1166.13 1185.69,1139.62 1259.39,1111.11 1321.42,1086.33 1397.17,1055.08 1466.55,1025.47 1530.63,997.251 1595.54,967.797 1668.29,933.711 1734.21,901.814 1809.69,864.075 1879.57,827.937 1948.47,791.149 2015.36,754.294 2083.94,715.316 2159.07,671.177 2268.21,604.286 2290.6,590.145 \"/>\n",
       "<polyline clip-path=\"url(#clip662)\" style=\"stroke:#e26f46; stroke-linecap:round; stroke-linejoin:round; stroke-width:4; stroke-opacity:1; fill:none\" points=\"218.754,1445.72 232.242,1442.55 356.966,1412.25 431.92,1393.14 495.293,1376.45 564.133,1357.73 627.598,1339.92 695.639,1320.21 774.471,1296.56 844.528,1274.79 905.961,1255.1 972.94,1232.96 1040.32,1209.97 1114.81,1183.69 1185.69,1157.81 1259.39,1129.98 1321.42,1105.78 1397.17,1075.28 1466.55,1046.37 1530.63,1018.82 1595.54,990.068 1668.29,956.792 1734.21,925.652 1809.69,888.81 1879.57,853.531 1914.02,835.716 1948.47,817.616 1965.19,808.725 1981.92,799.765 1998.64,790.736 2015.36,781.637 2023.94,776.945 2032.51,772.236 2036.79,769.874 2041.08,761.797 2045.36,752.55 2049.65,743.233 2066.79,705.246 2083.94,666.085 2102.72,621.79 2121.5,575.999 2140.29,528.662 2159.07,479.732 2186.35,405.71 2213.64,328.056 2240.92,246.603 2268.21,161.176 2273.81,143.142 2279.41,124.932 2285,106.544 2290.6,87.9763 \"/>\n",
       "<path clip-path=\"url(#clip660)\" d=\"M229.803 250.738 L501.85 250.738 L501.85 95.2176 L229.803 95.2176  Z\" fill=\"#ffffff\" fill-rule=\"evenodd\" fill-opacity=\"1\"/>\n",
       "<polyline clip-path=\"url(#clip660)\" style=\"stroke:#000000; stroke-linecap:round; stroke-linejoin:round; stroke-width:4; stroke-opacity:1; fill:none\" points=\"229.803,250.738 501.85,250.738 501.85,95.2176 229.803,95.2176 229.803,250.738 \"/>\n",
       "<polyline clip-path=\"url(#clip660)\" style=\"stroke:#009af9; stroke-linecap:round; stroke-linejoin:round; stroke-width:4; stroke-opacity:1; fill:none\" points=\"254.205,147.058 400.616,147.058 \"/>\n",
       "<path clip-path=\"url(#clip660)\" d=\"M438.86 166.745 Q437.054 171.375 435.342 172.787 Q433.629 174.199 430.758 174.199 L427.355 174.199 L427.355 170.634 L429.855 170.634 Q431.615 170.634 432.587 169.8 Q433.559 168.967 434.74 165.865 L435.504 163.921 L425.018 138.412 L429.531 138.412 L437.633 158.689 L445.735 138.412 L450.249 138.412 L438.86 166.745 Z\" fill=\"#000000\" fill-rule=\"nonzero\" fill-opacity=\"1\" /><path clip-path=\"url(#clip660)\" d=\"M457.54 160.402 L465.179 160.402 L465.179 134.037 L456.869 135.703 L456.869 131.444 L465.133 129.778 L469.809 129.778 L469.809 160.402 L477.448 160.402 L477.448 164.338 L457.54 164.338 L457.54 160.402 Z\" fill=\"#000000\" fill-rule=\"nonzero\" fill-opacity=\"1\" /><polyline clip-path=\"url(#clip660)\" style=\"stroke:#e26f46; stroke-linecap:round; stroke-linejoin:round; stroke-width:4; stroke-opacity:1; fill:none\" points=\"254.205,198.898 400.616,198.898 \"/>\n",
       "<path clip-path=\"url(#clip660)\" d=\"M438.86 218.585 Q437.054 223.215 435.342 224.627 Q433.629 226.039 430.758 226.039 L427.355 226.039 L427.355 222.474 L429.855 222.474 Q431.615 222.474 432.587 221.64 Q433.559 220.807 434.74 217.705 L435.504 215.761 L425.018 190.252 L429.531 190.252 L437.633 210.529 L445.735 190.252 L450.249 190.252 L438.86 218.585 Z\" fill=\"#000000\" fill-rule=\"nonzero\" fill-opacity=\"1\" /><path clip-path=\"url(#clip660)\" d=\"M460.758 212.242 L477.077 212.242 L477.077 216.178 L455.133 216.178 L455.133 212.242 Q457.795 209.488 462.378 204.858 Q466.985 200.205 468.165 198.863 Q470.411 196.34 471.29 194.604 Q472.193 192.844 472.193 191.155 Q472.193 188.4 470.249 186.664 Q468.327 184.928 465.226 184.928 Q463.027 184.928 460.573 185.692 Q458.142 186.455 455.365 188.006 L455.365 183.284 Q458.189 182.15 460.642 181.571 Q463.096 180.993 465.133 180.993 Q470.503 180.993 473.698 183.678 Q476.892 186.363 476.892 190.854 Q476.892 192.983 476.082 194.905 Q475.295 196.803 473.189 199.395 Q472.61 200.067 469.508 203.284 Q466.406 206.479 460.758 212.242 Z\" fill=\"#000000\" fill-rule=\"nonzero\" fill-opacity=\"1\" /></svg>\n"
      ]
     },
     "execution_count": 13,
     "metadata": {},
     "output_type": "execute_result"
    }
   ],
   "source": [
    "# expected surplus without then with\n",
    "s_lot(x,b)"
   ]
  },
  {
   "cell_type": "code",
   "execution_count": 14,
   "id": "12d0a18d-1d3d-47cf-a051-a1040da1f19e",
   "metadata": {},
   "outputs": [
    {
     "data": {
      "text/latex": [
       "$-0.0120434430524721$"
      ],
      "text/plain": [
       "-0.0120434430524721"
      ]
     },
     "execution_count": 14,
     "metadata": {},
     "output_type": "execute_result"
    }
   ],
   "source": [
    "(integrate(i_surplus_without(x,b),0,1)-integrate(i_surplus_with(x,b),0,1))/integrate(i_surplus_with(x,b),0,1)"
   ]
  },
  {
   "cell_type": "code",
   "execution_count": 15,
   "id": "4d5d8534-f078-42fa-95ec-65120939ee7c",
   "metadata": {},
   "outputs": [
    {
     "data": {
      "text/latex": [
       "$0.00672050879678132$"
      ],
      "text/plain": [
       "0.00672050879678132"
      ]
     },
     "execution_count": 15,
     "metadata": {},
     "output_type": "execute_result"
    }
   ],
   "source": [
    "integrate(i_Prob_without(x,b),0,1)-integrate(i_Prob_with(x,b),0,1)"
   ]
  }
 ],
 "metadata": {
  "kernelspec": {
   "display_name": "Julia 1.8.5",
   "language": "julia",
   "name": "julia-1.8"
  },
  "language_info": {
   "file_extension": ".jl",
   "mimetype": "application/julia",
   "name": "julia",
   "version": "1.8.5"
  }
 },
 "nbformat": 4,
 "nbformat_minor": 5
}
