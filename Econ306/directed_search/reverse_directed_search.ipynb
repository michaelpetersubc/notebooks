{
 "cells": [
  {
   "cell_type": "markdown",
   "id": "f1bf0e55-0b5a-45a2-b30f-efdc4696162c",
   "metadata": {},
   "source": [
    "## Trading Probability and Surplus\n",
    "\n",
    "The point of this notebook is to compute the average number of trades and the expected surplus in the reverse directed search model 2 tier case.  The question is what happens when the difference in quality  between the 2 tiers increases.  This is part of a bigger question about what happens when the accuracy of the mapinator classification improves.  Does this create enough friction (competition for the top tier candates) to make things worse off."
   ]
  },
  {
   "cell_type": "code",
   "execution_count": 1,
   "id": "dbf3805c-336e-4160-b090-f5c68f45ac74",
   "metadata": {},
   "outputs": [
    {
     "data": {
      "text/plain": [
       "(x, z, y, v_1, v_2, alpha_1, alpha_2)"
      ]
     },
     "execution_count": 1,
     "metadata": {},
     "output_type": "execute_result"
    }
   ],
   "source": [
    "using SymPy, Plots\n",
    "x,z,y, v_1, v_2, alpha_1, alpha_2 = symbols(\"x,z,y, v_1, v_2,  alpha_1, alpha_2\")"
   ]
  },
  {
   "cell_type": "markdown",
   "id": "5d7d90c0-c269-47bc-ae6a-d38f9d5857c5",
   "metadata": {},
   "source": [
    "There are two functions\n",
    "$$\n",
    "Q_1(x) = e^{-(\\frac{1-y}{\\alpha_1})}\n",
    "$$\n",
    "when $y>z$ and\n",
    "$$\n",
    "Q_1(x) = e^{-\\bar{\\pi}\\frac{z-y}{\\alpha_1}-\\frac{1-z}{\\alpha_1}}\n",
    "$$\n",
    "otherwise."
   ]
  },
  {
   "cell_type": "code",
   "execution_count": 2,
   "id": "a44a63f2-930f-432a-a9fa-10380178b945",
   "metadata": {},
   "outputs": [
    {
     "data": {
      "text/latex": [
       "$\\alpha_{1} \\log{\\left(\\frac{v_{2}}{v_{1}} \\right)} + 1$"
      ],
      "text/plain": [
       "      ⎛v₂⎞    \n",
       "α₁⋅log⎜──⎟ + 1\n",
       "      ⎝v₁⎠    "
      ]
     },
     "execution_count": 2,
     "metadata": {},
     "output_type": "execute_result"
    }
   ],
   "source": [
    "# find the cutoff\n",
    "\n",
    "z=1+alpha_1*log(v_2/v_1)"
   ]
  },
  {
   "cell_type": "code",
   "execution_count": 3,
   "id": "0ac1383b-6a95-407f-bd46-e26f7cac50c8",
   "metadata": {},
   "outputs": [
    {
     "data": {
      "text/latex": [
       "$\\frac{\\alpha_{1}}{\\alpha_{1} + \\alpha_{2}}$"
      ],
      "text/plain": [
       "   α₁  \n",
       "───────\n",
       "α₁ + α₂"
      ]
     },
     "execution_count": 3,
     "metadata": {},
     "output_type": "execute_result"
    }
   ],
   "source": [
    "\n",
    "pi = alpha_1/(alpha_1 + alpha_2)"
   ]
  },
  {
   "cell_type": "code",
   "execution_count": 4,
   "id": "63db09cc-07bd-4c4d-bc0d-a7e03c174c4c",
   "metadata": {},
   "outputs": [
    {
     "data": {
      "text/latex": [
       "$e^{- \\frac{\\max\\left(0, \\alpha_{1} \\log{\\left(\\frac{v_{2}}{v_{1}} \\right)} - x + 1\\right)}{\\alpha_{1} + \\alpha_{2}} - \\frac{1 - \\max\\left(x, \\alpha_{1} \\log{\\left(\\frac{v_{2}}{v_{1}} \\right)} + 1\\right)}{\\alpha_{1}}}$"
      ],
      "text/plain": [
       "   Max(0, alpha_1*log(v_2/v_1) - x + 1)   1 - Max(x, alpha_1*log(v_2/v_1) + 1)\n",
       " - ──────────────────────────────────── - ────────────────────────────────────\n",
       "                 α₁ + α₂                                   α₁                 \n",
       "ℯ                                                                             "
      ]
     },
     "execution_count": 4,
     "metadata": {},
     "output_type": "execute_result"
    }
   ],
   "source": [
    "Q_1 = exp(-max(z-x,0)*pi/alpha_1-(1-max(x,z))/alpha_1)"
   ]
  },
  {
   "cell_type": "code",
   "execution_count": 5,
   "id": "7c3c8266-dfd6-4eaa-9e0a-af06821f6ca4",
   "metadata": {},
   "outputs": [
    {
     "data": {
      "text/latex": [
       "$\\begin{cases} \\frac{\\alpha_{1}}{\\alpha_{1} + \\alpha_{2}} & \\text{for}\\: x \\leq \\alpha_{1} \\log{\\left(\\frac{v_{2}}{v_{1}} \\right)} + 1 \\\\1 & \\text{otherwise} \\end{cases}$"
      ],
      "text/plain": [
       "⎧   α₁                  ⎛v₂⎞    \n",
       "⎪───────  for x ≤ α₁⋅log⎜──⎟ + 1\n",
       "⎨α₁ + α₂                ⎝v₁⎠    \n",
       "⎪                               \n",
       "⎩   1           otherwise       "
      ]
     },
     "execution_count": 5,
     "metadata": {},
     "output_type": "execute_result"
    }
   ],
   "source": [
    "pbar = sympy.Piecewise((pi, Le(x,z)), (1, Gt(x,z)))"
   ]
  },
  {
   "cell_type": "code",
   "execution_count": 6,
   "id": "943c66d0-33c5-4f4b-b0da-956793dfce67",
   "metadata": {},
   "outputs": [
    {
     "data": {
      "text/latex": [
       "$e^{\\frac{\\left(- \\frac{\\alpha_{1}}{\\alpha_{1} + \\alpha_{2}} + 1\\right) \\left(- \\alpha_{1} \\log{\\left(\\frac{v_{2}}{v_{1}} \\right)} + x - 1\\right)}{\\alpha_{2}}}$"
      ],
      "text/plain": [
       " ⎛     α₁      ⎞ ⎛        ⎛v₂⎞        ⎞\n",
       " ⎜- ─────── + 1⎟⋅⎜- α₁⋅log⎜──⎟ + x - 1⎟\n",
       " ⎝  α₁ + α₂    ⎠ ⎝        ⎝v₁⎠        ⎠\n",
       " ──────────────────────────────────────\n",
       "                   α₂                  \n",
       "ℯ                                      "
      ]
     },
     "execution_count": 6,
     "metadata": {},
     "output_type": "execute_result"
    }
   ],
   "source": [
    "Q_2 = exp(-(z-x)*(1-pi)/alpha_2)"
   ]
  },
  {
   "cell_type": "code",
   "execution_count": 7,
   "id": "848d4fc6-a703-408e-b83c-12abbfdcb385",
   "metadata": {},
   "outputs": [
    {
     "data": {
      "text/latex": [
       "$\\left(1 - \\begin{cases} \\frac{\\alpha_{1}}{\\alpha_{1} + \\alpha_{2}} & \\text{for}\\: x \\leq \\alpha_{1} \\log{\\left(\\frac{v_{2}}{v_{1}} \\right)} + 1 \\\\1 & \\text{otherwise} \\end{cases}\\right) e^{\\frac{\\left(- \\frac{\\alpha_{1}}{\\alpha_{1} + \\alpha_{2}} + 1\\right) \\left(- \\alpha_{1} \\log{\\left(\\frac{v_{2}}{v_{1}} \\right)} + x - 1\\right)}{\\alpha_{2}}}$"
      ],
      "text/plain": [
       "                                          ⎛     α₁      ⎞ ⎛        ⎛v₂⎞       \n",
       "                                          ⎜- ─────── + 1⎟⋅⎜- α₁⋅log⎜──⎟ + x - \n",
       "                                          ⎝  α₁ + α₂    ⎠ ⎝        ⎝v₁⎠       \n",
       "⎛    ⎛⎧   α₁                  ⎛v₂⎞    ⎞⎞  ────────────────────────────────────\n",
       "⎜    ⎜⎪───────  for x ≤ α₁⋅log⎜──⎟ + 1⎟⎟                    α₂                \n",
       "⎜1 - ⎜⎨α₁ + α₂                ⎝v₁⎠    ⎟⎟⋅ℯ                                    \n",
       "⎜    ⎜⎪                               ⎟⎟                                      \n",
       "⎝    ⎝⎩   1           otherwise       ⎠⎠                                      \n",
       "\n",
       " ⎞\n",
       "1⎟\n",
       " ⎠\n",
       "──\n",
       "  \n",
       "  \n",
       "  \n",
       "  "
      ]
     },
     "execution_count": 7,
     "metadata": {},
     "output_type": "execute_result"
    }
   ],
   "source": [
    "Prob1 = pbar*Q_1\n",
    "Prob2 = (1-pbar)*Q_2"
   ]
  },
  {
   "cell_type": "code",
   "execution_count": 8,
   "id": "3f265712-b200-4018-8002-0c3da6fe80ec",
   "metadata": {},
   "outputs": [
    {
     "data": {
      "text/latex": [
       "$v_{1} e^{- \\frac{\\max\\left(0, \\alpha_{1} \\log{\\left(\\frac{v_{2}}{v_{1}} \\right)} - x + 1\\right)}{\\alpha_{1} + \\alpha_{2}} - \\frac{1 - \\max\\left(x, \\alpha_{1} \\log{\\left(\\frac{v_{2}}{v_{1}} \\right)} + 1\\right)}{\\alpha_{1}}}$"
      ],
      "text/plain": [
       "      Max(0, alpha_1*log(v_2/v_1) - x + 1)   1 - Max(x, alpha_1*log(v_2/v_1) +\n",
       "    - ──────────────────────────────────── - ─────────────────────────────────\n",
       "                    α₁ + α₂                                   α₁              \n",
       "v₁⋅ℯ                                                                          \n",
       "\n",
       " 1)\n",
       "───\n",
       "   \n",
       "   "
      ]
     },
     "execution_count": 8,
     "metadata": {},
     "output_type": "execute_result"
    }
   ],
   "source": [
    "Prob=pbar*Q_1+(1-pbar)*Q_2\n",
    "#surplus=pbar*v_1*Q_1+(1-pbar)*v_2*Q_2\n",
    "surplus=v_1*Q_1"
   ]
  },
  {
   "cell_type": "code",
   "execution_count": 9,
   "id": "eec6585b-0d61-496a-a6f1-4562c45396b3",
   "metadata": {},
   "outputs": [
    {
     "data": {
      "text/plain": [
       "i_Prob_without (generic function with 1 method)"
      ]
     },
     "execution_count": 9,
     "metadata": {},
     "output_type": "execute_result"
    }
   ],
   "source": [
    "# calculate the weighted average of values of the two tiers\n",
    "function surplus_test(a)\n",
    "    vbar = a[3]*(a[1]/(a[1]+a[2]))+a[4]*(a[2]/(a[1]+a[2]))\n",
    "    return vbar\n",
    "end\n",
    "## calculate trading probabilities Q_1 and Q_2 with no ai then ai\n",
    "function p_lot(x,b)\n",
    "    vbar = surplus_test(b)\n",
    "    #use average quality for all grads, then break the tiers down using\n",
    "    plot(Prob1(alpha_1 => b[1],alpha_2=>b[2],v_1=>vbar,v_2=>vbar),0,1)\n",
    "    plot!(Prob1(alpha_1 => b[1],alpha_2=>b[2],v_1=>b[3],v_2=>b[4]),0,1)\n",
    "    plot!(Prob2(alpha_1 => b[1],alpha_2=>b[2],v_1=>vbar,v_2=> vbar),0,1)\n",
    "    plot!(Prob2(alpha_1 => b[1],alpha_2=>b[2],v_1=>b[3],v_2=>b[4]),0,1)\n",
    "end\n",
    "function p_e(x,a)\n",
    "    # for testing\n",
    "    plot(Prob1(alpha_1 => a[1],alpha_2=>a[2],v_1=>a[3],v_2=>a[4]),.9,1)\n",
    "end\n",
    "# calculate Q_1 with different parameters for comparison\n",
    "function Q_lot(x,a,b)\n",
    "    plot(Q_1(alpha_1 => a[1],alpha_2=>a[2],v_1=>a[3],v_2=>a[4]),0,1)\n",
    "    plot!(Q_1(alpha_1 => b[1],alpha_2=>b[2],v_1=>b[3],v_2=>b[4]),0,1)\n",
    "end\n",
    "# calculate overall trading probability first without then with ai\n",
    "# values in b are averaged to get the without part\n",
    "function q_lot(x,b)\n",
    "    vbar = surplus_test(b)\n",
    "    plot(Prob(alpha_1 => b[1],alpha_2=>b[2],v_1=>vbar,v_2=>vbar),0,1)\n",
    "    plot!(Prob(alpha_1 => b[1],alpha_2=>b[2],v_1=>b[3],v_2=>b[4]),0,1)\n",
    "end\n",
    "# calculate overall surplus with parameters\n",
    "function s_lot(x,b)\n",
    "    vbar = surplus_test(b)\n",
    "    plot(surplus(alpha_1=>b[1],alpha_2=>b[2],v_1=>vbar,v_2=>vbar),0,1)\n",
    "    plot!(surplus(alpha_1 => b[1],alpha_2=>b[2],v_1=>b[3],v_2=>b[4]),0,1)\n",
    "end\n",
    "function i_surplus_with(x,a)\n",
    "    return surplus(alpha_1 => a[1],alpha_2=>a[2],v_1=>a[3],v_2=>a[4])\n",
    "end\n",
    "function i_surplus_without(x,a)\n",
    "    vbar = surplus_test(a)\n",
    "    return surplus(alpha_1 => a[1],alpha_2=>a[2],v_1=>vbar,v_2=>vbar)\n",
    "end\n",
    "function i_Prob_with(x,a)\n",
    "    return Prob(alpha_1 => a[1],alpha_2=>a[2],v_1=>a[3],v_2=>a[4])\n",
    "end\n",
    "function i_Prob_without(x,a)\n",
    "    vbar = surplus_test(a)\n",
    "    return Prob(alpha_1 => a[1],alpha_2=>a[2],v_1=>vbar,v_2=>vbar)\n",
    "end\n"
   ]
  },
  {
   "cell_type": "code",
   "execution_count": 31,
   "id": "9f88c09b-76c5-47f2-b822-7b44b374631e",
   "metadata": {},
   "outputs": [
    {
     "data": {
      "text/plain": [
       "0.625"
      ]
     },
     "execution_count": 31,
     "metadata": {},
     "output_type": "execute_result"
    }
   ],
   "source": [
    "#m_1 => 7,m_2=>7,v_1=>.65,v_2=>.65,n=>14\n",
    "a = [8/7,12/20,.6,.5];\n",
    "b = [30/40,50/40,1,.4];\n",
    "surplus_test(b)"
   ]
  },
  {
   "cell_type": "code",
   "execution_count": 11,
   "id": "e695d43a-e0d7-4361-8b03-71e04ab2a60b",
   "metadata": {},
   "outputs": [],
   "source": [
    "# probability Q_1 first a has a low v_1 b has high v_1 \n",
    "#Q_lot(x,a,b)"
   ]
  },
  {
   "cell_type": "code",
   "execution_count": 32,
   "id": "4bfefe9c-3880-4efa-9030-469bcca98b8b",
   "metadata": {},
   "outputs": [
    {
     "data": {
      "image/svg+xml": [
       "<?xml version=\"1.0\" encoding=\"utf-8\"?>\n",
       "<svg xmlns=\"http://www.w3.org/2000/svg\" xmlns:xlink=\"http://www.w3.org/1999/xlink\" width=\"600\" height=\"400\" viewBox=\"0 0 2400 1600\">\n",
       "<defs>\n",
       "  <clipPath id=\"clip010\">\n",
       "    <rect x=\"0\" y=\"0\" width=\"2400\" height=\"1600\"/>\n",
       "  </clipPath>\n",
       "</defs>\n",
       "<path clip-path=\"url(#clip010)\" d=\"M0 1600 L2400 1600 L2400 0 L0 0  Z\" fill=\"#ffffff\" fill-rule=\"evenodd\" fill-opacity=\"1\"/>\n",
       "<defs>\n",
       "  <clipPath id=\"clip011\">\n",
       "    <rect x=\"480\" y=\"0\" width=\"1681\" height=\"1600\"/>\n",
       "  </clipPath>\n",
       "</defs>\n",
       "<path clip-path=\"url(#clip010)\" d=\"M156.598 1486.45 L2352.76 1486.45 L2352.76 47.2441 L156.598 47.2441  Z\" fill=\"#ffffff\" fill-rule=\"evenodd\" fill-opacity=\"1\"/>\n",
       "<defs>\n",
       "  <clipPath id=\"clip012\">\n",
       "    <rect x=\"156\" y=\"47\" width=\"2197\" height=\"1440\"/>\n",
       "  </clipPath>\n",
       "</defs>\n",
       "<polyline clip-path=\"url(#clip012)\" style=\"stroke:#000000; stroke-linecap:round; stroke-linejoin:round; stroke-width:2; stroke-opacity:0.1; fill:none\" points=\"218.754,1486.45 218.754,47.2441 \"/>\n",
       "<polyline clip-path=\"url(#clip012)\" style=\"stroke:#000000; stroke-linecap:round; stroke-linejoin:round; stroke-width:2; stroke-opacity:0.1; fill:none\" points=\"736.715,1486.45 736.715,47.2441 \"/>\n",
       "<polyline clip-path=\"url(#clip012)\" style=\"stroke:#000000; stroke-linecap:round; stroke-linejoin:round; stroke-width:2; stroke-opacity:0.1; fill:none\" points=\"1254.68,1486.45 1254.68,47.2441 \"/>\n",
       "<polyline clip-path=\"url(#clip012)\" style=\"stroke:#000000; stroke-linecap:round; stroke-linejoin:round; stroke-width:2; stroke-opacity:0.1; fill:none\" points=\"1772.64,1486.45 1772.64,47.2441 \"/>\n",
       "<polyline clip-path=\"url(#clip012)\" style=\"stroke:#000000; stroke-linecap:round; stroke-linejoin:round; stroke-width:2; stroke-opacity:0.1; fill:none\" points=\"2290.6,1486.45 2290.6,47.2441 \"/>\n",
       "<polyline clip-path=\"url(#clip010)\" style=\"stroke:#000000; stroke-linecap:round; stroke-linejoin:round; stroke-width:4; stroke-opacity:1; fill:none\" points=\"156.598,1486.45 2352.76,1486.45 \"/>\n",
       "<polyline clip-path=\"url(#clip010)\" style=\"stroke:#000000; stroke-linecap:round; stroke-linejoin:round; stroke-width:4; stroke-opacity:1; fill:none\" points=\"218.754,1486.45 218.754,1467.55 \"/>\n",
       "<polyline clip-path=\"url(#clip010)\" style=\"stroke:#000000; stroke-linecap:round; stroke-linejoin:round; stroke-width:4; stroke-opacity:1; fill:none\" points=\"736.715,1486.45 736.715,1467.55 \"/>\n",
       "<polyline clip-path=\"url(#clip010)\" style=\"stroke:#000000; stroke-linecap:round; stroke-linejoin:round; stroke-width:4; stroke-opacity:1; fill:none\" points=\"1254.68,1486.45 1254.68,1467.55 \"/>\n",
       "<polyline clip-path=\"url(#clip010)\" style=\"stroke:#000000; stroke-linecap:round; stroke-linejoin:round; stroke-width:4; stroke-opacity:1; fill:none\" points=\"1772.64,1486.45 1772.64,1467.55 \"/>\n",
       "<polyline clip-path=\"url(#clip010)\" style=\"stroke:#000000; stroke-linecap:round; stroke-linejoin:round; stroke-width:4; stroke-opacity:1; fill:none\" points=\"2290.6,1486.45 2290.6,1467.55 \"/>\n",
       "<path clip-path=\"url(#clip010)\" d=\"M181.057 1517.37 Q177.446 1517.37 175.617 1520.93 Q173.812 1524.47 173.812 1531.6 Q173.812 1538.71 175.617 1542.27 Q177.446 1545.82 181.057 1545.82 Q184.691 1545.82 186.497 1542.27 Q188.326 1538.71 188.326 1531.6 Q188.326 1524.47 186.497 1520.93 Q184.691 1517.37 181.057 1517.37 M181.057 1513.66 Q186.867 1513.66 189.923 1518.27 Q193.001 1522.85 193.001 1531.6 Q193.001 1540.33 189.923 1544.94 Q186.867 1549.52 181.057 1549.52 Q175.247 1549.52 172.168 1544.94 Q169.113 1540.33 169.113 1531.6 Q169.113 1522.85 172.168 1518.27 Q175.247 1513.66 181.057 1513.66 Z\" fill=\"#000000\" fill-rule=\"nonzero\" fill-opacity=\"1\" /><path clip-path=\"url(#clip010)\" d=\"M201.219 1542.97 L206.103 1542.97 L206.103 1548.85 L201.219 1548.85 L201.219 1542.97 Z\" fill=\"#000000\" fill-rule=\"nonzero\" fill-opacity=\"1\" /><path clip-path=\"url(#clip010)\" d=\"M226.288 1517.37 Q222.677 1517.37 220.849 1520.93 Q219.043 1524.47 219.043 1531.6 Q219.043 1538.71 220.849 1542.27 Q222.677 1545.82 226.288 1545.82 Q229.923 1545.82 231.728 1542.27 Q233.557 1538.71 233.557 1531.6 Q233.557 1524.47 231.728 1520.93 Q229.923 1517.37 226.288 1517.37 M226.288 1513.66 Q232.098 1513.66 235.154 1518.27 Q238.233 1522.85 238.233 1531.6 Q238.233 1540.33 235.154 1544.94 Q232.098 1549.52 226.288 1549.52 Q220.478 1549.52 217.399 1544.94 Q214.344 1540.33 214.344 1531.6 Q214.344 1522.85 217.399 1518.27 Q220.478 1513.66 226.288 1513.66 Z\" fill=\"#000000\" fill-rule=\"nonzero\" fill-opacity=\"1\" /><path clip-path=\"url(#clip010)\" d=\"M256.45 1517.37 Q252.839 1517.37 251.01 1520.93 Q249.205 1524.47 249.205 1531.6 Q249.205 1538.71 251.01 1542.27 Q252.839 1545.82 256.45 1545.82 Q260.084 1545.82 261.89 1542.27 Q263.719 1538.71 263.719 1531.6 Q263.719 1524.47 261.89 1520.93 Q260.084 1517.37 256.45 1517.37 M256.45 1513.66 Q262.26 1513.66 265.316 1518.27 Q268.395 1522.85 268.395 1531.6 Q268.395 1540.33 265.316 1544.94 Q262.26 1549.52 256.45 1549.52 Q250.64 1549.52 247.561 1544.94 Q244.506 1540.33 244.506 1531.6 Q244.506 1522.85 247.561 1518.27 Q250.64 1513.66 256.45 1513.66 Z\" fill=\"#000000\" fill-rule=\"nonzero\" fill-opacity=\"1\" /><path clip-path=\"url(#clip010)\" d=\"M699.516 1517.37 Q695.905 1517.37 694.077 1520.93 Q692.271 1524.47 692.271 1531.6 Q692.271 1538.71 694.077 1542.27 Q695.905 1545.82 699.516 1545.82 Q703.151 1545.82 704.956 1542.27 Q706.785 1538.71 706.785 1531.6 Q706.785 1524.47 704.956 1520.93 Q703.151 1517.37 699.516 1517.37 M699.516 1513.66 Q705.327 1513.66 708.382 1518.27 Q711.461 1522.85 711.461 1531.6 Q711.461 1540.33 708.382 1544.94 Q705.327 1549.52 699.516 1549.52 Q693.706 1549.52 690.628 1544.94 Q687.572 1540.33 687.572 1531.6 Q687.572 1522.85 690.628 1518.27 Q693.706 1513.66 699.516 1513.66 Z\" fill=\"#000000\" fill-rule=\"nonzero\" fill-opacity=\"1\" /><path clip-path=\"url(#clip010)\" d=\"M719.678 1542.97 L724.563 1542.97 L724.563 1548.85 L719.678 1548.85 L719.678 1542.97 Z\" fill=\"#000000\" fill-rule=\"nonzero\" fill-opacity=\"1\" /><path clip-path=\"url(#clip010)\" d=\"M738.776 1544.91 L755.095 1544.91 L755.095 1548.85 L733.151 1548.85 L733.151 1544.91 Q735.813 1542.16 740.396 1537.53 Q745.002 1532.88 746.183 1531.53 Q748.428 1529.01 749.308 1527.27 Q750.211 1525.51 750.211 1523.82 Q750.211 1521.07 748.266 1519.33 Q746.345 1517.6 743.243 1517.6 Q741.044 1517.6 738.59 1518.36 Q736.16 1519.13 733.382 1520.68 L733.382 1515.95 Q736.206 1514.82 738.66 1514.24 Q741.113 1513.66 743.151 1513.66 Q748.521 1513.66 751.715 1516.35 Q754.91 1519.03 754.91 1523.52 Q754.91 1525.65 754.1 1527.57 Q753.312 1529.47 751.206 1532.07 Q750.627 1532.74 747.525 1535.95 Q744.424 1539.15 738.776 1544.91 Z\" fill=\"#000000\" fill-rule=\"nonzero\" fill-opacity=\"1\" /><path clip-path=\"url(#clip010)\" d=\"M764.956 1514.29 L783.312 1514.29 L783.312 1518.22 L769.238 1518.22 L769.238 1526.7 Q770.257 1526.35 771.275 1526.19 Q772.294 1526 773.312 1526 Q779.099 1526 782.479 1529.17 Q785.859 1532.34 785.859 1537.76 Q785.859 1543.34 782.386 1546.44 Q778.914 1549.52 772.595 1549.52 Q770.419 1549.52 768.15 1549.15 Q765.905 1548.78 763.498 1548.04 L763.498 1543.34 Q765.581 1544.47 767.803 1545.03 Q770.025 1545.58 772.502 1545.58 Q776.507 1545.58 778.845 1543.48 Q781.183 1541.37 781.183 1537.76 Q781.183 1534.15 778.845 1532.04 Q776.507 1529.94 772.502 1529.94 Q770.627 1529.94 768.752 1530.35 Q766.9 1530.77 764.956 1531.65 L764.956 1514.29 Z\" fill=\"#000000\" fill-rule=\"nonzero\" fill-opacity=\"1\" /><path clip-path=\"url(#clip010)\" d=\"M1216.98 1517.37 Q1213.37 1517.37 1211.54 1520.93 Q1209.74 1524.47 1209.74 1531.6 Q1209.74 1538.71 1211.54 1542.27 Q1213.37 1545.82 1216.98 1545.82 Q1220.61 1545.82 1222.42 1542.27 Q1224.25 1538.71 1224.25 1531.6 Q1224.25 1524.47 1222.42 1520.93 Q1220.61 1517.37 1216.98 1517.37 M1216.98 1513.66 Q1222.79 1513.66 1225.85 1518.27 Q1228.92 1522.85 1228.92 1531.6 Q1228.92 1540.33 1225.85 1544.94 Q1222.79 1549.52 1216.98 1549.52 Q1211.17 1549.52 1208.09 1544.94 Q1205.04 1540.33 1205.04 1531.6 Q1205.04 1522.85 1208.09 1518.27 Q1211.17 1513.66 1216.98 1513.66 Z\" fill=\"#000000\" fill-rule=\"nonzero\" fill-opacity=\"1\" /><path clip-path=\"url(#clip010)\" d=\"M1237.14 1542.97 L1242.03 1542.97 L1242.03 1548.85 L1237.14 1548.85 L1237.14 1542.97 Z\" fill=\"#000000\" fill-rule=\"nonzero\" fill-opacity=\"1\" /><path clip-path=\"url(#clip010)\" d=\"M1252.26 1514.29 L1270.61 1514.29 L1270.61 1518.22 L1256.54 1518.22 L1256.54 1526.7 Q1257.56 1526.35 1258.58 1526.19 Q1259.6 1526 1260.61 1526 Q1266.4 1526 1269.78 1529.17 Q1273.16 1532.34 1273.16 1537.76 Q1273.16 1543.34 1269.69 1546.44 Q1266.22 1549.52 1259.9 1549.52 Q1257.72 1549.52 1255.45 1549.15 Q1253.21 1548.78 1250.8 1548.04 L1250.8 1543.34 Q1252.88 1544.47 1255.11 1545.03 Q1257.33 1545.58 1259.8 1545.58 Q1263.81 1545.58 1266.15 1543.48 Q1268.48 1541.37 1268.48 1537.76 Q1268.48 1534.15 1266.15 1532.04 Q1263.81 1529.94 1259.8 1529.94 Q1257.93 1529.94 1256.05 1530.35 Q1254.2 1530.77 1252.26 1531.65 L1252.26 1514.29 Z\" fill=\"#000000\" fill-rule=\"nonzero\" fill-opacity=\"1\" /><path clip-path=\"url(#clip010)\" d=\"M1292.37 1517.37 Q1288.76 1517.37 1286.93 1520.93 Q1285.13 1524.47 1285.13 1531.6 Q1285.13 1538.71 1286.93 1542.27 Q1288.76 1545.82 1292.37 1545.82 Q1296.01 1545.82 1297.81 1542.27 Q1299.64 1538.71 1299.64 1531.6 Q1299.64 1524.47 1297.81 1520.93 Q1296.01 1517.37 1292.37 1517.37 M1292.37 1513.66 Q1298.18 1513.66 1301.24 1518.27 Q1304.32 1522.85 1304.32 1531.6 Q1304.32 1540.33 1301.24 1544.94 Q1298.18 1549.52 1292.37 1549.52 Q1286.56 1549.52 1283.48 1544.94 Q1280.43 1540.33 1280.43 1531.6 Q1280.43 1522.85 1283.48 1518.27 Q1286.56 1513.66 1292.37 1513.66 Z\" fill=\"#000000\" fill-rule=\"nonzero\" fill-opacity=\"1\" /><path clip-path=\"url(#clip010)\" d=\"M1735.44 1517.37 Q1731.83 1517.37 1730 1520.93 Q1728.19 1524.47 1728.19 1531.6 Q1728.19 1538.71 1730 1542.27 Q1731.83 1545.82 1735.44 1545.82 Q1739.07 1545.82 1740.88 1542.27 Q1742.71 1538.71 1742.71 1531.6 Q1742.71 1524.47 1740.88 1520.93 Q1739.07 1517.37 1735.44 1517.37 M1735.44 1513.66 Q1741.25 1513.66 1744.31 1518.27 Q1747.38 1522.85 1747.38 1531.6 Q1747.38 1540.33 1744.31 1544.94 Q1741.25 1549.52 1735.44 1549.52 Q1729.63 1549.52 1726.55 1544.94 Q1723.5 1540.33 1723.5 1531.6 Q1723.5 1522.85 1726.55 1518.27 Q1729.63 1513.66 1735.44 1513.66 Z\" fill=\"#000000\" fill-rule=\"nonzero\" fill-opacity=\"1\" /><path clip-path=\"url(#clip010)\" d=\"M1755.6 1542.97 L1760.49 1542.97 L1760.49 1548.85 L1755.6 1548.85 L1755.6 1542.97 Z\" fill=\"#000000\" fill-rule=\"nonzero\" fill-opacity=\"1\" /><path clip-path=\"url(#clip010)\" d=\"M1769.49 1514.29 L1791.71 1514.29 L1791.71 1516.28 L1779.17 1548.85 L1774.28 1548.85 L1786.09 1518.22 L1769.49 1518.22 L1769.49 1514.29 Z\" fill=\"#000000\" fill-rule=\"nonzero\" fill-opacity=\"1\" /><path clip-path=\"url(#clip010)\" d=\"M1800.88 1514.29 L1819.24 1514.29 L1819.24 1518.22 L1805.16 1518.22 L1805.16 1526.7 Q1806.18 1526.35 1807.2 1526.19 Q1808.22 1526 1809.24 1526 Q1815.02 1526 1818.4 1529.17 Q1821.78 1532.34 1821.78 1537.76 Q1821.78 1543.34 1818.31 1546.44 Q1814.84 1549.52 1808.52 1549.52 Q1806.34 1549.52 1804.07 1549.15 Q1801.83 1548.78 1799.42 1548.04 L1799.42 1543.34 Q1801.5 1544.47 1803.73 1545.03 Q1805.95 1545.58 1808.43 1545.58 Q1812.43 1545.58 1814.77 1543.48 Q1817.11 1541.37 1817.11 1537.76 Q1817.11 1534.15 1814.77 1532.04 Q1812.43 1529.94 1808.43 1529.94 Q1806.55 1529.94 1804.68 1530.35 Q1802.82 1530.77 1800.88 1531.65 L1800.88 1514.29 Z\" fill=\"#000000\" fill-rule=\"nonzero\" fill-opacity=\"1\" /><path clip-path=\"url(#clip010)\" d=\"M2242.67 1544.91 L2250.31 1544.91 L2250.31 1518.55 L2242 1520.21 L2242 1515.95 L2250.27 1514.29 L2254.94 1514.29 L2254.94 1544.91 L2262.58 1544.91 L2262.58 1548.85 L2242.67 1548.85 L2242.67 1544.91 Z\" fill=\"#000000\" fill-rule=\"nonzero\" fill-opacity=\"1\" /><path clip-path=\"url(#clip010)\" d=\"M2272.02 1542.97 L2276.91 1542.97 L2276.91 1548.85 L2272.02 1548.85 L2272.02 1542.97 Z\" fill=\"#000000\" fill-rule=\"nonzero\" fill-opacity=\"1\" /><path clip-path=\"url(#clip010)\" d=\"M2297.09 1517.37 Q2293.48 1517.37 2291.65 1520.93 Q2289.85 1524.47 2289.85 1531.6 Q2289.85 1538.71 2291.65 1542.27 Q2293.48 1545.82 2297.09 1545.82 Q2300.73 1545.82 2302.53 1542.27 Q2304.36 1538.71 2304.36 1531.6 Q2304.36 1524.47 2302.53 1520.93 Q2300.73 1517.37 2297.09 1517.37 M2297.09 1513.66 Q2302.9 1513.66 2305.96 1518.27 Q2309.04 1522.85 2309.04 1531.6 Q2309.04 1540.33 2305.96 1544.94 Q2302.9 1549.52 2297.09 1549.52 Q2291.28 1549.52 2288.2 1544.94 Q2285.15 1540.33 2285.15 1531.6 Q2285.15 1522.85 2288.2 1518.27 Q2291.28 1513.66 2297.09 1513.66 Z\" fill=\"#000000\" fill-rule=\"nonzero\" fill-opacity=\"1\" /><path clip-path=\"url(#clip010)\" d=\"M2327.26 1517.37 Q2323.64 1517.37 2321.82 1520.93 Q2320.01 1524.47 2320.01 1531.6 Q2320.01 1538.71 2321.82 1542.27 Q2323.64 1545.82 2327.26 1545.82 Q2330.89 1545.82 2332.7 1542.27 Q2334.52 1538.71 2334.52 1531.6 Q2334.52 1524.47 2332.7 1520.93 Q2330.89 1517.37 2327.26 1517.37 M2327.26 1513.66 Q2333.07 1513.66 2336.12 1518.27 Q2339.2 1522.85 2339.2 1531.6 Q2339.2 1540.33 2336.12 1544.94 Q2333.07 1549.52 2327.26 1549.52 Q2321.45 1549.52 2318.37 1544.94 Q2315.31 1540.33 2315.31 1531.6 Q2315.31 1522.85 2318.37 1518.27 Q2321.45 1513.66 2327.26 1513.66 Z\" fill=\"#000000\" fill-rule=\"nonzero\" fill-opacity=\"1\" /><polyline clip-path=\"url(#clip012)\" style=\"stroke:#000000; stroke-linecap:round; stroke-linejoin:round; stroke-width:2; stroke-opacity:0.1; fill:none\" points=\"156.598,1445.89 2352.76,1445.89 \"/>\n",
       "<polyline clip-path=\"url(#clip012)\" style=\"stroke:#000000; stroke-linecap:round; stroke-linejoin:round; stroke-width:2; stroke-opacity:0.1; fill:none\" points=\"156.598,1219.57 2352.76,1219.57 \"/>\n",
       "<polyline clip-path=\"url(#clip012)\" style=\"stroke:#000000; stroke-linecap:round; stroke-linejoin:round; stroke-width:2; stroke-opacity:0.1; fill:none\" points=\"156.598,993.251 2352.76,993.251 \"/>\n",
       "<polyline clip-path=\"url(#clip012)\" style=\"stroke:#000000; stroke-linecap:round; stroke-linejoin:round; stroke-width:2; stroke-opacity:0.1; fill:none\" points=\"156.598,766.932 2352.76,766.932 \"/>\n",
       "<polyline clip-path=\"url(#clip012)\" style=\"stroke:#000000; stroke-linecap:round; stroke-linejoin:round; stroke-width:2; stroke-opacity:0.1; fill:none\" points=\"156.598,540.613 2352.76,540.613 \"/>\n",
       "<polyline clip-path=\"url(#clip012)\" style=\"stroke:#000000; stroke-linecap:round; stroke-linejoin:round; stroke-width:2; stroke-opacity:0.1; fill:none\" points=\"156.598,314.295 2352.76,314.295 \"/>\n",
       "<polyline clip-path=\"url(#clip012)\" style=\"stroke:#000000; stroke-linecap:round; stroke-linejoin:round; stroke-width:2; stroke-opacity:0.1; fill:none\" points=\"156.598,87.9763 2352.76,87.9763 \"/>\n",
       "<polyline clip-path=\"url(#clip010)\" style=\"stroke:#000000; stroke-linecap:round; stroke-linejoin:round; stroke-width:4; stroke-opacity:1; fill:none\" points=\"156.598,1486.45 156.598,47.2441 \"/>\n",
       "<polyline clip-path=\"url(#clip010)\" style=\"stroke:#000000; stroke-linecap:round; stroke-linejoin:round; stroke-width:4; stroke-opacity:1; fill:none\" points=\"156.598,1445.89 175.496,1445.89 \"/>\n",
       "<polyline clip-path=\"url(#clip010)\" style=\"stroke:#000000; stroke-linecap:round; stroke-linejoin:round; stroke-width:4; stroke-opacity:1; fill:none\" points=\"156.598,1219.57 175.496,1219.57 \"/>\n",
       "<polyline clip-path=\"url(#clip010)\" style=\"stroke:#000000; stroke-linecap:round; stroke-linejoin:round; stroke-width:4; stroke-opacity:1; fill:none\" points=\"156.598,993.251 175.496,993.251 \"/>\n",
       "<polyline clip-path=\"url(#clip010)\" style=\"stroke:#000000; stroke-linecap:round; stroke-linejoin:round; stroke-width:4; stroke-opacity:1; fill:none\" points=\"156.598,766.932 175.496,766.932 \"/>\n",
       "<polyline clip-path=\"url(#clip010)\" style=\"stroke:#000000; stroke-linecap:round; stroke-linejoin:round; stroke-width:4; stroke-opacity:1; fill:none\" points=\"156.598,540.613 175.496,540.613 \"/>\n",
       "<polyline clip-path=\"url(#clip010)\" style=\"stroke:#000000; stroke-linecap:round; stroke-linejoin:round; stroke-width:4; stroke-opacity:1; fill:none\" points=\"156.598,314.295 175.496,314.295 \"/>\n",
       "<polyline clip-path=\"url(#clip010)\" style=\"stroke:#000000; stroke-linecap:round; stroke-linejoin:round; stroke-width:4; stroke-opacity:1; fill:none\" points=\"156.598,87.9763 175.496,87.9763 \"/>\n",
       "<path clip-path=\"url(#clip010)\" d=\"M62.9365 1431.69 Q59.3254 1431.69 57.4967 1435.25 Q55.6912 1438.79 55.6912 1445.92 Q55.6912 1453.03 57.4967 1456.59 Q59.3254 1460.14 62.9365 1460.14 Q66.5707 1460.14 68.3763 1456.59 Q70.205 1453.03 70.205 1445.92 Q70.205 1438.79 68.3763 1435.25 Q66.5707 1431.69 62.9365 1431.69 M62.9365 1427.98 Q68.7467 1427.98 71.8022 1432.59 Q74.8809 1437.17 74.8809 1445.92 Q74.8809 1454.65 71.8022 1459.26 Q68.7467 1463.84 62.9365 1463.84 Q57.1264 1463.84 54.0477 1459.26 Q50.9921 1454.65 50.9921 1445.92 Q50.9921 1437.17 54.0477 1432.59 Q57.1264 1427.98 62.9365 1427.98 Z\" fill=\"#000000\" fill-rule=\"nonzero\" fill-opacity=\"1\" /><path clip-path=\"url(#clip010)\" d=\"M83.0984 1457.29 L87.9827 1457.29 L87.9827 1463.17 L83.0984 1463.17 L83.0984 1457.29 Z\" fill=\"#000000\" fill-rule=\"nonzero\" fill-opacity=\"1\" /><path clip-path=\"url(#clip010)\" d=\"M111.015 1432.68 L99.2095 1451.13 L111.015 1451.13 L111.015 1432.68 M109.788 1428.61 L115.668 1428.61 L115.668 1451.13 L120.598 1451.13 L120.598 1455.02 L115.668 1455.02 L115.668 1463.17 L111.015 1463.17 L111.015 1455.02 L95.4132 1455.02 L95.4132 1450.51 L109.788 1428.61 Z\" fill=\"#000000\" fill-rule=\"nonzero\" fill-opacity=\"1\" /><path clip-path=\"url(#clip010)\" d=\"M64.418 1205.37 Q60.8069 1205.37 58.9782 1208.93 Q57.1726 1212.47 57.1726 1219.6 Q57.1726 1226.71 58.9782 1230.28 Q60.8069 1233.82 64.418 1233.82 Q68.0522 1233.82 69.8578 1230.28 Q71.6865 1226.71 71.6865 1219.6 Q71.6865 1212.47 69.8578 1208.93 Q68.0522 1205.37 64.418 1205.37 M64.418 1201.66 Q70.2281 1201.66 73.2837 1206.27 Q76.3624 1210.85 76.3624 1219.6 Q76.3624 1228.33 73.2837 1232.94 Q70.2281 1237.52 64.418 1237.52 Q58.6078 1237.52 55.5291 1232.94 Q52.4736 1228.33 52.4736 1219.6 Q52.4736 1210.85 55.5291 1206.27 Q58.6078 1201.66 64.418 1201.66 Z\" fill=\"#000000\" fill-rule=\"nonzero\" fill-opacity=\"1\" /><path clip-path=\"url(#clip010)\" d=\"M84.5799 1230.97 L89.4641 1230.97 L89.4641 1236.85 L84.5799 1236.85 L84.5799 1230.97 Z\" fill=\"#000000\" fill-rule=\"nonzero\" fill-opacity=\"1\" /><path clip-path=\"url(#clip010)\" d=\"M99.6956 1202.29 L118.052 1202.29 L118.052 1206.22 L103.978 1206.22 L103.978 1214.7 Q104.996 1214.35 106.015 1214.19 Q107.033 1214 108.052 1214 Q113.839 1214 117.219 1217.17 Q120.598 1220.34 120.598 1225.76 Q120.598 1231.34 117.126 1234.44 Q113.654 1237.52 107.334 1237.52 Q105.159 1237.52 102.89 1237.15 Q100.645 1236.78 98.2372 1236.04 L98.2372 1231.34 Q100.321 1232.47 102.543 1233.03 Q104.765 1233.59 107.242 1233.59 Q111.246 1233.59 113.584 1231.48 Q115.922 1229.37 115.922 1225.76 Q115.922 1222.15 113.584 1220.04 Q111.246 1217.94 107.242 1217.94 Q105.367 1217.94 103.492 1218.35 Q101.64 1218.77 99.6956 1219.65 L99.6956 1202.29 Z\" fill=\"#000000\" fill-rule=\"nonzero\" fill-opacity=\"1\" /><path clip-path=\"url(#clip010)\" d=\"M63.2606 979.049 Q59.6495 979.049 57.8208 982.614 Q56.0152 986.156 56.0152 993.285 Q56.0152 1000.39 57.8208 1003.96 Q59.6495 1007.5 63.2606 1007.5 Q66.8948 1007.5 68.7004 1003.96 Q70.5291 1000.39 70.5291 993.285 Q70.5291 986.156 68.7004 982.614 Q66.8948 979.049 63.2606 979.049 M63.2606 975.346 Q69.0707 975.346 72.1263 979.952 Q75.205 984.535 75.205 993.285 Q75.205 1002.01 72.1263 1006.62 Q69.0707 1011.2 63.2606 1011.2 Q57.4504 1011.2 54.3717 1006.62 Q51.3162 1002.01 51.3162 993.285 Q51.3162 984.535 54.3717 979.952 Q57.4504 975.346 63.2606 975.346 Z\" fill=\"#000000\" fill-rule=\"nonzero\" fill-opacity=\"1\" /><path clip-path=\"url(#clip010)\" d=\"M83.4225 1004.65 L88.3067 1004.65 L88.3067 1010.53 L83.4225 1010.53 L83.4225 1004.65 Z\" fill=\"#000000\" fill-rule=\"nonzero\" fill-opacity=\"1\" /><path clip-path=\"url(#clip010)\" d=\"M109.071 991.387 Q105.922 991.387 104.071 993.54 Q102.242 995.693 102.242 999.443 Q102.242 1003.17 104.071 1005.35 Q105.922 1007.5 109.071 1007.5 Q112.219 1007.5 114.047 1005.35 Q115.899 1003.17 115.899 999.443 Q115.899 995.693 114.047 993.54 Q112.219 991.387 109.071 991.387 M118.353 976.734 L118.353 980.994 Q116.594 980.16 114.788 979.72 Q113.006 979.281 111.246 979.281 Q106.617 979.281 104.163 982.406 Q101.733 985.531 101.385 991.85 Q102.751 989.836 104.811 988.771 Q106.871 987.683 109.348 987.683 Q114.557 987.683 117.566 990.855 Q120.598 994.003 120.598 999.443 Q120.598 1004.77 117.45 1007.98 Q114.302 1011.2 109.071 1011.2 Q103.075 1011.2 99.9039 1006.62 Q96.7326 1002.01 96.7326 993.285 Q96.7326 985.091 100.621 980.23 Q104.51 975.346 111.061 975.346 Q112.82 975.346 114.603 975.693 Q116.408 976.04 118.353 976.734 Z\" fill=\"#000000\" fill-rule=\"nonzero\" fill-opacity=\"1\" /><path clip-path=\"url(#clip010)\" d=\"M64.3254 752.731 Q60.7143 752.731 58.8856 756.295 Q57.0801 759.837 57.0801 766.967 Q57.0801 774.073 58.8856 777.638 Q60.7143 781.18 64.3254 781.18 Q67.9596 781.18 69.7652 777.638 Q71.5939 774.073 71.5939 766.967 Q71.5939 759.837 69.7652 756.295 Q67.9596 752.731 64.3254 752.731 M64.3254 749.027 Q70.1355 749.027 73.1911 753.633 Q76.2698 758.217 76.2698 766.967 Q76.2698 775.693 73.1911 780.3 Q70.1355 784.883 64.3254 784.883 Q58.5152 784.883 55.4365 780.3 Q52.381 775.693 52.381 766.967 Q52.381 758.217 55.4365 753.633 Q58.5152 749.027 64.3254 749.027 Z\" fill=\"#000000\" fill-rule=\"nonzero\" fill-opacity=\"1\" /><path clip-path=\"url(#clip010)\" d=\"M84.4873 778.332 L89.3715 778.332 L89.3715 784.212 L84.4873 784.212 L84.4873 778.332 Z\" fill=\"#000000\" fill-rule=\"nonzero\" fill-opacity=\"1\" /><path clip-path=\"url(#clip010)\" d=\"M98.3761 749.652 L120.598 749.652 L120.598 751.643 L108.052 784.212 L103.168 784.212 L114.973 753.587 L98.3761 753.587 L98.3761 749.652 Z\" fill=\"#000000\" fill-rule=\"nonzero\" fill-opacity=\"1\" /><path clip-path=\"url(#clip010)\" d=\"M63.5152 526.412 Q59.9041 526.412 58.0754 529.977 Q56.2699 533.519 56.2699 540.648 Q56.2699 547.755 58.0754 551.319 Q59.9041 554.861 63.5152 554.861 Q67.1494 554.861 68.955 551.319 Q70.7837 547.755 70.7837 540.648 Q70.7837 533.519 68.955 529.977 Q67.1494 526.412 63.5152 526.412 M63.5152 522.708 Q69.3254 522.708 72.3809 527.315 Q75.4596 531.898 75.4596 540.648 Q75.4596 549.375 72.3809 553.981 Q69.3254 558.565 63.5152 558.565 Q57.7051 558.565 54.6264 553.981 Q51.5708 549.375 51.5708 540.648 Q51.5708 531.898 54.6264 527.315 Q57.7051 522.708 63.5152 522.708 Z\" fill=\"#000000\" fill-rule=\"nonzero\" fill-opacity=\"1\" /><path clip-path=\"url(#clip010)\" d=\"M83.6771 552.014 L88.5614 552.014 L88.5614 557.893 L83.6771 557.893 L83.6771 552.014 Z\" fill=\"#000000\" fill-rule=\"nonzero\" fill-opacity=\"1\" /><path clip-path=\"url(#clip010)\" d=\"M108.746 541.481 Q105.413 541.481 103.492 543.264 Q101.594 545.046 101.594 548.171 Q101.594 551.296 103.492 553.079 Q105.413 554.861 108.746 554.861 Q112.08 554.861 114.001 553.079 Q115.922 551.273 115.922 548.171 Q115.922 545.046 114.001 543.264 Q112.103 541.481 108.746 541.481 M104.071 539.491 Q101.061 538.75 99.3715 536.69 Q97.7048 534.63 97.7048 531.667 Q97.7048 527.523 100.645 525.116 Q103.608 522.708 108.746 522.708 Q113.908 522.708 116.848 525.116 Q119.788 527.523 119.788 531.667 Q119.788 534.63 118.098 536.69 Q116.432 538.75 113.445 539.491 Q116.825 540.278 118.7 542.569 Q120.598 544.861 120.598 548.171 Q120.598 553.194 117.52 555.88 Q114.464 558.565 108.746 558.565 Q103.029 558.565 99.9502 555.88 Q96.8947 553.194 96.8947 548.171 Q96.8947 544.861 98.7928 542.569 Q100.691 540.278 104.071 539.491 M102.358 532.106 Q102.358 534.792 104.024 536.296 Q105.714 537.801 108.746 537.801 Q111.756 537.801 113.445 536.296 Q115.158 534.792 115.158 532.106 Q115.158 529.421 113.445 527.917 Q111.756 526.412 108.746 526.412 Q105.714 526.412 104.024 527.917 Q102.358 529.421 102.358 532.106 Z\" fill=\"#000000\" fill-rule=\"nonzero\" fill-opacity=\"1\" /><path clip-path=\"url(#clip010)\" d=\"M63.6078 300.094 Q59.9967 300.094 58.168 303.658 Q56.3625 307.2 56.3625 314.33 Q56.3625 321.436 58.168 325.001 Q59.9967 328.542 63.6078 328.542 Q67.242 328.542 69.0476 325.001 Q70.8763 321.436 70.8763 314.33 Q70.8763 307.2 69.0476 303.658 Q67.242 300.094 63.6078 300.094 M63.6078 296.39 Q69.418 296.39 72.4735 300.996 Q75.5522 305.58 75.5522 314.33 Q75.5522 323.056 72.4735 327.663 Q69.418 332.246 63.6078 332.246 Q57.7976 332.246 54.719 327.663 Q51.6634 323.056 51.6634 314.33 Q51.6634 305.58 54.719 300.996 Q57.7976 296.39 63.6078 296.39 Z\" fill=\"#000000\" fill-rule=\"nonzero\" fill-opacity=\"1\" /><path clip-path=\"url(#clip010)\" d=\"M83.7697 325.695 L88.654 325.695 L88.654 331.575 L83.7697 331.575 L83.7697 325.695 Z\" fill=\"#000000\" fill-rule=\"nonzero\" fill-opacity=\"1\" /><path clip-path=\"url(#clip010)\" d=\"M98.978 330.857 L98.978 326.598 Q100.737 327.431 102.543 327.871 Q104.348 328.311 106.084 328.311 Q110.714 328.311 113.145 325.209 Q115.598 322.084 115.945 315.742 Q114.603 317.732 112.543 318.797 Q110.483 319.862 107.983 319.862 Q102.797 319.862 99.765 316.737 Q96.7558 313.589 96.7558 308.149 Q96.7558 302.825 99.9039 299.607 Q103.052 296.39 108.283 296.39 Q114.279 296.39 117.427 300.996 Q120.598 305.58 120.598 314.33 Q120.598 322.501 116.709 327.385 Q112.844 332.246 106.293 332.246 Q104.534 332.246 102.728 331.899 Q100.922 331.552 98.978 330.857 M108.283 316.205 Q111.432 316.205 113.26 314.052 Q115.112 311.899 115.112 308.149 Q115.112 304.422 113.26 302.269 Q111.432 300.094 108.283 300.094 Q105.135 300.094 103.284 302.269 Q101.455 304.422 101.455 308.149 Q101.455 311.899 103.284 314.052 Q105.135 316.205 108.283 316.205 Z\" fill=\"#000000\" fill-rule=\"nonzero\" fill-opacity=\"1\" /><path clip-path=\"url(#clip010)\" d=\"M54.2328 101.321 L61.8717 101.321 L61.8717 74.9555 L53.5616 76.6222 L53.5616 72.3629 L61.8254 70.6963 L66.5013 70.6963 L66.5013 101.321 L74.1402 101.321 L74.1402 105.256 L54.2328 105.256 L54.2328 101.321 Z\" fill=\"#000000\" fill-rule=\"nonzero\" fill-opacity=\"1\" /><path clip-path=\"url(#clip010)\" d=\"M83.5845 99.3767 L88.4688 99.3767 L88.4688 105.256 L83.5845 105.256 L83.5845 99.3767 Z\" fill=\"#000000\" fill-rule=\"nonzero\" fill-opacity=\"1\" /><path clip-path=\"url(#clip010)\" d=\"M108.654 73.775 Q105.043 73.775 103.214 77.3398 Q101.409 80.8814 101.409 88.011 Q101.409 95.1174 103.214 98.6822 Q105.043 102.224 108.654 102.224 Q112.288 102.224 114.094 98.6822 Q115.922 95.1174 115.922 88.011 Q115.922 80.8814 114.094 77.3398 Q112.288 73.775 108.654 73.775 M108.654 70.0713 Q114.464 70.0713 117.52 74.6777 Q120.598 79.261 120.598 88.011 Q120.598 96.7378 117.52 101.344 Q114.464 105.928 108.654 105.928 Q102.844 105.928 99.765 101.344 Q96.7095 96.7378 96.7095 88.011 Q96.7095 79.261 99.765 74.6777 Q102.844 70.0713 108.654 70.0713 Z\" fill=\"#000000\" fill-rule=\"nonzero\" fill-opacity=\"1\" /><polyline clip-path=\"url(#clip012)\" style=\"stroke:#009af9; stroke-linecap:round; stroke-linejoin:round; stroke-width:4; stroke-opacity:1; fill:none\" points=\"218.754,978.47 232.242,973.995 356.966,931.912 431.92,906.006 495.293,883.735 564.133,859.152 627.598,836.125 695.639,811.042 774.471,781.461 844.528,754.697 905.961,730.852 972.94,704.448 1040.32,677.454 1114.81,647.092 1185.69,617.693 1259.39,586.587 1321.42,559.969 1397.17,526.928 1466.55,496.125 1530.63,467.214 1595.54,437.469 1668.29,403.575 1734.21,372.343 1809.69,335.97 1879.57,301.695 1948.47,267.333 2015.36,233.42 2083.94,198.082 2159.07,158.687 2268.21,100.172 2290.6,87.9763 \"/>\n",
       "<polyline clip-path=\"url(#clip012)\" style=\"stroke:#e26f46; stroke-linecap:round; stroke-linejoin:round; stroke-width:4; stroke-opacity:1; fill:none\" points=\"218.754,851.124 232.242,846.233 356.966,800.247 431.92,771.938 495.293,747.6 564.133,720.737 627.598,695.573 695.639,668.163 774.471,635.838 791.985,628.573 809.499,621.277 827.013,613.949 844.528,606.591 848.367,604.974 852.207,603.355 856.046,601.735 859.886,600.113 861.806,599.302 863.725,598.49 864.685,598.084 865.645,597.678 866.125,597.474 866.605,597.271 867.085,1445.72 867.565,1445.44 868.045,1445.16 868.525,1444.88 869.005,1444.6 869.485,1444.32 870.445,1443.76 871.405,1443.2 873.324,1442.07 875.244,1440.95 882.923,1436.44 890.603,1431.91 898.282,1427.35 905.961,1422.78 939.45,1402.55 972.94,1381.88 1006.63,1360.64 1040.32,1338.93 1114.81,1289.22 1185.69,1239.66 1259.39,1185.68 1321.42,1138.2 1397.17,1077.62 1466.55,1019.46 1530.63,963.395 1595.54,904.194 1668.29,834.841 1734.21,769.128 1771.95,730.237 1809.69,690.389 1844.63,652.62 1879.57,613.992 1914.02,575.05 1948.47,535.235 1981.92,495.724 2015.36,455.354 2049.65,413.057 2083.94,369.816 2121.5,321.333 2159.07,271.663 2213.64,197.337 2268.21,120.353 2279.41,104.223 2290.6,87.9763 \"/>\n",
       "<path clip-path=\"url(#clip010)\" d=\"M229.803 250.738 L501.85 250.738 L501.85 95.2176 L229.803 95.2176  Z\" fill=\"#ffffff\" fill-rule=\"evenodd\" fill-opacity=\"1\"/>\n",
       "<polyline clip-path=\"url(#clip010)\" style=\"stroke:#000000; stroke-linecap:round; stroke-linejoin:round; stroke-width:4; stroke-opacity:1; fill:none\" points=\"229.803,250.738 501.85,250.738 501.85,95.2176 229.803,95.2176 229.803,250.738 \"/>\n",
       "<polyline clip-path=\"url(#clip010)\" style=\"stroke:#009af9; stroke-linecap:round; stroke-linejoin:round; stroke-width:4; stroke-opacity:1; fill:none\" points=\"254.205,147.058 400.616,147.058 \"/>\n",
       "<path clip-path=\"url(#clip010)\" d=\"M438.86 166.745 Q437.054 171.375 435.342 172.787 Q433.629 174.199 430.758 174.199 L427.355 174.199 L427.355 170.634 L429.855 170.634 Q431.615 170.634 432.587 169.8 Q433.559 168.967 434.74 165.865 L435.504 163.921 L425.018 138.412 L429.531 138.412 L437.633 158.689 L445.735 138.412 L450.249 138.412 L438.86 166.745 Z\" fill=\"#000000\" fill-rule=\"nonzero\" fill-opacity=\"1\" /><path clip-path=\"url(#clip010)\" d=\"M457.54 160.402 L465.179 160.402 L465.179 134.037 L456.869 135.703 L456.869 131.444 L465.133 129.778 L469.809 129.778 L469.809 160.402 L477.448 160.402 L477.448 164.338 L457.54 164.338 L457.54 160.402 Z\" fill=\"#000000\" fill-rule=\"nonzero\" fill-opacity=\"1\" /><polyline clip-path=\"url(#clip010)\" style=\"stroke:#e26f46; stroke-linecap:round; stroke-linejoin:round; stroke-width:4; stroke-opacity:1; fill:none\" points=\"254.205,198.898 400.616,198.898 \"/>\n",
       "<path clip-path=\"url(#clip010)\" d=\"M438.86 218.585 Q437.054 223.215 435.342 224.627 Q433.629 226.039 430.758 226.039 L427.355 226.039 L427.355 222.474 L429.855 222.474 Q431.615 222.474 432.587 221.64 Q433.559 220.807 434.74 217.705 L435.504 215.761 L425.018 190.252 L429.531 190.252 L437.633 210.529 L445.735 190.252 L450.249 190.252 L438.86 218.585 Z\" fill=\"#000000\" fill-rule=\"nonzero\" fill-opacity=\"1\" /><path clip-path=\"url(#clip010)\" d=\"M460.758 212.242 L477.077 212.242 L477.077 216.178 L455.133 216.178 L455.133 212.242 Q457.795 209.488 462.378 204.858 Q466.985 200.205 468.165 198.863 Q470.411 196.34 471.29 194.604 Q472.193 192.844 472.193 191.155 Q472.193 188.4 470.249 186.664 Q468.327 184.928 465.226 184.928 Q463.027 184.928 460.573 185.692 Q458.142 186.455 455.365 188.006 L455.365 183.284 Q458.189 182.15 460.642 181.571 Q463.096 180.993 465.133 180.993 Q470.503 180.993 473.698 183.678 Q476.892 186.363 476.892 190.854 Q476.892 192.983 476.082 194.905 Q475.295 196.803 473.189 199.395 Q472.61 200.067 469.508 203.284 Q466.406 206.479 460.758 212.242 Z\" fill=\"#000000\" fill-rule=\"nonzero\" fill-opacity=\"1\" /></svg>\n"
      ]
     },
     "execution_count": 32,
     "metadata": {},
     "output_type": "execute_result"
    }
   ],
   "source": [
    "## overall trading probabilities without ai first then with ai\n",
    "# in a every grad has expected quality in b tiers are distinguished\n",
    "q_lot(x,b)"
   ]
  },
  {
   "cell_type": "code",
   "execution_count": 33,
   "id": "66ef4a8a-6e36-4876-b22a-ce5a4f17ed24",
   "metadata": {},
   "outputs": [
    {
     "data": {
      "image/svg+xml": [
       "<?xml version=\"1.0\" encoding=\"utf-8\"?>\n",
       "<svg xmlns=\"http://www.w3.org/2000/svg\" xmlns:xlink=\"http://www.w3.org/1999/xlink\" width=\"600\" height=\"400\" viewBox=\"0 0 2400 1600\">\n",
       "<defs>\n",
       "  <clipPath id=\"clip050\">\n",
       "    <rect x=\"0\" y=\"0\" width=\"2400\" height=\"1600\"/>\n",
       "  </clipPath>\n",
       "</defs>\n",
       "<path clip-path=\"url(#clip050)\" d=\"M0 1600 L2400 1600 L2400 0 L0 0  Z\" fill=\"#ffffff\" fill-rule=\"evenodd\" fill-opacity=\"1\"/>\n",
       "<defs>\n",
       "  <clipPath id=\"clip051\">\n",
       "    <rect x=\"480\" y=\"0\" width=\"1681\" height=\"1600\"/>\n",
       "  </clipPath>\n",
       "</defs>\n",
       "<path clip-path=\"url(#clip050)\" d=\"M156.598 1486.45 L2352.76 1486.45 L2352.76 47.2441 L156.598 47.2441  Z\" fill=\"#ffffff\" fill-rule=\"evenodd\" fill-opacity=\"1\"/>\n",
       "<defs>\n",
       "  <clipPath id=\"clip052\">\n",
       "    <rect x=\"156\" y=\"47\" width=\"2197\" height=\"1440\"/>\n",
       "  </clipPath>\n",
       "</defs>\n",
       "<polyline clip-path=\"url(#clip052)\" style=\"stroke:#000000; stroke-linecap:round; stroke-linejoin:round; stroke-width:2; stroke-opacity:0.1; fill:none\" points=\"218.754,1486.45 218.754,47.2441 \"/>\n",
       "<polyline clip-path=\"url(#clip052)\" style=\"stroke:#000000; stroke-linecap:round; stroke-linejoin:round; stroke-width:2; stroke-opacity:0.1; fill:none\" points=\"736.715,1486.45 736.715,47.2441 \"/>\n",
       "<polyline clip-path=\"url(#clip052)\" style=\"stroke:#000000; stroke-linecap:round; stroke-linejoin:round; stroke-width:2; stroke-opacity:0.1; fill:none\" points=\"1254.68,1486.45 1254.68,47.2441 \"/>\n",
       "<polyline clip-path=\"url(#clip052)\" style=\"stroke:#000000; stroke-linecap:round; stroke-linejoin:round; stroke-width:2; stroke-opacity:0.1; fill:none\" points=\"1772.64,1486.45 1772.64,47.2441 \"/>\n",
       "<polyline clip-path=\"url(#clip052)\" style=\"stroke:#000000; stroke-linecap:round; stroke-linejoin:round; stroke-width:2; stroke-opacity:0.1; fill:none\" points=\"2290.6,1486.45 2290.6,47.2441 \"/>\n",
       "<polyline clip-path=\"url(#clip050)\" style=\"stroke:#000000; stroke-linecap:round; stroke-linejoin:round; stroke-width:4; stroke-opacity:1; fill:none\" points=\"156.598,1486.45 2352.76,1486.45 \"/>\n",
       "<polyline clip-path=\"url(#clip050)\" style=\"stroke:#000000; stroke-linecap:round; stroke-linejoin:round; stroke-width:4; stroke-opacity:1; fill:none\" points=\"218.754,1486.45 218.754,1467.55 \"/>\n",
       "<polyline clip-path=\"url(#clip050)\" style=\"stroke:#000000; stroke-linecap:round; stroke-linejoin:round; stroke-width:4; stroke-opacity:1; fill:none\" points=\"736.715,1486.45 736.715,1467.55 \"/>\n",
       "<polyline clip-path=\"url(#clip050)\" style=\"stroke:#000000; stroke-linecap:round; stroke-linejoin:round; stroke-width:4; stroke-opacity:1; fill:none\" points=\"1254.68,1486.45 1254.68,1467.55 \"/>\n",
       "<polyline clip-path=\"url(#clip050)\" style=\"stroke:#000000; stroke-linecap:round; stroke-linejoin:round; stroke-width:4; stroke-opacity:1; fill:none\" points=\"1772.64,1486.45 1772.64,1467.55 \"/>\n",
       "<polyline clip-path=\"url(#clip050)\" style=\"stroke:#000000; stroke-linecap:round; stroke-linejoin:round; stroke-width:4; stroke-opacity:1; fill:none\" points=\"2290.6,1486.45 2290.6,1467.55 \"/>\n",
       "<path clip-path=\"url(#clip050)\" d=\"M181.057 1517.37 Q177.446 1517.37 175.617 1520.93 Q173.812 1524.47 173.812 1531.6 Q173.812 1538.71 175.617 1542.27 Q177.446 1545.82 181.057 1545.82 Q184.691 1545.82 186.497 1542.27 Q188.326 1538.71 188.326 1531.6 Q188.326 1524.47 186.497 1520.93 Q184.691 1517.37 181.057 1517.37 M181.057 1513.66 Q186.867 1513.66 189.923 1518.27 Q193.001 1522.85 193.001 1531.6 Q193.001 1540.33 189.923 1544.94 Q186.867 1549.52 181.057 1549.52 Q175.247 1549.52 172.168 1544.94 Q169.113 1540.33 169.113 1531.6 Q169.113 1522.85 172.168 1518.27 Q175.247 1513.66 181.057 1513.66 Z\" fill=\"#000000\" fill-rule=\"nonzero\" fill-opacity=\"1\" /><path clip-path=\"url(#clip050)\" d=\"M201.219 1542.97 L206.103 1542.97 L206.103 1548.85 L201.219 1548.85 L201.219 1542.97 Z\" fill=\"#000000\" fill-rule=\"nonzero\" fill-opacity=\"1\" /><path clip-path=\"url(#clip050)\" d=\"M226.288 1517.37 Q222.677 1517.37 220.849 1520.93 Q219.043 1524.47 219.043 1531.6 Q219.043 1538.71 220.849 1542.27 Q222.677 1545.82 226.288 1545.82 Q229.923 1545.82 231.728 1542.27 Q233.557 1538.71 233.557 1531.6 Q233.557 1524.47 231.728 1520.93 Q229.923 1517.37 226.288 1517.37 M226.288 1513.66 Q232.098 1513.66 235.154 1518.27 Q238.233 1522.85 238.233 1531.6 Q238.233 1540.33 235.154 1544.94 Q232.098 1549.52 226.288 1549.52 Q220.478 1549.52 217.399 1544.94 Q214.344 1540.33 214.344 1531.6 Q214.344 1522.85 217.399 1518.27 Q220.478 1513.66 226.288 1513.66 Z\" fill=\"#000000\" fill-rule=\"nonzero\" fill-opacity=\"1\" /><path clip-path=\"url(#clip050)\" d=\"M256.45 1517.37 Q252.839 1517.37 251.01 1520.93 Q249.205 1524.47 249.205 1531.6 Q249.205 1538.71 251.01 1542.27 Q252.839 1545.82 256.45 1545.82 Q260.084 1545.82 261.89 1542.27 Q263.719 1538.71 263.719 1531.6 Q263.719 1524.47 261.89 1520.93 Q260.084 1517.37 256.45 1517.37 M256.45 1513.66 Q262.26 1513.66 265.316 1518.27 Q268.395 1522.85 268.395 1531.6 Q268.395 1540.33 265.316 1544.94 Q262.26 1549.52 256.45 1549.52 Q250.64 1549.52 247.561 1544.94 Q244.506 1540.33 244.506 1531.6 Q244.506 1522.85 247.561 1518.27 Q250.64 1513.66 256.45 1513.66 Z\" fill=\"#000000\" fill-rule=\"nonzero\" fill-opacity=\"1\" /><path clip-path=\"url(#clip050)\" d=\"M699.516 1517.37 Q695.905 1517.37 694.077 1520.93 Q692.271 1524.47 692.271 1531.6 Q692.271 1538.71 694.077 1542.27 Q695.905 1545.82 699.516 1545.82 Q703.151 1545.82 704.956 1542.27 Q706.785 1538.71 706.785 1531.6 Q706.785 1524.47 704.956 1520.93 Q703.151 1517.37 699.516 1517.37 M699.516 1513.66 Q705.327 1513.66 708.382 1518.27 Q711.461 1522.85 711.461 1531.6 Q711.461 1540.33 708.382 1544.94 Q705.327 1549.52 699.516 1549.52 Q693.706 1549.52 690.628 1544.94 Q687.572 1540.33 687.572 1531.6 Q687.572 1522.85 690.628 1518.27 Q693.706 1513.66 699.516 1513.66 Z\" fill=\"#000000\" fill-rule=\"nonzero\" fill-opacity=\"1\" /><path clip-path=\"url(#clip050)\" d=\"M719.678 1542.97 L724.563 1542.97 L724.563 1548.85 L719.678 1548.85 L719.678 1542.97 Z\" fill=\"#000000\" fill-rule=\"nonzero\" fill-opacity=\"1\" /><path clip-path=\"url(#clip050)\" d=\"M738.776 1544.91 L755.095 1544.91 L755.095 1548.85 L733.151 1548.85 L733.151 1544.91 Q735.813 1542.16 740.396 1537.53 Q745.002 1532.88 746.183 1531.53 Q748.428 1529.01 749.308 1527.27 Q750.211 1525.51 750.211 1523.82 Q750.211 1521.07 748.266 1519.33 Q746.345 1517.6 743.243 1517.6 Q741.044 1517.6 738.59 1518.36 Q736.16 1519.13 733.382 1520.68 L733.382 1515.95 Q736.206 1514.82 738.66 1514.24 Q741.113 1513.66 743.151 1513.66 Q748.521 1513.66 751.715 1516.35 Q754.91 1519.03 754.91 1523.52 Q754.91 1525.65 754.1 1527.57 Q753.312 1529.47 751.206 1532.07 Q750.627 1532.74 747.525 1535.95 Q744.424 1539.15 738.776 1544.91 Z\" fill=\"#000000\" fill-rule=\"nonzero\" fill-opacity=\"1\" /><path clip-path=\"url(#clip050)\" d=\"M764.956 1514.29 L783.312 1514.29 L783.312 1518.22 L769.238 1518.22 L769.238 1526.7 Q770.257 1526.35 771.275 1526.19 Q772.294 1526 773.312 1526 Q779.099 1526 782.479 1529.17 Q785.859 1532.34 785.859 1537.76 Q785.859 1543.34 782.386 1546.44 Q778.914 1549.52 772.595 1549.52 Q770.419 1549.52 768.15 1549.15 Q765.905 1548.78 763.498 1548.04 L763.498 1543.34 Q765.581 1544.47 767.803 1545.03 Q770.025 1545.58 772.502 1545.58 Q776.507 1545.58 778.845 1543.48 Q781.183 1541.37 781.183 1537.76 Q781.183 1534.15 778.845 1532.04 Q776.507 1529.94 772.502 1529.94 Q770.627 1529.94 768.752 1530.35 Q766.9 1530.77 764.956 1531.65 L764.956 1514.29 Z\" fill=\"#000000\" fill-rule=\"nonzero\" fill-opacity=\"1\" /><path clip-path=\"url(#clip050)\" d=\"M1216.98 1517.37 Q1213.37 1517.37 1211.54 1520.93 Q1209.74 1524.47 1209.74 1531.6 Q1209.74 1538.71 1211.54 1542.27 Q1213.37 1545.82 1216.98 1545.82 Q1220.61 1545.82 1222.42 1542.27 Q1224.25 1538.71 1224.25 1531.6 Q1224.25 1524.47 1222.42 1520.93 Q1220.61 1517.37 1216.98 1517.37 M1216.98 1513.66 Q1222.79 1513.66 1225.85 1518.27 Q1228.92 1522.85 1228.92 1531.6 Q1228.92 1540.33 1225.85 1544.94 Q1222.79 1549.52 1216.98 1549.52 Q1211.17 1549.52 1208.09 1544.94 Q1205.04 1540.33 1205.04 1531.6 Q1205.04 1522.85 1208.09 1518.27 Q1211.17 1513.66 1216.98 1513.66 Z\" fill=\"#000000\" fill-rule=\"nonzero\" fill-opacity=\"1\" /><path clip-path=\"url(#clip050)\" d=\"M1237.14 1542.97 L1242.03 1542.97 L1242.03 1548.85 L1237.14 1548.85 L1237.14 1542.97 Z\" fill=\"#000000\" fill-rule=\"nonzero\" fill-opacity=\"1\" /><path clip-path=\"url(#clip050)\" d=\"M1252.26 1514.29 L1270.61 1514.29 L1270.61 1518.22 L1256.54 1518.22 L1256.54 1526.7 Q1257.56 1526.35 1258.58 1526.19 Q1259.6 1526 1260.61 1526 Q1266.4 1526 1269.78 1529.17 Q1273.16 1532.34 1273.16 1537.76 Q1273.16 1543.34 1269.69 1546.44 Q1266.22 1549.52 1259.9 1549.52 Q1257.72 1549.52 1255.45 1549.15 Q1253.21 1548.78 1250.8 1548.04 L1250.8 1543.34 Q1252.88 1544.47 1255.11 1545.03 Q1257.33 1545.58 1259.8 1545.58 Q1263.81 1545.58 1266.15 1543.48 Q1268.48 1541.37 1268.48 1537.76 Q1268.48 1534.15 1266.15 1532.04 Q1263.81 1529.94 1259.8 1529.94 Q1257.93 1529.94 1256.05 1530.35 Q1254.2 1530.77 1252.26 1531.65 L1252.26 1514.29 Z\" fill=\"#000000\" fill-rule=\"nonzero\" fill-opacity=\"1\" /><path clip-path=\"url(#clip050)\" d=\"M1292.37 1517.37 Q1288.76 1517.37 1286.93 1520.93 Q1285.13 1524.47 1285.13 1531.6 Q1285.13 1538.71 1286.93 1542.27 Q1288.76 1545.82 1292.37 1545.82 Q1296.01 1545.82 1297.81 1542.27 Q1299.64 1538.71 1299.64 1531.6 Q1299.64 1524.47 1297.81 1520.93 Q1296.01 1517.37 1292.37 1517.37 M1292.37 1513.66 Q1298.18 1513.66 1301.24 1518.27 Q1304.32 1522.85 1304.32 1531.6 Q1304.32 1540.33 1301.24 1544.94 Q1298.18 1549.52 1292.37 1549.52 Q1286.56 1549.52 1283.48 1544.94 Q1280.43 1540.33 1280.43 1531.6 Q1280.43 1522.85 1283.48 1518.27 Q1286.56 1513.66 1292.37 1513.66 Z\" fill=\"#000000\" fill-rule=\"nonzero\" fill-opacity=\"1\" /><path clip-path=\"url(#clip050)\" d=\"M1735.44 1517.37 Q1731.83 1517.37 1730 1520.93 Q1728.19 1524.47 1728.19 1531.6 Q1728.19 1538.71 1730 1542.27 Q1731.83 1545.82 1735.44 1545.82 Q1739.07 1545.82 1740.88 1542.27 Q1742.71 1538.71 1742.71 1531.6 Q1742.71 1524.47 1740.88 1520.93 Q1739.07 1517.37 1735.44 1517.37 M1735.44 1513.66 Q1741.25 1513.66 1744.31 1518.27 Q1747.38 1522.85 1747.38 1531.6 Q1747.38 1540.33 1744.31 1544.94 Q1741.25 1549.52 1735.44 1549.52 Q1729.63 1549.52 1726.55 1544.94 Q1723.5 1540.33 1723.5 1531.6 Q1723.5 1522.85 1726.55 1518.27 Q1729.63 1513.66 1735.44 1513.66 Z\" fill=\"#000000\" fill-rule=\"nonzero\" fill-opacity=\"1\" /><path clip-path=\"url(#clip050)\" d=\"M1755.6 1542.97 L1760.49 1542.97 L1760.49 1548.85 L1755.6 1548.85 L1755.6 1542.97 Z\" fill=\"#000000\" fill-rule=\"nonzero\" fill-opacity=\"1\" /><path clip-path=\"url(#clip050)\" d=\"M1769.49 1514.29 L1791.71 1514.29 L1791.71 1516.28 L1779.17 1548.85 L1774.28 1548.85 L1786.09 1518.22 L1769.49 1518.22 L1769.49 1514.29 Z\" fill=\"#000000\" fill-rule=\"nonzero\" fill-opacity=\"1\" /><path clip-path=\"url(#clip050)\" d=\"M1800.88 1514.29 L1819.24 1514.29 L1819.24 1518.22 L1805.16 1518.22 L1805.16 1526.7 Q1806.18 1526.35 1807.2 1526.19 Q1808.22 1526 1809.24 1526 Q1815.02 1526 1818.4 1529.17 Q1821.78 1532.34 1821.78 1537.76 Q1821.78 1543.34 1818.31 1546.44 Q1814.84 1549.52 1808.52 1549.52 Q1806.34 1549.52 1804.07 1549.15 Q1801.83 1548.78 1799.42 1548.04 L1799.42 1543.34 Q1801.5 1544.47 1803.73 1545.03 Q1805.95 1545.58 1808.43 1545.58 Q1812.43 1545.58 1814.77 1543.48 Q1817.11 1541.37 1817.11 1537.76 Q1817.11 1534.15 1814.77 1532.04 Q1812.43 1529.94 1808.43 1529.94 Q1806.55 1529.94 1804.68 1530.35 Q1802.82 1530.77 1800.88 1531.65 L1800.88 1514.29 Z\" fill=\"#000000\" fill-rule=\"nonzero\" fill-opacity=\"1\" /><path clip-path=\"url(#clip050)\" d=\"M2242.67 1544.91 L2250.31 1544.91 L2250.31 1518.55 L2242 1520.21 L2242 1515.95 L2250.27 1514.29 L2254.94 1514.29 L2254.94 1544.91 L2262.58 1544.91 L2262.58 1548.85 L2242.67 1548.85 L2242.67 1544.91 Z\" fill=\"#000000\" fill-rule=\"nonzero\" fill-opacity=\"1\" /><path clip-path=\"url(#clip050)\" d=\"M2272.02 1542.97 L2276.91 1542.97 L2276.91 1548.85 L2272.02 1548.85 L2272.02 1542.97 Z\" fill=\"#000000\" fill-rule=\"nonzero\" fill-opacity=\"1\" /><path clip-path=\"url(#clip050)\" d=\"M2297.09 1517.37 Q2293.48 1517.37 2291.65 1520.93 Q2289.85 1524.47 2289.85 1531.6 Q2289.85 1538.71 2291.65 1542.27 Q2293.48 1545.82 2297.09 1545.82 Q2300.73 1545.82 2302.53 1542.27 Q2304.36 1538.71 2304.36 1531.6 Q2304.36 1524.47 2302.53 1520.93 Q2300.73 1517.37 2297.09 1517.37 M2297.09 1513.66 Q2302.9 1513.66 2305.96 1518.27 Q2309.04 1522.85 2309.04 1531.6 Q2309.04 1540.33 2305.96 1544.94 Q2302.9 1549.52 2297.09 1549.52 Q2291.28 1549.52 2288.2 1544.94 Q2285.15 1540.33 2285.15 1531.6 Q2285.15 1522.85 2288.2 1518.27 Q2291.28 1513.66 2297.09 1513.66 Z\" fill=\"#000000\" fill-rule=\"nonzero\" fill-opacity=\"1\" /><path clip-path=\"url(#clip050)\" d=\"M2327.26 1517.37 Q2323.64 1517.37 2321.82 1520.93 Q2320.01 1524.47 2320.01 1531.6 Q2320.01 1538.71 2321.82 1542.27 Q2323.64 1545.82 2327.26 1545.82 Q2330.89 1545.82 2332.7 1542.27 Q2334.52 1538.71 2334.52 1531.6 Q2334.52 1524.47 2332.7 1520.93 Q2330.89 1517.37 2327.26 1517.37 M2327.26 1513.66 Q2333.07 1513.66 2336.12 1518.27 Q2339.2 1522.85 2339.2 1531.6 Q2339.2 1540.33 2336.12 1544.94 Q2333.07 1549.52 2327.26 1549.52 Q2321.45 1549.52 2318.37 1544.94 Q2315.31 1540.33 2315.31 1531.6 Q2315.31 1522.85 2318.37 1518.27 Q2321.45 1513.66 2327.26 1513.66 Z\" fill=\"#000000\" fill-rule=\"nonzero\" fill-opacity=\"1\" /><polyline clip-path=\"url(#clip052)\" style=\"stroke:#000000; stroke-linecap:round; stroke-linejoin:round; stroke-width:2; stroke-opacity:0.1; fill:none\" points=\"156.598,1326.21 2352.76,1326.21 \"/>\n",
       "<polyline clip-path=\"url(#clip052)\" style=\"stroke:#000000; stroke-linecap:round; stroke-linejoin:round; stroke-width:2; stroke-opacity:0.1; fill:none\" points=\"156.598,1119.83 2352.76,1119.83 \"/>\n",
       "<polyline clip-path=\"url(#clip052)\" style=\"stroke:#000000; stroke-linecap:round; stroke-linejoin:round; stroke-width:2; stroke-opacity:0.1; fill:none\" points=\"156.598,913.463 2352.76,913.463 \"/>\n",
       "<polyline clip-path=\"url(#clip052)\" style=\"stroke:#000000; stroke-linecap:round; stroke-linejoin:round; stroke-width:2; stroke-opacity:0.1; fill:none\" points=\"156.598,707.091 2352.76,707.091 \"/>\n",
       "<polyline clip-path=\"url(#clip052)\" style=\"stroke:#000000; stroke-linecap:round; stroke-linejoin:round; stroke-width:2; stroke-opacity:0.1; fill:none\" points=\"156.598,500.719 2352.76,500.719 \"/>\n",
       "<polyline clip-path=\"url(#clip052)\" style=\"stroke:#000000; stroke-linecap:round; stroke-linejoin:round; stroke-width:2; stroke-opacity:0.1; fill:none\" points=\"156.598,294.348 2352.76,294.348 \"/>\n",
       "<polyline clip-path=\"url(#clip052)\" style=\"stroke:#000000; stroke-linecap:round; stroke-linejoin:round; stroke-width:2; stroke-opacity:0.1; fill:none\" points=\"156.598,87.9763 2352.76,87.9763 \"/>\n",
       "<polyline clip-path=\"url(#clip050)\" style=\"stroke:#000000; stroke-linecap:round; stroke-linejoin:round; stroke-width:4; stroke-opacity:1; fill:none\" points=\"156.598,1486.45 156.598,47.2441 \"/>\n",
       "<polyline clip-path=\"url(#clip050)\" style=\"stroke:#000000; stroke-linecap:round; stroke-linejoin:round; stroke-width:4; stroke-opacity:1; fill:none\" points=\"156.598,1326.21 175.496,1326.21 \"/>\n",
       "<polyline clip-path=\"url(#clip050)\" style=\"stroke:#000000; stroke-linecap:round; stroke-linejoin:round; stroke-width:4; stroke-opacity:1; fill:none\" points=\"156.598,1119.83 175.496,1119.83 \"/>\n",
       "<polyline clip-path=\"url(#clip050)\" style=\"stroke:#000000; stroke-linecap:round; stroke-linejoin:round; stroke-width:4; stroke-opacity:1; fill:none\" points=\"156.598,913.463 175.496,913.463 \"/>\n",
       "<polyline clip-path=\"url(#clip050)\" style=\"stroke:#000000; stroke-linecap:round; stroke-linejoin:round; stroke-width:4; stroke-opacity:1; fill:none\" points=\"156.598,707.091 175.496,707.091 \"/>\n",
       "<polyline clip-path=\"url(#clip050)\" style=\"stroke:#000000; stroke-linecap:round; stroke-linejoin:round; stroke-width:4; stroke-opacity:1; fill:none\" points=\"156.598,500.719 175.496,500.719 \"/>\n",
       "<polyline clip-path=\"url(#clip050)\" style=\"stroke:#000000; stroke-linecap:round; stroke-linejoin:round; stroke-width:4; stroke-opacity:1; fill:none\" points=\"156.598,294.348 175.496,294.348 \"/>\n",
       "<polyline clip-path=\"url(#clip050)\" style=\"stroke:#000000; stroke-linecap:round; stroke-linejoin:round; stroke-width:4; stroke-opacity:1; fill:none\" points=\"156.598,87.9763 175.496,87.9763 \"/>\n",
       "<path clip-path=\"url(#clip050)\" d=\"M62.9365 1312 Q59.3254 1312 57.4967 1315.57 Q55.6912 1319.11 55.6912 1326.24 Q55.6912 1333.35 57.4967 1336.91 Q59.3254 1340.45 62.9365 1340.45 Q66.5707 1340.45 68.3763 1336.91 Q70.205 1333.35 70.205 1326.24 Q70.205 1319.11 68.3763 1315.57 Q66.5707 1312 62.9365 1312 M62.9365 1308.3 Q68.7467 1308.3 71.8022 1312.91 Q74.8809 1317.49 74.8809 1326.24 Q74.8809 1334.97 71.8022 1339.57 Q68.7467 1344.16 62.9365 1344.16 Q57.1264 1344.16 54.0477 1339.57 Q50.9921 1334.97 50.9921 1326.24 Q50.9921 1317.49 54.0477 1312.91 Q57.1264 1308.3 62.9365 1308.3 Z\" fill=\"#000000\" fill-rule=\"nonzero\" fill-opacity=\"1\" /><path clip-path=\"url(#clip050)\" d=\"M83.0984 1337.61 L87.9827 1337.61 L87.9827 1343.49 L83.0984 1343.49 L83.0984 1337.61 Z\" fill=\"#000000\" fill-rule=\"nonzero\" fill-opacity=\"1\" /><path clip-path=\"url(#clip050)\" d=\"M111.015 1313 L99.2095 1331.45 L111.015 1331.45 L111.015 1313 M109.788 1308.93 L115.668 1308.93 L115.668 1331.45 L120.598 1331.45 L120.598 1335.34 L115.668 1335.34 L115.668 1343.49 L111.015 1343.49 L111.015 1335.34 L95.4132 1335.34 L95.4132 1330.82 L109.788 1308.93 Z\" fill=\"#000000\" fill-rule=\"nonzero\" fill-opacity=\"1\" /><path clip-path=\"url(#clip050)\" d=\"M64.418 1105.63 Q60.8069 1105.63 58.9782 1109.2 Q57.1726 1112.74 57.1726 1119.87 Q57.1726 1126.98 58.9782 1130.54 Q60.8069 1134.08 64.418 1134.08 Q68.0522 1134.08 69.8578 1130.54 Q71.6865 1126.98 71.6865 1119.87 Q71.6865 1112.74 69.8578 1109.2 Q68.0522 1105.63 64.418 1105.63 M64.418 1101.93 Q70.2281 1101.93 73.2837 1106.54 Q76.3624 1111.12 76.3624 1119.87 Q76.3624 1128.6 73.2837 1133.2 Q70.2281 1137.79 64.418 1137.79 Q58.6078 1137.79 55.5291 1133.2 Q52.4736 1128.6 52.4736 1119.87 Q52.4736 1111.12 55.5291 1106.54 Q58.6078 1101.93 64.418 1101.93 Z\" fill=\"#000000\" fill-rule=\"nonzero\" fill-opacity=\"1\" /><path clip-path=\"url(#clip050)\" d=\"M84.5799 1131.23 L89.4641 1131.23 L89.4641 1137.11 L84.5799 1137.11 L84.5799 1131.23 Z\" fill=\"#000000\" fill-rule=\"nonzero\" fill-opacity=\"1\" /><path clip-path=\"url(#clip050)\" d=\"M99.6956 1102.55 L118.052 1102.55 L118.052 1106.49 L103.978 1106.49 L103.978 1114.96 Q104.996 1114.61 106.015 1114.45 Q107.033 1114.27 108.052 1114.27 Q113.839 1114.27 117.219 1117.44 Q120.598 1120.61 120.598 1126.03 Q120.598 1131.6 117.126 1134.71 Q113.654 1137.79 107.334 1137.79 Q105.159 1137.79 102.89 1137.42 Q100.645 1137.04 98.2372 1136.3 L98.2372 1131.6 Q100.321 1132.74 102.543 1133.29 Q104.765 1133.85 107.242 1133.85 Q111.246 1133.85 113.584 1131.74 Q115.922 1129.64 115.922 1126.03 Q115.922 1122.42 113.584 1120.31 Q111.246 1118.2 107.242 1118.2 Q105.367 1118.2 103.492 1118.62 Q101.64 1119.04 99.6956 1119.92 L99.6956 1102.55 Z\" fill=\"#000000\" fill-rule=\"nonzero\" fill-opacity=\"1\" /><path clip-path=\"url(#clip050)\" d=\"M63.2606 899.261 Q59.6495 899.261 57.8208 902.826 Q56.0152 906.368 56.0152 913.497 Q56.0152 920.604 57.8208 924.169 Q59.6495 927.71 63.2606 927.71 Q66.8948 927.71 68.7004 924.169 Q70.5291 920.604 70.5291 913.497 Q70.5291 906.368 68.7004 902.826 Q66.8948 899.261 63.2606 899.261 M63.2606 895.558 Q69.0707 895.558 72.1263 900.164 Q75.205 904.747 75.205 913.497 Q75.205 922.224 72.1263 926.831 Q69.0707 931.414 63.2606 931.414 Q57.4504 931.414 54.3717 926.831 Q51.3162 922.224 51.3162 913.497 Q51.3162 904.747 54.3717 900.164 Q57.4504 895.558 63.2606 895.558 Z\" fill=\"#000000\" fill-rule=\"nonzero\" fill-opacity=\"1\" /><path clip-path=\"url(#clip050)\" d=\"M83.4225 924.863 L88.3067 924.863 L88.3067 930.743 L83.4225 930.743 L83.4225 924.863 Z\" fill=\"#000000\" fill-rule=\"nonzero\" fill-opacity=\"1\" /><path clip-path=\"url(#clip050)\" d=\"M109.071 911.599 Q105.922 911.599 104.071 913.752 Q102.242 915.905 102.242 919.655 Q102.242 923.381 104.071 925.557 Q105.922 927.71 109.071 927.71 Q112.219 927.71 114.047 925.557 Q115.899 923.381 115.899 919.655 Q115.899 915.905 114.047 913.752 Q112.219 911.599 109.071 911.599 M118.353 896.946 L118.353 901.206 Q116.594 900.372 114.788 899.933 Q113.006 899.493 111.246 899.493 Q106.617 899.493 104.163 902.618 Q101.733 905.743 101.385 912.062 Q102.751 910.048 104.811 908.983 Q106.871 907.895 109.348 907.895 Q114.557 907.895 117.566 911.067 Q120.598 914.215 120.598 919.655 Q120.598 924.979 117.45 928.196 Q114.302 931.414 109.071 931.414 Q103.075 931.414 99.9039 926.831 Q96.7326 922.224 96.7326 913.497 Q96.7326 905.303 100.621 900.442 Q104.51 895.558 111.061 895.558 Q112.82 895.558 114.603 895.905 Q116.408 896.252 118.353 896.946 Z\" fill=\"#000000\" fill-rule=\"nonzero\" fill-opacity=\"1\" /><path clip-path=\"url(#clip050)\" d=\"M64.3254 692.89 Q60.7143 692.89 58.8856 696.454 Q57.0801 699.996 57.0801 707.126 Q57.0801 714.232 58.8856 717.797 Q60.7143 721.339 64.3254 721.339 Q67.9596 721.339 69.7652 717.797 Q71.5939 714.232 71.5939 707.126 Q71.5939 699.996 69.7652 696.454 Q67.9596 692.89 64.3254 692.89 M64.3254 689.186 Q70.1355 689.186 73.1911 693.792 Q76.2698 698.376 76.2698 707.126 Q76.2698 715.853 73.1911 720.459 Q70.1355 725.042 64.3254 725.042 Q58.5152 725.042 55.4365 720.459 Q52.381 715.853 52.381 707.126 Q52.381 698.376 55.4365 693.792 Q58.5152 689.186 64.3254 689.186 Z\" fill=\"#000000\" fill-rule=\"nonzero\" fill-opacity=\"1\" /><path clip-path=\"url(#clip050)\" d=\"M84.4873 718.491 L89.3715 718.491 L89.3715 724.371 L84.4873 724.371 L84.4873 718.491 Z\" fill=\"#000000\" fill-rule=\"nonzero\" fill-opacity=\"1\" /><path clip-path=\"url(#clip050)\" d=\"M98.3761 689.811 L120.598 689.811 L120.598 691.802 L108.052 724.371 L103.168 724.371 L114.973 693.746 L98.3761 693.746 L98.3761 689.811 Z\" fill=\"#000000\" fill-rule=\"nonzero\" fill-opacity=\"1\" /><path clip-path=\"url(#clip050)\" d=\"M63.5152 486.518 Q59.9041 486.518 58.0754 490.083 Q56.2699 493.625 56.2699 500.754 Q56.2699 507.861 58.0754 511.425 Q59.9041 514.967 63.5152 514.967 Q67.1494 514.967 68.955 511.425 Q70.7837 507.861 70.7837 500.754 Q70.7837 493.625 68.955 490.083 Q67.1494 486.518 63.5152 486.518 M63.5152 482.814 Q69.3254 482.814 72.3809 487.421 Q75.4596 492.004 75.4596 500.754 Q75.4596 509.481 72.3809 514.087 Q69.3254 518.671 63.5152 518.671 Q57.7051 518.671 54.6264 514.087 Q51.5708 509.481 51.5708 500.754 Q51.5708 492.004 54.6264 487.421 Q57.7051 482.814 63.5152 482.814 Z\" fill=\"#000000\" fill-rule=\"nonzero\" fill-opacity=\"1\" /><path clip-path=\"url(#clip050)\" d=\"M83.6771 512.12 L88.5614 512.12 L88.5614 517.999 L83.6771 517.999 L83.6771 512.12 Z\" fill=\"#000000\" fill-rule=\"nonzero\" fill-opacity=\"1\" /><path clip-path=\"url(#clip050)\" d=\"M108.746 501.587 Q105.413 501.587 103.492 503.37 Q101.594 505.152 101.594 508.277 Q101.594 511.402 103.492 513.185 Q105.413 514.967 108.746 514.967 Q112.08 514.967 114.001 513.185 Q115.922 511.379 115.922 508.277 Q115.922 505.152 114.001 503.37 Q112.103 501.587 108.746 501.587 M104.071 499.597 Q101.061 498.856 99.3715 496.796 Q97.7048 494.736 97.7048 491.773 Q97.7048 487.629 100.645 485.222 Q103.608 482.814 108.746 482.814 Q113.908 482.814 116.848 485.222 Q119.788 487.629 119.788 491.773 Q119.788 494.736 118.098 496.796 Q116.432 498.856 113.445 499.597 Q116.825 500.384 118.7 502.675 Q120.598 504.967 120.598 508.277 Q120.598 513.3 117.52 515.986 Q114.464 518.671 108.746 518.671 Q103.029 518.671 99.9502 515.986 Q96.8947 513.3 96.8947 508.277 Q96.8947 504.967 98.7928 502.675 Q100.691 500.384 104.071 499.597 M102.358 492.213 Q102.358 494.898 104.024 496.402 Q105.714 497.907 108.746 497.907 Q111.756 497.907 113.445 496.402 Q115.158 494.898 115.158 492.213 Q115.158 489.527 113.445 488.023 Q111.756 486.518 108.746 486.518 Q105.714 486.518 104.024 488.023 Q102.358 489.527 102.358 492.213 Z\" fill=\"#000000\" fill-rule=\"nonzero\" fill-opacity=\"1\" /><path clip-path=\"url(#clip050)\" d=\"M63.6078 280.147 Q59.9967 280.147 58.168 283.711 Q56.3625 287.253 56.3625 294.383 Q56.3625 301.489 58.168 305.054 Q59.9967 308.595 63.6078 308.595 Q67.242 308.595 69.0476 305.054 Q70.8763 301.489 70.8763 294.383 Q70.8763 287.253 69.0476 283.711 Q67.242 280.147 63.6078 280.147 M63.6078 276.443 Q69.418 276.443 72.4735 281.049 Q75.5522 285.633 75.5522 294.383 Q75.5522 303.109 72.4735 307.716 Q69.418 312.299 63.6078 312.299 Q57.7976 312.299 54.719 307.716 Q51.6634 303.109 51.6634 294.383 Q51.6634 285.633 54.719 281.049 Q57.7976 276.443 63.6078 276.443 Z\" fill=\"#000000\" fill-rule=\"nonzero\" fill-opacity=\"1\" /><path clip-path=\"url(#clip050)\" d=\"M83.7697 305.748 L88.654 305.748 L88.654 311.628 L83.7697 311.628 L83.7697 305.748 Z\" fill=\"#000000\" fill-rule=\"nonzero\" fill-opacity=\"1\" /><path clip-path=\"url(#clip050)\" d=\"M98.978 310.91 L98.978 306.651 Q100.737 307.484 102.543 307.924 Q104.348 308.364 106.084 308.364 Q110.714 308.364 113.145 305.262 Q115.598 302.137 115.945 295.795 Q114.603 297.785 112.543 298.85 Q110.483 299.915 107.983 299.915 Q102.797 299.915 99.765 296.79 Q96.7558 293.642 96.7558 288.202 Q96.7558 282.878 99.9039 279.66 Q103.052 276.443 108.283 276.443 Q114.279 276.443 117.427 281.049 Q120.598 285.633 120.598 294.383 Q120.598 302.554 116.709 307.438 Q112.844 312.299 106.293 312.299 Q104.534 312.299 102.728 311.952 Q100.922 311.605 98.978 310.91 M108.283 296.258 Q111.432 296.258 113.26 294.105 Q115.112 291.952 115.112 288.202 Q115.112 284.475 113.26 282.322 Q111.432 280.147 108.283 280.147 Q105.135 280.147 103.284 282.322 Q101.455 284.475 101.455 288.202 Q101.455 291.952 103.284 294.105 Q105.135 296.258 108.283 296.258 Z\" fill=\"#000000\" fill-rule=\"nonzero\" fill-opacity=\"1\" /><path clip-path=\"url(#clip050)\" d=\"M54.2328 101.321 L61.8717 101.321 L61.8717 74.9555 L53.5616 76.6222 L53.5616 72.3629 L61.8254 70.6963 L66.5013 70.6963 L66.5013 101.321 L74.1402 101.321 L74.1402 105.256 L54.2328 105.256 L54.2328 101.321 Z\" fill=\"#000000\" fill-rule=\"nonzero\" fill-opacity=\"1\" /><path clip-path=\"url(#clip050)\" d=\"M83.5845 99.3767 L88.4688 99.3767 L88.4688 105.256 L83.5845 105.256 L83.5845 99.3767 Z\" fill=\"#000000\" fill-rule=\"nonzero\" fill-opacity=\"1\" /><path clip-path=\"url(#clip050)\" d=\"M108.654 73.775 Q105.043 73.775 103.214 77.3398 Q101.409 80.8814 101.409 88.011 Q101.409 95.1174 103.214 98.6822 Q105.043 102.224 108.654 102.224 Q112.288 102.224 114.094 98.6822 Q115.922 95.1174 115.922 88.011 Q115.922 80.8814 114.094 77.3398 Q112.288 73.775 108.654 73.775 M108.654 70.0713 Q114.464 70.0713 117.52 74.6777 Q120.598 79.261 120.598 88.011 Q120.598 96.7378 117.52 101.344 Q114.464 105.928 108.654 105.928 Q102.844 105.928 99.765 101.344 Q96.7095 96.7378 96.7095 88.011 Q96.7095 79.261 99.765 74.6777 Q102.844 70.0713 108.654 70.0713 Z\" fill=\"#000000\" fill-rule=\"nonzero\" fill-opacity=\"1\" /><polyline clip-path=\"url(#clip052)\" style=\"stroke:#009af9; stroke-linecap:round; stroke-linejoin:round; stroke-width:4; stroke-opacity:1; fill:none\" points=\"218.754,1369.38 232.242,1366.82 356.966,1342.84 431.92,1328.08 495.293,1315.38 564.133,1301.37 627.598,1288.25 695.639,1273.96 774.471,1257.1 844.528,1241.84 905.961,1228.25 972.94,1213.21 1040.32,1197.82 1114.81,1180.52 1185.69,1163.76 1259.39,1146.03 1321.42,1130.87 1397.17,1112.03 1466.55,1094.48 1530.63,1078 1595.54,1061.05 1668.29,1041.73 1734.21,1023.93 1809.69,1003.2 1879.57,983.671 1948.47,964.088 2015.36,944.76 2083.94,924.62 2159.07,902.169 2268.21,868.82 2290.6,861.87 \"/>\n",
       "<polyline clip-path=\"url(#clip052)\" style=\"stroke:#e26f46; stroke-linecap:round; stroke-linejoin:round; stroke-width:4; stroke-opacity:1; fill:none\" points=\"218.754,1445.72 232.242,1443.41 356.966,1421.77 431.92,1408.45 495.293,1396.99 564.133,1384.35 627.598,1372.51 695.639,1359.61 774.471,1344.39 809.499,1337.54 844.528,1330.63 859.886,1327.58 875.244,1321.7 890.603,1313.46 905.961,1305.13 939.45,1286.69 972.94,1267.84 1006.63,1248.47 1040.32,1228.68 1114.81,1183.35 1185.69,1138.16 1259.39,1088.93 1321.42,1045.64 1397.17,990.392 1466.55,937.363 1530.63,886.238 1595.54,832.255 1668.29,769.014 1734.21,709.094 1809.69,637.294 1879.57,567.631 1948.47,495.815 2015.36,422.974 2049.65,384.405 2083.94,344.976 2121.5,300.766 2159.07,255.474 2213.64,187.698 2268.21,117.5 2279.41,102.791 2290.6,87.9763 \"/>\n",
       "<path clip-path=\"url(#clip050)\" d=\"M229.803 250.738 L501.85 250.738 L501.85 95.2176 L229.803 95.2176  Z\" fill=\"#ffffff\" fill-rule=\"evenodd\" fill-opacity=\"1\"/>\n",
       "<polyline clip-path=\"url(#clip050)\" style=\"stroke:#000000; stroke-linecap:round; stroke-linejoin:round; stroke-width:4; stroke-opacity:1; fill:none\" points=\"229.803,250.738 501.85,250.738 501.85,95.2176 229.803,95.2176 229.803,250.738 \"/>\n",
       "<polyline clip-path=\"url(#clip050)\" style=\"stroke:#009af9; stroke-linecap:round; stroke-linejoin:round; stroke-width:4; stroke-opacity:1; fill:none\" points=\"254.205,147.058 400.616,147.058 \"/>\n",
       "<path clip-path=\"url(#clip050)\" d=\"M438.86 166.745 Q437.054 171.375 435.342 172.787 Q433.629 174.199 430.758 174.199 L427.355 174.199 L427.355 170.634 L429.855 170.634 Q431.615 170.634 432.587 169.8 Q433.559 168.967 434.74 165.865 L435.504 163.921 L425.018 138.412 L429.531 138.412 L437.633 158.689 L445.735 138.412 L450.249 138.412 L438.86 166.745 Z\" fill=\"#000000\" fill-rule=\"nonzero\" fill-opacity=\"1\" /><path clip-path=\"url(#clip050)\" d=\"M457.54 160.402 L465.179 160.402 L465.179 134.037 L456.869 135.703 L456.869 131.444 L465.133 129.778 L469.809 129.778 L469.809 160.402 L477.448 160.402 L477.448 164.338 L457.54 164.338 L457.54 160.402 Z\" fill=\"#000000\" fill-rule=\"nonzero\" fill-opacity=\"1\" /><polyline clip-path=\"url(#clip050)\" style=\"stroke:#e26f46; stroke-linecap:round; stroke-linejoin:round; stroke-width:4; stroke-opacity:1; fill:none\" points=\"254.205,198.898 400.616,198.898 \"/>\n",
       "<path clip-path=\"url(#clip050)\" d=\"M438.86 218.585 Q437.054 223.215 435.342 224.627 Q433.629 226.039 430.758 226.039 L427.355 226.039 L427.355 222.474 L429.855 222.474 Q431.615 222.474 432.587 221.64 Q433.559 220.807 434.74 217.705 L435.504 215.761 L425.018 190.252 L429.531 190.252 L437.633 210.529 L445.735 190.252 L450.249 190.252 L438.86 218.585 Z\" fill=\"#000000\" fill-rule=\"nonzero\" fill-opacity=\"1\" /><path clip-path=\"url(#clip050)\" d=\"M460.758 212.242 L477.077 212.242 L477.077 216.178 L455.133 216.178 L455.133 212.242 Q457.795 209.488 462.378 204.858 Q466.985 200.205 468.165 198.863 Q470.411 196.34 471.29 194.604 Q472.193 192.844 472.193 191.155 Q472.193 188.4 470.249 186.664 Q468.327 184.928 465.226 184.928 Q463.027 184.928 460.573 185.692 Q458.142 186.455 455.365 188.006 L455.365 183.284 Q458.189 182.15 460.642 181.571 Q463.096 180.993 465.133 180.993 Q470.503 180.993 473.698 183.678 Q476.892 186.363 476.892 190.854 Q476.892 192.983 476.082 194.905 Q475.295 196.803 473.189 199.395 Q472.61 200.067 469.508 203.284 Q466.406 206.479 460.758 212.242 Z\" fill=\"#000000\" fill-rule=\"nonzero\" fill-opacity=\"1\" /></svg>\n"
      ]
     },
     "execution_count": 33,
     "metadata": {},
     "output_type": "execute_result"
    }
   ],
   "source": [
    "# expected surplus without then with\n",
    "s_lot(x,b)"
   ]
  },
  {
   "cell_type": "code",
   "execution_count": 34,
   "id": "12d0a18d-1d3d-47cf-a051-a1040da1f19e",
   "metadata": {},
   "outputs": [
    {
     "data": {
      "text/latex": [
       "$0.150422947133609$"
      ],
      "text/plain": [
       "0.150422947133609"
      ]
     },
     "execution_count": 34,
     "metadata": {},
     "output_type": "execute_result"
    }
   ],
   "source": [
    "(integrate(i_surplus_with(x,b),0,1)-integrate(i_surplus_without(x,b),0,1))/integrate(i_surplus_without(x,b),0,1)"
   ]
  },
  {
   "cell_type": "code",
   "execution_count": 35,
   "id": "4d5d8534-f078-42fa-95ec-65120939ee7c",
   "metadata": {},
   "outputs": [
    {
     "data": {
      "text/latex": [
       "$0.112537047772906$"
      ],
      "text/plain": [
       "0.112537047772906"
      ]
     },
     "execution_count": 35,
     "metadata": {},
     "output_type": "execute_result"
    }
   ],
   "source": [
    "integrate(i_Prob_without(x,b),0,1)-integrate(i_Prob_with(x,b),0,1)"
   ]
  }
 ],
 "metadata": {
  "kernelspec": {
   "display_name": "Julia 1.8.5",
   "language": "julia",
   "name": "julia-1.8"
  },
  "language_info": {
   "file_extension": ".jl",
   "mimetype": "application/julia",
   "name": "julia",
   "version": "1.8.5"
  }
 },
 "nbformat": 4,
 "nbformat_minor": 5
}
