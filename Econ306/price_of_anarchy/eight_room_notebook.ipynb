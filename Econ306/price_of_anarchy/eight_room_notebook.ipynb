{
 "cells": [
  {
   "cell_type": "markdown",
   "metadata": {},
   "source": [
    "### Loading Dependencies"
   ]
  },
  {
   "cell_type": "code",
   "execution_count": 1,
   "metadata": {},
   "outputs": [],
   "source": [
    "#using Pkg\n",
    "#Pkg.add(\"LinearAlgebra\")\n",
    "#Pkg.add(\"Distributions\")\n",
    "#Pkg.add(\"Random\")\n",
    "#Pkg.add(\"NLsolve\")\n",
    "using LinearAlgebra,NLsolve, Random, Distributions"
   ]
  },
  {
   "cell_type": "markdown",
   "metadata": {},
   "source": [
    "# Pure Strategy Equilibria\n",
    "\n",
    "We start by defining basic functions. These functions are given by:\n",
    "* sig_mi(i,K): This function returns $K_{-i}$ for a given $K$.\n",
    "* sig_prof(i,k,K): This function returns the vector $(K_1,K_2,\\dots,K_{i-1},k,K_{i+1},\\dots,K_{N})$ for a given $i,k,K$\n",
    "* Utmp(i,K,Room_pay): Returns a vector where component $l$ represents prize the player $i$ will recieve if they choose $l$ for a given opponent action profile stored in K. Room_pay can be varied here. "
   ]
  },
  {
   "cell_type": "code",
   "execution_count": 2,
   "metadata": {},
   "outputs": [
    {
     "data": {
      "text/plain": [
       "Utmp (generic function with 1 method)"
      ]
     },
     "execution_count": 2,
     "metadata": {},
     "output_type": "execute_result"
    }
   ],
   "source": [
    "#Function to return vector of opponent strategy profile\n",
    "function sig_mi(i,K)\n",
    "    Kret=ones(length(K)-1)\n",
    "    kind=1\n",
    "    for j=1:length(K)\n",
    "        if(j!=i)\n",
    "            Kret[kind]=K[j]\n",
    "            kind=kind+1\n",
    "        end\n",
    "    end\n",
    "    return Kret\n",
    "end\n",
    "#Function to return vector of opponent strategy profile\n",
    "function sig_prof(i,k,K)\n",
    "    Kret=ones(length(K))\n",
    "    for j=1:length(K)\n",
    "        if(j!=i)\n",
    "            Kret[j]=K[j]\n",
    "        end\n",
    "        if(j==i)\n",
    "            Kret[j]=k\n",
    "        end\n",
    "    end\n",
    "    return Kret\n",
    "end\n",
    "#Function to return player utility vector\n",
    "function Utmp(i,K,Room_pay)\n",
    "    U_vec=ones(length(Room_pay))\n",
    "    K_mi=sig_mi(i,K)\n",
    "    for k=1:length(Room_pay)\n",
    "        Ktmp=vcat(k,K_mi)\n",
    "        U_vec[k]=Room_pay[k]./sum((Ktmp.==k))\n",
    "    end\n",
    "    return U_vec\n",
    "end"
   ]
  },
  {
   "cell_type": "markdown",
   "metadata": {},
   "source": [
    "##  Algorithm\n",
    "The algorithm is as followed:\n",
    "* Guess $K_o$\n",
    "* Let $U_{i,o}\\leftarrow U_{i}(K_o)$ for all $i=1,2,\\dots,N$\n",
    "* Let $U_{i,n}\\leftarrow 1$ for all $i=1,2,\\dots,N$\n",
    "* $t_{check}=0$\n",
    "* while $\\left\\lVert U_{n}-U_{o}\\right\\rVert>0$ do\n",
    "    - for i=1:N\n",
    "        + if($t_{check}>0$)\n",
    "            * $U_o\\leftarrow U_{n}$\n",
    "            * $K_o\\leftarrow K_{n}$\n",
    "        + end\n",
    "        + $U_{i,n} \\leftarrow \\max_{k} \\left\\{U_i(k,K_{-i,o})\\right\\}$\n",
    "        + $K_{i,n} \\leftarrow \\arg\\max_{k} \\left\\{U_i(k,K_{-i,o})\\right\\}$\n",
    "        + $t_{check}\\leftarrow t_{check}+1$\n",
    "    + end\n",
    "* end\n",
    "\n",
    "The algorithm Terminates in finie steps if a PSNE exists     "
   ]
  },
  {
   "cell_type": "code",
   "execution_count": 3,
   "metadata": {},
   "outputs": [
    {
     "data": {
      "text/plain": [
       "Find_PSNE (generic function with 1 method)"
      ]
     },
     "execution_count": 3,
     "metadata": {},
     "output_type": "execute_result"
    }
   ],
   "source": [
    "#The algorithm\n",
    "function Find_PSNE(Num_p,K_old,Room_pay)\n",
    "    #Initial Pay_off\n",
    "    U_old=ones(Num_p)\n",
    "    for i=1:length(K_old)\n",
    "        U_old[i]=Room_pay[K_old[i]]./sum((K_old.==K_old[i]))\n",
    "    end\n",
    "    iters=0\n",
    "    checks=0\n",
    "    U_nxt=ones(Num_p)\n",
    "    K_nxt=ones(Num_p)\n",
    "    while  norm(U_nxt-U_old)>0\n",
    "        for i=1:Num_p\n",
    "            if(checks>0)\n",
    "                U_old[:]=U_nxt[:]\n",
    "                K_old[:]=K_nxt[:]\n",
    "            end\n",
    "            U_vec=Utmp(i,K_old,Room_pay)\n",
    "            m_Utmp,m_ktmp=findmax(U_vec)\n",
    "            K_nxt=sig_prof(i,m_ktmp,K_old)\n",
    "            U_nxt=sig_prof(i,m_Utmp,U_old)\n",
    "            checks+=1\n",
    "        end\n",
    "        iters+=1\n",
    "    end\n",
    "    return U_nxt,K_nxt\n",
    "end"
   ]
  },
  {
   "cell_type": "markdown",
   "metadata": {},
   "source": [
    "# RUNNING THE CODE\n",
    "### Specify initial requirements"
   ]
  },
  {
   "cell_type": "code",
   "execution_count": 4,
   "metadata": {},
   "outputs": [
    {
     "name": "stdout",
     "output_type": "stream",
     "text": [
      "The Guess Profile is Given By\n",
      "Player 1 initial Room Number 8\n",
      "Player 2 initial Room Number 8\n",
      "Player 3 initial Room Number 8\n",
      "Player 4 initial Room Number 8\n",
      "Player 5 initial Room Number 8\n",
      "Player 6 initial Room Number 8\n",
      "Player 7 initial Room Number 8\n",
      "Player 8 initial Room Number 8\n"
     ]
    }
   ],
   "source": [
    "#Specify Number of Players\n",
    "Num_p=8\n",
    "#Specify Room specific pay-off function\n",
    "Room_pay=vcat(40,50*ones(3),70*ones(3),100);\n",
    "#Strating Guess\n",
    "K_old=8 .*ones(Int64,Num_p)\n",
    "print(\"The Guess Profile is Given By\\n\")\n",
    "for i=1:Num_p\n",
    "    print(string(\"Player \",i,\" initial Room Number \",K_old[i],\"\\n\"))\n",
    "end"
   ]
  },
  {
   "cell_type": "markdown",
   "metadata": {},
   "source": [
    "### Run Code to find one equilibria"
   ]
  },
  {
   "cell_type": "code",
   "execution_count": 5,
   "metadata": {},
   "outputs": [
    {
     "name": "stdout",
     "output_type": "stream",
     "text": [
      "The Equilibrium Profile is Given By\n",
      "Player 1 Chooses Room Number 5.0. Their prize is 70.0\n",
      "Player 2 Chooses Room Number 6.0. Their prize is 70.0\n",
      "Player 3 Chooses Room Number 7.0. Their prize is 70.0\n",
      "Player 4 Chooses Room Number 2.0. Their prize is 50.0\n",
      "Player 5 Chooses Room Number 3.0. Their prize is 50.0\n",
      "Player 6 Chooses Room Number 4.0. Their prize is 50.0\n",
      "Player 7 Chooses Room Number 8.0. Their prize is 50.0\n",
      "Player 8 Chooses Room Number 8.0. Their prize is 50.0\n"
     ]
    }
   ],
   "source": [
    "U_nxt,K_nxt=Find_PSNE(Num_p,K_old,Room_pay);\n",
    "print(\"The Equilibrium Profile is Given By\\n\")\n",
    "for i=1:Num_p\n",
    "    print(string(\"Player \",i,\" Chooses Room Number \",K_nxt[i],\". Their prize is \",U_nxt[i],\"\\n\"))\n",
    "end"
   ]
  },
  {
   "cell_type": "markdown",
   "metadata": {},
   "source": [
    "### Another Equilibria"
   ]
  },
  {
   "cell_type": "code",
   "execution_count": 6,
   "metadata": {},
   "outputs": [
    {
     "name": "stdout",
     "output_type": "stream",
     "text": [
      "The Guess Profile is Given By\n",
      "Player 1 initial Room Number 1\n",
      "Player 2 initial Room Number 1\n",
      "Player 3 initial Room Number 1\n",
      "Player 4 initial Room Number 1\n",
      "Player 5 initial Room Number 1\n",
      "Player 6 initial Room Number 1\n",
      "Player 7 initial Room Number 1\n",
      "Player 8 initial Room Number 1\n",
      "The Equilibrium Profile is Given By\n",
      "Player 1 Chooses Room Number 8.0. Their prize is 50.0\n",
      "Player 2 Chooses Room Number 5.0. Their prize is 70.0\n",
      "Player 3 Chooses Room Number 6.0. Their prize is 70.0\n",
      "Player 4 Chooses Room Number 7.0. Their prize is 70.0\n",
      "Player 5 Chooses Room Number 2.0. Their prize is 50.0\n",
      "Player 6 Chooses Room Number 3.0. Their prize is 50.0\n",
      "Player 7 Chooses Room Number 4.0. Their prize is 50.0\n",
      "Player 8 Chooses Room Number 8.0. Their prize is 50.0\n"
     ]
    }
   ],
   "source": [
    "#Specify Number of Players\n",
    "Num_p=8\n",
    "#Specify Room specific pay-off function\n",
    "Room_pay=vcat(40,50*ones(3),70*ones(3),100);\n",
    "#Starting Guess\n",
    "K_old=1 .*ones(Int64,Num_p)\n",
    "print(\"The Guess Profile is Given By\\n\")\n",
    "for i=1:Num_p\n",
    "    print(string(\"Player \",i,\" initial Room Number \",K_old[i],\"\\n\"))\n",
    "end\n",
    "U_nxt,K_nxt=Find_PSNE(Num_p,K_old,Room_pay);\n",
    "print(\"The Equilibrium Profile is Given By\\n\")\n",
    "for i=1:Num_p\n",
    "    print(string(\"Player \",i,\" Chooses Room Number \",K_nxt[i],\". Their prize is \",U_nxt[i],\"\\n\"))\n",
    "end"
   ]
  },
  {
   "cell_type": "markdown",
   "metadata": {},
   "source": [
    "# Mixed Strategy Equilibrium\n",
    "\n",
    "### Search for Symmetric Mixed Strategy Equilibria\n",
    "\n",
    "Recall the indifference conditions we use that and the fact $\\sigma_1,\\sigma_2,\\dots,\\sigma_8$ is a probability mass function.\n",
    "\n",
    "Suppose player $1$ choose room $k$, given his opponents choose room $k$ with probability $\\sigma_k$ each independently. Then his expected utility is given by:\n",
    "$$U_{1}(k;\\sigma_{-i})=\\sum_{x=0}^7\\frac{m_k}{x+1}\\binom{N-1}{x}\\sigma_k^x(1-\\sigma_k)^{N-1-X} $$\n",
    "\n",
    "We solve for equations:\n",
    "$$U_{i}-U_{1}=0 \\hspace{4mm} \\forall \\hspace{2mm}i=2,3,\\dots,8 $$\n",
    "and \n",
    "$$1-\\sum_{i=1}^8\\sigma_i=0$$\n",
    "\n",
    "We have 8 equations and 8 unknowns"
   ]
  },
  {
   "cell_type": "code",
   "execution_count": 7,
   "metadata": {},
   "outputs": [
    {
     "data": {
      "text/plain": [
       "ret_res (generic function with 1 method)"
      ]
     },
     "execution_count": 7,
     "metadata": {},
     "output_type": "execute_result"
    }
   ],
   "source": [
    "function ret_res(Num_P,Room_pay,sig_strat)\n",
    "    Ret_vec=zeros(8)\n",
    "    Pay_offRm=zeros(8)\n",
    "    for l=1:8\n",
    "        for x=0:7\n",
    "            Pay_offRm[l]+=Room_pay[l]/(x+1)*binomial(Num_p-1,x)*sig_strat[l]^x*(1-sig_strat[l])^(Num_p-1-x)\n",
    "        end\n",
    "    end\n",
    "    for l=2:8\n",
    "        Ret_vec[l-1]=Pay_offRm[l]-Pay_offRm[1]\n",
    "    end\n",
    "    Ret_vec[8]=sum(sig_strat)-1;\n",
    "    return Ret_vec\n",
    "end"
   ]
  },
  {
   "cell_type": "code",
   "execution_count": 8,
   "metadata": {},
   "outputs": [
    {
     "name": "stdout",
     "output_type": "stream",
     "text": [
      "Iter     f(x) inf-norm    Step 2-norm \n",
      "------   --------------   --------------\n",
      "     0     3.938347e+01              NaN\n",
      "     1     3.535852e+00     2.295869e-01\n",
      "     2     2.354455e-01     4.459443e-02\n",
      "     3     1.082001e-03     2.433612e-03\n",
      "     4     1.459777e-08     9.001552e-06\n",
      "     5     1.421085e-14     1.263819e-10\n"
     ]
    },
    {
     "data": {
      "text/plain": [
       "8-element Vector{Float64}:\n",
       " 0.0005900395709165937\n",
       " 0.06553637288318381\n",
       " 0.06553637288318374\n",
       " 0.06553637288318374\n",
       " 0.16967796808971655\n",
       " 0.16967796808971655\n",
       " 0.16967796808971655\n",
       " 0.2937669375103824"
      ]
     },
     "execution_count": 8,
     "metadata": {},
     "output_type": "execute_result"
    }
   ],
   "source": [
    "function solve_fun(sig_strat)\n",
    "    return ret_res(Num_p,Room_pay,sig_strat)\n",
    "end\n",
    "initial_guess= ones(8)./8\n",
    "soln_model=nlsolve(solve_fun,initial_guess,show_trace=true)\n",
    "soln_model.zero"
   ]
  },
  {
   "cell_type": "markdown",
   "metadata": {},
   "source": [
    "# Mixed Strategy with theoretical assistance"
   ]
  },
  {
   "cell_type": "markdown",
   "metadata": {},
   "source": [
    "The payoff in room 1 is 40.  In any pure strategy equilibrium. a player who os evaluating knows where every other player is going to go.  Given the progile of strategies the others are using, and one of the other rooms is empty, then the player will prefer the empty room because all other rooms have payoffs above 40. The only other possibility is that each other room is being chosen by at least one player.  Then 7 rooms and 7 players mean that in this case each room has exactly one player, which makes the payoff to visiting room 8 50 > 40. So room 1 is strictly dominated.\n",
    "\n",
    "This simplifies the symmetric mixed strategy equilibrium because we can set $\\pi_1 = 0$.\n",
    "\n",
    "The second simplification comes from the fact that rooms 2,3,4 are identical, and rooms 5,6,7 are identical.  Then we can assume \n",
    "$$\n",
    "\\pi_2 = \\pi_3 = \\pi_4\n",
    "$$\n",
    "and \n",
    "$$\n",
    "\\pi_5=\\pi_6=\\pi_7\n",
    "$$\n",
    "To find the symmetric Nash equilibrium, solve\n",
    "$$\n",
    "\\sum_{i=0}^{7}\\frac{7!}{i!(7-i)!}\\pi_2^i (1-\\pi_2)^{7-i} \\frac{50}{i+1} = \\sum_{i=0}^{7}\\frac{7!}{i!(7-i)!}\\pi_5^i (1-\\pi_5)^{7-i} \\frac{70}{i+1}\n",
    "$$\n",
    "\n",
    "$$\n",
    "\\sum_{i=0}^{7}\\frac{7!}{i!(7-i)!}\\pi_2^i (1-\\pi_2)^{7-i} \\frac{50}{i+1} = \\sum_{i=0}^{7}\\frac{7!}{i!(7-i)!}\\pi_8^i (1-\\pi_8)^{7-i} \\frac{100}{i+1}\n",
    "$$\n",
    "along with the equation\n",
    "$$\n",
    "\\pi_8 = 1 -3\\pi_2 - 3\\pi_5\n",
    "$$"
   ]
  },
  {
   "cell_type": "code",
   "execution_count": 7,
   "metadata": {},
   "outputs": [
    {
     "name": "stderr",
     "output_type": "stream",
     "text": [
      "\u001b[32m\u001b[1m   Resolving\u001b[22m\u001b[39m package versions...\n",
      "\u001b[32m\u001b[1m  No Changes\u001b[22m\u001b[39m to `~/.julia/environments/v1.7/Project.toml`\n",
      "\u001b[32m\u001b[1m  No Changes\u001b[22m\u001b[39m to `~/.julia/environments/v1.7/Manifest.toml`\n"
     ]
    },
    {
     "data": {
      "text/plain": [
       "(pi_2, pi_5, pi_8)"
      ]
     },
     "execution_count": 7,
     "metadata": {},
     "output_type": "execute_result"
    }
   ],
   "source": [
    "#using Pkg\n",
    "#Pkg.add(\"SymPy\")\n",
    "using SymPy\n",
    "pi_2,pi_5,pi_8 = symbols(\"pi_2,pi_5, pi_8\")"
   ]
  },
  {
   "cell_type": "code",
   "execution_count": 16,
   "metadata": {},
   "outputs": [
    {
     "data": {
      "text/plain": [
       "bisum (generic function with 1 method)"
      ]
     },
     "execution_count": 16,
     "metadata": {},
     "output_type": "execute_result"
    }
   ],
   "source": [
    "function bisum(x,r)\n",
    "    sum = 0\n",
    "    for i in 0:7\n",
    "        sum += (factorial(7)/(factorial(i)*factorial(7-i))) *x^i * (1-x)^(7-i) * r/(i+1)\n",
    "    end\n",
    "    return sum\n",
    "end\n",
    "        "
   ]
  },
  {
   "cell_type": "code",
   "execution_count": 20,
   "metadata": {},
   "outputs": [
    {
     "data": {
      "text/latex": [
       "$6.25 \\pi_{2}^{7} + 50.0 \\pi_{2}^{6} \\left(1 - \\pi_{2}\\right) + 175.0 \\pi_{2}^{5} \\left(1 - \\pi_{2}\\right)^{2} + 350.0 \\pi_{2}^{4} \\left(1 - \\pi_{2}\\right)^{3} + 437.5 \\pi_{2}^{3} \\left(1 - \\pi_{2}\\right)^{4} + 350.0 \\pi_{2}^{2} \\left(1 - \\pi_{2}\\right)^{5} + 175.0 \\pi_{2} \\left(1 - \\pi_{2}\\right)^{6} + 50.0 \\left(1 - \\pi_{2}\\right)^{7}$"
      ],
      "text/plain": [
       "       7          6                    5         2           4         3      \n",
       "6.25⋅π₂  + 50.0⋅π₂ ⋅(1 - π₂) + 175.0⋅π₂ ⋅(1 - π₂)  + 350.0⋅π₂ ⋅(1 - π₂)  + 437\n",
       "\n",
       "     3         4           2         5                    6                7\n",
       ".5⋅π₂ ⋅(1 - π₂)  + 350.0⋅π₂ ⋅(1 - π₂)  + 175.0⋅π₂⋅(1 - π₂)  + 50.0⋅(1 - π₂) "
      ]
     },
     "execution_count": 20,
     "metadata": {},
     "output_type": "execute_result"
    }
   ],
   "source": [
    "bisum(pi_2, 50)"
   ]
  },
  {
   "cell_type": "markdown",
   "metadata": {},
   "source": [
    "If you use solve on this system it won't find solutions, so you need nsolve"
   ]
  },
  {
   "cell_type": "code",
   "execution_count": 27,
   "metadata": {},
   "outputs": [
    {
     "data": {
      "text/latex": [
       "$\\left[ \\begin{array}{r}0.0656145771364897859155444939525416635970757607844092581803039380096473779264\\\\0.1697634105296091051109250028257818667174966948010267516043503133590974799449\\\\0.2938660370017033269205915096650294090562826332436919706460372458937654263863\\end{array}\\right]$\n"
      ],
      "text/plain": [
       "3×1 Matrix{Sym}:\n",
       " 0.06561457713648978591554449395254166359707576078440925818030393800964737792640\n",
       "  0.1697634105296091051109250028257818667174966948010267516043503133590974799449\n",
       "  0.2938660370017033269205915096650294090562826332436919706460372458937654263863"
      ]
     },
     "execution_count": 27,
     "metadata": {},
     "output_type": "execute_result"
    }
   ],
   "source": [
    "nsolve([bisum(pi_2,50)-bisum(pi_5,70),bisum(pi_2,50)-bisum(pi_8,100),pi_8-(1-3*pi_2-3*pi_5)], (pi_2,pi_5,pi_8),(1/3,1/3,1/3))"
   ]
  }
 ],
 "metadata": {
  "kernelspec": {
   "display_name": "Julia 1.7.3",
   "language": "julia",
   "name": "julia-1.7"
  },
  "language_info": {
   "file_extension": ".jl",
   "mimetype": "application/julia",
   "name": "julia",
   "version": "1.7.3"
  }
 },
 "nbformat": 4,
 "nbformat_minor": 4
}
