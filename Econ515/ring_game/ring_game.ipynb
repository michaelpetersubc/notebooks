{
 "cells": [
  {
   "cell_type": "markdown",
   "metadata": {
    "slideshow": {
     "slide_type": "slide"
    }
   },
   "source": [
    "This notebook describes a paper by Terri Kneeland's experiment on the ring game.  You can see Terri's paper at [Identifying Higher Order Rationality](http://terri.microeconomics.ca/research/ecta11983.pdf)  The purpose of her experiment was to estimate how much dispersion there is in subjects 'level of reasoning' - i.e., their ability to reason about other players; reasoning in a game.  \n",
    "\n",
    "This notebook estimates these levels in a slightly different way than she does in her paper.  The approach here is not meant to dispute any of her conclusions.  Instead, this note is intended to illustrate a number of techniques that are useful much more broadly.\n",
    "\n",
    "First we'll show how to use some of the features of jupyter notebooks to go through a basic research problem .  You can see how to use use latex to write your arguments formally. We'll use some simple python commands to try to get some insight into the data from her experiment.  We'll use the sagemath kernel in order to do some simple symbolic algebra.\n",
    "\n",
    "The main point is to illustrate how basic game theoretic logic can be used to provide a structure within which you can 'estimate' the distribution of unknowns within the data.  We'll actually do the estimation as well, so you can see how jupyter notebooks can be used to organize your work.\n",
    "\n",
    "Much of the analysis in Kneeland's model is based on something called [K-level reasoning](https://www.google.com/url?sa=t&rct=j&q=&esrc=s&source=web&cd=3&cad=rja&uact=8&ved=2ahUKEwjgg6n5xqfnAhXHHjQIHfm6CgEQFjACegQIAxAB&url=https%3A%2F%2Fen.wikipedia.org%2Fwiki%2FCognitive_hierarchy_theory&usg=AOvVaw1H-IrhG9DJTd9H-1GhPpNs).  We'll use a very strict interpretation of that model here.  We'll also carry along another type of player we'll call a 'Nash' player.  In Nash equilibrium players best reply to the correct distribution of actions of the other players.  We'll identify a Nash player as a player who best replies to the actual distribution of actions of the other players.\n"
   ]
  },
  {
   "cell_type": "markdown",
   "metadata": {},
   "source": [
    "The first thing we'll do is look directly at the data from the experiment.  Thanks here to Terri Kneeland for making the data available. \n",
    "\n",
    "The first bit just loads some python libraries (particularly pandas - tons of documentation about it on the internet).  The os library is for reading files."
   ]
  },
  {
   "cell_type": "code",
   "execution_count": 1,
   "metadata": {
    "collapsed": false,
    "jupyter": {
     "outputs_hidden": false
    },
    "slideshow": {
     "slide_type": "slide"
    }
   },
   "outputs": [],
   "source": [
    "import pandas as pd\n",
    "import matplotlib.pyplot as plt\n",
    "import numpy as np\n",
    "from sympy import *\n",
    "import os\n",
    "dataset = pd.read_csv('ecma_data.csv')"
   ]
  },
  {
   "cell_type": "markdown",
   "metadata": {},
   "source": [
    "Now we can look at the dataset."
   ]
  },
  {
   "cell_type": "code",
   "execution_count": 2,
   "metadata": {
    "collapsed": false,
    "jupyter": {
     "outputs_hidden": false
    },
    "slideshow": {
     "slide_type": "slide"
    }
   },
   "outputs": [
    {
     "data": {
      "text/html": [
       "<style type=\"text/css\">\n",
       "</style>\n",
       "<table id=\"T_2f882\">\n",
       "  <thead>\n",
       "    <tr>\n",
       "      <th class=\"blank level0\" >&nbsp;</th>\n",
       "      <th id=\"T_2f882_level0_col0\" class=\"col_heading level0 col0\" >Subject</th>\n",
       "      <th id=\"T_2f882_level0_col1\" class=\"col_heading level0 col1\" >G1P1</th>\n",
       "      <th id=\"T_2f882_level0_col2\" class=\"col_heading level0 col2\" >G1P2</th>\n",
       "      <th id=\"T_2f882_level0_col3\" class=\"col_heading level0 col3\" >G1P3</th>\n",
       "      <th id=\"T_2f882_level0_col4\" class=\"col_heading level0 col4\" >G1P4</th>\n",
       "      <th id=\"T_2f882_level0_col5\" class=\"col_heading level0 col5\" >G2P1</th>\n",
       "      <th id=\"T_2f882_level0_col6\" class=\"col_heading level0 col6\" >G2P2</th>\n",
       "      <th id=\"T_2f882_level0_col7\" class=\"col_heading level0 col7\" >G2P3</th>\n",
       "      <th id=\"T_2f882_level0_col8\" class=\"col_heading level0 col8\" >G2P4</th>\n",
       "    </tr>\n",
       "  </thead>\n",
       "  <tbody>\n",
       "    <tr>\n",
       "      <th id=\"T_2f882_level0_row0\" class=\"row_heading level0 row0\" >0</th>\n",
       "      <td id=\"T_2f882_row0_col0\" class=\"data row0 col0\" >1</td>\n",
       "      <td id=\"T_2f882_row0_col1\" class=\"data row0 col1\" >1</td>\n",
       "      <td id=\"T_2f882_row0_col2\" class=\"data row0 col2\" >3</td>\n",
       "      <td id=\"T_2f882_row0_col3\" class=\"data row0 col3\" >2</td>\n",
       "      <td id=\"T_2f882_row0_col4\" class=\"data row0 col4\" >3</td>\n",
       "      <td id=\"T_2f882_row0_col5\" class=\"data row0 col5\" >1</td>\n",
       "      <td id=\"T_2f882_row0_col6\" class=\"data row0 col6\" >1</td>\n",
       "      <td id=\"T_2f882_row0_col7\" class=\"data row0 col7\" >2</td>\n",
       "      <td id=\"T_2f882_row0_col8\" class=\"data row0 col8\" >3</td>\n",
       "    </tr>\n",
       "    <tr>\n",
       "      <th id=\"T_2f882_level0_row1\" class=\"row_heading level0 row1\" >1</th>\n",
       "      <td id=\"T_2f882_row1_col0\" class=\"data row1 col0\" >2</td>\n",
       "      <td id=\"T_2f882_row1_col1\" class=\"data row1 col1\" >2</td>\n",
       "      <td id=\"T_2f882_row1_col2\" class=\"data row1 col2\" >3</td>\n",
       "      <td id=\"T_2f882_row1_col3\" class=\"data row1 col3\" >2</td>\n",
       "      <td id=\"T_2f882_row1_col4\" class=\"data row1 col4\" >2</td>\n",
       "      <td id=\"T_2f882_row1_col5\" class=\"data row1 col5\" >2</td>\n",
       "      <td id=\"T_2f882_row1_col6\" class=\"data row1 col6\" >3</td>\n",
       "      <td id=\"T_2f882_row1_col7\" class=\"data row1 col7\" >3</td>\n",
       "      <td id=\"T_2f882_row1_col8\" class=\"data row1 col8\" >3</td>\n",
       "    </tr>\n",
       "    <tr>\n",
       "      <th id=\"T_2f882_level0_row2\" class=\"row_heading level0 row2\" >2</th>\n",
       "      <td id=\"T_2f882_row2_col0\" class=\"data row2 col0\" >3</td>\n",
       "      <td id=\"T_2f882_row2_col1\" class=\"data row2 col1\" >2</td>\n",
       "      <td id=\"T_2f882_row2_col2\" class=\"data row2 col2\" >1</td>\n",
       "      <td id=\"T_2f882_row2_col3\" class=\"data row2 col3\" >1</td>\n",
       "      <td id=\"T_2f882_row2_col4\" class=\"data row2 col4\" >1</td>\n",
       "      <td id=\"T_2f882_row2_col5\" class=\"data row2 col5\" >1</td>\n",
       "      <td id=\"T_2f882_row2_col6\" class=\"data row2 col6\" >2</td>\n",
       "      <td id=\"T_2f882_row2_col7\" class=\"data row2 col7\" >2</td>\n",
       "      <td id=\"T_2f882_row2_col8\" class=\"data row2 col8\" >2</td>\n",
       "    </tr>\n",
       "    <tr>\n",
       "      <th id=\"T_2f882_level0_row3\" class=\"row_heading level0 row3\" >3</th>\n",
       "      <td id=\"T_2f882_row3_col0\" class=\"data row3 col0\" >4</td>\n",
       "      <td id=\"T_2f882_row3_col1\" class=\"data row3 col1\" >3</td>\n",
       "      <td id=\"T_2f882_row3_col2\" class=\"data row3 col2\" >1</td>\n",
       "      <td id=\"T_2f882_row3_col3\" class=\"data row3 col3\" >2</td>\n",
       "      <td id=\"T_2f882_row3_col4\" class=\"data row3 col4\" >2</td>\n",
       "      <td id=\"T_2f882_row3_col5\" class=\"data row3 col5\" >1</td>\n",
       "      <td id=\"T_2f882_row3_col6\" class=\"data row3 col6\" >2</td>\n",
       "      <td id=\"T_2f882_row3_col7\" class=\"data row3 col7\" >2</td>\n",
       "      <td id=\"T_2f882_row3_col8\" class=\"data row3 col8\" >3</td>\n",
       "    </tr>\n",
       "    <tr>\n",
       "      <th id=\"T_2f882_level0_row4\" class=\"row_heading level0 row4\" >4</th>\n",
       "      <td id=\"T_2f882_row4_col0\" class=\"data row4 col0\" >5</td>\n",
       "      <td id=\"T_2f882_row4_col1\" class=\"data row4 col1\" >3</td>\n",
       "      <td id=\"T_2f882_row4_col2\" class=\"data row4 col2\" >2</td>\n",
       "      <td id=\"T_2f882_row4_col3\" class=\"data row4 col3\" >2</td>\n",
       "      <td id=\"T_2f882_row4_col4\" class=\"data row4 col4\" >1</td>\n",
       "      <td id=\"T_2f882_row4_col5\" class=\"data row4 col5\" >3</td>\n",
       "      <td id=\"T_2f882_row4_col6\" class=\"data row4 col6\" >1</td>\n",
       "      <td id=\"T_2f882_row4_col7\" class=\"data row4 col7\" >1</td>\n",
       "      <td id=\"T_2f882_row4_col8\" class=\"data row4 col8\" >3</td>\n",
       "    </tr>\n",
       "    <tr>\n",
       "      <th id=\"T_2f882_level0_row5\" class=\"row_heading level0 row5\" >5</th>\n",
       "      <td id=\"T_2f882_row5_col0\" class=\"data row5 col0\" >6</td>\n",
       "      <td id=\"T_2f882_row5_col1\" class=\"data row5 col1\" >1</td>\n",
       "      <td id=\"T_2f882_row5_col2\" class=\"data row5 col2\" >2</td>\n",
       "      <td id=\"T_2f882_row5_col3\" class=\"data row5 col3\" >2</td>\n",
       "      <td id=\"T_2f882_row5_col4\" class=\"data row5 col4\" >1</td>\n",
       "      <td id=\"T_2f882_row5_col5\" class=\"data row5 col5\" >3</td>\n",
       "      <td id=\"T_2f882_row5_col6\" class=\"data row5 col6\" >2</td>\n",
       "      <td id=\"T_2f882_row5_col7\" class=\"data row5 col7\" >2</td>\n",
       "      <td id=\"T_2f882_row5_col8\" class=\"data row5 col8\" >3</td>\n",
       "    </tr>\n",
       "    <tr>\n",
       "      <th id=\"T_2f882_level0_row6\" class=\"row_heading level0 row6\" >6</th>\n",
       "      <td id=\"T_2f882_row6_col0\" class=\"data row6 col0\" >7</td>\n",
       "      <td id=\"T_2f882_row6_col1\" class=\"data row6 col1\" >1</td>\n",
       "      <td id=\"T_2f882_row6_col2\" class=\"data row6 col2\" >2</td>\n",
       "      <td id=\"T_2f882_row6_col3\" class=\"data row6 col3\" >1</td>\n",
       "      <td id=\"T_2f882_row6_col4\" class=\"data row6 col4\" >1</td>\n",
       "      <td id=\"T_2f882_row6_col5\" class=\"data row6 col5\" >1</td>\n",
       "      <td id=\"T_2f882_row6_col6\" class=\"data row6 col6\" >2</td>\n",
       "      <td id=\"T_2f882_row6_col7\" class=\"data row6 col7\" >3</td>\n",
       "      <td id=\"T_2f882_row6_col8\" class=\"data row6 col8\" >3</td>\n",
       "    </tr>\n",
       "    <tr>\n",
       "      <th id=\"T_2f882_level0_row7\" class=\"row_heading level0 row7\" >7</th>\n",
       "      <td id=\"T_2f882_row7_col0\" class=\"data row7 col0\" >8</td>\n",
       "      <td id=\"T_2f882_row7_col1\" class=\"data row7 col1\" >1</td>\n",
       "      <td id=\"T_2f882_row7_col2\" class=\"data row7 col2\" >2</td>\n",
       "      <td id=\"T_2f882_row7_col3\" class=\"data row7 col3\" >1</td>\n",
       "      <td id=\"T_2f882_row7_col4\" class=\"data row7 col4\" >1</td>\n",
       "      <td id=\"T_2f882_row7_col5\" class=\"data row7 col5\" >1</td>\n",
       "      <td id=\"T_2f882_row7_col6\" class=\"data row7 col6\" >2</td>\n",
       "      <td id=\"T_2f882_row7_col7\" class=\"data row7 col7\" >3</td>\n",
       "      <td id=\"T_2f882_row7_col8\" class=\"data row7 col8\" >3</td>\n",
       "    </tr>\n",
       "    <tr>\n",
       "      <th id=\"T_2f882_level0_row8\" class=\"row_heading level0 row8\" >8</th>\n",
       "      <td id=\"T_2f882_row8_col0\" class=\"data row8 col0\" >9</td>\n",
       "      <td id=\"T_2f882_row8_col1\" class=\"data row8 col1\" >1</td>\n",
       "      <td id=\"T_2f882_row8_col2\" class=\"data row8 col2\" >2</td>\n",
       "      <td id=\"T_2f882_row8_col3\" class=\"data row8 col3\" >1</td>\n",
       "      <td id=\"T_2f882_row8_col4\" class=\"data row8 col4\" >1</td>\n",
       "      <td id=\"T_2f882_row8_col5\" class=\"data row8 col5\" >1</td>\n",
       "      <td id=\"T_2f882_row8_col6\" class=\"data row8 col6\" >2</td>\n",
       "      <td id=\"T_2f882_row8_col7\" class=\"data row8 col7\" >3</td>\n",
       "      <td id=\"T_2f882_row8_col8\" class=\"data row8 col8\" >3</td>\n",
       "    </tr>\n",
       "    <tr>\n",
       "      <th id=\"T_2f882_level0_row9\" class=\"row_heading level0 row9\" >9</th>\n",
       "      <td id=\"T_2f882_row9_col0\" class=\"data row9 col0\" >10</td>\n",
       "      <td id=\"T_2f882_row9_col1\" class=\"data row9 col1\" >1</td>\n",
       "      <td id=\"T_2f882_row9_col2\" class=\"data row9 col2\" >1</td>\n",
       "      <td id=\"T_2f882_row9_col3\" class=\"data row9 col3\" >1</td>\n",
       "      <td id=\"T_2f882_row9_col4\" class=\"data row9 col4\" >1</td>\n",
       "      <td id=\"T_2f882_row9_col5\" class=\"data row9 col5\" >1</td>\n",
       "      <td id=\"T_2f882_row9_col6\" class=\"data row9 col6\" >2</td>\n",
       "      <td id=\"T_2f882_row9_col7\" class=\"data row9 col7\" >1</td>\n",
       "      <td id=\"T_2f882_row9_col8\" class=\"data row9 col8\" >3</td>\n",
       "    </tr>\n",
       "    <tr>\n",
       "      <th id=\"T_2f882_level0_row10\" class=\"row_heading level0 row10\" >10</th>\n",
       "      <td id=\"T_2f882_row10_col0\" class=\"data row10 col0\" >11</td>\n",
       "      <td id=\"T_2f882_row10_col1\" class=\"data row10 col1\" >1</td>\n",
       "      <td id=\"T_2f882_row10_col2\" class=\"data row10 col2\" >2</td>\n",
       "      <td id=\"T_2f882_row10_col3\" class=\"data row10 col3\" >1</td>\n",
       "      <td id=\"T_2f882_row10_col4\" class=\"data row10 col4\" >1</td>\n",
       "      <td id=\"T_2f882_row10_col5\" class=\"data row10 col5\" >1</td>\n",
       "      <td id=\"T_2f882_row10_col6\" class=\"data row10 col6\" >1</td>\n",
       "      <td id=\"T_2f882_row10_col7\" class=\"data row10 col7\" >1</td>\n",
       "      <td id=\"T_2f882_row10_col8\" class=\"data row10 col8\" >3</td>\n",
       "    </tr>\n",
       "    <tr>\n",
       "      <th id=\"T_2f882_level0_row11\" class=\"row_heading level0 row11\" >11</th>\n",
       "      <td id=\"T_2f882_row11_col0\" class=\"data row11 col0\" >12</td>\n",
       "      <td id=\"T_2f882_row11_col1\" class=\"data row11 col1\" >3</td>\n",
       "      <td id=\"T_2f882_row11_col2\" class=\"data row11 col2\" >2</td>\n",
       "      <td id=\"T_2f882_row11_col3\" class=\"data row11 col3\" >1</td>\n",
       "      <td id=\"T_2f882_row11_col4\" class=\"data row11 col4\" >1</td>\n",
       "      <td id=\"T_2f882_row11_col5\" class=\"data row11 col5\" >1</td>\n",
       "      <td id=\"T_2f882_row11_col6\" class=\"data row11 col6\" >2</td>\n",
       "      <td id=\"T_2f882_row11_col7\" class=\"data row11 col7\" >1</td>\n",
       "      <td id=\"T_2f882_row11_col8\" class=\"data row11 col8\" >3</td>\n",
       "    </tr>\n",
       "    <tr>\n",
       "      <th id=\"T_2f882_level0_row12\" class=\"row_heading level0 row12\" >12</th>\n",
       "      <td id=\"T_2f882_row12_col0\" class=\"data row12 col0\" >13</td>\n",
       "      <td id=\"T_2f882_row12_col1\" class=\"data row12 col1\" >3</td>\n",
       "      <td id=\"T_2f882_row12_col2\" class=\"data row12 col2\" >2</td>\n",
       "      <td id=\"T_2f882_row12_col3\" class=\"data row12 col3\" >2</td>\n",
       "      <td id=\"T_2f882_row12_col4\" class=\"data row12 col4\" >2</td>\n",
       "      <td id=\"T_2f882_row12_col5\" class=\"data row12 col5\" >3</td>\n",
       "      <td id=\"T_2f882_row12_col6\" class=\"data row12 col6\" >2</td>\n",
       "      <td id=\"T_2f882_row12_col7\" class=\"data row12 col7\" >2</td>\n",
       "      <td id=\"T_2f882_row12_col8\" class=\"data row12 col8\" >3</td>\n",
       "    </tr>\n",
       "    <tr>\n",
       "      <th id=\"T_2f882_level0_row13\" class=\"row_heading level0 row13\" >13</th>\n",
       "      <td id=\"T_2f882_row13_col0\" class=\"data row13 col0\" >14</td>\n",
       "      <td id=\"T_2f882_row13_col1\" class=\"data row13 col1\" >1</td>\n",
       "      <td id=\"T_2f882_row13_col2\" class=\"data row13 col2\" >2</td>\n",
       "      <td id=\"T_2f882_row13_col3\" class=\"data row13 col3\" >1</td>\n",
       "      <td id=\"T_2f882_row13_col4\" class=\"data row13 col4\" >1</td>\n",
       "      <td id=\"T_2f882_row13_col5\" class=\"data row13 col5\" >1</td>\n",
       "      <td id=\"T_2f882_row13_col6\" class=\"data row13 col6\" >2</td>\n",
       "      <td id=\"T_2f882_row13_col7\" class=\"data row13 col7\" >1</td>\n",
       "      <td id=\"T_2f882_row13_col8\" class=\"data row13 col8\" >3</td>\n",
       "    </tr>\n",
       "    <tr>\n",
       "      <th id=\"T_2f882_level0_row14\" class=\"row_heading level0 row14\" >14</th>\n",
       "      <td id=\"T_2f882_row14_col0\" class=\"data row14 col0\" >15</td>\n",
       "      <td id=\"T_2f882_row14_col1\" class=\"data row14 col1\" >1</td>\n",
       "      <td id=\"T_2f882_row14_col2\" class=\"data row14 col2\" >2</td>\n",
       "      <td id=\"T_2f882_row14_col3\" class=\"data row14 col3\" >1</td>\n",
       "      <td id=\"T_2f882_row14_col4\" class=\"data row14 col4\" >1</td>\n",
       "      <td id=\"T_2f882_row14_col5\" class=\"data row14 col5\" >1</td>\n",
       "      <td id=\"T_2f882_row14_col6\" class=\"data row14 col6\" >2</td>\n",
       "      <td id=\"T_2f882_row14_col7\" class=\"data row14 col7\" >1</td>\n",
       "      <td id=\"T_2f882_row14_col8\" class=\"data row14 col8\" >3</td>\n",
       "    </tr>\n",
       "    <tr>\n",
       "      <th id=\"T_2f882_level0_row15\" class=\"row_heading level0 row15\" >15</th>\n",
       "      <td id=\"T_2f882_row15_col0\" class=\"data row15 col0\" >16</td>\n",
       "      <td id=\"T_2f882_row15_col1\" class=\"data row15 col1\" >1</td>\n",
       "      <td id=\"T_2f882_row15_col2\" class=\"data row15 col2\" >2</td>\n",
       "      <td id=\"T_2f882_row15_col3\" class=\"data row15 col3\" >1</td>\n",
       "      <td id=\"T_2f882_row15_col4\" class=\"data row15 col4\" >1</td>\n",
       "      <td id=\"T_2f882_row15_col5\" class=\"data row15 col5\" >1</td>\n",
       "      <td id=\"T_2f882_row15_col6\" class=\"data row15 col6\" >2</td>\n",
       "      <td id=\"T_2f882_row15_col7\" class=\"data row15 col7\" >1</td>\n",
       "      <td id=\"T_2f882_row15_col8\" class=\"data row15 col8\" >3</td>\n",
       "    </tr>\n",
       "    <tr>\n",
       "      <th id=\"T_2f882_level0_row16\" class=\"row_heading level0 row16\" >16</th>\n",
       "      <td id=\"T_2f882_row16_col0\" class=\"data row16 col0\" >17</td>\n",
       "      <td id=\"T_2f882_row16_col1\" class=\"data row16 col1\" >1</td>\n",
       "      <td id=\"T_2f882_row16_col2\" class=\"data row16 col2\" >2</td>\n",
       "      <td id=\"T_2f882_row16_col3\" class=\"data row16 col3\" >1</td>\n",
       "      <td id=\"T_2f882_row16_col4\" class=\"data row16 col4\" >1</td>\n",
       "      <td id=\"T_2f882_row16_col5\" class=\"data row16 col5\" >1</td>\n",
       "      <td id=\"T_2f882_row16_col6\" class=\"data row16 col6\" >2</td>\n",
       "      <td id=\"T_2f882_row16_col7\" class=\"data row16 col7\" >1</td>\n",
       "      <td id=\"T_2f882_row16_col8\" class=\"data row16 col8\" >3</td>\n",
       "    </tr>\n",
       "    <tr>\n",
       "      <th id=\"T_2f882_level0_row17\" class=\"row_heading level0 row17\" >17</th>\n",
       "      <td id=\"T_2f882_row17_col0\" class=\"data row17 col0\" >18</td>\n",
       "      <td id=\"T_2f882_row17_col1\" class=\"data row17 col1\" >1</td>\n",
       "      <td id=\"T_2f882_row17_col2\" class=\"data row17 col2\" >2</td>\n",
       "      <td id=\"T_2f882_row17_col3\" class=\"data row17 col3\" >1</td>\n",
       "      <td id=\"T_2f882_row17_col4\" class=\"data row17 col4\" >1</td>\n",
       "      <td id=\"T_2f882_row17_col5\" class=\"data row17 col5\" >1</td>\n",
       "      <td id=\"T_2f882_row17_col6\" class=\"data row17 col6\" >2</td>\n",
       "      <td id=\"T_2f882_row17_col7\" class=\"data row17 col7\" >1</td>\n",
       "      <td id=\"T_2f882_row17_col8\" class=\"data row17 col8\" >3</td>\n",
       "    </tr>\n",
       "    <tr>\n",
       "      <th id=\"T_2f882_level0_row18\" class=\"row_heading level0 row18\" >18</th>\n",
       "      <td id=\"T_2f882_row18_col0\" class=\"data row18 col0\" >19</td>\n",
       "      <td id=\"T_2f882_row18_col1\" class=\"data row18 col1\" >1</td>\n",
       "      <td id=\"T_2f882_row18_col2\" class=\"data row18 col2\" >2</td>\n",
       "      <td id=\"T_2f882_row18_col3\" class=\"data row18 col3\" >1</td>\n",
       "      <td id=\"T_2f882_row18_col4\" class=\"data row18 col4\" >1</td>\n",
       "      <td id=\"T_2f882_row18_col5\" class=\"data row18 col5\" >1</td>\n",
       "      <td id=\"T_2f882_row18_col6\" class=\"data row18 col6\" >2</td>\n",
       "      <td id=\"T_2f882_row18_col7\" class=\"data row18 col7\" >1</td>\n",
       "      <td id=\"T_2f882_row18_col8\" class=\"data row18 col8\" >3</td>\n",
       "    </tr>\n",
       "    <tr>\n",
       "      <th id=\"T_2f882_level0_row19\" class=\"row_heading level0 row19\" >19</th>\n",
       "      <td id=\"T_2f882_row19_col0\" class=\"data row19 col0\" >20</td>\n",
       "      <td id=\"T_2f882_row19_col1\" class=\"data row19 col1\" >1</td>\n",
       "      <td id=\"T_2f882_row19_col2\" class=\"data row19 col2\" >2</td>\n",
       "      <td id=\"T_2f882_row19_col3\" class=\"data row19 col3\" >1</td>\n",
       "      <td id=\"T_2f882_row19_col4\" class=\"data row19 col4\" >1</td>\n",
       "      <td id=\"T_2f882_row19_col5\" class=\"data row19 col5\" >1</td>\n",
       "      <td id=\"T_2f882_row19_col6\" class=\"data row19 col6\" >2</td>\n",
       "      <td id=\"T_2f882_row19_col7\" class=\"data row19 col7\" >1</td>\n",
       "      <td id=\"T_2f882_row19_col8\" class=\"data row19 col8\" >3</td>\n",
       "    </tr>\n",
       "    <tr>\n",
       "      <th id=\"T_2f882_level0_row20\" class=\"row_heading level0 row20\" >20</th>\n",
       "      <td id=\"T_2f882_row20_col0\" class=\"data row20 col0\" >21</td>\n",
       "      <td id=\"T_2f882_row20_col1\" class=\"data row20 col1\" >3</td>\n",
       "      <td id=\"T_2f882_row20_col2\" class=\"data row20 col2\" >1</td>\n",
       "      <td id=\"T_2f882_row20_col3\" class=\"data row20 col3\" >1</td>\n",
       "      <td id=\"T_2f882_row20_col4\" class=\"data row20 col4\" >1</td>\n",
       "      <td id=\"T_2f882_row20_col5\" class=\"data row20 col5\" >3</td>\n",
       "      <td id=\"T_2f882_row20_col6\" class=\"data row20 col6\" >1</td>\n",
       "      <td id=\"T_2f882_row20_col7\" class=\"data row20 col7\" >1</td>\n",
       "      <td id=\"T_2f882_row20_col8\" class=\"data row20 col8\" >3</td>\n",
       "    </tr>\n",
       "    <tr>\n",
       "      <th id=\"T_2f882_level0_row21\" class=\"row_heading level0 row21\" >21</th>\n",
       "      <td id=\"T_2f882_row21_col0\" class=\"data row21 col0\" >22</td>\n",
       "      <td id=\"T_2f882_row21_col1\" class=\"data row21 col1\" >3</td>\n",
       "      <td id=\"T_2f882_row21_col2\" class=\"data row21 col2\" >2</td>\n",
       "      <td id=\"T_2f882_row21_col3\" class=\"data row21 col3\" >2</td>\n",
       "      <td id=\"T_2f882_row21_col4\" class=\"data row21 col4\" >1</td>\n",
       "      <td id=\"T_2f882_row21_col5\" class=\"data row21 col5\" >3</td>\n",
       "      <td id=\"T_2f882_row21_col6\" class=\"data row21 col6\" >2</td>\n",
       "      <td id=\"T_2f882_row21_col7\" class=\"data row21 col7\" >2</td>\n",
       "      <td id=\"T_2f882_row21_col8\" class=\"data row21 col8\" >3</td>\n",
       "    </tr>\n",
       "    <tr>\n",
       "      <th id=\"T_2f882_level0_row22\" class=\"row_heading level0 row22\" >22</th>\n",
       "      <td id=\"T_2f882_row22_col0\" class=\"data row22 col0\" >23</td>\n",
       "      <td id=\"T_2f882_row22_col1\" class=\"data row22 col1\" >1</td>\n",
       "      <td id=\"T_2f882_row22_col2\" class=\"data row22 col2\" >2</td>\n",
       "      <td id=\"T_2f882_row22_col3\" class=\"data row22 col3\" >1</td>\n",
       "      <td id=\"T_2f882_row22_col4\" class=\"data row22 col4\" >1</td>\n",
       "      <td id=\"T_2f882_row22_col5\" class=\"data row22 col5\" >3</td>\n",
       "      <td id=\"T_2f882_row22_col6\" class=\"data row22 col6\" >2</td>\n",
       "      <td id=\"T_2f882_row22_col7\" class=\"data row22 col7\" >2</td>\n",
       "      <td id=\"T_2f882_row22_col8\" class=\"data row22 col8\" >3</td>\n",
       "    </tr>\n",
       "    <tr>\n",
       "      <th id=\"T_2f882_level0_row23\" class=\"row_heading level0 row23\" >23</th>\n",
       "      <td id=\"T_2f882_row23_col0\" class=\"data row23 col0\" >24</td>\n",
       "      <td id=\"T_2f882_row23_col1\" class=\"data row23 col1\" >1</td>\n",
       "      <td id=\"T_2f882_row23_col2\" class=\"data row23 col2\" >2</td>\n",
       "      <td id=\"T_2f882_row23_col3\" class=\"data row23 col3\" >1</td>\n",
       "      <td id=\"T_2f882_row23_col4\" class=\"data row23 col4\" >1</td>\n",
       "      <td id=\"T_2f882_row23_col5\" class=\"data row23 col5\" >3</td>\n",
       "      <td id=\"T_2f882_row23_col6\" class=\"data row23 col6\" >2</td>\n",
       "      <td id=\"T_2f882_row23_col7\" class=\"data row23 col7\" >2</td>\n",
       "      <td id=\"T_2f882_row23_col8\" class=\"data row23 col8\" >3</td>\n",
       "    </tr>\n",
       "    <tr>\n",
       "      <th id=\"T_2f882_level0_row24\" class=\"row_heading level0 row24\" >24</th>\n",
       "      <td id=\"T_2f882_row24_col0\" class=\"data row24 col0\" >25</td>\n",
       "      <td id=\"T_2f882_row24_col1\" class=\"data row24 col1\" >1</td>\n",
       "      <td id=\"T_2f882_row24_col2\" class=\"data row24 col2\" >2</td>\n",
       "      <td id=\"T_2f882_row24_col3\" class=\"data row24 col3\" >1</td>\n",
       "      <td id=\"T_2f882_row24_col4\" class=\"data row24 col4\" >1</td>\n",
       "      <td id=\"T_2f882_row24_col5\" class=\"data row24 col5\" >3</td>\n",
       "      <td id=\"T_2f882_row24_col6\" class=\"data row24 col6\" >2</td>\n",
       "      <td id=\"T_2f882_row24_col7\" class=\"data row24 col7\" >2</td>\n",
       "      <td id=\"T_2f882_row24_col8\" class=\"data row24 col8\" >3</td>\n",
       "    </tr>\n",
       "    <tr>\n",
       "      <th id=\"T_2f882_level0_row25\" class=\"row_heading level0 row25\" >25</th>\n",
       "      <td id=\"T_2f882_row25_col0\" class=\"data row25 col0\" >26</td>\n",
       "      <td id=\"T_2f882_row25_col1\" class=\"data row25 col1\" >1</td>\n",
       "      <td id=\"T_2f882_row25_col2\" class=\"data row25 col2\" >2</td>\n",
       "      <td id=\"T_2f882_row25_col3\" class=\"data row25 col3\" >1</td>\n",
       "      <td id=\"T_2f882_row25_col4\" class=\"data row25 col4\" >1</td>\n",
       "      <td id=\"T_2f882_row25_col5\" class=\"data row25 col5\" >3</td>\n",
       "      <td id=\"T_2f882_row25_col6\" class=\"data row25 col6\" >2</td>\n",
       "      <td id=\"T_2f882_row25_col7\" class=\"data row25 col7\" >2</td>\n",
       "      <td id=\"T_2f882_row25_col8\" class=\"data row25 col8\" >3</td>\n",
       "    </tr>\n",
       "    <tr>\n",
       "      <th id=\"T_2f882_level0_row26\" class=\"row_heading level0 row26\" >26</th>\n",
       "      <td id=\"T_2f882_row26_col0\" class=\"data row26 col0\" >27</td>\n",
       "      <td id=\"T_2f882_row26_col1\" class=\"data row26 col1\" >1</td>\n",
       "      <td id=\"T_2f882_row26_col2\" class=\"data row26 col2\" >1</td>\n",
       "      <td id=\"T_2f882_row26_col3\" class=\"data row26 col3\" >1</td>\n",
       "      <td id=\"T_2f882_row26_col4\" class=\"data row26 col4\" >1</td>\n",
       "      <td id=\"T_2f882_row26_col5\" class=\"data row26 col5\" >1</td>\n",
       "      <td id=\"T_2f882_row26_col6\" class=\"data row26 col6\" >2</td>\n",
       "      <td id=\"T_2f882_row26_col7\" class=\"data row26 col7\" >2</td>\n",
       "      <td id=\"T_2f882_row26_col8\" class=\"data row26 col8\" >3</td>\n",
       "    </tr>\n",
       "    <tr>\n",
       "      <th id=\"T_2f882_level0_row27\" class=\"row_heading level0 row27\" >27</th>\n",
       "      <td id=\"T_2f882_row27_col0\" class=\"data row27 col0\" >28</td>\n",
       "      <td id=\"T_2f882_row27_col1\" class=\"data row27 col1\" >1</td>\n",
       "      <td id=\"T_2f882_row27_col2\" class=\"data row27 col2\" >2</td>\n",
       "      <td id=\"T_2f882_row27_col3\" class=\"data row27 col3\" >1</td>\n",
       "      <td id=\"T_2f882_row27_col4\" class=\"data row27 col4\" >1</td>\n",
       "      <td id=\"T_2f882_row27_col5\" class=\"data row27 col5\" >3</td>\n",
       "      <td id=\"T_2f882_row27_col6\" class=\"data row27 col6\" >2</td>\n",
       "      <td id=\"T_2f882_row27_col7\" class=\"data row27 col7\" >2</td>\n",
       "      <td id=\"T_2f882_row27_col8\" class=\"data row27 col8\" >3</td>\n",
       "    </tr>\n",
       "    <tr>\n",
       "      <th id=\"T_2f882_level0_row28\" class=\"row_heading level0 row28\" >28</th>\n",
       "      <td id=\"T_2f882_row28_col0\" class=\"data row28 col0\" >29</td>\n",
       "      <td id=\"T_2f882_row28_col1\" class=\"data row28 col1\" >1</td>\n",
       "      <td id=\"T_2f882_row28_col2\" class=\"data row28 col2\" >2</td>\n",
       "      <td id=\"T_2f882_row28_col3\" class=\"data row28 col3\" >1</td>\n",
       "      <td id=\"T_2f882_row28_col4\" class=\"data row28 col4\" >1</td>\n",
       "      <td id=\"T_2f882_row28_col5\" class=\"data row28 col5\" >3</td>\n",
       "      <td id=\"T_2f882_row28_col6\" class=\"data row28 col6\" >2</td>\n",
       "      <td id=\"T_2f882_row28_col7\" class=\"data row28 col7\" >2</td>\n",
       "      <td id=\"T_2f882_row28_col8\" class=\"data row28 col8\" >3</td>\n",
       "    </tr>\n",
       "    <tr>\n",
       "      <th id=\"T_2f882_level0_row29\" class=\"row_heading level0 row29\" >29</th>\n",
       "      <td id=\"T_2f882_row29_col0\" class=\"data row29 col0\" >30</td>\n",
       "      <td id=\"T_2f882_row29_col1\" class=\"data row29 col1\" >1</td>\n",
       "      <td id=\"T_2f882_row29_col2\" class=\"data row29 col2\" >2</td>\n",
       "      <td id=\"T_2f882_row29_col3\" class=\"data row29 col3\" >1</td>\n",
       "      <td id=\"T_2f882_row29_col4\" class=\"data row29 col4\" >1</td>\n",
       "      <td id=\"T_2f882_row29_col5\" class=\"data row29 col5\" >3</td>\n",
       "      <td id=\"T_2f882_row29_col6\" class=\"data row29 col6\" >2</td>\n",
       "      <td id=\"T_2f882_row29_col7\" class=\"data row29 col7\" >2</td>\n",
       "      <td id=\"T_2f882_row29_col8\" class=\"data row29 col8\" >3</td>\n",
       "    </tr>\n",
       "    <tr>\n",
       "      <th id=\"T_2f882_level0_row30\" class=\"row_heading level0 row30\" >30</th>\n",
       "      <td id=\"T_2f882_row30_col0\" class=\"data row30 col0\" >31</td>\n",
       "      <td id=\"T_2f882_row30_col1\" class=\"data row30 col1\" >1</td>\n",
       "      <td id=\"T_2f882_row30_col2\" class=\"data row30 col2\" >2</td>\n",
       "      <td id=\"T_2f882_row30_col3\" class=\"data row30 col3\" >1</td>\n",
       "      <td id=\"T_2f882_row30_col4\" class=\"data row30 col4\" >1</td>\n",
       "      <td id=\"T_2f882_row30_col5\" class=\"data row30 col5\" >3</td>\n",
       "      <td id=\"T_2f882_row30_col6\" class=\"data row30 col6\" >2</td>\n",
       "      <td id=\"T_2f882_row30_col7\" class=\"data row30 col7\" >2</td>\n",
       "      <td id=\"T_2f882_row30_col8\" class=\"data row30 col8\" >3</td>\n",
       "    </tr>\n",
       "    <tr>\n",
       "      <th id=\"T_2f882_level0_row31\" class=\"row_heading level0 row31\" >31</th>\n",
       "      <td id=\"T_2f882_row31_col0\" class=\"data row31 col0\" >32</td>\n",
       "      <td id=\"T_2f882_row31_col1\" class=\"data row31 col1\" >3</td>\n",
       "      <td id=\"T_2f882_row31_col2\" class=\"data row31 col2\" >2</td>\n",
       "      <td id=\"T_2f882_row31_col3\" class=\"data row31 col3\" >1</td>\n",
       "      <td id=\"T_2f882_row31_col4\" class=\"data row31 col4\" >1</td>\n",
       "      <td id=\"T_2f882_row31_col5\" class=\"data row31 col5\" >3</td>\n",
       "      <td id=\"T_2f882_row31_col6\" class=\"data row31 col6\" >3</td>\n",
       "      <td id=\"T_2f882_row31_col7\" class=\"data row31 col7\" >2</td>\n",
       "      <td id=\"T_2f882_row31_col8\" class=\"data row31 col8\" >3</td>\n",
       "    </tr>\n",
       "    <tr>\n",
       "      <th id=\"T_2f882_level0_row32\" class=\"row_heading level0 row32\" >32</th>\n",
       "      <td id=\"T_2f882_row32_col0\" class=\"data row32 col0\" >33</td>\n",
       "      <td id=\"T_2f882_row32_col1\" class=\"data row32 col1\" >1</td>\n",
       "      <td id=\"T_2f882_row32_col2\" class=\"data row32 col2\" >2</td>\n",
       "      <td id=\"T_2f882_row32_col3\" class=\"data row32 col3\" >1</td>\n",
       "      <td id=\"T_2f882_row32_col4\" class=\"data row32 col4\" >1</td>\n",
       "      <td id=\"T_2f882_row32_col5\" class=\"data row32 col5\" >1</td>\n",
       "      <td id=\"T_2f882_row32_col6\" class=\"data row32 col6\" >2</td>\n",
       "      <td id=\"T_2f882_row32_col7\" class=\"data row32 col7\" >2</td>\n",
       "      <td id=\"T_2f882_row32_col8\" class=\"data row32 col8\" >3</td>\n",
       "    </tr>\n",
       "    <tr>\n",
       "      <th id=\"T_2f882_level0_row33\" class=\"row_heading level0 row33\" >33</th>\n",
       "      <td id=\"T_2f882_row33_col0\" class=\"data row33 col0\" >34</td>\n",
       "      <td id=\"T_2f882_row33_col1\" class=\"data row33 col1\" >1</td>\n",
       "      <td id=\"T_2f882_row33_col2\" class=\"data row33 col2\" >2</td>\n",
       "      <td id=\"T_2f882_row33_col3\" class=\"data row33 col3\" >1</td>\n",
       "      <td id=\"T_2f882_row33_col4\" class=\"data row33 col4\" >1</td>\n",
       "      <td id=\"T_2f882_row33_col5\" class=\"data row33 col5\" >1</td>\n",
       "      <td id=\"T_2f882_row33_col6\" class=\"data row33 col6\" >2</td>\n",
       "      <td id=\"T_2f882_row33_col7\" class=\"data row33 col7\" >2</td>\n",
       "      <td id=\"T_2f882_row33_col8\" class=\"data row33 col8\" >3</td>\n",
       "    </tr>\n",
       "    <tr>\n",
       "      <th id=\"T_2f882_level0_row34\" class=\"row_heading level0 row34\" >34</th>\n",
       "      <td id=\"T_2f882_row34_col0\" class=\"data row34 col0\" >35</td>\n",
       "      <td id=\"T_2f882_row34_col1\" class=\"data row34 col1\" >1</td>\n",
       "      <td id=\"T_2f882_row34_col2\" class=\"data row34 col2\" >2</td>\n",
       "      <td id=\"T_2f882_row34_col3\" class=\"data row34 col3\" >1</td>\n",
       "      <td id=\"T_2f882_row34_col4\" class=\"data row34 col4\" >1</td>\n",
       "      <td id=\"T_2f882_row34_col5\" class=\"data row34 col5\" >1</td>\n",
       "      <td id=\"T_2f882_row34_col6\" class=\"data row34 col6\" >2</td>\n",
       "      <td id=\"T_2f882_row34_col7\" class=\"data row34 col7\" >2</td>\n",
       "      <td id=\"T_2f882_row34_col8\" class=\"data row34 col8\" >3</td>\n",
       "    </tr>\n",
       "    <tr>\n",
       "      <th id=\"T_2f882_level0_row35\" class=\"row_heading level0 row35\" >35</th>\n",
       "      <td id=\"T_2f882_row35_col0\" class=\"data row35 col0\" >36</td>\n",
       "      <td id=\"T_2f882_row35_col1\" class=\"data row35 col1\" >1</td>\n",
       "      <td id=\"T_2f882_row35_col2\" class=\"data row35 col2\" >2</td>\n",
       "      <td id=\"T_2f882_row35_col3\" class=\"data row35 col3\" >1</td>\n",
       "      <td id=\"T_2f882_row35_col4\" class=\"data row35 col4\" >1</td>\n",
       "      <td id=\"T_2f882_row35_col5\" class=\"data row35 col5\" >1</td>\n",
       "      <td id=\"T_2f882_row35_col6\" class=\"data row35 col6\" >2</td>\n",
       "      <td id=\"T_2f882_row35_col7\" class=\"data row35 col7\" >2</td>\n",
       "      <td id=\"T_2f882_row35_col8\" class=\"data row35 col8\" >3</td>\n",
       "    </tr>\n",
       "    <tr>\n",
       "      <th id=\"T_2f882_level0_row36\" class=\"row_heading level0 row36\" >36</th>\n",
       "      <td id=\"T_2f882_row36_col0\" class=\"data row36 col0\" >37</td>\n",
       "      <td id=\"T_2f882_row36_col1\" class=\"data row36 col1\" >1</td>\n",
       "      <td id=\"T_2f882_row36_col2\" class=\"data row36 col2\" >2</td>\n",
       "      <td id=\"T_2f882_row36_col3\" class=\"data row36 col3\" >1</td>\n",
       "      <td id=\"T_2f882_row36_col4\" class=\"data row36 col4\" >1</td>\n",
       "      <td id=\"T_2f882_row36_col5\" class=\"data row36 col5\" >1</td>\n",
       "      <td id=\"T_2f882_row36_col6\" class=\"data row36 col6\" >2</td>\n",
       "      <td id=\"T_2f882_row36_col7\" class=\"data row36 col7\" >2</td>\n",
       "      <td id=\"T_2f882_row36_col8\" class=\"data row36 col8\" >3</td>\n",
       "    </tr>\n",
       "    <tr>\n",
       "      <th id=\"T_2f882_level0_row37\" class=\"row_heading level0 row37\" >37</th>\n",
       "      <td id=\"T_2f882_row37_col0\" class=\"data row37 col0\" >38</td>\n",
       "      <td id=\"T_2f882_row37_col1\" class=\"data row37 col1\" >1</td>\n",
       "      <td id=\"T_2f882_row37_col2\" class=\"data row37 col2\" >2</td>\n",
       "      <td id=\"T_2f882_row37_col3\" class=\"data row37 col3\" >1</td>\n",
       "      <td id=\"T_2f882_row37_col4\" class=\"data row37 col4\" >1</td>\n",
       "      <td id=\"T_2f882_row37_col5\" class=\"data row37 col5\" >1</td>\n",
       "      <td id=\"T_2f882_row37_col6\" class=\"data row37 col6\" >2</td>\n",
       "      <td id=\"T_2f882_row37_col7\" class=\"data row37 col7\" >2</td>\n",
       "      <td id=\"T_2f882_row37_col8\" class=\"data row37 col8\" >3</td>\n",
       "    </tr>\n",
       "    <tr>\n",
       "      <th id=\"T_2f882_level0_row38\" class=\"row_heading level0 row38\" >38</th>\n",
       "      <td id=\"T_2f882_row38_col0\" class=\"data row38 col0\" >39</td>\n",
       "      <td id=\"T_2f882_row38_col1\" class=\"data row38 col1\" >1</td>\n",
       "      <td id=\"T_2f882_row38_col2\" class=\"data row38 col2\" >2</td>\n",
       "      <td id=\"T_2f882_row38_col3\" class=\"data row38 col3\" >1</td>\n",
       "      <td id=\"T_2f882_row38_col4\" class=\"data row38 col4\" >1</td>\n",
       "      <td id=\"T_2f882_row38_col5\" class=\"data row38 col5\" >1</td>\n",
       "      <td id=\"T_2f882_row38_col6\" class=\"data row38 col6\" >2</td>\n",
       "      <td id=\"T_2f882_row38_col7\" class=\"data row38 col7\" >2</td>\n",
       "      <td id=\"T_2f882_row38_col8\" class=\"data row38 col8\" >3</td>\n",
       "    </tr>\n",
       "    <tr>\n",
       "      <th id=\"T_2f882_level0_row39\" class=\"row_heading level0 row39\" >39</th>\n",
       "      <td id=\"T_2f882_row39_col0\" class=\"data row39 col0\" >40</td>\n",
       "      <td id=\"T_2f882_row39_col1\" class=\"data row39 col1\" >1</td>\n",
       "      <td id=\"T_2f882_row39_col2\" class=\"data row39 col2\" >2</td>\n",
       "      <td id=\"T_2f882_row39_col3\" class=\"data row39 col3\" >1</td>\n",
       "      <td id=\"T_2f882_row39_col4\" class=\"data row39 col4\" >1</td>\n",
       "      <td id=\"T_2f882_row39_col5\" class=\"data row39 col5\" >1</td>\n",
       "      <td id=\"T_2f882_row39_col6\" class=\"data row39 col6\" >2</td>\n",
       "      <td id=\"T_2f882_row39_col7\" class=\"data row39 col7\" >2</td>\n",
       "      <td id=\"T_2f882_row39_col8\" class=\"data row39 col8\" >3</td>\n",
       "    </tr>\n",
       "    <tr>\n",
       "      <th id=\"T_2f882_level0_row40\" class=\"row_heading level0 row40\" >40</th>\n",
       "      <td id=\"T_2f882_row40_col0\" class=\"data row40 col0\" >41</td>\n",
       "      <td id=\"T_2f882_row40_col1\" class=\"data row40 col1\" >1</td>\n",
       "      <td id=\"T_2f882_row40_col2\" class=\"data row40 col2\" >2</td>\n",
       "      <td id=\"T_2f882_row40_col3\" class=\"data row40 col3\" >1</td>\n",
       "      <td id=\"T_2f882_row40_col4\" class=\"data row40 col4\" >1</td>\n",
       "      <td id=\"T_2f882_row40_col5\" class=\"data row40 col5\" >1</td>\n",
       "      <td id=\"T_2f882_row40_col6\" class=\"data row40 col6\" >2</td>\n",
       "      <td id=\"T_2f882_row40_col7\" class=\"data row40 col7\" >2</td>\n",
       "      <td id=\"T_2f882_row40_col8\" class=\"data row40 col8\" >3</td>\n",
       "    </tr>\n",
       "    <tr>\n",
       "      <th id=\"T_2f882_level0_row41\" class=\"row_heading level0 row41\" >41</th>\n",
       "      <td id=\"T_2f882_row41_col0\" class=\"data row41 col0\" >42</td>\n",
       "      <td id=\"T_2f882_row41_col1\" class=\"data row41 col1\" >1</td>\n",
       "      <td id=\"T_2f882_row41_col2\" class=\"data row41 col2\" >2</td>\n",
       "      <td id=\"T_2f882_row41_col3\" class=\"data row41 col3\" >1</td>\n",
       "      <td id=\"T_2f882_row41_col4\" class=\"data row41 col4\" >1</td>\n",
       "      <td id=\"T_2f882_row41_col5\" class=\"data row41 col5\" >1</td>\n",
       "      <td id=\"T_2f882_row41_col6\" class=\"data row41 col6\" >2</td>\n",
       "      <td id=\"T_2f882_row41_col7\" class=\"data row41 col7\" >2</td>\n",
       "      <td id=\"T_2f882_row41_col8\" class=\"data row41 col8\" >3</td>\n",
       "    </tr>\n",
       "    <tr>\n",
       "      <th id=\"T_2f882_level0_row42\" class=\"row_heading level0 row42\" >42</th>\n",
       "      <td id=\"T_2f882_row42_col0\" class=\"data row42 col0\" >43</td>\n",
       "      <td id=\"T_2f882_row42_col1\" class=\"data row42 col1\" >1</td>\n",
       "      <td id=\"T_2f882_row42_col2\" class=\"data row42 col2\" >2</td>\n",
       "      <td id=\"T_2f882_row42_col3\" class=\"data row42 col3\" >1</td>\n",
       "      <td id=\"T_2f882_row42_col4\" class=\"data row42 col4\" >1</td>\n",
       "      <td id=\"T_2f882_row42_col5\" class=\"data row42 col5\" >1</td>\n",
       "      <td id=\"T_2f882_row42_col6\" class=\"data row42 col6\" >2</td>\n",
       "      <td id=\"T_2f882_row42_col7\" class=\"data row42 col7\" >2</td>\n",
       "      <td id=\"T_2f882_row42_col8\" class=\"data row42 col8\" >3</td>\n",
       "    </tr>\n",
       "    <tr>\n",
       "      <th id=\"T_2f882_level0_row43\" class=\"row_heading level0 row43\" >43</th>\n",
       "      <td id=\"T_2f882_row43_col0\" class=\"data row43 col0\" >44</td>\n",
       "      <td id=\"T_2f882_row43_col1\" class=\"data row43 col1\" >1</td>\n",
       "      <td id=\"T_2f882_row43_col2\" class=\"data row43 col2\" >2</td>\n",
       "      <td id=\"T_2f882_row43_col3\" class=\"data row43 col3\" >1</td>\n",
       "      <td id=\"T_2f882_row43_col4\" class=\"data row43 col4\" >1</td>\n",
       "      <td id=\"T_2f882_row43_col5\" class=\"data row43 col5\" >1</td>\n",
       "      <td id=\"T_2f882_row43_col6\" class=\"data row43 col6\" >2</td>\n",
       "      <td id=\"T_2f882_row43_col7\" class=\"data row43 col7\" >2</td>\n",
       "      <td id=\"T_2f882_row43_col8\" class=\"data row43 col8\" >3</td>\n",
       "    </tr>\n",
       "    <tr>\n",
       "      <th id=\"T_2f882_level0_row44\" class=\"row_heading level0 row44\" >44</th>\n",
       "      <td id=\"T_2f882_row44_col0\" class=\"data row44 col0\" >45</td>\n",
       "      <td id=\"T_2f882_row44_col1\" class=\"data row44 col1\" >3</td>\n",
       "      <td id=\"T_2f882_row44_col2\" class=\"data row44 col2\" >1</td>\n",
       "      <td id=\"T_2f882_row44_col3\" class=\"data row44 col3\" >1</td>\n",
       "      <td id=\"T_2f882_row44_col4\" class=\"data row44 col4\" >1</td>\n",
       "      <td id=\"T_2f882_row44_col5\" class=\"data row44 col5\" >3</td>\n",
       "      <td id=\"T_2f882_row44_col6\" class=\"data row44 col6\" >1</td>\n",
       "      <td id=\"T_2f882_row44_col7\" class=\"data row44 col7\" >2</td>\n",
       "      <td id=\"T_2f882_row44_col8\" class=\"data row44 col8\" >3</td>\n",
       "    </tr>\n",
       "    <tr>\n",
       "      <th id=\"T_2f882_level0_row45\" class=\"row_heading level0 row45\" >45</th>\n",
       "      <td id=\"T_2f882_row45_col0\" class=\"data row45 col0\" >46</td>\n",
       "      <td id=\"T_2f882_row45_col1\" class=\"data row45 col1\" >1</td>\n",
       "      <td id=\"T_2f882_row45_col2\" class=\"data row45 col2\" >2</td>\n",
       "      <td id=\"T_2f882_row45_col3\" class=\"data row45 col3\" >1</td>\n",
       "      <td id=\"T_2f882_row45_col4\" class=\"data row45 col4\" >1</td>\n",
       "      <td id=\"T_2f882_row45_col5\" class=\"data row45 col5\" >2</td>\n",
       "      <td id=\"T_2f882_row45_col6\" class=\"data row45 col6\" >1</td>\n",
       "      <td id=\"T_2f882_row45_col7\" class=\"data row45 col7\" >2</td>\n",
       "      <td id=\"T_2f882_row45_col8\" class=\"data row45 col8\" >3</td>\n",
       "    </tr>\n",
       "    <tr>\n",
       "      <th id=\"T_2f882_level0_row46\" class=\"row_heading level0 row46\" >46</th>\n",
       "      <td id=\"T_2f882_row46_col0\" class=\"data row46 col0\" >47</td>\n",
       "      <td id=\"T_2f882_row46_col1\" class=\"data row46 col1\" >3</td>\n",
       "      <td id=\"T_2f882_row46_col2\" class=\"data row46 col2\" >2</td>\n",
       "      <td id=\"T_2f882_row46_col3\" class=\"data row46 col3\" >1</td>\n",
       "      <td id=\"T_2f882_row46_col4\" class=\"data row46 col4\" >1</td>\n",
       "      <td id=\"T_2f882_row46_col5\" class=\"data row46 col5\" >1</td>\n",
       "      <td id=\"T_2f882_row46_col6\" class=\"data row46 col6\" >1</td>\n",
       "      <td id=\"T_2f882_row46_col7\" class=\"data row46 col7\" >2</td>\n",
       "      <td id=\"T_2f882_row46_col8\" class=\"data row46 col8\" >3</td>\n",
       "    </tr>\n",
       "    <tr>\n",
       "      <th id=\"T_2f882_level0_row47\" class=\"row_heading level0 row47\" >47</th>\n",
       "      <td id=\"T_2f882_row47_col0\" class=\"data row47 col0\" >48</td>\n",
       "      <td id=\"T_2f882_row47_col1\" class=\"data row47 col1\" >3</td>\n",
       "      <td id=\"T_2f882_row47_col2\" class=\"data row47 col2\" >2</td>\n",
       "      <td id=\"T_2f882_row47_col3\" class=\"data row47 col3\" >1</td>\n",
       "      <td id=\"T_2f882_row47_col4\" class=\"data row47 col4\" >1</td>\n",
       "      <td id=\"T_2f882_row47_col5\" class=\"data row47 col5\" >1</td>\n",
       "      <td id=\"T_2f882_row47_col6\" class=\"data row47 col6\" >1</td>\n",
       "      <td id=\"T_2f882_row47_col7\" class=\"data row47 col7\" >2</td>\n",
       "      <td id=\"T_2f882_row47_col8\" class=\"data row47 col8\" >3</td>\n",
       "    </tr>\n",
       "    <tr>\n",
       "      <th id=\"T_2f882_level0_row48\" class=\"row_heading level0 row48\" >48</th>\n",
       "      <td id=\"T_2f882_row48_col0\" class=\"data row48 col0\" >49</td>\n",
       "      <td id=\"T_2f882_row48_col1\" class=\"data row48 col1\" >1</td>\n",
       "      <td id=\"T_2f882_row48_col2\" class=\"data row48 col2\" >2</td>\n",
       "      <td id=\"T_2f882_row48_col3\" class=\"data row48 col3\" >1</td>\n",
       "      <td id=\"T_2f882_row48_col4\" class=\"data row48 col4\" >1</td>\n",
       "      <td id=\"T_2f882_row48_col5\" class=\"data row48 col5\" >1</td>\n",
       "      <td id=\"T_2f882_row48_col6\" class=\"data row48 col6\" >1</td>\n",
       "      <td id=\"T_2f882_row48_col7\" class=\"data row48 col7\" >2</td>\n",
       "      <td id=\"T_2f882_row48_col8\" class=\"data row48 col8\" >3</td>\n",
       "    </tr>\n",
       "    <tr>\n",
       "      <th id=\"T_2f882_level0_row49\" class=\"row_heading level0 row49\" >49</th>\n",
       "      <td id=\"T_2f882_row49_col0\" class=\"data row49 col0\" >50</td>\n",
       "      <td id=\"T_2f882_row49_col1\" class=\"data row49 col1\" >1</td>\n",
       "      <td id=\"T_2f882_row49_col2\" class=\"data row49 col2\" >2</td>\n",
       "      <td id=\"T_2f882_row49_col3\" class=\"data row49 col3\" >1</td>\n",
       "      <td id=\"T_2f882_row49_col4\" class=\"data row49 col4\" >1</td>\n",
       "      <td id=\"T_2f882_row49_col5\" class=\"data row49 col5\" >1</td>\n",
       "      <td id=\"T_2f882_row49_col6\" class=\"data row49 col6\" >1</td>\n",
       "      <td id=\"T_2f882_row49_col7\" class=\"data row49 col7\" >2</td>\n",
       "      <td id=\"T_2f882_row49_col8\" class=\"data row49 col8\" >3</td>\n",
       "    </tr>\n",
       "    <tr>\n",
       "      <th id=\"T_2f882_level0_row50\" class=\"row_heading level0 row50\" >50</th>\n",
       "      <td id=\"T_2f882_row50_col0\" class=\"data row50 col0\" >51</td>\n",
       "      <td id=\"T_2f882_row50_col1\" class=\"data row50 col1\" >1</td>\n",
       "      <td id=\"T_2f882_row50_col2\" class=\"data row50 col2\" >2</td>\n",
       "      <td id=\"T_2f882_row50_col3\" class=\"data row50 col3\" >1</td>\n",
       "      <td id=\"T_2f882_row50_col4\" class=\"data row50 col4\" >1</td>\n",
       "      <td id=\"T_2f882_row50_col5\" class=\"data row50 col5\" >1</td>\n",
       "      <td id=\"T_2f882_row50_col6\" class=\"data row50 col6\" >1</td>\n",
       "      <td id=\"T_2f882_row50_col7\" class=\"data row50 col7\" >2</td>\n",
       "      <td id=\"T_2f882_row50_col8\" class=\"data row50 col8\" >3</td>\n",
       "    </tr>\n",
       "    <tr>\n",
       "      <th id=\"T_2f882_level0_row51\" class=\"row_heading level0 row51\" >51</th>\n",
       "      <td id=\"T_2f882_row51_col0\" class=\"data row51 col0\" >52</td>\n",
       "      <td id=\"T_2f882_row51_col1\" class=\"data row51 col1\" >1</td>\n",
       "      <td id=\"T_2f882_row51_col2\" class=\"data row51 col2\" >2</td>\n",
       "      <td id=\"T_2f882_row51_col3\" class=\"data row51 col3\" >1</td>\n",
       "      <td id=\"T_2f882_row51_col4\" class=\"data row51 col4\" >1</td>\n",
       "      <td id=\"T_2f882_row51_col5\" class=\"data row51 col5\" >1</td>\n",
       "      <td id=\"T_2f882_row51_col6\" class=\"data row51 col6\" >1</td>\n",
       "      <td id=\"T_2f882_row51_col7\" class=\"data row51 col7\" >2</td>\n",
       "      <td id=\"T_2f882_row51_col8\" class=\"data row51 col8\" >3</td>\n",
       "    </tr>\n",
       "    <tr>\n",
       "      <th id=\"T_2f882_level0_row52\" class=\"row_heading level0 row52\" >52</th>\n",
       "      <td id=\"T_2f882_row52_col0\" class=\"data row52 col0\" >53</td>\n",
       "      <td id=\"T_2f882_row52_col1\" class=\"data row52 col1\" >1</td>\n",
       "      <td id=\"T_2f882_row52_col2\" class=\"data row52 col2\" >2</td>\n",
       "      <td id=\"T_2f882_row52_col3\" class=\"data row52 col3\" >1</td>\n",
       "      <td id=\"T_2f882_row52_col4\" class=\"data row52 col4\" >1</td>\n",
       "      <td id=\"T_2f882_row52_col5\" class=\"data row52 col5\" >1</td>\n",
       "      <td id=\"T_2f882_row52_col6\" class=\"data row52 col6\" >1</td>\n",
       "      <td id=\"T_2f882_row52_col7\" class=\"data row52 col7\" >2</td>\n",
       "      <td id=\"T_2f882_row52_col8\" class=\"data row52 col8\" >3</td>\n",
       "    </tr>\n",
       "    <tr>\n",
       "      <th id=\"T_2f882_level0_row53\" class=\"row_heading level0 row53\" >53</th>\n",
       "      <td id=\"T_2f882_row53_col0\" class=\"data row53 col0\" >54</td>\n",
       "      <td id=\"T_2f882_row53_col1\" class=\"data row53 col1\" >1</td>\n",
       "      <td id=\"T_2f882_row53_col2\" class=\"data row53 col2\" >2</td>\n",
       "      <td id=\"T_2f882_row53_col3\" class=\"data row53 col3\" >1</td>\n",
       "      <td id=\"T_2f882_row53_col4\" class=\"data row53 col4\" >1</td>\n",
       "      <td id=\"T_2f882_row53_col5\" class=\"data row53 col5\" >1</td>\n",
       "      <td id=\"T_2f882_row53_col6\" class=\"data row53 col6\" >1</td>\n",
       "      <td id=\"T_2f882_row53_col7\" class=\"data row53 col7\" >2</td>\n",
       "      <td id=\"T_2f882_row53_col8\" class=\"data row53 col8\" >3</td>\n",
       "    </tr>\n",
       "    <tr>\n",
       "      <th id=\"T_2f882_level0_row54\" class=\"row_heading level0 row54\" >54</th>\n",
       "      <td id=\"T_2f882_row54_col0\" class=\"data row54 col0\" >55</td>\n",
       "      <td id=\"T_2f882_row54_col1\" class=\"data row54 col1\" >1</td>\n",
       "      <td id=\"T_2f882_row54_col2\" class=\"data row54 col2\" >2</td>\n",
       "      <td id=\"T_2f882_row54_col3\" class=\"data row54 col3\" >1</td>\n",
       "      <td id=\"T_2f882_row54_col4\" class=\"data row54 col4\" >1</td>\n",
       "      <td id=\"T_2f882_row54_col5\" class=\"data row54 col5\" >1</td>\n",
       "      <td id=\"T_2f882_row54_col6\" class=\"data row54 col6\" >1</td>\n",
       "      <td id=\"T_2f882_row54_col7\" class=\"data row54 col7\" >2</td>\n",
       "      <td id=\"T_2f882_row54_col8\" class=\"data row54 col8\" >3</td>\n",
       "    </tr>\n",
       "    <tr>\n",
       "      <th id=\"T_2f882_level0_row55\" class=\"row_heading level0 row55\" >55</th>\n",
       "      <td id=\"T_2f882_row55_col0\" class=\"data row55 col0\" >56</td>\n",
       "      <td id=\"T_2f882_row55_col1\" class=\"data row55 col1\" >1</td>\n",
       "      <td id=\"T_2f882_row55_col2\" class=\"data row55 col2\" >2</td>\n",
       "      <td id=\"T_2f882_row55_col3\" class=\"data row55 col3\" >1</td>\n",
       "      <td id=\"T_2f882_row55_col4\" class=\"data row55 col4\" >1</td>\n",
       "      <td id=\"T_2f882_row55_col5\" class=\"data row55 col5\" >1</td>\n",
       "      <td id=\"T_2f882_row55_col6\" class=\"data row55 col6\" >1</td>\n",
       "      <td id=\"T_2f882_row55_col7\" class=\"data row55 col7\" >2</td>\n",
       "      <td id=\"T_2f882_row55_col8\" class=\"data row55 col8\" >3</td>\n",
       "    </tr>\n",
       "    <tr>\n",
       "      <th id=\"T_2f882_level0_row56\" class=\"row_heading level0 row56\" >56</th>\n",
       "      <td id=\"T_2f882_row56_col0\" class=\"data row56 col0\" >57</td>\n",
       "      <td id=\"T_2f882_row56_col1\" class=\"data row56 col1\" >1</td>\n",
       "      <td id=\"T_2f882_row56_col2\" class=\"data row56 col2\" >2</td>\n",
       "      <td id=\"T_2f882_row56_col3\" class=\"data row56 col3\" >1</td>\n",
       "      <td id=\"T_2f882_row56_col4\" class=\"data row56 col4\" >1</td>\n",
       "      <td id=\"T_2f882_row56_col5\" class=\"data row56 col5\" >1</td>\n",
       "      <td id=\"T_2f882_row56_col6\" class=\"data row56 col6\" >1</td>\n",
       "      <td id=\"T_2f882_row56_col7\" class=\"data row56 col7\" >2</td>\n",
       "      <td id=\"T_2f882_row56_col8\" class=\"data row56 col8\" >3</td>\n",
       "    </tr>\n",
       "    <tr>\n",
       "      <th id=\"T_2f882_level0_row57\" class=\"row_heading level0 row57\" >57</th>\n",
       "      <td id=\"T_2f882_row57_col0\" class=\"data row57 col0\" >58</td>\n",
       "      <td id=\"T_2f882_row57_col1\" class=\"data row57 col1\" >1</td>\n",
       "      <td id=\"T_2f882_row57_col2\" class=\"data row57 col2\" >2</td>\n",
       "      <td id=\"T_2f882_row57_col3\" class=\"data row57 col3\" >1</td>\n",
       "      <td id=\"T_2f882_row57_col4\" class=\"data row57 col4\" >1</td>\n",
       "      <td id=\"T_2f882_row57_col5\" class=\"data row57 col5\" >1</td>\n",
       "      <td id=\"T_2f882_row57_col6\" class=\"data row57 col6\" >1</td>\n",
       "      <td id=\"T_2f882_row57_col7\" class=\"data row57 col7\" >2</td>\n",
       "      <td id=\"T_2f882_row57_col8\" class=\"data row57 col8\" >3</td>\n",
       "    </tr>\n",
       "    <tr>\n",
       "      <th id=\"T_2f882_level0_row58\" class=\"row_heading level0 row58\" >58</th>\n",
       "      <td id=\"T_2f882_row58_col0\" class=\"data row58 col0\" >59</td>\n",
       "      <td id=\"T_2f882_row58_col1\" class=\"data row58 col1\" >1</td>\n",
       "      <td id=\"T_2f882_row58_col2\" class=\"data row58 col2\" >2</td>\n",
       "      <td id=\"T_2f882_row58_col3\" class=\"data row58 col3\" >1</td>\n",
       "      <td id=\"T_2f882_row58_col4\" class=\"data row58 col4\" >1</td>\n",
       "      <td id=\"T_2f882_row58_col5\" class=\"data row58 col5\" >1</td>\n",
       "      <td id=\"T_2f882_row58_col6\" class=\"data row58 col6\" >1</td>\n",
       "      <td id=\"T_2f882_row58_col7\" class=\"data row58 col7\" >2</td>\n",
       "      <td id=\"T_2f882_row58_col8\" class=\"data row58 col8\" >3</td>\n",
       "    </tr>\n",
       "    <tr>\n",
       "      <th id=\"T_2f882_level0_row59\" class=\"row_heading level0 row59\" >59</th>\n",
       "      <td id=\"T_2f882_row59_col0\" class=\"data row59 col0\" >60</td>\n",
       "      <td id=\"T_2f882_row59_col1\" class=\"data row59 col1\" >1</td>\n",
       "      <td id=\"T_2f882_row59_col2\" class=\"data row59 col2\" >2</td>\n",
       "      <td id=\"T_2f882_row59_col3\" class=\"data row59 col3\" >1</td>\n",
       "      <td id=\"T_2f882_row59_col4\" class=\"data row59 col4\" >1</td>\n",
       "      <td id=\"T_2f882_row59_col5\" class=\"data row59 col5\" >1</td>\n",
       "      <td id=\"T_2f882_row59_col6\" class=\"data row59 col6\" >1</td>\n",
       "      <td id=\"T_2f882_row59_col7\" class=\"data row59 col7\" >2</td>\n",
       "      <td id=\"T_2f882_row59_col8\" class=\"data row59 col8\" >3</td>\n",
       "    </tr>\n",
       "    <tr>\n",
       "      <th id=\"T_2f882_level0_row60\" class=\"row_heading level0 row60\" >60</th>\n",
       "      <td id=\"T_2f882_row60_col0\" class=\"data row60 col0\" >61</td>\n",
       "      <td id=\"T_2f882_row60_col1\" class=\"data row60 col1\" >1</td>\n",
       "      <td id=\"T_2f882_row60_col2\" class=\"data row60 col2\" >2</td>\n",
       "      <td id=\"T_2f882_row60_col3\" class=\"data row60 col3\" >1</td>\n",
       "      <td id=\"T_2f882_row60_col4\" class=\"data row60 col4\" >1</td>\n",
       "      <td id=\"T_2f882_row60_col5\" class=\"data row60 col5\" >1</td>\n",
       "      <td id=\"T_2f882_row60_col6\" class=\"data row60 col6\" >1</td>\n",
       "      <td id=\"T_2f882_row60_col7\" class=\"data row60 col7\" >2</td>\n",
       "      <td id=\"T_2f882_row60_col8\" class=\"data row60 col8\" >3</td>\n",
       "    </tr>\n",
       "    <tr>\n",
       "      <th id=\"T_2f882_level0_row61\" class=\"row_heading level0 row61\" >61</th>\n",
       "      <td id=\"T_2f882_row61_col0\" class=\"data row61 col0\" >62</td>\n",
       "      <td id=\"T_2f882_row61_col1\" class=\"data row61 col1\" >1</td>\n",
       "      <td id=\"T_2f882_row61_col2\" class=\"data row61 col2\" >2</td>\n",
       "      <td id=\"T_2f882_row61_col3\" class=\"data row61 col3\" >1</td>\n",
       "      <td id=\"T_2f882_row61_col4\" class=\"data row61 col4\" >1</td>\n",
       "      <td id=\"T_2f882_row61_col5\" class=\"data row61 col5\" >1</td>\n",
       "      <td id=\"T_2f882_row61_col6\" class=\"data row61 col6\" >1</td>\n",
       "      <td id=\"T_2f882_row61_col7\" class=\"data row61 col7\" >2</td>\n",
       "      <td id=\"T_2f882_row61_col8\" class=\"data row61 col8\" >3</td>\n",
       "    </tr>\n",
       "    <tr>\n",
       "      <th id=\"T_2f882_level0_row62\" class=\"row_heading level0 row62\" >62</th>\n",
       "      <td id=\"T_2f882_row62_col0\" class=\"data row62 col0\" >63</td>\n",
       "      <td id=\"T_2f882_row62_col1\" class=\"data row62 col1\" >3</td>\n",
       "      <td id=\"T_2f882_row62_col2\" class=\"data row62 col2\" >2</td>\n",
       "      <td id=\"T_2f882_row62_col3\" class=\"data row62 col3\" >1</td>\n",
       "      <td id=\"T_2f882_row62_col4\" class=\"data row62 col4\" >1</td>\n",
       "      <td id=\"T_2f882_row62_col5\" class=\"data row62 col5\" >3</td>\n",
       "      <td id=\"T_2f882_row62_col6\" class=\"data row62 col6\" >1</td>\n",
       "      <td id=\"T_2f882_row62_col7\" class=\"data row62 col7\" >2</td>\n",
       "      <td id=\"T_2f882_row62_col8\" class=\"data row62 col8\" >3</td>\n",
       "    </tr>\n",
       "    <tr>\n",
       "      <th id=\"T_2f882_level0_row63\" class=\"row_heading level0 row63\" >63</th>\n",
       "      <td id=\"T_2f882_row63_col0\" class=\"data row63 col0\" >64</td>\n",
       "      <td id=\"T_2f882_row63_col1\" class=\"data row63 col1\" >3</td>\n",
       "      <td id=\"T_2f882_row63_col2\" class=\"data row63 col2\" >2</td>\n",
       "      <td id=\"T_2f882_row63_col3\" class=\"data row63 col3\" >1</td>\n",
       "      <td id=\"T_2f882_row63_col4\" class=\"data row63 col4\" >1</td>\n",
       "      <td id=\"T_2f882_row63_col5\" class=\"data row63 col5\" >3</td>\n",
       "      <td id=\"T_2f882_row63_col6\" class=\"data row63 col6\" >1</td>\n",
       "      <td id=\"T_2f882_row63_col7\" class=\"data row63 col7\" >2</td>\n",
       "      <td id=\"T_2f882_row63_col8\" class=\"data row63 col8\" >3</td>\n",
       "    </tr>\n",
       "    <tr>\n",
       "      <th id=\"T_2f882_level0_row64\" class=\"row_heading level0 row64\" >64</th>\n",
       "      <td id=\"T_2f882_row64_col0\" class=\"data row64 col0\" >65</td>\n",
       "      <td id=\"T_2f882_row64_col1\" class=\"data row64 col1\" >1</td>\n",
       "      <td id=\"T_2f882_row64_col2\" class=\"data row64 col2\" >2</td>\n",
       "      <td id=\"T_2f882_row64_col3\" class=\"data row64 col3\" >1</td>\n",
       "      <td id=\"T_2f882_row64_col4\" class=\"data row64 col4\" >1</td>\n",
       "      <td id=\"T_2f882_row64_col5\" class=\"data row64 col5\" >3</td>\n",
       "      <td id=\"T_2f882_row64_col6\" class=\"data row64 col6\" >3</td>\n",
       "      <td id=\"T_2f882_row64_col7\" class=\"data row64 col7\" >2</td>\n",
       "      <td id=\"T_2f882_row64_col8\" class=\"data row64 col8\" >3</td>\n",
       "    </tr>\n",
       "    <tr>\n",
       "      <th id=\"T_2f882_level0_row65\" class=\"row_heading level0 row65\" >65</th>\n",
       "      <td id=\"T_2f882_row65_col0\" class=\"data row65 col0\" >66</td>\n",
       "      <td id=\"T_2f882_row65_col1\" class=\"data row65 col1\" >1</td>\n",
       "      <td id=\"T_2f882_row65_col2\" class=\"data row65 col2\" >2</td>\n",
       "      <td id=\"T_2f882_row65_col3\" class=\"data row65 col3\" >1</td>\n",
       "      <td id=\"T_2f882_row65_col4\" class=\"data row65 col4\" >1</td>\n",
       "      <td id=\"T_2f882_row65_col5\" class=\"data row65 col5\" >3</td>\n",
       "      <td id=\"T_2f882_row65_col6\" class=\"data row65 col6\" >3</td>\n",
       "      <td id=\"T_2f882_row65_col7\" class=\"data row65 col7\" >2</td>\n",
       "      <td id=\"T_2f882_row65_col8\" class=\"data row65 col8\" >3</td>\n",
       "    </tr>\n",
       "    <tr>\n",
       "      <th id=\"T_2f882_level0_row66\" class=\"row_heading level0 row66\" >66</th>\n",
       "      <td id=\"T_2f882_row66_col0\" class=\"data row66 col0\" >67</td>\n",
       "      <td id=\"T_2f882_row66_col1\" class=\"data row66 col1\" >1</td>\n",
       "      <td id=\"T_2f882_row66_col2\" class=\"data row66 col2\" >2</td>\n",
       "      <td id=\"T_2f882_row66_col3\" class=\"data row66 col3\" >1</td>\n",
       "      <td id=\"T_2f882_row66_col4\" class=\"data row66 col4\" >1</td>\n",
       "      <td id=\"T_2f882_row66_col5\" class=\"data row66 col5\" >3</td>\n",
       "      <td id=\"T_2f882_row66_col6\" class=\"data row66 col6\" >1</td>\n",
       "      <td id=\"T_2f882_row66_col7\" class=\"data row66 col7\" >1</td>\n",
       "      <td id=\"T_2f882_row66_col8\" class=\"data row66 col8\" >3</td>\n",
       "    </tr>\n",
       "    <tr>\n",
       "      <th id=\"T_2f882_level0_row67\" class=\"row_heading level0 row67\" >67</th>\n",
       "      <td id=\"T_2f882_row67_col0\" class=\"data row67 col0\" >68</td>\n",
       "      <td id=\"T_2f882_row67_col1\" class=\"data row67 col1\" >1</td>\n",
       "      <td id=\"T_2f882_row67_col2\" class=\"data row67 col2\" >2</td>\n",
       "      <td id=\"T_2f882_row67_col3\" class=\"data row67 col3\" >1</td>\n",
       "      <td id=\"T_2f882_row67_col4\" class=\"data row67 col4\" >1</td>\n",
       "      <td id=\"T_2f882_row67_col5\" class=\"data row67 col5\" >3</td>\n",
       "      <td id=\"T_2f882_row67_col6\" class=\"data row67 col6\" >1</td>\n",
       "      <td id=\"T_2f882_row67_col7\" class=\"data row67 col7\" >2</td>\n",
       "      <td id=\"T_2f882_row67_col8\" class=\"data row67 col8\" >3</td>\n",
       "    </tr>\n",
       "    <tr>\n",
       "      <th id=\"T_2f882_level0_row68\" class=\"row_heading level0 row68\" >68</th>\n",
       "      <td id=\"T_2f882_row68_col0\" class=\"data row68 col0\" >69</td>\n",
       "      <td id=\"T_2f882_row68_col1\" class=\"data row68 col1\" >1</td>\n",
       "      <td id=\"T_2f882_row68_col2\" class=\"data row68 col2\" >2</td>\n",
       "      <td id=\"T_2f882_row68_col3\" class=\"data row68 col3\" >1</td>\n",
       "      <td id=\"T_2f882_row68_col4\" class=\"data row68 col4\" >1</td>\n",
       "      <td id=\"T_2f882_row68_col5\" class=\"data row68 col5\" >3</td>\n",
       "      <td id=\"T_2f882_row68_col6\" class=\"data row68 col6\" >1</td>\n",
       "      <td id=\"T_2f882_row68_col7\" class=\"data row68 col7\" >2</td>\n",
       "      <td id=\"T_2f882_row68_col8\" class=\"data row68 col8\" >3</td>\n",
       "    </tr>\n",
       "    <tr>\n",
       "      <th id=\"T_2f882_level0_row69\" class=\"row_heading level0 row69\" >69</th>\n",
       "      <td id=\"T_2f882_row69_col0\" class=\"data row69 col0\" >70</td>\n",
       "      <td id=\"T_2f882_row69_col1\" class=\"data row69 col1\" >1</td>\n",
       "      <td id=\"T_2f882_row69_col2\" class=\"data row69 col2\" >2</td>\n",
       "      <td id=\"T_2f882_row69_col3\" class=\"data row69 col3\" >1</td>\n",
       "      <td id=\"T_2f882_row69_col4\" class=\"data row69 col4\" >1</td>\n",
       "      <td id=\"T_2f882_row69_col5\" class=\"data row69 col5\" >3</td>\n",
       "      <td id=\"T_2f882_row69_col6\" class=\"data row69 col6\" >1</td>\n",
       "      <td id=\"T_2f882_row69_col7\" class=\"data row69 col7\" >2</td>\n",
       "      <td id=\"T_2f882_row69_col8\" class=\"data row69 col8\" >3</td>\n",
       "    </tr>\n",
       "    <tr>\n",
       "      <th id=\"T_2f882_level0_row70\" class=\"row_heading level0 row70\" >70</th>\n",
       "      <td id=\"T_2f882_row70_col0\" class=\"data row70 col0\" >71</td>\n",
       "      <td id=\"T_2f882_row70_col1\" class=\"data row70 col1\" >1</td>\n",
       "      <td id=\"T_2f882_row70_col2\" class=\"data row70 col2\" >2</td>\n",
       "      <td id=\"T_2f882_row70_col3\" class=\"data row70 col3\" >1</td>\n",
       "      <td id=\"T_2f882_row70_col4\" class=\"data row70 col4\" >1</td>\n",
       "      <td id=\"T_2f882_row70_col5\" class=\"data row70 col5\" >3</td>\n",
       "      <td id=\"T_2f882_row70_col6\" class=\"data row70 col6\" >1</td>\n",
       "      <td id=\"T_2f882_row70_col7\" class=\"data row70 col7\" >2</td>\n",
       "      <td id=\"T_2f882_row70_col8\" class=\"data row70 col8\" >3</td>\n",
       "    </tr>\n",
       "    <tr>\n",
       "      <th id=\"T_2f882_level0_row71\" class=\"row_heading level0 row71\" >71</th>\n",
       "      <td id=\"T_2f882_row71_col0\" class=\"data row71 col0\" >72</td>\n",
       "      <td id=\"T_2f882_row71_col1\" class=\"data row71 col1\" >1</td>\n",
       "      <td id=\"T_2f882_row71_col2\" class=\"data row71 col2\" >2</td>\n",
       "      <td id=\"T_2f882_row71_col3\" class=\"data row71 col3\" >1</td>\n",
       "      <td id=\"T_2f882_row71_col4\" class=\"data row71 col4\" >1</td>\n",
       "      <td id=\"T_2f882_row71_col5\" class=\"data row71 col5\" >3</td>\n",
       "      <td id=\"T_2f882_row71_col6\" class=\"data row71 col6\" >1</td>\n",
       "      <td id=\"T_2f882_row71_col7\" class=\"data row71 col7\" >2</td>\n",
       "      <td id=\"T_2f882_row71_col8\" class=\"data row71 col8\" >3</td>\n",
       "    </tr>\n",
       "    <tr>\n",
       "      <th id=\"T_2f882_level0_row72\" class=\"row_heading level0 row72\" >72</th>\n",
       "      <td id=\"T_2f882_row72_col0\" class=\"data row72 col0\" >73</td>\n",
       "      <td id=\"T_2f882_row72_col1\" class=\"data row72 col1\" >1</td>\n",
       "      <td id=\"T_2f882_row72_col2\" class=\"data row72 col2\" >2</td>\n",
       "      <td id=\"T_2f882_row72_col3\" class=\"data row72 col3\" >1</td>\n",
       "      <td id=\"T_2f882_row72_col4\" class=\"data row72 col4\" >1</td>\n",
       "      <td id=\"T_2f882_row72_col5\" class=\"data row72 col5\" >3</td>\n",
       "      <td id=\"T_2f882_row72_col6\" class=\"data row72 col6\" >1</td>\n",
       "      <td id=\"T_2f882_row72_col7\" class=\"data row72 col7\" >2</td>\n",
       "      <td id=\"T_2f882_row72_col8\" class=\"data row72 col8\" >3</td>\n",
       "    </tr>\n",
       "    <tr>\n",
       "      <th id=\"T_2f882_level0_row73\" class=\"row_heading level0 row73\" >73</th>\n",
       "      <td id=\"T_2f882_row73_col0\" class=\"data row73 col0\" >74</td>\n",
       "      <td id=\"T_2f882_row73_col1\" class=\"data row73 col1\" >1</td>\n",
       "      <td id=\"T_2f882_row73_col2\" class=\"data row73 col2\" >2</td>\n",
       "      <td id=\"T_2f882_row73_col3\" class=\"data row73 col3\" >1</td>\n",
       "      <td id=\"T_2f882_row73_col4\" class=\"data row73 col4\" >1</td>\n",
       "      <td id=\"T_2f882_row73_col5\" class=\"data row73 col5\" >3</td>\n",
       "      <td id=\"T_2f882_row73_col6\" class=\"data row73 col6\" >1</td>\n",
       "      <td id=\"T_2f882_row73_col7\" class=\"data row73 col7\" >2</td>\n",
       "      <td id=\"T_2f882_row73_col8\" class=\"data row73 col8\" >3</td>\n",
       "    </tr>\n",
       "    <tr>\n",
       "      <th id=\"T_2f882_level0_row74\" class=\"row_heading level0 row74\" >74</th>\n",
       "      <td id=\"T_2f882_row74_col0\" class=\"data row74 col0\" >75</td>\n",
       "      <td id=\"T_2f882_row74_col1\" class=\"data row74 col1\" >1</td>\n",
       "      <td id=\"T_2f882_row74_col2\" class=\"data row74 col2\" >2</td>\n",
       "      <td id=\"T_2f882_row74_col3\" class=\"data row74 col3\" >1</td>\n",
       "      <td id=\"T_2f882_row74_col4\" class=\"data row74 col4\" >1</td>\n",
       "      <td id=\"T_2f882_row74_col5\" class=\"data row74 col5\" >3</td>\n",
       "      <td id=\"T_2f882_row74_col6\" class=\"data row74 col6\" >1</td>\n",
       "      <td id=\"T_2f882_row74_col7\" class=\"data row74 col7\" >2</td>\n",
       "      <td id=\"T_2f882_row74_col8\" class=\"data row74 col8\" >3</td>\n",
       "    </tr>\n",
       "    <tr>\n",
       "      <th id=\"T_2f882_level0_row75\" class=\"row_heading level0 row75\" >75</th>\n",
       "      <td id=\"T_2f882_row75_col0\" class=\"data row75 col0\" >76</td>\n",
       "      <td id=\"T_2f882_row75_col1\" class=\"data row75 col1\" >1</td>\n",
       "      <td id=\"T_2f882_row75_col2\" class=\"data row75 col2\" >2</td>\n",
       "      <td id=\"T_2f882_row75_col3\" class=\"data row75 col3\" >1</td>\n",
       "      <td id=\"T_2f882_row75_col4\" class=\"data row75 col4\" >1</td>\n",
       "      <td id=\"T_2f882_row75_col5\" class=\"data row75 col5\" >3</td>\n",
       "      <td id=\"T_2f882_row75_col6\" class=\"data row75 col6\" >1</td>\n",
       "      <td id=\"T_2f882_row75_col7\" class=\"data row75 col7\" >2</td>\n",
       "      <td id=\"T_2f882_row75_col8\" class=\"data row75 col8\" >3</td>\n",
       "    </tr>\n",
       "    <tr>\n",
       "      <th id=\"T_2f882_level0_row76\" class=\"row_heading level0 row76\" >76</th>\n",
       "      <td id=\"T_2f882_row76_col0\" class=\"data row76 col0\" >77</td>\n",
       "      <td id=\"T_2f882_row76_col1\" class=\"data row76 col1\" >1</td>\n",
       "      <td id=\"T_2f882_row76_col2\" class=\"data row76 col2\" >2</td>\n",
       "      <td id=\"T_2f882_row76_col3\" class=\"data row76 col3\" >1</td>\n",
       "      <td id=\"T_2f882_row76_col4\" class=\"data row76 col4\" >1</td>\n",
       "      <td id=\"T_2f882_row76_col5\" class=\"data row76 col5\" >3</td>\n",
       "      <td id=\"T_2f882_row76_col6\" class=\"data row76 col6\" >1</td>\n",
       "      <td id=\"T_2f882_row76_col7\" class=\"data row76 col7\" >2</td>\n",
       "      <td id=\"T_2f882_row76_col8\" class=\"data row76 col8\" >3</td>\n",
       "    </tr>\n",
       "    <tr>\n",
       "      <th id=\"T_2f882_level0_row77\" class=\"row_heading level0 row77\" >77</th>\n",
       "      <td id=\"T_2f882_row77_col0\" class=\"data row77 col0\" >78</td>\n",
       "      <td id=\"T_2f882_row77_col1\" class=\"data row77 col1\" >1</td>\n",
       "      <td id=\"T_2f882_row77_col2\" class=\"data row77 col2\" >2</td>\n",
       "      <td id=\"T_2f882_row77_col3\" class=\"data row77 col3\" >1</td>\n",
       "      <td id=\"T_2f882_row77_col4\" class=\"data row77 col4\" >1</td>\n",
       "      <td id=\"T_2f882_row77_col5\" class=\"data row77 col5\" >3</td>\n",
       "      <td id=\"T_2f882_row77_col6\" class=\"data row77 col6\" >1</td>\n",
       "      <td id=\"T_2f882_row77_col7\" class=\"data row77 col7\" >2</td>\n",
       "      <td id=\"T_2f882_row77_col8\" class=\"data row77 col8\" >3</td>\n",
       "    </tr>\n",
       "    <tr>\n",
       "      <th id=\"T_2f882_level0_row78\" class=\"row_heading level0 row78\" >78</th>\n",
       "      <td id=\"T_2f882_row78_col0\" class=\"data row78 col0\" >79</td>\n",
       "      <td id=\"T_2f882_row78_col1\" class=\"data row78 col1\" >1</td>\n",
       "      <td id=\"T_2f882_row78_col2\" class=\"data row78 col2\" >2</td>\n",
       "      <td id=\"T_2f882_row78_col3\" class=\"data row78 col3\" >1</td>\n",
       "      <td id=\"T_2f882_row78_col4\" class=\"data row78 col4\" >1</td>\n",
       "      <td id=\"T_2f882_row78_col5\" class=\"data row78 col5\" >3</td>\n",
       "      <td id=\"T_2f882_row78_col6\" class=\"data row78 col6\" >1</td>\n",
       "      <td id=\"T_2f882_row78_col7\" class=\"data row78 col7\" >2</td>\n",
       "      <td id=\"T_2f882_row78_col8\" class=\"data row78 col8\" >3</td>\n",
       "    </tr>\n",
       "    <tr>\n",
       "      <th id=\"T_2f882_level0_row79\" class=\"row_heading level0 row79\" >79</th>\n",
       "      <td id=\"T_2f882_row79_col0\" class=\"data row79 col0\" >80</td>\n",
       "      <td id=\"T_2f882_row79_col1\" class=\"data row79 col1\" >1</td>\n",
       "      <td id=\"T_2f882_row79_col2\" class=\"data row79 col2\" >2</td>\n",
       "      <td id=\"T_2f882_row79_col3\" class=\"data row79 col3\" >1</td>\n",
       "      <td id=\"T_2f882_row79_col4\" class=\"data row79 col4\" >1</td>\n",
       "      <td id=\"T_2f882_row79_col5\" class=\"data row79 col5\" >3</td>\n",
       "      <td id=\"T_2f882_row79_col6\" class=\"data row79 col6\" >1</td>\n",
       "      <td id=\"T_2f882_row79_col7\" class=\"data row79 col7\" >2</td>\n",
       "      <td id=\"T_2f882_row79_col8\" class=\"data row79 col8\" >3</td>\n",
       "    </tr>\n",
       "  </tbody>\n",
       "</table>\n"
      ],
      "text/plain": [
       "<pandas.io.formats.style.Styler at 0x7f5d83d32bb0>"
      ]
     },
     "execution_count": 2,
     "metadata": {},
     "output_type": "execute_result"
    }
   ],
   "source": [
    "dataset.style"
   ]
  },
  {
   "cell_type": "markdown",
   "metadata": {
    "slideshow": {
     "slide_type": "slide"
    }
   },
   "source": [
    "You can find a brief description of the game that Terri used in her experiment at [https://montoya.econ.ubc.ca/Econ306/terri_experiment.pdf](https://montoya.econ.ubc.ca/Econ306/terri_experiment.pdf).  In the game described in that experiment, each of the lettered actions are replaced by a number, either 1,2 or 3.  For example, when a subject is playing as Player 4 in game 1, the actions k,l,m are replaced by 1,2,3 in the table above. \n",
    "\n",
    "Each player in the experiment makes 8 different choices, one is each of the four positions in experiment 1, and again each position in experiment 2.  In the table above the positions are labelled in a simple way, for example G2P2 means the position in which a player was acting as player 2 in game 2, and so on.  The numbers are interpreted as 1- top row, 2 - middle row, 3 - bottom row.  You can see what these mean by clicking on the link above which will show you a picture of the game.\n",
    "\n"
   ]
  },
  {
   "cell_type": "markdown",
   "metadata": {
    "slideshow": {
     "slide_type": "slide"
    }
   },
   "source": [
    "To see how to interpret things, Player 4 in game 1 (G1P4 in the table above) faces a payoff matrix that looks like this:\n",
    "<table> <tr><td> . </td><td>a</td><td>b</td><td>c</td></tr>\n",
    "<tr><td>K</td><td>12</td><td>16</td><td>14</td></tr>\n",
    "<tr><td>L</td><td>8</td><td>12</td><td>10</td></tr>\n",
    "<tr><td>M</td><td>6</td><td>10</td><td>8</td></tr>\n",
    "</table>\n",
    "\n",
    "The labels a, b, and c refer to the actions of player 1. The top row K is represented in the data with the numeral 1, L is 2, M is 3. Now list the columns that are contained in the table so you know how to refer to them.  You use the letters contained between the single quotes.  In the very first line, the player whose label is 1 used action 3 (M), while in the last line of data, the player has label 80, an chose action 1 when playing as player 4. \n",
    "\n"
   ]
  },
  {
   "cell_type": "markdown",
   "metadata": {},
   "source": [
    "In a traditional undergrad game theory class we would go on to 'solve' this game by iteratively deleting dominated strategies.  Player 4 in Game 1 has a strictly dominant strategy - play action 1. Once Player 3 realizes this, he or she should also take action 1 because they expect Player 4 to take play the dominant strategy.  Once player 2 realizes that Player 3 will take action 1 (because they expect player 4 to take action 1), they will respond with action 2.  Similarly Player 1 will take action 1.\n",
    "\n",
    "We'll call a player who reasons like this a 'solver'.  In Game 1, a solver should use the profile of actions ${1,2,1,1}$.\n",
    "\n",
    "In the dataframe above, each row represents a profile of actions for each of the two games. So there are 8 columns in the dataframe.  There are 80 subjects, so that makes 80 rows.  If we wanted to check whether the traditional assumption that all players are solvers is right, we could start by checking whether all of the 80 players used the same profile that a solver would.  Of course, what happens in practice is more complicated.  \n",
    "\n",
    "The dataset you see above is stored in something called a dataframe.  The library, pandas, that was imported above is the one used to analyze them.  A dataframe has named columns.  It is pretty easy too see what they are:"
   ]
  },
  {
   "cell_type": "code",
   "execution_count": 3,
   "metadata": {
    "collapsed": false,
    "jupyter": {
     "outputs_hidden": false
    },
    "slideshow": {
     "slide_type": "slide"
    }
   },
   "outputs": [
    {
     "data": {
      "text/plain": [
       "Index(['Subject', 'G1P1', 'G1P2', 'G1P3', 'G1P4', 'G2P1', 'G2P2', 'G2P3',\n",
       "       'G2P4'],\n",
       "      dtype='object')"
      ]
     },
     "execution_count": 3,
     "metadata": {},
     "output_type": "execute_result"
    }
   ],
   "source": [
    "dataset.columns"
   ]
  },
  {
   "cell_type": "markdown",
   "metadata": {},
   "source": [
    "When players are playing game 1 as player 4, they are supposed to take action 1 because it is a dominant strategy.  The first question to ask  of the data is whether they did that. One way to do that is just to draw a bar chart of the data in the column named 'G1P4'."
   ]
  },
  {
   "cell_type": "code",
   "execution_count": 4,
   "metadata": {
    "collapsed": false,
    "jupyter": {
     "outputs_hidden": false
    },
    "slideshow": {
     "slide_type": "slide"
    }
   },
   "outputs": [
    {
     "data": {
      "text/plain": [
       "<AxesSubplot:>"
      ]
     },
     "execution_count": 4,
     "metadata": {},
     "output_type": "execute_result"
    },
    {
     "data": {
      "image/png": "[encoded data removed]",
      "text/plain": [
       "<Figure size 640x480 with 1 Axes>"
      ]
     },
     "metadata": {},
     "output_type": "display_data"
    }
   ],
   "source": [
    "dataset['G1P4'].value_counts().plot(kind='bar')\n"
   ]
  },
  {
   "cell_type": "markdown",
   "metadata": {},
   "source": [
    "To get the actual value counts, you do it this way:"
   ]
  },
  {
   "cell_type": "code",
   "execution_count": 5,
   "metadata": {
    "collapsed": false,
    "jupyter": {
     "outputs_hidden": false
    },
    "slideshow": {
     "slide_type": "slide"
    }
   },
   "outputs": [
    {
     "data": {
      "text/plain": [
       "1    0.9500\n",
       "2    0.0375\n",
       "3    0.0125\n",
       "Name: G1P4, dtype: float64"
      ]
     },
     "metadata": {},
     "output_type": "display_data"
    }
   ],
   "source": [
    "ds = dataset['G1P4'].value_counts(normalize=True)\n",
    "display(ds)"
   ]
  },
  {
   "cell_type": "markdown",
   "metadata": {},
   "source": [
    "Or, if you just want the counts themselves, you would do it this way."
   ]
  },
  {
   "cell_type": "code",
   "execution_count": 6,
   "metadata": {
    "collapsed": false,
    "jupyter": {
     "outputs_hidden": false
    },
    "slideshow": {
     "slide_type": "slide"
    }
   },
   "outputs": [
    {
     "data": {
      "text/plain": [
       "1    76\n",
       "2     3\n",
       "3     1\n",
       "Name: G1P4, dtype: int64"
      ]
     },
     "execution_count": 6,
     "metadata": {},
     "output_type": "execute_result"
    }
   ],
   "source": [
    "dataset['G1P4'].value_counts()"
   ]
  },
  {
   "cell_type": "markdown",
   "metadata": {
    "slideshow": {
     "slide_type": "slide"
    }
   },
   "source": [
    "Finally, we get something we can use in game theory.  Subjects are supposed to  use action 1 when they play as player 4.  76  our of 80 (or 95%) actually did that.\n",
    "\n",
    "This is actually pretty good news because it suggests that the subjects that Kneeland used in her experiment are for the most part interested in making as much money as they can.  We can probably expect them to act the same way as other players, not in the sense that are solvers, but in the sense that they are choosing an action that provides them with the highest expected payment.\n",
    "\n",
    "On the other hand, since not all players are doing that, it isn't reasonable to expect that each player expects the other players to be solvers.\n",
    "\n",
    "## Nash Players\n",
    "\n",
    "Now what we would like to do is to look at subjects acting as Player 3 and calculate the best reply against this empirical distribution.  Theoretically, a Nash equilibrium is supposed to have the property that each player correctly guesses the probablity with which their opponent will take each of his or her possible actions. If $\\pi_1, \\pi_2$ and $1-\\pi_1-\\pi_2$ are the probabilities with which subjects in the rest of the group use action 1(k) or 2(1) or 3(m), then we would use the calculation \n",
    "$$\n",
    "20\\pi_1 + 14\\pi_2 +8(1-\\pi_1-\\pi_2)\n",
    "$$ \n",
    "to be the expected payoff associated with using action 1(h).  A similar calculation applies to the other two actions 2 and 3 (j or k in the reading).\n",
    "\n",
    "\n",
    "Now revert to sagemath to do the calculation as follows."
   ]
  },
  {
   "cell_type": "code",
   "execution_count": 7,
   "metadata": {
    "collapsed": false,
    "jupyter": {
     "outputs_hidden": false
    },
    "slideshow": {
     "slide_type": "slide"
    }
   },
   "outputs": [
    {
     "data": {
      "text/plain": [
       "19.625"
      ]
     },
     "execution_count": 7,
     "metadata": {},
     "output_type": "execute_result"
    }
   ],
   "source": [
    "((76/80)*20+(3/80)*14+(1/80)*8)"
   ]
  },
  {
   "cell_type": "markdown",
   "metadata": {},
   "source": [
    "If you leave out the n() you get the answer as a fraction.  Now we can do the same thing for action i (2):"
   ]
  },
  {
   "cell_type": "code",
   "execution_count": 8,
   "metadata": {
    "collapsed": false,
    "jupyter": {
     "outputs_hidden": false
    },
    "slideshow": {
     "slide_type": "slide"
    }
   },
   "outputs": [
    {
     "data": {
      "text/plain": [
       "15.499999999999998"
      ]
     },
     "execution_count": 8,
     "metadata": {},
     "output_type": "execute_result"
    }
   ],
   "source": [
    "((76/80)*16+(3/80)*2+(1/80)*18)"
   ]
  },
  {
   "cell_type": "markdown",
   "metadata": {
    "slideshow": {
     "slide_type": "slide"
    }
   },
   "source": [
    "Evidently, the best reply to the distribution of actions of the other subjects is the same as the solver's best action, at least when you are playing as Player 3.  The problem is to figure out whether this is true for the Players in the other positions and whether it is true for both games.  Use the sample code here to figure out an answer. \n",
    "<hr>\n",
    "You can change the way a bar chart is displayed.  Here is a way to make it easier to see what is going on."
   ]
  },
  {
   "cell_type": "code",
   "execution_count": 9,
   "metadata": {
    "slideshow": {
     "slide_type": "slide"
    }
   },
   "outputs": [
    {
     "data": {
      "text/plain": [
       "[Text(73, 0, ' 73'), Text(7, 1, ' 7')]"
      ]
     },
     "execution_count": 9,
     "metadata": {},
     "output_type": "execute_result"
    },
    {
     "data": {
      "image/png": "[encoded data removed]",
      "text/plain": [
       "<Figure size 640x480 with 1 Axes>"
      ]
     },
     "metadata": {},
     "output_type": "display_data"
    }
   ],
   "source": [
    "s = dataset['G1P3'].value_counts()\n",
    "ax = s.plot(kind='barh')\n",
    "[ax.text(v, i, ' {}'.format(v)) for i, v in enumerate(s)]"
   ]
  },
  {
   "cell_type": "code",
   "execution_count": 10,
   "metadata": {
    "slideshow": {
     "slide_type": "slide"
    }
   },
   "outputs": [
    {
     "data": {
      "text/plain": [
       "[Text(72, 0, ' 72'), Text(6, 1, ' 6'), Text(2, 2, ' 2')]"
      ]
     },
     "execution_count": 10,
     "metadata": {},
     "output_type": "execute_result"
    },
    {
     "data": {
      "image/png": "[encoded data removed]",
      "text/plain": [
       "<Figure size 640x480 with 1 Axes>"
      ]
     },
     "metadata": {},
     "output_type": "display_data"
    }
   ],
   "source": [
    "s = dataset['G1P2'].value_counts()\n",
    "ax = s.plot(kind='barh')\n",
    "[ax.text(v, i, ' {}'.format(v)) for i, v in enumerate(s)]"
   ]
  },
  {
   "cell_type": "code",
   "execution_count": 11,
   "metadata": {
    "slideshow": {
     "slide_type": "slide"
    }
   },
   "outputs": [
    {
     "data": {
      "text/plain": [
       "[Text(66, 0, ' 66'), Text(12, 1, ' 12'), Text(2, 2, ' 2')]"
      ]
     },
     "execution_count": 11,
     "metadata": {},
     "output_type": "execute_result"
    },
    {
     "data": {
      "image/png": "[encoded data removed]",
      "text/plain": [
       "<Figure size 640x480 with 1 Axes>"
      ]
     },
     "metadata": {},
     "output_type": "display_data"
    }
   ],
   "source": [
    "s = dataset['G1P1'].value_counts()\n",
    "ax = s.plot(kind='barh')\n",
    "[ax.text(v, i, ' {}'.format(v)) for i, v in enumerate(s)]"
   ]
  },
  {
   "cell_type": "markdown",
   "metadata": {},
   "source": [
    "Using the counts from these charts, it is easy to calculate that a Nash player will do the same thing as a solver in Game 1, no matter which player they are."
   ]
  },
  {
   "cell_type": "markdown",
   "metadata": {
    "slideshow": {
     "slide_type": "slide"
    }
   },
   "source": [
    "# Structural Estimation 1\n",
    "\n",
    "We can break the game down into two parts.\n",
    "\n",
    "The first part consists of a list of 'types' for the players.  A type describes everything we need to know about a subject to understand how they find their best reply.  This would typically include their payoffs (though in the game here, we'll assume all payoffs are the same) and their beliefs about the actions of the other players.\n",
    "\n",
    "The second part is the probability distribution over these types, which we'll try to estimate.\n",
    "\n",
    "We already have two possible types, solvers and Nash players.  At least in game 1, we can't tell them apart.  Yet some subjects are neither solvers nor nash players since they choose a dominated action.  When we add the results from Game 2 to the mix, there will be a lot more behavior\n",
    "In Game 1, Nash players and solvers behave the same way.  Neither of them is supposed to choose anything other than the dominant action as Player 4, but not all of them do.  So we'll need to add some more types to account for the data.\n",
    "\n",
    "The theory that Kneedland uses involves someting called 'levels of reasoning', casually referred to as the level-K model. The level-K model starts with some level 0 subject who play randomly.  Here we'll assume that they randomize with equal probability among all three of their actions in each game. Level 1 subjects believe that all other players are level 0 players, which means their beliefs are 'wrong'.  Level 2 subjects believe that all other players are level 1 players.  This is wrong as well, but their beliefs would be correct if all other players were actually level 1 players.  Generally, level k subjects believe that all other subjects are level k-1.  As will be seen, all subjects with levels higher than 3 behave the same way that the level three player does, so we can't tell them apart. \n",
    "\n",
    "We'll estimate the probabilities with which each subject has each level along with the probability that a subject is a Nash player.  That is $\\rho_0$, $\\rho_1$, $\\rho_2$, $\\rho_3$ and $\\rho_n$. \n",
    "\n"
   ]
  },
  {
   "cell_type": "markdown",
   "metadata": {
    "slideshow": {
     "slide_type": "slide"
    }
   },
   "source": [
    "What makes this somewhat complicated is that a level $i$ subject has to predict what a level $i-1$ subject will do as each player in the game.  To figure out what a level $i-1$ subject will do, you need to figure out what a level $i-2$ subject will do, and so on.  Terri's experiment keeps that all manageable.\n",
    "\n",
    "It is also a really nice introduction to the general topic of what is called 'higher order uncertainty' which is certainly a feature of experimental game theory.  A player in a game has higher order uncertain if he or she believes their opponent is rational, but is uncertain whether their opponent understands that they themselves are rational.\n",
    "\n",
    "In any case, the next step is to work out what subjects of each level 1,2, or 3 and above will do as each player in the game.  To start off, I'll shorten things by using only Game 1 and its outcomes. Then when the method is clear we can go on to use all the data from both games.\n"
   ]
  },
  {
   "cell_type": "markdown",
   "metadata": {
    "slideshow": {
     "slide_type": "slide"
    }
   },
   "source": [
    "In game 1, a level $0$ subject is expected to randomize with equal probability across all his or her actions.  This is supposed to be true no matter what player they are. All other levels of subject are expected to see that action 1 is a dominant strategy as player 4. \n",
    "\n",
    "In the bar chart above we saw that only 5 of the 80 subjects played something other than the dominant action 1.  This suggests that $\\rho_0$  is quite small.\n",
    "\n",
    "Now we can do some quick reasoning. Level 1 subjects playing as Player 4 are expected to choose the dominant action 1.  Subjects with a level greater than 0 are all expected to choose the dominant action as well.  Which means that level 2 and higher subjects as player 3 (again focussing only on game 1) choose the best reply 1 to the dominant action 1.\n",
    "\n",
    "Then working back through the players, subjects of level 2 and higher will best reply to their opponents best reply.  This is just like Nash equilibrium.  \n",
    "\n",
    "For a level 1 subject playing as Player 3, just calculate the expect payoff to each of the 3 possible actions.\n",
    "\n",
    "$$\n",
    "20(\\frac{1}{3})+14(\\frac{1}{3})+8(\\frac{1}{3})\n",
    "$$\n",
    "\n",
    "for action  2:\n",
    "$$\n",
    "16(\\frac{1}{3})+2(\\frac{1}{3})+18(\\frac{1}{3})\n",
    "$$\n",
    "\n",
    "and action 3:\n",
    "$$\n",
    "0(\\frac{1}{3})+16(\\frac{1}{3})+16(\\frac{1}{3})\n",
    "$$\n",
    "You don't really need any software to see that action 1 is best, but here is the calculation anyway:"
   ]
  },
  {
   "cell_type": "code",
   "execution_count": 12,
   "metadata": {
    "slideshow": {
     "slide_type": "slide"
    }
   },
   "outputs": [
    {
     "data": {
      "text/plain": [
       "14.0"
      ]
     },
     "metadata": {},
     "output_type": "display_data"
    },
    {
     "data": {
      "text/plain": [
       "12.0"
      ]
     },
     "metadata": {},
     "output_type": "display_data"
    },
    {
     "data": {
      "text/plain": [
       "10.666666666666666"
      ]
     },
     "metadata": {},
     "output_type": "display_data"
    }
   ],
   "source": [
    "display ((20/3+14/3+8/3))\n",
    "display ((16/3+2/3+18/3))\n",
    "display ((0/3+16/3+16/3))"
   ]
  },
  {
   "cell_type": "markdown",
   "metadata": {
    "slideshow": {
     "slide_type": "slide"
    }
   },
   "source": [
    "The implication is that a level 1 subject as player 3 will choose action 1, which is the action suggested by deleting dominated strategies, except that it is chosen here for a very different reason.\n",
    "\n",
    "Just to illustrate another technique you can use, we could imagine a player who believes that level 0 subjects exist who randomize equally among all their actions.  Otherwise, they have figured out that all the higher level subjects will use the dominant action as player 4 (in game 1).  If such a player believes that their opponent is a level 0 subject with probabiity $\\rho$, then we can figure out their best reply like this:"
   ]
  },
  {
   "cell_type": "code",
   "execution_count": 13,
   "metadata": {
    "slideshow": {
     "slide_type": "slide"
    }
   },
   "outputs": [
    {
     "data": {
      "text/plain": [
       "[<matplotlib.lines.Line2D at 0x7f5d8309da90>,\n",
       " <matplotlib.lines.Line2D at 0x7f5d8309dd60>,\n",
       " <matplotlib.lines.Line2D at 0x7f5d8302e070>]"
      ]
     },
     "execution_count": 13,
     "metadata": {},
     "output_type": "execute_result"
    },
    {
     "data": {
      "image/png": "[encoded data removed]",
      "text/plain": [
       "<Figure size 640x480 with 1 Axes>"
      ]
     },
     "metadata": {},
     "output_type": "display_data"
    }
   ],
   "source": [
    "def prof1(rho):\n",
    "    return 20*(1-rho)+rho*42/3\n",
    "def prof2(rho):\n",
    "    return 16*(1-rho)+rho*36/3\n",
    "def prof3(rho):\n",
    "    return rho*32/3\n",
    "x = np.linspace(0,1,50)\n",
    "p1 = plt.plot(x,prof1(x),color=\"red\")\n",
    "p2 = plt.plot(x,prof2(x),color=\"green\")\n",
    "p3 = plt.plot(x,prof3(x),color=\"blue\")\n",
    "p1+p2+p3"
   ]
  },
  {
   "cell_type": "markdown",
   "metadata": {
    "slideshow": {
     "slide_type": "slide"
    }
   },
   "source": [
    "The plots show the expected payoffs for each of the three actions available to player 3 in game 1 for all possible values of $\\rho$.  What the pictures show is that choosing action 1 (the red line) as player 3 always has a higher payoff that either of the other two actions.  This is even true if this player believes his opponent is level 0 with probability 1.\n",
    "\n",
    "Now we can go a bit faster.  As player 2, a level one player evaluates payoffs as $\\frac{36}{3}$ for 1, $\\frac{42}{3}$ for action 2, and $\\frac{34}{3}$ for action 3.  From this we get that a subject of level 1 plays action 2 as player 2. \n",
    "\n",
    "Similarly, when a level 1 subject is playing as Player 1 (in game 1), she believes player 2 will randomize among all three actions equally.  So the payoff is $\\frac{40}{3}$ for action 1, $\\frac{24}{3}$ for action 2 and $\\frac{36}{3}$ for action 3.\n",
    "\n",
    "Summing it all up, in Game 1, a subject of level 1 should take the actions ${1,2,1,1}$.  For game 1, that is the same thing that you would get by deleting dominant strategies (though you'll see changes in this regard when we add the actions from Game 2).\n",
    "\n",
    "Now that we know what a level 1 subject will do as each player in game 1, we can figure out what a level 2 subject would do, because level 2 thinks he is playing against level 1.  As player 4, they play the dominant action 1.  As player 3 they best reply to the dominant action and choose 1.  As player 2 they best reply to action 1 by player 3, and choose 2.  Finally as player 1, they best reply to action 2 (which is what player 1 does as player 2) and choose 1.\n",
    "\n",
    "So a level 2 player uses the profile of actions ${1,2,1,1}$.  Notice that we just argued that when a level 1 subject uses the profile ${1,2,1,1}$, then a level 2 must use the profile.  No matter what level $k$ a subject has, she expects her opponent to be level $k-1$, which means that a level $k$ subject will use the profile ${1,2,1,1}$ if she expects the level $k-1$ player to use it.  It then follows by induction that players of every level higher than $0$ will use the profile ${1,2,1,1}$ in game 1. \n",
    "\n"
   ]
  },
  {
   "cell_type": "markdown",
   "metadata": {
    "slideshow": {
     "slide_type": "slide"
    }
   },
   "source": [
    "The plots show the expected payoffs for each of the three actions available to player 3 in game 1 for all possible values of $\\rho$.  What the pictures show is that choosing action 1 (the red line) as player 3 always has a higher payoff that either of the other two actions.  This is even true if this player believes his opponent is level 0 with probability 1.\n",
    "\n",
    "Now we can go a bit faster.  As player 2, a level one player evaluates payoffs as $\\frac{36}{3}$ for 1, $\\frac{42}{3}$ for action 2, and $\\frac{34}{3}$ for action 3.  From this we get that a subject of level 1 plays action 2 as player 2. \n",
    "\n",
    "Similarly, when a level 1 subject is playing as Player 1 (in game 1), she believes player 2 will randomize among all three actions equally.  So the payoff is $\\frac{40}{3}$ for action 1, $\\frac{24}{3}$ for action 2 and $\\frac{36}{3}$ for action 3.\n",
    "\n",
    "Summing it all up, in Game 1, a subject of level 1 should take the actions ${1,2,1,1}$.  For game 1, that is the same thing that you would get by deleting dominant strategies (though you'll see changes in this regard when we add the actions from Game 2).\n",
    "\n",
    "Now that we know what a level 1 subject will do as each player in game 1, we can figure out what a level 2 subject would do, because level 2 thinks he is playing against level 1.  As player 4, they play the dominant action 1.  As player 3 they best reply to the dominant action and choose 1.  As player 2 they best reply to action 1 by player 3, and choose 2.  Finally as player 1, they best reply to action 2 (which is what player 1 does as player 2) and choose 1.\n",
    "\n",
    "So a level 2 player uses the profile of actions ${1,2,1,1}$.  Notice that we just argued that when a level 1 subject uses the profile ${1,2,1,1}$, then a level 2 must use the profile.  No matter what level $k$ a subject has, she expects her opponent to be level $k-1$, which means that a level $k$ subject will use the profile ${1,2,1,1}$ if she expects the level $k-1$ player to use it.  It then follows by induction that players of every level higher than $0$ will use the profile ${1,2,1,1}$ in game 1. \n",
    "\n"
   ]
  },
  {
   "cell_type": "markdown",
   "metadata": {
    "slideshow": {
     "slide_type": "slide"
    }
   },
   "source": [
    "Now we can illustrate how we would use the model to estimate the value of $\\rho$.  If we see any profile of actions in game 1 other than ${1,2,1,1}$, we know the subject is level 0.  However, the level 0 subject will sometimes choose the profile ${1,2,1,1}$ as well.  This probability is easy to calculate so far - it is the probability she uses action 1 as player 1 and the action 2 as player 2 and .... . In other words\n",
    "$$\n",
    "\\frac{1}{3^4}\n",
    "$$\n",
    "This calculation is based on the assumption that a level 0 player's actions are independently chosen in the various positions, which is an assumption in this theory.  Keep in mind that when we are 'estimating' parameters like $\\rho_0$, what we get is a value that is based on the underlying theoretical model we use to explain the data.\n",
    "\n",
    "This is true in all estimation problems in economics.  Even a simple regression assumes the underlying data is related in a linear way.\n",
    "\n",
    "In any case, what does it mean to 'estimate' $\\rho_0$.\n"
   ]
  },
  {
   "cell_type": "markdown",
   "metadata": {
    "slideshow": {
     "slide_type": "slide"
    }
   },
   "source": [
    "Subject 7 in the dataframe at the top of this page chooses all the correct actions in both games.  This can happen because the subject has a level higher than $0$ or because the subject is level 0 and randomly choses the correct actions.  So the probability of seeing this profile is\n",
    "$$\n",
    "(1-\\rho)+\\rho(\\frac{1}{3^4})\n",
    "$$\n",
    "\n",
    "Denote a row in the data frame as $r$ while the collection of all the rows is $R$.  Let $R_1$  be the set of rows where the 'correct' action is taken n every game, with $R-R_1$ being its complement.  The probability that a level 0 subject plays a profile of actions other than $1,2,1,1$ is $1-\\frac{1}{3^4}$ Then the probability of observing the data from Terri's experiment is\n",
    "$$\n",
    "\\prod_{r \\in R_1}(1-\\rho)+\\rho(\\frac{1}{3^4})\\cdot\\prod_{r\\in R-R_1}\\rho(1-\\frac{1}{3^4})\n",
    "$$\n",
    "\n",
    "You can no doubt see from this that the probability of seeing any particular collection of rows is very small.  However, we can still estimate $\\rho$ by asking which value makes the probability of the observed sample highest.\n",
    "\n"
   ]
  },
  {
   "cell_type": "markdown",
   "metadata": {
    "slideshow": {
     "slide_type": "slide"
    }
   },
   "source": [
    "Doing this directly is going to involve some pretty small numbers, so lets do it indirectly.  First lets define $\\pi$ to be the probability with which we think a subject will get all the actions 'right' in our theory.  Formally,\n",
    "$$\n",
    "\\pi=(1-\\rho)+\\rho(\\frac{1}{3^4})\n",
    "$$\n",
    "\n",
    "The probability that a subject gets one or more actions wrong is $1-\\pi$.  We'll try to estimate $\\pi$ instead of estimating $\\rho$ directly. "
   ]
  },
  {
   "cell_type": "markdown",
   "metadata": {
    "slideshow": {
     "slide_type": "slide"
    }
   },
   "source": [
    "If we run the experiment and get exactly $m$ actions that are consistent with K-level reasoning, and $n-m$ which aren't is\n",
    "$$\n",
    "{\\pi}^m (1-\\pi)^{(n-m)}\n",
    "$$\n",
    "To use this formula, we just have to figure out what to use for $m$ and $n$.  There are 80 subject, so that gives us $n$. Now we just have to figure out how many of them played 'correctly' in game 1.  Lets do this using a little python pandas:"
   ]
  },
  {
   "cell_type": "code",
   "execution_count": 14,
   "metadata": {
    "slideshow": {
     "slide_type": "slide"
    }
   },
   "outputs": [
    {
     "name": "stdout",
     "output_type": "stream",
     "text": [
      "62\n"
     ]
    }
   ],
   "source": [
    "seriesObj = dataset.apply(lambda x: True if x['G1P1'] == 1 and x['G1P2'] == 2\n",
    "                          and x['G1P3'] == 1 and x['G1P4'] == 1\n",
    "                          else False, axis='columns' )\n",
    "numOfRows = len(seriesObj[seriesObj == True].index)\n",
    "print(numOfRows)"
   ]
  },
  {
   "cell_type": "markdown",
   "metadata": {
    "slideshow": {
     "slide_type": "slide"
    }
   },
   "source": [
    "What this says is that 62 of the 80 subjects did the right thing in Game 1.  This makes the probablity of the sample equal to ${\\pi}^{62} (1-\\pi)^{(18)}$. We need to figure out what value of $\\pi$ will make this probability largest. Once once we do that, we can figure out what the best estimate of $\\rho$ is."
   ]
  },
  {
   "cell_type": "code",
   "execution_count": 15,
   "metadata": {
    "slideshow": {
     "slide_type": "slide"
    }
   },
   "outputs": [
    {
     "data": {
      "text/latex": [
       "$\\displaystyle - 18 \\pi^{62} \\left(1 - \\pi\\right)^{17} + 62 \\pi^{61} \\left(1 - \\pi\\right)^{18}$"
      ],
      "text/plain": [
       "-18*pi**62*(1 - pi)**17 + 62*pi**61*(1 - pi)**18"
      ]
     },
     "metadata": {},
     "output_type": "display_data"
    },
    {
     "data": {
      "text/plain": [
       "[0, 31/40, 1]"
      ]
     },
     "execution_count": 15,
     "metadata": {},
     "output_type": "execute_result"
    }
   ],
   "source": [
    "pi = symbols('pi')\n",
    "Prob = pi**62*(1-pi)**18\n",
    "dProb = diff(Prob,pi)\n",
    "display(dProb)\n",
    "solve(dProb,pi)"
   ]
  },
  {
   "cell_type": "markdown",
   "metadata": {
    "slideshow": {
     "slide_type": "slide"
    }
   },
   "source": [
    "The value of $\\pi$ that maximizes the probability of seeing the observed outcomes is 31/40, which is the same as 62/80.  Now we can find the value of $\\rho$  that makes $\\pi=\\frac{62}{80}$. "
   ]
  },
  {
   "cell_type": "code",
   "execution_count": 16,
   "metadata": {
    "slideshow": {
     "slide_type": "slide"
    }
   },
   "outputs": [
    {
     "data": {
      "text/plain": [
       "[0.227812500000000]"
      ]
     },
     "execution_count": 16,
     "metadata": {},
     "output_type": "execute_result"
    }
   ],
   "source": [
    "rho = symbols('rho')\n",
    "solve((1-rho)+rho*(1/3)**4-62/80,rho)"
   ]
  },
  {
   "cell_type": "markdown",
   "metadata": {
    "slideshow": {
     "slide_type": "slide"
    }
   },
   "source": [
    "This computation says that the best estimate of the probability with which a randomly chosen player will have level 0 is just a bit less that $\\frac{1}{4}$.  Also notice that since $\\frac{18}{60}$ is .225, the probability with which a randomly drawn player will have level 0 is slightly higher than the proportion of players who do not choose dominated action as player 4.\n",
    "\n",
    "So far, we have left out all the data from Game 2.  If you look closely at the two payoff tables, the only difference between game 1 and 2 is that row 1 and 3 have been interchanged, so that the dominant strategy for player 4 becomes 3 instead of 1.  Subjects of level 1 will switch their choice from 1 to 3 as Player 4. Yet they will continue to believe that their opponent is level 0 and will randomize with equal probablity.  As a consequence, since their payoffs are the same in game 2 as they are in game 1, they will do the same thing as they did in Game 1. In other words, they play action  1. Similar reasoning says they will make the same choices as player 1 and 2 as they did in Game 1 for the same reasons. So level 1 players use the pattern 1,2,1,3 in Game 2 and over both games they should use the pattern 1,2,1,1,1,2,1,3.  What that means exactly is that if you look at a row in the dataframe at the top and you want to check whether they player is level 1, you should look for the pattern 1,2,1,1,1,2,1,3.\n",
    "\n"
   ]
  },
  {
   "cell_type": "markdown",
   "metadata": {
    "slideshow": {
     "slide_type": "slide"
    }
   },
   "source": [
    "Level 2 players believe their opponents are level 1 players.  As such, they believe that as Player 3, their opponent will pick 3 meaning that they should switch to action 2.  Now a level 2 subject plays differently from a level 1 subject.  As Player 2, the best reply to their belief that Player 3 is level 1 and they will best reply to action 1 as it was in game 1.  Similarly as Player 1 they'll best reply to action 2 which is what they expect a level 1 player to choose.  So their pattern would be 1,2,1,1,1,2,2,3.\n",
    "\n",
    "Level 3 subjects expect level 2 opponents, so they choose 3 as player 4, 2 as player 3, so far looking exactly like a level 2 player.  As player 2 they expect a level 2 opponent as Player3.  The level 2 player chooses 2 as Player 3, so the level 3 player best replies to that by choosing 1, as does any higher level subject.  Finally, as Player 1 a level 3 subject expects a level 2 opponent as Player 2 and a level 2 Player 2 plays 2 as we figured out in the previous paragraph.  The best reply to action 2 by player 2 is action 1.  So a level 3 subject has pattern 1,1,2,3 in Game 2 and 1,2,1,1,1,1,2,3 overall."
   ]
  },
  {
   "cell_type": "markdown",
   "metadata": {
    "slideshow": {
     "slide_type": "slide"
    }
   },
   "source": [
    "Notice how nicely Terri's experimental design separates types 1, 2 and 3.\n",
    "\n",
    "For a level 4 player, we can pick actions by referencing the previous patterns.  As Player 4 they choose 3.  As Player 3 they best reply to 3 by choosing 2.  As player 2 they best reply to action 2 by Player 3 and choose 1, as player 1 they best reply to 1 and choose 3, so their pattern is 1,2,1,1,3,1,2,3.  This pattern is repeated for all higher level players."
   ]
  },
  {
   "cell_type": "markdown",
   "metadata": {},
   "source": [
    "I think you can see that since each subject believes the others are exactly one level lower, we could use exactly the same argument to show that if a subject of level $k-1$  uses the profile of actions ${1,2,1,1,3,1,2,3}$ then a level $k$ subject must do the same thing.\n",
    "\n",
    "This gives us an inductive proof that all levels above 3 play the same way. So having a very large number of levels in this case doesn't make you play like a player who deletes dominated strategies.  "
   ]
  },
  {
   "cell_type": "markdown",
   "metadata": {},
   "source": [
    "Now we have 4 distinct patterns, 1,2,1,1,1,2,1,3 then 1,2,1,1,1,2,2,3 then 1,2,1,1,1,1,2,3 then 1,2,1,1,3,1,2,3.  We can use pandas again to count them."
   ]
  },
  {
   "cell_type": "code",
   "execution_count": 17,
   "metadata": {
    "slideshow": {
     "slide_type": "slide"
    }
   },
   "outputs": [
    {
     "name": "stdout",
     "output_type": "stream",
     "text": [
      "7\n"
     ]
    }
   ],
   "source": [
    "seriesObj = dataset.apply(lambda x: True if x['G1P1'] == 1 and x['G1P2'] == 2\n",
    "                          and x['G1P3'] == 1 and x['G1P4'] == 1\n",
    "                          and x['G2P1'] == 1 and x['G2P2'] == 2\n",
    "                          and x['G2P3'] == 1 and x['G2P4'] == 3\n",
    "                          else False, axis='columns' )\n",
    "numOfRows = len(seriesObj[seriesObj == True].index)\n",
    "print(numOfRows)"
   ]
  },
  {
   "cell_type": "code",
   "execution_count": 18,
   "metadata": {
    "slideshow": {
     "slide_type": "slide"
    }
   },
   "outputs": [
    {
     "name": "stdout",
     "output_type": "stream",
     "text": [
      "12\n"
     ]
    }
   ],
   "source": [
    "seriesObj = dataset.apply(lambda x: True if x['G1P1'] == 1 and x['G1P2'] == 2\n",
    "                          and x['G1P3'] == 1 and x['G1P4'] == 1\n",
    "                          and x['G2P1'] == 1 and x['G2P2'] == 2\n",
    "                          and x['G2P3'] == 2 and x['G2P4'] == 3\n",
    "                          else False, axis='columns' )\n",
    "numOfRows = len(seriesObj[seriesObj == True].index)\n",
    "print(numOfRows)"
   ]
  },
  {
   "cell_type": "code",
   "execution_count": 19,
   "metadata": {
    "slideshow": {
     "slide_type": "slide"
    }
   },
   "outputs": [
    {
     "name": "stdout",
     "output_type": "stream",
     "text": [
      "14\n"
     ]
    }
   ],
   "source": [
    "seriesObj = dataset.apply(lambda x: True if x['G1P1'] == 1 and x['G1P2'] == 2\n",
    "                          and x['G1P3'] == 1 and x['G1P4'] == 1\n",
    "                          and x['G2P1'] == 1 and x['G2P2'] == 1\n",
    "                          and x['G2P3'] == 2 and x['G2P4'] == 3\n",
    "                          else False, axis='columns' )\n",
    "numOfRows = len(seriesObj[seriesObj == True].index)\n",
    "print(numOfRows)"
   ]
  },
  {
   "cell_type": "code",
   "execution_count": 20,
   "metadata": {},
   "outputs": [
    {
     "name": "stdout",
     "output_type": "stream",
     "text": [
      "13\n"
     ]
    }
   ],
   "source": [
    "seriesObj = dataset.apply(lambda x: True if x['G1P1'] == 1 and x['G1P2'] == 2\n",
    "                          and x['G1P3'] == 1 and x['G1P4'] == 1\n",
    "                          and x['G2P1'] == 3 and x['G2P2'] == 1\n",
    "                          and x['G2P3'] == 2 and x['G2P4'] == 3\n",
    "                          else False, axis='columns' )\n",
    "numOfRows = len(seriesObj[seriesObj == True].index)\n",
    "print(numOfRows)"
   ]
  },
  {
   "cell_type": "markdown",
   "metadata": {
    "slideshow": {
     "slide_type": "slide"
    }
   },
   "source": [
    "A Nash player is supposed to best reply to a belief about the distribution of actions of his opponents that that is 'correct'.  This is complex because the rational player now has beliefs about how likely it is that his opponents are level 0, 1, etc.  She may also believe that some of the other players are fully rational.  To figure out what she should do, she needs to figure out not only how likely it is that the other players are rational, but also what the other rational players will do.\n",
    "\n",
    "To proceed with this, lets use the Nash identifying assumption.  If a Nash player is best replying to a correct belief then, then whatever he or she does should be a best reply to the realized distribution of actions in the experiment.  The realized actions are random, and we can't know exactly their distribution.  We are hoping that with 80 players, the realized distrbution will be close to the unobserved true distribution.   So we can start by finding the distribution that a Nash player is supposed to best reply to:"
   ]
  },
  {
   "cell_type": "code",
   "execution_count": 21,
   "metadata": {
    "slideshow": {
     "slide_type": "slide"
    }
   },
   "outputs": [
    {
     "data": {
      "text/plain": [
       "3    0.9875\n",
       "2    0.0125\n",
       "Name: G2P4, dtype: float64"
      ]
     },
     "metadata": {},
     "output_type": "display_data"
    },
    {
     "data": {
      "text/plain": [
       "2    0.7875\n",
       "1    0.1625\n",
       "3    0.0500\n",
       "Name: G2P3, dtype: float64"
      ]
     },
     "metadata": {},
     "output_type": "display_data"
    },
    {
     "data": {
      "text/plain": [
       "1    0.475\n",
       "2    0.475\n",
       "3    0.050\n",
       "Name: G2P2, dtype: float64"
      ]
     },
     "metadata": {},
     "output_type": "display_data"
    }
   ],
   "source": [
    "ds = dataset['G2P4'].value_counts(normalize=true)\n",
    "display(ds) \n",
    "ds = dataset['G2P3'].value_counts(normalize=true)\n",
    "display(ds) \n",
    "ds = dataset['G2P2'].value_counts(normalize=true)\n",
    "display(ds) \n",
    "\n"
   ]
  },
  {
   "cell_type": "markdown",
   "metadata": {
    "slideshow": {
     "slide_type": "slide"
    }
   },
   "source": [
    "Now it is easy enough to work out a pattern. Pretty much everyone choose action 3 in Game 4.  A rational player will certainly do that, then respond with action 2 as Player 3 since he ought to believe that action 3 is very likely to be the action of his opponent.  \n",
    "\n",
    "As player 2 an Nash player should best reply to a strategy by his or her opponent that plays action 2 with probability .79, action 1 with probability .16, and action 3 with probability .05. A quick computation will show you that the best reply to this belief is action 1.  \n",
    "\n",
    "Finally as player 1, the Nash player would expect action 1 and 2 to be played with the same probability .475, while action 3 would be played with probability .05.\n",
    "\n",
    "The best reply is 3 (which is the strategy associated with deletion of dominated srategies and the action of a level 4 player).  Using the same argument for Game 1 indicates that a Nash player plays like one who deletes dominated strategies.   The experimental data doesn't distinguish between level 4, nash and fully rational players."
   ]
  },
  {
   "cell_type": "markdown",
   "metadata": {
    "slideshow": {
     "slide_type": "slide"
    }
   },
   "source": [
    "Do the calculation for level 5 players, you'll see that they do the same thing as level 4 players, as to level 6 players etc.\n",
    "\n",
    "Notice as well that the level 4 player does just what a player who deletes dominated strategies would do.  Level 4 also plays the same way as the Nash player.  (Do you think it is always true that there is some very high level player who plays like a fully rational player?)\n",
    "\n",
    "All this seems to suggest that the players can be divided the way Terri suggest as follows:\n",
    "<table><tr><td>Level 1</td><td>Level 2</td><td>Level 3</td><td>Level 4</td></tr><tr><td>7</td><td>12</td><td>14</td><td>13</td></tr></table>\n",
    "\n",
    "This is roughly consistent with Terri's interpretation, except that we have just over 40% of the subjects left over as level 0 subjects.  Also our identification isn't exact - each of the players who look rational, for example, may just be level 0 players who chanced upon the right combination of actions.  Since there seem to be a lot of level 0 players, we'll need to take account of this.\n",
    "\n",
    "Another way to put it is that K-level reasoning explains a little less than 60% of the data from the experiment.\n",
    "\n"
   ]
  },
  {
   "cell_type": "markdown",
   "metadata": {
    "slideshow": {
     "slide_type": "slide"
    }
   },
   "source": [
    "So lets proceed to see what can be done about estimation. We have bunch more parameters now, $\\rho_0$ as always represents the probability with which players are level $0$.  Now we have level 1,2,3 and up along with rational players to account for.  So add parameters $\\rho_1$, $\\rho_2$, $\\rho_3$ and $\\rho_r$  to the mix.  \n",
    "\n",
    "As before, we want to specify specific profiles of actions as 'successes' and use that approach to estimate the underlying probabilities $\\rho_i$.  The distribution we want is one called a multinomial distribution.  Unlike the binomial there are a number of 'successes' now defined by the different patters 1,2,1,1,1,2,1,3 then 1,2,1,1,1,2,2,3 then 1,2,1,1,1,1,2,3 and 1,2,1,1,3,1,2,3 for level 1, level 2, level 3 and above and the rational pattern. Let $$\\pi_1=\\rho_1+\\rho_0\\frac{1}{3^8}$$ be the probability that the level 1 pattern is played, $$\\pi_2=\\rho_2+\\rho_0\\frac{1}{3^8}$$ be the probability the level 2 pattern is played, $$\\pi_3=\\rho_3+\\rho_0\\frac{1}{3^8}$$ be the probability the level 3 pattern is played, and finally $$\\pi_r=\\rho_r+\\rho_0\\frac{1}{3^8}$$ be the probability the rational pattern is played.  All other patterns are lumped together and are played with probabiliy $$1-\\pi_1-\\pi_2-\\pi_3-\\pi_r$$\n",
    "\n"
   ]
  },
  {
   "cell_type": "markdown",
   "metadata": {
    "slideshow": {
     "slide_type": "slide"
    }
   },
   "source": [
    "The data is a collection in which there are 7,12,14,13 and 54 patterns of each type.  The probability of a realized data set like this is\n",
    "$$\n",
    "(\\pi_1^7)(\\pi_2^{12})(\\pi_3^{14})(\\pi_4^{13})(1-\\pi_1-\\pi_2-\\pi_3-\\pi_4)^{54}\n",
    "$$\n",
    "\n",
    "Just to be redundant, lets use simpy.  First I'll assert that the sample proportions are the best estimates for the probability with which each action is taken.  Best estimate means they make the sample most likely, so lets do a brute force computatation:\n"
   ]
  },
  {
   "cell_type": "code",
   "execution_count": 23,
   "metadata": {
    "slideshow": {
     "slide_type": "slide"
    }
   },
   "outputs": [
    {
     "data": {
      "text/latex": [
       "$\\displaystyle -329.136533616928$"
      ],
      "text/plain": [
       "-329.136533616928"
      ]
     },
     "execution_count": 23,
     "metadata": {},
     "output_type": "execute_result"
    }
   ],
   "source": [
    "Q=(((1/7)**7)*((1/12)**12)*((1/14)**14)*((1/13)**13)*((1/54)**54))\n",
    "log(Q)"
   ]
  },
  {
   "cell_type": "markdown",
   "metadata": {
    "slideshow": {
     "slide_type": "slide"
    }
   },
   "source": [
    "The actual probability of drawing this exact sample is so tiny it is unreadable.  The log of this probability, or the log likelihood is easier reading.  The more negative it is the smaller the probability.\n",
    "\n",
    "In any event we now find estimates of the probability with which a randomly drawn player from this dataset takes an action that is identifiably a level 0 action. This is \n",
    "$\\frac{54}{80}= \\pi_{0} $\n",
    "However, as you have seen, this calculation underestimates the probability with a player is level 0, since some level zero players will choose higher level action proviles by accident.  This time it is a bit easier to take a roundabout method of finding $\\rho_0$.\n",
    "\n",
    "This involves the following system of equations:\n",
    "for $\\rho_1$ solve\n",
    "$$\n",
    "\\begin{align}\n",
    "\\frac{7}{80}=\\rho_1+\\rho_0\\frac{1}{3^8} \\\\\n",
    "\\frac{12}{80}=\\rho_2+\\rho_0\\frac{1}{3^8} \\\\\n",
    "\\frac{14}{80}=\\rho_3+\\rho_0\\frac{1}{3^8} \\\\\n",
    "\\frac{13}{80}=\\rho_4+\\rho_0\\frac{1}{3^8} \\\\\n",
    "\\rho_0 = 1 - \\rho_1 - \\rho_2 - \\rho_3 - \\rho_4\n",
    "\\end{align}\n",
    "$$"
   ]
  },
  {
   "cell_type": "code",
   "execution_count": 53,
   "metadata": {
    "slideshow": {
     "slide_type": "slide"
    }
   },
   "outputs": [
    {
     "name": "stdout",
     "output_type": "stream",
     "text": [
      "{rho_1: 0.0874351837730670, rho_2: 0.149935183773067, rho_3: 0.174935183773067, rho_4: 0.162435183773067, rho_0: 0.425259264907732}\n"
     ]
    }
   ],
   "source": [
    "rho_1,rho_2,rho_3,rho_4,rho_0 = symbols('rho_1,rho_2,rho_3,rho_4,rho_0')\n",
    "eq1 = (7/80)-(rho_1+rho_0*(1/3)**8)\n",
    "eq2 = (12/80)-(rho_2+rho_0*(1/3)**8)\n",
    "eq3 = (14/80)-(rho_3+rho_0*(1/3)**8)\n",
    "eq4 = (13/80)-(rho_4+rho_0*(1/3)**8)\n",
    "eq5 = rho_0 - (1 -rho_1 - rho_2 - rho_3 - rho_4)\n",
    "sols = solve([eq1,eq2,eq3,eq4,eq5],[rho_1,rho_2,rho_3,rho_4,rho_0], Dict=True)\n",
    "print(sols)"
   ]
  },
  {
   "cell_type": "code",
   "execution_count": 51,
   "metadata": {},
   "outputs": [
    {
     "name": "stdout",
     "output_type": "stream",
     "text": [
      "1.00000000000000\n"
     ]
    }
   ],
   "source": [
    "print(sum(sols.values()))       "
   ]
  },
  {
   "cell_type": "markdown",
   "metadata": {
    "slideshow": {
     "slide_type": "slide"
    }
   },
   "source": [
    "Just to remind why we did this, notice the probability that a subject is level 2 is slightly less than the proportion of subjects who select the level 2 pattern.  The other levels are computed in a similar way."
   ]
  }
 ],
 "metadata": {
  "kernelspec": {
   "display_name": "Python 3 (ipykernel)",
   "language": "python",
   "name": "python3"
  },
  "language_info": {
   "codemirror_mode": {
    "name": "ipython",
    "version": 3
   },
   "file_extension": ".py",
   "mimetype": "text/x-python",
   "name": "python",
   "nbconvert_exporter": "python",
   "pygments_lexer": "ipython3",
   "version": "3.9.13"
  }
 },
 "nbformat": 4,
 "nbformat_minor": 4
}
