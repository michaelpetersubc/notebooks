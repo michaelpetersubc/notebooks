{
 "cells": [
  {
   "cell_type": "code",
   "execution_count": 1,
   "id": "3593ded8-761f-4fc3-9762-bfefc1703c6d",
   "metadata": {},
   "outputs": [],
   "source": [
    "#using Pkg\n",
    "#Pkg.add(\"Chain\")\n",
    "#Pkg.add(\"DataFrames\")\n",
    "#Pkg.add(\"CSV\")\n",
    "#Pkg.add(\"Statistics\")\n",
    "using DataFrames, CSV, Statistics, Chain\n",
    "using Distributions,Optim, Plots\n",
    "dataset = CSV.read(\"datamerged2.csv\", DataFrame);"
   ]
  },
  {
   "cell_type": "markdown",
   "id": "f39be8e6-dcc0-4be9-8191-0580a3e6558f",
   "metadata": {},
   "source": [
    "# The Estimation Plan\n",
    "\n",
    "Collect the data from all the offers in treatment 1 (no lower bounde on offers).  Use only the data from round 2, where all the players are supposed to be experienced.  Convert multiple offers from each principle into a single offer by taking their average. Convert all of the responses from the same responder and find the lowest offer they accepted.  (This ignores cases where a reponder rejected a particular offer, then later accepted a lower one).  Convert this into a pair of vectors to be fed as data to a likelihood function.\n",
    "\n",
    "Use a truncated normal distribution with a lower truncation point at 1, with no upper truncation point to represent the distribution of loss aversion parameters.  We'll try to estimate its mean and variance.\n",
    "\n",
    "Construct the likelihood function and code it.\n",
    "\n",
    "Use the optim solver to minimize the negative of the log of the likelihood function to estimate the mean and variance of the distribution, the reservation value $r$, and the spitefulness parameter $\\alpha$."
   ]
  },
  {
   "cell_type": "code",
   "execution_count": 2,
   "id": "1ff16af6-7b29-4cc4-bbb4-76c61a093ccc",
   "metadata": {},
   "outputs": [
    {
     "data": {
      "text/html": [
       "<div><div style = \"float: left;\"><span>9×7 DataFrame</span></div><div style = \"clear: both;\"></div></div><div class = \"data-frame\" style = \"overflow-x: scroll;\"><table class = \"data-frame\" style = \"margin-bottom: 6px;\"><thead><tr class = \"header\"><th class = \"rowNumber\" style = \"font-weight: bold; text-align: right;\">Row</th><th style = \"text-align: left;\">variable</th><th style = \"text-align: left;\">mean</th><th style = \"text-align: left;\">min</th><th style = \"text-align: left;\">median</th><th style = \"text-align: left;\">max</th><th style = \"text-align: left;\">nmissing</th><th style = \"text-align: left;\">eltype</th></tr><tr class = \"subheader headerLastRow\"><th class = \"rowNumber\" style = \"font-weight: bold; text-align: right;\"></th><th title = \"Symbol\" style = \"text-align: left;\">Symbol</th><th title = \"Float64\" style = \"text-align: left;\">Float64</th><th title = \"Real\" style = \"text-align: left;\">Real</th><th title = \"Float64\" style = \"text-align: left;\">Float64</th><th title = \"Real\" style = \"text-align: left;\">Real</th><th title = \"Int64\" style = \"text-align: left;\">Int64</th><th title = \"DataType\" style = \"text-align: left;\">DataType</th></tr></thead><tbody><tr><td class = \"rowNumber\" style = \"font-weight: bold; text-align: right;\">1</td><td style = \"text-align: left;\">id</td><td style = \"text-align: right;\">136.852</td><td style = \"text-align: right;\">1</td><td style = \"text-align: right;\">133.0</td><td style = \"text-align: right;\">276</td><td style = \"text-align: right;\">0</td><td style = \"text-align: left;\">Int64</td></tr><tr><td class = \"rowNumber\" style = \"font-weight: bold; text-align: right;\">2</td><td style = \"text-align: left;\">treatment</td><td style = \"text-align: right;\">2.42475</td><td style = \"text-align: right;\">1</td><td style = \"text-align: right;\">3.0</td><td style = \"text-align: right;\">4</td><td style = \"text-align: right;\">0</td><td style = \"text-align: left;\">Int64</td></tr><tr><td class = \"rowNumber\" style = \"font-weight: bold; text-align: right;\">3</td><td style = \"text-align: left;\">tofrom</td><td style = \"text-align: right;\">144.308</td><td style = \"text-align: right;\">6</td><td style = \"text-align: right;\">145.0</td><td style = \"text-align: right;\">288</td><td style = \"text-align: right;\">0</td><td style = \"text-align: left;\">Int64</td></tr><tr><td class = \"rowNumber\" style = \"font-weight: bold; text-align: right;\">4</td><td style = \"text-align: left;\">value</td><td style = \"text-align: right;\">18.7922</td><td style = \"text-align: right;\">0.0</td><td style = \"text-align: right;\">20.0</td><td style = \"text-align: right;\">49.0</td><td style = \"text-align: right;\">0</td><td style = \"text-align: left;\">Float64</td></tr><tr><td class = \"rowNumber\" style = \"font-weight: bold; text-align: right;\">5</td><td style = \"text-align: left;\">role</td><td style = \"text-align: right;\">0.0</td><td style = \"text-align: right;\">0</td><td style = \"text-align: right;\">0.0</td><td style = \"text-align: right;\">0</td><td style = \"text-align: right;\">0</td><td style = \"text-align: left;\">Int64</td></tr><tr><td class = \"rowNumber\" style = \"font-weight: bold; text-align: right;\">6</td><td style = \"text-align: left;\">resp</td><td style = \"text-align: right;\">0.81462</td><td style = \"text-align: right;\">0</td><td style = \"text-align: right;\">1.0</td><td style = \"text-align: right;\">1</td><td style = \"text-align: right;\">0</td><td style = \"text-align: left;\">Int64</td></tr><tr><td class = \"rowNumber\" style = \"font-weight: bold; text-align: right;\">7</td><td style = \"text-align: left;\">round</td><td style = \"text-align: right;\">1.60774</td><td style = \"text-align: right;\">1</td><td style = \"text-align: right;\">2.0</td><td style = \"text-align: right;\">3</td><td style = \"text-align: right;\">0</td><td style = \"text-align: left;\">Int64</td></tr><tr><td class = \"rowNumber\" style = \"font-weight: bold; text-align: right;\">8</td><td style = \"text-align: left;\">rounds</td><td style = \"text-align: right;\">2.215</td><td style = \"text-align: right;\">2</td><td style = \"text-align: right;\">2.0</td><td style = \"text-align: right;\">3</td><td style = \"text-align: right;\">0</td><td style = \"text-align: left;\">Int64</td></tr><tr><td class = \"rowNumber\" style = \"font-weight: bold; text-align: right;\">9</td><td style = \"text-align: left;\">old</td><td style = \"text-align: right;\">0.701386</td><td style = \"text-align: right;\">0</td><td style = \"text-align: right;\">1.0</td><td style = \"text-align: right;\">2</td><td style = \"text-align: right;\">0</td><td style = \"text-align: left;\">Int64</td></tr></tbody></table></div>"
      ],
      "text/latex": [
       "\\begin{tabular}{r|ccccccc}\n",
       "\t& variable & mean & min & median & max & nmissing & eltype\\\\\n",
       "\t\\hline\n",
       "\t& Symbol & Float64 & Real & Float64 & Real & Int64 & DataType\\\\\n",
       "\t\\hline\n",
       "\t1 & id & 136.852 & 1 & 133.0 & 276 & 0 & Int64 \\\\\n",
       "\t2 & treatment & 2.42475 & 1 & 3.0 & 4 & 0 & Int64 \\\\\n",
       "\t3 & tofrom & 144.308 & 6 & 145.0 & 288 & 0 & Int64 \\\\\n",
       "\t4 & value & 18.7922 & 0.0 & 20.0 & 49.0 & 0 & Float64 \\\\\n",
       "\t5 & role & 0.0 & 0 & 0.0 & 0 & 0 & Int64 \\\\\n",
       "\t6 & resp & 0.81462 & 0 & 1.0 & 1 & 0 & Int64 \\\\\n",
       "\t7 & round & 1.60774 & 1 & 2.0 & 3 & 0 & Int64 \\\\\n",
       "\t8 & rounds & 2.215 & 2 & 2.0 & 3 & 0 & Int64 \\\\\n",
       "\t9 & old & 0.701386 & 0 & 1.0 & 2 & 0 & Int64 \\\\\n",
       "\\end{tabular}\n"
      ],
      "text/plain": [
       "\u001b[1m9×7 DataFrame\u001b[0m\n",
       "\u001b[1m Row \u001b[0m│\u001b[1m variable  \u001b[0m\u001b[1m mean       \u001b[0m\u001b[1m min  \u001b[0m\u001b[1m median  \u001b[0m\u001b[1m max   \u001b[0m\u001b[1m nmissing \u001b[0m\u001b[1m eltype   \u001b[0m\n",
       "     │\u001b[90m Symbol    \u001b[0m\u001b[90m Float64    \u001b[0m\u001b[90m Real \u001b[0m\u001b[90m Float64 \u001b[0m\u001b[90m Real  \u001b[0m\u001b[90m Int64    \u001b[0m\u001b[90m DataType \u001b[0m\n",
       "─────┼─────────────────────────────────────────────────────────────────\n",
       "   1 │ id         136.852      1      133.0  276           0  Int64\n",
       "   2 │ treatment    2.42475    1        3.0    4           0  Int64\n",
       "   3 │ tofrom     144.308      6      145.0  288           0  Int64\n",
       "   4 │ value       18.7922     0.0     20.0   49.0         0  Float64\n",
       "   5 │ role         0.0        0        0.0    0           0  Int64\n",
       "   6 │ resp         0.81462    0        1.0    1           0  Int64\n",
       "   7 │ round        1.60774    1        2.0    3           0  Int64\n",
       "   8 │ rounds       2.215      2        2.0    3           0  Int64\n",
       "   9 │ old          0.701386   0        1.0    2           0  Int64"
      ]
     },
     "execution_count": 2,
     "metadata": {},
     "output_type": "execute_result"
    }
   ],
   "source": [
    "describe(dataset)  ## summarize the dataset"
   ]
  },
  {
   "cell_type": "code",
   "execution_count": 3,
   "id": "bb4e8093-3f85-4c46-ab80-b657b4e627b8",
   "metadata": {},
   "outputs": [],
   "source": [
    "#filter the dataframe to find all the rows associated with treatment 1 round2\n",
    "# group these rows by theh proposer id\n",
    "# combine the grouped rows then take the mean offer in each row\n",
    "## this leaves 55 observations (that is, 55 different proposers)\n",
    "## the chain package above is used to convert tows of a dataframe into a vector (probably there are better ways to do this)\n",
    "r0 = filter( row -> row.round == 2 && row.treatment ==1, dataset);\n",
    "subset = groupby(r0, :id);\n",
    "offs = combine(subset, :value => mean);\n",
    "offers = @chain offs begin\n",
    "    _.value_mean\n",
    "end;"
   ]
  },
  {
   "cell_type": "code",
   "execution_count": 4,
   "id": "0f32d29e-7556-4d3c-8fd7-63ba409f7cda",
   "metadata": {},
   "outputs": [],
   "source": [
    "# repeat the operation abouve by filter out all the rejects, group by tofrom (thatis, the responders), group them then apply the minimum operation across each group\n",
    "r1 = filter( row -> row.resp == 1, r0);\n",
    "r = groupby(r1, :tofrom);\n",
    "resp = combine(r, :value => minimum);\n",
    "responses = @chain resp begin\n",
    "   _.value_minimum\n",
    "end;"
   ]
  },
  {
   "cell_type": "markdown",
   "id": "88220f69-6a60-4c56-bc33-7d81773e1fff",
   "metadata": {},
   "source": [
    "# The likelihood function\n",
    "Let $s_i$ be the 'offer' made by proposer $i$, and $\\underline{s}_j$ the lowest offer accepted by responder $j$.  Then define\n",
    "$\\mathcal{L}(G,r,\\alpha)$ to be equal to \n",
    "$$\n",
    "\\prod_i \\biggl\\{ G^\\prime(\\frac{2Q(s_i)(1+2\\alpha)}{Q^\\prime(s_i)} - 2(1-s_i(1+2\\alpha)) + 1)\\biggr\\} \\times \\prod_j\\biggl\\{1 - G\\left(\\frac{r-\\underline{s}_j+\\frac{1}{2}}{r}\\right)\\biggr\\}\n",
    "$$\n",
    "\n",
    "In this expression \n",
    "$$\n",
    "1-G(\\frac{r-s+\\frac{1}{2}}{r}) = Q(s)\n",
    "$$\n",
    "whenever $s \\ge r$ while\n",
    "for $s<r$  \n",
    "$$\n",
    "Q(s) = 1-G(\\frac{1}{2s}).\n",
    "$$"
   ]
  },
  {
   "cell_type": "markdown",
   "id": "83a379c2-7f7e-4522-b028-7080b3caa888",
   "metadata": {},
   "source": [
    "To estimate the distribution of loss aversion parameters we'll use a parametric distribution function.  Specificall, the truncated normal distribution.  This comes from the `Distributions` library loaded above.  The lower truncation point is 1 as the loss aversion type has a lower bound at 1.  There is no reason to impose any upper limit at this point so we use `Inf`. If you'd like to look at the distribution, uncomment the plot command after the definition."
   ]
  },
  {
   "cell_type": "code",
   "execution_count": 5,
   "id": "b6c0efc1-4fa9-4f4f-ac9f-6a5baf953395",
   "metadata": {},
   "outputs": [
    {
     "data": {
      "image/svg+xml": [
       "<?xml version=\"1.0\" encoding=\"utf-8\"?>\n",
       "<svg xmlns=\"http://www.w3.org/2000/svg\" xmlns:xlink=\"http://www.w3.org/1999/xlink\" width=\"600\" height=\"400\" viewBox=\"0 0 2400 1600\">\n",
       "<defs>\n",
       "  <clipPath id=\"clip330\">\n",
       "    <rect x=\"0\" y=\"0\" width=\"2400\" height=\"1600\"/>\n",
       "  </clipPath>\n",
       "</defs>\n",
       "<path clip-path=\"url(#clip330)\" d=\"M0 1600 L2400 1600 L2400 0 L0 0  Z\" fill=\"#ffffff\" fill-rule=\"evenodd\" fill-opacity=\"1\"/>\n",
       "<defs>\n",
       "  <clipPath id=\"clip331\">\n",
       "    <rect x=\"480\" y=\"0\" width=\"1681\" height=\"1600\"/>\n",
       "  </clipPath>\n",
       "</defs>\n",
       "<path clip-path=\"url(#clip330)\" d=\"M216.436 1486.45 L2352.76 1486.45 L2352.76 47.2441 L216.436 47.2441  Z\" fill=\"#ffffff\" fill-rule=\"evenodd\" fill-opacity=\"1\"/>\n",
       "<defs>\n",
       "  <clipPath id=\"clip332\">\n",
       "    <rect x=\"216\" y=\"47\" width=\"2137\" height=\"1440\"/>\n",
       "  </clipPath>\n",
       "</defs>\n",
       "<polyline clip-path=\"url(#clip332)\" style=\"stroke:#000000; stroke-linecap:round; stroke-linejoin:round; stroke-width:2; stroke-opacity:0.1; fill:none\" points=\"500.831,1486.45 500.831,47.2441 \"/>\n",
       "<polyline clip-path=\"url(#clip332)\" style=\"stroke:#000000; stroke-linecap:round; stroke-linejoin:round; stroke-width:2; stroke-opacity:0.1; fill:none\" points=\"948.697,1486.45 948.697,47.2441 \"/>\n",
       "<polyline clip-path=\"url(#clip332)\" style=\"stroke:#000000; stroke-linecap:round; stroke-linejoin:round; stroke-width:2; stroke-opacity:0.1; fill:none\" points=\"1396.56,1486.45 1396.56,47.2441 \"/>\n",
       "<polyline clip-path=\"url(#clip332)\" style=\"stroke:#000000; stroke-linecap:round; stroke-linejoin:round; stroke-width:2; stroke-opacity:0.1; fill:none\" points=\"1844.43,1486.45 1844.43,47.2441 \"/>\n",
       "<polyline clip-path=\"url(#clip332)\" style=\"stroke:#000000; stroke-linecap:round; stroke-linejoin:round; stroke-width:2; stroke-opacity:0.1; fill:none\" points=\"2292.29,1486.45 2292.29,47.2441 \"/>\n",
       "<polyline clip-path=\"url(#clip330)\" style=\"stroke:#000000; stroke-linecap:round; stroke-linejoin:round; stroke-width:4; stroke-opacity:1; fill:none\" points=\"216.436,1486.45 2352.76,1486.45 \"/>\n",
       "<polyline clip-path=\"url(#clip330)\" style=\"stroke:#000000; stroke-linecap:round; stroke-linejoin:round; stroke-width:4; stroke-opacity:1; fill:none\" points=\"500.831,1486.45 500.831,1467.55 \"/>\n",
       "<polyline clip-path=\"url(#clip330)\" style=\"stroke:#000000; stroke-linecap:round; stroke-linejoin:round; stroke-width:4; stroke-opacity:1; fill:none\" points=\"948.697,1486.45 948.697,1467.55 \"/>\n",
       "<polyline clip-path=\"url(#clip330)\" style=\"stroke:#000000; stroke-linecap:round; stroke-linejoin:round; stroke-width:4; stroke-opacity:1; fill:none\" points=\"1396.56,1486.45 1396.56,1467.55 \"/>\n",
       "<polyline clip-path=\"url(#clip330)\" style=\"stroke:#000000; stroke-linecap:round; stroke-linejoin:round; stroke-width:4; stroke-opacity:1; fill:none\" points=\"1844.43,1486.45 1844.43,1467.55 \"/>\n",
       "<polyline clip-path=\"url(#clip330)\" style=\"stroke:#000000; stroke-linecap:round; stroke-linejoin:round; stroke-width:4; stroke-opacity:1; fill:none\" points=\"2292.29,1486.45 2292.29,1467.55 \"/>\n",
       "<path clip-path=\"url(#clip330)\" d=\"M495.483 1544.91 L511.803 1544.91 L511.803 1548.85 L489.859 1548.85 L489.859 1544.91 Q492.521 1542.16 497.104 1537.53 Q501.71 1532.88 502.891 1531.53 Q505.136 1529.01 506.016 1527.27 Q506.919 1525.51 506.919 1523.82 Q506.919 1521.07 504.974 1519.33 Q503.053 1517.6 499.951 1517.6 Q497.752 1517.6 495.298 1518.36 Q492.868 1519.13 490.09 1520.68 L490.09 1515.95 Q492.914 1514.82 495.368 1514.24 Q497.821 1513.66 499.858 1513.66 Q505.229 1513.66 508.423 1516.35 Q511.618 1519.03 511.618 1523.52 Q511.618 1525.65 510.807 1527.57 Q510.02 1529.47 507.914 1532.07 Q507.335 1532.74 504.233 1535.95 Q501.132 1539.15 495.483 1544.91 Z\" fill=\"#000000\" fill-rule=\"evenodd\" fill-opacity=\"1\" /><path clip-path=\"url(#clip330)\" d=\"M951.706 1518.36 L939.9 1536.81 L951.706 1536.81 L951.706 1518.36 M950.479 1514.29 L956.359 1514.29 L956.359 1536.81 L961.289 1536.81 L961.289 1540.7 L956.359 1540.7 L956.359 1548.85 L951.706 1548.85 L951.706 1540.7 L936.104 1540.7 L936.104 1536.19 L950.479 1514.29 Z\" fill=\"#000000\" fill-rule=\"evenodd\" fill-opacity=\"1\" /><path clip-path=\"url(#clip330)\" d=\"M1396.97 1529.7 Q1393.82 1529.7 1391.97 1531.86 Q1390.14 1534.01 1390.14 1537.76 Q1390.14 1541.49 1391.97 1543.66 Q1393.82 1545.82 1396.97 1545.82 Q1400.12 1545.82 1401.94 1543.66 Q1403.8 1541.49 1403.8 1537.76 Q1403.8 1534.01 1401.94 1531.86 Q1400.12 1529.7 1396.97 1529.7 M1406.25 1515.05 L1406.25 1519.31 Q1404.49 1518.48 1402.69 1518.04 Q1400.9 1517.6 1399.14 1517.6 Q1394.51 1517.6 1392.06 1520.72 Q1389.63 1523.85 1389.28 1530.17 Q1390.65 1528.15 1392.71 1527.09 Q1394.77 1526 1397.25 1526 Q1402.45 1526 1405.46 1529.17 Q1408.5 1532.32 1408.5 1537.76 Q1408.5 1543.08 1405.35 1546.3 Q1402.2 1549.52 1396.97 1549.52 Q1390.97 1549.52 1387.8 1544.94 Q1384.63 1540.33 1384.63 1531.6 Q1384.63 1523.41 1388.52 1518.55 Q1392.41 1513.66 1398.96 1513.66 Q1400.72 1513.66 1402.5 1514.01 Q1404.31 1514.36 1406.25 1515.05 Z\" fill=\"#000000\" fill-rule=\"evenodd\" fill-opacity=\"1\" /><path clip-path=\"url(#clip330)\" d=\"M1844.43 1532.44 Q1841.09 1532.44 1839.17 1534.22 Q1837.28 1536 1837.28 1539.13 Q1837.28 1542.25 1839.17 1544.03 Q1841.09 1545.82 1844.43 1545.82 Q1847.76 1545.82 1849.68 1544.03 Q1851.6 1542.23 1851.6 1539.13 Q1851.6 1536 1849.68 1534.22 Q1847.78 1532.44 1844.43 1532.44 M1839.75 1530.45 Q1836.74 1529.7 1835.05 1527.64 Q1833.39 1525.58 1833.39 1522.62 Q1833.39 1518.48 1836.33 1516.07 Q1839.29 1513.66 1844.43 1513.66 Q1849.59 1513.66 1852.53 1516.07 Q1855.47 1518.48 1855.47 1522.62 Q1855.47 1525.58 1853.78 1527.64 Q1852.11 1529.7 1849.13 1530.45 Q1852.51 1531.23 1854.38 1533.52 Q1856.28 1535.82 1856.28 1539.13 Q1856.28 1544.15 1853.2 1546.83 Q1850.15 1549.52 1844.43 1549.52 Q1838.71 1549.52 1835.63 1546.83 Q1832.58 1544.15 1832.58 1539.13 Q1832.58 1535.82 1834.47 1533.52 Q1836.37 1531.23 1839.75 1530.45 M1838.04 1523.06 Q1838.04 1525.75 1839.71 1527.25 Q1841.4 1528.76 1844.43 1528.76 Q1847.44 1528.76 1849.13 1527.25 Q1850.84 1525.75 1850.84 1523.06 Q1850.84 1520.38 1849.13 1518.87 Q1847.44 1517.37 1844.43 1517.37 Q1841.4 1517.37 1839.71 1518.87 Q1838.04 1520.38 1838.04 1523.06 Z\" fill=\"#000000\" fill-rule=\"evenodd\" fill-opacity=\"1\" /><path clip-path=\"url(#clip330)\" d=\"M2266.98 1544.91 L2274.62 1544.91 L2274.62 1518.55 L2266.31 1520.21 L2266.31 1515.95 L2274.57 1514.29 L2279.25 1514.29 L2279.25 1544.91 L2286.89 1544.91 L2286.89 1548.85 L2266.98 1548.85 L2266.98 1544.91 Z\" fill=\"#000000\" fill-rule=\"evenodd\" fill-opacity=\"1\" /><path clip-path=\"url(#clip330)\" d=\"M2306.33 1517.37 Q2302.72 1517.37 2300.89 1520.93 Q2299.09 1524.47 2299.09 1531.6 Q2299.09 1538.71 2300.89 1542.27 Q2302.72 1545.82 2306.33 1545.82 Q2309.97 1545.82 2311.77 1542.27 Q2313.6 1538.71 2313.6 1531.6 Q2313.6 1524.47 2311.77 1520.93 Q2309.97 1517.37 2306.33 1517.37 M2306.33 1513.66 Q2312.14 1513.66 2315.2 1518.27 Q2318.28 1522.85 2318.28 1531.6 Q2318.28 1540.33 2315.2 1544.94 Q2312.14 1549.52 2306.33 1549.52 Q2300.52 1549.52 2297.44 1544.94 Q2294.39 1540.33 2294.39 1531.6 Q2294.39 1522.85 2297.44 1518.27 Q2300.52 1513.66 2306.33 1513.66 Z\" fill=\"#000000\" fill-rule=\"evenodd\" fill-opacity=\"1\" /><polyline clip-path=\"url(#clip332)\" style=\"stroke:#000000; stroke-linecap:round; stroke-linejoin:round; stroke-width:2; stroke-opacity:0.1; fill:none\" points=\"216.436,1203.1 2352.76,1203.1 \"/>\n",
       "<polyline clip-path=\"url(#clip332)\" style=\"stroke:#000000; stroke-linecap:round; stroke-linejoin:round; stroke-width:2; stroke-opacity:0.1; fill:none\" points=\"216.436,829.213 2352.76,829.213 \"/>\n",
       "<polyline clip-path=\"url(#clip332)\" style=\"stroke:#000000; stroke-linecap:round; stroke-linejoin:round; stroke-width:2; stroke-opacity:0.1; fill:none\" points=\"216.436,455.322 2352.76,455.322 \"/>\n",
       "<polyline clip-path=\"url(#clip332)\" style=\"stroke:#000000; stroke-linecap:round; stroke-linejoin:round; stroke-width:2; stroke-opacity:0.1; fill:none\" points=\"216.436,81.4312 2352.76,81.4312 \"/>\n",
       "<polyline clip-path=\"url(#clip330)\" style=\"stroke:#000000; stroke-linecap:round; stroke-linejoin:round; stroke-width:4; stroke-opacity:1; fill:none\" points=\"216.436,1486.45 216.436,47.2441 \"/>\n",
       "<polyline clip-path=\"url(#clip330)\" style=\"stroke:#000000; stroke-linecap:round; stroke-linejoin:round; stroke-width:4; stroke-opacity:1; fill:none\" points=\"216.436,1203.1 235.334,1203.1 \"/>\n",
       "<polyline clip-path=\"url(#clip330)\" style=\"stroke:#000000; stroke-linecap:round; stroke-linejoin:round; stroke-width:4; stroke-opacity:1; fill:none\" points=\"216.436,829.213 235.334,829.213 \"/>\n",
       "<polyline clip-path=\"url(#clip330)\" style=\"stroke:#000000; stroke-linecap:round; stroke-linejoin:round; stroke-width:4; stroke-opacity:1; fill:none\" points=\"216.436,455.322 235.334,455.322 \"/>\n",
       "<polyline clip-path=\"url(#clip330)\" style=\"stroke:#000000; stroke-linecap:round; stroke-linejoin:round; stroke-width:4; stroke-opacity:1; fill:none\" points=\"216.436,81.4312 235.334,81.4312 \"/>\n",
       "<path clip-path=\"url(#clip330)\" d=\"M62.9365 1188.9 Q59.3254 1188.9 57.4967 1192.47 Q55.6912 1196.01 55.6912 1203.14 Q55.6912 1210.24 57.4967 1213.81 Q59.3254 1217.35 62.9365 1217.35 Q66.5707 1217.35 68.3763 1213.81 Q70.205 1210.24 70.205 1203.14 Q70.205 1196.01 68.3763 1192.47 Q66.5707 1188.9 62.9365 1188.9 M62.9365 1185.2 Q68.7467 1185.2 71.8022 1189.81 Q74.8809 1194.39 74.8809 1203.14 Q74.8809 1211.87 71.8022 1216.47 Q68.7467 1221.06 62.9365 1221.06 Q57.1264 1221.06 54.0477 1216.47 Q50.9921 1211.87 50.9921 1203.14 Q50.9921 1194.39 54.0477 1189.81 Q57.1264 1185.2 62.9365 1185.2 Z\" fill=\"#000000\" fill-rule=\"evenodd\" fill-opacity=\"1\" /><path clip-path=\"url(#clip330)\" d=\"M83.0984 1214.5 L87.9827 1214.5 L87.9827 1220.38 L83.0984 1220.38 L83.0984 1214.5 Z\" fill=\"#000000\" fill-rule=\"evenodd\" fill-opacity=\"1\" /><path clip-path=\"url(#clip330)\" d=\"M108.168 1188.9 Q104.557 1188.9 102.728 1192.47 Q100.922 1196.01 100.922 1203.14 Q100.922 1210.24 102.728 1213.81 Q104.557 1217.35 108.168 1217.35 Q111.802 1217.35 113.608 1213.81 Q115.436 1210.24 115.436 1203.14 Q115.436 1196.01 113.608 1192.47 Q111.802 1188.9 108.168 1188.9 M108.168 1185.2 Q113.978 1185.2 117.033 1189.81 Q120.112 1194.39 120.112 1203.14 Q120.112 1211.87 117.033 1216.47 Q113.978 1221.06 108.168 1221.06 Q102.358 1221.06 99.2789 1216.47 Q96.2234 1211.87 96.2234 1203.14 Q96.2234 1194.39 99.2789 1189.81 Q102.358 1185.2 108.168 1185.2 Z\" fill=\"#000000\" fill-rule=\"evenodd\" fill-opacity=\"1\" /><path clip-path=\"url(#clip330)\" d=\"M129.14 1216.45 L136.779 1216.45 L136.779 1190.08 L128.469 1191.75 L128.469 1187.49 L136.732 1185.82 L141.408 1185.82 L141.408 1216.45 L149.047 1216.45 L149.047 1220.38 L129.14 1220.38 L129.14 1216.45 Z\" fill=\"#000000\" fill-rule=\"evenodd\" fill-opacity=\"1\" /><path clip-path=\"url(#clip330)\" d=\"M168.491 1188.9 Q164.88 1188.9 163.052 1192.47 Q161.246 1196.01 161.246 1203.14 Q161.246 1210.24 163.052 1213.81 Q164.88 1217.35 168.491 1217.35 Q172.126 1217.35 173.931 1213.81 Q175.76 1210.24 175.76 1203.14 Q175.76 1196.01 173.931 1192.47 Q172.126 1188.9 168.491 1188.9 M168.491 1185.2 Q174.302 1185.2 177.357 1189.81 Q180.436 1194.39 180.436 1203.14 Q180.436 1211.87 177.357 1216.47 Q174.302 1221.06 168.491 1221.06 Q162.681 1221.06 159.603 1216.47 Q156.547 1211.87 156.547 1203.14 Q156.547 1194.39 159.603 1189.81 Q162.681 1185.2 168.491 1185.2 Z\" fill=\"#000000\" fill-rule=\"evenodd\" fill-opacity=\"1\" /><path clip-path=\"url(#clip330)\" d=\"M63.9319 815.012 Q60.3208 815.012 58.4921 818.576 Q56.6865 822.118 56.6865 829.248 Q56.6865 836.354 58.4921 839.919 Q60.3208 843.461 63.9319 843.461 Q67.5661 843.461 69.3717 839.919 Q71.2004 836.354 71.2004 829.248 Q71.2004 822.118 69.3717 818.576 Q67.5661 815.012 63.9319 815.012 M63.9319 811.308 Q69.742 811.308 72.7976 815.914 Q75.8763 820.498 75.8763 829.248 Q75.8763 837.974 72.7976 842.581 Q69.742 847.164 63.9319 847.164 Q58.1217 847.164 55.043 842.581 Q51.9875 837.974 51.9875 829.248 Q51.9875 820.498 55.043 815.914 Q58.1217 811.308 63.9319 811.308 Z\" fill=\"#000000\" fill-rule=\"evenodd\" fill-opacity=\"1\" /><path clip-path=\"url(#clip330)\" d=\"M84.0938 840.613 L88.978 840.613 L88.978 846.493 L84.0938 846.493 L84.0938 840.613 Z\" fill=\"#000000\" fill-rule=\"evenodd\" fill-opacity=\"1\" /><path clip-path=\"url(#clip330)\" d=\"M109.163 815.012 Q105.552 815.012 103.723 818.576 Q101.918 822.118 101.918 829.248 Q101.918 836.354 103.723 839.919 Q105.552 843.461 109.163 843.461 Q112.797 843.461 114.603 839.919 Q116.432 836.354 116.432 829.248 Q116.432 822.118 114.603 818.576 Q112.797 815.012 109.163 815.012 M109.163 811.308 Q114.973 811.308 118.029 815.914 Q121.107 820.498 121.107 829.248 Q121.107 837.974 118.029 842.581 Q114.973 847.164 109.163 847.164 Q103.353 847.164 100.274 842.581 Q97.2187 837.974 97.2187 829.248 Q97.2187 820.498 100.274 815.914 Q103.353 811.308 109.163 811.308 Z\" fill=\"#000000\" fill-rule=\"evenodd\" fill-opacity=\"1\" /><path clip-path=\"url(#clip330)\" d=\"M130.135 842.558 L137.774 842.558 L137.774 816.192 L129.464 817.859 L129.464 813.6 L137.728 811.933 L142.404 811.933 L142.404 842.558 L150.043 842.558 L150.043 846.493 L130.135 846.493 L130.135 842.558 Z\" fill=\"#000000\" fill-rule=\"evenodd\" fill-opacity=\"1\" /><path clip-path=\"url(#clip330)\" d=\"M159.533 811.933 L177.89 811.933 L177.89 815.868 L163.816 815.868 L163.816 824.34 Q164.834 823.993 165.853 823.831 Q166.871 823.646 167.89 823.646 Q173.677 823.646 177.056 826.817 Q180.436 829.988 180.436 835.405 Q180.436 840.984 176.964 844.086 Q173.491 847.164 167.172 847.164 Q164.996 847.164 162.728 846.794 Q160.482 846.423 158.075 845.683 L158.075 840.984 Q160.158 842.118 162.38 842.673 Q164.603 843.229 167.079 843.229 Q171.084 843.229 173.422 841.123 Q175.76 839.016 175.76 835.405 Q175.76 831.794 173.422 829.687 Q171.084 827.581 167.079 827.581 Q165.204 827.581 163.329 827.998 Q161.478 828.414 159.533 829.294 L159.533 811.933 Z\" fill=\"#000000\" fill-rule=\"evenodd\" fill-opacity=\"1\" /><path clip-path=\"url(#clip330)\" d=\"M62.9365 441.121 Q59.3254 441.121 57.4967 444.686 Q55.6912 448.227 55.6912 455.357 Q55.6912 462.463 57.4967 466.028 Q59.3254 469.57 62.9365 469.57 Q66.5707 469.57 68.3763 466.028 Q70.205 462.463 70.205 455.357 Q70.205 448.227 68.3763 444.686 Q66.5707 441.121 62.9365 441.121 M62.9365 437.417 Q68.7467 437.417 71.8022 442.023 Q74.8809 446.607 74.8809 455.357 Q74.8809 464.084 71.8022 468.69 Q68.7467 473.273 62.9365 473.273 Q57.1264 473.273 54.0477 468.69 Q50.9921 464.084 50.9921 455.357 Q50.9921 446.607 54.0477 442.023 Q57.1264 437.417 62.9365 437.417 Z\" fill=\"#000000\" fill-rule=\"evenodd\" fill-opacity=\"1\" /><path clip-path=\"url(#clip330)\" d=\"M83.0984 466.722 L87.9827 466.722 L87.9827 472.602 L83.0984 472.602 L83.0984 466.722 Z\" fill=\"#000000\" fill-rule=\"evenodd\" fill-opacity=\"1\" /><path clip-path=\"url(#clip330)\" d=\"M108.168 441.121 Q104.557 441.121 102.728 444.686 Q100.922 448.227 100.922 455.357 Q100.922 462.463 102.728 466.028 Q104.557 469.57 108.168 469.57 Q111.802 469.57 113.608 466.028 Q115.436 462.463 115.436 455.357 Q115.436 448.227 113.608 444.686 Q111.802 441.121 108.168 441.121 M108.168 437.417 Q113.978 437.417 117.033 442.023 Q120.112 446.607 120.112 455.357 Q120.112 464.084 117.033 468.69 Q113.978 473.273 108.168 473.273 Q102.358 473.273 99.2789 468.69 Q96.2234 464.084 96.2234 455.357 Q96.2234 446.607 99.2789 442.023 Q102.358 437.417 108.168 437.417 Z\" fill=\"#000000\" fill-rule=\"evenodd\" fill-opacity=\"1\" /><path clip-path=\"url(#clip330)\" d=\"M132.357 468.667 L148.677 468.667 L148.677 472.602 L126.732 472.602 L126.732 468.667 Q129.394 465.912 133.978 461.283 Q138.584 456.63 139.765 455.287 Q142.01 452.764 142.89 451.028 Q143.793 449.269 143.793 447.579 Q143.793 444.824 141.848 443.088 Q139.927 441.352 136.825 441.352 Q134.626 441.352 132.172 442.116 Q129.742 442.88 126.964 444.431 L126.964 439.709 Q129.788 438.574 132.242 437.996 Q134.695 437.417 136.732 437.417 Q142.103 437.417 145.297 440.102 Q148.492 442.787 148.492 447.278 Q148.492 449.408 147.681 451.329 Q146.894 453.227 144.788 455.82 Q144.209 456.491 141.107 459.709 Q138.006 462.903 132.357 468.667 Z\" fill=\"#000000\" fill-rule=\"evenodd\" fill-opacity=\"1\" /><path clip-path=\"url(#clip330)\" d=\"M168.491 441.121 Q164.88 441.121 163.052 444.686 Q161.246 448.227 161.246 455.357 Q161.246 462.463 163.052 466.028 Q164.88 469.57 168.491 469.57 Q172.126 469.57 173.931 466.028 Q175.76 462.463 175.76 455.357 Q175.76 448.227 173.931 444.686 Q172.126 441.121 168.491 441.121 M168.491 437.417 Q174.302 437.417 177.357 442.023 Q180.436 446.607 180.436 455.357 Q180.436 464.084 177.357 468.69 Q174.302 473.273 168.491 473.273 Q162.681 473.273 159.603 468.69 Q156.547 464.084 156.547 455.357 Q156.547 446.607 159.603 442.023 Q162.681 437.417 168.491 437.417 Z\" fill=\"#000000\" fill-rule=\"evenodd\" fill-opacity=\"1\" /><path clip-path=\"url(#clip330)\" d=\"M63.9319 67.2299 Q60.3208 67.2299 58.4921 70.7946 Q56.6865 74.3363 56.6865 81.4659 Q56.6865 88.5723 58.4921 92.1371 Q60.3208 95.6788 63.9319 95.6788 Q67.5661 95.6788 69.3717 92.1371 Q71.2004 88.5723 71.2004 81.4659 Q71.2004 74.3363 69.3717 70.7946 Q67.5661 67.2299 63.9319 67.2299 M63.9319 63.5262 Q69.742 63.5262 72.7976 68.1326 Q75.8763 72.7159 75.8763 81.4659 Q75.8763 90.1927 72.7976 94.7991 Q69.742 99.3825 63.9319 99.3825 Q58.1217 99.3825 55.043 94.7991 Q51.9875 90.1927 51.9875 81.4659 Q51.9875 72.7159 55.043 68.1326 Q58.1217 63.5262 63.9319 63.5262 Z\" fill=\"#000000\" fill-rule=\"evenodd\" fill-opacity=\"1\" /><path clip-path=\"url(#clip330)\" d=\"M84.0938 92.8316 L88.978 92.8316 L88.978 98.7112 L84.0938 98.7112 L84.0938 92.8316 Z\" fill=\"#000000\" fill-rule=\"evenodd\" fill-opacity=\"1\" /><path clip-path=\"url(#clip330)\" d=\"M109.163 67.2299 Q105.552 67.2299 103.723 70.7946 Q101.918 74.3363 101.918 81.4659 Q101.918 88.5723 103.723 92.1371 Q105.552 95.6788 109.163 95.6788 Q112.797 95.6788 114.603 92.1371 Q116.432 88.5723 116.432 81.4659 Q116.432 74.3363 114.603 70.7946 Q112.797 67.2299 109.163 67.2299 M109.163 63.5262 Q114.973 63.5262 118.029 68.1326 Q121.107 72.7159 121.107 81.4659 Q121.107 90.1927 118.029 94.7991 Q114.973 99.3825 109.163 99.3825 Q103.353 99.3825 100.274 94.7991 Q97.2187 90.1927 97.2187 81.4659 Q97.2187 72.7159 100.274 68.1326 Q103.353 63.5262 109.163 63.5262 Z\" fill=\"#000000\" fill-rule=\"evenodd\" fill-opacity=\"1\" /><path clip-path=\"url(#clip330)\" d=\"M133.353 94.776 L149.672 94.776 L149.672 98.7112 L127.728 98.7112 L127.728 94.776 Q130.39 92.0214 134.973 87.3918 Q139.58 82.739 140.76 81.3964 Q143.006 78.8733 143.885 77.1372 Q144.788 75.378 144.788 73.6882 Q144.788 70.9335 142.843 69.1974 Q140.922 67.4613 137.82 67.4613 Q135.621 67.4613 133.168 68.2252 Q130.737 68.9891 127.959 70.54 L127.959 65.8178 Q130.783 64.6836 133.237 64.1049 Q135.691 63.5262 137.728 63.5262 Q143.098 63.5262 146.293 66.2113 Q149.487 68.8965 149.487 73.3872 Q149.487 75.5168 148.677 77.4381 Q147.89 79.3363 145.783 81.9288 Q145.205 82.6001 142.103 85.8177 Q139.001 89.0121 133.353 94.776 Z\" fill=\"#000000\" fill-rule=\"evenodd\" fill-opacity=\"1\" /><path clip-path=\"url(#clip330)\" d=\"M159.533 64.1512 L177.89 64.1512 L177.89 68.0863 L163.816 68.0863 L163.816 76.5585 Q164.834 76.2113 165.853 76.0493 Q166.871 75.8641 167.89 75.8641 Q173.677 75.8641 177.056 79.0353 Q180.436 82.2066 180.436 87.6233 Q180.436 93.2019 176.964 96.3038 Q173.491 99.3825 167.172 99.3825 Q164.996 99.3825 162.728 99.0121 Q160.482 98.6417 158.075 97.901 L158.075 93.2019 Q160.158 94.3362 162.38 94.8917 Q164.603 95.4473 167.079 95.4473 Q171.084 95.4473 173.422 93.3408 Q175.76 91.2344 175.76 87.6233 Q175.76 84.0122 173.422 81.9057 Q171.084 79.7992 167.079 79.7992 Q165.204 79.7992 163.329 80.2159 Q161.478 80.6326 159.533 81.5122 L159.533 64.1512 Z\" fill=\"#000000\" fill-rule=\"evenodd\" fill-opacity=\"1\" /><polyline clip-path=\"url(#clip332)\" style=\"stroke:#009af9; stroke-linecap:round; stroke-linejoin:round; stroke-width:4; stroke-opacity:1; fill:none\" points=\"276.898,1445.72 290.019,1440.07 411.345,1385.69 484.256,1351.12 545.902,1320.76 612.867,1286.61 674.602,1254.04 740.79,1217.97 817.474,1174.68 885.621,1134.87 945.381,1098.94 1010.53,1058.68 1076.08,1017.06 1148.54,969.76 1217.49,923.531 1289.18,874.236 1349.52,831.8 1423.2,778.872 1490.7,729.353 1553.03,682.785 1616.17,634.843 1686.94,580.253 1751.07,530.058 1824.49,471.817 1892.47,417.235 1959.49,362.885 2024.56,309.681 2091.26,254.777 2164.35,194.302 2270.51,106.095 2292.29,87.9763 \"/>\n",
       "<path clip-path=\"url(#clip330)\" d=\"M287.647 198.898 L553.709 198.898 L553.709 95.2176 L287.647 95.2176  Z\" fill=\"#ffffff\" fill-rule=\"evenodd\" fill-opacity=\"1\"/>\n",
       "<polyline clip-path=\"url(#clip330)\" style=\"stroke:#000000; stroke-linecap:round; stroke-linejoin:round; stroke-width:4; stroke-opacity:1; fill:none\" points=\"287.647,198.898 553.709,198.898 553.709,95.2176 287.647,95.2176 287.647,198.898 \"/>\n",
       "<polyline clip-path=\"url(#clip330)\" style=\"stroke:#009af9; stroke-linecap:round; stroke-linejoin:round; stroke-width:4; stroke-opacity:1; fill:none\" points=\"311.383,147.058 453.805,147.058 \"/>\n",
       "<path clip-path=\"url(#clip330)\" d=\"M491.384 166.745 Q489.579 171.375 487.866 172.787 Q486.153 174.199 483.282 174.199 L479.88 174.199 L479.88 170.634 L482.38 170.634 Q484.139 170.634 485.111 169.8 Q486.083 168.967 487.264 165.865 L488.028 163.921 L477.542 138.412 L482.056 138.412 L490.157 158.689 L498.259 138.412 L502.773 138.412 L491.384 166.745 Z\" fill=\"#000000\" fill-rule=\"evenodd\" fill-opacity=\"1\" /><path clip-path=\"url(#clip330)\" d=\"M510.065 160.402 L517.703 160.402 L517.703 134.037 L509.393 135.703 L509.393 131.444 L517.657 129.778 L522.333 129.778 L522.333 160.402 L529.972 160.402 L529.972 164.338 L510.065 164.338 L510.065 160.402 Z\" fill=\"#000000\" fill-rule=\"evenodd\" fill-opacity=\"1\" /></svg>\n"
      ]
     },
     "execution_count": 5,
     "metadata": {},
     "output_type": "execute_result"
    }
   ],
   "source": [
    "G = TruncatedNormal(20, 10,1, Inf)\n",
    "plot(x -> pdf(G,x),1,10)"
   ]
  },
  {
   "cell_type": "code",
   "execution_count": 6,
   "id": "9078485e-7a38-4f92-9df5-41b865e82864",
   "metadata": {},
   "outputs": [
    {
     "data": {
      "text/plain": [
       "20.359986440026713"
      ]
     },
     "execution_count": 6,
     "metadata": {},
     "output_type": "execute_result"
    }
   ],
   "source": [
    "median(G)"
   ]
  },
  {
   "cell_type": "code",
   "execution_count": 7,
   "id": "0540a5c9-37ad-43ab-9bb4-01f4b604e504",
   "metadata": {},
   "outputs": [
    {
     "data": {
      "text/plain": [
       "0.1"
      ]
     },
     "execution_count": 7,
     "metadata": {},
     "output_type": "execute_result"
    }
   ],
   "source": [
    "#initialize\n",
    "mu = 20 # mean for the distribution\n",
    "sigma = 10 #variance\n",
    "r = 2\n",
    "K = 55\n",
    "R = .5*K\n",
    "alpha = 1/10"
   ]
  },
  {
   "cell_type": "code",
   "execution_count": 8,
   "id": "49c4bf55-e1c9-4b14-a2e3-85a360054e20",
   "metadata": {},
   "outputs": [
    {
     "data": {
      "text/plain": [
       "20.0"
      ]
     },
     "execution_count": 8,
     "metadata": {},
     "output_type": "execute_result"
    }
   ],
   "source": [
    "params = [mu, sigma, r, alpha]\n",
    "params[1]"
   ]
  },
  {
   "cell_type": "markdown",
   "id": "e1263e0b-c469-4c41-a8f7-cc2b7044e97a",
   "metadata": {},
   "source": [
    "The next functions give the probability of acceptance and its derivative.  The distribution functions depend on paramenters, so they are passed as arguments.  Make sure your functions assign values for all input arguments to prevent the likelihood compuation from looking out of bounds.  Especially, watch for zeros in denominators.\n"
   ]
  },
  {
   "cell_type": "code",
   "execution_count": 9,
   "id": "5e356ca8-123a-4f0e-aeea-0d48ded23972",
   "metadata": {},
   "outputs": [
    {
     "data": {
      "image/svg+xml": [
       "<?xml version=\"1.0\" encoding=\"utf-8\"?>\n",
       "<svg xmlns=\"http://www.w3.org/2000/svg\" xmlns:xlink=\"http://www.w3.org/1999/xlink\" width=\"600\" height=\"400\" viewBox=\"0 0 2400 1600\">\n",
       "<defs>\n",
       "  <clipPath id=\"clip370\">\n",
       "    <rect x=\"0\" y=\"0\" width=\"2400\" height=\"1600\"/>\n",
       "  </clipPath>\n",
       "</defs>\n",
       "<path clip-path=\"url(#clip370)\" d=\"M0 1600 L2400 1600 L2400 0 L0 0  Z\" fill=\"#ffffff\" fill-rule=\"evenodd\" fill-opacity=\"1\"/>\n",
       "<defs>\n",
       "  <clipPath id=\"clip371\">\n",
       "    <rect x=\"480\" y=\"0\" width=\"1681\" height=\"1600\"/>\n",
       "  </clipPath>\n",
       "</defs>\n",
       "<path clip-path=\"url(#clip370)\" d=\"M186.274 1486.45 L2352.76 1486.45 L2352.76 47.2441 L186.274 47.2441  Z\" fill=\"#ffffff\" fill-rule=\"evenodd\" fill-opacity=\"1\"/>\n",
       "<defs>\n",
       "  <clipPath id=\"clip372\">\n",
       "    <rect x=\"186\" y=\"47\" width=\"2167\" height=\"1440\"/>\n",
       "  </clipPath>\n",
       "</defs>\n",
       "<polyline clip-path=\"url(#clip372)\" style=\"stroke:#000000; stroke-linecap:round; stroke-linejoin:round; stroke-width:2; stroke-opacity:0.1; fill:none\" points=\"247.59,1486.45 247.59,47.2441 \"/>\n",
       "<polyline clip-path=\"url(#clip372)\" style=\"stroke:#000000; stroke-linecap:round; stroke-linejoin:round; stroke-width:2; stroke-opacity:0.1; fill:none\" points=\"928.873,1486.45 928.873,47.2441 \"/>\n",
       "<polyline clip-path=\"url(#clip372)\" style=\"stroke:#000000; stroke-linecap:round; stroke-linejoin:round; stroke-width:2; stroke-opacity:0.1; fill:none\" points=\"1610.16,1486.45 1610.16,47.2441 \"/>\n",
       "<polyline clip-path=\"url(#clip372)\" style=\"stroke:#000000; stroke-linecap:round; stroke-linejoin:round; stroke-width:2; stroke-opacity:0.1; fill:none\" points=\"2291.44,1486.45 2291.44,47.2441 \"/>\n",
       "<polyline clip-path=\"url(#clip370)\" style=\"stroke:#000000; stroke-linecap:round; stroke-linejoin:round; stroke-width:4; stroke-opacity:1; fill:none\" points=\"186.274,1486.45 2352.76,1486.45 \"/>\n",
       "<polyline clip-path=\"url(#clip370)\" style=\"stroke:#000000; stroke-linecap:round; stroke-linejoin:round; stroke-width:4; stroke-opacity:1; fill:none\" points=\"247.59,1486.45 247.59,1467.55 \"/>\n",
       "<polyline clip-path=\"url(#clip370)\" style=\"stroke:#000000; stroke-linecap:round; stroke-linejoin:round; stroke-width:4; stroke-opacity:1; fill:none\" points=\"928.873,1486.45 928.873,1467.55 \"/>\n",
       "<polyline clip-path=\"url(#clip370)\" style=\"stroke:#000000; stroke-linecap:round; stroke-linejoin:round; stroke-width:4; stroke-opacity:1; fill:none\" points=\"1610.16,1486.45 1610.16,1467.55 \"/>\n",
       "<polyline clip-path=\"url(#clip370)\" style=\"stroke:#000000; stroke-linecap:round; stroke-linejoin:round; stroke-width:4; stroke-opacity:1; fill:none\" points=\"2291.44,1486.45 2291.44,1467.55 \"/>\n",
       "<path clip-path=\"url(#clip370)\" d=\"M247.59 1517.37 Q243.978 1517.37 242.15 1520.93 Q240.344 1524.47 240.344 1531.6 Q240.344 1538.71 242.15 1542.27 Q243.978 1545.82 247.59 1545.82 Q251.224 1545.82 253.029 1542.27 Q254.858 1538.71 254.858 1531.6 Q254.858 1524.47 253.029 1520.93 Q251.224 1517.37 247.59 1517.37 M247.59 1513.66 Q253.4 1513.66 256.455 1518.27 Q259.534 1522.85 259.534 1531.6 Q259.534 1540.33 256.455 1544.94 Q253.4 1549.52 247.59 1549.52 Q241.779 1549.52 238.701 1544.94 Q235.645 1540.33 235.645 1531.6 Q235.645 1522.85 238.701 1518.27 Q241.779 1513.66 247.59 1513.66 Z\" fill=\"#000000\" fill-rule=\"evenodd\" fill-opacity=\"1\" /><path clip-path=\"url(#clip370)\" d=\"M903.561 1544.91 L911.2 1544.91 L911.2 1518.55 L902.889 1520.21 L902.889 1515.95 L911.153 1514.29 L915.829 1514.29 L915.829 1544.91 L923.468 1544.91 L923.468 1548.85 L903.561 1548.85 L903.561 1544.91 Z\" fill=\"#000000\" fill-rule=\"evenodd\" fill-opacity=\"1\" /><path clip-path=\"url(#clip370)\" d=\"M942.912 1517.37 Q939.301 1517.37 937.473 1520.93 Q935.667 1524.47 935.667 1531.6 Q935.667 1538.71 937.473 1542.27 Q939.301 1545.82 942.912 1545.82 Q946.547 1545.82 948.352 1542.27 Q950.181 1538.71 950.181 1531.6 Q950.181 1524.47 948.352 1520.93 Q946.547 1517.37 942.912 1517.37 M942.912 1513.66 Q948.723 1513.66 951.778 1518.27 Q954.857 1522.85 954.857 1531.6 Q954.857 1540.33 951.778 1544.94 Q948.723 1549.52 942.912 1549.52 Q937.102 1549.52 934.024 1544.94 Q930.968 1540.33 930.968 1531.6 Q930.968 1522.85 934.024 1518.27 Q937.102 1513.66 942.912 1513.66 Z\" fill=\"#000000\" fill-rule=\"evenodd\" fill-opacity=\"1\" /><path clip-path=\"url(#clip370)\" d=\"M1588.93 1544.91 L1605.25 1544.91 L1605.25 1548.85 L1583.31 1548.85 L1583.31 1544.91 Q1585.97 1542.16 1590.55 1537.53 Q1595.16 1532.88 1596.34 1531.53 Q1598.58 1529.01 1599.46 1527.27 Q1600.37 1525.51 1600.37 1523.82 Q1600.37 1521.07 1598.42 1519.33 Q1596.5 1517.6 1593.4 1517.6 Q1591.2 1517.6 1588.74 1518.36 Q1586.31 1519.13 1583.54 1520.68 L1583.54 1515.95 Q1586.36 1514.82 1588.81 1514.24 Q1591.27 1513.66 1593.31 1513.66 Q1598.68 1513.66 1601.87 1516.35 Q1605.06 1519.03 1605.06 1523.52 Q1605.06 1525.65 1604.25 1527.57 Q1603.47 1529.47 1601.36 1532.07 Q1600.78 1532.74 1597.68 1535.95 Q1594.58 1539.15 1588.93 1544.91 Z\" fill=\"#000000\" fill-rule=\"evenodd\" fill-opacity=\"1\" /><path clip-path=\"url(#clip370)\" d=\"M1625.06 1517.37 Q1621.45 1517.37 1619.62 1520.93 Q1617.82 1524.47 1617.82 1531.6 Q1617.82 1538.71 1619.62 1542.27 Q1621.45 1545.82 1625.06 1545.82 Q1628.7 1545.82 1630.5 1542.27 Q1632.33 1538.71 1632.33 1531.6 Q1632.33 1524.47 1630.5 1520.93 Q1628.7 1517.37 1625.06 1517.37 M1625.06 1513.66 Q1630.87 1513.66 1633.93 1518.27 Q1637.01 1522.85 1637.01 1531.6 Q1637.01 1540.33 1633.93 1544.94 Q1630.87 1549.52 1625.06 1549.52 Q1619.25 1549.52 1616.18 1544.94 Q1613.12 1540.33 1613.12 1531.6 Q1613.12 1522.85 1616.18 1518.27 Q1619.25 1513.66 1625.06 1513.66 Z\" fill=\"#000000\" fill-rule=\"evenodd\" fill-opacity=\"1\" /><path clip-path=\"url(#clip370)\" d=\"M2280.28 1530.21 Q2283.64 1530.93 2285.51 1533.2 Q2287.41 1535.47 2287.41 1538.8 Q2287.41 1543.92 2283.89 1546.72 Q2280.38 1549.52 2273.89 1549.52 Q2271.72 1549.52 2269.4 1549.08 Q2267.11 1548.66 2264.66 1547.81 L2264.66 1543.29 Q2266.6 1544.43 2268.92 1545.01 Q2271.23 1545.58 2273.76 1545.58 Q2278.15 1545.58 2280.45 1543.85 Q2282.76 1542.11 2282.76 1538.8 Q2282.76 1535.75 2280.61 1534.03 Q2278.48 1532.3 2274.66 1532.3 L2270.63 1532.3 L2270.63 1528.45 L2274.84 1528.45 Q2278.29 1528.45 2280.12 1527.09 Q2281.95 1525.7 2281.95 1523.11 Q2281.95 1520.45 2280.05 1519.03 Q2278.18 1517.6 2274.66 1517.6 Q2272.74 1517.6 2270.54 1518.01 Q2268.34 1518.43 2265.7 1519.31 L2265.7 1515.14 Q2268.36 1514.4 2270.68 1514.03 Q2273.01 1513.66 2275.07 1513.66 Q2280.4 1513.66 2283.5 1516.09 Q2286.6 1518.5 2286.6 1522.62 Q2286.6 1525.49 2284.96 1527.48 Q2283.32 1529.45 2280.28 1530.21 Z\" fill=\"#000000\" fill-rule=\"evenodd\" fill-opacity=\"1\" /><path clip-path=\"url(#clip370)\" d=\"M2306.28 1517.37 Q2302.67 1517.37 2300.84 1520.93 Q2299.03 1524.47 2299.03 1531.6 Q2299.03 1538.71 2300.84 1542.27 Q2302.67 1545.82 2306.28 1545.82 Q2309.91 1545.82 2311.72 1542.27 Q2313.55 1538.71 2313.55 1531.6 Q2313.55 1524.47 2311.72 1520.93 Q2309.91 1517.37 2306.28 1517.37 M2306.28 1513.66 Q2312.09 1513.66 2315.14 1518.27 Q2318.22 1522.85 2318.22 1531.6 Q2318.22 1540.33 2315.14 1544.94 Q2312.09 1549.52 2306.28 1549.52 Q2300.47 1549.52 2297.39 1544.94 Q2294.33 1540.33 2294.33 1531.6 Q2294.33 1522.85 2297.39 1518.27 Q2300.47 1513.66 2306.28 1513.66 Z\" fill=\"#000000\" fill-rule=\"evenodd\" fill-opacity=\"1\" /><polyline clip-path=\"url(#clip372)\" style=\"stroke:#000000; stroke-linecap:round; stroke-linejoin:round; stroke-width:2; stroke-opacity:0.1; fill:none\" points=\"186.274,1445.72 2352.76,1445.72 \"/>\n",
       "<polyline clip-path=\"url(#clip372)\" style=\"stroke:#000000; stroke-linecap:round; stroke-linejoin:round; stroke-width:2; stroke-opacity:0.1; fill:none\" points=\"186.274,1106.28 2352.76,1106.28 \"/>\n",
       "<polyline clip-path=\"url(#clip372)\" style=\"stroke:#000000; stroke-linecap:round; stroke-linejoin:round; stroke-width:2; stroke-opacity:0.1; fill:none\" points=\"186.274,766.846 2352.76,766.846 \"/>\n",
       "<polyline clip-path=\"url(#clip372)\" style=\"stroke:#000000; stroke-linecap:round; stroke-linejoin:round; stroke-width:2; stroke-opacity:0.1; fill:none\" points=\"186.274,427.411 2352.76,427.411 \"/>\n",
       "<polyline clip-path=\"url(#clip372)\" style=\"stroke:#000000; stroke-linecap:round; stroke-linejoin:round; stroke-width:2; stroke-opacity:0.1; fill:none\" points=\"186.274,87.9763 2352.76,87.9763 \"/>\n",
       "<polyline clip-path=\"url(#clip370)\" style=\"stroke:#000000; stroke-linecap:round; stroke-linejoin:round; stroke-width:4; stroke-opacity:1; fill:none\" points=\"186.274,1486.45 186.274,47.2441 \"/>\n",
       "<polyline clip-path=\"url(#clip370)\" style=\"stroke:#000000; stroke-linecap:round; stroke-linejoin:round; stroke-width:4; stroke-opacity:1; fill:none\" points=\"186.274,1445.72 205.172,1445.72 \"/>\n",
       "<polyline clip-path=\"url(#clip370)\" style=\"stroke:#000000; stroke-linecap:round; stroke-linejoin:round; stroke-width:4; stroke-opacity:1; fill:none\" points=\"186.274,1106.28 205.172,1106.28 \"/>\n",
       "<polyline clip-path=\"url(#clip370)\" style=\"stroke:#000000; stroke-linecap:round; stroke-linejoin:round; stroke-width:4; stroke-opacity:1; fill:none\" points=\"186.274,766.846 205.172,766.846 \"/>\n",
       "<polyline clip-path=\"url(#clip370)\" style=\"stroke:#000000; stroke-linecap:round; stroke-linejoin:round; stroke-width:4; stroke-opacity:1; fill:none\" points=\"186.274,427.411 205.172,427.411 \"/>\n",
       "<polyline clip-path=\"url(#clip370)\" style=\"stroke:#000000; stroke-linecap:round; stroke-linejoin:round; stroke-width:4; stroke-opacity:1; fill:none\" points=\"186.274,87.9763 205.172,87.9763 \"/>\n",
       "<path clip-path=\"url(#clip370)\" d=\"M62.9365 1431.51 Q59.3254 1431.51 57.4967 1435.08 Q55.6912 1438.62 55.6912 1445.75 Q55.6912 1452.86 57.4967 1456.42 Q59.3254 1459.96 62.9365 1459.96 Q66.5707 1459.96 68.3763 1456.42 Q70.205 1452.86 70.205 1445.75 Q70.205 1438.62 68.3763 1435.08 Q66.5707 1431.51 62.9365 1431.51 M62.9365 1427.81 Q68.7467 1427.81 71.8022 1432.42 Q74.8809 1437 74.8809 1445.75 Q74.8809 1454.48 71.8022 1459.08 Q68.7467 1463.67 62.9365 1463.67 Q57.1264 1463.67 54.0477 1459.08 Q50.9921 1454.48 50.9921 1445.75 Q50.9921 1437 54.0477 1432.42 Q57.1264 1427.81 62.9365 1427.81 Z\" fill=\"#000000\" fill-rule=\"evenodd\" fill-opacity=\"1\" /><path clip-path=\"url(#clip370)\" d=\"M83.0984 1457.12 L87.9827 1457.12 L87.9827 1463 L83.0984 1463 L83.0984 1457.12 Z\" fill=\"#000000\" fill-rule=\"evenodd\" fill-opacity=\"1\" /><path clip-path=\"url(#clip370)\" d=\"M108.168 1431.51 Q104.557 1431.51 102.728 1435.08 Q100.922 1438.62 100.922 1445.75 Q100.922 1452.86 102.728 1456.42 Q104.557 1459.96 108.168 1459.96 Q111.802 1459.96 113.608 1456.42 Q115.436 1452.86 115.436 1445.75 Q115.436 1438.62 113.608 1435.08 Q111.802 1431.51 108.168 1431.51 M108.168 1427.81 Q113.978 1427.81 117.033 1432.42 Q120.112 1437 120.112 1445.75 Q120.112 1454.48 117.033 1459.08 Q113.978 1463.67 108.168 1463.67 Q102.358 1463.67 99.2789 1459.08 Q96.2234 1454.48 96.2234 1445.75 Q96.2234 1437 99.2789 1432.42 Q102.358 1427.81 108.168 1427.81 Z\" fill=\"#000000\" fill-rule=\"evenodd\" fill-opacity=\"1\" /><path clip-path=\"url(#clip370)\" d=\"M138.33 1431.51 Q134.719 1431.51 132.89 1435.08 Q131.084 1438.62 131.084 1445.75 Q131.084 1452.86 132.89 1456.42 Q134.719 1459.96 138.33 1459.96 Q141.964 1459.96 143.769 1456.42 Q145.598 1452.86 145.598 1445.75 Q145.598 1438.62 143.769 1435.08 Q141.964 1431.51 138.33 1431.51 M138.33 1427.81 Q144.14 1427.81 147.195 1432.42 Q150.274 1437 150.274 1445.75 Q150.274 1454.48 147.195 1459.08 Q144.14 1463.67 138.33 1463.67 Q132.519 1463.67 129.441 1459.08 Q126.385 1454.48 126.385 1445.75 Q126.385 1437 129.441 1432.42 Q132.519 1427.81 138.33 1427.81 Z\" fill=\"#000000\" fill-rule=\"evenodd\" fill-opacity=\"1\" /><path clip-path=\"url(#clip370)\" d=\"M63.9319 1092.08 Q60.3208 1092.08 58.4921 1095.64 Q56.6865 1099.19 56.6865 1106.32 Q56.6865 1113.42 58.4921 1116.99 Q60.3208 1120.53 63.9319 1120.53 Q67.5661 1120.53 69.3717 1116.99 Q71.2004 1113.42 71.2004 1106.32 Q71.2004 1099.19 69.3717 1095.64 Q67.5661 1092.08 63.9319 1092.08 M63.9319 1088.38 Q69.742 1088.38 72.7976 1092.98 Q75.8763 1097.57 75.8763 1106.32 Q75.8763 1115.04 72.7976 1119.65 Q69.742 1124.23 63.9319 1124.23 Q58.1217 1124.23 55.043 1119.65 Q51.9875 1115.04 51.9875 1106.32 Q51.9875 1097.57 55.043 1092.98 Q58.1217 1088.38 63.9319 1088.38 Z\" fill=\"#000000\" fill-rule=\"evenodd\" fill-opacity=\"1\" /><path clip-path=\"url(#clip370)\" d=\"M84.0938 1117.68 L88.978 1117.68 L88.978 1123.56 L84.0938 1123.56 L84.0938 1117.68 Z\" fill=\"#000000\" fill-rule=\"evenodd\" fill-opacity=\"1\" /><path clip-path=\"url(#clip370)\" d=\"M103.191 1119.63 L119.51 1119.63 L119.51 1123.56 L97.566 1123.56 L97.566 1119.63 Q100.228 1116.87 104.811 1112.24 Q109.418 1107.59 110.598 1106.25 Q112.844 1103.72 113.723 1101.99 Q114.626 1100.23 114.626 1098.54 Q114.626 1095.78 112.682 1094.05 Q110.76 1092.31 107.658 1092.31 Q105.459 1092.31 103.006 1093.07 Q100.575 1093.84 97.7974 1095.39 L97.7974 1090.67 Q100.621 1089.53 103.075 1088.95 Q105.529 1088.38 107.566 1088.38 Q112.936 1088.38 116.131 1091.06 Q119.325 1093.75 119.325 1098.24 Q119.325 1100.37 118.515 1102.29 Q117.728 1104.19 115.621 1106.78 Q115.043 1107.45 111.941 1110.67 Q108.839 1113.86 103.191 1119.63 Z\" fill=\"#000000\" fill-rule=\"evenodd\" fill-opacity=\"1\" /><path clip-path=\"url(#clip370)\" d=\"M129.371 1089 L147.728 1089 L147.728 1092.94 L133.654 1092.94 L133.654 1101.41 Q134.672 1101.06 135.691 1100.9 Q136.709 1100.71 137.728 1100.71 Q143.515 1100.71 146.894 1103.89 Q150.274 1107.06 150.274 1112.47 Q150.274 1118.05 146.802 1121.15 Q143.33 1124.23 137.01 1124.23 Q134.834 1124.23 132.566 1123.86 Q130.32 1123.49 127.913 1122.75 L127.913 1118.05 Q129.996 1119.19 132.219 1119.74 Q134.441 1120.3 136.918 1120.3 Q140.922 1120.3 143.26 1118.19 Q145.598 1116.08 145.598 1112.47 Q145.598 1108.86 143.26 1106.76 Q140.922 1104.65 136.918 1104.65 Q135.043 1104.65 133.168 1105.07 Q131.316 1105.48 129.371 1106.36 L129.371 1089 Z\" fill=\"#000000\" fill-rule=\"evenodd\" fill-opacity=\"1\" /><path clip-path=\"url(#clip370)\" d=\"M62.9365 752.645 Q59.3254 752.645 57.4967 756.209 Q55.6912 759.751 55.6912 766.881 Q55.6912 773.987 57.4967 777.552 Q59.3254 781.094 62.9365 781.094 Q66.5707 781.094 68.3763 777.552 Q70.205 773.987 70.205 766.881 Q70.205 759.751 68.3763 756.209 Q66.5707 752.645 62.9365 752.645 M62.9365 748.941 Q68.7467 748.941 71.8022 753.547 Q74.8809 758.131 74.8809 766.881 Q74.8809 775.608 71.8022 780.214 Q68.7467 784.797 62.9365 784.797 Q57.1264 784.797 54.0477 780.214 Q50.9921 775.608 50.9921 766.881 Q50.9921 758.131 54.0477 753.547 Q57.1264 748.941 62.9365 748.941 Z\" fill=\"#000000\" fill-rule=\"evenodd\" fill-opacity=\"1\" /><path clip-path=\"url(#clip370)\" d=\"M83.0984 778.246 L87.9827 778.246 L87.9827 784.126 L83.0984 784.126 L83.0984 778.246 Z\" fill=\"#000000\" fill-rule=\"evenodd\" fill-opacity=\"1\" /><path clip-path=\"url(#clip370)\" d=\"M98.2141 749.566 L116.57 749.566 L116.57 753.501 L102.496 753.501 L102.496 761.973 Q103.515 761.626 104.534 761.464 Q105.552 761.279 106.571 761.279 Q112.358 761.279 115.737 764.45 Q119.117 767.621 119.117 773.038 Q119.117 778.617 115.645 781.719 Q112.172 784.797 105.853 784.797 Q103.677 784.797 101.409 784.427 Q99.1632 784.057 96.7558 783.316 L96.7558 778.617 Q98.8391 779.751 101.061 780.307 Q103.284 780.862 105.76 780.862 Q109.765 780.862 112.103 778.756 Q114.441 776.649 114.441 773.038 Q114.441 769.427 112.103 767.321 Q109.765 765.214 105.76 765.214 Q103.885 765.214 102.01 765.631 Q100.159 766.047 98.2141 766.927 L98.2141 749.566 Z\" fill=\"#000000\" fill-rule=\"evenodd\" fill-opacity=\"1\" /><path clip-path=\"url(#clip370)\" d=\"M138.33 752.645 Q134.719 752.645 132.89 756.209 Q131.084 759.751 131.084 766.881 Q131.084 773.987 132.89 777.552 Q134.719 781.094 138.33 781.094 Q141.964 781.094 143.769 777.552 Q145.598 773.987 145.598 766.881 Q145.598 759.751 143.769 756.209 Q141.964 752.645 138.33 752.645 M138.33 748.941 Q144.14 748.941 147.195 753.547 Q150.274 758.131 150.274 766.881 Q150.274 775.608 147.195 780.214 Q144.14 784.797 138.33 784.797 Q132.519 784.797 129.441 780.214 Q126.385 775.608 126.385 766.881 Q126.385 758.131 129.441 753.547 Q132.519 748.941 138.33 748.941 Z\" fill=\"#000000\" fill-rule=\"evenodd\" fill-opacity=\"1\" /><path clip-path=\"url(#clip370)\" d=\"M63.9319 413.21 Q60.3208 413.21 58.4921 416.775 Q56.6865 420.316 56.6865 427.446 Q56.6865 434.552 58.4921 438.117 Q60.3208 441.659 63.9319 441.659 Q67.5661 441.659 69.3717 438.117 Q71.2004 434.552 71.2004 427.446 Q71.2004 420.316 69.3717 416.775 Q67.5661 413.21 63.9319 413.21 M63.9319 409.506 Q69.742 409.506 72.7976 414.113 Q75.8763 418.696 75.8763 427.446 Q75.8763 436.173 72.7976 440.779 Q69.742 445.362 63.9319 445.362 Q58.1217 445.362 55.043 440.779 Q51.9875 436.173 51.9875 427.446 Q51.9875 418.696 55.043 414.113 Q58.1217 409.506 63.9319 409.506 Z\" fill=\"#000000\" fill-rule=\"evenodd\" fill-opacity=\"1\" /><path clip-path=\"url(#clip370)\" d=\"M84.0938 438.812 L88.978 438.812 L88.978 444.691 L84.0938 444.691 L84.0938 438.812 Z\" fill=\"#000000\" fill-rule=\"evenodd\" fill-opacity=\"1\" /><path clip-path=\"url(#clip370)\" d=\"M97.9826 410.131 L120.205 410.131 L120.205 412.122 L107.658 444.691 L102.774 444.691 L114.58 414.066 L97.9826 414.066 L97.9826 410.131 Z\" fill=\"#000000\" fill-rule=\"evenodd\" fill-opacity=\"1\" /><path clip-path=\"url(#clip370)\" d=\"M129.371 410.131 L147.728 410.131 L147.728 414.066 L133.654 414.066 L133.654 422.538 Q134.672 422.191 135.691 422.029 Q136.709 421.844 137.728 421.844 Q143.515 421.844 146.894 425.015 Q150.274 428.187 150.274 433.603 Q150.274 439.182 146.802 442.284 Q143.33 445.362 137.01 445.362 Q134.834 445.362 132.566 444.992 Q130.32 444.622 127.913 443.881 L127.913 439.182 Q129.996 440.316 132.219 440.872 Q134.441 441.427 136.918 441.427 Q140.922 441.427 143.26 439.321 Q145.598 437.214 145.598 433.603 Q145.598 429.992 143.26 427.886 Q140.922 425.779 136.918 425.779 Q135.043 425.779 133.168 426.196 Q131.316 426.613 129.371 427.492 L129.371 410.131 Z\" fill=\"#000000\" fill-rule=\"evenodd\" fill-opacity=\"1\" /><path clip-path=\"url(#clip370)\" d=\"M53.7467 101.321 L61.3856 101.321 L61.3856 74.9555 L53.0754 76.6222 L53.0754 72.3629 L61.3393 70.6963 L66.0152 70.6963 L66.0152 101.321 L73.654 101.321 L73.654 105.256 L53.7467 105.256 L53.7467 101.321 Z\" fill=\"#000000\" fill-rule=\"evenodd\" fill-opacity=\"1\" /><path clip-path=\"url(#clip370)\" d=\"M83.0984 99.3767 L87.9827 99.3767 L87.9827 105.256 L83.0984 105.256 L83.0984 99.3767 Z\" fill=\"#000000\" fill-rule=\"evenodd\" fill-opacity=\"1\" /><path clip-path=\"url(#clip370)\" d=\"M108.168 73.775 Q104.557 73.775 102.728 77.3398 Q100.922 80.8814 100.922 88.011 Q100.922 95.1174 102.728 98.6822 Q104.557 102.224 108.168 102.224 Q111.802 102.224 113.608 98.6822 Q115.436 95.1174 115.436 88.011 Q115.436 80.8814 113.608 77.3398 Q111.802 73.775 108.168 73.775 M108.168 70.0713 Q113.978 70.0713 117.033 74.6777 Q120.112 79.261 120.112 88.011 Q120.112 96.7378 117.033 101.344 Q113.978 105.928 108.168 105.928 Q102.358 105.928 99.2789 101.344 Q96.2234 96.7378 96.2234 88.011 Q96.2234 79.261 99.2789 74.6777 Q102.358 70.0713 108.168 70.0713 Z\" fill=\"#000000\" fill-rule=\"evenodd\" fill-opacity=\"1\" /><path clip-path=\"url(#clip370)\" d=\"M138.33 73.775 Q134.719 73.775 132.89 77.3398 Q131.084 80.8814 131.084 88.011 Q131.084 95.1174 132.89 98.6822 Q134.719 102.224 138.33 102.224 Q141.964 102.224 143.769 98.6822 Q145.598 95.1174 145.598 88.011 Q145.598 80.8814 143.769 77.3398 Q141.964 73.775 138.33 73.775 M138.33 70.0713 Q144.14 70.0713 147.195 74.6777 Q150.274 79.261 150.274 88.011 Q150.274 96.7378 147.195 101.344 Q144.14 105.928 138.33 105.928 Q132.519 105.928 129.441 101.344 Q126.385 96.7378 126.385 88.011 Q126.385 79.261 129.441 74.6777 Q132.519 70.0713 138.33 70.0713 Z\" fill=\"#000000\" fill-rule=\"evenodd\" fill-opacity=\"1\" /><polyline clip-path=\"url(#clip372)\" style=\"stroke:#009af9; stroke-linecap:round; stroke-linejoin:round; stroke-width:4; stroke-opacity:1; fill:none\" points=\"247.59,1445.72 250.916,1445.72 254.243,1445.72 257.569,1445.72 260.896,1445.72 268.586,1445.72 276.276,1445.71 280.121,1445.6 283.966,1444.58 285.888,1443.04 287.811,1440.22 289.733,1435.61 291.656,1428.7 293.578,1419.09 295.501,1406.52 297.423,1390.86 299.346,1372.15 301.268,1350.55 303.191,1326.33 305.113,1299.8 307.036,1271.35 310.881,1210.2 314.725,1145.77 318.57,1080.51 322.415,1016.31 326.26,954.467 330.105,895.812 332.028,867.836 333.95,840.808 335.873,814.743 337.795,789.647 339.718,765.516 341.64,742.338 343.563,720.095 345.485,698.765 349.33,658.74 353.175,622.033 357.02,588.397 360.865,557.58 364.71,529.339 368.555,503.443 372.4,479.675 376.245,457.837 378.167,447.585 380.09,437.748 382.012,428.306 383.935,419.62 386.245,418.843 388.556,418.066 390.867,417.291 393.177,416.516 397.799,414.968 402.42,413.424 411.663,410.346 420.905,407.281 439.391,401.192 457.876,395.157 489.134,385.08 520.392,375.163 588.302,354.186 650.909,335.55 718.031,316.338 795.798,295.086 864.908,277.119 925.511,262.08 991.585,246.444 1058.05,231.513 1131.54,215.929 1201.46,201.989 1274.16,188.394 1335.36,177.646 1410.08,165.363 1478.52,154.897 1541.74,145.874 1605.77,137.343 1677.54,128.48 1742.57,121.058 1817.03,113.239 1885.97,106.61 1953.93,100.617 2019.92,95.2856 2087.57,90.2881 2161.69,87.9763 2269.35,87.9763 2291.44,87.9763 \"/>\n",
       "<path clip-path=\"url(#clip370)\" d=\"M2011.46 1438.47 L2280.54 1438.47 L2280.54 1334.79 L2011.46 1334.79  Z\" fill=\"#ffffff\" fill-rule=\"evenodd\" fill-opacity=\"1\"/>\n",
       "<polyline clip-path=\"url(#clip370)\" style=\"stroke:#000000; stroke-linecap:round; stroke-linejoin:round; stroke-width:4; stroke-opacity:1; fill:none\" points=\"2011.46,1438.47 2280.54,1438.47 2280.54,1334.79 2011.46,1334.79 2011.46,1438.47 \"/>\n",
       "<polyline clip-path=\"url(#clip370)\" style=\"stroke:#009af9; stroke-linecap:round; stroke-linejoin:round; stroke-width:4; stroke-opacity:1; fill:none\" points=\"2035.53,1386.63 2179.97,1386.63 \"/>\n",
       "<path clip-path=\"url(#clip370)\" d=\"M2217.88 1406.32 Q2216.07 1410.95 2214.36 1412.36 Q2212.65 1413.78 2209.78 1413.78 L2206.38 1413.78 L2206.38 1410.21 L2208.88 1410.21 Q2210.63 1410.21 2211.61 1409.38 Q2212.58 1408.54 2213.76 1405.44 L2214.52 1403.5 L2204.04 1377.99 L2208.55 1377.99 L2216.65 1398.27 L2224.76 1377.99 L2229.27 1377.99 L2217.88 1406.32 Z\" fill=\"#000000\" fill-rule=\"evenodd\" fill-opacity=\"1\" /><path clip-path=\"url(#clip370)\" d=\"M2236.56 1399.98 L2244.2 1399.98 L2244.2 1373.61 L2235.89 1375.28 L2235.89 1371.02 L2244.15 1369.35 L2248.83 1369.35 L2248.83 1399.98 L2256.47 1399.98 L2256.47 1403.91 L2236.56 1403.91 L2236.56 1399.98 Z\" fill=\"#000000\" fill-rule=\"evenodd\" fill-opacity=\"1\" /></svg>\n"
      ]
     },
     "execution_count": 9,
     "metadata": {},
     "output_type": "execute_result"
    }
   ],
   "source": [
    "function Q(s, r, G,K)\n",
    "    if s >= K/2\n",
    "        return 1\n",
    "    elseif s <= 0\n",
    "        return 0\n",
    "    elseif r <= 0\n",
    "        return 0\n",
    "    elseif s >= r\n",
    "        return 1 - cdf(G, (r-s+K/2)/r)\n",
    "    else\n",
    "        return 1- cdf(G, K/(2*s))\n",
    "    end\n",
    "end\n",
    "plot(x -> Q(x,r,G,K),0,30)\n"
   ]
  },
  {
   "cell_type": "code",
   "execution_count": 10,
   "id": "5aca4c98-b725-430d-b313-a2a8ef108023",
   "metadata": {},
   "outputs": [
    {
     "data": {
      "image/svg+xml": [
       "<?xml version=\"1.0\" encoding=\"utf-8\"?>\n",
       "<svg xmlns=\"http://www.w3.org/2000/svg\" xmlns:xlink=\"http://www.w3.org/1999/xlink\" width=\"600\" height=\"400\" viewBox=\"0 0 2400 1600\">\n",
       "<defs>\n",
       "  <clipPath id=\"clip410\">\n",
       "    <rect x=\"0\" y=\"0\" width=\"2400\" height=\"1600\"/>\n",
       "  </clipPath>\n",
       "</defs>\n",
       "<path clip-path=\"url(#clip410)\" d=\"M0 1600 L2400 1600 L2400 0 L0 0  Z\" fill=\"#ffffff\" fill-rule=\"evenodd\" fill-opacity=\"1\"/>\n",
       "<defs>\n",
       "  <clipPath id=\"clip411\">\n",
       "    <rect x=\"480\" y=\"0\" width=\"1681\" height=\"1600\"/>\n",
       "  </clipPath>\n",
       "</defs>\n",
       "<path clip-path=\"url(#clip410)\" d=\"M156.598 1486.45 L2352.76 1486.45 L2352.76 47.2441 L156.598 47.2441  Z\" fill=\"#ffffff\" fill-rule=\"evenodd\" fill-opacity=\"1\"/>\n",
       "<defs>\n",
       "  <clipPath id=\"clip412\">\n",
       "    <rect x=\"156\" y=\"47\" width=\"2197\" height=\"1440\"/>\n",
       "  </clipPath>\n",
       "</defs>\n",
       "<polyline clip-path=\"url(#clip412)\" style=\"stroke:#000000; stroke-linecap:round; stroke-linejoin:round; stroke-width:2; stroke-opacity:0.1; fill:none\" points=\"218.754,1486.45 218.754,47.2441 \"/>\n",
       "<polyline clip-path=\"url(#clip412)\" style=\"stroke:#000000; stroke-linecap:round; stroke-linejoin:round; stroke-width:2; stroke-opacity:0.1; fill:none\" points=\"909.369,1486.45 909.369,47.2441 \"/>\n",
       "<polyline clip-path=\"url(#clip412)\" style=\"stroke:#000000; stroke-linecap:round; stroke-linejoin:round; stroke-width:2; stroke-opacity:0.1; fill:none\" points=\"1599.98,1486.45 1599.98,47.2441 \"/>\n",
       "<polyline clip-path=\"url(#clip412)\" style=\"stroke:#000000; stroke-linecap:round; stroke-linejoin:round; stroke-width:2; stroke-opacity:0.1; fill:none\" points=\"2290.6,1486.45 2290.6,47.2441 \"/>\n",
       "<polyline clip-path=\"url(#clip410)\" style=\"stroke:#000000; stroke-linecap:round; stroke-linejoin:round; stroke-width:4; stroke-opacity:1; fill:none\" points=\"156.598,1486.45 2352.76,1486.45 \"/>\n",
       "<polyline clip-path=\"url(#clip410)\" style=\"stroke:#000000; stroke-linecap:round; stroke-linejoin:round; stroke-width:4; stroke-opacity:1; fill:none\" points=\"218.754,1486.45 218.754,1467.55 \"/>\n",
       "<polyline clip-path=\"url(#clip410)\" style=\"stroke:#000000; stroke-linecap:round; stroke-linejoin:round; stroke-width:4; stroke-opacity:1; fill:none\" points=\"909.369,1486.45 909.369,1467.55 \"/>\n",
       "<polyline clip-path=\"url(#clip410)\" style=\"stroke:#000000; stroke-linecap:round; stroke-linejoin:round; stroke-width:4; stroke-opacity:1; fill:none\" points=\"1599.98,1486.45 1599.98,1467.55 \"/>\n",
       "<polyline clip-path=\"url(#clip410)\" style=\"stroke:#000000; stroke-linecap:round; stroke-linejoin:round; stroke-width:4; stroke-opacity:1; fill:none\" points=\"2290.6,1486.45 2290.6,1467.55 \"/>\n",
       "<path clip-path=\"url(#clip410)\" d=\"M218.754 1517.37 Q215.143 1517.37 213.314 1520.93 Q211.508 1524.47 211.508 1531.6 Q211.508 1538.71 213.314 1542.27 Q215.143 1545.82 218.754 1545.82 Q222.388 1545.82 224.193 1542.27 Q226.022 1538.71 226.022 1531.6 Q226.022 1524.47 224.193 1520.93 Q222.388 1517.37 218.754 1517.37 M218.754 1513.66 Q224.564 1513.66 227.619 1518.27 Q230.698 1522.85 230.698 1531.6 Q230.698 1540.33 227.619 1544.94 Q224.564 1549.52 218.754 1549.52 Q212.943 1549.52 209.865 1544.94 Q206.809 1540.33 206.809 1531.6 Q206.809 1522.85 209.865 1518.27 Q212.943 1513.66 218.754 1513.66 Z\" fill=\"#000000\" fill-rule=\"evenodd\" fill-opacity=\"1\" /><path clip-path=\"url(#clip410)\" d=\"M884.057 1544.91 L891.696 1544.91 L891.696 1518.55 L883.386 1520.21 L883.386 1515.95 L891.649 1514.29 L896.325 1514.29 L896.325 1544.91 L903.964 1544.91 L903.964 1548.85 L884.057 1548.85 L884.057 1544.91 Z\" fill=\"#000000\" fill-rule=\"evenodd\" fill-opacity=\"1\" /><path clip-path=\"url(#clip410)\" d=\"M923.409 1517.37 Q919.797 1517.37 917.969 1520.93 Q916.163 1524.47 916.163 1531.6 Q916.163 1538.71 917.969 1542.27 Q919.797 1545.82 923.409 1545.82 Q927.043 1545.82 928.848 1542.27 Q930.677 1538.71 930.677 1531.6 Q930.677 1524.47 928.848 1520.93 Q927.043 1517.37 923.409 1517.37 M923.409 1513.66 Q929.219 1513.66 932.274 1518.27 Q935.353 1522.85 935.353 1531.6 Q935.353 1540.33 932.274 1544.94 Q929.219 1549.52 923.409 1549.52 Q917.598 1549.52 914.52 1544.94 Q911.464 1540.33 911.464 1531.6 Q911.464 1522.85 914.52 1518.27 Q917.598 1513.66 923.409 1513.66 Z\" fill=\"#000000\" fill-rule=\"evenodd\" fill-opacity=\"1\" /><path clip-path=\"url(#clip410)\" d=\"M1578.76 1544.91 L1595.08 1544.91 L1595.08 1548.85 L1573.13 1548.85 L1573.13 1544.91 Q1575.8 1542.16 1580.38 1537.53 Q1584.98 1532.88 1586.17 1531.53 Q1588.41 1529.01 1589.29 1527.27 Q1590.19 1525.51 1590.19 1523.82 Q1590.19 1521.07 1588.25 1519.33 Q1586.33 1517.6 1583.23 1517.6 Q1581.03 1517.6 1578.57 1518.36 Q1576.14 1519.13 1573.36 1520.68 L1573.36 1515.95 Q1576.19 1514.82 1578.64 1514.24 Q1581.1 1513.66 1583.13 1513.66 Q1588.5 1513.66 1591.7 1516.35 Q1594.89 1519.03 1594.89 1523.52 Q1594.89 1525.65 1594.08 1527.57 Q1593.3 1529.47 1591.19 1532.07 Q1590.61 1532.74 1587.51 1535.95 Q1584.41 1539.15 1578.76 1544.91 Z\" fill=\"#000000\" fill-rule=\"evenodd\" fill-opacity=\"1\" /><path clip-path=\"url(#clip410)\" d=\"M1614.89 1517.37 Q1611.28 1517.37 1609.45 1520.93 Q1607.65 1524.47 1607.65 1531.6 Q1607.65 1538.71 1609.45 1542.27 Q1611.28 1545.82 1614.89 1545.82 Q1618.53 1545.82 1620.33 1542.27 Q1622.16 1538.71 1622.16 1531.6 Q1622.16 1524.47 1620.33 1520.93 Q1618.53 1517.37 1614.89 1517.37 M1614.89 1513.66 Q1620.7 1513.66 1623.76 1518.27 Q1626.84 1522.85 1626.84 1531.6 Q1626.84 1540.33 1623.76 1544.94 Q1620.7 1549.52 1614.89 1549.52 Q1609.08 1549.52 1606 1544.94 Q1602.95 1540.33 1602.95 1531.6 Q1602.95 1522.85 1606 1518.27 Q1609.08 1513.66 1614.89 1513.66 Z\" fill=\"#000000\" fill-rule=\"evenodd\" fill-opacity=\"1\" /><path clip-path=\"url(#clip410)\" d=\"M2279.44 1530.21 Q2282.8 1530.93 2284.67 1533.2 Q2286.57 1535.47 2286.57 1538.8 Q2286.57 1543.92 2283.05 1546.72 Q2279.54 1549.52 2273.05 1549.52 Q2270.88 1549.52 2268.56 1549.08 Q2266.27 1548.66 2263.82 1547.81 L2263.82 1543.29 Q2265.76 1544.43 2268.08 1545.01 Q2270.39 1545.58 2272.92 1545.58 Q2277.31 1545.58 2279.61 1543.85 Q2281.92 1542.11 2281.92 1538.8 Q2281.92 1535.75 2279.77 1534.03 Q2277.64 1532.3 2273.82 1532.3 L2269.79 1532.3 L2269.79 1528.45 L2274 1528.45 Q2277.45 1528.45 2279.28 1527.09 Q2281.11 1525.7 2281.11 1523.11 Q2281.11 1520.45 2279.21 1519.03 Q2277.34 1517.6 2273.82 1517.6 Q2271.9 1517.6 2269.7 1518.01 Q2267.5 1518.43 2264.86 1519.31 L2264.86 1515.14 Q2267.52 1514.4 2269.84 1514.03 Q2272.17 1513.66 2274.23 1513.66 Q2279.56 1513.66 2282.66 1516.09 Q2285.76 1518.5 2285.76 1522.62 Q2285.76 1525.49 2284.12 1527.48 Q2282.48 1529.45 2279.44 1530.21 Z\" fill=\"#000000\" fill-rule=\"evenodd\" fill-opacity=\"1\" /><path clip-path=\"url(#clip410)\" d=\"M2305.44 1517.37 Q2301.83 1517.37 2300 1520.93 Q2298.19 1524.47 2298.19 1531.6 Q2298.19 1538.71 2300 1542.27 Q2301.83 1545.82 2305.44 1545.82 Q2309.07 1545.82 2310.88 1542.27 Q2312.71 1538.71 2312.71 1531.6 Q2312.71 1524.47 2310.88 1520.93 Q2309.07 1517.37 2305.44 1517.37 M2305.44 1513.66 Q2311.25 1513.66 2314.3 1518.27 Q2317.38 1522.85 2317.38 1531.6 Q2317.38 1540.33 2314.3 1544.94 Q2311.25 1549.52 2305.44 1549.52 Q2299.63 1549.52 2296.55 1544.94 Q2293.49 1540.33 2293.49 1531.6 Q2293.49 1522.85 2296.55 1518.27 Q2299.63 1513.66 2305.44 1513.66 Z\" fill=\"#000000\" fill-rule=\"evenodd\" fill-opacity=\"1\" /><polyline clip-path=\"url(#clip412)\" style=\"stroke:#000000; stroke-linecap:round; stroke-linejoin:round; stroke-width:2; stroke-opacity:0.1; fill:none\" points=\"156.598,1445.72 2352.76,1445.72 \"/>\n",
       "<polyline clip-path=\"url(#clip412)\" style=\"stroke:#000000; stroke-linecap:round; stroke-linejoin:round; stroke-width:2; stroke-opacity:0.1; fill:none\" points=\"156.598,1127.22 2352.76,1127.22 \"/>\n",
       "<polyline clip-path=\"url(#clip412)\" style=\"stroke:#000000; stroke-linecap:round; stroke-linejoin:round; stroke-width:2; stroke-opacity:0.1; fill:none\" points=\"156.598,808.72 2352.76,808.72 \"/>\n",
       "<polyline clip-path=\"url(#clip412)\" style=\"stroke:#000000; stroke-linecap:round; stroke-linejoin:round; stroke-width:2; stroke-opacity:0.1; fill:none\" points=\"156.598,490.222 2352.76,490.222 \"/>\n",
       "<polyline clip-path=\"url(#clip412)\" style=\"stroke:#000000; stroke-linecap:round; stroke-linejoin:round; stroke-width:2; stroke-opacity:0.1; fill:none\" points=\"156.598,171.724 2352.76,171.724 \"/>\n",
       "<polyline clip-path=\"url(#clip410)\" style=\"stroke:#000000; stroke-linecap:round; stroke-linejoin:round; stroke-width:4; stroke-opacity:1; fill:none\" points=\"156.598,1486.45 156.598,47.2441 \"/>\n",
       "<polyline clip-path=\"url(#clip410)\" style=\"stroke:#000000; stroke-linecap:round; stroke-linejoin:round; stroke-width:4; stroke-opacity:1; fill:none\" points=\"156.598,1445.72 175.496,1445.72 \"/>\n",
       "<polyline clip-path=\"url(#clip410)\" style=\"stroke:#000000; stroke-linecap:round; stroke-linejoin:round; stroke-width:4; stroke-opacity:1; fill:none\" points=\"156.598,1127.22 175.496,1127.22 \"/>\n",
       "<polyline clip-path=\"url(#clip410)\" style=\"stroke:#000000; stroke-linecap:round; stroke-linejoin:round; stroke-width:4; stroke-opacity:1; fill:none\" points=\"156.598,808.72 175.496,808.72 \"/>\n",
       "<polyline clip-path=\"url(#clip410)\" style=\"stroke:#000000; stroke-linecap:round; stroke-linejoin:round; stroke-width:4; stroke-opacity:1; fill:none\" points=\"156.598,490.222 175.496,490.222 \"/>\n",
       "<polyline clip-path=\"url(#clip410)\" style=\"stroke:#000000; stroke-linecap:round; stroke-linejoin:round; stroke-width:4; stroke-opacity:1; fill:none\" points=\"156.598,171.724 175.496,171.724 \"/>\n",
       "<path clip-path=\"url(#clip410)\" d=\"M63.4226 1431.51 Q59.8115 1431.51 57.9828 1435.08 Q56.1773 1438.62 56.1773 1445.75 Q56.1773 1452.86 57.9828 1456.42 Q59.8115 1459.96 63.4226 1459.96 Q67.0569 1459.96 68.8624 1456.42 Q70.6911 1452.86 70.6911 1445.75 Q70.6911 1438.62 68.8624 1435.08 Q67.0569 1431.51 63.4226 1431.51 M63.4226 1427.81 Q69.2328 1427.81 72.2883 1432.42 Q75.367 1437 75.367 1445.75 Q75.367 1454.48 72.2883 1459.08 Q69.2328 1463.67 63.4226 1463.67 Q57.6125 1463.67 54.5338 1459.08 Q51.4782 1454.48 51.4782 1445.75 Q51.4782 1437 54.5338 1432.42 Q57.6125 1427.81 63.4226 1427.81 Z\" fill=\"#000000\" fill-rule=\"evenodd\" fill-opacity=\"1\" /><path clip-path=\"url(#clip410)\" d=\"M83.5845 1457.12 L88.4688 1457.12 L88.4688 1463 L83.5845 1463 L83.5845 1457.12 Z\" fill=\"#000000\" fill-rule=\"evenodd\" fill-opacity=\"1\" /><path clip-path=\"url(#clip410)\" d=\"M108.654 1431.51 Q105.043 1431.51 103.214 1435.08 Q101.409 1438.62 101.409 1445.75 Q101.409 1452.86 103.214 1456.42 Q105.043 1459.96 108.654 1459.96 Q112.288 1459.96 114.094 1456.42 Q115.922 1452.86 115.922 1445.75 Q115.922 1438.62 114.094 1435.08 Q112.288 1431.51 108.654 1431.51 M108.654 1427.81 Q114.464 1427.81 117.52 1432.42 Q120.598 1437 120.598 1445.75 Q120.598 1454.48 117.52 1459.08 Q114.464 1463.67 108.654 1463.67 Q102.844 1463.67 99.765 1459.08 Q96.7095 1454.48 96.7095 1445.75 Q96.7095 1437 99.765 1432.42 Q102.844 1427.81 108.654 1427.81 Z\" fill=\"#000000\" fill-rule=\"evenodd\" fill-opacity=\"1\" /><path clip-path=\"url(#clip410)\" d=\"M65.0198 1113.02 Q61.4087 1113.02 59.58 1116.58 Q57.7745 1120.12 57.7745 1127.25 Q57.7745 1134.36 59.58 1137.92 Q61.4087 1141.47 65.0198 1141.47 Q68.6541 1141.47 70.4596 1137.92 Q72.2883 1134.36 72.2883 1127.25 Q72.2883 1120.12 70.4596 1116.58 Q68.6541 1113.02 65.0198 1113.02 M65.0198 1109.31 Q70.83 1109.31 73.8855 1113.92 Q76.9642 1118.5 76.9642 1127.25 Q76.9642 1135.98 73.8855 1140.59 Q70.83 1145.17 65.0198 1145.17 Q59.2097 1145.17 56.131 1140.59 Q53.0754 1135.98 53.0754 1127.25 Q53.0754 1118.5 56.131 1113.92 Q59.2097 1109.31 65.0198 1109.31 Z\" fill=\"#000000\" fill-rule=\"evenodd\" fill-opacity=\"1\" /><path clip-path=\"url(#clip410)\" d=\"M85.1818 1138.62 L90.066 1138.62 L90.066 1144.5 L85.1818 1144.5 L85.1818 1138.62 Z\" fill=\"#000000\" fill-rule=\"evenodd\" fill-opacity=\"1\" /><path clip-path=\"url(#clip410)\" d=\"M104.279 1140.56 L120.598 1140.56 L120.598 1144.5 L98.6539 1144.5 L98.6539 1140.56 Q101.316 1137.81 105.899 1133.18 Q110.506 1128.53 111.686 1127.18 Q113.932 1124.66 114.811 1122.92 Q115.714 1121.16 115.714 1119.47 Q115.714 1116.72 113.77 1114.98 Q111.848 1113.25 108.746 1113.25 Q106.547 1113.25 104.094 1114.01 Q101.663 1114.78 98.8854 1116.33 L98.8854 1111.6 Q101.709 1110.47 104.163 1109.89 Q106.617 1109.31 108.654 1109.31 Q114.024 1109.31 117.219 1112 Q120.413 1114.68 120.413 1119.17 Q120.413 1121.3 119.603 1123.22 Q118.816 1125.12 116.709 1127.72 Q116.131 1128.39 113.029 1131.6 Q109.927 1134.8 104.279 1140.56 Z\" fill=\"#000000\" fill-rule=\"evenodd\" fill-opacity=\"1\" /><path clip-path=\"url(#clip410)\" d=\"M62.9365 794.518 Q59.3254 794.518 57.4967 798.083 Q55.6912 801.625 55.6912 808.754 Q55.6912 815.861 57.4967 819.426 Q59.3254 822.967 62.9365 822.967 Q66.5707 822.967 68.3763 819.426 Q70.205 815.861 70.205 808.754 Q70.205 801.625 68.3763 798.083 Q66.5707 794.518 62.9365 794.518 M62.9365 790.815 Q68.7467 790.815 71.8022 795.421 Q74.8809 800.004 74.8809 808.754 Q74.8809 817.481 71.8022 822.088 Q68.7467 826.671 62.9365 826.671 Q57.1264 826.671 54.0477 822.088 Q50.9921 817.481 50.9921 808.754 Q50.9921 800.004 54.0477 795.421 Q57.1264 790.815 62.9365 790.815 Z\" fill=\"#000000\" fill-rule=\"evenodd\" fill-opacity=\"1\" /><path clip-path=\"url(#clip410)\" d=\"M83.0984 820.12 L87.9827 820.12 L87.9827 826 L83.0984 826 L83.0984 820.12 Z\" fill=\"#000000\" fill-rule=\"evenodd\" fill-opacity=\"1\" /><path clip-path=\"url(#clip410)\" d=\"M111.015 795.514 L99.2095 813.963 L111.015 813.963 L111.015 795.514 M109.788 791.44 L115.668 791.44 L115.668 813.963 L120.598 813.963 L120.598 817.852 L115.668 817.852 L115.668 826 L111.015 826 L111.015 817.852 L95.4132 817.852 L95.4132 813.338 L109.788 791.44 Z\" fill=\"#000000\" fill-rule=\"evenodd\" fill-opacity=\"1\" /><path clip-path=\"url(#clip410)\" d=\"M63.2606 476.02 Q59.6495 476.02 57.8208 479.585 Q56.0152 483.127 56.0152 490.256 Q56.0152 497.363 57.8208 500.928 Q59.6495 504.469 63.2606 504.469 Q66.8948 504.469 68.7004 500.928 Q70.5291 497.363 70.5291 490.256 Q70.5291 483.127 68.7004 479.585 Q66.8948 476.02 63.2606 476.02 M63.2606 472.317 Q69.0707 472.317 72.1263 476.923 Q75.205 481.506 75.205 490.256 Q75.205 498.983 72.1263 503.59 Q69.0707 508.173 63.2606 508.173 Q57.4504 508.173 54.3717 503.59 Q51.3162 498.983 51.3162 490.256 Q51.3162 481.506 54.3717 476.923 Q57.4504 472.317 63.2606 472.317 Z\" fill=\"#000000\" fill-rule=\"evenodd\" fill-opacity=\"1\" /><path clip-path=\"url(#clip410)\" d=\"M83.4225 501.622 L88.3067 501.622 L88.3067 507.502 L83.4225 507.502 L83.4225 501.622 Z\" fill=\"#000000\" fill-rule=\"evenodd\" fill-opacity=\"1\" /><path clip-path=\"url(#clip410)\" d=\"M109.071 488.358 Q105.922 488.358 104.071 490.511 Q102.242 492.664 102.242 496.414 Q102.242 500.141 104.071 502.316 Q105.922 504.469 109.071 504.469 Q112.219 504.469 114.047 502.316 Q115.899 500.141 115.899 496.414 Q115.899 492.664 114.047 490.511 Q112.219 488.358 109.071 488.358 M118.353 473.705 L118.353 477.965 Q116.594 477.131 114.788 476.692 Q113.006 476.252 111.246 476.252 Q106.617 476.252 104.163 479.377 Q101.733 482.502 101.385 488.821 Q102.751 486.807 104.811 485.742 Q106.871 484.654 109.348 484.654 Q114.557 484.654 117.566 487.826 Q120.598 490.974 120.598 496.414 Q120.598 501.738 117.45 504.955 Q114.302 508.173 109.071 508.173 Q103.075 508.173 99.9039 503.59 Q96.7326 498.983 96.7326 490.256 Q96.7326 482.062 100.621 477.201 Q104.51 472.317 111.061 472.317 Q112.82 472.317 114.603 472.664 Q116.408 473.011 118.353 473.705 Z\" fill=\"#000000\" fill-rule=\"evenodd\" fill-opacity=\"1\" /><path clip-path=\"url(#clip410)\" d=\"M63.5152 157.522 Q59.9041 157.522 58.0754 161.087 Q56.2699 164.629 56.2699 171.758 Q56.2699 178.865 58.0754 182.429 Q59.9041 185.971 63.5152 185.971 Q67.1494 185.971 68.955 182.429 Q70.7837 178.865 70.7837 171.758 Q70.7837 164.629 68.955 161.087 Q67.1494 157.522 63.5152 157.522 M63.5152 153.819 Q69.3254 153.819 72.3809 158.425 Q75.4596 163.008 75.4596 171.758 Q75.4596 180.485 72.3809 185.092 Q69.3254 189.675 63.5152 189.675 Q57.7051 189.675 54.6264 185.092 Q51.5708 180.485 51.5708 171.758 Q51.5708 163.008 54.6264 158.425 Q57.7051 153.819 63.5152 153.819 Z\" fill=\"#000000\" fill-rule=\"evenodd\" fill-opacity=\"1\" /><path clip-path=\"url(#clip410)\" d=\"M83.6771 183.124 L88.5614 183.124 L88.5614 189.004 L83.6771 189.004 L83.6771 183.124 Z\" fill=\"#000000\" fill-rule=\"evenodd\" fill-opacity=\"1\" /><path clip-path=\"url(#clip410)\" d=\"M108.746 172.592 Q105.413 172.592 103.492 174.374 Q101.594 176.156 101.594 179.281 Q101.594 182.406 103.492 184.189 Q105.413 185.971 108.746 185.971 Q112.08 185.971 114.001 184.189 Q115.922 182.383 115.922 179.281 Q115.922 176.156 114.001 174.374 Q112.103 172.592 108.746 172.592 M104.071 170.601 Q101.061 169.86 99.3715 167.8 Q97.7048 165.74 97.7048 162.777 Q97.7048 158.633 100.645 156.226 Q103.608 153.819 108.746 153.819 Q113.908 153.819 116.848 156.226 Q119.788 158.633 119.788 162.777 Q119.788 165.74 118.098 167.8 Q116.432 169.86 113.445 170.601 Q116.825 171.388 118.7 173.68 Q120.598 175.971 120.598 179.281 Q120.598 184.304 117.52 186.99 Q114.464 189.675 108.746 189.675 Q103.029 189.675 99.9502 186.99 Q96.8947 184.304 96.8947 179.281 Q96.8947 175.971 98.7928 173.68 Q100.691 171.388 104.071 170.601 M102.358 163.217 Q102.358 165.902 104.024 167.406 Q105.714 168.911 108.746 168.911 Q111.756 168.911 113.445 167.406 Q115.158 165.902 115.158 163.217 Q115.158 160.531 113.445 159.027 Q111.756 157.522 108.746 157.522 Q105.714 157.522 104.024 159.027 Q102.358 160.531 102.358 163.217 Z\" fill=\"#000000\" fill-rule=\"evenodd\" fill-opacity=\"1\" /><polyline clip-path=\"url(#clip412)\" style=\"stroke:#009af9; stroke-linecap:round; stroke-linejoin:round; stroke-width:4; stroke-opacity:1; fill:none\" points=\"218.754,1445.72 220.44,1445.72 222.126,1445.72 223.812,1445.72 225.498,1445.72 227.184,1445.72 228.87,1445.72 230.556,1445.72 232.242,1445.72 236.14,1445.72 240.038,1445.72 243.935,1445.71 247.833,1445.36 248.807,1444.87 249.782,1443.89 250.756,1442.07 251.731,1438.98 252.705,1434.05 253.679,1426.63 254.654,1416.03 255.628,1401.58 256.603,1382.66 257.577,1358.77 258.551,1329.56 259.526,1294.88 260.5,1254.76 261.475,1209.43 262.449,1159.29 263.423,1104.9 264.398,1046.92 265.372,986.125 266.347,923.3 267.321,859.267 268.296,794.831 269.27,730.759 270.244,667.763 271.219,606.483 272.193,547.485 273.168,491.246 274.142,438.164 275.116,388.552 276.091,342.646 277.065,300.607 278.04,262.532 279.014,228.457 279.988,198.369 280.963,172.208 281.937,149.881 282.912,131.26 283.886,116.196 284.86,104.522 285.835,96.0557 286.809,90.6068 287.784,87.9796 288.758,87.9763 289.732,90.3997 290.707,95.0556 291.681,101.754 292.656,110.313 293.63,120.554 294.604,132.309 295.579,145.42 296.553,159.734 297.528,175.111 298.502,191.416 300.451,226.329 302.4,263.586 306.297,342.238 310.195,422.716 314.093,501.89 317.99,577.776 319.939,614.1 321.888,649.218 323.837,683.074 325.785,715.635 327.734,746.887 329.683,776.832 331.632,805.483 333.581,832.863 335.53,859.004 337.478,883.941 339.427,907.714 341.376,930.364 343.325,951.937 345.274,972.476 347.222,992.028 349.171,1010.64 351.12,1028.34 353.069,1045.2 354.043,1053.31 355.018,1061.23 355.992,1068.96 356.966,1418.81 357.552,1418.82 358.138,1418.83 358.723,1418.84 359.309,1418.84 360.48,1418.86 361.651,1418.87 363.993,1418.9 366.336,1418.93 371.02,1418.99 375.705,1419.04 385.074,1419.16 394.443,1419.28 413.182,1419.51 431.92,1419.75 463.607,1420.16 495.293,1420.57 564.133,1421.5 627.598,1422.37 695.639,1423.32 774.471,1424.44 844.528,1425.44 905.961,1426.33 972.94,1427.29 1040.32,1428.24 1114.81,1429.29 1185.69,1430.27 1259.39,1431.27 1321.42,1432.09 1397.17,1433.06 1466.55,1433.92 1530.63,1434.69 1595.54,1435.44 1668.29,1436.25 1734.21,1436.94 1809.69,1437.7 1879.57,1438.36 1948.47,1438.98 2015.36,1439.54 2049.65,1439.81 2083.94,1440.08 2093.33,1440.15 2102.72,1440.22 2107.42,1440.26 2112.11,1440.29 2114.46,1440.31 2116.81,1440.33 2117.39,1440.33 2117.98,1445.72 2118.57,1445.72 2119.16,1445.72 2120.33,1445.72 2121.5,1445.72 2140.29,1445.72 2159.07,1445.72 2213.64,1445.72 2268.21,1445.72 2279.41,1445.72 2290.6,1445.72 \"/>\n",
       "<path clip-path=\"url(#clip410)\" d=\"M2007.5 198.898 L2279.55 198.898 L2279.55 95.2176 L2007.5 95.2176  Z\" fill=\"#ffffff\" fill-rule=\"evenodd\" fill-opacity=\"1\"/>\n",
       "<polyline clip-path=\"url(#clip410)\" style=\"stroke:#000000; stroke-linecap:round; stroke-linejoin:round; stroke-width:4; stroke-opacity:1; fill:none\" points=\"2007.5,198.898 2279.55,198.898 2279.55,95.2176 2007.5,95.2176 2007.5,198.898 \"/>\n",
       "<polyline clip-path=\"url(#clip410)\" style=\"stroke:#009af9; stroke-linecap:round; stroke-linejoin:round; stroke-width:4; stroke-opacity:1; fill:none\" points=\"2031.91,147.058 2178.32,147.058 \"/>\n",
       "<path clip-path=\"url(#clip410)\" d=\"M2216.56 166.745 Q2214.76 171.375 2213.04 172.787 Q2211.33 174.199 2208.46 174.199 L2205.06 174.199 L2205.06 170.634 L2207.56 170.634 Q2209.32 170.634 2210.29 169.8 Q2211.26 168.967 2212.44 165.865 L2213.2 163.921 L2202.72 138.412 L2207.23 138.412 L2215.33 158.689 L2223.44 138.412 L2227.95 138.412 L2216.56 166.745 Z\" fill=\"#000000\" fill-rule=\"evenodd\" fill-opacity=\"1\" /><path clip-path=\"url(#clip410)\" d=\"M2235.24 160.402 L2242.88 160.402 L2242.88 134.037 L2234.57 135.703 L2234.57 131.444 L2242.83 129.778 L2247.51 129.778 L2247.51 160.402 L2255.15 160.402 L2255.15 164.338 L2235.24 164.338 L2235.24 160.402 Z\" fill=\"#000000\" fill-rule=\"evenodd\" fill-opacity=\"1\" /></svg>\n"
      ]
     },
     "execution_count": 10,
     "metadata": {},
     "output_type": "execute_result"
    }
   ],
   "source": [
    "function dQ(s, r, G, K)\n",
    "      if s >= K/2\n",
    "        return 0\n",
    "    elseif s <= 0\n",
    "        return 0\n",
    "    elseif r <= 0\n",
    "        return 0\n",
    "    elseif s >= r\n",
    "        return  pdf(G, (r-s+K/2)/r)*1/r\n",
    "    else\n",
    "        return pdf(G, K/(2*s))*K/(2*s^2)\n",
    "    end\n",
    "end\n",
    "\n",
    "plot(x -> dQ(x,r,G, K),0,30)"
   ]
  },
  {
   "cell_type": "markdown",
   "id": "0e3df325-3a67-40a8-a41a-b962f558389e",
   "metadata": {},
   "source": [
    "\n",
    "The next bit we need to code is the calculation of the 'probability' of a proposer's offer.  As above, the loss aversion parameter of a proposer who offers $s$ is given by\n",
    "$$\n",
    "\\lambda = \\left( \\frac{Q(s)(1-2\\alpha)}{RQ^\\prime (s)} -\\frac{K}{R}(1+\\alpha) + 1 +s\\frac{1+2\\alpha}{R} \\right) \n",
    "$$\n",
    "\n",
    "\n",
    "\n",
    "Before we get to this function, notice that there is a $Q^\\prime$ in the denominator of the first term in this expression. If you looked at plots of the $Q$ function above you will notice there are flat spots we'll need to deal with.  To do this, notice that offers at or above $\\frac{1}{2}$ are always accepted.\n",
    "\n",
    "There are actually a lot of proposer types whose loss aversion parameter is so high, they will optimally make an offer of $\\frac{1}{2}$ or even higher if they make a mistake (there was one offer of 49, which probably means the proposer didn't understand the payoff function).  So there is some pooling.  \n",
    "\n",
    "The way we'll deal with this is to treat all offers above $\\frac{55}{2}$ as if they were made by proposers who want their offer to be accepted for sure.  So the distribution of offers will have a mass point at $\\frac{55}{2}$.\n",
    "\n",
    "Similarly, you'll notice that the probability of acceptance function has a 'kink' at the reference point $r$, which means there will also be a mass point there.  To find a likelihood we'll have to calculate these masses.  The probabilities for all the other offers will be represented by densities.\n",
    "\n",
    "We next need to calculate the size of these mass points.\n",
    "\n"
   ]
  },
  {
   "cell_type": "code",
   "execution_count": 11,
   "id": "a7b5c977-38d0-4b9e-a113-4071d2eba199",
   "metadata": {},
   "outputs": [
    {
     "data": {
      "text/plain": [
       "type (generic function with 1 method)"
      ]
     },
     "execution_count": 11,
     "metadata": {},
     "output_type": "execute_result"
    }
   ],
   "source": [
    "function type(s, r, G, alpha, K,R)\n",
    "    return max(1,Q(s,r,G,K)*(1+2*alpha)/(R*dQ(s,r,G,K)) -(K/R)*(1+alpha)+ 1 + s*(1+2*alpha)/R)\n",
    "end\n"
   ]
  },
  {
   "cell_type": "code",
   "execution_count": 12,
   "id": "dd402a90-c23b-41bf-9d0c-30aaf836a0f6",
   "metadata": {},
   "outputs": [
    {
     "data": {
      "text/plain": [
       "1.0"
      ]
     },
     "execution_count": 12,
     "metadata": {},
     "output_type": "execute_result"
    }
   ],
   "source": [
    "type(r,r,G,alpha,K,R)"
   ]
  },
  {
   "cell_type": "code",
   "execution_count": 13,
   "id": "e055b2dd-b417-46a8-b77b-971dde9990b3",
   "metadata": {},
   "outputs": [
    {
     "data": {
      "image/svg+xml": [
       "<?xml version=\"1.0\" encoding=\"utf-8\"?>\n",
       "<svg xmlns=\"http://www.w3.org/2000/svg\" xmlns:xlink=\"http://www.w3.org/1999/xlink\" width=\"600\" height=\"400\" viewBox=\"0 0 2400 1600\">\n",
       "<defs>\n",
       "  <clipPath id=\"clip450\">\n",
       "    <rect x=\"0\" y=\"0\" width=\"2400\" height=\"1600\"/>\n",
       "  </clipPath>\n",
       "</defs>\n",
       "<path clip-path=\"url(#clip450)\" d=\"M0 1600 L2400 1600 L2400 0 L0 0  Z\" fill=\"#ffffff\" fill-rule=\"evenodd\" fill-opacity=\"1\"/>\n",
       "<defs>\n",
       "  <clipPath id=\"clip451\">\n",
       "    <rect x=\"480\" y=\"0\" width=\"1681\" height=\"1600\"/>\n",
       "  </clipPath>\n",
       "</defs>\n",
       "<path clip-path=\"url(#clip450)\" d=\"M184.191 1486.45 L2352.76 1486.45 L2352.76 47.2441 L184.191 47.2441  Z\" fill=\"#ffffff\" fill-rule=\"evenodd\" fill-opacity=\"1\"/>\n",
       "<defs>\n",
       "  <clipPath id=\"clip452\">\n",
       "    <rect x=\"184\" y=\"47\" width=\"2170\" height=\"1440\"/>\n",
       "  </clipPath>\n",
       "</defs>\n",
       "<polyline clip-path=\"url(#clip452)\" style=\"stroke:#000000; stroke-linecap:round; stroke-linejoin:round; stroke-width:2; stroke-opacity:0.1; fill:none\" points=\"554.368,1486.45 554.368,47.2441 \"/>\n",
       "<polyline clip-path=\"url(#clip452)\" style=\"stroke:#000000; stroke-linecap:round; stroke-linejoin:round; stroke-width:2; stroke-opacity:0.1; fill:none\" points=\"940.371,1486.45 940.371,47.2441 \"/>\n",
       "<polyline clip-path=\"url(#clip452)\" style=\"stroke:#000000; stroke-linecap:round; stroke-linejoin:round; stroke-width:2; stroke-opacity:0.1; fill:none\" points=\"1326.37,1486.45 1326.37,47.2441 \"/>\n",
       "<polyline clip-path=\"url(#clip452)\" style=\"stroke:#000000; stroke-linecap:round; stroke-linejoin:round; stroke-width:2; stroke-opacity:0.1; fill:none\" points=\"1712.38,1486.45 1712.38,47.2441 \"/>\n",
       "<polyline clip-path=\"url(#clip452)\" style=\"stroke:#000000; stroke-linecap:round; stroke-linejoin:round; stroke-width:2; stroke-opacity:0.1; fill:none\" points=\"2098.38,1486.45 2098.38,47.2441 \"/>\n",
       "<polyline clip-path=\"url(#clip450)\" style=\"stroke:#000000; stroke-linecap:round; stroke-linejoin:round; stroke-width:4; stroke-opacity:1; fill:none\" points=\"184.191,1486.45 2352.76,1486.45 \"/>\n",
       "<polyline clip-path=\"url(#clip450)\" style=\"stroke:#000000; stroke-linecap:round; stroke-linejoin:round; stroke-width:4; stroke-opacity:1; fill:none\" points=\"554.368,1486.45 554.368,1467.55 \"/>\n",
       "<polyline clip-path=\"url(#clip450)\" style=\"stroke:#000000; stroke-linecap:round; stroke-linejoin:round; stroke-width:4; stroke-opacity:1; fill:none\" points=\"940.371,1486.45 940.371,1467.55 \"/>\n",
       "<polyline clip-path=\"url(#clip450)\" style=\"stroke:#000000; stroke-linecap:round; stroke-linejoin:round; stroke-width:4; stroke-opacity:1; fill:none\" points=\"1326.37,1486.45 1326.37,1467.55 \"/>\n",
       "<polyline clip-path=\"url(#clip450)\" style=\"stroke:#000000; stroke-linecap:round; stroke-linejoin:round; stroke-width:4; stroke-opacity:1; fill:none\" points=\"1712.38,1486.45 1712.38,1467.55 \"/>\n",
       "<polyline clip-path=\"url(#clip450)\" style=\"stroke:#000000; stroke-linecap:round; stroke-linejoin:round; stroke-width:4; stroke-opacity:1; fill:none\" points=\"2098.38,1486.45 2098.38,1467.55 \"/>\n",
       "<path clip-path=\"url(#clip450)\" d=\"M529.055 1544.91 L536.694 1544.91 L536.694 1518.55 L528.384 1520.21 L528.384 1515.95 L536.648 1514.29 L541.324 1514.29 L541.324 1544.91 L548.963 1544.91 L548.963 1548.85 L529.055 1548.85 L529.055 1544.91 Z\" fill=\"#000000\" fill-rule=\"evenodd\" fill-opacity=\"1\" /><path clip-path=\"url(#clip450)\" d=\"M568.407 1517.37 Q564.796 1517.37 562.967 1520.93 Q561.162 1524.47 561.162 1531.6 Q561.162 1538.71 562.967 1542.27 Q564.796 1545.82 568.407 1545.82 Q572.041 1545.82 573.847 1542.27 Q575.675 1538.71 575.675 1531.6 Q575.675 1524.47 573.847 1520.93 Q572.041 1517.37 568.407 1517.37 M568.407 1513.66 Q574.217 1513.66 577.273 1518.27 Q580.351 1522.85 580.351 1531.6 Q580.351 1540.33 577.273 1544.94 Q574.217 1549.52 568.407 1549.52 Q562.597 1549.52 559.518 1544.94 Q556.463 1540.33 556.463 1531.6 Q556.463 1522.85 559.518 1518.27 Q562.597 1513.66 568.407 1513.66 Z\" fill=\"#000000\" fill-rule=\"evenodd\" fill-opacity=\"1\" /><path clip-path=\"url(#clip450)\" d=\"M919.144 1544.91 L935.463 1544.91 L935.463 1548.85 L913.519 1548.85 L913.519 1544.91 Q916.181 1542.16 920.764 1537.53 Q925.371 1532.88 926.551 1531.53 Q928.797 1529.01 929.676 1527.27 Q930.579 1525.51 930.579 1523.82 Q930.579 1521.07 928.635 1519.33 Q926.713 1517.6 923.612 1517.6 Q921.412 1517.6 918.959 1518.36 Q916.528 1519.13 913.75 1520.68 L913.75 1515.95 Q916.575 1514.82 919.028 1514.24 Q921.482 1513.66 923.519 1513.66 Q928.889 1513.66 932.084 1516.35 Q935.278 1519.03 935.278 1523.52 Q935.278 1525.65 934.468 1527.57 Q933.681 1529.47 931.574 1532.07 Q930.996 1532.74 927.894 1535.95 Q924.792 1539.15 919.144 1544.91 Z\" fill=\"#000000\" fill-rule=\"evenodd\" fill-opacity=\"1\" /><path clip-path=\"url(#clip450)\" d=\"M955.278 1517.37 Q951.667 1517.37 949.838 1520.93 Q948.033 1524.47 948.033 1531.6 Q948.033 1538.71 949.838 1542.27 Q951.667 1545.82 955.278 1545.82 Q958.912 1545.82 960.718 1542.27 Q962.546 1538.71 962.546 1531.6 Q962.546 1524.47 960.718 1520.93 Q958.912 1517.37 955.278 1517.37 M955.278 1513.66 Q961.088 1513.66 964.144 1518.27 Q967.222 1522.85 967.222 1531.6 Q967.222 1540.33 964.144 1544.94 Q961.088 1549.52 955.278 1549.52 Q949.468 1549.52 946.389 1544.94 Q943.334 1540.33 943.334 1531.6 Q943.334 1522.85 946.389 1518.27 Q949.468 1513.66 955.278 1513.66 Z\" fill=\"#000000\" fill-rule=\"evenodd\" fill-opacity=\"1\" /><path clip-path=\"url(#clip450)\" d=\"M1315.22 1530.21 Q1318.57 1530.93 1320.45 1533.2 Q1322.35 1535.47 1322.35 1538.8 Q1322.35 1543.92 1318.83 1546.72 Q1315.31 1549.52 1308.83 1549.52 Q1306.65 1549.52 1304.34 1549.08 Q1302.05 1548.66 1299.59 1547.81 L1299.59 1543.29 Q1301.54 1544.43 1303.85 1545.01 Q1306.17 1545.58 1308.69 1545.58 Q1313.09 1545.58 1315.38 1543.85 Q1317.69 1542.11 1317.69 1538.8 Q1317.69 1535.75 1315.54 1534.03 Q1313.41 1532.3 1309.59 1532.3 L1305.56 1532.3 L1305.56 1528.45 L1309.78 1528.45 Q1313.23 1528.45 1315.05 1527.09 Q1316.88 1525.7 1316.88 1523.11 Q1316.88 1520.45 1314.98 1519.03 Q1313.11 1517.6 1309.59 1517.6 Q1307.67 1517.6 1305.47 1518.01 Q1303.27 1518.43 1300.63 1519.31 L1300.63 1515.14 Q1303.3 1514.4 1305.61 1514.03 Q1307.95 1513.66 1310.01 1513.66 Q1315.33 1513.66 1318.43 1516.09 Q1321.54 1518.5 1321.54 1522.62 Q1321.54 1525.49 1319.89 1527.48 Q1318.25 1529.45 1315.22 1530.21 Z\" fill=\"#000000\" fill-rule=\"evenodd\" fill-opacity=\"1\" /><path clip-path=\"url(#clip450)\" d=\"M1341.21 1517.37 Q1337.6 1517.37 1335.77 1520.93 Q1333.97 1524.47 1333.97 1531.6 Q1333.97 1538.71 1335.77 1542.27 Q1337.6 1545.82 1341.21 1545.82 Q1344.85 1545.82 1346.65 1542.27 Q1348.48 1538.71 1348.48 1531.6 Q1348.48 1524.47 1346.65 1520.93 Q1344.85 1517.37 1341.21 1517.37 M1341.21 1513.66 Q1347.02 1513.66 1350.08 1518.27 Q1353.16 1522.85 1353.16 1531.6 Q1353.16 1540.33 1350.08 1544.94 Q1347.02 1549.52 1341.21 1549.52 Q1335.4 1549.52 1332.32 1544.94 Q1329.27 1540.33 1329.27 1531.6 Q1329.27 1522.85 1332.32 1518.27 Q1335.4 1513.66 1341.21 1513.66 Z\" fill=\"#000000\" fill-rule=\"evenodd\" fill-opacity=\"1\" /><path clip-path=\"url(#clip450)\" d=\"M1700.55 1518.36 L1688.74 1536.81 L1700.55 1536.81 L1700.55 1518.36 M1699.32 1514.29 L1705.2 1514.29 L1705.2 1536.81 L1710.13 1536.81 L1710.13 1540.7 L1705.2 1540.7 L1705.2 1548.85 L1700.55 1548.85 L1700.55 1540.7 L1684.95 1540.7 L1684.95 1536.19 L1699.32 1514.29 Z\" fill=\"#000000\" fill-rule=\"evenodd\" fill-opacity=\"1\" /><path clip-path=\"url(#clip450)\" d=\"M1727.86 1517.37 Q1724.25 1517.37 1722.42 1520.93 Q1720.62 1524.47 1720.62 1531.6 Q1720.62 1538.71 1722.42 1542.27 Q1724.25 1545.82 1727.86 1545.82 Q1731.5 1545.82 1733.3 1542.27 Q1735.13 1538.71 1735.13 1531.6 Q1735.13 1524.47 1733.3 1520.93 Q1731.5 1517.37 1727.86 1517.37 M1727.86 1513.66 Q1733.67 1513.66 1736.73 1518.27 Q1739.81 1522.85 1739.81 1531.6 Q1739.81 1540.33 1736.73 1544.94 Q1733.67 1549.52 1727.86 1549.52 Q1722.05 1549.52 1718.97 1544.94 Q1715.92 1540.33 1715.92 1531.6 Q1715.92 1522.85 1718.97 1518.27 Q1722.05 1513.66 1727.86 1513.66 Z\" fill=\"#000000\" fill-rule=\"evenodd\" fill-opacity=\"1\" /><path clip-path=\"url(#clip450)\" d=\"M2073.08 1514.29 L2091.44 1514.29 L2091.44 1518.22 L2077.36 1518.22 L2077.36 1526.7 Q2078.38 1526.35 2079.4 1526.19 Q2080.42 1526 2081.44 1526 Q2087.22 1526 2090.6 1529.17 Q2093.98 1532.34 2093.98 1537.76 Q2093.98 1543.34 2090.51 1546.44 Q2087.04 1549.52 2080.72 1549.52 Q2078.54 1549.52 2076.27 1549.15 Q2074.03 1548.78 2071.62 1548.04 L2071.62 1543.34 Q2073.7 1544.47 2075.93 1545.03 Q2078.15 1545.58 2080.63 1545.58 Q2084.63 1545.58 2086.97 1543.48 Q2089.31 1541.37 2089.31 1537.76 Q2089.31 1534.15 2086.97 1532.04 Q2084.63 1529.94 2080.63 1529.94 Q2078.75 1529.94 2076.88 1530.35 Q2075.02 1530.77 2073.08 1531.65 L2073.08 1514.29 Z\" fill=\"#000000\" fill-rule=\"evenodd\" fill-opacity=\"1\" /><path clip-path=\"url(#clip450)\" d=\"M2113.19 1517.37 Q2109.58 1517.37 2107.75 1520.93 Q2105.95 1524.47 2105.95 1531.6 Q2105.95 1538.71 2107.75 1542.27 Q2109.58 1545.82 2113.19 1545.82 Q2116.83 1545.82 2118.63 1542.27 Q2120.46 1538.71 2120.46 1531.6 Q2120.46 1524.47 2118.63 1520.93 Q2116.83 1517.37 2113.19 1517.37 M2113.19 1513.66 Q2119 1513.66 2122.06 1518.27 Q2125.14 1522.85 2125.14 1531.6 Q2125.14 1540.33 2122.06 1544.94 Q2119 1549.52 2113.19 1549.52 Q2107.38 1549.52 2104.31 1544.94 Q2101.25 1540.33 2101.25 1531.6 Q2101.25 1522.85 2104.31 1518.27 Q2107.38 1513.66 2113.19 1513.66 Z\" fill=\"#000000\" fill-rule=\"evenodd\" fill-opacity=\"1\" /><polyline clip-path=\"url(#clip452)\" style=\"stroke:#000000; stroke-linecap:round; stroke-linejoin:round; stroke-width:2; stroke-opacity:0.1; fill:none\" points=\"184.191,1274.58 2352.76,1274.58 \"/>\n",
       "<polyline clip-path=\"url(#clip452)\" style=\"stroke:#000000; stroke-linecap:round; stroke-linejoin:round; stroke-width:2; stroke-opacity:0.1; fill:none\" points=\"184.191,989.361 2352.76,989.361 \"/>\n",
       "<polyline clip-path=\"url(#clip452)\" style=\"stroke:#000000; stroke-linecap:round; stroke-linejoin:round; stroke-width:2; stroke-opacity:0.1; fill:none\" points=\"184.191,704.139 2352.76,704.139 \"/>\n",
       "<polyline clip-path=\"url(#clip452)\" style=\"stroke:#000000; stroke-linecap:round; stroke-linejoin:round; stroke-width:2; stroke-opacity:0.1; fill:none\" points=\"184.191,418.917 2352.76,418.917 \"/>\n",
       "<polyline clip-path=\"url(#clip452)\" style=\"stroke:#000000; stroke-linecap:round; stroke-linejoin:round; stroke-width:2; stroke-opacity:0.1; fill:none\" points=\"184.191,133.695 2352.76,133.695 \"/>\n",
       "<polyline clip-path=\"url(#clip450)\" style=\"stroke:#000000; stroke-linecap:round; stroke-linejoin:round; stroke-width:4; stroke-opacity:1; fill:none\" points=\"184.191,1486.45 184.191,47.2441 \"/>\n",
       "<polyline clip-path=\"url(#clip450)\" style=\"stroke:#000000; stroke-linecap:round; stroke-linejoin:round; stroke-width:4; stroke-opacity:1; fill:none\" points=\"184.191,1274.58 203.088,1274.58 \"/>\n",
       "<polyline clip-path=\"url(#clip450)\" style=\"stroke:#000000; stroke-linecap:round; stroke-linejoin:round; stroke-width:4; stroke-opacity:1; fill:none\" points=\"184.191,989.361 203.088,989.361 \"/>\n",
       "<polyline clip-path=\"url(#clip450)\" style=\"stroke:#000000; stroke-linecap:round; stroke-linejoin:round; stroke-width:4; stroke-opacity:1; fill:none\" points=\"184.191,704.139 203.088,704.139 \"/>\n",
       "<polyline clip-path=\"url(#clip450)\" style=\"stroke:#000000; stroke-linecap:round; stroke-linejoin:round; stroke-width:4; stroke-opacity:1; fill:none\" points=\"184.191,418.917 203.088,418.917 \"/>\n",
       "<polyline clip-path=\"url(#clip450)\" style=\"stroke:#000000; stroke-linecap:round; stroke-linejoin:round; stroke-width:4; stroke-opacity:1; fill:none\" points=\"184.191,133.695 203.088,133.695 \"/>\n",
       "<path clip-path=\"url(#clip450)\" d=\"M86.0382 1287.93 L102.358 1287.93 L102.358 1291.86 L80.4133 1291.86 L80.4133 1287.93 Q83.0753 1285.17 87.6586 1280.54 Q92.2651 1275.89 93.4456 1274.55 Q95.691 1272.02 96.5706 1270.29 Q97.4734 1268.53 97.4734 1266.84 Q97.4734 1264.08 95.5289 1262.35 Q93.6076 1260.61 90.5058 1260.61 Q88.3067 1260.61 85.8531 1261.38 Q83.4225 1262.14 80.6447 1263.69 L80.6447 1258.97 Q83.4688 1257.83 85.9225 1257.26 Q88.3762 1256.68 90.4132 1256.68 Q95.7836 1256.68 98.978 1259.36 Q102.172 1262.05 102.172 1266.54 Q102.172 1268.67 101.362 1270.59 Q100.575 1272.49 98.4687 1275.08 Q97.89 1275.75 94.7882 1278.97 Q91.6864 1282.16 86.0382 1287.93 Z\" fill=\"#000000\" fill-rule=\"evenodd\" fill-opacity=\"1\" /><path clip-path=\"url(#clip450)\" d=\"M112.172 1285.98 L117.057 1285.98 L117.057 1291.86 L112.172 1291.86 L112.172 1285.98 Z\" fill=\"#000000\" fill-rule=\"evenodd\" fill-opacity=\"1\" /><path clip-path=\"url(#clip450)\" d=\"M127.288 1257.3 L145.644 1257.3 L145.644 1261.24 L131.57 1261.24 L131.57 1269.71 Q132.589 1269.36 133.607 1269.2 Q134.626 1269.02 135.644 1269.02 Q141.431 1269.02 144.811 1272.19 Q148.191 1275.36 148.191 1280.77 Q148.191 1286.35 144.718 1289.46 Q141.246 1292.53 134.927 1292.53 Q132.751 1292.53 130.482 1292.16 Q128.237 1291.79 125.83 1291.05 L125.83 1286.35 Q127.913 1287.49 130.135 1288.04 Q132.357 1288.6 134.834 1288.6 Q138.839 1288.6 141.177 1286.49 Q143.515 1284.39 143.515 1280.77 Q143.515 1277.16 141.177 1275.06 Q138.839 1272.95 134.834 1272.95 Q132.959 1272.95 131.084 1273.37 Q129.232 1273.78 127.288 1274.66 L127.288 1257.3 Z\" fill=\"#000000\" fill-rule=\"evenodd\" fill-opacity=\"1\" /><path clip-path=\"url(#clip450)\" d=\"M81.0614 972.081 L99.4178 972.081 L99.4178 976.016 L85.3438 976.016 L85.3438 984.488 Q86.3623 984.141 87.3808 983.979 Q88.3993 983.794 89.4178 983.794 Q95.2049 983.794 98.5845 986.965 Q101.964 990.136 101.964 995.553 Q101.964 1001.13 98.4919 1004.23 Q95.0197 1007.31 88.7003 1007.31 Q86.5243 1007.31 84.2558 1006.94 Q82.0105 1006.57 79.6031 1005.83 L79.6031 1001.13 Q81.6864 1002.27 83.9086 1002.82 Q86.1308 1003.38 88.6077 1003.38 Q92.6123 1003.38 94.9502 1001.27 Q97.2882 999.164 97.2882 995.553 Q97.2882 991.942 94.9502 989.835 Q92.6123 987.729 88.6077 987.729 Q86.7327 987.729 84.8577 988.145 Q83.0058 988.562 81.0614 989.442 L81.0614 972.081 Z\" fill=\"#000000\" fill-rule=\"evenodd\" fill-opacity=\"1\" /><path clip-path=\"url(#clip450)\" d=\"M111.177 1000.76 L116.061 1000.76 L116.061 1006.64 L111.177 1006.64 L111.177 1000.76 Z\" fill=\"#000000\" fill-rule=\"evenodd\" fill-opacity=\"1\" /><path clip-path=\"url(#clip450)\" d=\"M136.246 975.159 Q132.635 975.159 130.807 978.724 Q129.001 982.266 129.001 989.395 Q129.001 996.502 130.807 1000.07 Q132.635 1003.61 136.246 1003.61 Q139.881 1003.61 141.686 1000.07 Q143.515 996.502 143.515 989.395 Q143.515 982.266 141.686 978.724 Q139.881 975.159 136.246 975.159 M136.246 971.456 Q142.056 971.456 145.112 976.062 Q148.191 980.645 148.191 989.395 Q148.191 998.122 145.112 1002.73 Q142.056 1007.31 136.246 1007.31 Q130.436 1007.31 127.357 1002.73 Q124.302 998.122 124.302 989.395 Q124.302 980.645 127.357 976.062 Q130.436 971.456 136.246 971.456 Z\" fill=\"#000000\" fill-rule=\"evenodd\" fill-opacity=\"1\" /><path clip-path=\"url(#clip450)\" d=\"M80.8299 686.859 L103.052 686.859 L103.052 688.849 L90.5058 721.419 L85.6216 721.419 L97.4271 690.794 L80.8299 690.794 L80.8299 686.859 Z\" fill=\"#000000\" fill-rule=\"evenodd\" fill-opacity=\"1\" /><path clip-path=\"url(#clip450)\" d=\"M112.172 715.539 L117.057 715.539 L117.057 721.419 L112.172 721.419 L112.172 715.539 Z\" fill=\"#000000\" fill-rule=\"evenodd\" fill-opacity=\"1\" /><path clip-path=\"url(#clip450)\" d=\"M127.288 686.859 L145.644 686.859 L145.644 690.794 L131.57 690.794 L131.57 699.266 Q132.589 698.919 133.607 698.757 Q134.626 698.572 135.644 698.572 Q141.431 698.572 144.811 701.743 Q148.191 704.914 148.191 710.331 Q148.191 715.909 144.718 719.011 Q141.246 722.09 134.927 722.09 Q132.751 722.09 130.482 721.72 Q128.237 721.349 125.83 720.609 L125.83 715.909 Q127.913 717.044 130.135 717.599 Q132.357 718.155 134.834 718.155 Q138.839 718.155 141.177 716.048 Q143.515 713.942 143.515 710.331 Q143.515 706.72 141.177 704.613 Q138.839 702.507 134.834 702.507 Q132.959 702.507 131.084 702.923 Q129.232 703.34 127.288 704.22 L127.288 686.859 Z\" fill=\"#000000\" fill-rule=\"evenodd\" fill-opacity=\"1\" /><path clip-path=\"url(#clip450)\" d=\"M51.6634 432.262 L59.3023 432.262 L59.3023 405.896 L50.9921 407.563 L50.9921 403.303 L59.256 401.637 L63.9319 401.637 L63.9319 432.262 L71.5707 432.262 L71.5707 436.197 L51.6634 436.197 L51.6634 432.262 Z\" fill=\"#000000\" fill-rule=\"evenodd\" fill-opacity=\"1\" /><path clip-path=\"url(#clip450)\" d=\"M91.0151 404.715 Q87.404 404.715 85.5753 408.28 Q83.7697 411.822 83.7697 418.951 Q83.7697 426.058 85.5753 429.623 Q87.404 433.164 91.0151 433.164 Q94.6493 433.164 96.4548 429.623 Q98.2835 426.058 98.2835 418.951 Q98.2835 411.822 96.4548 408.28 Q94.6493 404.715 91.0151 404.715 M91.0151 401.012 Q96.8252 401.012 99.8808 405.618 Q102.959 410.202 102.959 418.951 Q102.959 427.678 99.8808 432.285 Q96.8252 436.868 91.0151 436.868 Q85.2049 436.868 82.1262 432.285 Q79.0707 427.678 79.0707 418.951 Q79.0707 410.202 82.1262 405.618 Q85.2049 401.012 91.0151 401.012 Z\" fill=\"#000000\" fill-rule=\"evenodd\" fill-opacity=\"1\" /><path clip-path=\"url(#clip450)\" d=\"M111.177 430.317 L116.061 430.317 L116.061 436.197 L111.177 436.197 L111.177 430.317 Z\" fill=\"#000000\" fill-rule=\"evenodd\" fill-opacity=\"1\" /><path clip-path=\"url(#clip450)\" d=\"M136.246 404.715 Q132.635 404.715 130.807 408.28 Q129.001 411.822 129.001 418.951 Q129.001 426.058 130.807 429.623 Q132.635 433.164 136.246 433.164 Q139.881 433.164 141.686 429.623 Q143.515 426.058 143.515 418.951 Q143.515 411.822 141.686 408.28 Q139.881 404.715 136.246 404.715 M136.246 401.012 Q142.056 401.012 145.112 405.618 Q148.191 410.202 148.191 418.951 Q148.191 427.678 145.112 432.285 Q142.056 436.868 136.246 436.868 Q130.436 436.868 127.357 432.285 Q124.302 427.678 124.302 418.951 Q124.302 410.202 127.357 405.618 Q130.436 401.012 136.246 401.012 Z\" fill=\"#000000\" fill-rule=\"evenodd\" fill-opacity=\"1\" /><path clip-path=\"url(#clip450)\" d=\"M52.6588 147.04 L60.2976 147.04 L60.2976 120.674 L51.9875 122.341 L51.9875 118.082 L60.2513 116.415 L64.9272 116.415 L64.9272 147.04 L72.5661 147.04 L72.5661 150.975 L52.6588 150.975 L52.6588 147.04 Z\" fill=\"#000000\" fill-rule=\"evenodd\" fill-opacity=\"1\" /><path clip-path=\"url(#clip450)\" d=\"M86.0382 147.04 L102.358 147.04 L102.358 150.975 L80.4133 150.975 L80.4133 147.04 Q83.0753 144.285 87.6586 139.655 Q92.2651 135.003 93.4456 133.66 Q95.691 131.137 96.5706 129.401 Q97.4734 127.642 97.4734 125.952 Q97.4734 123.197 95.5289 121.461 Q93.6076 119.725 90.5058 119.725 Q88.3067 119.725 85.8531 120.489 Q83.4225 121.253 80.6447 122.804 L80.6447 118.082 Q83.4688 116.947 85.9225 116.369 Q88.3762 115.79 90.4132 115.79 Q95.7836 115.79 98.978 118.475 Q102.172 121.16 102.172 125.651 Q102.172 127.781 101.362 129.702 Q100.575 131.6 98.4687 134.193 Q97.89 134.864 94.7882 138.081 Q91.6864 141.276 86.0382 147.04 Z\" fill=\"#000000\" fill-rule=\"evenodd\" fill-opacity=\"1\" /><path clip-path=\"url(#clip450)\" d=\"M112.172 145.095 L117.057 145.095 L117.057 150.975 L112.172 150.975 L112.172 145.095 Z\" fill=\"#000000\" fill-rule=\"evenodd\" fill-opacity=\"1\" /><path clip-path=\"url(#clip450)\" d=\"M127.288 116.415 L145.644 116.415 L145.644 120.35 L131.57 120.35 L131.57 128.822 Q132.589 128.475 133.607 128.313 Q134.626 128.128 135.644 128.128 Q141.431 128.128 144.811 131.299 Q148.191 134.47 148.191 139.887 Q148.191 145.466 144.718 148.567 Q141.246 151.646 134.927 151.646 Q132.751 151.646 130.482 151.276 Q128.237 150.905 125.83 150.165 L125.83 145.466 Q127.913 146.6 130.135 147.155 Q132.357 147.711 134.834 147.711 Q138.839 147.711 141.177 145.605 Q143.515 143.498 143.515 139.887 Q143.515 136.276 141.177 134.169 Q138.839 132.063 134.834 132.063 Q132.959 132.063 131.084 132.48 Q129.232 132.896 127.288 133.776 L127.288 116.415 Z\" fill=\"#000000\" fill-rule=\"evenodd\" fill-opacity=\"1\" /><polyline clip-path=\"url(#clip452)\" style=\"stroke:#009af9; stroke-linecap:round; stroke-linejoin:round; stroke-width:4; stroke-opacity:1; fill:none\" points=\"245.565,1445.72 248.895,1445.72 252.225,1445.72 255.555,1445.72 258.885,1445.72 274.279,1445.72 289.674,1444.08 305.068,1436.81 320.463,1429.36 351.252,1413.91 382.041,1397.7 419.048,1377.1 456.054,1355.16 487.342,1335.48 518.63,1314.65 552.618,1290.61 586.605,1264.95 617.939,1239.74 649.273,1212.88 682.866,1182.07 716.459,1148.99 735.919,1128.69 755.38,1107.5 774.84,1085.35 794.3,1062.21 811.595,1040.75 828.889,1018.4 846.183,995.125 863.477,970.86 878.642,948.728 893.808,925.758 908.973,901.91 924.138,877.14 940.673,849.031 957.207,819.71 973.741,789.112 990.276,757.166 1006.91,723.596 1023.54,688.508 1040.17,651.816 1056.81,613.429 1075.2,568.9 1093.58,522.043 1111.97,472.711 1130.36,420.744 1147.86,368.698 1165.36,313.955 1174.11,285.521 1182.86,256.349 1187.23,241.479 1191.6,226.416 1195.98,211.157 1200.35,195.699 1209.45,162.904 1218.55,129.205 1220.82,120.636 1223.09,112.009 1224.23,107.673 1225.37,103.322 1226.5,98.9563 1227.64,94.5755 1228.21,92.3796 1228.78,90.1798 1229.35,87.9763 \"/>\n",
       "<path clip-path=\"url(#clip450)\" d=\"M256.476 198.898 L525.763 198.898 L525.763 95.2176 L256.476 95.2176  Z\" fill=\"#ffffff\" fill-rule=\"evenodd\" fill-opacity=\"1\"/>\n",
       "<polyline clip-path=\"url(#clip450)\" style=\"stroke:#000000; stroke-linecap:round; stroke-linejoin:round; stroke-width:4; stroke-opacity:1; fill:none\" points=\"256.476,198.898 525.763,198.898 525.763,95.2176 256.476,95.2176 256.476,198.898 \"/>\n",
       "<polyline clip-path=\"url(#clip450)\" style=\"stroke:#009af9; stroke-linecap:round; stroke-linejoin:round; stroke-width:4; stroke-opacity:1; fill:none\" points=\"280.571,147.058 425.142,147.058 \"/>\n",
       "<path clip-path=\"url(#clip450)\" d=\"M463.08 166.745 Q461.275 171.375 459.562 172.787 Q457.849 174.199 454.978 174.199 L451.575 174.199 L451.575 170.634 L454.075 170.634 Q455.835 170.634 456.807 169.8 Q457.779 168.967 458.96 165.865 L459.724 163.921 L449.238 138.412 L453.751 138.412 L461.853 158.689 L469.955 138.412 L474.469 138.412 L463.08 166.745 Z\" fill=\"#000000\" fill-rule=\"evenodd\" fill-opacity=\"1\" /><path clip-path=\"url(#clip450)\" d=\"M481.761 160.402 L489.399 160.402 L489.399 134.037 L481.089 135.703 L481.089 131.444 L489.353 129.778 L494.029 129.778 L494.029 160.402 L501.668 160.402 L501.668 164.338 L481.761 164.338 L481.761 160.402 Z\" fill=\"#000000\" fill-rule=\"evenodd\" fill-opacity=\"1\" /></svg>\n"
      ]
     },
     "execution_count": 13,
     "metadata": {},
     "output_type": "execute_result"
    }
   ],
   "source": [
    "plot(x -> type(x,r,G,alpha,K,R),r,K)"
   ]
  },
  {
   "cell_type": "markdown",
   "id": "a8330038-a188-4089-9169-8c7109f7d13f",
   "metadata": {},
   "source": [
    "We next need to worry about a potential mass point at $\\frac{K}{2}$  This won't exist here because all of our proposer types know that is a dominated strategy.  For example"
   ]
  },
  {
   "cell_type": "code",
   "execution_count": 14,
   "id": "43d7d018-df4c-41ed-b67f-8352b47fd572",
   "metadata": {},
   "outputs": [
    {
     "data": {
      "text/plain": [
       "0.0"
      ]
     },
     "execution_count": 14,
     "metadata": {},
     "output_type": "execute_result"
    }
   ],
   "source": [
    "at_one = 1- cdf(G,type(K/2,r,G,alpha,K,R))\n",
    "#should be zero because there are no types high enough to do this."
   ]
  },
  {
   "cell_type": "markdown",
   "id": "3759e971-21bb-4471-bc6b-e5d5217e70c1",
   "metadata": {},
   "source": [
    "At the other extreme, there is potentially a mass point at the reserve value.  Again this is easy. Check the type who offers $r$ then find the cdf.  That will be the mass of types you want.  With the parameters we are using for this demonstration, there are no such types because the lowest type in the support of our truncated disribution wants to offer more."
   ]
  },
  {
   "cell_type": "code",
   "execution_count": 15,
   "id": "e51315e2-003b-4d4a-bfc1-50e4b8ecd102",
   "metadata": {},
   "outputs": [
    {
     "data": {
      "text/plain": [
       "at_r (generic function with 1 method)"
      ]
     },
     "execution_count": 15,
     "metadata": {},
     "output_type": "execute_result"
    }
   ],
   "source": [
    "function at_r(r,G,alpha,K,R)\n",
    "    return max(cdf(G,type(r,r,G,alpha,K,R)),0)\n",
    "end"
   ]
  },
  {
   "cell_type": "code",
   "execution_count": 16,
   "id": "d3321d7e-ddf0-4d74-a301-723c6b404b6a",
   "metadata": {},
   "outputs": [
    {
     "data": {
      "text/plain": [
       "0.0"
      ]
     },
     "execution_count": 16,
     "metadata": {},
     "output_type": "execute_result"
    }
   ],
   "source": [
    "at_r(r,G,alpha,K,R)"
   ]
  },
  {
   "cell_type": "markdown",
   "id": "75991e15-32c9-4174-85c9-9f08513d50bb",
   "metadata": {},
   "source": [
    "A data check."
   ]
  },
  {
   "cell_type": "code",
   "execution_count": 17,
   "id": "654db2a5-ad86-4608-983b-51a5e406a7b9",
   "metadata": {},
   "outputs": [
    {
     "name": "stdout",
     "output_type": "stream",
     "text": [
      "Data Good\n"
     ]
    }
   ],
   "source": [
    "if length(responses) != length(offers)\n",
    "    println(\"A data error - there are a different number of proposers and responders.  Possibly some responder rejected all offers, but more likely something wrong\")\n",
    "else\n",
    "    println(\"Data Good\")\n",
    "end   "
   ]
  },
  {
   "cell_type": "code",
   "execution_count": 21,
   "id": "c58d1ef9-f8bd-4c58-ba75-5c34112e9ce4",
   "metadata": {},
   "outputs": [
    {
     "data": {
      "text/plain": [
       "likelihood (generic function with 1 method)"
      ]
     },
     "execution_count": 21,
     "metadata": {},
     "output_type": "execute_result"
    }
   ],
   "source": [
    "function likelihood(params, offers, responses,K,R)\n",
    "    G = TruncatedNormal(params[1],params[2],1, Inf)\n",
    "    l = 0\n",
    "    for o in offers\n",
    "        if o <= params[3]\n",
    "            v = at_r(params[3],G,params[4],K,R)\n",
    "            if v > 0\n",
    "                l += log(v)\n",
    "            else \n",
    "                l += log(.01)\n",
    "            end\n",
    "        else\n",
    "            v = pdf(G,type(o,params[3],G,params[4],K,R))\n",
    "            if v > 0\n",
    "                l += log(v)\n",
    "            else\n",
    "                l += log(.01)\n",
    "            end\n",
    "        end\n",
    "    end\n",
    "    for k in responses\n",
    "        l += log(1 - cdf(G, (params[3]-k+K/2)/params[3])+.01)\n",
    "    end\n",
    "    return -l\n",
    "end\n",
    "            \n",
    "    "
   ]
  },
  {
   "cell_type": "code",
   "execution_count": 22,
   "id": "9baa64ab-c924-48ae-b34b-2a8bd25c4d1c",
   "metadata": {},
   "outputs": [
    {
     "data": {
      "text/plain": [
       "236.63414289704372"
      ]
     },
     "execution_count": 22,
     "metadata": {},
     "output_type": "execute_result"
    }
   ],
   "source": [
    "likelihood(params, offers,responses,K,R)"
   ]
  },
  {
   "cell_type": "code",
   "execution_count": 42,
   "id": "2898816b-895a-40ce-91a1-6b815d292d04",
   "metadata": {},
   "outputs": [
    {
     "data": {
      "text/plain": [
       "4-element Vector{Float64}:\n",
       " 20.0\n",
       " 10.0\n",
       "  2.0\n",
       "  0.1"
      ]
     },
     "execution_count": 42,
     "metadata": {},
     "output_type": "execute_result"
    }
   ],
   "source": [
    "lower = [5,5,1.5,0]\n",
    "upper = [Inf, Inf,2.5,5]\n",
    "initial = [mu,sigma,2,.1]"
   ]
  },
  {
   "cell_type": "code",
   "execution_count": 43,
   "id": "913908eb-944d-4b4a-95f8-61728bd404de",
   "metadata": {},
   "outputs": [
    {
     "data": {
      "text/plain": [
       " * Status: success\n",
       "\n",
       " * Candidate solution\n",
       "    Final objective value:     1.813065e+02\n",
       "\n",
       " * Found with\n",
       "    Algorithm:     Fminbox with L-BFGS\n",
       "\n",
       " * Convergence measures\n",
       "    |x - x'|               = 6.30e-06 ≰ 0.0e+00\n",
       "    |x - x'|/|x'|          = 7.00e-07 ≰ 0.0e+00\n",
       "    |f(x) - f(x')|         = 0.00e+00 ≤ 0.0e+00\n",
       "    |f(x) - f(x')|/|f(x')| = 0.00e+00 ≤ 0.0e+00\n",
       "    |g(x)|                 = 5.30e-09 ≤ 1.0e-08\n",
       "\n",
       " * Work counters\n",
       "    Seconds run:   0  (vs limit Inf)\n",
       "    Iterations:    3\n",
       "    f(x) calls:    302\n",
       "    ∇f(x) calls:   302\n"
      ]
     },
     "execution_count": 43,
     "metadata": {},
     "output_type": "execute_result"
    }
   ],
   "source": [
    "res = optimize(params -> likelihood(params, offers, responses,K,R), lower, upper, initial, Fminbox())"
   ]
  },
  {
   "cell_type": "code",
   "execution_count": 44,
   "id": "ac107203-1017-4b4b-a814-f82c198a9ad4",
   "metadata": {},
   "outputs": [
    {
     "data": {
      "text/plain": [
       "4-element Vector{Float64}:\n",
       " 5.000000005302506\n",
       " 6.5083922645353836\n",
       " 2.4999999995868305\n",
       " 2.715603882235478"
      ]
     },
     "execution_count": 44,
     "metadata": {},
     "output_type": "execute_result"
    }
   ],
   "source": [
    "result = Optim.minimizer(res)"
   ]
  },
  {
   "cell_type": "code",
   "execution_count": 45,
   "id": "3477b047-e8f4-406a-a64a-b807d1359dff",
   "metadata": {},
   "outputs": [
    {
     "data": {
      "text/plain": [
       "181.30653270277654"
      ]
     },
     "execution_count": 45,
     "metadata": {},
     "output_type": "execute_result"
    }
   ],
   "source": [
    "likelihood(result, offers,responses,K,R)"
   ]
  }
 ],
 "metadata": {
  "kernelspec": {
   "display_name": "Julia 1.7.3",
   "language": "julia",
   "name": "julia-1.7"
  },
  "language_info": {
   "file_extension": ".jl",
   "mimetype": "application/julia",
   "name": "julia",
   "version": "1.7.3"
  }
 },
 "nbformat": 4,
 "nbformat_minor": 5
}
