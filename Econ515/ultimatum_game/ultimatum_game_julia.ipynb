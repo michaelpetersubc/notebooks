{
 "cells": [
  {
   "cell_type": "code",
   "execution_count": 14,
   "id": "3593ded8-761f-4fc3-9762-bfefc1703c6d",
   "metadata": {},
   "outputs": [],
   "source": [
    "#using Pkg\n",
    "#Pkg.add(\"Chain\")\n",
    "#Pkg.add(\"DataFrames\")\n",
    "#Pkg.add(\"CSV\")\n",
    "#Pkg.add(\"Statistics\")\n",
    "using DataFrames, CSV, Statistics, Chain\n",
    "using Distributions,Optim, Plots\n",
    "dataset = CSV.read(\"datamerged2.csv\", DataFrame);"
   ]
  },
  {
   "cell_type": "markdown",
   "id": "f39be8e6-dcc0-4be9-8191-0580a3e6558f",
   "metadata": {},
   "source": [
    "# The Estimation Plan\n",
    "\n",
    "Collect the data from all the offers in treatment 1 (no lower bounde on offers).  Use only the data from round 2, where all the players are supposed to be experienced.  Convert multiple offers from each principle into a single offer by taking their average. Convert all of the responses from the same responder and find the lowest offer they accepted.  (This ignores cases where a reponder rejected a particular offer, then later accepted a lower one).  Convert this into a pair of vectors to be fed as data to a likelihood function.\n",
    "\n",
    "Use a truncated normal distribution with a lower truncation point at 1, with no upper truncation point to represent the distribution of loss aversion parameters.  We'll try to estimate its mean and variance.\n",
    "\n",
    "Construct the likelihood function and code it.\n",
    "\n",
    "Use the optim solver to minimize the negative of the log of the likelihood function to estimate the mean and variance of the distribution, the reservation value $r$, and the spitefulness parameter $\\alpha$."
   ]
  },
  {
   "cell_type": "code",
   "execution_count": 15,
   "id": "1ff16af6-7b29-4cc4-bbb4-76c61a093ccc",
   "metadata": {},
   "outputs": [
    {
     "data": {
      "text/html": [
       "<div><div style = \"float: left;\"><span>9×7 DataFrame</span></div><div style = \"clear: both;\"></div></div><div class = \"data-frame\" style = \"overflow-x: scroll;\"><table class = \"data-frame\" style = \"margin-bottom: 6px;\"><thead><tr class = \"header\"><th class = \"rowNumber\" style = \"font-weight: bold; text-align: right;\">Row</th><th style = \"text-align: left;\">variable</th><th style = \"text-align: left;\">mean</th><th style = \"text-align: left;\">min</th><th style = \"text-align: left;\">median</th><th style = \"text-align: left;\">max</th><th style = \"text-align: left;\">nmissing</th><th style = \"text-align: left;\">eltype</th></tr><tr class = \"subheader headerLastRow\"><th class = \"rowNumber\" style = \"font-weight: bold; text-align: right;\"></th><th title = \"Symbol\" style = \"text-align: left;\">Symbol</th><th title = \"Float64\" style = \"text-align: left;\">Float64</th><th title = \"Real\" style = \"text-align: left;\">Real</th><th title = \"Float64\" style = \"text-align: left;\">Float64</th><th title = \"Real\" style = \"text-align: left;\">Real</th><th title = \"Int64\" style = \"text-align: left;\">Int64</th><th title = \"DataType\" style = \"text-align: left;\">DataType</th></tr></thead><tbody><tr><td class = \"rowNumber\" style = \"font-weight: bold; text-align: right;\">1</td><td style = \"text-align: left;\">id</td><td style = \"text-align: right;\">136.852</td><td style = \"text-align: right;\">1</td><td style = \"text-align: right;\">133.0</td><td style = \"text-align: right;\">276</td><td style = \"text-align: right;\">0</td><td style = \"text-align: left;\">Int64</td></tr><tr><td class = \"rowNumber\" style = \"font-weight: bold; text-align: right;\">2</td><td style = \"text-align: left;\">treatment</td><td style = \"text-align: right;\">2.42475</td><td style = \"text-align: right;\">1</td><td style = \"text-align: right;\">3.0</td><td style = \"text-align: right;\">4</td><td style = \"text-align: right;\">0</td><td style = \"text-align: left;\">Int64</td></tr><tr><td class = \"rowNumber\" style = \"font-weight: bold; text-align: right;\">3</td><td style = \"text-align: left;\">tofrom</td><td style = \"text-align: right;\">144.308</td><td style = \"text-align: right;\">6</td><td style = \"text-align: right;\">145.0</td><td style = \"text-align: right;\">288</td><td style = \"text-align: right;\">0</td><td style = \"text-align: left;\">Int64</td></tr><tr><td class = \"rowNumber\" style = \"font-weight: bold; text-align: right;\">4</td><td style = \"text-align: left;\">value</td><td style = \"text-align: right;\">18.7922</td><td style = \"text-align: right;\">0.0</td><td style = \"text-align: right;\">20.0</td><td style = \"text-align: right;\">49.0</td><td style = \"text-align: right;\">0</td><td style = \"text-align: left;\">Float64</td></tr><tr><td class = \"rowNumber\" style = \"font-weight: bold; text-align: right;\">5</td><td style = \"text-align: left;\">role</td><td style = \"text-align: right;\">0.0</td><td style = \"text-align: right;\">0</td><td style = \"text-align: right;\">0.0</td><td style = \"text-align: right;\">0</td><td style = \"text-align: right;\">0</td><td style = \"text-align: left;\">Int64</td></tr><tr><td class = \"rowNumber\" style = \"font-weight: bold; text-align: right;\">6</td><td style = \"text-align: left;\">resp</td><td style = \"text-align: right;\">0.81462</td><td style = \"text-align: right;\">0</td><td style = \"text-align: right;\">1.0</td><td style = \"text-align: right;\">1</td><td style = \"text-align: right;\">0</td><td style = \"text-align: left;\">Int64</td></tr><tr><td class = \"rowNumber\" style = \"font-weight: bold; text-align: right;\">7</td><td style = \"text-align: left;\">round</td><td style = \"text-align: right;\">1.60774</td><td style = \"text-align: right;\">1</td><td style = \"text-align: right;\">2.0</td><td style = \"text-align: right;\">3</td><td style = \"text-align: right;\">0</td><td style = \"text-align: left;\">Int64</td></tr><tr><td class = \"rowNumber\" style = \"font-weight: bold; text-align: right;\">8</td><td style = \"text-align: left;\">rounds</td><td style = \"text-align: right;\">2.215</td><td style = \"text-align: right;\">2</td><td style = \"text-align: right;\">2.0</td><td style = \"text-align: right;\">3</td><td style = \"text-align: right;\">0</td><td style = \"text-align: left;\">Int64</td></tr><tr><td class = \"rowNumber\" style = \"font-weight: bold; text-align: right;\">9</td><td style = \"text-align: left;\">old</td><td style = \"text-align: right;\">0.701386</td><td style = \"text-align: right;\">0</td><td style = \"text-align: right;\">1.0</td><td style = \"text-align: right;\">2</td><td style = \"text-align: right;\">0</td><td style = \"text-align: left;\">Int64</td></tr></tbody></table></div>"
      ],
      "text/latex": [
       "\\begin{tabular}{r|ccccccc}\n",
       "\t& variable & mean & min & median & max & nmissing & eltype\\\\\n",
       "\t\\hline\n",
       "\t& Symbol & Float64 & Real & Float64 & Real & Int64 & DataType\\\\\n",
       "\t\\hline\n",
       "\t1 & id & 136.852 & 1 & 133.0 & 276 & 0 & Int64 \\\\\n",
       "\t2 & treatment & 2.42475 & 1 & 3.0 & 4 & 0 & Int64 \\\\\n",
       "\t3 & tofrom & 144.308 & 6 & 145.0 & 288 & 0 & Int64 \\\\\n",
       "\t4 & value & 18.7922 & 0.0 & 20.0 & 49.0 & 0 & Float64 \\\\\n",
       "\t5 & role & 0.0 & 0 & 0.0 & 0 & 0 & Int64 \\\\\n",
       "\t6 & resp & 0.81462 & 0 & 1.0 & 1 & 0 & Int64 \\\\\n",
       "\t7 & round & 1.60774 & 1 & 2.0 & 3 & 0 & Int64 \\\\\n",
       "\t8 & rounds & 2.215 & 2 & 2.0 & 3 & 0 & Int64 \\\\\n",
       "\t9 & old & 0.701386 & 0 & 1.0 & 2 & 0 & Int64 \\\\\n",
       "\\end{tabular}\n"
      ],
      "text/plain": [
       "\u001b[1m9×7 DataFrame\u001b[0m\n",
       "\u001b[1m Row \u001b[0m│\u001b[1m variable  \u001b[0m\u001b[1m mean       \u001b[0m\u001b[1m min  \u001b[0m\u001b[1m median  \u001b[0m\u001b[1m max   \u001b[0m\u001b[1m nmissing \u001b[0m\u001b[1m eltype   \u001b[0m\n",
       "     │\u001b[90m Symbol    \u001b[0m\u001b[90m Float64    \u001b[0m\u001b[90m Real \u001b[0m\u001b[90m Float64 \u001b[0m\u001b[90m Real  \u001b[0m\u001b[90m Int64    \u001b[0m\u001b[90m DataType \u001b[0m\n",
       "─────┼─────────────────────────────────────────────────────────────────\n",
       "   1 │ id         136.852      1      133.0  276           0  Int64\n",
       "   2 │ treatment    2.42475    1        3.0    4           0  Int64\n",
       "   3 │ tofrom     144.308      6      145.0  288           0  Int64\n",
       "   4 │ value       18.7922     0.0     20.0   49.0         0  Float64\n",
       "   5 │ role         0.0        0        0.0    0           0  Int64\n",
       "   6 │ resp         0.81462    0        1.0    1           0  Int64\n",
       "   7 │ round        1.60774    1        2.0    3           0  Int64\n",
       "   8 │ rounds       2.215      2        2.0    3           0  Int64\n",
       "   9 │ old          0.701386   0        1.0    2           0  Int64"
      ]
     },
     "execution_count": 15,
     "metadata": {},
     "output_type": "execute_result"
    }
   ],
   "source": [
    "describe(dataset)  ## summarize the dataset"
   ]
  },
  {
   "cell_type": "code",
   "execution_count": 16,
   "id": "bb4e8093-3f85-4c46-ab80-b657b4e627b8",
   "metadata": {},
   "outputs": [],
   "source": [
    "#filter the dataframe to find all the rows associated with treatment 1 round2\n",
    "# group these rows by theh proposer id\n",
    "# combine the grouped rows then take the mean offer in each row\n",
    "## this leaves 55 observations (that is, 55 different proposers)\n",
    "## the chain package above is used to convert tows of a dataframe into a vector (probably there are better ways to do this)\n",
    "r0 = filter( row -> row.round == 2 && row.treatment ==1, dataset);\n",
    "subset = groupby(r0, :id);\n",
    "offs = combine(subset, :value => mean);\n",
    "offers = @chain offs begin\n",
    "    _.value_mean\n",
    "end;"
   ]
  },
  {
   "cell_type": "code",
   "execution_count": 17,
   "id": "0f32d29e-7556-4d3c-8fd7-63ba409f7cda",
   "metadata": {},
   "outputs": [],
   "source": [
    "# repeat the operation abouve by filter out all the rejects, group by tofrom (thatis, the responders), group them then apply the minimum operation across each group\n",
    "r1 = filter( row -> row.resp == 1, r0);\n",
    "r = groupby(r1, :tofrom);\n",
    "resp = combine(r, :value => minimum);\n",
    "responses = @chain resp begin\n",
    "   _.value_minimum\n",
    "end;"
   ]
  },
  {
   "cell_type": "markdown",
   "id": "88220f69-6a60-4c56-bc33-7d81773e1fff",
   "metadata": {},
   "source": [
    "# The likelihood function\n",
    "Let $s_i$ be the 'offer' made by proposer $i$, and $\\underline{s}_j$ the lowest offer accepted by responder $j$.  Then define\n",
    "$\\mathcal{L}(G,r,\\alpha)$ to be equal to \n",
    "$$\n",
    "\\prod_i \\biggl\\{ G^\\prime(\\frac{2Q(s_i)(1+2\\alpha)}{Q^\\prime(s_i)} - 2(1-s_i(1+2\\alpha)) + 1)\\biggr\\} \\times \\prod_j\\biggl\\{1 - G\\left(\\frac{r-\\underline{s}_j+\\frac{1}{2}}{r}\\right)\\biggr\\}\n",
    "$$\n",
    "\n",
    "In this expression \n",
    "$$\n",
    "1-G(\\frac{r-s+\\frac{1}{2}}{r}) = Q(s)\n",
    "$$\n",
    "whenever $s \\ge r$ while\n",
    "for $s<r$  \n",
    "$$\n",
    "Q(s) = 1-G(\\frac{1}{2s}).\n",
    "$$"
   ]
  },
  {
   "cell_type": "markdown",
   "id": "83a379c2-7f7e-4522-b028-7080b3caa888",
   "metadata": {},
   "source": [
    "To estimate the distribution of loss aversion parameters we'll use a parametric distribution function.  Specificall, the truncated normal distribution.  This comes from the `Distributions` library loaded above.  The lower truncation point is 1 as the loss aversion type has a lower bound at 1.  There is no reason to impose any upper limit at this point so we use `Inf`. If you'd like to look at the distribution, uncomment the plot command after the definition."
   ]
  },
  {
   "cell_type": "code",
   "execution_count": 18,
   "id": "b6c0efc1-4fa9-4f4f-ac9f-6a5baf953395",
   "metadata": {},
   "outputs": [
    {
     "data": {
      "text/plain": [
       "Truncated(Normal{Float64}(μ=1.5, σ=2.0); lower=1.0)"
      ]
     },
     "execution_count": 18,
     "metadata": {},
     "output_type": "execute_result"
    }
   ],
   "source": [
    "G = TruncatedNormal(1.5, 2,1, Inf)\n",
    "#plot(x -> pdf(G,x),1,10)"
   ]
  },
  {
   "cell_type": "markdown",
   "id": "e1263e0b-c469-4c41-a8f7-cc2b7044e97a",
   "metadata": {},
   "source": [
    "The next functions give the probability of acceptance and its derivative.  The distribution functions depend on paramenters, so they are passed as arguments.  Make sure your functions assign values for all input arguments to prevent the likelihood compuation from looking out of bounds.  Especially, watch for zeros in denominators.\n"
   ]
  },
  {
   "cell_type": "code",
   "execution_count": 19,
   "id": "5e356ca8-123a-4f0e-aeea-0d48ded23972",
   "metadata": {},
   "outputs": [
    {
     "data": {
      "image/svg+xml": [
       "<?xml version=\"1.0\" encoding=\"utf-8\"?>\n",
       "<svg xmlns=\"http://www.w3.org/2000/svg\" xmlns:xlink=\"http://www.w3.org/1999/xlink\" width=\"600\" height=\"400\" viewBox=\"0 0 2400 1600\">\n",
       "<defs>\n",
       "  <clipPath id=\"clip130\">\n",
       "    <rect x=\"0\" y=\"0\" width=\"2400\" height=\"1600\"/>\n",
       "  </clipPath>\n",
       "</defs>\n",
       "<path clip-path=\"url(#clip130)\" d=\"\n",
       "M0 1600 L2400 1600 L2400 0 L0 0  Z\n",
       "  \" fill=\"#ffffff\" fill-rule=\"evenodd\" fill-opacity=\"1\"/>\n",
       "<defs>\n",
       "  <clipPath id=\"clip131\">\n",
       "    <rect x=\"480\" y=\"0\" width=\"1681\" height=\"1600\"/>\n",
       "  </clipPath>\n",
       "</defs>\n",
       "<path clip-path=\"url(#clip130)\" d=\"\n",
       "M186.274 1486.45 L2352.76 1486.45 L2352.76 47.2441 L186.274 47.2441  Z\n",
       "  \" fill=\"#ffffff\" fill-rule=\"evenodd\" fill-opacity=\"1\"/>\n",
       "<defs>\n",
       "  <clipPath id=\"clip132\">\n",
       "    <rect x=\"186\" y=\"47\" width=\"2167\" height=\"1440\"/>\n",
       "  </clipPath>\n",
       "</defs>\n",
       "<polyline clip-path=\"url(#clip132)\" style=\"stroke:#000000; stroke-linecap:round; stroke-linejoin:round; stroke-width:2; stroke-opacity:0.1; fill:none\" points=\"\n",
       "  247.59,1486.45 247.59,47.2441 \n",
       "  \"/>\n",
       "<polyline clip-path=\"url(#clip132)\" style=\"stroke:#000000; stroke-linecap:round; stroke-linejoin:round; stroke-width:2; stroke-opacity:0.1; fill:none\" points=\"\n",
       "  928.873,1486.45 928.873,47.2441 \n",
       "  \"/>\n",
       "<polyline clip-path=\"url(#clip132)\" style=\"stroke:#000000; stroke-linecap:round; stroke-linejoin:round; stroke-width:2; stroke-opacity:0.1; fill:none\" points=\"\n",
       "  1610.16,1486.45 1610.16,47.2441 \n",
       "  \"/>\n",
       "<polyline clip-path=\"url(#clip132)\" style=\"stroke:#000000; stroke-linecap:round; stroke-linejoin:round; stroke-width:2; stroke-opacity:0.1; fill:none\" points=\"\n",
       "  2291.44,1486.45 2291.44,47.2441 \n",
       "  \"/>\n",
       "<polyline clip-path=\"url(#clip130)\" style=\"stroke:#000000; stroke-linecap:round; stroke-linejoin:round; stroke-width:4; stroke-opacity:1; fill:none\" points=\"\n",
       "  186.274,1486.45 2352.76,1486.45 \n",
       "  \"/>\n",
       "<polyline clip-path=\"url(#clip130)\" style=\"stroke:#000000; stroke-linecap:round; stroke-linejoin:round; stroke-width:4; stroke-opacity:1; fill:none\" points=\"\n",
       "  247.59,1486.45 247.59,1467.55 \n",
       "  \"/>\n",
       "<polyline clip-path=\"url(#clip130)\" style=\"stroke:#000000; stroke-linecap:round; stroke-linejoin:round; stroke-width:4; stroke-opacity:1; fill:none\" points=\"\n",
       "  928.873,1486.45 928.873,1467.55 \n",
       "  \"/>\n",
       "<polyline clip-path=\"url(#clip130)\" style=\"stroke:#000000; stroke-linecap:round; stroke-linejoin:round; stroke-width:4; stroke-opacity:1; fill:none\" points=\"\n",
       "  1610.16,1486.45 1610.16,1467.55 \n",
       "  \"/>\n",
       "<polyline clip-path=\"url(#clip130)\" style=\"stroke:#000000; stroke-linecap:round; stroke-linejoin:round; stroke-width:4; stroke-opacity:1; fill:none\" points=\"\n",
       "  2291.44,1486.45 2291.44,1467.55 \n",
       "  \"/>\n",
       "<path clip-path=\"url(#clip130)\" d=\"M247.59 1517.37 Q243.978 1517.37 242.15 1520.93 Q240.344 1524.47 240.344 1531.6 Q240.344 1538.71 242.15 1542.27 Q243.978 1545.82 247.59 1545.82 Q251.224 1545.82 253.029 1542.27 Q254.858 1538.71 254.858 1531.6 Q254.858 1524.47 253.029 1520.93 Q251.224 1517.37 247.59 1517.37 M247.59 1513.66 Q253.4 1513.66 256.455 1518.27 Q259.534 1522.85 259.534 1531.6 Q259.534 1540.33 256.455 1544.94 Q253.4 1549.52 247.59 1549.52 Q241.779 1549.52 238.701 1544.94 Q235.645 1540.33 235.645 1531.6 Q235.645 1522.85 238.701 1518.27 Q241.779 1513.66 247.59 1513.66 Z\" fill=\"#000000\" fill-rule=\"evenodd\" fill-opacity=\"1\" /><path clip-path=\"url(#clip130)\" d=\"M903.561 1544.91 L911.2 1544.91 L911.2 1518.55 L902.889 1520.21 L902.889 1515.95 L911.153 1514.29 L915.829 1514.29 L915.829 1544.91 L923.468 1544.91 L923.468 1548.85 L903.561 1548.85 L903.561 1544.91 Z\" fill=\"#000000\" fill-rule=\"evenodd\" fill-opacity=\"1\" /><path clip-path=\"url(#clip130)\" d=\"M942.912 1517.37 Q939.301 1517.37 937.473 1520.93 Q935.667 1524.47 935.667 1531.6 Q935.667 1538.71 937.473 1542.27 Q939.301 1545.82 942.912 1545.82 Q946.547 1545.82 948.352 1542.27 Q950.181 1538.71 950.181 1531.6 Q950.181 1524.47 948.352 1520.93 Q946.547 1517.37 942.912 1517.37 M942.912 1513.66 Q948.723 1513.66 951.778 1518.27 Q954.857 1522.85 954.857 1531.6 Q954.857 1540.33 951.778 1544.94 Q948.723 1549.52 942.912 1549.52 Q937.102 1549.52 934.024 1544.94 Q930.968 1540.33 930.968 1531.6 Q930.968 1522.85 934.024 1518.27 Q937.102 1513.66 942.912 1513.66 Z\" fill=\"#000000\" fill-rule=\"evenodd\" fill-opacity=\"1\" /><path clip-path=\"url(#clip130)\" d=\"M1588.93 1544.91 L1605.25 1544.91 L1605.25 1548.85 L1583.31 1548.85 L1583.31 1544.91 Q1585.97 1542.16 1590.55 1537.53 Q1595.16 1532.88 1596.34 1531.53 Q1598.58 1529.01 1599.46 1527.27 Q1600.37 1525.51 1600.37 1523.82 Q1600.37 1521.07 1598.42 1519.33 Q1596.5 1517.6 1593.4 1517.6 Q1591.2 1517.6 1588.74 1518.36 Q1586.31 1519.13 1583.54 1520.68 L1583.54 1515.95 Q1586.36 1514.82 1588.81 1514.24 Q1591.27 1513.66 1593.31 1513.66 Q1598.68 1513.66 1601.87 1516.35 Q1605.06 1519.03 1605.06 1523.52 Q1605.06 1525.65 1604.25 1527.57 Q1603.47 1529.47 1601.36 1532.07 Q1600.78 1532.74 1597.68 1535.95 Q1594.58 1539.15 1588.93 1544.91 Z\" fill=\"#000000\" fill-rule=\"evenodd\" fill-opacity=\"1\" /><path clip-path=\"url(#clip130)\" d=\"M1625.06 1517.37 Q1621.45 1517.37 1619.62 1520.93 Q1617.82 1524.47 1617.82 1531.6 Q1617.82 1538.71 1619.62 1542.27 Q1621.45 1545.82 1625.06 1545.82 Q1628.7 1545.82 1630.5 1542.27 Q1632.33 1538.71 1632.33 1531.6 Q1632.33 1524.47 1630.5 1520.93 Q1628.7 1517.37 1625.06 1517.37 M1625.06 1513.66 Q1630.87 1513.66 1633.93 1518.27 Q1637.01 1522.85 1637.01 1531.6 Q1637.01 1540.33 1633.93 1544.94 Q1630.87 1549.52 1625.06 1549.52 Q1619.25 1549.52 1616.18 1544.94 Q1613.12 1540.33 1613.12 1531.6 Q1613.12 1522.85 1616.18 1518.27 Q1619.25 1513.66 1625.06 1513.66 Z\" fill=\"#000000\" fill-rule=\"evenodd\" fill-opacity=\"1\" /><path clip-path=\"url(#clip130)\" d=\"M2280.28 1530.21 Q2283.64 1530.93 2285.51 1533.2 Q2287.41 1535.47 2287.41 1538.8 Q2287.41 1543.92 2283.89 1546.72 Q2280.38 1549.52 2273.89 1549.52 Q2271.72 1549.52 2269.4 1549.08 Q2267.11 1548.66 2264.66 1547.81 L2264.66 1543.29 Q2266.6 1544.43 2268.92 1545.01 Q2271.23 1545.58 2273.76 1545.58 Q2278.15 1545.58 2280.45 1543.85 Q2282.76 1542.11 2282.76 1538.8 Q2282.76 1535.75 2280.61 1534.03 Q2278.48 1532.3 2274.66 1532.3 L2270.63 1532.3 L2270.63 1528.45 L2274.84 1528.45 Q2278.29 1528.45 2280.12 1527.09 Q2281.95 1525.7 2281.95 1523.11 Q2281.95 1520.45 2280.05 1519.03 Q2278.18 1517.6 2274.66 1517.6 Q2272.74 1517.6 2270.54 1518.01 Q2268.34 1518.43 2265.7 1519.31 L2265.7 1515.14 Q2268.36 1514.4 2270.68 1514.03 Q2273.01 1513.66 2275.07 1513.66 Q2280.4 1513.66 2283.5 1516.09 Q2286.6 1518.5 2286.6 1522.62 Q2286.6 1525.49 2284.96 1527.48 Q2283.32 1529.45 2280.28 1530.21 Z\" fill=\"#000000\" fill-rule=\"evenodd\" fill-opacity=\"1\" /><path clip-path=\"url(#clip130)\" d=\"M2306.28 1517.37 Q2302.67 1517.37 2300.84 1520.93 Q2299.03 1524.47 2299.03 1531.6 Q2299.03 1538.71 2300.84 1542.27 Q2302.67 1545.82 2306.28 1545.82 Q2309.91 1545.82 2311.72 1542.27 Q2313.55 1538.71 2313.55 1531.6 Q2313.55 1524.47 2311.72 1520.93 Q2309.91 1517.37 2306.28 1517.37 M2306.28 1513.66 Q2312.09 1513.66 2315.14 1518.27 Q2318.22 1522.85 2318.22 1531.6 Q2318.22 1540.33 2315.14 1544.94 Q2312.09 1549.52 2306.28 1549.52 Q2300.47 1549.52 2297.39 1544.94 Q2294.33 1540.33 2294.33 1531.6 Q2294.33 1522.85 2297.39 1518.27 Q2300.47 1513.66 2306.28 1513.66 Z\" fill=\"#000000\" fill-rule=\"evenodd\" fill-opacity=\"1\" /><polyline clip-path=\"url(#clip132)\" style=\"stroke:#000000; stroke-linecap:round; stroke-linejoin:round; stroke-width:2; stroke-opacity:0.1; fill:none\" points=\"\n",
       "  186.274,1445.72 2352.76,1445.72 \n",
       "  \"/>\n",
       "<polyline clip-path=\"url(#clip132)\" style=\"stroke:#000000; stroke-linecap:round; stroke-linejoin:round; stroke-width:2; stroke-opacity:0.1; fill:none\" points=\"\n",
       "  186.274,1106.28 2352.76,1106.28 \n",
       "  \"/>\n",
       "<polyline clip-path=\"url(#clip132)\" style=\"stroke:#000000; stroke-linecap:round; stroke-linejoin:round; stroke-width:2; stroke-opacity:0.1; fill:none\" points=\"\n",
       "  186.274,766.846 2352.76,766.846 \n",
       "  \"/>\n",
       "<polyline clip-path=\"url(#clip132)\" style=\"stroke:#000000; stroke-linecap:round; stroke-linejoin:round; stroke-width:2; stroke-opacity:0.1; fill:none\" points=\"\n",
       "  186.274,427.411 2352.76,427.411 \n",
       "  \"/>\n",
       "<polyline clip-path=\"url(#clip132)\" style=\"stroke:#000000; stroke-linecap:round; stroke-linejoin:round; stroke-width:2; stroke-opacity:0.1; fill:none\" points=\"\n",
       "  186.274,87.9763 2352.76,87.9763 \n",
       "  \"/>\n",
       "<polyline clip-path=\"url(#clip130)\" style=\"stroke:#000000; stroke-linecap:round; stroke-linejoin:round; stroke-width:4; stroke-opacity:1; fill:none\" points=\"\n",
       "  186.274,1486.45 186.274,47.2441 \n",
       "  \"/>\n",
       "<polyline clip-path=\"url(#clip130)\" style=\"stroke:#000000; stroke-linecap:round; stroke-linejoin:round; stroke-width:4; stroke-opacity:1; fill:none\" points=\"\n",
       "  186.274,1445.72 205.172,1445.72 \n",
       "  \"/>\n",
       "<polyline clip-path=\"url(#clip130)\" style=\"stroke:#000000; stroke-linecap:round; stroke-linejoin:round; stroke-width:4; stroke-opacity:1; fill:none\" points=\"\n",
       "  186.274,1106.28 205.172,1106.28 \n",
       "  \"/>\n",
       "<polyline clip-path=\"url(#clip130)\" style=\"stroke:#000000; stroke-linecap:round; stroke-linejoin:round; stroke-width:4; stroke-opacity:1; fill:none\" points=\"\n",
       "  186.274,766.846 205.172,766.846 \n",
       "  \"/>\n",
       "<polyline clip-path=\"url(#clip130)\" style=\"stroke:#000000; stroke-linecap:round; stroke-linejoin:round; stroke-width:4; stroke-opacity:1; fill:none\" points=\"\n",
       "  186.274,427.411 205.172,427.411 \n",
       "  \"/>\n",
       "<polyline clip-path=\"url(#clip130)\" style=\"stroke:#000000; stroke-linecap:round; stroke-linejoin:round; stroke-width:4; stroke-opacity:1; fill:none\" points=\"\n",
       "  186.274,87.9763 205.172,87.9763 \n",
       "  \"/>\n",
       "<path clip-path=\"url(#clip130)\" d=\"M62.9365 1431.51 Q59.3254 1431.51 57.4967 1435.08 Q55.6912 1438.62 55.6912 1445.75 Q55.6912 1452.86 57.4967 1456.42 Q59.3254 1459.96 62.9365 1459.96 Q66.5707 1459.96 68.3763 1456.42 Q70.205 1452.86 70.205 1445.75 Q70.205 1438.62 68.3763 1435.08 Q66.5707 1431.51 62.9365 1431.51 M62.9365 1427.81 Q68.7467 1427.81 71.8022 1432.42 Q74.8809 1437 74.8809 1445.75 Q74.8809 1454.48 71.8022 1459.08 Q68.7467 1463.67 62.9365 1463.67 Q57.1264 1463.67 54.0477 1459.08 Q50.9921 1454.48 50.9921 1445.75 Q50.9921 1437 54.0477 1432.42 Q57.1264 1427.81 62.9365 1427.81 Z\" fill=\"#000000\" fill-rule=\"evenodd\" fill-opacity=\"1\" /><path clip-path=\"url(#clip130)\" d=\"M83.0984 1457.12 L87.9827 1457.12 L87.9827 1463 L83.0984 1463 L83.0984 1457.12 Z\" fill=\"#000000\" fill-rule=\"evenodd\" fill-opacity=\"1\" /><path clip-path=\"url(#clip130)\" d=\"M108.168 1431.51 Q104.557 1431.51 102.728 1435.08 Q100.922 1438.62 100.922 1445.75 Q100.922 1452.86 102.728 1456.42 Q104.557 1459.96 108.168 1459.96 Q111.802 1459.96 113.608 1456.42 Q115.436 1452.86 115.436 1445.75 Q115.436 1438.62 113.608 1435.08 Q111.802 1431.51 108.168 1431.51 M108.168 1427.81 Q113.978 1427.81 117.033 1432.42 Q120.112 1437 120.112 1445.75 Q120.112 1454.48 117.033 1459.08 Q113.978 1463.67 108.168 1463.67 Q102.358 1463.67 99.2789 1459.08 Q96.2234 1454.48 96.2234 1445.75 Q96.2234 1437 99.2789 1432.42 Q102.358 1427.81 108.168 1427.81 Z\" fill=\"#000000\" fill-rule=\"evenodd\" fill-opacity=\"1\" /><path clip-path=\"url(#clip130)\" d=\"M138.33 1431.51 Q134.719 1431.51 132.89 1435.08 Q131.084 1438.62 131.084 1445.75 Q131.084 1452.86 132.89 1456.42 Q134.719 1459.96 138.33 1459.96 Q141.964 1459.96 143.769 1456.42 Q145.598 1452.86 145.598 1445.75 Q145.598 1438.62 143.769 1435.08 Q141.964 1431.51 138.33 1431.51 M138.33 1427.81 Q144.14 1427.81 147.195 1432.42 Q150.274 1437 150.274 1445.75 Q150.274 1454.48 147.195 1459.08 Q144.14 1463.67 138.33 1463.67 Q132.519 1463.67 129.441 1459.08 Q126.385 1454.48 126.385 1445.75 Q126.385 1437 129.441 1432.42 Q132.519 1427.81 138.33 1427.81 Z\" fill=\"#000000\" fill-rule=\"evenodd\" fill-opacity=\"1\" /><path clip-path=\"url(#clip130)\" d=\"M63.9319 1092.08 Q60.3208 1092.08 58.4921 1095.64 Q56.6865 1099.19 56.6865 1106.32 Q56.6865 1113.42 58.4921 1116.99 Q60.3208 1120.53 63.9319 1120.53 Q67.5661 1120.53 69.3717 1116.99 Q71.2004 1113.42 71.2004 1106.32 Q71.2004 1099.19 69.3717 1095.64 Q67.5661 1092.08 63.9319 1092.08 M63.9319 1088.38 Q69.742 1088.38 72.7976 1092.98 Q75.8763 1097.57 75.8763 1106.32 Q75.8763 1115.04 72.7976 1119.65 Q69.742 1124.23 63.9319 1124.23 Q58.1217 1124.23 55.043 1119.65 Q51.9875 1115.04 51.9875 1106.32 Q51.9875 1097.57 55.043 1092.98 Q58.1217 1088.38 63.9319 1088.38 Z\" fill=\"#000000\" fill-rule=\"evenodd\" fill-opacity=\"1\" /><path clip-path=\"url(#clip130)\" d=\"M84.0938 1117.68 L88.978 1117.68 L88.978 1123.56 L84.0938 1123.56 L84.0938 1117.68 Z\" fill=\"#000000\" fill-rule=\"evenodd\" fill-opacity=\"1\" /><path clip-path=\"url(#clip130)\" d=\"M103.191 1119.63 L119.51 1119.63 L119.51 1123.56 L97.566 1123.56 L97.566 1119.63 Q100.228 1116.87 104.811 1112.24 Q109.418 1107.59 110.598 1106.25 Q112.844 1103.72 113.723 1101.99 Q114.626 1100.23 114.626 1098.54 Q114.626 1095.78 112.682 1094.05 Q110.76 1092.31 107.658 1092.31 Q105.459 1092.31 103.006 1093.07 Q100.575 1093.84 97.7974 1095.39 L97.7974 1090.67 Q100.621 1089.53 103.075 1088.95 Q105.529 1088.38 107.566 1088.38 Q112.936 1088.38 116.131 1091.06 Q119.325 1093.75 119.325 1098.24 Q119.325 1100.37 118.515 1102.29 Q117.728 1104.19 115.621 1106.78 Q115.043 1107.45 111.941 1110.67 Q108.839 1113.86 103.191 1119.63 Z\" fill=\"#000000\" fill-rule=\"evenodd\" fill-opacity=\"1\" /><path clip-path=\"url(#clip130)\" d=\"M129.371 1089 L147.728 1089 L147.728 1092.94 L133.654 1092.94 L133.654 1101.41 Q134.672 1101.06 135.691 1100.9 Q136.709 1100.71 137.728 1100.71 Q143.515 1100.71 146.894 1103.89 Q150.274 1107.06 150.274 1112.47 Q150.274 1118.05 146.802 1121.15 Q143.33 1124.23 137.01 1124.23 Q134.834 1124.23 132.566 1123.86 Q130.32 1123.49 127.913 1122.75 L127.913 1118.05 Q129.996 1119.19 132.219 1119.74 Q134.441 1120.3 136.918 1120.3 Q140.922 1120.3 143.26 1118.19 Q145.598 1116.08 145.598 1112.47 Q145.598 1108.86 143.26 1106.76 Q140.922 1104.65 136.918 1104.65 Q135.043 1104.65 133.168 1105.07 Q131.316 1105.48 129.371 1106.36 L129.371 1089 Z\" fill=\"#000000\" fill-rule=\"evenodd\" fill-opacity=\"1\" /><path clip-path=\"url(#clip130)\" d=\"M62.9365 752.645 Q59.3254 752.645 57.4967 756.209 Q55.6912 759.751 55.6912 766.881 Q55.6912 773.987 57.4967 777.552 Q59.3254 781.094 62.9365 781.094 Q66.5707 781.094 68.3763 777.552 Q70.205 773.987 70.205 766.881 Q70.205 759.751 68.3763 756.209 Q66.5707 752.645 62.9365 752.645 M62.9365 748.941 Q68.7467 748.941 71.8022 753.547 Q74.8809 758.131 74.8809 766.881 Q74.8809 775.608 71.8022 780.214 Q68.7467 784.797 62.9365 784.797 Q57.1264 784.797 54.0477 780.214 Q50.9921 775.608 50.9921 766.881 Q50.9921 758.131 54.0477 753.547 Q57.1264 748.941 62.9365 748.941 Z\" fill=\"#000000\" fill-rule=\"evenodd\" fill-opacity=\"1\" /><path clip-path=\"url(#clip130)\" d=\"M83.0984 778.246 L87.9827 778.246 L87.9827 784.126 L83.0984 784.126 L83.0984 778.246 Z\" fill=\"#000000\" fill-rule=\"evenodd\" fill-opacity=\"1\" /><path clip-path=\"url(#clip130)\" d=\"M98.2141 749.566 L116.57 749.566 L116.57 753.501 L102.496 753.501 L102.496 761.973 Q103.515 761.626 104.534 761.464 Q105.552 761.279 106.571 761.279 Q112.358 761.279 115.737 764.45 Q119.117 767.621 119.117 773.038 Q119.117 778.617 115.645 781.719 Q112.172 784.797 105.853 784.797 Q103.677 784.797 101.409 784.427 Q99.1632 784.057 96.7558 783.316 L96.7558 778.617 Q98.8391 779.751 101.061 780.307 Q103.284 780.862 105.76 780.862 Q109.765 780.862 112.103 778.756 Q114.441 776.649 114.441 773.038 Q114.441 769.427 112.103 767.321 Q109.765 765.214 105.76 765.214 Q103.885 765.214 102.01 765.631 Q100.159 766.047 98.2141 766.927 L98.2141 749.566 Z\" fill=\"#000000\" fill-rule=\"evenodd\" fill-opacity=\"1\" /><path clip-path=\"url(#clip130)\" d=\"M138.33 752.645 Q134.719 752.645 132.89 756.209 Q131.084 759.751 131.084 766.881 Q131.084 773.987 132.89 777.552 Q134.719 781.094 138.33 781.094 Q141.964 781.094 143.769 777.552 Q145.598 773.987 145.598 766.881 Q145.598 759.751 143.769 756.209 Q141.964 752.645 138.33 752.645 M138.33 748.941 Q144.14 748.941 147.195 753.547 Q150.274 758.131 150.274 766.881 Q150.274 775.608 147.195 780.214 Q144.14 784.797 138.33 784.797 Q132.519 784.797 129.441 780.214 Q126.385 775.608 126.385 766.881 Q126.385 758.131 129.441 753.547 Q132.519 748.941 138.33 748.941 Z\" fill=\"#000000\" fill-rule=\"evenodd\" fill-opacity=\"1\" /><path clip-path=\"url(#clip130)\" d=\"M63.9319 413.21 Q60.3208 413.21 58.4921 416.775 Q56.6865 420.316 56.6865 427.446 Q56.6865 434.552 58.4921 438.117 Q60.3208 441.659 63.9319 441.659 Q67.5661 441.659 69.3717 438.117 Q71.2004 434.552 71.2004 427.446 Q71.2004 420.316 69.3717 416.775 Q67.5661 413.21 63.9319 413.21 M63.9319 409.506 Q69.742 409.506 72.7976 414.113 Q75.8763 418.696 75.8763 427.446 Q75.8763 436.173 72.7976 440.779 Q69.742 445.362 63.9319 445.362 Q58.1217 445.362 55.043 440.779 Q51.9875 436.173 51.9875 427.446 Q51.9875 418.696 55.043 414.113 Q58.1217 409.506 63.9319 409.506 Z\" fill=\"#000000\" fill-rule=\"evenodd\" fill-opacity=\"1\" /><path clip-path=\"url(#clip130)\" d=\"M84.0938 438.812 L88.978 438.812 L88.978 444.691 L84.0938 444.691 L84.0938 438.812 Z\" fill=\"#000000\" fill-rule=\"evenodd\" fill-opacity=\"1\" /><path clip-path=\"url(#clip130)\" d=\"M97.9826 410.131 L120.205 410.131 L120.205 412.122 L107.658 444.691 L102.774 444.691 L114.58 414.066 L97.9826 414.066 L97.9826 410.131 Z\" fill=\"#000000\" fill-rule=\"evenodd\" fill-opacity=\"1\" /><path clip-path=\"url(#clip130)\" d=\"M129.371 410.131 L147.728 410.131 L147.728 414.066 L133.654 414.066 L133.654 422.538 Q134.672 422.191 135.691 422.029 Q136.709 421.844 137.728 421.844 Q143.515 421.844 146.894 425.015 Q150.274 428.187 150.274 433.603 Q150.274 439.182 146.802 442.284 Q143.33 445.362 137.01 445.362 Q134.834 445.362 132.566 444.992 Q130.32 444.622 127.913 443.881 L127.913 439.182 Q129.996 440.316 132.219 440.872 Q134.441 441.427 136.918 441.427 Q140.922 441.427 143.26 439.321 Q145.598 437.214 145.598 433.603 Q145.598 429.992 143.26 427.886 Q140.922 425.779 136.918 425.779 Q135.043 425.779 133.168 426.196 Q131.316 426.613 129.371 427.492 L129.371 410.131 Z\" fill=\"#000000\" fill-rule=\"evenodd\" fill-opacity=\"1\" /><path clip-path=\"url(#clip130)\" d=\"M53.7467 101.321 L61.3856 101.321 L61.3856 74.9555 L53.0754 76.6222 L53.0754 72.3629 L61.3393 70.6963 L66.0152 70.6963 L66.0152 101.321 L73.654 101.321 L73.654 105.256 L53.7467 105.256 L53.7467 101.321 Z\" fill=\"#000000\" fill-rule=\"evenodd\" fill-opacity=\"1\" /><path clip-path=\"url(#clip130)\" d=\"M83.0984 99.3767 L87.9827 99.3767 L87.9827 105.256 L83.0984 105.256 L83.0984 99.3767 Z\" fill=\"#000000\" fill-rule=\"evenodd\" fill-opacity=\"1\" /><path clip-path=\"url(#clip130)\" d=\"M108.168 73.775 Q104.557 73.775 102.728 77.3398 Q100.922 80.8814 100.922 88.011 Q100.922 95.1174 102.728 98.6822 Q104.557 102.224 108.168 102.224 Q111.802 102.224 113.608 98.6822 Q115.436 95.1174 115.436 88.011 Q115.436 80.8814 113.608 77.3398 Q111.802 73.775 108.168 73.775 M108.168 70.0713 Q113.978 70.0713 117.033 74.6777 Q120.112 79.261 120.112 88.011 Q120.112 96.7378 117.033 101.344 Q113.978 105.928 108.168 105.928 Q102.358 105.928 99.2789 101.344 Q96.2234 96.7378 96.2234 88.011 Q96.2234 79.261 99.2789 74.6777 Q102.358 70.0713 108.168 70.0713 Z\" fill=\"#000000\" fill-rule=\"evenodd\" fill-opacity=\"1\" /><path clip-path=\"url(#clip130)\" d=\"M138.33 73.775 Q134.719 73.775 132.89 77.3398 Q131.084 80.8814 131.084 88.011 Q131.084 95.1174 132.89 98.6822 Q134.719 102.224 138.33 102.224 Q141.964 102.224 143.769 98.6822 Q145.598 95.1174 145.598 88.011 Q145.598 80.8814 143.769 77.3398 Q141.964 73.775 138.33 73.775 M138.33 70.0713 Q144.14 70.0713 147.195 74.6777 Q150.274 79.261 150.274 88.011 Q150.274 96.7378 147.195 101.344 Q144.14 105.928 138.33 105.928 Q132.519 105.928 129.441 101.344 Q126.385 96.7378 126.385 88.011 Q126.385 79.261 129.441 74.6777 Q132.519 70.0713 138.33 70.0713 Z\" fill=\"#000000\" fill-rule=\"evenodd\" fill-opacity=\"1\" /><polyline clip-path=\"url(#clip132)\" style=\"stroke:#009af9; stroke-linecap:round; stroke-linejoin:round; stroke-width:4; stroke-opacity:1; fill:none\" points=\"\n",
       "  247.59,1445.72 254.243,1445.72 260.896,1445.72 322.415,1445.72 383.935,1445.72 420.905,1445.71 457.876,1445.48 473.505,1444.94 489.134,1443.72 504.763,1441.38 \n",
       "  520.392,1437.46 537.37,1430.93 554.347,1421.64 562.836,1415.88 571.325,1409.36 579.813,1402.08 588.302,1394.11 603.954,1391.23 619.606,1388.22 635.258,1385.07 \n",
       "  650.909,1381.77 718.031,1365.92 795.798,1343.65 830.353,1332.27 864.908,1319.9 895.209,1308.19 925.511,1295.66 958.548,1280.99 991.585,1265.26 1024.82,1248.31 \n",
       "  1058.05,1230.2 1094.79,1208.79 1131.54,1185.87 1166.5,1162.64 1201.46,1138 1237.81,1110.86 1274.16,1082.16 1304.76,1056.8 1335.36,1030.32 1372.72,996.522 \n",
       "  1410.08,961.109 1444.3,927.286 1478.52,892.175 1510.13,858.642 1541.74,824.088 1573.76,788.091 1605.77,751.145 1677.54,665.198 1742.57,584.094 1817.03,488.33 \n",
       "  1885.97,397.786 1953.93,307.659 2019.92,220.185 2053.75,175.629 2087.57,131.407 2096.83,119.366 2106.1,107.36 2110.73,101.371 2115.36,95.3919 2120,89.4223 \n",
       "  2124.63,87.9763 2133.89,87.9763 2143.16,87.9763 2152.42,87.9763 2161.69,87.9763 2215.52,87.9763 2269.35,87.9763 2280.4,87.9763 2291.44,87.9763 \n",
       "  \"/>\n",
       "<path clip-path=\"url(#clip130)\" d=\"\n",
       "M258.49 198.898 L527.569 198.898 L527.569 95.2176 L258.49 95.2176  Z\n",
       "  \" fill=\"#ffffff\" fill-rule=\"evenodd\" fill-opacity=\"1\"/>\n",
       "<polyline clip-path=\"url(#clip130)\" style=\"stroke:#000000; stroke-linecap:round; stroke-linejoin:round; stroke-width:4; stroke-opacity:1; fill:none\" points=\"\n",
       "  258.49,198.898 527.569,198.898 527.569,95.2176 258.49,95.2176 258.49,198.898 \n",
       "  \"/>\n",
       "<polyline clip-path=\"url(#clip130)\" style=\"stroke:#009af9; stroke-linecap:round; stroke-linejoin:round; stroke-width:4; stroke-opacity:1; fill:none\" points=\"\n",
       "  282.562,147.058 426.994,147.058 \n",
       "  \"/>\n",
       "<path clip-path=\"url(#clip130)\" d=\"M464.909 166.745 Q463.103 171.375 461.39 172.787 Q459.677 174.199 456.807 174.199 L453.404 174.199 L453.404 170.634 L455.904 170.634 Q457.663 170.634 458.636 169.8 Q459.608 168.967 460.788 165.865 L461.552 163.921 L451.066 138.412 L455.58 138.412 L463.682 158.689 L471.784 138.412 L476.298 138.412 L464.909 166.745 Z\" fill=\"#000000\" fill-rule=\"evenodd\" fill-opacity=\"1\" /><path clip-path=\"url(#clip130)\" d=\"M483.589 160.402 L491.228 160.402 L491.228 134.037 L482.918 135.703 L482.918 131.444 L491.182 129.778 L495.858 129.778 L495.858 160.402 L503.497 160.402 L503.497 164.338 L483.589 164.338 L483.589 160.402 Z\" fill=\"#000000\" fill-rule=\"evenodd\" fill-opacity=\"1\" /></svg>\n"
      ]
     },
     "execution_count": 19,
     "metadata": {},
     "output_type": "execute_result"
    }
   ],
   "source": [
    "function Q(s, r, G)\n",
    "    if s >= 55/2\n",
    "        return 1\n",
    "    elseif s <= 0\n",
    "        return 0\n",
    "    elseif r <= 0\n",
    "        return 0\n",
    "    elseif s >= r\n",
    "        return 1 - cdf(G, (r-s+55/2)/r)\n",
    "    else\n",
    "        return 1- cdf(G, 55/(2*s))\n",
    "    end\n",
    "end\n",
    "\n",
    "plot(x -> Q(x,5,G),0,30)"
   ]
  },
  {
   "cell_type": "code",
   "execution_count": 20,
   "id": "5aca4c98-b725-430d-b313-a2a8ef108023",
   "metadata": {},
   "outputs": [
    {
     "data": {
      "image/svg+xml": [
       "<?xml version=\"1.0\" encoding=\"utf-8\"?>\n",
       "<svg xmlns=\"http://www.w3.org/2000/svg\" xmlns:xlink=\"http://www.w3.org/1999/xlink\" width=\"600\" height=\"400\" viewBox=\"0 0 2400 1600\">\n",
       "<defs>\n",
       "  <clipPath id=\"clip170\">\n",
       "    <rect x=\"0\" y=\"0\" width=\"2400\" height=\"1600\"/>\n",
       "  </clipPath>\n",
       "</defs>\n",
       "<path clip-path=\"url(#clip170)\" d=\"\n",
       "M0 1600 L2400 1600 L2400 0 L0 0  Z\n",
       "  \" fill=\"#ffffff\" fill-rule=\"evenodd\" fill-opacity=\"1\"/>\n",
       "<defs>\n",
       "  <clipPath id=\"clip171\">\n",
       "    <rect x=\"480\" y=\"0\" width=\"1681\" height=\"1600\"/>\n",
       "  </clipPath>\n",
       "</defs>\n",
       "<path clip-path=\"url(#clip170)\" d=\"\n",
       "M186.76 1486.45 L2352.76 1486.45 L2352.76 47.2441 L186.76 47.2441  Z\n",
       "  \" fill=\"#ffffff\" fill-rule=\"evenodd\" fill-opacity=\"1\"/>\n",
       "<defs>\n",
       "  <clipPath id=\"clip172\">\n",
       "    <rect x=\"186\" y=\"47\" width=\"2167\" height=\"1440\"/>\n",
       "  </clipPath>\n",
       "</defs>\n",
       "<polyline clip-path=\"url(#clip172)\" style=\"stroke:#000000; stroke-linecap:round; stroke-linejoin:round; stroke-width:2; stroke-opacity:0.1; fill:none\" points=\"\n",
       "  248.062,1486.45 248.062,47.2441 \n",
       "  \"/>\n",
       "<polyline clip-path=\"url(#clip172)\" style=\"stroke:#000000; stroke-linecap:round; stroke-linejoin:round; stroke-width:2; stroke-opacity:0.1; fill:none\" points=\"\n",
       "  929.193,1486.45 929.193,47.2441 \n",
       "  \"/>\n",
       "<polyline clip-path=\"url(#clip172)\" style=\"stroke:#000000; stroke-linecap:round; stroke-linejoin:round; stroke-width:2; stroke-opacity:0.1; fill:none\" points=\"\n",
       "  1610.32,1486.45 1610.32,47.2441 \n",
       "  \"/>\n",
       "<polyline clip-path=\"url(#clip172)\" style=\"stroke:#000000; stroke-linecap:round; stroke-linejoin:round; stroke-width:2; stroke-opacity:0.1; fill:none\" points=\"\n",
       "  2291.45,1486.45 2291.45,47.2441 \n",
       "  \"/>\n",
       "<polyline clip-path=\"url(#clip170)\" style=\"stroke:#000000; stroke-linecap:round; stroke-linejoin:round; stroke-width:4; stroke-opacity:1; fill:none\" points=\"\n",
       "  186.76,1486.45 2352.76,1486.45 \n",
       "  \"/>\n",
       "<polyline clip-path=\"url(#clip170)\" style=\"stroke:#000000; stroke-linecap:round; stroke-linejoin:round; stroke-width:4; stroke-opacity:1; fill:none\" points=\"\n",
       "  248.062,1486.45 248.062,1467.55 \n",
       "  \"/>\n",
       "<polyline clip-path=\"url(#clip170)\" style=\"stroke:#000000; stroke-linecap:round; stroke-linejoin:round; stroke-width:4; stroke-opacity:1; fill:none\" points=\"\n",
       "  929.193,1486.45 929.193,1467.55 \n",
       "  \"/>\n",
       "<polyline clip-path=\"url(#clip170)\" style=\"stroke:#000000; stroke-linecap:round; stroke-linejoin:round; stroke-width:4; stroke-opacity:1; fill:none\" points=\"\n",
       "  1610.32,1486.45 1610.32,1467.55 \n",
       "  \"/>\n",
       "<polyline clip-path=\"url(#clip170)\" style=\"stroke:#000000; stroke-linecap:round; stroke-linejoin:round; stroke-width:4; stroke-opacity:1; fill:none\" points=\"\n",
       "  2291.45,1486.45 2291.45,1467.55 \n",
       "  \"/>\n",
       "<path clip-path=\"url(#clip170)\" d=\"M248.062 1517.37 Q244.451 1517.37 242.622 1520.93 Q240.817 1524.47 240.817 1531.6 Q240.817 1538.71 242.622 1542.27 Q244.451 1545.82 248.062 1545.82 Q251.696 1545.82 253.502 1542.27 Q255.33 1538.71 255.33 1531.6 Q255.33 1524.47 253.502 1520.93 Q251.696 1517.37 248.062 1517.37 M248.062 1513.66 Q253.872 1513.66 256.928 1518.27 Q260.006 1522.85 260.006 1531.6 Q260.006 1540.33 256.928 1544.94 Q253.872 1549.52 248.062 1549.52 Q242.252 1549.52 239.173 1544.94 Q236.117 1540.33 236.117 1531.6 Q236.117 1522.85 239.173 1518.27 Q242.252 1513.66 248.062 1513.66 Z\" fill=\"#000000\" fill-rule=\"evenodd\" fill-opacity=\"1\" /><path clip-path=\"url(#clip170)\" d=\"M903.88 1544.91 L911.519 1544.91 L911.519 1518.55 L903.209 1520.21 L903.209 1515.95 L911.473 1514.29 L916.149 1514.29 L916.149 1544.91 L923.788 1544.91 L923.788 1548.85 L903.88 1548.85 L903.88 1544.91 Z\" fill=\"#000000\" fill-rule=\"evenodd\" fill-opacity=\"1\" /><path clip-path=\"url(#clip170)\" d=\"M943.232 1517.37 Q939.621 1517.37 937.792 1520.93 Q935.987 1524.47 935.987 1531.6 Q935.987 1538.71 937.792 1542.27 Q939.621 1545.82 943.232 1545.82 Q946.866 1545.82 948.672 1542.27 Q950.5 1538.71 950.5 1531.6 Q950.5 1524.47 948.672 1520.93 Q946.866 1517.37 943.232 1517.37 M943.232 1513.66 Q949.042 1513.66 952.098 1518.27 Q955.176 1522.85 955.176 1531.6 Q955.176 1540.33 952.098 1544.94 Q949.042 1549.52 943.232 1549.52 Q937.422 1549.52 934.343 1544.94 Q931.288 1540.33 931.288 1531.6 Q931.288 1522.85 934.343 1518.27 Q937.422 1513.66 943.232 1513.66 Z\" fill=\"#000000\" fill-rule=\"evenodd\" fill-opacity=\"1\" /><path clip-path=\"url(#clip170)\" d=\"M1589.1 1544.91 L1605.42 1544.91 L1605.42 1548.85 L1583.47 1548.85 L1583.47 1544.91 Q1586.13 1542.16 1590.72 1537.53 Q1595.32 1532.88 1596.5 1531.53 Q1598.75 1529.01 1599.63 1527.27 Q1600.53 1525.51 1600.53 1523.82 Q1600.53 1521.07 1598.59 1519.33 Q1596.67 1517.6 1593.56 1517.6 Q1591.37 1517.6 1588.91 1518.36 Q1586.48 1519.13 1583.7 1520.68 L1583.7 1515.95 Q1586.53 1514.82 1588.98 1514.24 Q1591.43 1513.66 1593.47 1513.66 Q1598.84 1513.66 1602.04 1516.35 Q1605.23 1519.03 1605.23 1523.52 Q1605.23 1525.65 1604.42 1527.57 Q1603.63 1529.47 1601.53 1532.07 Q1600.95 1532.74 1597.85 1535.95 Q1594.74 1539.15 1589.1 1544.91 Z\" fill=\"#000000\" fill-rule=\"evenodd\" fill-opacity=\"1\" /><path clip-path=\"url(#clip170)\" d=\"M1625.23 1517.37 Q1621.62 1517.37 1619.79 1520.93 Q1617.99 1524.47 1617.99 1531.6 Q1617.99 1538.71 1619.79 1542.27 Q1621.62 1545.82 1625.23 1545.82 Q1628.86 1545.82 1630.67 1542.27 Q1632.5 1538.71 1632.5 1531.6 Q1632.5 1524.47 1630.67 1520.93 Q1628.86 1517.37 1625.23 1517.37 M1625.23 1513.66 Q1631.04 1513.66 1634.1 1518.27 Q1637.18 1522.85 1637.18 1531.6 Q1637.18 1540.33 1634.1 1544.94 Q1631.04 1549.52 1625.23 1549.52 Q1619.42 1549.52 1616.34 1544.94 Q1613.29 1540.33 1613.29 1531.6 Q1613.29 1522.85 1616.34 1518.27 Q1619.42 1513.66 1625.23 1513.66 Z\" fill=\"#000000\" fill-rule=\"evenodd\" fill-opacity=\"1\" /><path clip-path=\"url(#clip170)\" d=\"M2280.3 1530.21 Q2283.65 1530.93 2285.53 1533.2 Q2287.43 1535.47 2287.43 1538.8 Q2287.43 1543.92 2283.91 1546.72 Q2280.39 1549.52 2273.91 1549.52 Q2271.73 1549.52 2269.42 1549.08 Q2267.13 1548.66 2264.67 1547.81 L2264.67 1543.29 Q2266.62 1544.43 2268.93 1545.01 Q2271.25 1545.58 2273.77 1545.58 Q2278.17 1545.58 2280.46 1543.85 Q2282.77 1542.11 2282.77 1538.8 Q2282.77 1535.75 2280.62 1534.03 Q2278.49 1532.3 2274.67 1532.3 L2270.64 1532.3 L2270.64 1528.45 L2274.86 1528.45 Q2278.31 1528.45 2280.13 1527.09 Q2281.96 1525.7 2281.96 1523.11 Q2281.96 1520.45 2280.07 1519.03 Q2278.19 1517.6 2274.67 1517.6 Q2272.75 1517.6 2270.55 1518.01 Q2268.35 1518.43 2265.71 1519.31 L2265.71 1515.14 Q2268.38 1514.4 2270.69 1514.03 Q2273.03 1513.66 2275.09 1513.66 Q2280.41 1513.66 2283.51 1516.09 Q2286.62 1518.5 2286.62 1522.62 Q2286.62 1525.49 2284.97 1527.48 Q2283.33 1529.45 2280.3 1530.21 Z\" fill=\"#000000\" fill-rule=\"evenodd\" fill-opacity=\"1\" /><path clip-path=\"url(#clip170)\" d=\"M2306.29 1517.37 Q2302.68 1517.37 2300.85 1520.93 Q2299.05 1524.47 2299.05 1531.6 Q2299.05 1538.71 2300.85 1542.27 Q2302.68 1545.82 2306.29 1545.82 Q2309.93 1545.82 2311.73 1542.27 Q2313.56 1538.71 2313.56 1531.6 Q2313.56 1524.47 2311.73 1520.93 Q2309.93 1517.37 2306.29 1517.37 M2306.29 1513.66 Q2312.1 1513.66 2315.16 1518.27 Q2318.24 1522.85 2318.24 1531.6 Q2318.24 1540.33 2315.16 1544.94 Q2312.1 1549.52 2306.29 1549.52 Q2300.48 1549.52 2297.4 1544.94 Q2294.35 1540.33 2294.35 1531.6 Q2294.35 1522.85 2297.4 1518.27 Q2300.48 1513.66 2306.29 1513.66 Z\" fill=\"#000000\" fill-rule=\"evenodd\" fill-opacity=\"1\" /><polyline clip-path=\"url(#clip172)\" style=\"stroke:#000000; stroke-linecap:round; stroke-linejoin:round; stroke-width:2; stroke-opacity:0.1; fill:none\" points=\"\n",
       "  186.76,1445.72 2352.76,1445.72 \n",
       "  \"/>\n",
       "<polyline clip-path=\"url(#clip172)\" style=\"stroke:#000000; stroke-linecap:round; stroke-linejoin:round; stroke-width:2; stroke-opacity:0.1; fill:none\" points=\"\n",
       "  186.76,1241.95 2352.76,1241.95 \n",
       "  \"/>\n",
       "<polyline clip-path=\"url(#clip172)\" style=\"stroke:#000000; stroke-linecap:round; stroke-linejoin:round; stroke-width:2; stroke-opacity:0.1; fill:none\" points=\"\n",
       "  186.76,1038.19 2352.76,1038.19 \n",
       "  \"/>\n",
       "<polyline clip-path=\"url(#clip172)\" style=\"stroke:#000000; stroke-linecap:round; stroke-linejoin:round; stroke-width:2; stroke-opacity:0.1; fill:none\" points=\"\n",
       "  186.76,834.427 2352.76,834.427 \n",
       "  \"/>\n",
       "<polyline clip-path=\"url(#clip172)\" style=\"stroke:#000000; stroke-linecap:round; stroke-linejoin:round; stroke-width:2; stroke-opacity:0.1; fill:none\" points=\"\n",
       "  186.76,630.665 2352.76,630.665 \n",
       "  \"/>\n",
       "<polyline clip-path=\"url(#clip172)\" style=\"stroke:#000000; stroke-linecap:round; stroke-linejoin:round; stroke-width:2; stroke-opacity:0.1; fill:none\" points=\"\n",
       "  186.76,426.902 2352.76,426.902 \n",
       "  \"/>\n",
       "<polyline clip-path=\"url(#clip172)\" style=\"stroke:#000000; stroke-linecap:round; stroke-linejoin:round; stroke-width:2; stroke-opacity:0.1; fill:none\" points=\"\n",
       "  186.76,223.139 2352.76,223.139 \n",
       "  \"/>\n",
       "<polyline clip-path=\"url(#clip170)\" style=\"stroke:#000000; stroke-linecap:round; stroke-linejoin:round; stroke-width:4; stroke-opacity:1; fill:none\" points=\"\n",
       "  186.76,1486.45 186.76,47.2441 \n",
       "  \"/>\n",
       "<polyline clip-path=\"url(#clip170)\" style=\"stroke:#000000; stroke-linecap:round; stroke-linejoin:round; stroke-width:4; stroke-opacity:1; fill:none\" points=\"\n",
       "  186.76,1445.72 205.658,1445.72 \n",
       "  \"/>\n",
       "<polyline clip-path=\"url(#clip170)\" style=\"stroke:#000000; stroke-linecap:round; stroke-linejoin:round; stroke-width:4; stroke-opacity:1; fill:none\" points=\"\n",
       "  186.76,1241.95 205.658,1241.95 \n",
       "  \"/>\n",
       "<polyline clip-path=\"url(#clip170)\" style=\"stroke:#000000; stroke-linecap:round; stroke-linejoin:round; stroke-width:4; stroke-opacity:1; fill:none\" points=\"\n",
       "  186.76,1038.19 205.658,1038.19 \n",
       "  \"/>\n",
       "<polyline clip-path=\"url(#clip170)\" style=\"stroke:#000000; stroke-linecap:round; stroke-linejoin:round; stroke-width:4; stroke-opacity:1; fill:none\" points=\"\n",
       "  186.76,834.427 205.658,834.427 \n",
       "  \"/>\n",
       "<polyline clip-path=\"url(#clip170)\" style=\"stroke:#000000; stroke-linecap:round; stroke-linejoin:round; stroke-width:4; stroke-opacity:1; fill:none\" points=\"\n",
       "  186.76,630.665 205.658,630.665 \n",
       "  \"/>\n",
       "<polyline clip-path=\"url(#clip170)\" style=\"stroke:#000000; stroke-linecap:round; stroke-linejoin:round; stroke-width:4; stroke-opacity:1; fill:none\" points=\"\n",
       "  186.76,426.902 205.658,426.902 \n",
       "  \"/>\n",
       "<polyline clip-path=\"url(#clip170)\" style=\"stroke:#000000; stroke-linecap:round; stroke-linejoin:round; stroke-width:4; stroke-opacity:1; fill:none\" points=\"\n",
       "  186.76,223.139 205.658,223.139 \n",
       "  \"/>\n",
       "<path clip-path=\"url(#clip170)\" d=\"M63.4226 1431.51 Q59.8115 1431.51 57.9828 1435.08 Q56.1773 1438.62 56.1773 1445.75 Q56.1773 1452.86 57.9828 1456.42 Q59.8115 1459.96 63.4226 1459.96 Q67.0569 1459.96 68.8624 1456.42 Q70.6911 1452.86 70.6911 1445.75 Q70.6911 1438.62 68.8624 1435.08 Q67.0569 1431.51 63.4226 1431.51 M63.4226 1427.81 Q69.2328 1427.81 72.2883 1432.42 Q75.367 1437 75.367 1445.75 Q75.367 1454.48 72.2883 1459.08 Q69.2328 1463.67 63.4226 1463.67 Q57.6125 1463.67 54.5338 1459.08 Q51.4782 1454.48 51.4782 1445.75 Q51.4782 1437 54.5338 1432.42 Q57.6125 1427.81 63.4226 1427.81 Z\" fill=\"#000000\" fill-rule=\"evenodd\" fill-opacity=\"1\" /><path clip-path=\"url(#clip170)\" d=\"M83.5845 1457.12 L88.4688 1457.12 L88.4688 1463 L83.5845 1463 L83.5845 1457.12 Z\" fill=\"#000000\" fill-rule=\"evenodd\" fill-opacity=\"1\" /><path clip-path=\"url(#clip170)\" d=\"M108.654 1431.51 Q105.043 1431.51 103.214 1435.08 Q101.409 1438.62 101.409 1445.75 Q101.409 1452.86 103.214 1456.42 Q105.043 1459.96 108.654 1459.96 Q112.288 1459.96 114.094 1456.42 Q115.922 1452.86 115.922 1445.75 Q115.922 1438.62 114.094 1435.08 Q112.288 1431.51 108.654 1431.51 M108.654 1427.81 Q114.464 1427.81 117.52 1432.42 Q120.598 1437 120.598 1445.75 Q120.598 1454.48 117.52 1459.08 Q114.464 1463.67 108.654 1463.67 Q102.844 1463.67 99.765 1459.08 Q96.7095 1454.48 96.7095 1445.75 Q96.7095 1437 99.765 1432.42 Q102.844 1427.81 108.654 1427.81 Z\" fill=\"#000000\" fill-rule=\"evenodd\" fill-opacity=\"1\" /><path clip-path=\"url(#clip170)\" d=\"M138.816 1431.51 Q135.205 1431.51 133.376 1435.08 Q131.57 1438.62 131.57 1445.75 Q131.57 1452.86 133.376 1456.42 Q135.205 1459.96 138.816 1459.96 Q142.45 1459.96 144.256 1456.42 Q146.084 1452.86 146.084 1445.75 Q146.084 1438.62 144.256 1435.08 Q142.45 1431.51 138.816 1431.51 M138.816 1427.81 Q144.626 1427.81 147.681 1432.42 Q150.76 1437 150.76 1445.75 Q150.76 1454.48 147.681 1459.08 Q144.626 1463.67 138.816 1463.67 Q133.006 1463.67 129.927 1459.08 Q126.871 1454.48 126.871 1445.75 Q126.871 1437 129.927 1432.42 Q133.006 1427.81 138.816 1427.81 Z\" fill=\"#000000\" fill-rule=\"evenodd\" fill-opacity=\"1\" /><path clip-path=\"url(#clip170)\" d=\"M64.6495 1227.75 Q61.0384 1227.75 59.2097 1231.32 Q57.4041 1234.86 57.4041 1241.99 Q57.4041 1249.09 59.2097 1252.66 Q61.0384 1256.2 64.6495 1256.2 Q68.2837 1256.2 70.0892 1252.66 Q71.9179 1249.09 71.9179 1241.99 Q71.9179 1234.86 70.0892 1231.32 Q68.2837 1227.75 64.6495 1227.75 M64.6495 1224.05 Q70.4596 1224.05 73.5152 1228.65 Q76.5938 1233.24 76.5938 1241.99 Q76.5938 1250.71 73.5152 1255.32 Q70.4596 1259.9 64.6495 1259.9 Q58.8393 1259.9 55.7606 1255.32 Q52.7051 1250.71 52.7051 1241.99 Q52.7051 1233.24 55.7606 1228.65 Q58.8393 1224.05 64.6495 1224.05 Z\" fill=\"#000000\" fill-rule=\"evenodd\" fill-opacity=\"1\" /><path clip-path=\"url(#clip170)\" d=\"M84.8114 1253.35 L89.6956 1253.35 L89.6956 1259.23 L84.8114 1259.23 L84.8114 1253.35 Z\" fill=\"#000000\" fill-rule=\"evenodd\" fill-opacity=\"1\" /><path clip-path=\"url(#clip170)\" d=\"M109.881 1227.75 Q106.27 1227.75 104.441 1231.32 Q102.635 1234.86 102.635 1241.99 Q102.635 1249.09 104.441 1252.66 Q106.27 1256.2 109.881 1256.2 Q113.515 1256.2 115.32 1252.66 Q117.149 1249.09 117.149 1241.99 Q117.149 1234.86 115.32 1231.32 Q113.515 1227.75 109.881 1227.75 M109.881 1224.05 Q115.691 1224.05 118.746 1228.65 Q121.825 1233.24 121.825 1241.99 Q121.825 1250.71 118.746 1255.32 Q115.691 1259.9 109.881 1259.9 Q104.071 1259.9 100.992 1255.32 Q97.9363 1250.71 97.9363 1241.99 Q97.9363 1233.24 100.992 1228.65 Q104.071 1224.05 109.881 1224.05 Z\" fill=\"#000000\" fill-rule=\"evenodd\" fill-opacity=\"1\" /><path clip-path=\"url(#clip170)\" d=\"M130.853 1255.3 L138.492 1255.3 L138.492 1228.93 L130.182 1230.6 L130.182 1226.34 L138.445 1224.67 L143.121 1224.67 L143.121 1255.3 L150.76 1255.3 L150.76 1259.23 L130.853 1259.23 L130.853 1255.3 Z\" fill=\"#000000\" fill-rule=\"evenodd\" fill-opacity=\"1\" /><path clip-path=\"url(#clip170)\" d=\"M65.0198 1023.99 Q61.4087 1023.99 59.58 1027.55 Q57.7745 1031.1 57.7745 1038.22 Q57.7745 1045.33 59.58 1048.9 Q61.4087 1052.44 65.0198 1052.44 Q68.6541 1052.44 70.4596 1048.9 Q72.2883 1045.33 72.2883 1038.22 Q72.2883 1031.1 70.4596 1027.55 Q68.6541 1023.99 65.0198 1023.99 M65.0198 1020.29 Q70.83 1020.29 73.8855 1024.89 Q76.9642 1029.47 76.9642 1038.22 Q76.9642 1046.95 73.8855 1051.56 Q70.83 1056.14 65.0198 1056.14 Q59.2097 1056.14 56.131 1051.56 Q53.0754 1046.95 53.0754 1038.22 Q53.0754 1029.47 56.131 1024.89 Q59.2097 1020.29 65.0198 1020.29 Z\" fill=\"#000000\" fill-rule=\"evenodd\" fill-opacity=\"1\" /><path clip-path=\"url(#clip170)\" d=\"M85.1818 1049.59 L90.066 1049.59 L90.066 1055.47 L85.1818 1055.47 L85.1818 1049.59 Z\" fill=\"#000000\" fill-rule=\"evenodd\" fill-opacity=\"1\" /><path clip-path=\"url(#clip170)\" d=\"M110.251 1023.99 Q106.64 1023.99 104.811 1027.55 Q103.006 1031.1 103.006 1038.22 Q103.006 1045.33 104.811 1048.9 Q106.64 1052.44 110.251 1052.44 Q113.885 1052.44 115.691 1048.9 Q117.52 1045.33 117.52 1038.22 Q117.52 1031.1 115.691 1027.55 Q113.885 1023.99 110.251 1023.99 M110.251 1020.29 Q116.061 1020.29 119.117 1024.89 Q122.195 1029.47 122.195 1038.22 Q122.195 1046.95 119.117 1051.56 Q116.061 1056.14 110.251 1056.14 Q104.441 1056.14 101.362 1051.56 Q98.3067 1046.95 98.3067 1038.22 Q98.3067 1029.47 101.362 1024.89 Q104.441 1020.29 110.251 1020.29 Z\" fill=\"#000000\" fill-rule=\"evenodd\" fill-opacity=\"1\" /><path clip-path=\"url(#clip170)\" d=\"M134.441 1051.54 L150.76 1051.54 L150.76 1055.47 L128.816 1055.47 L128.816 1051.54 Q131.478 1048.78 136.061 1044.15 Q140.668 1039.5 141.848 1038.16 Q144.093 1035.63 144.973 1033.9 Q145.876 1032.14 145.876 1030.45 Q145.876 1027.69 143.931 1025.96 Q142.01 1024.22 138.908 1024.22 Q136.709 1024.22 134.256 1024.98 Q131.825 1025.75 129.047 1027.3 L129.047 1022.58 Q131.871 1021.44 134.325 1020.86 Q136.779 1020.29 138.816 1020.29 Q144.186 1020.29 147.38 1022.97 Q150.575 1025.66 150.575 1030.15 Q150.575 1032.28 149.765 1034.2 Q148.978 1036.1 146.871 1038.69 Q146.293 1039.36 143.191 1042.58 Q140.089 1045.77 134.441 1051.54 Z\" fill=\"#000000\" fill-rule=\"evenodd\" fill-opacity=\"1\" /><path clip-path=\"url(#clip170)\" d=\"M64.0708 820.226 Q60.4597 820.226 58.631 823.791 Q56.8254 827.333 56.8254 834.462 Q56.8254 841.569 58.631 845.133 Q60.4597 848.675 64.0708 848.675 Q67.705 848.675 69.5105 845.133 Q71.3392 841.569 71.3392 834.462 Q71.3392 827.333 69.5105 823.791 Q67.705 820.226 64.0708 820.226 M64.0708 816.522 Q69.8809 816.522 72.9365 821.129 Q76.0151 825.712 76.0151 834.462 Q76.0151 843.189 72.9365 847.795 Q69.8809 852.379 64.0708 852.379 Q58.2606 852.379 55.1819 847.795 Q52.1264 843.189 52.1264 834.462 Q52.1264 825.712 55.1819 821.129 Q58.2606 816.522 64.0708 816.522 Z\" fill=\"#000000\" fill-rule=\"evenodd\" fill-opacity=\"1\" /><path clip-path=\"url(#clip170)\" d=\"M84.2327 845.828 L89.1169 845.828 L89.1169 851.707 L84.2327 851.707 L84.2327 845.828 Z\" fill=\"#000000\" fill-rule=\"evenodd\" fill-opacity=\"1\" /><path clip-path=\"url(#clip170)\" d=\"M109.302 820.226 Q105.691 820.226 103.862 823.791 Q102.057 827.333 102.057 834.462 Q102.057 841.569 103.862 845.133 Q105.691 848.675 109.302 848.675 Q112.936 848.675 114.742 845.133 Q116.57 841.569 116.57 834.462 Q116.57 827.333 114.742 823.791 Q112.936 820.226 109.302 820.226 M109.302 816.522 Q115.112 816.522 118.168 821.129 Q121.246 825.712 121.246 834.462 Q121.246 843.189 118.168 847.795 Q115.112 852.379 109.302 852.379 Q103.492 852.379 100.413 847.795 Q97.3576 843.189 97.3576 834.462 Q97.3576 825.712 100.413 821.129 Q103.492 816.522 109.302 816.522 Z\" fill=\"#000000\" fill-rule=\"evenodd\" fill-opacity=\"1\" /><path clip-path=\"url(#clip170)\" d=\"M143.631 833.073 Q146.987 833.791 148.862 836.059 Q150.76 838.328 150.76 841.661 Q150.76 846.777 147.242 849.578 Q143.723 852.379 137.242 852.379 Q135.066 852.379 132.751 851.939 Q130.459 851.522 128.006 850.666 L128.006 846.152 Q129.95 847.286 132.265 847.865 Q134.58 848.444 137.103 848.444 Q141.501 848.444 143.793 846.707 Q146.107 844.971 146.107 841.661 Q146.107 838.606 143.955 836.893 Q141.825 835.157 138.006 835.157 L133.978 835.157 L133.978 831.314 L138.191 831.314 Q141.64 831.314 143.468 829.948 Q145.297 828.559 145.297 825.967 Q145.297 823.305 143.399 821.893 Q141.524 820.458 138.006 820.458 Q136.084 820.458 133.885 820.874 Q131.686 821.291 129.047 822.171 L129.047 818.004 Q131.709 817.263 134.024 816.893 Q136.362 816.522 138.422 816.522 Q143.746 816.522 146.848 818.953 Q149.95 821.36 149.95 825.481 Q149.95 828.351 148.306 830.342 Q146.663 832.309 143.631 833.073 Z\" fill=\"#000000\" fill-rule=\"evenodd\" fill-opacity=\"1\" /><path clip-path=\"url(#clip170)\" d=\"M62.9365 616.463 Q59.3254 616.463 57.4967 620.028 Q55.6912 623.57 55.6912 630.699 Q55.6912 637.806 57.4967 641.371 Q59.3254 644.912 62.9365 644.912 Q66.5707 644.912 68.3763 641.371 Q70.205 637.806 70.205 630.699 Q70.205 623.57 68.3763 620.028 Q66.5707 616.463 62.9365 616.463 M62.9365 612.76 Q68.7467 612.76 71.8022 617.366 Q74.8809 621.949 74.8809 630.699 Q74.8809 639.426 71.8022 644.033 Q68.7467 648.616 62.9365 648.616 Q57.1264 648.616 54.0477 644.033 Q50.9921 639.426 50.9921 630.699 Q50.9921 621.949 54.0477 617.366 Q57.1264 612.76 62.9365 612.76 Z\" fill=\"#000000\" fill-rule=\"evenodd\" fill-opacity=\"1\" /><path clip-path=\"url(#clip170)\" d=\"M83.0984 642.065 L87.9827 642.065 L87.9827 647.945 L83.0984 647.945 L83.0984 642.065 Z\" fill=\"#000000\" fill-rule=\"evenodd\" fill-opacity=\"1\" /><path clip-path=\"url(#clip170)\" d=\"M108.168 616.463 Q104.557 616.463 102.728 620.028 Q100.922 623.57 100.922 630.699 Q100.922 637.806 102.728 641.371 Q104.557 644.912 108.168 644.912 Q111.802 644.912 113.608 641.371 Q115.436 637.806 115.436 630.699 Q115.436 623.57 113.608 620.028 Q111.802 616.463 108.168 616.463 M108.168 612.76 Q113.978 612.76 117.033 617.366 Q120.112 621.949 120.112 630.699 Q120.112 639.426 117.033 644.033 Q113.978 648.616 108.168 648.616 Q102.358 648.616 99.2789 644.033 Q96.2234 639.426 96.2234 630.699 Q96.2234 621.949 99.2789 617.366 Q102.358 612.76 108.168 612.76 Z\" fill=\"#000000\" fill-rule=\"evenodd\" fill-opacity=\"1\" /><path clip-path=\"url(#clip170)\" d=\"M141.177 617.459 L129.371 635.908 L141.177 635.908 L141.177 617.459 M139.95 613.385 L145.83 613.385 L145.83 635.908 L150.76 635.908 L150.76 639.797 L145.83 639.797 L145.83 647.945 L141.177 647.945 L141.177 639.797 L125.575 639.797 L125.575 635.283 L139.95 613.385 Z\" fill=\"#000000\" fill-rule=\"evenodd\" fill-opacity=\"1\" /><path clip-path=\"url(#clip170)\" d=\"M64.418 412.701 Q60.8069 412.701 58.9782 416.265 Q57.1726 419.807 57.1726 426.937 Q57.1726 434.043 58.9782 437.608 Q60.8069 441.15 64.418 441.15 Q68.0522 441.15 69.8578 437.608 Q71.6865 434.043 71.6865 426.937 Q71.6865 419.807 69.8578 416.265 Q68.0522 412.701 64.418 412.701 M64.418 408.997 Q70.2281 408.997 73.2837 413.603 Q76.3624 418.187 76.3624 426.937 Q76.3624 435.663 73.2837 440.27 Q70.2281 444.853 64.418 444.853 Q58.6078 444.853 55.5291 440.27 Q52.4736 435.663 52.4736 426.937 Q52.4736 418.187 55.5291 413.603 Q58.6078 408.997 64.418 408.997 Z\" fill=\"#000000\" fill-rule=\"evenodd\" fill-opacity=\"1\" /><path clip-path=\"url(#clip170)\" d=\"M84.5799 438.302 L89.4641 438.302 L89.4641 444.182 L84.5799 444.182 L84.5799 438.302 Z\" fill=\"#000000\" fill-rule=\"evenodd\" fill-opacity=\"1\" /><path clip-path=\"url(#clip170)\" d=\"M109.649 412.701 Q106.038 412.701 104.209 416.265 Q102.404 419.807 102.404 426.937 Q102.404 434.043 104.209 437.608 Q106.038 441.15 109.649 441.15 Q113.283 441.15 115.089 437.608 Q116.918 434.043 116.918 426.937 Q116.918 419.807 115.089 416.265 Q113.283 412.701 109.649 412.701 M109.649 408.997 Q115.459 408.997 118.515 413.603 Q121.594 418.187 121.594 426.937 Q121.594 435.663 118.515 440.27 Q115.459 444.853 109.649 444.853 Q103.839 444.853 100.76 440.27 Q97.7048 435.663 97.7048 426.937 Q97.7048 418.187 100.76 413.603 Q103.839 408.997 109.649 408.997 Z\" fill=\"#000000\" fill-rule=\"evenodd\" fill-opacity=\"1\" /><path clip-path=\"url(#clip170)\" d=\"M129.857 409.622 L148.214 409.622 L148.214 413.557 L134.14 413.557 L134.14 422.029 Q135.158 421.682 136.177 421.52 Q137.195 421.335 138.214 421.335 Q144.001 421.335 147.38 424.506 Q150.76 427.677 150.76 433.094 Q150.76 438.673 147.288 441.775 Q143.816 444.853 137.496 444.853 Q135.32 444.853 133.052 444.483 Q130.807 444.112 128.399 443.372 L128.399 438.673 Q130.482 439.807 132.705 440.362 Q134.927 440.918 137.404 440.918 Q141.408 440.918 143.746 438.812 Q146.084 436.705 146.084 433.094 Q146.084 429.483 143.746 427.376 Q141.408 425.27 137.404 425.27 Q135.529 425.27 133.654 425.687 Q131.802 426.103 129.857 426.983 L129.857 409.622 Z\" fill=\"#000000\" fill-rule=\"evenodd\" fill-opacity=\"1\" /><path clip-path=\"url(#clip170)\" d=\"M63.2606 208.938 Q59.6495 208.938 57.8208 212.503 Q56.0152 216.044 56.0152 223.174 Q56.0152 230.28 57.8208 233.845 Q59.6495 237.387 63.2606 237.387 Q66.8948 237.387 68.7004 233.845 Q70.5291 230.28 70.5291 223.174 Q70.5291 216.044 68.7004 212.503 Q66.8948 208.938 63.2606 208.938 M63.2606 205.234 Q69.0707 205.234 72.1263 209.841 Q75.205 214.424 75.205 223.174 Q75.205 231.901 72.1263 236.507 Q69.0707 241.09 63.2606 241.09 Q57.4504 241.09 54.3717 236.507 Q51.3162 231.901 51.3162 223.174 Q51.3162 214.424 54.3717 209.841 Q57.4504 205.234 63.2606 205.234 Z\" fill=\"#000000\" fill-rule=\"evenodd\" fill-opacity=\"1\" /><path clip-path=\"url(#clip170)\" d=\"M83.4225 234.54 L88.3067 234.54 L88.3067 240.419 L83.4225 240.419 L83.4225 234.54 Z\" fill=\"#000000\" fill-rule=\"evenodd\" fill-opacity=\"1\" /><path clip-path=\"url(#clip170)\" d=\"M108.492 208.938 Q104.881 208.938 103.052 212.503 Q101.246 216.044 101.246 223.174 Q101.246 230.28 103.052 233.845 Q104.881 237.387 108.492 237.387 Q112.126 237.387 113.932 233.845 Q115.76 230.28 115.76 223.174 Q115.76 216.044 113.932 212.503 Q112.126 208.938 108.492 208.938 M108.492 205.234 Q114.302 205.234 117.358 209.841 Q120.436 214.424 120.436 223.174 Q120.436 231.901 117.358 236.507 Q114.302 241.09 108.492 241.09 Q102.682 241.09 99.603 236.507 Q96.5474 231.901 96.5474 223.174 Q96.5474 214.424 99.603 209.841 Q102.682 205.234 108.492 205.234 Z\" fill=\"#000000\" fill-rule=\"evenodd\" fill-opacity=\"1\" /><path clip-path=\"url(#clip170)\" d=\"M139.232 221.276 Q136.084 221.276 134.232 223.429 Q132.404 225.581 132.404 229.331 Q132.404 233.058 134.232 235.234 Q136.084 237.387 139.232 237.387 Q142.381 237.387 144.209 235.234 Q146.061 233.058 146.061 229.331 Q146.061 225.581 144.209 223.429 Q142.381 221.276 139.232 221.276 M148.515 206.623 L148.515 210.882 Q146.756 210.049 144.95 209.609 Q143.168 209.169 141.408 209.169 Q136.779 209.169 134.325 212.294 Q131.894 215.419 131.547 221.739 Q132.913 219.725 134.973 218.66 Q137.033 217.572 139.51 217.572 Q144.718 217.572 147.728 220.743 Q150.76 223.891 150.76 229.331 Q150.76 234.655 147.612 237.873 Q144.464 241.09 139.232 241.09 Q133.237 241.09 130.066 236.507 Q126.894 231.901 126.894 223.174 Q126.894 214.979 130.783 210.118 Q134.672 205.234 141.223 205.234 Q142.982 205.234 144.765 205.581 Q146.57 205.929 148.515 206.623 Z\" fill=\"#000000\" fill-rule=\"evenodd\" fill-opacity=\"1\" /><polyline clip-path=\"url(#clip172)\" style=\"stroke:#009af9; stroke-linecap:round; stroke-linejoin:round; stroke-width:4; stroke-opacity:1; fill:none\" points=\"\n",
       "  248.062,1445.72 254.714,1445.72 261.365,1445.72 322.871,1445.72 384.376,1445.72 421.339,1445.7 458.301,1444.97 473.926,1443.79 489.552,1441.67 505.178,1438.45 \n",
       "  520.803,1434.16 537.777,1428.5 554.751,1422.14 563.237,1418.83 571.724,1415.5 575.968,1413.84 580.211,1412.19 582.333,1411.37 584.455,1410.55 585.515,1410.15 \n",
       "  586.576,1409.74 587.107,1409.54 587.637,1409.34 588.168,1409.14 588.698,1261.93 589.187,1261.66 589.676,1261.4 590.165,1261.13 590.654,1260.87 591.632,1260.34 \n",
       "  592.61,1259.81 594.566,1258.74 596.522,1257.67 600.434,1255.51 604.346,1253.33 612.17,1248.93 619.995,1244.45 635.643,1235.26 651.291,1225.78 684.844,1204.39 \n",
       "  718.398,1181.58 757.272,1153.31 796.147,1123.08 830.694,1094.56 865.241,1064.51 895.536,1036.91 925.831,1008.17 958.861,975.602 991.89,941.793 1025.12,906.609 \n",
       "  1058.34,870.339 1131.81,786.827 1201.72,704.194 1274.4,616.58 1335.59,542.857 1410.29,454.805 1478.72,377.959 1510.32,344.247 1541.92,311.913 1573.93,280.752 \n",
       "  1605.94,251.374 1641.82,220.789 1677.69,192.9 1710.2,170.14 1742.71,149.922 1761.32,139.543 1779.93,130.064 1798.54,121.505 1817.15,113.885 1851.61,102.308 \n",
       "  1886.07,94.0958 1920.05,89.3531 1954.02,87.9763 1987.01,89.8698 2020,94.9326 2036.91,98.7455 2053.81,103.375 2070.72,108.813 2087.63,115.049 2096.89,118.799 \n",
       "  2106.15,122.784 2110.79,124.863 2115.42,127 2116.58,127.544 2117.73,128.09 2118.31,128.365 2118.89,128.641 2119.47,128.917 2120.05,129.195 2120.63,129.473 \n",
       "  2121.21,1445.72 2121.79,1445.72 2122.36,1445.72 2123.52,1445.72 2124.68,1445.72 2127,1445.72 2129.31,1445.72 2131.63,1445.72 2133.94,1445.72 2138.57,1445.72 \n",
       "  2143.2,1445.72 2152.47,1445.72 2161.73,1445.72 2215.55,1445.72 2269.37,1445.72 2280.41,1445.72 2291.45,1445.72 \n",
       "  \"/>\n",
       "<path clip-path=\"url(#clip170)\" d=\"\n",
       "M258.96 198.898 L527.99 198.898 L527.99 95.2176 L258.96 95.2176  Z\n",
       "  \" fill=\"#ffffff\" fill-rule=\"evenodd\" fill-opacity=\"1\"/>\n",
       "<polyline clip-path=\"url(#clip170)\" style=\"stroke:#000000; stroke-linecap:round; stroke-linejoin:round; stroke-width:4; stroke-opacity:1; fill:none\" points=\"\n",
       "  258.96,198.898 527.99,198.898 527.99,95.2176 258.96,95.2176 258.96,198.898 \n",
       "  \"/>\n",
       "<polyline clip-path=\"url(#clip170)\" style=\"stroke:#009af9; stroke-linecap:round; stroke-linejoin:round; stroke-width:4; stroke-opacity:1; fill:none\" points=\"\n",
       "  283.027,147.058 427.426,147.058 \n",
       "  \"/>\n",
       "<path clip-path=\"url(#clip170)\" d=\"M465.335 166.745 Q463.53 171.375 461.817 172.787 Q460.104 174.199 457.234 174.199 L453.831 174.199 L453.831 170.634 L456.331 170.634 Q458.09 170.634 459.062 169.8 Q460.035 168.967 461.215 165.865 L461.979 163.921 L451.493 138.412 L456.007 138.412 L464.109 158.689 L472.21 138.412 L476.724 138.412 L465.335 166.745 Z\" fill=\"#000000\" fill-rule=\"evenodd\" fill-opacity=\"1\" /><path clip-path=\"url(#clip170)\" d=\"M484.016 160.402 L491.655 160.402 L491.655 134.037 L483.345 135.703 L483.345 131.444 L491.608 129.778 L496.284 129.778 L496.284 160.402 L503.923 160.402 L503.923 164.338 L484.016 164.338 L484.016 160.402 Z\" fill=\"#000000\" fill-rule=\"evenodd\" fill-opacity=\"1\" /></svg>\n"
      ]
     },
     "execution_count": 20,
     "metadata": {},
     "output_type": "execute_result"
    }
   ],
   "source": [
    "function dQ(s, r, G)\n",
    "      if s >= 55/2\n",
    "        return 0\n",
    "    elseif s <= 0\n",
    "        return 0\n",
    "    elseif r <= 0\n",
    "        return 0\n",
    "    elseif s >= r\n",
    "        return  pdf(G, (r-s+55/2)/r)*(1/r)\n",
    "    else\n",
    "        return pdf(G, 55/(2*s))*(1/s^2)\n",
    "    end\n",
    "end\n",
    "\n",
    "plot(x -> dQ(x,5,G),0,30)"
   ]
  },
  {
   "cell_type": "markdown",
   "id": "0e3df325-3a67-40a8-a41a-b962f558389e",
   "metadata": {},
   "source": [
    "\n",
    "The next bit we need to code is the calculation of the 'probability' of a proposer's offer.  As above, the loss aversion parameter of a proposer who offers $s$ is given by\n",
    "$$\n",
    "\\lambda = \\frac{2Q(s)(1+2\\alpha)}{Q^\\prime(s)} - 2(1-s(1+2\\alpha)) + 1 \n",
    "$$\n",
    "\n",
    "\n",
    "Before we get to this function, notice that there is a $Q^\\prime$ in the denominator of the first term in this expression. If you looked at plots of the $Q$ function above you will notice there are flat spots we'll need to deal with.  To do this, notice that offers at or above $\\frac{1}{2}$ are always accepted.\n",
    "\n",
    "There are actually a lot of proposer types whose loss aversion parameter is so high, they will optimally make an offer of $\\frac{1}{2}$ or even higher if they make a mistake (there was one offer of 49, which probably means the proposer didn't understand the payoff function).  So there is some pooling.  \n",
    "\n",
    "The way we'll deal with this is to treat all offers above $\\frac{55}{2}$ as if they were made by proposers who want their offer to be accepted for sure.  So the distribution of offers will have a mass point at $\\frac{55}{2}$.\n",
    "\n",
    "Similarly, you'll notice that the probability of acceptance function has a 'kink' at the reference point $r$, which means there will also be a mass point there.  To find a likelihood we'll have to calculate these masses.  The probabilities for all the other offers will be represented by densities.\n",
    "\n",
    "We next need to calculate the size of these mass points.\n",
    "\n"
   ]
  },
  {
   "cell_type": "markdown",
   "id": "18a03c47-47ec-4f6d-a25c-61e24d1a41c2",
   "metadata": {},
   "source": [
    "Start with the mass at $\\frac{55}{2}$.  The lowest loss aversion parameter that would cause a proposer to offer this is given by finding the one  whose indifference curve is just rangent to the $Q(s)$ function at the offer that gives the responder half the surplus  $s=\\frac{1}{2}$\n",
    "\n",
    "This parameter can be calculated from the equation\n",
    "$$\n",
    "\\lambda = \\frac{2Q(s)(1+2\\alpha)}{Q^\\prime(s)} - 2(1-s(1+2\\alpha)) + 1 \n",
    "$$\n",
    "by setting $s = \\frac{1}{2}$.\n",
    "\n",
    "So \n",
    "$$\n",
    "\\lambda = \\frac{2(1+2\\alpha)}{Q^\\prime(\\frac{1}{2})} -2(1-\\frac{1}{2}-\\alpha) + 1\n",
    "$$"
   ]
  },
  {
   "cell_type": "code",
   "execution_count": 28,
   "id": "a7b5c977-38d0-4b9e-a113-4071d2eba199",
   "metadata": {},
   "outputs": [
    {
     "data": {
      "text/plain": [
       "type (generic function with 1 method)"
      ]
     },
     "execution_count": 28,
     "metadata": {},
     "output_type": "execute_result"
    }
   ],
   "source": [
    "function type(s, r, G, alpha)\n",
    "    return   (2*Q(s,r,G)*(1+2*alpha))/dQ(s,r,G) -2*(1-2*(1+2*alpha)) + 1\n",
    "end\n"
   ]
  },
  {
   "cell_type": "code",
   "execution_count": null,
   "id": "dd402a90-c23b-41bf-9d0c-30aaf836a0f6",
   "metadata": {},
   "outputs": [],
   "source": [
    "type"
   ]
  }
 ],
 "metadata": {
  "kernelspec": {
   "display_name": "Julia 1.8.5",
   "language": "julia",
   "name": "julia-1.8"
  },
  "language_info": {
   "file_extension": ".jl",
   "mimetype": "application/julia",
   "name": "julia",
   "version": "1.8.5"
  }
 },
 "nbformat": 4,
 "nbformat_minor": 5
}
