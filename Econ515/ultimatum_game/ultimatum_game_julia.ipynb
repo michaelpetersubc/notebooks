{
 "cells": [
  {
   "cell_type": "code",
   "execution_count": 1,
   "id": "3593ded8-761f-4fc3-9762-bfefc1703c6d",
   "metadata": {},
   "outputs": [
    {
     "data": {
      "text/plain": [
       "DataFrame"
      ]
     },
     "execution_count": 1,
     "metadata": {},
     "output_type": "execute_result"
    }
   ],
   "source": [
    "#using Pkg\n",
    "#Pkg.add(\"DataFrames\")\n",
    "#Pkg.add(\"CSV\")\n",
    "#Pkg.add(\"Statistics\")\n",
    "#or StatsBase.jl:\n",
    "using DataFrames, CSV, Statistics\n",
    "dataset = CSV.read(\"datamerged2.csv\", DataFrame)\n",
    "typeof(dataset)"
   ]
  },
  {
   "cell_type": "code",
   "execution_count": 2,
   "id": "1ff16af6-7b29-4cc4-bbb4-76c61a093ccc",
   "metadata": {},
   "outputs": [
    {
     "data": {
      "text/html": [
       "<div><div style = \"float: left;\"><span>9×7 DataFrame</span></div><div style = \"clear: both;\"></div></div><div class = \"data-frame\" style = \"overflow-x: scroll;\"><table class = \"data-frame\" style = \"margin-bottom: 6px;\"><thead><tr class = \"header\"><th class = \"rowNumber\" style = \"font-weight: bold; text-align: right;\">Row</th><th style = \"text-align: left;\">variable</th><th style = \"text-align: left;\">mean</th><th style = \"text-align: left;\">min</th><th style = \"text-align: left;\">median</th><th style = \"text-align: left;\">max</th><th style = \"text-align: left;\">nmissing</th><th style = \"text-align: left;\">eltype</th></tr><tr class = \"subheader headerLastRow\"><th class = \"rowNumber\" style = \"font-weight: bold; text-align: right;\"></th><th title = \"Symbol\" style = \"text-align: left;\">Symbol</th><th title = \"Float64\" style = \"text-align: left;\">Float64</th><th title = \"Real\" style = \"text-align: left;\">Real</th><th title = \"Float64\" style = \"text-align: left;\">Float64</th><th title = \"Real\" style = \"text-align: left;\">Real</th><th title = \"Int64\" style = \"text-align: left;\">Int64</th><th title = \"DataType\" style = \"text-align: left;\">DataType</th></tr></thead><tbody><tr><td class = \"rowNumber\" style = \"font-weight: bold; text-align: right;\">1</td><td style = \"text-align: left;\">id</td><td style = \"text-align: right;\">136.852</td><td style = \"text-align: right;\">1</td><td style = \"text-align: right;\">133.0</td><td style = \"text-align: right;\">276</td><td style = \"text-align: right;\">0</td><td style = \"text-align: left;\">Int64</td></tr><tr><td class = \"rowNumber\" style = \"font-weight: bold; text-align: right;\">2</td><td style = \"text-align: left;\">treatment</td><td style = \"text-align: right;\">2.42475</td><td style = \"text-align: right;\">1</td><td style = \"text-align: right;\">3.0</td><td style = \"text-align: right;\">4</td><td style = \"text-align: right;\">0</td><td style = \"text-align: left;\">Int64</td></tr><tr><td class = \"rowNumber\" style = \"font-weight: bold; text-align: right;\">3</td><td style = \"text-align: left;\">tofrom</td><td style = \"text-align: right;\">144.308</td><td style = \"text-align: right;\">6</td><td style = \"text-align: right;\">145.0</td><td style = \"text-align: right;\">288</td><td style = \"text-align: right;\">0</td><td style = \"text-align: left;\">Int64</td></tr><tr><td class = \"rowNumber\" style = \"font-weight: bold; text-align: right;\">4</td><td style = \"text-align: left;\">value</td><td style = \"text-align: right;\">18.7922</td><td style = \"text-align: right;\">0.0</td><td style = \"text-align: right;\">20.0</td><td style = \"text-align: right;\">49.0</td><td style = \"text-align: right;\">0</td><td style = \"text-align: left;\">Float64</td></tr><tr><td class = \"rowNumber\" style = \"font-weight: bold; text-align: right;\">5</td><td style = \"text-align: left;\">role</td><td style = \"text-align: right;\">0.0</td><td style = \"text-align: right;\">0</td><td style = \"text-align: right;\">0.0</td><td style = \"text-align: right;\">0</td><td style = \"text-align: right;\">0</td><td style = \"text-align: left;\">Int64</td></tr><tr><td class = \"rowNumber\" style = \"font-weight: bold; text-align: right;\">6</td><td style = \"text-align: left;\">resp</td><td style = \"text-align: right;\">0.81462</td><td style = \"text-align: right;\">0</td><td style = \"text-align: right;\">1.0</td><td style = \"text-align: right;\">1</td><td style = \"text-align: right;\">0</td><td style = \"text-align: left;\">Int64</td></tr><tr><td class = \"rowNumber\" style = \"font-weight: bold; text-align: right;\">7</td><td style = \"text-align: left;\">round</td><td style = \"text-align: right;\">1.60774</td><td style = \"text-align: right;\">1</td><td style = \"text-align: right;\">2.0</td><td style = \"text-align: right;\">3</td><td style = \"text-align: right;\">0</td><td style = \"text-align: left;\">Int64</td></tr><tr><td class = \"rowNumber\" style = \"font-weight: bold; text-align: right;\">8</td><td style = \"text-align: left;\">rounds</td><td style = \"text-align: right;\">2.215</td><td style = \"text-align: right;\">2</td><td style = \"text-align: right;\">2.0</td><td style = \"text-align: right;\">3</td><td style = \"text-align: right;\">0</td><td style = \"text-align: left;\">Int64</td></tr><tr><td class = \"rowNumber\" style = \"font-weight: bold; text-align: right;\">9</td><td style = \"text-align: left;\">old</td><td style = \"text-align: right;\">0.701386</td><td style = \"text-align: right;\">0</td><td style = \"text-align: right;\">1.0</td><td style = \"text-align: right;\">2</td><td style = \"text-align: right;\">0</td><td style = \"text-align: left;\">Int64</td></tr></tbody></table></div>"
      ],
      "text/latex": [
       "\\begin{tabular}{r|ccccccc}\n",
       "\t& variable & mean & min & median & max & nmissing & eltype\\\\\n",
       "\t\\hline\n",
       "\t& Symbol & Float64 & Real & Float64 & Real & Int64 & DataType\\\\\n",
       "\t\\hline\n",
       "\t1 & id & 136.852 & 1 & 133.0 & 276 & 0 & Int64 \\\\\n",
       "\t2 & treatment & 2.42475 & 1 & 3.0 & 4 & 0 & Int64 \\\\\n",
       "\t3 & tofrom & 144.308 & 6 & 145.0 & 288 & 0 & Int64 \\\\\n",
       "\t4 & value & 18.7922 & 0.0 & 20.0 & 49.0 & 0 & Float64 \\\\\n",
       "\t5 & role & 0.0 & 0 & 0.0 & 0 & 0 & Int64 \\\\\n",
       "\t6 & resp & 0.81462 & 0 & 1.0 & 1 & 0 & Int64 \\\\\n",
       "\t7 & round & 1.60774 & 1 & 2.0 & 3 & 0 & Int64 \\\\\n",
       "\t8 & rounds & 2.215 & 2 & 2.0 & 3 & 0 & Int64 \\\\\n",
       "\t9 & old & 0.701386 & 0 & 1.0 & 2 & 0 & Int64 \\\\\n",
       "\\end{tabular}\n"
      ],
      "text/plain": [
       "\u001b[1m9×7 DataFrame\u001b[0m\n",
       "\u001b[1m Row \u001b[0m│\u001b[1m variable  \u001b[0m\u001b[1m mean       \u001b[0m\u001b[1m min  \u001b[0m\u001b[1m median  \u001b[0m\u001b[1m max   \u001b[0m\u001b[1m nmissing \u001b[0m\u001b[1m eltype   \u001b[0m\n",
       "     │\u001b[90m Symbol    \u001b[0m\u001b[90m Float64    \u001b[0m\u001b[90m Real \u001b[0m\u001b[90m Float64 \u001b[0m\u001b[90m Real  \u001b[0m\u001b[90m Int64    \u001b[0m\u001b[90m DataType \u001b[0m\n",
       "─────┼─────────────────────────────────────────────────────────────────\n",
       "   1 │ id         136.852      1      133.0  276           0  Int64\n",
       "   2 │ treatment    2.42475    1        3.0    4           0  Int64\n",
       "   3 │ tofrom     144.308      6      145.0  288           0  Int64\n",
       "   4 │ value       18.7922     0.0     20.0   49.0         0  Float64\n",
       "   5 │ role         0.0        0        0.0    0           0  Int64\n",
       "   6 │ resp         0.81462    0        1.0    1           0  Int64\n",
       "   7 │ round        1.60774    1        2.0    3           0  Int64\n",
       "   8 │ rounds       2.215      2        2.0    3           0  Int64\n",
       "   9 │ old          0.701386   0        1.0    2           0  Int64"
      ]
     },
     "execution_count": 2,
     "metadata": {},
     "output_type": "execute_result"
    }
   ],
   "source": [
    "describe(dataset)"
   ]
  },
  {
   "cell_type": "code",
   "execution_count": 16,
   "id": "bb4e8093-3f85-4c46-ab80-b657b4e627b8",
   "metadata": {},
   "outputs": [
    {
     "data": {
      "text/html": [
       "<div><div style = \"float: left;\"><span>144×2 DataFrame</span></div><div style = \"float: right;\"><span style = \"font-style: italic;\">119 rows omitted</span></div><div style = \"clear: both;\"></div></div><div class = \"data-frame\" style = \"overflow-x: scroll;\"><table class = \"data-frame\" style = \"margin-bottom: 6px;\"><thead><tr class = \"header\"><th class = \"rowNumber\" style = \"font-weight: bold; text-align: right;\">Row</th><th style = \"text-align: left;\">id</th><th style = \"text-align: left;\">value_mean</th></tr><tr class = \"subheader headerLastRow\"><th class = \"rowNumber\" style = \"font-weight: bold; text-align: right;\"></th><th title = \"Int64\" style = \"text-align: left;\">Int64</th><th title = \"Float64\" style = \"text-align: left;\">Float64</th></tr></thead><tbody><tr><td class = \"rowNumber\" style = \"font-weight: bold; text-align: right;\">1</td><td style = \"text-align: right;\">1</td><td style = \"text-align: right;\">20.0</td></tr><tr><td class = \"rowNumber\" style = \"font-weight: bold; text-align: right;\">2</td><td style = \"text-align: right;\">2</td><td style = \"text-align: right;\">18.0375</td></tr><tr><td class = \"rowNumber\" style = \"font-weight: bold; text-align: right;\">3</td><td style = \"text-align: right;\">3</td><td style = \"text-align: right;\">25.5</td></tr><tr><td class = \"rowNumber\" style = \"font-weight: bold; text-align: right;\">4</td><td style = \"text-align: right;\">4</td><td style = \"text-align: right;\">13.7875</td></tr><tr><td class = \"rowNumber\" style = \"font-weight: bold; text-align: right;\">5</td><td style = \"text-align: right;\">5</td><td style = \"text-align: right;\">14.0</td></tr><tr><td class = \"rowNumber\" style = \"font-weight: bold; text-align: right;\">6</td><td style = \"text-align: right;\">7</td><td style = \"text-align: right;\">17.9</td></tr><tr><td class = \"rowNumber\" style = \"font-weight: bold; text-align: right;\">7</td><td style = \"text-align: right;\">8</td><td style = \"text-align: right;\">9.0</td></tr><tr><td class = \"rowNumber\" style = \"font-weight: bold; text-align: right;\">8</td><td style = \"text-align: right;\">12</td><td style = \"text-align: right;\">17.3125</td></tr><tr><td class = \"rowNumber\" style = \"font-weight: bold; text-align: right;\">9</td><td style = \"text-align: right;\">15</td><td style = \"text-align: right;\">17.1313</td></tr><tr><td class = \"rowNumber\" style = \"font-weight: bold; text-align: right;\">10</td><td style = \"text-align: right;\">20</td><td style = \"text-align: right;\">25.8125</td></tr><tr><td class = \"rowNumber\" style = \"font-weight: bold; text-align: right;\">11</td><td style = \"text-align: right;\">21</td><td style = \"text-align: right;\">15.0</td></tr><tr><td class = \"rowNumber\" style = \"font-weight: bold; text-align: right;\">12</td><td style = \"text-align: right;\">22</td><td style = \"text-align: right;\">27.0125</td></tr><tr><td class = \"rowNumber\" style = \"font-weight: bold; text-align: right;\">13</td><td style = \"text-align: right;\">24</td><td style = \"text-align: right;\">6.6375</td></tr><tr><td style = \"text-align: right;\">&vellip;</td><td style = \"text-align: right;\">&vellip;</td><td style = \"text-align: right;\">&vellip;</td></tr><tr><td class = \"rowNumber\" style = \"font-weight: bold; text-align: right;\">133</td><td style = \"text-align: right;\">265</td><td style = \"text-align: right;\">10.0</td></tr><tr><td class = \"rowNumber\" style = \"font-weight: bold; text-align: right;\">134</td><td style = \"text-align: right;\">266</td><td style = \"text-align: right;\">10.7143</td></tr><tr><td class = \"rowNumber\" style = \"font-weight: bold; text-align: right;\">135</td><td style = \"text-align: right;\">267</td><td style = \"text-align: right;\">13.5714</td></tr><tr><td class = \"rowNumber\" style = \"font-weight: bold; text-align: right;\">136</td><td style = \"text-align: right;\">268</td><td style = \"text-align: right;\">13.5714</td></tr><tr><td class = \"rowNumber\" style = \"font-weight: bold; text-align: right;\">137</td><td style = \"text-align: right;\">269</td><td style = \"text-align: right;\">10.0</td></tr><tr><td class = \"rowNumber\" style = \"font-weight: bold; text-align: right;\">138</td><td style = \"text-align: right;\">270</td><td style = \"text-align: right;\">18.5714</td></tr><tr><td class = \"rowNumber\" style = \"font-weight: bold; text-align: right;\">139</td><td style = \"text-align: right;\">271</td><td style = \"text-align: right;\">27.1429</td></tr><tr><td class = \"rowNumber\" style = \"font-weight: bold; text-align: right;\">140</td><td style = \"text-align: right;\">272</td><td style = \"text-align: right;\">12.8571</td></tr><tr><td class = \"rowNumber\" style = \"font-weight: bold; text-align: right;\">141</td><td style = \"text-align: right;\">273</td><td style = \"text-align: right;\">8.57143</td></tr><tr><td class = \"rowNumber\" style = \"font-weight: bold; text-align: right;\">142</td><td style = \"text-align: right;\">274</td><td style = \"text-align: right;\">15.0</td></tr><tr><td class = \"rowNumber\" style = \"font-weight: bold; text-align: right;\">143</td><td style = \"text-align: right;\">275</td><td style = \"text-align: right;\">20.0</td></tr><tr><td class = \"rowNumber\" style = \"font-weight: bold; text-align: right;\">144</td><td style = \"text-align: right;\">276</td><td style = \"text-align: right;\">11.7857</td></tr></tbody></table></div>"
      ],
      "text/latex": [
       "\\begin{tabular}{r|cc}\n",
       "\t& id & value\\_mean\\\\\n",
       "\t\\hline\n",
       "\t& Int64 & Float64\\\\\n",
       "\t\\hline\n",
       "\t1 & 1 & 20.0 \\\\\n",
       "\t2 & 2 & 18.0375 \\\\\n",
       "\t3 & 3 & 25.5 \\\\\n",
       "\t4 & 4 & 13.7875 \\\\\n",
       "\t5 & 5 & 14.0 \\\\\n",
       "\t6 & 7 & 17.9 \\\\\n",
       "\t7 & 8 & 9.0 \\\\\n",
       "\t8 & 12 & 17.3125 \\\\\n",
       "\t9 & 15 & 17.1313 \\\\\n",
       "\t10 & 20 & 25.8125 \\\\\n",
       "\t11 & 21 & 15.0 \\\\\n",
       "\t12 & 22 & 27.0125 \\\\\n",
       "\t13 & 24 & 6.6375 \\\\\n",
       "\t14 & 25 & 21.25 \\\\\n",
       "\t15 & 29 & 16.6875 \\\\\n",
       "\t16 & 30 & 22.7625 \\\\\n",
       "\t17 & 33 & 14.4 \\\\\n",
       "\t18 & 35 & 17.5938 \\\\\n",
       "\t19 & 37 & 22.0 \\\\\n",
       "\t20 & 40 & 15.5813 \\\\\n",
       "\t21 & 41 & 23.975 \\\\\n",
       "\t22 & 43 & 15.125 \\\\\n",
       "\t23 & 44 & 10.0 \\\\\n",
       "\t24 & 47 & 15.2375 \\\\\n",
       "\t25 & 51 & 21.8625 \\\\\n",
       "\t26 & 53 & 16.6562 \\\\\n",
       "\t27 & 54 & 10.625 \\\\\n",
       "\t28 & 55 & 17.9062 \\\\\n",
       "\t29 & 58 & 14.25 \\\\\n",
       "\t30 & 59 & 20.0 \\\\\n",
       "\t$\\dots$ & $\\dots$ & $\\dots$ \\\\\n",
       "\\end{tabular}\n"
      ],
      "text/plain": [
       "\u001b[1m144×2 DataFrame\u001b[0m\n",
       "\u001b[1m Row \u001b[0m│\u001b[1m id    \u001b[0m\u001b[1m value_mean \u001b[0m\n",
       "     │\u001b[90m Int64 \u001b[0m\u001b[90m Float64    \u001b[0m\n",
       "─────┼───────────────────\n",
       "   1 │     1    20.0\n",
       "   2 │     2    18.0375\n",
       "   3 │     3    25.5\n",
       "   4 │     4    13.7875\n",
       "   5 │     5    14.0\n",
       "   6 │     7    17.9\n",
       "   7 │     8     9.0\n",
       "   8 │    12    17.3125\n",
       "   9 │    15    17.1313\n",
       "  10 │    20    25.8125\n",
       "  11 │    21    15.0\n",
       "  ⋮  │   ⋮        ⋮\n",
       " 135 │   267    13.5714\n",
       " 136 │   268    13.5714\n",
       " 137 │   269    10.0\n",
       " 138 │   270    18.5714\n",
       " 139 │   271    27.1429\n",
       " 140 │   272    12.8571\n",
       " 141 │   273     8.57143\n",
       " 142 │   274    15.0\n",
       " 143 │   275    20.0\n",
       " 144 │   276    11.7857\n",
       "\u001b[36m         123 rows omitted\u001b[0m"
      ]
     },
     "execution_count": 16,
     "metadata": {},
     "output_type": "execute_result"
    }
   ],
   "source": [
    "r0 = filter( row -> row.round == 2 && row.treatment ==1, dataset);\n",
    "subset = groupby(dataset, :id);\n",
    "offers = combine(subset, :value => mean)"
   ]
  },
  {
   "cell_type": "code",
   "execution_count": 4,
   "id": "edb0fee5-69e9-45ea-8ed7-65874bdc30fc",
   "metadata": {},
   "outputs": [],
   "source": [
    "\n",
    "    "
   ]
  },
  {
   "cell_type": "code",
   "execution_count": 12,
   "id": "0f32d29e-7556-4d3c-8fd7-63ba409f7cda",
   "metadata": {},
   "outputs": [
    {
     "data": {
      "text/html": [
       "<div><div style = \"float: left;\"><span>285×9 DataFrame</span></div><div style = \"float: right;\"><span style = \"font-style: italic;\">260 rows omitted</span></div><div style = \"clear: both;\"></div></div><div class = \"data-frame\" style = \"overflow-x: scroll;\"><table class = \"data-frame\" style = \"margin-bottom: 6px;\"><thead><tr class = \"header\"><th class = \"rowNumber\" style = \"font-weight: bold; text-align: right;\">Row</th><th style = \"text-align: left;\">id</th><th style = \"text-align: left;\">treatment</th><th style = \"text-align: left;\">tofrom</th><th style = \"text-align: left;\">value</th><th style = \"text-align: left;\">role</th><th style = \"text-align: left;\">resp</th><th style = \"text-align: left;\">round</th><th style = \"text-align: left;\">rounds</th><th style = \"text-align: left;\">old</th></tr><tr class = \"subheader headerLastRow\"><th class = \"rowNumber\" style = \"font-weight: bold; text-align: right;\"></th><th title = \"Int64\" style = \"text-align: left;\">Int64</th><th title = \"Int64\" style = \"text-align: left;\">Int64</th><th title = \"Int64\" style = \"text-align: left;\">Int64</th><th title = \"Float64\" style = \"text-align: left;\">Float64</th><th title = \"Int64\" style = \"text-align: left;\">Int64</th><th title = \"Int64\" style = \"text-align: left;\">Int64</th><th title = \"Int64\" style = \"text-align: left;\">Int64</th><th title = \"Int64\" style = \"text-align: left;\">Int64</th><th title = \"Int64\" style = \"text-align: left;\">Int64</th></tr></thead><tbody><tr><td class = \"rowNumber\" style = \"font-weight: bold; text-align: right;\">1</td><td style = \"text-align: right;\">1</td><td style = \"text-align: right;\">1</td><td style = \"text-align: right;\">18</td><td style = \"text-align: right;\">20.0</td><td style = \"text-align: right;\">0</td><td style = \"text-align: right;\">1</td><td style = \"text-align: right;\">2</td><td style = \"text-align: right;\">2</td><td style = \"text-align: right;\">0</td></tr><tr><td class = \"rowNumber\" style = \"font-weight: bold; text-align: right;\">2</td><td style = \"text-align: right;\">1</td><td style = \"text-align: right;\">1</td><td style = \"text-align: right;\">19</td><td style = \"text-align: right;\">20.0</td><td style = \"text-align: right;\">0</td><td style = \"text-align: right;\">1</td><td style = \"text-align: right;\">2</td><td style = \"text-align: right;\">2</td><td style = \"text-align: right;\">0</td></tr><tr><td class = \"rowNumber\" style = \"font-weight: bold; text-align: right;\">3</td><td style = \"text-align: right;\">1</td><td style = \"text-align: right;\">1</td><td style = \"text-align: right;\">23</td><td style = \"text-align: right;\">20.0</td><td style = \"text-align: right;\">0</td><td style = \"text-align: right;\">1</td><td style = \"text-align: right;\">2</td><td style = \"text-align: right;\">2</td><td style = \"text-align: right;\">0</td></tr><tr><td class = \"rowNumber\" style = \"font-weight: bold; text-align: right;\">4</td><td style = \"text-align: right;\">1</td><td style = \"text-align: right;\">1</td><td style = \"text-align: right;\">26</td><td style = \"text-align: right;\">20.0</td><td style = \"text-align: right;\">0</td><td style = \"text-align: right;\">1</td><td style = \"text-align: right;\">2</td><td style = \"text-align: right;\">2</td><td style = \"text-align: right;\">0</td></tr><tr><td class = \"rowNumber\" style = \"font-weight: bold; text-align: right;\">5</td><td style = \"text-align: right;\">1</td><td style = \"text-align: right;\">1</td><td style = \"text-align: right;\">27</td><td style = \"text-align: right;\">20.0</td><td style = \"text-align: right;\">0</td><td style = \"text-align: right;\">1</td><td style = \"text-align: right;\">2</td><td style = \"text-align: right;\">2</td><td style = \"text-align: right;\">0</td></tr><tr><td class = \"rowNumber\" style = \"font-weight: bold; text-align: right;\">6</td><td style = \"text-align: right;\">1</td><td style = \"text-align: right;\">1</td><td style = \"text-align: right;\">28</td><td style = \"text-align: right;\">20.0</td><td style = \"text-align: right;\">0</td><td style = \"text-align: right;\">1</td><td style = \"text-align: right;\">2</td><td style = \"text-align: right;\">2</td><td style = \"text-align: right;\">0</td></tr><tr><td class = \"rowNumber\" style = \"font-weight: bold; text-align: right;\">7</td><td style = \"text-align: right;\">1</td><td style = \"text-align: right;\">1</td><td style = \"text-align: right;\">31</td><td style = \"text-align: right;\">20.0</td><td style = \"text-align: right;\">0</td><td style = \"text-align: right;\">1</td><td style = \"text-align: right;\">2</td><td style = \"text-align: right;\">2</td><td style = \"text-align: right;\">0</td></tr><tr><td class = \"rowNumber\" style = \"font-weight: bold; text-align: right;\">8</td><td style = \"text-align: right;\">1</td><td style = \"text-align: right;\">1</td><td style = \"text-align: right;\">32</td><td style = \"text-align: right;\">20.0</td><td style = \"text-align: right;\">0</td><td style = \"text-align: right;\">1</td><td style = \"text-align: right;\">2</td><td style = \"text-align: right;\">2</td><td style = \"text-align: right;\">0</td></tr><tr><td class = \"rowNumber\" style = \"font-weight: bold; text-align: right;\">9</td><td style = \"text-align: right;\">2</td><td style = \"text-align: right;\">1</td><td style = \"text-align: right;\">19</td><td style = \"text-align: right;\">16.0</td><td style = \"text-align: right;\">0</td><td style = \"text-align: right;\">1</td><td style = \"text-align: right;\">2</td><td style = \"text-align: right;\">2</td><td style = \"text-align: right;\">0</td></tr><tr><td class = \"rowNumber\" style = \"font-weight: bold; text-align: right;\">10</td><td style = \"text-align: right;\">2</td><td style = \"text-align: right;\">1</td><td style = \"text-align: right;\">23</td><td style = \"text-align: right;\">16.0</td><td style = \"text-align: right;\">0</td><td style = \"text-align: right;\">1</td><td style = \"text-align: right;\">2</td><td style = \"text-align: right;\">2</td><td style = \"text-align: right;\">0</td></tr><tr><td class = \"rowNumber\" style = \"font-weight: bold; text-align: right;\">11</td><td style = \"text-align: right;\">2</td><td style = \"text-align: right;\">1</td><td style = \"text-align: right;\">26</td><td style = \"text-align: right;\">16.0</td><td style = \"text-align: right;\">0</td><td style = \"text-align: right;\">1</td><td style = \"text-align: right;\">2</td><td style = \"text-align: right;\">2</td><td style = \"text-align: right;\">0</td></tr><tr><td class = \"rowNumber\" style = \"font-weight: bold; text-align: right;\">12</td><td style = \"text-align: right;\">2</td><td style = \"text-align: right;\">1</td><td style = \"text-align: right;\">27</td><td style = \"text-align: right;\">16.0</td><td style = \"text-align: right;\">0</td><td style = \"text-align: right;\">1</td><td style = \"text-align: right;\">2</td><td style = \"text-align: right;\">2</td><td style = \"text-align: right;\">0</td></tr><tr><td class = \"rowNumber\" style = \"font-weight: bold; text-align: right;\">13</td><td style = \"text-align: right;\">2</td><td style = \"text-align: right;\">1</td><td style = \"text-align: right;\">28</td><td style = \"text-align: right;\">16.0</td><td style = \"text-align: right;\">0</td><td style = \"text-align: right;\">1</td><td style = \"text-align: right;\">2</td><td style = \"text-align: right;\">2</td><td style = \"text-align: right;\">0</td></tr><tr><td style = \"text-align: right;\">&vellip;</td><td style = \"text-align: right;\">&vellip;</td><td style = \"text-align: right;\">&vellip;</td><td style = \"text-align: right;\">&vellip;</td><td style = \"text-align: right;\">&vellip;</td><td style = \"text-align: right;\">&vellip;</td><td style = \"text-align: right;\">&vellip;</td><td style = \"text-align: right;\">&vellip;</td><td style = \"text-align: right;\">&vellip;</td><td style = \"text-align: right;\">&vellip;</td></tr><tr><td class = \"rowNumber\" style = \"font-weight: bold; text-align: right;\">274</td><td style = \"text-align: right;\">246</td><td style = \"text-align: right;\">1</td><td style = \"text-align: right;\">252</td><td style = \"text-align: right;\">20.0</td><td style = \"text-align: right;\">0</td><td style = \"text-align: right;\">1</td><td style = \"text-align: right;\">2</td><td style = \"text-align: right;\">2</td><td style = \"text-align: right;\">2</td></tr><tr><td class = \"rowNumber\" style = \"font-weight: bold; text-align: right;\">275</td><td style = \"text-align: right;\">246</td><td style = \"text-align: right;\">1</td><td style = \"text-align: right;\">254</td><td style = \"text-align: right;\">20.0</td><td style = \"text-align: right;\">0</td><td style = \"text-align: right;\">1</td><td style = \"text-align: right;\">2</td><td style = \"text-align: right;\">2</td><td style = \"text-align: right;\">2</td></tr><tr><td class = \"rowNumber\" style = \"font-weight: bold; text-align: right;\">276</td><td style = \"text-align: right;\">246</td><td style = \"text-align: right;\">1</td><td style = \"text-align: right;\">255</td><td style = \"text-align: right;\">20.0</td><td style = \"text-align: right;\">0</td><td style = \"text-align: right;\">1</td><td style = \"text-align: right;\">2</td><td style = \"text-align: right;\">2</td><td style = \"text-align: right;\">2</td></tr><tr><td class = \"rowNumber\" style = \"font-weight: bold; text-align: right;\">277</td><td style = \"text-align: right;\">246</td><td style = \"text-align: right;\">1</td><td style = \"text-align: right;\">256</td><td style = \"text-align: right;\">20.0</td><td style = \"text-align: right;\">0</td><td style = \"text-align: right;\">1</td><td style = \"text-align: right;\">2</td><td style = \"text-align: right;\">2</td><td style = \"text-align: right;\">2</td></tr><tr><td class = \"rowNumber\" style = \"font-weight: bold; text-align: right;\">278</td><td style = \"text-align: right;\">246</td><td style = \"text-align: right;\">1</td><td style = \"text-align: right;\">258</td><td style = \"text-align: right;\">20.0</td><td style = \"text-align: right;\">0</td><td style = \"text-align: right;\">1</td><td style = \"text-align: right;\">2</td><td style = \"text-align: right;\">2</td><td style = \"text-align: right;\">2</td></tr><tr><td class = \"rowNumber\" style = \"font-weight: bold; text-align: right;\">279</td><td style = \"text-align: right;\">246</td><td style = \"text-align: right;\">1</td><td style = \"text-align: right;\">253</td><td style = \"text-align: right;\">20.0</td><td style = \"text-align: right;\">0</td><td style = \"text-align: right;\">1</td><td style = \"text-align: right;\">2</td><td style = \"text-align: right;\">2</td><td style = \"text-align: right;\">2</td></tr><tr><td class = \"rowNumber\" style = \"font-weight: bold; text-align: right;\">280</td><td style = \"text-align: right;\">247</td><td style = \"text-align: right;\">1</td><td style = \"text-align: right;\">252</td><td style = \"text-align: right;\">25.0</td><td style = \"text-align: right;\">0</td><td style = \"text-align: right;\">1</td><td style = \"text-align: right;\">2</td><td style = \"text-align: right;\">2</td><td style = \"text-align: right;\">2</td></tr><tr><td class = \"rowNumber\" style = \"font-weight: bold; text-align: right;\">281</td><td style = \"text-align: right;\">247</td><td style = \"text-align: right;\">1</td><td style = \"text-align: right;\">253</td><td style = \"text-align: right;\">25.0</td><td style = \"text-align: right;\">0</td><td style = \"text-align: right;\">1</td><td style = \"text-align: right;\">2</td><td style = \"text-align: right;\">2</td><td style = \"text-align: right;\">2</td></tr><tr><td class = \"rowNumber\" style = \"font-weight: bold; text-align: right;\">282</td><td style = \"text-align: right;\">247</td><td style = \"text-align: right;\">1</td><td style = \"text-align: right;\">255</td><td style = \"text-align: right;\">25.0</td><td style = \"text-align: right;\">0</td><td style = \"text-align: right;\">1</td><td style = \"text-align: right;\">2</td><td style = \"text-align: right;\">2</td><td style = \"text-align: right;\">2</td></tr><tr><td class = \"rowNumber\" style = \"font-weight: bold; text-align: right;\">283</td><td style = \"text-align: right;\">247</td><td style = \"text-align: right;\">1</td><td style = \"text-align: right;\">256</td><td style = \"text-align: right;\">30.0</td><td style = \"text-align: right;\">0</td><td style = \"text-align: right;\">1</td><td style = \"text-align: right;\">2</td><td style = \"text-align: right;\">2</td><td style = \"text-align: right;\">2</td></tr><tr><td class = \"rowNumber\" style = \"font-weight: bold; text-align: right;\">284</td><td style = \"text-align: right;\">247</td><td style = \"text-align: right;\">1</td><td style = \"text-align: right;\">258</td><td style = \"text-align: right;\">27.0</td><td style = \"text-align: right;\">0</td><td style = \"text-align: right;\">1</td><td style = \"text-align: right;\">2</td><td style = \"text-align: right;\">2</td><td style = \"text-align: right;\">2</td></tr><tr><td class = \"rowNumber\" style = \"font-weight: bold; text-align: right;\">285</td><td style = \"text-align: right;\">247</td><td style = \"text-align: right;\">1</td><td style = \"text-align: right;\">254</td><td style = \"text-align: right;\">20.0</td><td style = \"text-align: right;\">0</td><td style = \"text-align: right;\">1</td><td style = \"text-align: right;\">2</td><td style = \"text-align: right;\">2</td><td style = \"text-align: right;\">2</td></tr></tbody></table></div>"
      ],
      "text/latex": [
       "\\begin{tabular}{r|ccccccccc}\n",
       "\t& id & treatment & tofrom & value & role & resp & round & rounds & old\\\\\n",
       "\t\\hline\n",
       "\t& Int64 & Int64 & Int64 & Float64 & Int64 & Int64 & Int64 & Int64 & Int64\\\\\n",
       "\t\\hline\n",
       "\t1 & 1 & 1 & 18 & 20.0 & 0 & 1 & 2 & 2 & 0 \\\\\n",
       "\t2 & 1 & 1 & 19 & 20.0 & 0 & 1 & 2 & 2 & 0 \\\\\n",
       "\t3 & 1 & 1 & 23 & 20.0 & 0 & 1 & 2 & 2 & 0 \\\\\n",
       "\t4 & 1 & 1 & 26 & 20.0 & 0 & 1 & 2 & 2 & 0 \\\\\n",
       "\t5 & 1 & 1 & 27 & 20.0 & 0 & 1 & 2 & 2 & 0 \\\\\n",
       "\t6 & 1 & 1 & 28 & 20.0 & 0 & 1 & 2 & 2 & 0 \\\\\n",
       "\t7 & 1 & 1 & 31 & 20.0 & 0 & 1 & 2 & 2 & 0 \\\\\n",
       "\t8 & 1 & 1 & 32 & 20.0 & 0 & 1 & 2 & 2 & 0 \\\\\n",
       "\t9 & 2 & 1 & 19 & 16.0 & 0 & 1 & 2 & 2 & 0 \\\\\n",
       "\t10 & 2 & 1 & 23 & 16.0 & 0 & 1 & 2 & 2 & 0 \\\\\n",
       "\t11 & 2 & 1 & 26 & 16.0 & 0 & 1 & 2 & 2 & 0 \\\\\n",
       "\t12 & 2 & 1 & 27 & 16.0 & 0 & 1 & 2 & 2 & 0 \\\\\n",
       "\t13 & 2 & 1 & 28 & 16.0 & 0 & 1 & 2 & 2 & 0 \\\\\n",
       "\t14 & 2 & 1 & 31 & 16.0 & 0 & 1 & 2 & 2 & 0 \\\\\n",
       "\t15 & 2 & 1 & 32 & 16.0 & 0 & 1 & 2 & 2 & 0 \\\\\n",
       "\t16 & 2 & 1 & 18 & 16.0 & 0 & 1 & 2 & 2 & 0 \\\\\n",
       "\t17 & 3 & 1 & 23 & 22.5 & 0 & 1 & 2 & 2 & 0 \\\\\n",
       "\t18 & 3 & 1 & 26 & 22.6 & 0 & 1 & 2 & 2 & 0 \\\\\n",
       "\t19 & 3 & 1 & 27 & 22.1 & 0 & 1 & 2 & 2 & 0 \\\\\n",
       "\t20 & 3 & 1 & 28 & 20.0 & 0 & 1 & 2 & 2 & 0 \\\\\n",
       "\t21 & 3 & 1 & 31 & 22.0 & 0 & 1 & 2 & 2 & 0 \\\\\n",
       "\t22 & 3 & 1 & 32 & 22.0 & 0 & 1 & 2 & 2 & 0 \\\\\n",
       "\t23 & 3 & 1 & 18 & 23.0 & 0 & 1 & 2 & 2 & 0 \\\\\n",
       "\t24 & 3 & 1 & 19 & 23.0 & 0 & 1 & 2 & 2 & 0 \\\\\n",
       "\t25 & 4 & 1 & 26 & 16.0 & 0 & 1 & 2 & 2 & 0 \\\\\n",
       "\t26 & 4 & 1 & 27 & 15.0 & 0 & 1 & 2 & 2 & 0 \\\\\n",
       "\t27 & 4 & 1 & 28 & 16.0 & 0 & 1 & 2 & 2 & 0 \\\\\n",
       "\t28 & 4 & 1 & 31 & 15.0 & 0 & 1 & 2 & 2 & 0 \\\\\n",
       "\t29 & 4 & 1 & 32 & 15.5 & 0 & 1 & 2 & 2 & 0 \\\\\n",
       "\t30 & 4 & 1 & 18 & 15.0 & 0 & 1 & 2 & 2 & 0 \\\\\n",
       "\t$\\dots$ & $\\dots$ & $\\dots$ & $\\dots$ & $\\dots$ & $\\dots$ & $\\dots$ & $\\dots$ & $\\dots$ & $\\dots$ \\\\\n",
       "\\end{tabular}\n"
      ],
      "text/plain": [
       "\u001b[1m285×9 DataFrame\u001b[0m\n",
       "\u001b[1m Row \u001b[0m│\u001b[1m id    \u001b[0m\u001b[1m treatment \u001b[0m\u001b[1m tofrom \u001b[0m\u001b[1m value   \u001b[0m\u001b[1m role  \u001b[0m\u001b[1m resp  \u001b[0m\u001b[1m round \u001b[0m\u001b[1m rounds \u001b[0m\u001b[1m old   \u001b[0m\n",
       "     │\u001b[90m Int64 \u001b[0m\u001b[90m Int64     \u001b[0m\u001b[90m Int64  \u001b[0m\u001b[90m Float64 \u001b[0m\u001b[90m Int64 \u001b[0m\u001b[90m Int64 \u001b[0m\u001b[90m Int64 \u001b[0m\u001b[90m Int64  \u001b[0m\u001b[90m Int64 \u001b[0m\n",
       "─────┼───────────────────────────────────────────────────────────────────────\n",
       "   1 │     1          1      18     20.0      0      1      2       2      0\n",
       "   2 │     1          1      19     20.0      0      1      2       2      0\n",
       "   3 │     1          1      23     20.0      0      1      2       2      0\n",
       "   4 │     1          1      26     20.0      0      1      2       2      0\n",
       "   5 │     1          1      27     20.0      0      1      2       2      0\n",
       "   6 │     1          1      28     20.0      0      1      2       2      0\n",
       "   7 │     1          1      31     20.0      0      1      2       2      0\n",
       "   8 │     1          1      32     20.0      0      1      2       2      0\n",
       "   9 │     2          1      19     16.0      0      1      2       2      0\n",
       "  10 │     2          1      23     16.0      0      1      2       2      0\n",
       "  11 │     2          1      26     16.0      0      1      2       2      0\n",
       "  ⋮  │   ⋮        ⋮        ⋮        ⋮       ⋮      ⋮      ⋮      ⋮       ⋮\n",
       " 276 │   246          1     255     20.0      0      1      2       2      2\n",
       " 277 │   246          1     256     20.0      0      1      2       2      2\n",
       " 278 │   246          1     258     20.0      0      1      2       2      2\n",
       " 279 │   246          1     253     20.0      0      1      2       2      2\n",
       " 280 │   247          1     252     25.0      0      1      2       2      2\n",
       " 281 │   247          1     253     25.0      0      1      2       2      2\n",
       " 282 │   247          1     255     25.0      0      1      2       2      2\n",
       " 283 │   247          1     256     30.0      0      1      2       2      2\n",
       " 284 │   247          1     258     27.0      0      1      2       2      2\n",
       " 285 │   247          1     254     20.0      0      1      2       2      2\n",
       "\u001b[36m                                                             264 rows omitted\u001b[0m"
      ]
     },
     "execution_count": 12,
     "metadata": {},
     "output_type": "execute_result"
    }
   ],
   "source": [
    "\n"
   ]
  },
  {
   "cell_type": "code",
   "execution_count": 13,
   "id": "2b28688a-dd61-45c7-94dc-92ed7e372937",
   "metadata": {},
   "outputs": [],
   "source": [
    "r = groupby(r0, :tofrom);\n"
   ]
  },
  {
   "cell_type": "code",
   "execution_count": 14,
   "id": "d023ef00-6c15-46d3-b019-23daf0bee63e",
   "metadata": {},
   "outputs": [
    {
     "data": {
      "text/html": [
       "<div><div style = \"float: left;\"><span>55×2 DataFrame</span></div><div style = \"float: right;\"><span style = \"font-style: italic;\">30 rows omitted</span></div><div style = \"clear: both;\"></div></div><div class = \"data-frame\" style = \"overflow-x: scroll;\"><table class = \"data-frame\" style = \"margin-bottom: 6px;\"><thead><tr class = \"header\"><th class = \"rowNumber\" style = \"font-weight: bold; text-align: right;\">Row</th><th style = \"text-align: left;\">tofrom</th><th style = \"text-align: left;\">value_minimum</th></tr><tr class = \"subheader headerLastRow\"><th class = \"rowNumber\" style = \"font-weight: bold; text-align: right;\"></th><th title = \"Int64\" style = \"text-align: left;\">Int64</th><th title = \"Float64\" style = \"text-align: left;\">Float64</th></tr></thead><tbody><tr><td class = \"rowNumber\" style = \"font-weight: bold; text-align: right;\">1</td><td style = \"text-align: right;\">6</td><td style = \"text-align: right;\">15.0</td></tr><tr><td class = \"rowNumber\" style = \"font-weight: bold; text-align: right;\">2</td><td style = \"text-align: right;\">9</td><td style = \"text-align: right;\">7.0</td></tr><tr><td class = \"rowNumber\" style = \"font-weight: bold; text-align: right;\">3</td><td style = \"text-align: right;\">10</td><td style = \"text-align: right;\">20.0</td></tr><tr><td class = \"rowNumber\" style = \"font-weight: bold; text-align: right;\">4</td><td style = \"text-align: right;\">11</td><td style = \"text-align: right;\">20.0</td></tr><tr><td class = \"rowNumber\" style = \"font-weight: bold; text-align: right;\">5</td><td style = \"text-align: right;\">13</td><td style = \"text-align: right;\">6.1</td></tr><tr><td class = \"rowNumber\" style = \"font-weight: bold; text-align: right;\">6</td><td style = \"text-align: right;\">14</td><td style = \"text-align: right;\">10.0</td></tr><tr><td class = \"rowNumber\" style = \"font-weight: bold; text-align: right;\">7</td><td style = \"text-align: right;\">16</td><td style = \"text-align: right;\">7.0</td></tr><tr><td class = \"rowNumber\" style = \"font-weight: bold; text-align: right;\">8</td><td style = \"text-align: right;\">17</td><td style = \"text-align: right;\">15.0</td></tr><tr><td class = \"rowNumber\" style = \"font-weight: bold; text-align: right;\">9</td><td style = \"text-align: right;\">18</td><td style = \"text-align: right;\">9.0</td></tr><tr><td class = \"rowNumber\" style = \"font-weight: bold; text-align: right;\">10</td><td style = \"text-align: right;\">19</td><td style = \"text-align: right;\">10.0</td></tr><tr><td class = \"rowNumber\" style = \"font-weight: bold; text-align: right;\">11</td><td style = \"text-align: right;\">23</td><td style = \"text-align: right;\">6.0</td></tr><tr><td class = \"rowNumber\" style = \"font-weight: bold; text-align: right;\">12</td><td style = \"text-align: right;\">26</td><td style = \"text-align: right;\">7.0</td></tr><tr><td class = \"rowNumber\" style = \"font-weight: bold; text-align: right;\">13</td><td style = \"text-align: right;\">27</td><td style = \"text-align: right;\">10.0</td></tr><tr><td style = \"text-align: right;\">&vellip;</td><td style = \"text-align: right;\">&vellip;</td><td style = \"text-align: right;\">&vellip;</td></tr><tr><td class = \"rowNumber\" style = \"font-weight: bold; text-align: right;\">44</td><td style = \"text-align: right;\">251</td><td style = \"text-align: right;\">15.0</td></tr><tr><td class = \"rowNumber\" style = \"font-weight: bold; text-align: right;\">45</td><td style = \"text-align: right;\">252</td><td style = \"text-align: right;\">20.0</td></tr><tr><td class = \"rowNumber\" style = \"font-weight: bold; text-align: right;\">46</td><td style = \"text-align: right;\">253</td><td style = \"text-align: right;\">18.0</td></tr><tr><td class = \"rowNumber\" style = \"font-weight: bold; text-align: right;\">47</td><td style = \"text-align: right;\">254</td><td style = \"text-align: right;\">20.0</td></tr><tr><td class = \"rowNumber\" style = \"font-weight: bold; text-align: right;\">48</td><td style = \"text-align: right;\">255</td><td style = \"text-align: right;\">18.0</td></tr><tr><td class = \"rowNumber\" style = \"font-weight: bold; text-align: right;\">49</td><td style = \"text-align: right;\">256</td><td style = \"text-align: right;\">20.0</td></tr><tr><td class = \"rowNumber\" style = \"font-weight: bold; text-align: right;\">50</td><td style = \"text-align: right;\">258</td><td style = \"text-align: right;\">18.0</td></tr><tr><td class = \"rowNumber\" style = \"font-weight: bold; text-align: right;\">51</td><td style = \"text-align: right;\">259</td><td style = \"text-align: right;\">5.0</td></tr><tr><td class = \"rowNumber\" style = \"font-weight: bold; text-align: right;\">52</td><td style = \"text-align: right;\">260</td><td style = \"text-align: right;\">30.0</td></tr><tr><td class = \"rowNumber\" style = \"font-weight: bold; text-align: right;\">53</td><td style = \"text-align: right;\">261</td><td style = \"text-align: right;\">15.0</td></tr><tr><td class = \"rowNumber\" style = \"font-weight: bold; text-align: right;\">54</td><td style = \"text-align: right;\">262</td><td style = \"text-align: right;\">20.0</td></tr><tr><td class = \"rowNumber\" style = \"font-weight: bold; text-align: right;\">55</td><td style = \"text-align: right;\">274</td><td style = \"text-align: right;\">15.0</td></tr></tbody></table></div>"
      ],
      "text/latex": [
       "\\begin{tabular}{r|cc}\n",
       "\t& tofrom & value\\_minimum\\\\\n",
       "\t\\hline\n",
       "\t& Int64 & Float64\\\\\n",
       "\t\\hline\n",
       "\t1 & 6 & 15.0 \\\\\n",
       "\t2 & 9 & 7.0 \\\\\n",
       "\t3 & 10 & 20.0 \\\\\n",
       "\t4 & 11 & 20.0 \\\\\n",
       "\t5 & 13 & 6.1 \\\\\n",
       "\t6 & 14 & 10.0 \\\\\n",
       "\t7 & 16 & 7.0 \\\\\n",
       "\t8 & 17 & 15.0 \\\\\n",
       "\t9 & 18 & 9.0 \\\\\n",
       "\t10 & 19 & 10.0 \\\\\n",
       "\t11 & 23 & 6.0 \\\\\n",
       "\t12 & 26 & 7.0 \\\\\n",
       "\t13 & 27 & 10.0 \\\\\n",
       "\t14 & 28 & 7.0 \\\\\n",
       "\t15 & 31 & 15.0 \\\\\n",
       "\t16 & 32 & 15.5 \\\\\n",
       "\t17 & 139 & 25.0 \\\\\n",
       "\t18 & 140 & 18.0 \\\\\n",
       "\t19 & 141 & 20.0 \\\\\n",
       "\t20 & 142 & 17.0 \\\\\n",
       "\t21 & 143 & 15.0 \\\\\n",
       "\t22 & 144 & 18.0 \\\\\n",
       "\t23 & 145 & 22.0 \\\\\n",
       "\t24 & 146 & 25.0 \\\\\n",
       "\t25 & 147 & 17.0 \\\\\n",
       "\t26 & 148 & 15.0 \\\\\n",
       "\t27 & 149 & 20.0 \\\\\n",
       "\t28 & 150 & 20.0 \\\\\n",
       "\t29 & 166 & 20.0 \\\\\n",
       "\t30 & 167 & 25.0 \\\\\n",
       "\t$\\dots$ & $\\dots$ & $\\dots$ \\\\\n",
       "\\end{tabular}\n"
      ],
      "text/plain": [
       "\u001b[1m55×2 DataFrame\u001b[0m\n",
       "\u001b[1m Row \u001b[0m│\u001b[1m tofrom \u001b[0m\u001b[1m value_minimum \u001b[0m\n",
       "     │\u001b[90m Int64  \u001b[0m\u001b[90m Float64       \u001b[0m\n",
       "─────┼───────────────────────\n",
       "   1 │      6           15.0\n",
       "   2 │      9            7.0\n",
       "   3 │     10           20.0\n",
       "   4 │     11           20.0\n",
       "   5 │     13            6.1\n",
       "   6 │     14           10.0\n",
       "   7 │     16            7.0\n",
       "   8 │     17           15.0\n",
       "   9 │     18            9.0\n",
       "  10 │     19           10.0\n",
       "  11 │     23            6.0\n",
       "  ⋮  │   ⋮           ⋮\n",
       "  46 │    253           18.0\n",
       "  47 │    254           20.0\n",
       "  48 │    255           18.0\n",
       "  49 │    256           20.0\n",
       "  50 │    258           18.0\n",
       "  51 │    259            5.0\n",
       "  52 │    260           30.0\n",
       "  53 │    261           15.0\n",
       "  54 │    262           20.0\n",
       "  55 │    274           15.0\n",
       "\u001b[36m              34 rows omitted\u001b[0m"
      ]
     },
     "execution_count": 14,
     "metadata": {},
     "output_type": "execute_result"
    }
   ],
   "source": [
    "r1 = combine(r, :value => minimum)"
   ]
  }
 ],
 "metadata": {
  "kernelspec": {
   "display_name": "Julia 1.8.5",
   "language": "julia",
   "name": "julia-1.8"
  },
  "language_info": {
   "file_extension": ".jl",
   "mimetype": "application/julia",
   "name": "julia",
   "version": "1.8.5"
  }
 },
 "nbformat": 4,
 "nbformat_minor": 5
}
