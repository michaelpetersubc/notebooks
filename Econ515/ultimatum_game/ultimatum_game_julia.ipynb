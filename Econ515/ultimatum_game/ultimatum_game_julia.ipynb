{
 "cells": [
  {
   "cell_type": "code",
   "execution_count": 1,
   "id": "3593ded8-761f-4fc3-9762-bfefc1703c6d",
   "metadata": {},
   "outputs": [
    {
     "data": {
      "text/plain": [
       "DataFrame"
      ]
     },
     "execution_count": 1,
     "metadata": {},
     "output_type": "execute_result"
    }
   ],
   "source": [
    "#using Pkg\n",
    "#Pkg.add(\"DataFrames\")\n",
    "#Pkg.add(\"CSV\")\n",
    "#Pkg.add(\"Statistics\")\n",
    "#or StatsBase.jl:\n",
    "using DataFrames, CSV, Statistics\n",
    "dataset = CSV.read(\"datamerged2.csv\", DataFrame)\n",
    "typeof(dataset)"
   ]
  },
  {
   "cell_type": "code",
   "execution_count": 2,
   "id": "1ff16af6-7b29-4cc4-bbb4-76c61a093ccc",
   "metadata": {},
   "outputs": [
    {
     "data": {
      "text/html": [
       "<div class=\"data-frame\"><p>9 rows × 7 columns</p><table class=\"data-frame\"><thead><tr><th></th><th>variable</th><th>mean</th><th>min</th><th>median</th><th>max</th><th>nmissing</th><th>eltype</th></tr><tr><th></th><th title=\"Symbol\">Symbol</th><th title=\"Float64\">Float64</th><th title=\"Real\">Real</th><th title=\"Float64\">Float64</th><th title=\"Real\">Real</th><th title=\"Int64\">Int64</th><th title=\"DataType\">DataType</th></tr></thead><tbody><tr><th>1</th><td>id</td><td>136.852</td><td>1</td><td>133.0</td><td>276</td><td>0</td><td>Int64</td></tr><tr><th>2</th><td>treatment</td><td>2.42475</td><td>1</td><td>3.0</td><td>4</td><td>0</td><td>Int64</td></tr><tr><th>3</th><td>tofrom</td><td>144.308</td><td>6</td><td>145.0</td><td>288</td><td>0</td><td>Int64</td></tr><tr><th>4</th><td>value</td><td>18.7922</td><td>0.0</td><td>20.0</td><td>49.0</td><td>0</td><td>Float64</td></tr><tr><th>5</th><td>role</td><td>0.0</td><td>0</td><td>0.0</td><td>0</td><td>0</td><td>Int64</td></tr><tr><th>6</th><td>resp</td><td>0.81462</td><td>0</td><td>1.0</td><td>1</td><td>0</td><td>Int64</td></tr><tr><th>7</th><td>round</td><td>1.60774</td><td>1</td><td>2.0</td><td>3</td><td>0</td><td>Int64</td></tr><tr><th>8</th><td>rounds</td><td>2.215</td><td>2</td><td>2.0</td><td>3</td><td>0</td><td>Int64</td></tr><tr><th>9</th><td>old</td><td>0.701386</td><td>0</td><td>1.0</td><td>2</td><td>0</td><td>Int64</td></tr></tbody></table></div>"
      ],
      "text/latex": [
       "\\begin{tabular}{r|ccccccc}\n",
       "\t& variable & mean & min & median & max & nmissing & eltype\\\\\n",
       "\t\\hline\n",
       "\t& Symbol & Float64 & Real & Float64 & Real & Int64 & DataType\\\\\n",
       "\t\\hline\n",
       "\t1 & id & 136.852 & 1 & 133.0 & 276 & 0 & Int64 \\\\\n",
       "\t2 & treatment & 2.42475 & 1 & 3.0 & 4 & 0 & Int64 \\\\\n",
       "\t3 & tofrom & 144.308 & 6 & 145.0 & 288 & 0 & Int64 \\\\\n",
       "\t4 & value & 18.7922 & 0.0 & 20.0 & 49.0 & 0 & Float64 \\\\\n",
       "\t5 & role & 0.0 & 0 & 0.0 & 0 & 0 & Int64 \\\\\n",
       "\t6 & resp & 0.81462 & 0 & 1.0 & 1 & 0 & Int64 \\\\\n",
       "\t7 & round & 1.60774 & 1 & 2.0 & 3 & 0 & Int64 \\\\\n",
       "\t8 & rounds & 2.215 & 2 & 2.0 & 3 & 0 & Int64 \\\\\n",
       "\t9 & old & 0.701386 & 0 & 1.0 & 2 & 0 & Int64 \\\\\n",
       "\\end{tabular}\n"
      ],
      "text/plain": [
       "\u001b[1m9×7 DataFrame\u001b[0m\n",
       "\u001b[1m Row \u001b[0m│\u001b[1m variable  \u001b[0m\u001b[1m mean       \u001b[0m\u001b[1m min  \u001b[0m\u001b[1m median  \u001b[0m\u001b[1m max   \u001b[0m\u001b[1m nmissing \u001b[0m\u001b[1m eltype   \u001b[0m\n",
       "\u001b[1m     \u001b[0m│\u001b[90m Symbol    \u001b[0m\u001b[90m Float64    \u001b[0m\u001b[90m Real \u001b[0m\u001b[90m Float64 \u001b[0m\u001b[90m Real  \u001b[0m\u001b[90m Int64    \u001b[0m\u001b[90m DataType \u001b[0m\n",
       "─────┼─────────────────────────────────────────────────────────────────\n",
       "   1 │ id         136.852      1      133.0  276           0  Int64\n",
       "   2 │ treatment    2.42475    1        3.0    4           0  Int64\n",
       "   3 │ tofrom     144.308      6      145.0  288           0  Int64\n",
       "   4 │ value       18.7922     0.0     20.0   49.0         0  Float64\n",
       "   5 │ role         0.0        0        0.0    0           0  Int64\n",
       "   6 │ resp         0.81462    0        1.0    1           0  Int64\n",
       "   7 │ round        1.60774    1        2.0    3           0  Int64\n",
       "   8 │ rounds       2.215      2        2.0    3           0  Int64\n",
       "   9 │ old          0.701386   0        1.0    2           0  Int64"
      ]
     },
     "execution_count": 2,
     "metadata": {},
     "output_type": "execute_result"
    }
   ],
   "source": [
    "describe(dataset)"
   ]
  },
  {
   "cell_type": "code",
   "execution_count": 3,
   "id": "bb4e8093-3f85-4c46-ab80-b657b4e627b8",
   "metadata": {},
   "outputs": [
    {
     "data": {
      "text/html": [
       "<p><b>GroupedDataFrame with 144 groups based on key: id</b></p><p><i>First Group (16 rows): id = 1</i></p><div class=\"data-frame\"><table class=\"data-frame\"><thead><tr><th></th><th>id</th><th>treatment</th><th>tofrom</th><th>value</th><th>role</th><th>resp</th><th>round</th><th>rounds</th><th>old</th></tr><tr><th></th><th title=\"Int64\">Int64</th><th title=\"Int64\">Int64</th><th title=\"Int64\">Int64</th><th title=\"Float64\">Float64</th><th title=\"Int64\">Int64</th><th title=\"Int64\">Int64</th><th title=\"Int64\">Int64</th><th title=\"Int64\">Int64</th><th title=\"Int64\">Int64</th></tr></thead><tbody><tr><th>1</th><td>1</td><td>1</td><td>6</td><td>20.0</td><td>0</td><td>1</td><td>1</td><td>2</td><td>0</td></tr><tr><th>2</th><td>1</td><td>1</td><td>9</td><td>20.0</td><td>0</td><td>0</td><td>1</td><td>2</td><td>0</td></tr><tr><th>3</th><td>1</td><td>1</td><td>10</td><td>20.0</td><td>0</td><td>1</td><td>1</td><td>2</td><td>0</td></tr><tr><th>4</th><td>1</td><td>1</td><td>11</td><td>20.0</td><td>0</td><td>1</td><td>1</td><td>2</td><td>0</td></tr><tr><th>5</th><td>1</td><td>1</td><td>13</td><td>20.0</td><td>0</td><td>1</td><td>1</td><td>2</td><td>0</td></tr><tr><th>6</th><td>1</td><td>1</td><td>14</td><td>20.0</td><td>0</td><td>1</td><td>1</td><td>2</td><td>0</td></tr><tr><th>7</th><td>1</td><td>1</td><td>16</td><td>20.0</td><td>0</td><td>1</td><td>1</td><td>2</td><td>0</td></tr><tr><th>8</th><td>1</td><td>1</td><td>17</td><td>20.0</td><td>0</td><td>1</td><td>1</td><td>2</td><td>0</td></tr><tr><th>9</th><td>1</td><td>1</td><td>18</td><td>20.0</td><td>0</td><td>1</td><td>2</td><td>2</td><td>0</td></tr><tr><th>10</th><td>1</td><td>1</td><td>19</td><td>20.0</td><td>0</td><td>1</td><td>2</td><td>2</td><td>0</td></tr><tr><th>11</th><td>1</td><td>1</td><td>23</td><td>20.0</td><td>0</td><td>1</td><td>2</td><td>2</td><td>0</td></tr><tr><th>12</th><td>1</td><td>1</td><td>26</td><td>20.0</td><td>0</td><td>1</td><td>2</td><td>2</td><td>0</td></tr><tr><th>13</th><td>1</td><td>1</td><td>27</td><td>20.0</td><td>0</td><td>1</td><td>2</td><td>2</td><td>0</td></tr><tr><th>14</th><td>1</td><td>1</td><td>28</td><td>20.0</td><td>0</td><td>1</td><td>2</td><td>2</td><td>0</td></tr><tr><th>15</th><td>1</td><td>1</td><td>31</td><td>20.0</td><td>0</td><td>1</td><td>2</td><td>2</td><td>0</td></tr><tr><th>16</th><td>1</td><td>1</td><td>32</td><td>20.0</td><td>0</td><td>1</td><td>2</td><td>2</td><td>0</td></tr></tbody></table></div><p>&vellip;</p><p><i>Last Group (14 rows): id = 276</i></p><div class=\"data-frame\"><table class=\"data-frame\"><thead><tr><th></th><th>id</th><th>treatment</th><th>tofrom</th><th>value</th><th>role</th><th>resp</th><th>round</th><th>rounds</th><th>old</th></tr><tr><th></th><th title=\"Int64\">Int64</th><th title=\"Int64\">Int64</th><th title=\"Int64\">Int64</th><th title=\"Float64\">Float64</th><th title=\"Int64\">Int64</th><th title=\"Int64\">Int64</th><th title=\"Int64\">Int64</th><th title=\"Int64\">Int64</th><th title=\"Int64\">Int64</th></tr></thead><tbody><tr><th>1</th><td>276</td><td>4</td><td>282</td><td>8.0</td><td>0</td><td>0</td><td>1</td><td>2</td><td>2</td></tr><tr><th>2</th><td>276</td><td>4</td><td>283</td><td>8.0</td><td>0</td><td>1</td><td>1</td><td>2</td><td>2</td></tr><tr><th>3</th><td>276</td><td>4</td><td>284</td><td>8.0</td><td>0</td><td>1</td><td>1</td><td>2</td><td>2</td></tr><tr><th>4</th><td>276</td><td>4</td><td>286</td><td>8.0</td><td>0</td><td>1</td><td>1</td><td>2</td><td>2</td></tr><tr><th>5</th><td>276</td><td>4</td><td>287</td><td>10.0</td><td>0</td><td>1</td><td>1</td><td>2</td><td>2</td></tr><tr><th>6</th><td>276</td><td>4</td><td>288</td><td>8.0</td><td>0</td><td>0</td><td>1</td><td>2</td><td>2</td></tr><tr><th>7</th><td>276</td><td>4</td><td>285</td><td>8.0</td><td>0</td><td>0</td><td>1</td><td>2</td><td>2</td></tr><tr><th>8</th><td>276</td><td>4</td><td>275</td><td>15.0</td><td>0</td><td>1</td><td>2</td><td>2</td><td>2</td></tr><tr><th>9</th><td>276</td><td>4</td><td>276</td><td>17.0</td><td>0</td><td>1</td><td>2</td><td>2</td><td>2</td></tr><tr><th>10</th><td>276</td><td>4</td><td>277</td><td>15.0</td><td>0</td><td>1</td><td>2</td><td>2</td><td>2</td></tr><tr><th>11</th><td>276</td><td>4</td><td>278</td><td>15.0</td><td>0</td><td>1</td><td>2</td><td>2</td><td>2</td></tr><tr><th>12</th><td>276</td><td>4</td><td>279</td><td>15.0</td><td>0</td><td>1</td><td>2</td><td>2</td><td>2</td></tr><tr><th>13</th><td>276</td><td>4</td><td>280</td><td>15.0</td><td>0</td><td>1</td><td>2</td><td>2</td><td>2</td></tr><tr><th>14</th><td>276</td><td>4</td><td>281</td><td>15.0</td><td>0</td><td>1</td><td>2</td><td>2</td><td>2</td></tr></tbody></table></div>"
      ],
      "text/latex": [
       "GroupedDataFrame with 144 groups based on key: id\n",
       "\n",
       "First Group (16 rows): id = 1\n",
       "\n",
       "\\begin{tabular}{r|ccccccccc}\n",
       "\t& id & treatment & tofrom & value & role & resp & round & rounds & old\\\\\n",
       "\t\\hline\n",
       "\t& Int64 & Int64 & Int64 & Float64 & Int64 & Int64 & Int64 & Int64 & Int64\\\\\n",
       "\t\\hline\n",
       "\t1 & 1 & 1 & 6 & 20.0 & 0 & 1 & 1 & 2 & 0 \\\\\n",
       "\t2 & 1 & 1 & 9 & 20.0 & 0 & 0 & 1 & 2 & 0 \\\\\n",
       "\t3 & 1 & 1 & 10 & 20.0 & 0 & 1 & 1 & 2 & 0 \\\\\n",
       "\t4 & 1 & 1 & 11 & 20.0 & 0 & 1 & 1 & 2 & 0 \\\\\n",
       "\t5 & 1 & 1 & 13 & 20.0 & 0 & 1 & 1 & 2 & 0 \\\\\n",
       "\t6 & 1 & 1 & 14 & 20.0 & 0 & 1 & 1 & 2 & 0 \\\\\n",
       "\t7 & 1 & 1 & 16 & 20.0 & 0 & 1 & 1 & 2 & 0 \\\\\n",
       "\t8 & 1 & 1 & 17 & 20.0 & 0 & 1 & 1 & 2 & 0 \\\\\n",
       "\t9 & 1 & 1 & 18 & 20.0 & 0 & 1 & 2 & 2 & 0 \\\\\n",
       "\t10 & 1 & 1 & 19 & 20.0 & 0 & 1 & 2 & 2 & 0 \\\\\n",
       "\t11 & 1 & 1 & 23 & 20.0 & 0 & 1 & 2 & 2 & 0 \\\\\n",
       "\t12 & 1 & 1 & 26 & 20.0 & 0 & 1 & 2 & 2 & 0 \\\\\n",
       "\t13 & 1 & 1 & 27 & 20.0 & 0 & 1 & 2 & 2 & 0 \\\\\n",
       "\t14 & 1 & 1 & 28 & 20.0 & 0 & 1 & 2 & 2 & 0 \\\\\n",
       "\t15 & 1 & 1 & 31 & 20.0 & 0 & 1 & 2 & 2 & 0 \\\\\n",
       "\t16 & 1 & 1 & 32 & 20.0 & 0 & 1 & 2 & 2 & 0 \\\\\n",
       "\\end{tabular}\n",
       "\n",
       "$\\dots$\n",
       "\n",
       "Last Group (14 rows): id = 276\n",
       "\n",
       "\\begin{tabular}{r|ccccccccc}\n",
       "\t& id & treatment & tofrom & value & role & resp & round & rounds & old\\\\\n",
       "\t\\hline\n",
       "\t& Int64 & Int64 & Int64 & Float64 & Int64 & Int64 & Int64 & Int64 & Int64\\\\\n",
       "\t\\hline\n",
       "\t1 & 276 & 4 & 282 & 8.0 & 0 & 0 & 1 & 2 & 2 \\\\\n",
       "\t2 & 276 & 4 & 283 & 8.0 & 0 & 1 & 1 & 2 & 2 \\\\\n",
       "\t3 & 276 & 4 & 284 & 8.0 & 0 & 1 & 1 & 2 & 2 \\\\\n",
       "\t4 & 276 & 4 & 286 & 8.0 & 0 & 1 & 1 & 2 & 2 \\\\\n",
       "\t5 & 276 & 4 & 287 & 10.0 & 0 & 1 & 1 & 2 & 2 \\\\\n",
       "\t6 & 276 & 4 & 288 & 8.0 & 0 & 0 & 1 & 2 & 2 \\\\\n",
       "\t7 & 276 & 4 & 285 & 8.0 & 0 & 0 & 1 & 2 & 2 \\\\\n",
       "\t8 & 276 & 4 & 275 & 15.0 & 0 & 1 & 2 & 2 & 2 \\\\\n",
       "\t9 & 276 & 4 & 276 & 17.0 & 0 & 1 & 2 & 2 & 2 \\\\\n",
       "\t10 & 276 & 4 & 277 & 15.0 & 0 & 1 & 2 & 2 & 2 \\\\\n",
       "\t11 & 276 & 4 & 278 & 15.0 & 0 & 1 & 2 & 2 & 2 \\\\\n",
       "\t12 & 276 & 4 & 279 & 15.0 & 0 & 1 & 2 & 2 & 2 \\\\\n",
       "\t13 & 276 & 4 & 280 & 15.0 & 0 & 1 & 2 & 2 & 2 \\\\\n",
       "\t14 & 276 & 4 & 281 & 15.0 & 0 & 1 & 2 & 2 & 2 \\\\\n",
       "\\end{tabular}\n"
      ],
      "text/plain": [
       "GroupedDataFrame with 144 groups based on key: id\n",
       "First Group (16 rows): id = 1\n",
       "\u001b[1m Row \u001b[0m│\u001b[1m id    \u001b[0m\u001b[1m treatment \u001b[0m\u001b[1m tofrom \u001b[0m\u001b[1m value   \u001b[0m\u001b[1m role  \u001b[0m\u001b[1m resp  \u001b[0m\u001b[1m round \u001b[0m\u001b[1m rounds \u001b[0m\u001b[1m old   \u001b[0m\n",
       "\u001b[1m     \u001b[0m│\u001b[90m Int64 \u001b[0m\u001b[90m Int64     \u001b[0m\u001b[90m Int64  \u001b[0m\u001b[90m Float64 \u001b[0m\u001b[90m Int64 \u001b[0m\u001b[90m Int64 \u001b[0m\u001b[90m Int64 \u001b[0m\u001b[90m Int64  \u001b[0m\u001b[90m Int64 \u001b[0m\n",
       "─────┼───────────────────────────────────────────────────────────────────────\n",
       "   1 │     1          1       6     20.0      0      1      1       2      0\n",
       "   2 │     1          1       9     20.0      0      0      1       2      0\n",
       "   3 │     1          1      10     20.0      0      1      1       2      0\n",
       "   4 │     1          1      11     20.0      0      1      1       2      0\n",
       "   5 │     1          1      13     20.0      0      1      1       2      0\n",
       "   6 │     1          1      14     20.0      0      1      1       2      0\n",
       "   7 │     1          1      16     20.0      0      1      1       2      0\n",
       "   8 │     1          1      17     20.0      0      1      1       2      0\n",
       "   9 │     1          1      18     20.0      0      1      2       2      0\n",
       "  10 │     1          1      19     20.0      0      1      2       2      0\n",
       "  11 │     1          1      23     20.0      0      1      2       2      0\n",
       "  12 │     1          1      26     20.0      0      1      2       2      0\n",
       "  13 │     1          1      27     20.0      0      1      2       2      0\n",
       "  14 │     1          1      28     20.0      0      1      2       2      0\n",
       "  15 │     1          1      31     20.0      0      1      2       2      0\n",
       "  16 │     1          1      32     20.0      0      1      2       2      0\n",
       "⋮\n",
       "Last Group (14 rows): id = 276\n",
       "\u001b[1m Row \u001b[0m│\u001b[1m id    \u001b[0m\u001b[1m treatment \u001b[0m\u001b[1m tofrom \u001b[0m\u001b[1m value   \u001b[0m\u001b[1m role  \u001b[0m\u001b[1m resp  \u001b[0m\u001b[1m round \u001b[0m\u001b[1m rounds \u001b[0m\u001b[1m old   \u001b[0m\n",
       "\u001b[1m     \u001b[0m│\u001b[90m Int64 \u001b[0m\u001b[90m Int64     \u001b[0m\u001b[90m Int64  \u001b[0m\u001b[90m Float64 \u001b[0m\u001b[90m Int64 \u001b[0m\u001b[90m Int64 \u001b[0m\u001b[90m Int64 \u001b[0m\u001b[90m Int64  \u001b[0m\u001b[90m Int64 \u001b[0m\n",
       "─────┼───────────────────────────────────────────────────────────────────────\n",
       "   1 │   276          4     282      8.0      0      0      1       2      2\n",
       "   2 │   276          4     283      8.0      0      1      1       2      2\n",
       "   3 │   276          4     284      8.0      0      1      1       2      2\n",
       "   4 │   276          4     286      8.0      0      1      1       2      2\n",
       "   5 │   276          4     287     10.0      0      1      1       2      2\n",
       "   6 │   276          4     288      8.0      0      0      1       2      2\n",
       "   7 │   276          4     285      8.0      0      0      1       2      2\n",
       "   8 │   276          4     275     15.0      0      1      2       2      2\n",
       "   9 │   276          4     276     17.0      0      1      2       2      2\n",
       "  10 │   276          4     277     15.0      0      1      2       2      2\n",
       "  11 │   276          4     278     15.0      0      1      2       2      2\n",
       "  12 │   276          4     279     15.0      0      1      2       2      2\n",
       "  13 │   276          4     280     15.0      0      1      2       2      2\n",
       "  14 │   276          4     281     15.0      0      1      2       2      2"
      ]
     },
     "execution_count": 3,
     "metadata": {},
     "output_type": "execute_result"
    }
   ],
   "source": [
    "subset = groupby(dataset, :id)"
   ]
  },
  {
   "cell_type": "code",
   "execution_count": 5,
   "id": "edb0fee5-69e9-45ea-8ed7-65874bdc30fc",
   "metadata": {},
   "outputs": [
    {
     "data": {
      "text/html": [
       "<div class=\"data-frame\"><p>144 rows × 2 columns</p><table class=\"data-frame\"><thead><tr><th></th><th>id</th><th>value_mean</th></tr><tr><th></th><th title=\"Int64\">Int64</th><th title=\"Float64\">Float64</th></tr></thead><tbody><tr><th>1</th><td>1</td><td>20.0</td></tr><tr><th>2</th><td>2</td><td>18.0375</td></tr><tr><th>3</th><td>3</td><td>25.5</td></tr><tr><th>4</th><td>4</td><td>13.7875</td></tr><tr><th>5</th><td>5</td><td>14.0</td></tr><tr><th>6</th><td>7</td><td>17.9</td></tr><tr><th>7</th><td>8</td><td>9.0</td></tr><tr><th>8</th><td>12</td><td>17.3125</td></tr><tr><th>9</th><td>15</td><td>17.1313</td></tr><tr><th>10</th><td>20</td><td>25.8125</td></tr><tr><th>11</th><td>21</td><td>15.0</td></tr><tr><th>12</th><td>22</td><td>27.0125</td></tr><tr><th>13</th><td>24</td><td>6.6375</td></tr><tr><th>14</th><td>25</td><td>21.25</td></tr><tr><th>15</th><td>29</td><td>16.6875</td></tr><tr><th>16</th><td>30</td><td>22.7625</td></tr><tr><th>17</th><td>33</td><td>14.4</td></tr><tr><th>18</th><td>35</td><td>17.5938</td></tr><tr><th>19</th><td>37</td><td>22.0</td></tr><tr><th>20</th><td>40</td><td>15.5813</td></tr><tr><th>21</th><td>41</td><td>23.975</td></tr><tr><th>22</th><td>43</td><td>15.125</td></tr><tr><th>23</th><td>44</td><td>10.0</td></tr><tr><th>24</th><td>47</td><td>15.2375</td></tr><tr><th>25</th><td>51</td><td>21.8625</td></tr><tr><th>26</th><td>53</td><td>16.6562</td></tr><tr><th>27</th><td>54</td><td>10.625</td></tr><tr><th>28</th><td>55</td><td>17.9062</td></tr><tr><th>29</th><td>58</td><td>14.25</td></tr><tr><th>30</th><td>59</td><td>20.0</td></tr><tr><th>&vellip;</th><td>&vellip;</td><td>&vellip;</td></tr></tbody></table></div>"
      ],
      "text/latex": [
       "\\begin{tabular}{r|cc}\n",
       "\t& id & value\\_mean\\\\\n",
       "\t\\hline\n",
       "\t& Int64 & Float64\\\\\n",
       "\t\\hline\n",
       "\t1 & 1 & 20.0 \\\\\n",
       "\t2 & 2 & 18.0375 \\\\\n",
       "\t3 & 3 & 25.5 \\\\\n",
       "\t4 & 4 & 13.7875 \\\\\n",
       "\t5 & 5 & 14.0 \\\\\n",
       "\t6 & 7 & 17.9 \\\\\n",
       "\t7 & 8 & 9.0 \\\\\n",
       "\t8 & 12 & 17.3125 \\\\\n",
       "\t9 & 15 & 17.1313 \\\\\n",
       "\t10 & 20 & 25.8125 \\\\\n",
       "\t11 & 21 & 15.0 \\\\\n",
       "\t12 & 22 & 27.0125 \\\\\n",
       "\t13 & 24 & 6.6375 \\\\\n",
       "\t14 & 25 & 21.25 \\\\\n",
       "\t15 & 29 & 16.6875 \\\\\n",
       "\t16 & 30 & 22.7625 \\\\\n",
       "\t17 & 33 & 14.4 \\\\\n",
       "\t18 & 35 & 17.5938 \\\\\n",
       "\t19 & 37 & 22.0 \\\\\n",
       "\t20 & 40 & 15.5813 \\\\\n",
       "\t21 & 41 & 23.975 \\\\\n",
       "\t22 & 43 & 15.125 \\\\\n",
       "\t23 & 44 & 10.0 \\\\\n",
       "\t24 & 47 & 15.2375 \\\\\n",
       "\t25 & 51 & 21.8625 \\\\\n",
       "\t26 & 53 & 16.6562 \\\\\n",
       "\t27 & 54 & 10.625 \\\\\n",
       "\t28 & 55 & 17.9062 \\\\\n",
       "\t29 & 58 & 14.25 \\\\\n",
       "\t30 & 59 & 20.0 \\\\\n",
       "\t$\\dots$ & $\\dots$ & $\\dots$ \\\\\n",
       "\\end{tabular}\n"
      ],
      "text/plain": [
       "\u001b[1m144×2 DataFrame\u001b[0m\n",
       "\u001b[1m Row \u001b[0m│\u001b[1m id    \u001b[0m\u001b[1m value_mean \u001b[0m\n",
       "\u001b[1m     \u001b[0m│\u001b[90m Int64 \u001b[0m\u001b[90m Float64    \u001b[0m\n",
       "─────┼───────────────────\n",
       "   1 │     1    20.0\n",
       "   2 │     2    18.0375\n",
       "   3 │     3    25.5\n",
       "   4 │     4    13.7875\n",
       "   5 │     5    14.0\n",
       "   6 │     7    17.9\n",
       "   7 │     8     9.0\n",
       "   8 │    12    17.3125\n",
       "   9 │    15    17.1313\n",
       "  10 │    20    25.8125\n",
       "  11 │    21    15.0\n",
       "  ⋮  │   ⋮        ⋮\n",
       " 135 │   267    13.5714\n",
       " 136 │   268    13.5714\n",
       " 137 │   269    10.0\n",
       " 138 │   270    18.5714\n",
       " 139 │   271    27.1429\n",
       " 140 │   272    12.8571\n",
       " 141 │   273     8.57143\n",
       " 142 │   274    15.0\n",
       " 143 │   275    20.0\n",
       " 144 │   276    11.7857\n",
       "\u001b[36m         123 rows omitted\u001b[0m"
      ]
     },
     "execution_count": 5,
     "metadata": {},
     "output_type": "execute_result"
    }
   ],
   "source": [
    "offers = combine(subset, :value => mean)\n",
    "    "
   ]
  },
  {
   "cell_type": "code",
   "execution_count": 11,
   "id": "0f32d29e-7556-4d3c-8fd7-63ba409f7cda",
   "metadata": {},
   "outputs": [
    {
     "data": {
      "text/html": [
       "<div class=\"data-frame\"><p>1,705 rows × 9 columns</p><table class=\"data-frame\"><thead><tr><th></th><th>id</th><th>treatment</th><th>tofrom</th><th>value</th><th>role</th><th>resp</th><th>round</th><th>rounds</th><th>old</th></tr><tr><th></th><th title=\"Int64\">Int64</th><th title=\"Int64\">Int64</th><th title=\"Int64\">Int64</th><th title=\"Float64\">Float64</th><th title=\"Int64\">Int64</th><th title=\"Int64\">Int64</th><th title=\"Int64\">Int64</th><th title=\"Int64\">Int64</th><th title=\"Int64\">Int64</th></tr></thead><tbody><tr><th>1</th><td>1</td><td>1</td><td>6</td><td>20.0</td><td>0</td><td>1</td><td>1</td><td>2</td><td>0</td></tr><tr><th>2</th><td>1</td><td>1</td><td>10</td><td>20.0</td><td>0</td><td>1</td><td>1</td><td>2</td><td>0</td></tr><tr><th>3</th><td>1</td><td>1</td><td>11</td><td>20.0</td><td>0</td><td>1</td><td>1</td><td>2</td><td>0</td></tr><tr><th>4</th><td>1</td><td>1</td><td>13</td><td>20.0</td><td>0</td><td>1</td><td>1</td><td>2</td><td>0</td></tr><tr><th>5</th><td>1</td><td>1</td><td>14</td><td>20.0</td><td>0</td><td>1</td><td>1</td><td>2</td><td>0</td></tr><tr><th>6</th><td>1</td><td>1</td><td>16</td><td>20.0</td><td>0</td><td>1</td><td>1</td><td>2</td><td>0</td></tr><tr><th>7</th><td>1</td><td>1</td><td>17</td><td>20.0</td><td>0</td><td>1</td><td>1</td><td>2</td><td>0</td></tr><tr><th>8</th><td>1</td><td>1</td><td>18</td><td>20.0</td><td>0</td><td>1</td><td>2</td><td>2</td><td>0</td></tr><tr><th>9</th><td>1</td><td>1</td><td>19</td><td>20.0</td><td>0</td><td>1</td><td>2</td><td>2</td><td>0</td></tr><tr><th>10</th><td>1</td><td>1</td><td>23</td><td>20.0</td><td>0</td><td>1</td><td>2</td><td>2</td><td>0</td></tr><tr><th>11</th><td>1</td><td>1</td><td>26</td><td>20.0</td><td>0</td><td>1</td><td>2</td><td>2</td><td>0</td></tr><tr><th>12</th><td>1</td><td>1</td><td>27</td><td>20.0</td><td>0</td><td>1</td><td>2</td><td>2</td><td>0</td></tr><tr><th>13</th><td>1</td><td>1</td><td>28</td><td>20.0</td><td>0</td><td>1</td><td>2</td><td>2</td><td>0</td></tr><tr><th>14</th><td>1</td><td>1</td><td>31</td><td>20.0</td><td>0</td><td>1</td><td>2</td><td>2</td><td>0</td></tr><tr><th>15</th><td>1</td><td>1</td><td>32</td><td>20.0</td><td>0</td><td>1</td><td>2</td><td>2</td><td>0</td></tr><tr><th>16</th><td>2</td><td>1</td><td>9</td><td>20.0</td><td>0</td><td>1</td><td>1</td><td>2</td><td>0</td></tr><tr><th>17</th><td>2</td><td>1</td><td>10</td><td>20.0</td><td>0</td><td>1</td><td>1</td><td>2</td><td>0</td></tr><tr><th>18</th><td>2</td><td>1</td><td>11</td><td>20.1</td><td>0</td><td>1</td><td>1</td><td>2</td><td>0</td></tr><tr><th>19</th><td>2</td><td>1</td><td>13</td><td>20.0</td><td>0</td><td>1</td><td>1</td><td>2</td><td>0</td></tr><tr><th>20</th><td>2</td><td>1</td><td>14</td><td>20.0</td><td>0</td><td>1</td><td>1</td><td>2</td><td>0</td></tr><tr><th>21</th><td>2</td><td>1</td><td>16</td><td>20.0</td><td>0</td><td>1</td><td>1</td><td>2</td><td>0</td></tr><tr><th>22</th><td>2</td><td>1</td><td>17</td><td>20.5</td><td>0</td><td>1</td><td>1</td><td>2</td><td>0</td></tr><tr><th>23</th><td>2</td><td>1</td><td>6</td><td>20.0</td><td>0</td><td>1</td><td>1</td><td>2</td><td>0</td></tr><tr><th>24</th><td>2</td><td>1</td><td>19</td><td>16.0</td><td>0</td><td>1</td><td>2</td><td>2</td><td>0</td></tr><tr><th>25</th><td>2</td><td>1</td><td>23</td><td>16.0</td><td>0</td><td>1</td><td>2</td><td>2</td><td>0</td></tr><tr><th>26</th><td>2</td><td>1</td><td>26</td><td>16.0</td><td>0</td><td>1</td><td>2</td><td>2</td><td>0</td></tr><tr><th>27</th><td>2</td><td>1</td><td>27</td><td>16.0</td><td>0</td><td>1</td><td>2</td><td>2</td><td>0</td></tr><tr><th>28</th><td>2</td><td>1</td><td>28</td><td>16.0</td><td>0</td><td>1</td><td>2</td><td>2</td><td>0</td></tr><tr><th>29</th><td>2</td><td>1</td><td>31</td><td>16.0</td><td>0</td><td>1</td><td>2</td><td>2</td><td>0</td></tr><tr><th>30</th><td>2</td><td>1</td><td>32</td><td>16.0</td><td>0</td><td>1</td><td>2</td><td>2</td><td>0</td></tr><tr><th>&vellip;</th><td>&vellip;</td><td>&vellip;</td><td>&vellip;</td><td>&vellip;</td><td>&vellip;</td><td>&vellip;</td><td>&vellip;</td><td>&vellip;</td><td>&vellip;</td></tr></tbody></table></div>"
      ],
      "text/latex": [
       "\\begin{tabular}{r|ccccccccc}\n",
       "\t& id & treatment & tofrom & value & role & resp & round & rounds & old\\\\\n",
       "\t\\hline\n",
       "\t& Int64 & Int64 & Int64 & Float64 & Int64 & Int64 & Int64 & Int64 & Int64\\\\\n",
       "\t\\hline\n",
       "\t1 & 1 & 1 & 6 & 20.0 & 0 & 1 & 1 & 2 & 0 \\\\\n",
       "\t2 & 1 & 1 & 10 & 20.0 & 0 & 1 & 1 & 2 & 0 \\\\\n",
       "\t3 & 1 & 1 & 11 & 20.0 & 0 & 1 & 1 & 2 & 0 \\\\\n",
       "\t4 & 1 & 1 & 13 & 20.0 & 0 & 1 & 1 & 2 & 0 \\\\\n",
       "\t5 & 1 & 1 & 14 & 20.0 & 0 & 1 & 1 & 2 & 0 \\\\\n",
       "\t6 & 1 & 1 & 16 & 20.0 & 0 & 1 & 1 & 2 & 0 \\\\\n",
       "\t7 & 1 & 1 & 17 & 20.0 & 0 & 1 & 1 & 2 & 0 \\\\\n",
       "\t8 & 1 & 1 & 18 & 20.0 & 0 & 1 & 2 & 2 & 0 \\\\\n",
       "\t9 & 1 & 1 & 19 & 20.0 & 0 & 1 & 2 & 2 & 0 \\\\\n",
       "\t10 & 1 & 1 & 23 & 20.0 & 0 & 1 & 2 & 2 & 0 \\\\\n",
       "\t11 & 1 & 1 & 26 & 20.0 & 0 & 1 & 2 & 2 & 0 \\\\\n",
       "\t12 & 1 & 1 & 27 & 20.0 & 0 & 1 & 2 & 2 & 0 \\\\\n",
       "\t13 & 1 & 1 & 28 & 20.0 & 0 & 1 & 2 & 2 & 0 \\\\\n",
       "\t14 & 1 & 1 & 31 & 20.0 & 0 & 1 & 2 & 2 & 0 \\\\\n",
       "\t15 & 1 & 1 & 32 & 20.0 & 0 & 1 & 2 & 2 & 0 \\\\\n",
       "\t16 & 2 & 1 & 9 & 20.0 & 0 & 1 & 1 & 2 & 0 \\\\\n",
       "\t17 & 2 & 1 & 10 & 20.0 & 0 & 1 & 1 & 2 & 0 \\\\\n",
       "\t18 & 2 & 1 & 11 & 20.1 & 0 & 1 & 1 & 2 & 0 \\\\\n",
       "\t19 & 2 & 1 & 13 & 20.0 & 0 & 1 & 1 & 2 & 0 \\\\\n",
       "\t20 & 2 & 1 & 14 & 20.0 & 0 & 1 & 1 & 2 & 0 \\\\\n",
       "\t21 & 2 & 1 & 16 & 20.0 & 0 & 1 & 1 & 2 & 0 \\\\\n",
       "\t22 & 2 & 1 & 17 & 20.5 & 0 & 1 & 1 & 2 & 0 \\\\\n",
       "\t23 & 2 & 1 & 6 & 20.0 & 0 & 1 & 1 & 2 & 0 \\\\\n",
       "\t24 & 2 & 1 & 19 & 16.0 & 0 & 1 & 2 & 2 & 0 \\\\\n",
       "\t25 & 2 & 1 & 23 & 16.0 & 0 & 1 & 2 & 2 & 0 \\\\\n",
       "\t26 & 2 & 1 & 26 & 16.0 & 0 & 1 & 2 & 2 & 0 \\\\\n",
       "\t27 & 2 & 1 & 27 & 16.0 & 0 & 1 & 2 & 2 & 0 \\\\\n",
       "\t28 & 2 & 1 & 28 & 16.0 & 0 & 1 & 2 & 2 & 0 \\\\\n",
       "\t29 & 2 & 1 & 31 & 16.0 & 0 & 1 & 2 & 2 & 0 \\\\\n",
       "\t30 & 2 & 1 & 32 & 16.0 & 0 & 1 & 2 & 2 & 0 \\\\\n",
       "\t$\\dots$ & $\\dots$ & $\\dots$ & $\\dots$ & $\\dots$ & $\\dots$ & $\\dots$ & $\\dots$ & $\\dots$ & $\\dots$ \\\\\n",
       "\\end{tabular}\n"
      ],
      "text/plain": [
       "\u001b[1m1705×9 DataFrame\u001b[0m\n",
       "\u001b[1m  Row \u001b[0m│\u001b[1m id    \u001b[0m\u001b[1m treatment \u001b[0m\u001b[1m tofrom \u001b[0m\u001b[1m value   \u001b[0m\u001b[1m role  \u001b[0m\u001b[1m resp  \u001b[0m\u001b[1m round \u001b[0m\u001b[1m rounds \u001b[0m\u001b[1m old   \u001b[0m\n",
       "\u001b[1m      \u001b[0m│\u001b[90m Int64 \u001b[0m\u001b[90m Int64     \u001b[0m\u001b[90m Int64  \u001b[0m\u001b[90m Float64 \u001b[0m\u001b[90m Int64 \u001b[0m\u001b[90m Int64 \u001b[0m\u001b[90m Int64 \u001b[0m\u001b[90m Int64  \u001b[0m\u001b[90m Int64 \u001b[0m\n",
       "──────┼───────────────────────────────────────────────────────────────────────\n",
       "    1 │     1          1       6     20.0      0      1      1       2      0\n",
       "    2 │     1          1      10     20.0      0      1      1       2      0\n",
       "    3 │     1          1      11     20.0      0      1      1       2      0\n",
       "    4 │     1          1      13     20.0      0      1      1       2      0\n",
       "    5 │     1          1      14     20.0      0      1      1       2      0\n",
       "    6 │     1          1      16     20.0      0      1      1       2      0\n",
       "    7 │     1          1      17     20.0      0      1      1       2      0\n",
       "    8 │     1          1      18     20.0      0      1      2       2      0\n",
       "    9 │     1          1      19     20.0      0      1      2       2      0\n",
       "   10 │     1          1      23     20.0      0      1      2       2      0\n",
       "   11 │     1          1      26     20.0      0      1      2       2      0\n",
       "  ⋮   │   ⋮        ⋮        ⋮        ⋮       ⋮      ⋮      ⋮      ⋮       ⋮\n",
       " 1696 │   270          4     279     20.0      0      1      2       2      2\n",
       " 1697 │   270          4     280     20.0      0      1      2       2      2\n",
       " 1698 │   270          4     281     15.0      0      1      2       2      2\n",
       " 1699 │   271          4     275     25.0      0      1      2       2      2\n",
       " 1700 │   271          4     276     30.0      0      1      2       2      2\n",
       " 1701 │   271          4     277     25.0      0      1      2       2      2\n",
       " 1702 │   271          4     278     30.0      0      1      2       2      2\n",
       " 1703 │   271          4     279     25.0      0      1      2       2      2\n",
       " 1704 │   271          4     280     30.0      0      1      2       2      2\n",
       " 1705 │   271          4     281     25.0      0      1      2       2      2\n",
       "\u001b[36m                                                             1684 rows omitted\u001b[0m"
      ]
     },
     "execution_count": 11,
     "metadata": {},
     "output_type": "execute_result"
    }
   ],
   "source": [
    "r0 = filter( row -> row.resp ==1, dataset)"
   ]
  },
  {
   "cell_type": "code",
   "execution_count": 12,
   "id": "2b28688a-dd61-45c7-94dc-92ed7e372937",
   "metadata": {},
   "outputs": [
    {
     "data": {
      "text/html": [
       "<p><b>GroupedDataFrame with 144 groups based on key: tofrom</b></p><p><i>First Group (12 rows): tofrom = 6</i></p><div class=\"data-frame\"><table class=\"data-frame\"><thead><tr><th></th><th>id</th><th>treatment</th><th>tofrom</th><th>value</th><th>role</th><th>resp</th><th>round</th><th>rounds</th><th>old</th></tr><tr><th></th><th title=\"Int64\">Int64</th><th title=\"Int64\">Int64</th><th title=\"Int64\">Int64</th><th title=\"Float64\">Float64</th><th title=\"Int64\">Int64</th><th title=\"Int64\">Int64</th><th title=\"Int64\">Int64</th><th title=\"Int64\">Int64</th><th title=\"Int64\">Int64</th></tr></thead><tbody><tr><th>1</th><td>1</td><td>1</td><td>6</td><td>20.0</td><td>0</td><td>1</td><td>1</td><td>2</td><td>0</td></tr><tr><th>2</th><td>2</td><td>1</td><td>6</td><td>20.0</td><td>0</td><td>1</td><td>1</td><td>2</td><td>0</td></tr><tr><th>3</th><td>3</td><td>1</td><td>6</td><td>30.1</td><td>0</td><td>1</td><td>1</td><td>2</td><td>0</td></tr><tr><th>4</th><td>4</td><td>1</td><td>6</td><td>12.2</td><td>0</td><td>1</td><td>1</td><td>2</td><td>0</td></tr><tr><th>5</th><td>7</td><td>1</td><td>6</td><td>17.7</td><td>0</td><td>1</td><td>1</td><td>2</td><td>0</td></tr><tr><th>6</th><td>12</td><td>1</td><td>6</td><td>25.5</td><td>0</td><td>1</td><td>1</td><td>2</td><td>0</td></tr><tr><th>7</th><td>15</td><td>1</td><td>6</td><td>15.0</td><td>0</td><td>1</td><td>2</td><td>2</td><td>0</td></tr><tr><th>8</th><td>20</td><td>1</td><td>6</td><td>20.7</td><td>0</td><td>1</td><td>2</td><td>2</td><td>0</td></tr><tr><th>9</th><td>21</td><td>1</td><td>6</td><td>15.0</td><td>0</td><td>1</td><td>2</td><td>2</td><td>0</td></tr><tr><th>10</th><td>25</td><td>1</td><td>6</td><td>20.0</td><td>0</td><td>1</td><td>2</td><td>2</td><td>0</td></tr><tr><th>11</th><td>29</td><td>1</td><td>6</td><td>15.0</td><td>0</td><td>1</td><td>2</td><td>2</td><td>0</td></tr><tr><th>12</th><td>30</td><td>1</td><td>6</td><td>20.0</td><td>0</td><td>1</td><td>2</td><td>2</td><td>0</td></tr></tbody></table></div><p>&vellip;</p><p><i>Last Group (10 rows): tofrom = 288</i></p><div class=\"data-frame\"><table class=\"data-frame\"><thead><tr><th></th><th>id</th><th>treatment</th><th>tofrom</th><th>value</th><th>role</th><th>resp</th><th>round</th><th>rounds</th><th>old</th></tr><tr><th></th><th title=\"Int64\">Int64</th><th title=\"Int64\">Int64</th><th title=\"Int64\">Int64</th><th title=\"Float64\">Float64</th><th title=\"Int64\">Int64</th><th title=\"Int64\">Int64</th><th title=\"Int64\">Int64</th><th title=\"Int64\">Int64</th><th title=\"Int64\">Int64</th></tr></thead><tbody><tr><th>1</th><td>272</td><td>4</td><td>288</td><td>10.0</td><td>0</td><td>1</td><td>1</td><td>2</td><td>2</td></tr><tr><th>2</th><td>274</td><td>4</td><td>288</td><td>15.0</td><td>0</td><td>1</td><td>1</td><td>2</td><td>2</td></tr><tr><th>3</th><td>275</td><td>4</td><td>288</td><td>20.0</td><td>0</td><td>1</td><td>1</td><td>2</td><td>2</td></tr><tr><th>4</th><td>270</td><td>4</td><td>288</td><td>20.0</td><td>0</td><td>1</td><td>1</td><td>2</td><td>2</td></tr><tr><th>5</th><td>271</td><td>4</td><td>288</td><td>30.0</td><td>0</td><td>1</td><td>1</td><td>2</td><td>2</td></tr><tr><th>6</th><td>263</td><td>4</td><td>288</td><td>15.0</td><td>0</td><td>1</td><td>2</td><td>2</td><td>2</td></tr><tr><th>7</th><td>264</td><td>4</td><td>288</td><td>23.0</td><td>0</td><td>1</td><td>2</td><td>2</td><td>2</td></tr><tr><th>8</th><td>265</td><td>4</td><td>288</td><td>10.0</td><td>0</td><td>1</td><td>2</td><td>2</td><td>2</td></tr><tr><th>9</th><td>266</td><td>4</td><td>288</td><td>10.0</td><td>0</td><td>1</td><td>2</td><td>2</td><td>2</td></tr><tr><th>10</th><td>268</td><td>4</td><td>288</td><td>15.0</td><td>0</td><td>1</td><td>2</td><td>2</td><td>2</td></tr></tbody></table></div>"
      ],
      "text/latex": [
       "GroupedDataFrame with 144 groups based on key: tofrom\n",
       "\n",
       "First Group (12 rows): tofrom = 6\n",
       "\n",
       "\\begin{tabular}{r|ccccccccc}\n",
       "\t& id & treatment & tofrom & value & role & resp & round & rounds & old\\\\\n",
       "\t\\hline\n",
       "\t& Int64 & Int64 & Int64 & Float64 & Int64 & Int64 & Int64 & Int64 & Int64\\\\\n",
       "\t\\hline\n",
       "\t1 & 1 & 1 & 6 & 20.0 & 0 & 1 & 1 & 2 & 0 \\\\\n",
       "\t2 & 2 & 1 & 6 & 20.0 & 0 & 1 & 1 & 2 & 0 \\\\\n",
       "\t3 & 3 & 1 & 6 & 30.1 & 0 & 1 & 1 & 2 & 0 \\\\\n",
       "\t4 & 4 & 1 & 6 & 12.2 & 0 & 1 & 1 & 2 & 0 \\\\\n",
       "\t5 & 7 & 1 & 6 & 17.7 & 0 & 1 & 1 & 2 & 0 \\\\\n",
       "\t6 & 12 & 1 & 6 & 25.5 & 0 & 1 & 1 & 2 & 0 \\\\\n",
       "\t7 & 15 & 1 & 6 & 15.0 & 0 & 1 & 2 & 2 & 0 \\\\\n",
       "\t8 & 20 & 1 & 6 & 20.7 & 0 & 1 & 2 & 2 & 0 \\\\\n",
       "\t9 & 21 & 1 & 6 & 15.0 & 0 & 1 & 2 & 2 & 0 \\\\\n",
       "\t10 & 25 & 1 & 6 & 20.0 & 0 & 1 & 2 & 2 & 0 \\\\\n",
       "\t11 & 29 & 1 & 6 & 15.0 & 0 & 1 & 2 & 2 & 0 \\\\\n",
       "\t12 & 30 & 1 & 6 & 20.0 & 0 & 1 & 2 & 2 & 0 \\\\\n",
       "\\end{tabular}\n",
       "\n",
       "$\\dots$\n",
       "\n",
       "Last Group (10 rows): tofrom = 288\n",
       "\n",
       "\\begin{tabular}{r|ccccccccc}\n",
       "\t& id & treatment & tofrom & value & role & resp & round & rounds & old\\\\\n",
       "\t\\hline\n",
       "\t& Int64 & Int64 & Int64 & Float64 & Int64 & Int64 & Int64 & Int64 & Int64\\\\\n",
       "\t\\hline\n",
       "\t1 & 272 & 4 & 288 & 10.0 & 0 & 1 & 1 & 2 & 2 \\\\\n",
       "\t2 & 274 & 4 & 288 & 15.0 & 0 & 1 & 1 & 2 & 2 \\\\\n",
       "\t3 & 275 & 4 & 288 & 20.0 & 0 & 1 & 1 & 2 & 2 \\\\\n",
       "\t4 & 270 & 4 & 288 & 20.0 & 0 & 1 & 1 & 2 & 2 \\\\\n",
       "\t5 & 271 & 4 & 288 & 30.0 & 0 & 1 & 1 & 2 & 2 \\\\\n",
       "\t6 & 263 & 4 & 288 & 15.0 & 0 & 1 & 2 & 2 & 2 \\\\\n",
       "\t7 & 264 & 4 & 288 & 23.0 & 0 & 1 & 2 & 2 & 2 \\\\\n",
       "\t8 & 265 & 4 & 288 & 10.0 & 0 & 1 & 2 & 2 & 2 \\\\\n",
       "\t9 & 266 & 4 & 288 & 10.0 & 0 & 1 & 2 & 2 & 2 \\\\\n",
       "\t10 & 268 & 4 & 288 & 15.0 & 0 & 1 & 2 & 2 & 2 \\\\\n",
       "\\end{tabular}\n"
      ],
      "text/plain": [
       "GroupedDataFrame with 144 groups based on key: tofrom\n",
       "First Group (12 rows): tofrom = 6\n",
       "\u001b[1m Row \u001b[0m│\u001b[1m id    \u001b[0m\u001b[1m treatment \u001b[0m\u001b[1m tofrom \u001b[0m\u001b[1m value   \u001b[0m\u001b[1m role  \u001b[0m\u001b[1m resp  \u001b[0m\u001b[1m round \u001b[0m\u001b[1m rounds \u001b[0m\u001b[1m old   \u001b[0m\n",
       "\u001b[1m     \u001b[0m│\u001b[90m Int64 \u001b[0m\u001b[90m Int64     \u001b[0m\u001b[90m Int64  \u001b[0m\u001b[90m Float64 \u001b[0m\u001b[90m Int64 \u001b[0m\u001b[90m Int64 \u001b[0m\u001b[90m Int64 \u001b[0m\u001b[90m Int64  \u001b[0m\u001b[90m Int64 \u001b[0m\n",
       "─────┼───────────────────────────────────────────────────────────────────────\n",
       "   1 │     1          1       6     20.0      0      1      1       2      0\n",
       "   2 │     2          1       6     20.0      0      1      1       2      0\n",
       "   3 │     3          1       6     30.1      0      1      1       2      0\n",
       "   4 │     4          1       6     12.2      0      1      1       2      0\n",
       "   5 │     7          1       6     17.7      0      1      1       2      0\n",
       "   6 │    12          1       6     25.5      0      1      1       2      0\n",
       "   7 │    15          1       6     15.0      0      1      2       2      0\n",
       "   8 │    20          1       6     20.7      0      1      2       2      0\n",
       "   9 │    21          1       6     15.0      0      1      2       2      0\n",
       "  10 │    25          1       6     20.0      0      1      2       2      0\n",
       "  11 │    29          1       6     15.0      0      1      2       2      0\n",
       "  12 │    30          1       6     20.0      0      1      2       2      0\n",
       "⋮\n",
       "Last Group (10 rows): tofrom = 288\n",
       "\u001b[1m Row \u001b[0m│\u001b[1m id    \u001b[0m\u001b[1m treatment \u001b[0m\u001b[1m tofrom \u001b[0m\u001b[1m value   \u001b[0m\u001b[1m role  \u001b[0m\u001b[1m resp  \u001b[0m\u001b[1m round \u001b[0m\u001b[1m rounds \u001b[0m\u001b[1m old   \u001b[0m\n",
       "\u001b[1m     \u001b[0m│\u001b[90m Int64 \u001b[0m\u001b[90m Int64     \u001b[0m\u001b[90m Int64  \u001b[0m\u001b[90m Float64 \u001b[0m\u001b[90m Int64 \u001b[0m\u001b[90m Int64 \u001b[0m\u001b[90m Int64 \u001b[0m\u001b[90m Int64  \u001b[0m\u001b[90m Int64 \u001b[0m\n",
       "─────┼───────────────────────────────────────────────────────────────────────\n",
       "   1 │   272          4     288     10.0      0      1      1       2      2\n",
       "   2 │   274          4     288     15.0      0      1      1       2      2\n",
       "   3 │   275          4     288     20.0      0      1      1       2      2\n",
       "   4 │   270          4     288     20.0      0      1      1       2      2\n",
       "   5 │   271          4     288     30.0      0      1      1       2      2\n",
       "   6 │   263          4     288     15.0      0      1      2       2      2\n",
       "   7 │   264          4     288     23.0      0      1      2       2      2\n",
       "   8 │   265          4     288     10.0      0      1      2       2      2\n",
       "   9 │   266          4     288     10.0      0      1      2       2      2\n",
       "  10 │   268          4     288     15.0      0      1      2       2      2"
      ]
     },
     "execution_count": 12,
     "metadata": {},
     "output_type": "execute_result"
    }
   ],
   "source": [
    "r = groupby(r0, :tofrom)\n"
   ]
  },
  {
   "cell_type": "code",
   "execution_count": 10,
   "id": "d023ef00-6c15-46d3-b019-23daf0bee63e",
   "metadata": {},
   "outputs": [
    {
     "data": {
      "text/html": [
       "<p><b>GroupedDataFrame with 0 group based on key: tofrom</b></p>"
      ],
      "text/latex": [
       "GroupedDataFrame with 0 group based on key: tofrom\n",
       "\n"
      ],
      "text/plain": [
       "GroupedDataFrame with 0 groups based on key: tofrom"
      ]
     },
     "execution_count": 10,
     "metadata": {},
     "output_type": "execute_result"
    }
   ],
   "source": []
  }
 ],
 "metadata": {
  "kernelspec": {
   "display_name": "Julia 1.7.3",
   "language": "julia",
   "name": "julia-1.7"
  },
  "language_info": {
   "file_extension": ".jl",
   "mimetype": "application/julia",
   "name": "julia",
   "version": "1.7.3"
  }
 },
 "nbformat": 4,
 "nbformat_minor": 5
}
