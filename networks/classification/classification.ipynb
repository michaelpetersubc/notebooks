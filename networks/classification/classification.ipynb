{
 "cells": [
  {
   "cell_type": "code",
   "execution_count": 2,
   "id": "ba632584-3500-46c2-82da-40d66ebdcab1",
   "metadata": {},
   "outputs": [],
   "source": [
    "using HTTP, JSON, PrettyTables, JLD, DotEnv, WordCloud, Random, Dates\n",
    "institutions = load(\"institutions.jld\")[\"institutions\"]\n",
    "academic_list = load(\"academic_list.jld\")[\"academic_list\"]\n",
    "adjacency = load(\"adjacency_2023.jld\")[\"out\"];"
   ]
  },
  {
   "cell_type": "markdown",
   "id": "0273c69f-57d1-4c94-9272-b8b713318096",
   "metadata": {},
   "source": [
    "Loaded the adjacency matrix of placements from 2023 only. To verify the relationship between the objects loaded try to learn their properties.  For example"
   ]
  },
  {
   "cell_type": "code",
   "execution_count": 6,
   "id": "e4600dce-6bab-483a-abfe-882897bd046d",
   "metadata": {},
   "outputs": [
    {
     "name": "stdout",
     "output_type": "stream",
     "text": [
      " Total number of organizations is 991\n",
      " Total number of academic institutions is 412\n",
      " The dimension of the adjacency matrix is (991, 412)\n",
      " The number of placements analyzed is 1596\n"
     ]
    }
   ],
   "source": [
    "println(\" Total number of organizations is \", length(institutions),\n",
    "\"\\n Total number of academic institutions is \", length(academic_list),\n",
    "\"\\n The dimension of the adjacency matrix is \", size(adjacency),\n",
    "\"\\n The number of placements analyzed is \", sum(adjacency))"
   ]
  },
  {
   "cell_type": "markdown",
   "id": "6207af3b-05a3-4d38-a78e-37a39504c888",
   "metadata": {},
   "source": [
    "The variables `institutions` and `academic_list` are both julia `sets`.  All elements of sets are distinct (so if you try to add an element to a set that is already there it will ignore you).  Sets have no order, however they are indexed.  The set of all acacemic distributions is created by concatenating the academic list with a list of all the sinks.  From the following you should see how the indexing is preserved."
   ]
  },
  {
   "cell_type": "code",
   "execution_count": 7,
   "id": "76c0057d-c872-40ae-b9a8-05e13d058fe3",
   "metadata": {},
   "outputs": [
    {
     "name": "stdout",
     "output_type": "stream",
     "text": [
      "The 47th element of academic_list is Cranfield University\n",
      "while the 47th element of institutions is Cranfield University\n"
     ]
    }
   ],
   "source": [
    "println(\"The 47th element of academic_list is \", academic_list[47],\n",
    "\"\\nwhile the 47th element of institutions is \", institutions[47])"
   ]
  },
  {
   "cell_type": "markdown",
   "id": "4476c563-afe3-46eb-8e42-a1ea0e0e123d",
   "metadata": {},
   "source": [
    "The adjacency matrix is constructed so that its 47th row coincides with the 47th element of `institutions`.  The 47th row is "
   ]
  },
  {
   "cell_type": "code",
   "execution_count": 8,
   "id": "6760213d-0a15-42e2-8511-753e7d8088e7",
   "metadata": {},
   "outputs": [
    {
     "data": {
      "text/plain": [
       "412-element Vector{Int32}:\n",
       " 0\n",
       " 0\n",
       " 0\n",
       " 0\n",
       " 0\n",
       " 0\n",
       " 0\n",
       " 0\n",
       " 0\n",
       " 0\n",
       " 0\n",
       " 0\n",
       " 0\n",
       " ⋮\n",
       " 0\n",
       " 0\n",
       " 0\n",
       " 0\n",
       " 0\n",
       " 0\n",
       " 0\n",
       " 0\n",
       " 0\n",
       " 0\n",
       " 0\n",
       " 0"
      ]
     },
     "execution_count": 8,
     "metadata": {},
     "output_type": "execute_result"
    }
   ],
   "source": [
    "adjacency[47, :]"
   ]
  },
  {
   "cell_type": "markdown",
   "id": "6558c071-20df-41bf-a18c-15923229e1d8",
   "metadata": {},
   "source": [
    "The matrix is sparse (which means most of its cells have 0 in them).  We can count the number of hires by"
   ]
  },
  {
   "cell_type": "code",
   "execution_count": 10,
   "id": "97e5bb4c-7d6d-44bb-851b-7dc33a450b8c",
   "metadata": {},
   "outputs": [
    {
     "data": {
      "text/plain": [
       "0"
      ]
     },
     "execution_count": 10,
     "metadata": {},
     "output_type": "execute_result"
    }
   ],
   "source": [
    "sum(adjacency[47, :])"
   ]
  },
  {
   "cell_type": "markdown",
   "id": "2b20008c-0802-4989-8b05-e873eff7685e",
   "metadata": {},
   "source": [
    "That means that Cranfield didn't hire in 2023.  Since the relation between indices and actual entities are preserved between `institutions` and `academic_list`, Cranfield must have graduated a student in 2023.  This computation verifies: "
   ]
  },
  {
   "cell_type": "code",
   "execution_count": 11,
   "id": "8ebe9c4d-7346-44a9-9365-48d95b685ece",
   "metadata": {},
   "outputs": [
    {
     "data": {
      "text/plain": [
       "1"
      ]
     },
     "execution_count": 11,
     "metadata": {},
     "output_type": "execute_result"
    }
   ],
   "source": [
    "sum(adjacency[:, 47])"
   ]
  },
  {
   "cell_type": "markdown",
   "id": "c698ac37-7f2a-4926-8db7-349e2d0ab05f",
   "metadata": {},
   "source": [
    "This means we can do computations using only matrices, since we don't need the labelling features of Dataframes or dictionaries."
   ]
  },
  {
   "cell_type": "markdown",
   "id": "52a98230-4e06-412e-a32b-2169a456ae79",
   "metadata": {},
   "source": [
    "## Communities\n",
    "\n",
    "We'll start with the assumption that we have chosen the members of 5 distinct academic communities ${ c_1 , c_2 , c_3 , c_4, c_5}$.  We can write $c_i^j$ to represent the $j^th$ member of community $i$.\n",
    "\n",
    "Each member of community $i$ interacts with all the $991$ institutions for which we have data.  We'll maintain the assumption here that each academic community coincides with a distinct hiring community.  Given the members we have assigned to each community we have to find the likelihood that we would see the adjacency matrix `adjacency` that we found above. \n",
    "\n",
    "This consists of two parts.  First we need to find a vector of placement rates $\\lambda$ that describes how the communities are related.  The number of elements of this vector depend on the number of  hiring communities we use.  Here we'll use 11, 5 academic hiring communities and 6 sinks from the public and private sector.  This means that for each academic community there are 11 rates at which this community places students with each of the hiring communities.  So in this example, there are 55 placement rates to be estimated."
   ]
  },
  {
   "cell_type": "markdown",
   "id": "74b551db-2a41-4d12-b9c7-23873e5f2cd0",
   "metadata": {},
   "source": [
    "The placement rates that maximize likelihood are actually very easy to find.  To simplify, suppose we observe 3 members of one community whose placements go to 5 different institutions in another community.  Since all placements are supposed to be independently drawn, this gives a small portion of the adjacency matrix above that looks like\n",
    "<table><tr><td>3</td><td>0</td><td>1</td></tr>\n",
    "<tr><td>0</td><td>0</td><td>1</td></tr>\n",
    "<tr><td>1</td><td>4</td><td>2</td></tr>\n",
    "<tr><td>1</td><td>3</td><td>1</td></tr>\n",
    "<tr><td>0</td><td>0</td><td>1</td></tr>\n",
    "</table>\n",
    "If $\\lambda$ is the rate at which we think members of our 3 graduating institutions place graduates at each of our 5 hiring institutions then we take each element $k$ of the adjacency matrix and compute its probability according to $\\lambda$ at \n",
    "$$\n",
    " \\frac{e^{-\\lambda}\\lambda^{k!}}{k!}\n",
    "$$"
   ]
  },
  {
   "cell_type": "markdown",
   "id": "0b687e61-ef31-4c20-907e-3256364342fa",
   "metadata": {},
   "source": [
    "To find the probability of the numbers in the table above, we have to multiply the probabilities of each of the cells.  Lets do it symbolically - with $k_{ij}$ being the number recorded in each cell.  The general formula is\n",
    "$$\n",
    "\\prod_{i=1}^3 \\prod_{j=1}^5 \\frac{e^{-\\lambda}\\lambda^{k_{ij}}}{k_{ij}!}\n",
    "$$\n",
    "Since the log transformation is monotonically increasing, we can find the value for $\\lambda$ that maximizes this expression by maximizing the log which is given by \n",
    "$$\n",
    "\\sum_{i=1}^3 \\sum_{j=1}^5{-\\lambda+k_{ij}log(\\lambda)-\\log(k_{ij}!)}\n",
    "$$\n",
    "This is \n",
    "$$ -15\\lambda+\\sum_{i=1}^3\\sum_{i=1}^5 k_{ij}\\log(\\lambda)-\\sum_{i=1}^3\\sum_{j=1}^5\\log(k_{ij}!) $$\n",
    "To maximize this you would do the usual, take the derivative with respect to $\\lambda$ and set it to zero.  Since $\\lambda$ only occurs in the first two terms, this means the best estimate is just\n",
    "$$\n",
    "\\lambda^\\ast = \\frac{\\sum_{i=1}^3\\sum_{i=1}^5 k_{ij}}{15} $$\n",
    "\n",
    "We'll have to substitute that value back into the likelihood function itself because we are eventually going to choose community members to maximize this likelihood value."
   ]
  }
 ],
 "metadata": {
  "kernelspec": {
   "display_name": "Julia 1.11.2",
   "language": "julia",
   "name": "julia-1.11"
  },
  "language_info": {
   "file_extension": ".jl",
   "mimetype": "application/julia",
   "name": "julia",
   "version": "1.11.2"
  }
 },
 "nbformat": 4,
 "nbformat_minor": 5
}
