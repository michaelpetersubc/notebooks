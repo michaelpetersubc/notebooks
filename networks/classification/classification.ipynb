{
 "cells": [
  {
   "cell_type": "code",
   "execution_count": 2,
   "id": "ba632584-3500-46c2-82da-40d66ebdcab1",
   "metadata": {},
   "outputs": [],
   "source": [
    "using HTTP, JSON, PrettyTables, JLD, DotEnv,  Random, Dates\n",
    "institutions = load(\"institutions.jld\")[\"institutions\"]\n",
    "academic_list = load(\"academic_list.jld\")[\"academic_list\"]\n",
    "adjacency = load(\"adjacency_2023.jld\")[\"out\"];"
   ]
  },
  {
   "cell_type": "markdown",
   "id": "0273c69f-57d1-4c94-9272-b8b713318096",
   "metadata": {},
   "source": [
    "Loaded the adjacency matrix of placements from 2023 only. To verify the relationship between the objects loaded try to learn their properties.  For example"
   ]
  },
  {
   "cell_type": "code",
   "execution_count": 3,
   "id": "e4600dce-6bab-483a-abfe-882897bd046d",
   "metadata": {},
   "outputs": [
    {
     "name": "stdout",
     "output_type": "stream",
     "text": [
      " Total number of organizations is 991\n",
      " Total number of academic institutions is 412\n",
      " The dimension of the adjacency matrix is (991, 412)\n",
      " The number of placements analyzed is 1596\n"
     ]
    }
   ],
   "source": [
    "println(\" Total number of organizations is \", length(institutions),\n",
    "\"\\n Total number of academic institutions is \", length(academic_list),\n",
    "\"\\n The dimension of the adjacency matrix is \", size(adjacency),\n",
    "\"\\n The number of placements analyzed is \", sum(adjacency))"
   ]
  },
  {
   "cell_type": "markdown",
   "id": "6207af3b-05a3-4d38-a78e-37a39504c888",
   "metadata": {},
   "source": [
    "The variables `institutions` and `academic_list` are both julia `sets`.  All elements of sets are distinct (so if you try to add an element to a set that is already there it will ignore you).  Sets have no order, however they are indexed.  The set of all acacemic distributions is created by concatenating the academic list with a list of all the sinks.  From the following you should see how the indexing is preserved."
   ]
  },
  {
   "cell_type": "code",
   "execution_count": 4,
   "id": "76c0057d-c872-40ae-b9a8-05e13d058fe3",
   "metadata": {},
   "outputs": [
    {
     "name": "stdout",
     "output_type": "stream",
     "text": [
      "The 47th element of academic_list is Cranfield University\n",
      "while the 47th element of institutions is Cranfield University\n"
     ]
    }
   ],
   "source": [
    "println(\"The 47th element of academic_list is \", academic_list[47],\n",
    "\"\\nwhile the 47th element of institutions is \", institutions[47])"
   ]
  },
  {
   "cell_type": "markdown",
   "id": "4476c563-afe3-46eb-8e42-a1ea0e0e123d",
   "metadata": {},
   "source": [
    "The adjacency matrix is constructed so that its 47th row coincides with the 47th element of `institutions`.  The 47th row is "
   ]
  },
  {
   "cell_type": "code",
   "execution_count": 5,
   "id": "6760213d-0a15-42e2-8511-753e7d8088e7",
   "metadata": {},
   "outputs": [
    {
     "data": {
      "text/plain": [
       "412-element Vector{Int32}:\n",
       " 0\n",
       " 0\n",
       " 0\n",
       " 0\n",
       " 0\n",
       " 0\n",
       " 0\n",
       " 0\n",
       " 0\n",
       " 0\n",
       " 0\n",
       " 0\n",
       " 0\n",
       " ⋮\n",
       " 0\n",
       " 0\n",
       " 0\n",
       " 0\n",
       " 0\n",
       " 0\n",
       " 0\n",
       " 0\n",
       " 0\n",
       " 0\n",
       " 0\n",
       " 0"
      ]
     },
     "execution_count": 5,
     "metadata": {},
     "output_type": "execute_result"
    }
   ],
   "source": [
    "adjacency[47, :]"
   ]
  },
  {
   "cell_type": "markdown",
   "id": "6558c071-20df-41bf-a18c-15923229e1d8",
   "metadata": {},
   "source": [
    "The matrix is sparse (which means most of its cells have 0 in them).  We can count the number of hires by"
   ]
  },
  {
   "cell_type": "code",
   "execution_count": 6,
   "id": "97e5bb4c-7d6d-44bb-851b-7dc33a450b8c",
   "metadata": {},
   "outputs": [
    {
     "data": {
      "text/plain": [
       "0"
      ]
     },
     "execution_count": 6,
     "metadata": {},
     "output_type": "execute_result"
    }
   ],
   "source": [
    "sum(adjacency[47, :])"
   ]
  },
  {
   "cell_type": "markdown",
   "id": "2b20008c-0802-4989-8b05-e873eff7685e",
   "metadata": {},
   "source": [
    "That means that Cranfield didn't hire in 2023.  Since the relation between indices and actual entities are preserved between `institutions` and `academic_list`, Cranfield must have graduated a student in 2023.  This computation verifies: "
   ]
  },
  {
   "cell_type": "code",
   "execution_count": 7,
   "id": "8ebe9c4d-7346-44a9-9365-48d95b685ece",
   "metadata": {},
   "outputs": [
    {
     "data": {
      "text/plain": [
       "1"
      ]
     },
     "execution_count": 7,
     "metadata": {},
     "output_type": "execute_result"
    }
   ],
   "source": [
    "sum(adjacency[:, 47])"
   ]
  },
  {
   "cell_type": "markdown",
   "id": "c698ac37-7f2a-4926-8db7-349e2d0ab05f",
   "metadata": {},
   "source": [
    "This means we can do computations using only matrices, since we don't need the labelling features of Dataframes or dictionaries."
   ]
  },
  {
   "cell_type": "markdown",
   "id": "52a98230-4e06-412e-a32b-2169a456ae79",
   "metadata": {},
   "source": [
    "## Communities\n",
    "\n",
    "We'll start with the assumption that we have chosen the members of 5 distinct academic communities ${ c_1 , c_2 , c_3 , c_4, c_5}$.  We can write $c_i^j$ to represent the $j^th$ member of community $i$.\n",
    "\n",
    "Each member of community $i$ interacts with all the $991$ institutions for which we have data.  We'll maintain the assumption here that each academic community coincides with a distinct hiring community.  Given the members we have assigned to each community we have to find the likelihood that we would see the adjacency matrix `adjacency` that we found above. \n",
    "\n",
    "This consists of two parts.  First we need to find a vector of placement rates $\\lambda$ that describes how the communities are related.  The number of elements of this vector depend on the number of  hiring communities we use.  Here we'll use 11, 5 academic hiring communities and 6 sinks from the public and private sector.  This means that for each academic community there are 11 rates at which this community places students with each of the hiring communities.  So in this example, there are 55 placement rates to be estimated."
   ]
  },
  {
   "cell_type": "markdown",
   "id": "74b551db-2a41-4d12-b9c7-23873e5f2cd0",
   "metadata": {},
   "source": [
    "The placement rates that maximize likelihood are actually very easy to find.  To simplify, suppose we observe 3 members of one community whose placements go to 5 different institutions in another community.  Since all placements are supposed to be independently drawn, this gives a small portion of the adjacency matrix above that looks like\n",
    "<table><tr><td>3</td><td>0</td><td>1</td></tr>\n",
    "<tr><td>0</td><td>0</td><td>1</td></tr>\n",
    "<tr><td>1</td><td>4</td><td>2</td></tr>\n",
    "<tr><td>1</td><td>3</td><td>1</td></tr>\n",
    "<tr><td>0</td><td>0</td><td>1</td></tr>\n",
    "</table>\n",
    "If $\\lambda$ is the rate at which we think members of our 3 graduating institutions place graduates at each of our 5 hiring institutions then we take each element $k$ of the adjacency matrix and compute its probability according to $\\lambda$ at \n",
    "$$\n",
    " \\frac{e^{-\\lambda}\\lambda^{k!}}{k!}\n",
    "$$"
   ]
  },
  {
   "cell_type": "markdown",
   "id": "0b687e61-ef31-4c20-907e-3256364342fa",
   "metadata": {},
   "source": [
    "To find the probability of the numbers in the table above, we have to multiply the probabilities of each of the cells.  Lets do it symbolically - with $k_{ij}$ being the number recorded in each cell.  The general formula is\n",
    "$$\n",
    "\\prod_{i=1}^3 \\prod_{j=1}^5 \\frac{e^{-\\lambda}\\lambda^{k_{ij}}}{k_{ij}!}\n",
    "$$\n",
    "Since the log transformation is monotonically increasing, we can find the value for $\\lambda$ that maximizes this expression by maximizing the log which is given by \n",
    "$$\n",
    "\\sum_{i=1}^3 \\sum_{j=1}^5{-\\lambda+k_{ij}log(\\lambda)-\\log(k_{ij}!)}\n",
    "$$\n",
    "This is \n",
    "$$ -15\\lambda+\\sum_{i=1}^3\\sum_{i=1}^5 k_{ij}\\log(\\lambda)-\\sum_{i=1}^3\\sum_{j=1}^5\\log(k_{ij}!) $$\n",
    "To maximize this you would do the usual, take the derivative with respect to $\\lambda$ and set it to zero.  Since $\\lambda$ only occurs in the first two terms, this means the best estimate is just\n",
    "$$\n",
    "\\lambda^\\ast = \\frac{\\sum_{i=1}^3\\sum_{i=1}^5 k_{ij}}{15}= \\frac{18}{15} $$\n",
    "\n",
    "We'll have to substitute that value back into the likelihood function itself because we are eventually going to choose community members to maximize this likelihood value."
   ]
  },
  {
   "cell_type": "markdown",
   "id": "91950844-d6b0-4a2a-adf6-3f467b12baf6",
   "metadata": {},
   "source": [
    "Notice that in this objective, the three graduating institutions represented along the top of the table are all assumed to be members of the same community.  The hiring institutions represented by the rows are all in the same community as well, so if we called these communities $c$  and $c^\\prime$  then we could equally write this part of the likelihood function as\n",
    "$$\n",
    "\\prod_{i\\in c} \\prod_{j\\in c^\\prime }\\Biggl\\{ \\frac{e^{-\\lambda_{cc^\\prime}}\\lambda_{cc^\\prime}^{k_{ij}}}{k_{ij}!}\\Biggr\\}\n",
    "$$\n",
    "where $\\lambda_{cc^\\prime}$ is the common placement rate  between the two communities.\n",
    "\n",
    "To get the probability of the entire sample we should multiply these products together for all different $(c,c^\\prime$ pairs in our community structure.  If $C$  is the collection of graduating institutions and $C^\\prime$ is the set of hiring institutions, then the expression would look like\n",
    "$$\n",
    "\\prod_{c\\in C}\\prod_{c^\\prime \\in C^\\prime}\\Biggl(\\prod_{i\\in c} \\prod_{j\\in c^\\prime }\\Biggl\\{ \\frac{e^{-\\lambda_{cc^\\prime}}\\lambda_{cc^\\prime}^{k_{ij}}}{k_{ij}!}\\Biggr\\} \\Biggr)\n",
    "$$\n",
    "\n",
    "The thing to notice about this is that each $k_{ij}$ is just an entry in some cell of the adjacency matrix.  As we do this product across all the communities, the product in the denominator will just be a product of the factorial of each of the cells in the adjacency matrix.  The point is that this is true no matter what community structure we choose.  So when we compare likelihoods for different community structures, we can do so using only the numerators of the likelihoods - the denominators will \n",
    "be the same."
   ]
  },
  {
   "cell_type": "markdown",
   "id": "a09ba8b5-c2d3-43f0-bf53-7d4252241940",
   "metadata": {},
   "source": [
    "Writing a community struture in a different way.  Let $I$ be the number of hiring institutions, while $A$ is the number of academic institutions. We'll let $\\mathcal{A}$ be the adjacency matrix. $k$ is the number of academic tiers while $K$ is the number of hiring tiers.  We'll create a matrix $C$ of dimension $(K,I)$ which has entries which are either  $0$ or $1$.  An entry in a cell $(i,j)$ of this matrix is $1$ if and only if institution $j$ is a member of hiring community $i$.  The row sums indicate the size of a hiring community.  The matrix $C$ describes a community structure for hiring institutions.\n",
    "\n",
    "The  matrix product $C\\mathcal{A}$ is a $(K,A)$ matrix whose element $(i,j)$ represents the number of graduates univerity $j$ placed in hiring tier $i$.\n",
    "\n",
    "We can do the same thing and represent the academic community structure with an $(A,k)$ matrix $T$ whose $i,j$th element is $1$ if and only if university $i$ is in academic tier $j$.  the matrix product $C\\mathcal{A}T$ is the tier to tier adjacency matrix whose $i,j$th element is the total number of placements if graduates from tier $j$ who got jobs in tier $i$.  Since the column sums of $T$, say $t$, give the total number of institutions in each graduating tier, while the row sums of $C$, say $c$, give the total number of hiring institutions in each hiring teir, we can reduce the likelihood calculation to a iteration across a $K$ by $k$ matrix, where $K$ is the total number of hiring tiers, while $k$ is the number of graduating tiers.\n",
    "\n",
    "Referring to our simple example above we can do the likelihood calculation for placements by graduating tier $j$ in hiring tier $i$  as\n",
    "$$\n",
    "CA\\mathcal{T}[i,j](\\log(\\frac{CA\\mathcal{T}[i,j]}{c[i]t[j]})-1)\n",
    "$$"
   ]
  },
  {
   "cell_type": "code",
   "execution_count": 13,
   "id": "f20d37fc-68ef-4a04-a999-fdc1a0c1d6f8",
   "metadata": {},
   "outputs": [],
   "source": [
    "#create design matrices\n",
    "C = zeros(Int32, 12, length(institutions));\n",
    "T = zeros(Int32, length(academic_list), 5);\n",
    "#get an allocation\n",
    "est_alloc = load(\"est_alloc.jld\")[\"est_alloc\"];"
   ]
  },
  {
   "cell_type": "code",
   "execution_count": 14,
   "id": "aa042893-995b-48df-9453-d4273980f2f9",
   "metadata": {},
   "outputs": [],
   "source": [
    "for i in 1:length(institutions)\n",
    "    C[est_alloc[i], i] = 1\n",
    "end"
   ]
  },
  {
   "cell_type": "code",
   "execution_count": 15,
   "id": "a056f8e5-5b51-4697-a159-0d036a7ec24a",
   "metadata": {},
   "outputs": [
    {
     "data": {
      "text/plain": [
       "991"
      ]
     },
     "execution_count": 15,
     "metadata": {},
     "output_type": "execute_result"
    }
   ],
   "source": [
    "sum(C)"
   ]
  },
  {
   "cell_type": "code",
   "execution_count": 16,
   "id": "7bbd3aeb-36e1-4300-a937-5433f5a60672",
   "metadata": {},
   "outputs": [],
   "source": [
    "for i in 1:length(academic_list)\n",
    "    T[i, est_alloc[i]] = 1\n",
    "end"
   ]
  },
  {
   "cell_type": "code",
   "execution_count": 18,
   "id": "a517a89f-225f-4845-97ab-38caf534c1a2",
   "metadata": {},
   "outputs": [
    {
     "data": {
      "text/plain": [
       "12×5 Matrix{Int32}:\n",
       " 79  20   0  22   30\n",
       "  0  42   4   0   63\n",
       "  0   0   0   0    0\n",
       " 18   8   8  96   50\n",
       " 10  28   0  27  145\n",
       "  2  24  11  40   76\n",
       "  0  30   6  23   87\n",
       " 17   0  11  43   10\n",
       "  0   4   3   1    4\n",
       " 26  54  76  47   63\n",
       "  4   8   0  16   24\n",
       " 17  63  28  41   87"
      ]
     },
     "execution_count": 18,
     "metadata": {},
     "output_type": "execute_result"
    }
   ],
   "source": [
    "compressed_adjacency = C*adjacency*T"
   ]
  },
  {
   "cell_type": "code",
   "execution_count": 19,
   "id": "0580f3db-8eff-47b7-a62a-52f5739c7a9e",
   "metadata": {},
   "outputs": [
    {
     "data": {
      "text/plain": [
       "1596"
      ]
     },
     "execution_count": 19,
     "metadata": {},
     "output_type": "execute_result"
    }
   ],
   "source": [
    "sum(compressed_adjacency)"
   ]
  },
  {
   "cell_type": "code",
   "execution_count": 23,
   "id": "1dca9bbc-684c-48d3-ba91-88362cd653ae",
   "metadata": {},
   "outputs": [
    {
     "data": {
      "text/plain": [
       "1×5 Matrix{Int64}:\n",
       " 119  63  128  64  38"
      ]
     },
     "execution_count": 23,
     "metadata": {},
     "output_type": "execute_result"
    }
   ],
   "source": [
    "t = sum(T,dims = 1)"
   ]
  },
  {
   "cell_type": "code",
   "execution_count": 27,
   "id": "ec0b0772-93fe-4998-ae35-7bd471488ead",
   "metadata": {},
   "outputs": [
    {
     "data": {
      "text/plain": [
       "12×1 Matrix{Int64}:\n",
       " 119\n",
       "  63\n",
       " 128\n",
       "  64\n",
       "  38\n",
       "  66\n",
       "  69\n",
       " 188\n",
       "  50\n",
       "   1\n",
       "  13\n",
       " 192"
      ]
     },
     "execution_count": 27,
     "metadata": {},
     "output_type": "execute_result"
    }
   ],
   "source": [
    "c = sum(C, dims=2)"
   ]
  },
  {
   "cell_type": "code",
   "execution_count": 30,
   "id": "03ec7733-5f83-46da-a6b6-e08eae3efeae",
   "metadata": {},
   "outputs": [
    {
     "data": {
      "text/plain": [
       "12×5 Matrix{Float64}:\n",
       " 0.0055787    0.00266773  0.0          0.00288866  0.00663423\n",
       " 0.0          0.010582    0.000496032  0.0         0.0263158\n",
       " 0.0          0.0         0.0          0.0         0.0\n",
       " 0.00236345   0.00198413  0.000976562  0.0234375   0.0205592\n",
       " 0.00221141   0.0116959   0.0          0.011102    0.100416\n",
       " 0.000254647  0.00577201  0.00130208   0.0094697   0.030303\n",
       " 0.0          0.00690131  0.000679348  0.00520833  0.0331808\n",
       " 0.000759878  0.0         0.000457114  0.0035738   0.00139978\n",
       " 0.0          0.00126984  0.00046875   0.0003125   0.00210526\n",
       " 0.218487     0.857143    0.59375      0.734375    1.65789\n",
       " 0.00258565   0.00976801  0.0          0.0192308   0.048583\n",
       " 0.000744048  0.00520833  0.00113932   0.00333659  0.0119243"
      ]
     },
     "execution_count": 30,
     "metadata": {},
     "output_type": "execute_result"
    }
   ],
   "source": [
    "rates = zeros(12,5)\n",
    "for i in 1:12, j in 1:5\n",
    "    rates[i,j] = compressed_adjacency[i,j]/(c[i]*t[j])\n",
    "end\n",
    "rates"
   ]
  },
  {
   "cell_type": "code",
   "execution_count": 33,
   "id": "790a5417-7884-4396-893b-ca61147f7c7f",
   "metadata": {},
   "outputs": [
    {
     "data": {
      "text/plain": [
       "7635.759517257309"
      ]
     },
     "execution_count": 33,
     "metadata": {},
     "output_type": "execute_result"
    }
   ],
   "source": [
    "# likelihood\n",
    "l = 0.0\n",
    "for i in 1:12,j in 1:5\n",
    "    l +=  -compressed_adjacency[i,j]*(log(max(rates[i,j],.001)) - 1)\n",
    "end\n",
    "l"
   ]
  }
 ],
 "metadata": {
  "kernelspec": {
   "display_name": "Julia 1.11.3",
   "language": "julia",
   "name": "julia-1.11"
  },
  "language_info": {
   "file_extension": ".jl",
   "mimetype": "application/julia",
   "name": "julia",
   "version": "1.11.3"
  }
 },
 "nbformat": 4,
 "nbformat_minor": 5
}
