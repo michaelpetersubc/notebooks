{
 "cells": [
  {
   "cell_type": "code",
   "execution_count": 1,
   "id": "5231d1f0-70bd-4c6b-9fbf-59be7814c685",
   "metadata": {},
   "outputs": [],
   "source": [
    "using HTTP, JSON, PrettyTables, JLD, DotEnv,  Random, Dates\n",
    "institutions = load(\"institutions.jld\")[\"institutions\"]\n",
    "academic_list = load(\"academic_list.jld\")[\"academic_list\"]\n",
    "adjacency = load(\"adjacency_2023.jld\")[\"out\"];"
   ]
  },
  {
   "cell_type": "code",
   "execution_count": 3,
   "id": "4aa99c96-a7d0-48bf-8261-e9ef058522a3",
   "metadata": {},
   "outputs": [],
   "source": [
    "C = zeros(Int32,12,length(institutions))\n",
    "T = zeros(Int32, length(academic_list), 5);"
   ]
  },
  {
   "cell_type": "code",
   "execution_count": 4,
   "id": "1fe0bae2-191e-4e6c-9214-ac2e5e438c20",
   "metadata": {},
   "outputs": [],
   "source": [
    "# fill in the hard coded sinks\n",
    "est_alloc = load(\"est_alloc.jld\")[\"est_alloc\"];\n",
    "for i in length(academic_list)+1:length(institutions)\n",
    "    C[est_alloc[i], i] = 1\n",
    "end"
   ]
  },
  {
   "cell_type": "code",
   "execution_count": 6,
   "id": "89c904c6-089b-4b30-88ed-3865eff3591a",
   "metadata": {},
   "outputs": [],
   "source": [
    "# sinks have been hard coded - start by assigning all academic institutions to community 1\n",
    "for i in 1:length(academic_list)\n",
    "    T[i,1] = 1\n",
    "    C[1,i] = 1\n",
    "end\n",
    "#now all academic institutions are in the same tier"
   ]
  },
  {
   "cell_type": "code",
   "execution_count": 7,
   "id": "571c1084-75d7-4093-847f-0c2004110218",
   "metadata": {},
   "outputs": [
    {
     "data": {
      "text/plain": [
       "991"
      ]
     },
     "execution_count": 7,
     "metadata": {},
     "output_type": "execute_result"
    }
   ],
   "source": [
    "sum(C)"
   ]
  },
  {
   "cell_type": "code",
   "execution_count": 8,
   "id": "e1e1a661-5df3-4ba9-b36b-e92806d25cdd",
   "metadata": {},
   "outputs": [
    {
     "data": {
      "text/plain": [
       "412"
      ]
     },
     "execution_count": 8,
     "metadata": {},
     "output_type": "execute_result"
    }
   ],
   "source": [
    "sum(T)"
   ]
  },
  {
   "cell_type": "code",
   "execution_count": 9,
   "id": "85a15996-7b38-42c6-a5be-6e8b7ab4a9a9",
   "metadata": {},
   "outputs": [
    {
     "data": {
      "text/plain": [
       "12×1 Matrix{Int64}:\n",
       " 412\n",
       "   0\n",
       "   0\n",
       "   0\n",
       "   0\n",
       "  66\n",
       "  69\n",
       " 188\n",
       "  50\n",
       "   1\n",
       "  13\n",
       " 192"
      ]
     },
     "execution_count": 9,
     "metadata": {},
     "output_type": "execute_result"
    }
   ],
   "source": [
    "c = sum(C, dims = 2)"
   ]
  },
  {
   "cell_type": "code",
   "execution_count": 10,
   "id": "a0921e22-fc4e-4878-8b92-8d1226f7f826",
   "metadata": {},
   "outputs": [
    {
     "data": {
      "text/plain": [
       "1×5 Matrix{Int64}:\n",
       " 412  0  0  0  0"
      ]
     },
     "execution_count": 10,
     "metadata": {},
     "output_type": "execute_result"
    }
   ],
   "source": [
    "t = sum(T, dims=1)"
   ]
  },
  {
   "cell_type": "code",
   "execution_count": 11,
   "id": "700f4a2a-6c49-4469-bca5-13a7a04bd907",
   "metadata": {},
   "outputs": [
    {
     "data": {
      "text/plain": [
       "12×5 Matrix{Int32}:\n",
       " 650  0  0  0  0\n",
       "   0  0  0  0  0\n",
       "   0  0  0  0  0\n",
       "   0  0  0  0  0\n",
       "   0  0  0  0  0\n",
       " 153  0  0  0  0\n",
       " 146  0  0  0  0\n",
       "  81  0  0  0  0\n",
       "  12  0  0  0  0\n",
       " 266  0  0  0  0\n",
       "  52  0  0  0  0\n",
       " 236  0  0  0  0"
      ]
     },
     "execution_count": 11,
     "metadata": {},
     "output_type": "execute_result"
    }
   ],
   "source": [
    "C*adjacency*T"
   ]
  },
  {
   "cell_type": "code",
   "execution_count": 12,
   "id": "8fe66160-3156-4a9a-803c-a7c5d6402921",
   "metadata": {},
   "outputs": [
    {
     "data": {
      "text/plain": [
       "likelihood (generic function with 1 method)"
      ]
     },
     "execution_count": 12,
     "metadata": {},
     "output_type": "execute_result"
    }
   ],
   "source": [
    "function likelihood(adjacency, c, t)\n",
    "    # the number of institutions in each tier\n",
    "    # the number of academic institions in each tier\n",
    "    l = 0.0\n",
    "    for i in 1:12,j in 1:5\n",
    "        l +=  -adjacency[i,j]*(log(max(adjacency[i,j]/(max(c[i]*t[j],1)),.0001)) - 1)\n",
    "    end\n",
    "    return l\n",
    "end\n",
    "    "
   ]
  },
  {
   "cell_type": "code",
   "execution_count": 13,
   "id": "0dfaca5b-11bd-4496-bc9e-35427576b0c8",
   "metadata": {},
   "outputs": [
    {
     "data": {
      "text/plain": [
       "9150.45365384631"
      ]
     },
     "execution_count": 13,
     "metadata": {},
     "output_type": "execute_result"
    }
   ],
   "source": [
    "likelihood(C*adjacency*T, c, t)"
   ]
  },
  {
   "cell_type": "code",
   "execution_count": 14,
   "id": "45dcb0e8-d8b4-410e-9865-2d5101d11d23",
   "metadata": {},
   "outputs": [
    {
     "data": {
      "text/plain": [
       "1596"
      ]
     },
     "execution_count": 14,
     "metadata": {},
     "output_type": "execute_result"
    }
   ],
   "source": [
    "sum(adjacency)"
   ]
  },
  {
   "cell_type": "code",
   "execution_count": 15,
   "id": "7a4a5ba8-a202-4d34-afb2-8d2ae4ab5a62",
   "metadata": {},
   "outputs": [
    {
     "data": {
      "text/plain": [
       "best_alloc (generic function with 2 methods)"
      ]
     },
     "execution_count": 15,
     "metadata": {},
     "output_type": "execute_result"
    }
   ],
   "source": [
    "function best_alloc(C,T,adjacency, iterations = 10) \n",
    "    c = sum(C, dims = 2)\n",
    "    t = sum(T, dims=1)\n",
    "    start = likelihood(C*adjacency*T, c, t)\n",
    "    sq = [C, T, start]\n",
    "    println(\"Starting value: \", start)\n",
    "    n = 0\n",
    "    while n < iterations\n",
    "        shuffle = []\n",
    "        to_tier = []\n",
    "        new_C = zeros(Int32,size(C,1),size(C,2))\n",
    "        new_T = zeros(Int32, size(T,1),size(T,2))\n",
    "        for j in 1:1\n",
    "            push!(shuffle, rand(1:size(T,1)))\n",
    "            push!(to_tier, rand(1:size(T,2)))\n",
    "        end\n",
    "    \n",
    "        for i in 1:size(C,2), j in 1:size(C,1)\n",
    "            index = findfirst(x -> x == i, shuffle)\n",
    "            if !isnothing(index)\n",
    "                if j == to_tier[index] \n",
    "                    new_C[j, i] = 1\n",
    "                    new_T[i, j] = 1\n",
    "                else\n",
    "                    new_C[j, i] = 0\n",
    "                    if j < size(T,2) + 1\n",
    "                        new_T[i, j] = 0\n",
    "                    end\n",
    "                end\n",
    "            else\n",
    "                new_C[j,i] = sq[1][j,i]\n",
    "                if i < size(T,1) + 1\n",
    "                    if j < size(T,2) + 1\n",
    "                        new_T[i, j] = sq[2][i,j]\n",
    "                    end\n",
    "                end\n",
    "            end\n",
    "        end\n",
    "        c = sum(new_C, dims = 2)\n",
    "        t = sum(new_T, dims = 1)\n",
    "        new_l = likelihood(new_C*adjacency*new_T,c,t)\n",
    "        \n",
    "        if new_l < sq[3]\n",
    "            println(\"Iteration \", n, \": \" , new_l)\n",
    "            sq[3] = new_l\n",
    "            sq[1] = new_C\n",
    "            sq[2] = new_T\n",
    "        end\n",
    "        n += 1\n",
    "    end\n",
    "                \n",
    "    return sq\n",
    "end\n",
    "        "
   ]
  },
  {
   "cell_type": "code",
   "execution_count": 16,
   "id": "c0c18572-b5e7-4e43-8b3b-3733d2569be1",
   "metadata": {},
   "outputs": [
    {
     "name": "stdout",
     "output_type": "stream",
     "text": [
      "Starting value: 9150.45365384631\n",
      "Iteration 0: 9140.866538550988\n",
      "Iteration 2: 9136.928173418903\n",
      "Iteration 4: 9131.914034922876\n",
      "Iteration 5: 9130.489943749297\n",
      "Iteration 6: 9130.03755434833\n",
      "Iteration 8: 9128.404913008028\n",
      "Iteration 10: 9128.227724518169\n",
      "Iteration 11: 9125.361634730876\n",
      "Iteration 13: 9122.702860865034\n",
      "Iteration 15: 9120.375220034939\n",
      "Iteration 16: 9113.437336042405\n",
      "Iteration 19: 9112.431394792751\n",
      "Iteration 25: 9110.354130443748\n",
      "Iteration 26: 9109.767515466114\n",
      "Iteration 28: 9106.577122518202\n",
      "Iteration 29: 9104.3217092057\n",
      "Iteration 34: 9102.963990119182\n",
      "Iteration 36: 9100.90047145319\n",
      "Iteration 38: 9099.12904242737\n",
      "Iteration 40: 9095.410312693444\n",
      "Iteration 41: 9092.513173276599\n",
      "Iteration 42: 9090.430975627663\n",
      "Iteration 43: 9087.037376311573\n",
      "Iteration 44: 9084.31634312318\n",
      "Iteration 45: 9081.056759324112\n",
      "Iteration 53: 9080.666937419319\n",
      "Iteration 56: 9078.74471184605\n",
      "Iteration 58: 9075.160235742185\n",
      "Iteration 59: 9072.95705138202\n",
      "Iteration 62: 9069.94805315333\n",
      "Iteration 63: 9069.335421315782\n",
      "Iteration 65: 9066.709600697206\n",
      "Iteration 68: 9063.243874369193\n",
      "Iteration 69: 9060.982165163423\n",
      "Iteration 70: 9059.505490622465\n",
      "Iteration 71: 9058.861909750318\n",
      "Iteration 74: 9053.668250408775\n",
      "Iteration 75: 9049.97021264983\n",
      "Iteration 78: 9045.05292488416\n",
      "Iteration 81: 9044.104935873696\n",
      "Iteration 91: 9040.764169301387\n",
      "Iteration 94: 9038.716604682872\n",
      "Iteration 95: 9034.479895654891\n",
      "Iteration 98: 9031.796224413574\n",
      "Iteration 107: 9030.006665054614\n",
      "Iteration 110: 9027.830065857988\n",
      "Iteration 112: 9025.269360370625\n",
      "Iteration 114: 9022.738823654507\n",
      "Iteration 116: 9019.209587219582\n",
      "Iteration 117: 9016.161944323605\n",
      "Iteration 118: 9014.357022493623\n",
      "Iteration 122: 9001.198991413836\n",
      "Iteration 125: 9000.65286743123\n",
      "Iteration 129: 8998.253451068365\n",
      "Iteration 135: 8997.568789048013\n",
      "Iteration 136: 8993.687551956511\n",
      "Iteration 138: 8990.998122128387\n",
      "Iteration 140: 8982.831911472882\n",
      "Iteration 142: 8980.412216854673\n",
      "Iteration 148: 8978.823281582314\n",
      "Iteration 150: 8977.301584805578\n",
      "Iteration 153: 8975.058379609602\n",
      "Iteration 154: 8974.276354201917\n",
      "Iteration 155: 8961.378905577187\n",
      "Iteration 164: 8958.571878956134\n",
      "Iteration 173: 8957.493274990791\n",
      "Iteration 174: 8952.7703698058\n",
      "Iteration 176: 8949.659899713419\n",
      "Iteration 178: 8947.479389109316\n",
      "Iteration 184: 8944.220817609963\n",
      "Iteration 196: 8941.009106211577\n",
      "Iteration 201: 8940.579089174586\n",
      "Iteration 204: 8939.232430613083\n",
      "Iteration 207: 8935.644422998317\n",
      "Iteration 208: 8932.017575363738\n",
      "Iteration 210: 8929.190431240128\n",
      "Iteration 216: 8924.982991270545\n",
      "Iteration 217: 8920.686178217667\n",
      "Iteration 219: 8919.095840208942\n",
      "Iteration 227: 8916.235608799274\n",
      "Iteration 234: 8914.892985020453\n",
      "Iteration 238: 8912.434776294534\n",
      "Iteration 244: 8910.893778394151\n",
      "Iteration 247: 8906.816898755924\n",
      "Iteration 248: 8902.975882352353\n",
      "Iteration 249: 8899.253780126506\n",
      "Iteration 250: 8897.124771975792\n",
      "Iteration 257: 8894.10065119002\n",
      "Iteration 262: 8890.731360189247\n",
      "Iteration 264: 8888.793854757325\n",
      "Iteration 265: 8888.642654838372\n",
      "Iteration 271: 8884.34642181628\n",
      "Iteration 277: 8882.424154887181\n",
      "Iteration 278: 8881.452931738115\n",
      "Iteration 284: 8877.414613056571\n",
      "Iteration 285: 8877.063825716757\n",
      "Iteration 291: 8874.997201115899\n",
      "Iteration 295: 8872.993401421625\n",
      "Iteration 299: 8870.795412585041\n",
      "Iteration 300: 8867.191533045572\n",
      "Iteration 303: 8863.322672587914\n",
      "Iteration 307: 8861.347781263683\n",
      "Iteration 309: 8858.82135494967\n",
      "Iteration 312: 8857.564579400625\n",
      "Iteration 314: 8853.41584917379\n",
      "Iteration 316: 8851.081386666281\n",
      "Iteration 317: 8850.242183388395\n",
      "Iteration 321: 8845.558402255629\n",
      "Iteration 322: 8844.307735689208\n",
      "Iteration 326: 8839.519349057915\n",
      "Iteration 333: 8838.25224508951\n",
      "Iteration 334: 8838.082364753196\n",
      "Iteration 337: 8836.27913537239\n",
      "Iteration 338: 8833.531214023775\n",
      "Iteration 343: 8833.419775801924\n",
      "Iteration 345: 8832.587347751938\n",
      "Iteration 347: 8828.311785697717\n",
      "Iteration 348: 8827.634805371532\n",
      "Iteration 349: 8825.279846890888\n",
      "Iteration 351: 8823.249394424853\n",
      "Iteration 353: 8818.926875016981\n",
      "Iteration 354: 8817.644289443913\n",
      "Iteration 355: 8813.107469681863\n",
      "Iteration 358: 8812.863363385677\n",
      "Iteration 360: 8809.237509990819\n",
      "Iteration 367: 8805.9650957121\n",
      "Iteration 376: 8802.586146406957\n",
      "Iteration 378: 8797.775003290351\n",
      "Iteration 380: 8797.360938919468\n",
      "Iteration 383: 8797.348024710296\n",
      "Iteration 384: 8794.699533904854\n",
      "Iteration 388: 8790.301526006966\n",
      "Iteration 393: 8774.774935184721\n",
      "Iteration 400: 8774.705367704368\n",
      "Iteration 403: 8770.759291281118\n",
      "Iteration 408: 8769.55771630902\n",
      "Iteration 411: 8769.278217302452\n",
      "Iteration 412: 8765.99519481482\n",
      "Iteration 416: 8761.504977338736\n",
      "Iteration 419: 8758.685325927603\n",
      "Iteration 423: 8757.145358144347\n",
      "Iteration 431: 8752.16443693728\n",
      "Iteration 435: 8749.749322702577\n",
      "Iteration 436: 8747.898061211958\n",
      "Iteration 439: 8743.661139821912\n",
      "Iteration 444: 8743.044611737934\n",
      "Iteration 451: 8741.886230633369\n",
      "Iteration 453: 8741.258863556559\n",
      "Iteration 463: 8740.109701457252\n",
      "Iteration 470: 8735.715228647108\n",
      "Iteration 471: 8732.31963975513\n",
      "Iteration 475: 8718.525249649128\n",
      "Iteration 476: 8715.954724815161\n",
      "Iteration 481: 8712.766934485\n",
      "Iteration 487: 8708.36841272653\n",
      "Iteration 502: 8708.08384616077\n",
      "Iteration 503: 8704.57667562356\n",
      "Iteration 505: 8702.561035995212\n",
      "Iteration 508: 8699.357895186267\n",
      "Iteration 513: 8696.056025617774\n",
      "Iteration 514: 8695.936736303174\n",
      "Iteration 515: 8694.965193477547\n",
      "Iteration 518: 8693.631662008822\n",
      "Iteration 519: 8692.069168980084\n",
      "Iteration 524: 8691.617714129243\n",
      "Iteration 527: 8689.784417261064\n",
      "Iteration 536: 8688.546538024657\n",
      "Iteration 537: 8684.587553789179\n",
      "Iteration 538: 8680.946297159519\n",
      "Iteration 543: 8679.532297183974\n",
      "Iteration 547: 8675.739616817784\n",
      "Iteration 549: 8672.099970566982\n",
      "Iteration 550: 8670.922437484687\n",
      "Iteration 554: 8670.382549315043\n",
      "Iteration 558: 8657.339016185064\n",
      "Iteration 562: 8655.743823929295\n",
      "Iteration 563: 8653.738207014281\n",
      "Iteration 564: 8649.998423688146\n",
      "Iteration 565: 8645.326754643886\n",
      "Iteration 566: 8643.780588766818\n",
      "Iteration 568: 8641.643048056512\n",
      "Iteration 570: 8637.230245163197\n",
      "Iteration 571: 8636.718259712066\n",
      "Iteration 576: 8631.99921109044\n",
      "Iteration 592: 8629.849327730117\n",
      "Iteration 605: 8629.619507380954\n",
      "Iteration 606: 8625.741186421656\n",
      "Iteration 609: 8624.997062700419\n",
      "Iteration 611: 8623.383120731034\n",
      "Iteration 618: 8621.933919094225\n",
      "Iteration 622: 8618.7737984153\n",
      "Iteration 623: 8614.688837006843\n",
      "Iteration 629: 8614.106252071393\n",
      "Iteration 633: 8613.125800704229\n",
      "Iteration 650: 8612.478267530261\n",
      "Iteration 653: 8610.234338403718\n",
      "Iteration 667: 8605.228175053231\n",
      "Iteration 670: 8600.927644669857\n",
      "Iteration 677: 8595.986910407466\n",
      "Iteration 688: 8592.724026493921\n",
      "Iteration 699: 8592.384088709503\n",
      "Iteration 706: 8592.335704748826\n",
      "Iteration 711: 8592.075813395577\n",
      "Iteration 712: 8589.68476791195\n",
      "Iteration 717: 8587.564521403907\n",
      "Iteration 721: 8582.522049682875\n",
      "Iteration 722: 8577.422244136947\n",
      "Iteration 729: 8572.266486519673\n",
      "Iteration 738: 8569.231154831241\n",
      "Iteration 741: 8567.663294072496\n",
      "Iteration 756: 8564.480998910682\n",
      "Iteration 760: 8563.710645192199\n",
      "Iteration 766: 8562.359525903474\n",
      "Iteration 773: 8560.0928823971\n",
      "Iteration 774: 8557.97318857699\n",
      "Iteration 775: 8557.603092582931\n",
      "Iteration 781: 8554.052564699909\n",
      "Iteration 782: 8553.480980710148\n",
      "Iteration 789: 8552.81647412061\n",
      "Iteration 792: 8548.336049482938\n",
      "Iteration 795: 8547.518413495513\n",
      "Iteration 805: 8547.426929745405\n",
      "Iteration 809: 8545.931187668772\n",
      "Iteration 813: 8540.590018467954\n",
      "Iteration 814: 8536.62313721794\n",
      "Iteration 815: 8532.0303411713\n",
      "Iteration 820: 8529.802022678514\n",
      "Iteration 826: 8528.444572356539\n",
      "Iteration 832: 8527.474981790818\n",
      "Iteration 835: 8522.450471124484\n",
      "Iteration 840: 8521.27340640273\n",
      "Iteration 841: 8518.396468774949\n",
      "Iteration 843: 8515.966251850308\n",
      "Iteration 850: 8511.27820101809\n",
      "Iteration 855: 8507.1585645746\n",
      "Iteration 858: 8502.478175182694\n",
      "Iteration 864: 8500.846894661223\n",
      "Iteration 865: 8496.03428788151\n",
      "Iteration 871: 8491.105104986638\n",
      "Iteration 880: 8473.924778900076\n",
      "Iteration 881: 8473.328879194512\n",
      "Iteration 883: 8471.058062827662\n",
      "Iteration 898: 8470.324573289337\n",
      "Iteration 900: 8469.56364053758\n",
      "Iteration 901: 8469.136601345986\n",
      "Iteration 906: 8467.840576578375\n",
      "Iteration 911: 8465.455047748523\n",
      "Iteration 921: 8464.700231867733\n",
      "Iteration 922: 8461.509631306453\n",
      "Iteration 926: 8459.092946598275\n",
      "Iteration 937: 8458.822623097174\n",
      "Iteration 940: 8457.928531380103\n",
      "Iteration 944: 8452.127298264815\n",
      "Iteration 946: 8451.596540735236\n",
      "Iteration 950: 8451.541647111895\n",
      "Iteration 974: 8451.34554243918\n",
      "Iteration 979: 8450.882701762876\n",
      "Iteration 984: 8450.152895403378\n",
      "Iteration 988: 8444.605162251924\n",
      "Iteration 993: 8444.358615319734\n",
      "Iteration 999: 8443.021754358226\n"
     ]
    }
   ],
   "source": [
    "sq = best_alloc(C,T,adjacency, 1000);\n",
    "\n"
   ]
  },
  {
   "cell_type": "code",
   "execution_count": 17,
   "id": "bbe60a1c-a626-4a3d-a26d-aa678eb06aea",
   "metadata": {},
   "outputs": [
    {
     "data": {
      "text/plain": [
       "12×5 Matrix{Int32}:\n",
       " 366  87  12  12  10\n",
       "  44  32   2   2   1\n",
       "   2   0   4   2   1\n",
       "  30   1   2  12   0\n",
       "   8   2   2   1  15\n",
       " 115  27   5   6   0\n",
       " 102  38   1   5   0\n",
       "  45  12   5   5  14\n",
       "   9   0   2   0   1\n",
       " 164  22  36  20  24\n",
       "  38  12   0   0   2\n",
       " 150  46  16   6  18"
      ]
     },
     "execution_count": 17,
     "metadata": {},
     "output_type": "execute_result"
    }
   ],
   "source": [
    "sq[1]*adjacency*sq[2]"
   ]
  },
  {
   "cell_type": "code",
   "execution_count": 18,
   "id": "55ba62aa-de6d-4c98-b10a-a3c9be8382c5",
   "metadata": {},
   "outputs": [
    {
     "name": "stdout",
     "output_type": "stream",
     "text": [
      "Columbia University\n",
      "Duke University\n",
      "McGill University\n",
      "Purdue University\n",
      "Rutgers, The State University of New Jersey\n",
      "Stockholm University\n",
      "Texas A&M University, College Station\n",
      "Universidad Carlos III de Madrid\n",
      "University of Bonn\n",
      "University of California, Irvine\n",
      "University of California, San Diego\n",
      "University of Lausanne\n",
      "University of Mannheim\n",
      "University of Maryland\n",
      "University of Pennsylvania\n",
      "University of Pittsburgh\n",
      "University of Texas at Austin\n",
      "University of Virginia\n",
      "University of Wisconsin, Madison\n",
      "University of Zurich\n",
      "Université Paris 1 Panthéon-Sorbonne\n",
      "Vanderbilt University\n",
      "Yale University\n"
     ]
    }
   ],
   "source": [
    "for i in 1:size(adjacency,2)\n",
    "    if sq[2][i,2] == 1\n",
    "        println(institutions[i])\n",
    "    end\n",
    "end"
   ]
  },
  {
   "cell_type": "code",
   "execution_count": 19,
   "id": "8aef8b00-cf25-45e0-9156-b74f2d2d62d9",
   "metadata": {},
   "outputs": [
    {
     "data": {
      "text/plain": [
       "1×5 Matrix{Int64}:\n",
       " 206  23  69  59  55"
      ]
     },
     "execution_count": 19,
     "metadata": {},
     "output_type": "execute_result"
    }
   ],
   "source": [
    "sum(sq[2], dims = 1)"
   ]
  }
 ],
 "metadata": {
  "kernelspec": {
   "display_name": "Julia 1.11.3",
   "language": "julia",
   "name": "julia-1.11"
  },
  "language_info": {
   "file_extension": ".jl",
   "mimetype": "application/julia",
   "name": "julia",
   "version": "1.11.3"
  }
 },
 "nbformat": 4,
 "nbformat_minor": 5
}
