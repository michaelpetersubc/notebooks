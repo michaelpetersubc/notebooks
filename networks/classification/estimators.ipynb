{
 "cells": [
  {
   "cell_type": "code",
   "execution_count": 1,
   "id": "5231d1f0-70bd-4c6b-9fbf-59be7814c685",
   "metadata": {},
   "outputs": [],
   "source": [
    "using HTTP, JSON, PrettyTables, JLD, DotEnv,  Random, Dates\n",
    "institutions = load(\"institutions.jld\")[\"institutions\"]\n",
    "academic_list = load(\"academic_list.jld\")[\"academic_list\"]\n",
    "adjacency = load(\"adjacency_2023.jld\")[\"out\"];"
   ]
  },
  {
   "cell_type": "code",
   "execution_count": 2,
   "id": "4aa99c96-a7d0-48bf-8261-e9ef058522a3",
   "metadata": {},
   "outputs": [],
   "source": [
    "C = zeros(Int32,12,length(institutions))\n",
    "T = zeros(Int32, length(academic_list), 5);"
   ]
  },
  {
   "cell_type": "code",
   "execution_count": 3,
   "id": "1fe0bae2-191e-4e6c-9214-ac2e5e438c20",
   "metadata": {},
   "outputs": [],
   "source": [
    "# fill in the hard coded sinks\n",
    "est_alloc = load(\"est_alloc.jld\")[\"est_alloc\"];\n",
    "for i in length(academic_list)+1:length(institutions)\n",
    "    C[est_alloc[i], i] = 1\n",
    "end"
   ]
  },
  {
   "cell_type": "code",
   "execution_count": 4,
   "id": "89c904c6-089b-4b30-88ed-3865eff3591a",
   "metadata": {},
   "outputs": [],
   "source": [
    "# sinks have been hard coded - start by assigning all academic institutions to community 1\n",
    "for i in 1:length(academic_list)\n",
    "    T[i,1] = 1\n",
    "    C[1,i] = 1\n",
    "end\n",
    "#now all academic institutions are in the same tier"
   ]
  },
  {
   "cell_type": "code",
   "execution_count": 5,
   "id": "571c1084-75d7-4093-847f-0c2004110218",
   "metadata": {},
   "outputs": [
    {
     "data": {
      "text/plain": [
       "991"
      ]
     },
     "execution_count": 5,
     "metadata": {},
     "output_type": "execute_result"
    }
   ],
   "source": [
    "sum(C)"
   ]
  },
  {
   "cell_type": "code",
   "execution_count": 6,
   "id": "e1e1a661-5df3-4ba9-b36b-e92806d25cdd",
   "metadata": {},
   "outputs": [
    {
     "data": {
      "text/plain": [
       "412"
      ]
     },
     "execution_count": 6,
     "metadata": {},
     "output_type": "execute_result"
    }
   ],
   "source": [
    "sum(T)"
   ]
  },
  {
   "cell_type": "code",
   "execution_count": 7,
   "id": "85a15996-7b38-42c6-a5be-6e8b7ab4a9a9",
   "metadata": {},
   "outputs": [
    {
     "data": {
      "text/plain": [
       "12×1 Matrix{Int64}:\n",
       " 412\n",
       "   0\n",
       "   0\n",
       "   0\n",
       "   0\n",
       "  66\n",
       "  69\n",
       " 188\n",
       "  50\n",
       "   1\n",
       "  13\n",
       " 192"
      ]
     },
     "execution_count": 7,
     "metadata": {},
     "output_type": "execute_result"
    }
   ],
   "source": [
    "c = sum(C, dims = 2)"
   ]
  },
  {
   "cell_type": "code",
   "execution_count": 8,
   "id": "a0921e22-fc4e-4878-8b92-8d1226f7f826",
   "metadata": {},
   "outputs": [
    {
     "data": {
      "text/plain": [
       "1×5 Matrix{Int64}:\n",
       " 412  0  0  0  0"
      ]
     },
     "execution_count": 8,
     "metadata": {},
     "output_type": "execute_result"
    }
   ],
   "source": [
    "t = sum(T, dims=1)"
   ]
  },
  {
   "cell_type": "code",
   "execution_count": 9,
   "id": "700f4a2a-6c49-4469-bca5-13a7a04bd907",
   "metadata": {},
   "outputs": [
    {
     "data": {
      "text/plain": [
       "12×5 Matrix{Int32}:\n",
       " 650  0  0  0  0\n",
       "   0  0  0  0  0\n",
       "   0  0  0  0  0\n",
       "   0  0  0  0  0\n",
       "   0  0  0  0  0\n",
       " 153  0  0  0  0\n",
       " 146  0  0  0  0\n",
       "  81  0  0  0  0\n",
       "  12  0  0  0  0\n",
       " 266  0  0  0  0\n",
       "  52  0  0  0  0\n",
       " 236  0  0  0  0"
      ]
     },
     "execution_count": 9,
     "metadata": {},
     "output_type": "execute_result"
    }
   ],
   "source": [
    "C*adjacency*T"
   ]
  },
  {
   "cell_type": "code",
   "execution_count": 10,
   "id": "8fe66160-3156-4a9a-803c-a7c5d6402921",
   "metadata": {},
   "outputs": [
    {
     "data": {
      "text/plain": [
       "likelihood (generic function with 1 method)"
      ]
     },
     "execution_count": 10,
     "metadata": {},
     "output_type": "execute_result"
    }
   ],
   "source": [
    "function likelihood(adjacency, c, t)\n",
    "    # the number of institutions in each tier\n",
    "    # the number of academic institions in each tier\n",
    "    l = 0.0\n",
    "    for i in 1:12,j in 1:5\n",
    "        l +=  -adjacency[i,j]*(log(max(adjacency[i,j]/(max(c[i]*t[j],1)),.0001)) - 1)\n",
    "    end\n",
    "    return l\n",
    "end\n",
    "    "
   ]
  },
  {
   "cell_type": "code",
   "execution_count": 11,
   "id": "0dfaca5b-11bd-4496-bc9e-35427576b0c8",
   "metadata": {},
   "outputs": [
    {
     "data": {
      "text/plain": [
       "9150.45365384631"
      ]
     },
     "execution_count": 11,
     "metadata": {},
     "output_type": "execute_result"
    }
   ],
   "source": [
    "likelihood(C*adjacency*T, c, t)"
   ]
  },
  {
   "cell_type": "code",
   "execution_count": 12,
   "id": "45dcb0e8-d8b4-410e-9865-2d5101d11d23",
   "metadata": {},
   "outputs": [
    {
     "data": {
      "text/plain": [
       "1596"
      ]
     },
     "execution_count": 12,
     "metadata": {},
     "output_type": "execute_result"
    }
   ],
   "source": [
    "sum(adjacency)"
   ]
  },
  {
   "cell_type": "code",
   "execution_count": 13,
   "id": "7a4a5ba8-a202-4d34-afb2-8d2ae4ab5a62",
   "metadata": {},
   "outputs": [
    {
     "data": {
      "text/plain": [
       "best_alloc (generic function with 2 methods)"
      ]
     },
     "execution_count": 13,
     "metadata": {},
     "output_type": "execute_result"
    }
   ],
   "source": [
    "function best_alloc(C,T,adjacency, iterations = 10) \n",
    "    c = sum(C, dims = 2)\n",
    "    t = sum(T, dims=1)\n",
    "    start = likelihood(C*adjacency*T, c, t)\n",
    "    sq = [C, T, start]\n",
    "    println(\"Starting value: \", start)\n",
    "    n = 0\n",
    "    while n < iterations\n",
    "        shuffle = []\n",
    "        to_tier = []\n",
    "        new_C = zeros(Int32,size(C,1),size(C,2))\n",
    "        new_T = zeros(Int32, size(T,1),size(T,2))\n",
    "        for j in 1:1\n",
    "            push!(shuffle, rand(1:size(T,1)))\n",
    "            push!(to_tier, rand(1:size(T,2)))\n",
    "        end\n",
    "    \n",
    "        for i in 1:size(C,2), j in 1:size(C,1)\n",
    "            index = findfirst(x -> x == i, shuffle)\n",
    "            if !isnothing(index)\n",
    "              #  println(shuffle)\n",
    "              #  println(to_tier)\n",
    "              #  println(index)\n",
    "              #  println(\"index \",shuffle[index], \" to tier \", to_tier[index], \" i \", i , \" j \", j)\n",
    "                \n",
    "                \n",
    "                if j == to_tier[index] \n",
    "               #     println(\"resetting index \",j,\" \",i,\" to one\")\n",
    "                #    return 1\n",
    "                    new_C[j, i] = 1\n",
    "                    new_T[i, j] = 1\n",
    "                else\n",
    "                    new_C[j, i] = 0\n",
    "                 #   println(\"Reset \",C[j,i],\" at \", j,\" \",i, \" to zero\")\n",
    "                    if j < size(T,2) + 1\n",
    "                        new_T[i, j] = 0\n",
    "                    end\n",
    "                end\n",
    "            else\n",
    "                new_C[j,i] = sq[1][j,i]\n",
    "                if i < size(T,1) + 1\n",
    "                    if j < 6\n",
    "                        new_T[i, j] = sq[2][i,j]\n",
    "                    end\n",
    "                end\n",
    "            end\n",
    "        end\n",
    "        c = sum(new_C, dims = 2)\n",
    "        t = sum(new_T, dims = 1)\n",
    "        new_l = likelihood(new_C*adjacency*new_T,c,t)\n",
    "        \n",
    "        if new_l < sq[3]\n",
    "            println(\"Iteration \", n, \": \" , new_l)\n",
    "            sq[3] = new_l\n",
    "            sq[1] = new_C\n",
    "            sq[2] = new_T\n",
    "        end\n",
    "        n += 1\n",
    "    end\n",
    "                \n",
    "    return sq\n",
    "end\n",
    "        "
   ]
  },
  {
   "cell_type": "code",
   "execution_count": 14,
   "id": "c0c18572-b5e7-4e43-8b3b-3733d2569be1",
   "metadata": {},
   "outputs": [
    {
     "name": "stdout",
     "output_type": "stream",
     "text": [
      "Starting value: 9150.45365384631\n",
      "Iteration 0: 9147.529092800485\n",
      "Iteration 1: 9143.791608252148\n",
      "Iteration 2: 9141.230591561234\n",
      "Iteration 4: 9136.32592608019\n",
      "Iteration 5: 9133.756029685172\n",
      "Iteration 7: 9133.652302110717\n",
      "Iteration 8: 9130.555983245411\n",
      "Iteration 10: 9130.0419998404\n",
      "Iteration 11: 9126.920163930212\n",
      "Iteration 13: 9122.892043133255\n",
      "Iteration 16: 9121.006979669966\n",
      "Iteration 17: 9117.956520037127\n",
      "Iteration 23: 9114.459891983268\n",
      "Iteration 25: 9110.959008518668\n",
      "Iteration 27: 9109.121532923322\n",
      "Iteration 28: 9107.838069634668\n",
      "Iteration 30: 9105.725178781624\n",
      "Iteration 32: 9104.3602959039\n",
      "Iteration 34: 9101.027455801543\n",
      "Iteration 35: 9099.102599741384\n",
      "Iteration 37: 9098.61337033338\n",
      "Iteration 39: 9094.759223556946\n",
      "Iteration 41: 9093.691511059458\n",
      "Iteration 42: 9089.813890873265\n",
      "Iteration 45: 9088.089476876607\n",
      "Iteration 48: 9085.761642045993\n",
      "Iteration 49: 9082.390007553902\n",
      "Iteration 51: 9077.052266564702\n",
      "Iteration 53: 9074.363185452536\n",
      "Iteration 54: 9070.325351343412\n",
      "Iteration 55: 9069.422025268133\n",
      "Iteration 58: 9065.632381770169\n",
      "Iteration 59: 9064.616359065747\n",
      "Iteration 63: 9060.563690421672\n",
      "Iteration 65: 9058.112069230685\n",
      "Iteration 70: 9054.255727487396\n",
      "Iteration 72: 9052.848007353046\n",
      "Iteration 75: 9051.532036863107\n",
      "Iteration 76: 9051.38185519226\n",
      "Iteration 80: 9049.912831462752\n",
      "Iteration 83: 9048.643673082624\n",
      "Iteration 85: 9045.228787232949\n",
      "Iteration 94: 9041.496108307105\n",
      "Iteration 95: 9037.770260248975\n",
      "Iteration 96: 9034.273942475711\n",
      "Iteration 98: 9033.610954529202\n",
      "Iteration 99: 9033.564603811097\n",
      "Iteration 101: 9029.470093952805\n",
      "Iteration 104: 9026.05656828775\n",
      "Iteration 106: 9022.109743270326\n",
      "Iteration 108: 9017.659599351811\n",
      "Iteration 110: 9016.141271679338\n",
      "Iteration 111: 9014.735833984018\n",
      "Iteration 112: 9013.555123107477\n",
      "Iteration 115: 9009.444611705629\n",
      "Iteration 120: 9007.954907051651\n",
      "Iteration 121: 9005.318337844848\n",
      "Iteration 122: 9001.804928719885\n",
      "Iteration 125: 8998.454901309418\n",
      "Iteration 130: 8996.746215515714\n",
      "Iteration 131: 8992.468940555607\n",
      "Iteration 132: 8991.20727674016\n",
      "Iteration 133: 8990.669569235975\n",
      "Iteration 136: 8987.662455476666\n",
      "Iteration 137: 8985.557966715489\n",
      "Iteration 138: 8981.432646503672\n",
      "Iteration 140: 8978.230163774433\n",
      "Iteration 143: 8977.432519958127\n",
      "Iteration 147: 8974.180602102342\n",
      "Iteration 151: 8969.73112179236\n",
      "Iteration 158: 8967.754759549653\n",
      "Iteration 159: 8963.747020791556\n",
      "Iteration 162: 8959.980633562373\n",
      "Iteration 164: 8955.655552033884\n",
      "Iteration 168: 8954.86563298189\n",
      "Iteration 171: 8951.433760643384\n",
      "Iteration 174: 8947.00612425227\n",
      "Iteration 177: 8942.497409345378\n",
      "Iteration 179: 8938.047484887353\n",
      "Iteration 181: 8933.890780385029\n",
      "Iteration 192: 8931.798895157219\n",
      "Iteration 193: 8927.107535768513\n",
      "Iteration 195: 8925.552816644551\n",
      "Iteration 196: 8922.681840778396\n",
      "Iteration 197: 8922.416047339786\n",
      "Iteration 200: 8918.276623576196\n",
      "Iteration 205: 8913.954156693839\n",
      "Iteration 207: 8909.359828912771\n",
      "Iteration 210: 8907.704558979765\n",
      "Iteration 212: 8901.19229510336\n",
      "Iteration 214: 8901.112225165927\n",
      "Iteration 215: 8897.957086711387\n",
      "Iteration 218: 8896.381843236653\n",
      "Iteration 220: 8891.544279794603\n",
      "Iteration 221: 8889.833078121135\n",
      "Iteration 228: 8887.405705824469\n",
      "Iteration 230: 8887.210768384326\n",
      "Iteration 233: 8882.300142315537\n",
      "Iteration 234: 8878.98469294549\n",
      "Iteration 235: 8876.459790701021\n",
      "Iteration 238: 8874.045026188816\n",
      "Iteration 239: 8871.395005923298\n",
      "Iteration 240: 8869.885086127524\n",
      "Iteration 242: 8868.518933898618\n",
      "Iteration 250: 8867.621215973419\n",
      "Iteration 251: 8866.666927662016\n",
      "Iteration 252: 8863.145545419631\n",
      "Iteration 255: 8859.422100035483\n",
      "Iteration 256: 8856.130059413736\n",
      "Iteration 257: 8853.371705499141\n",
      "Iteration 259: 8848.271638048443\n",
      "Iteration 260: 8847.286686567893\n",
      "Iteration 263: 8841.986400362966\n",
      "Iteration 266: 8840.622673751881\n",
      "Iteration 268: 8837.117309857244\n",
      "Iteration 269: 8833.284279298916\n",
      "Iteration 271: 8827.756642213539\n",
      "Iteration 272: 8821.592885488539\n",
      "Iteration 273: 8819.044800800242\n",
      "Iteration 275: 8817.385201401656\n",
      "Iteration 278: 8813.499296666949\n",
      "Iteration 279: 8810.431253785302\n",
      "Iteration 284: 8806.113724048899\n",
      "Iteration 285: 8800.973081148815\n",
      "Iteration 292: 8798.974942780602\n",
      "Iteration 300: 8797.667239284585\n",
      "Iteration 304: 8793.989650875328\n",
      "Iteration 305: 8792.107155640624\n",
      "Iteration 312: 8790.302011918047\n",
      "Iteration 314: 8787.248492439276\n",
      "Iteration 319: 8782.183707611239\n",
      "Iteration 321: 8779.959871773783\n",
      "Iteration 326: 8776.695507185157\n",
      "Iteration 327: 8773.273570270512\n",
      "Iteration 328: 8772.996485514663\n",
      "Iteration 329: 8772.375535990905\n",
      "Iteration 334: 8771.619250794993\n",
      "Iteration 337: 8770.858477420863\n",
      "Iteration 341: 8767.941512054318\n",
      "Iteration 345: 8767.032624873671\n",
      "Iteration 346: 8766.780537941531\n",
      "Iteration 350: 8764.265175846385\n",
      "Iteration 357: 8763.432076131221\n",
      "Iteration 359: 8761.53641951087\n",
      "Iteration 360: 8760.676783668343\n",
      "Iteration 361: 8755.536604217774\n",
      "Iteration 362: 8754.015357060412\n",
      "Iteration 363: 8753.233789719623\n",
      "Iteration 368: 8750.84944947651\n",
      "Iteration 369: 8750.668382633488\n",
      "Iteration 370: 8749.114136329881\n",
      "Iteration 372: 8743.85586386302\n",
      "Iteration 378: 8739.60294698238\n",
      "Iteration 381: 8737.390286527469\n",
      "Iteration 384: 8734.212809326124\n",
      "Iteration 387: 8730.42731485538\n",
      "Iteration 389: 8729.795060653507\n",
      "Iteration 390: 8728.99299005891\n",
      "Iteration 394: 8728.629714326504\n",
      "Iteration 396: 8725.296706471036\n",
      "Iteration 398: 8725.124569861679\n",
      "Iteration 399: 8724.881330072087\n",
      "Iteration 401: 8720.882845994864\n",
      "Iteration 415: 8720.00745113248\n",
      "Iteration 417: 8715.447404475792\n",
      "Iteration 426: 8713.053440190864\n",
      "Iteration 427: 8709.258762407606\n",
      "Iteration 430: 8703.94932122309\n",
      "Iteration 431: 8696.494664223794\n",
      "Iteration 433: 8694.22501595685\n",
      "Iteration 440: 8691.116584989608\n",
      "Iteration 442: 8691.088849990281\n",
      "Iteration 457: 8686.407594507762\n",
      "Iteration 458: 8686.093800288152\n",
      "Iteration 467: 8685.925595689927\n",
      "Iteration 478: 8685.466897040233\n",
      "Iteration 485: 8679.355658499688\n",
      "Iteration 487: 8676.171893438863\n",
      "Iteration 491: 8673.544360063932\n",
      "Iteration 496: 8668.807032071716\n",
      "Iteration 504: 8668.646043552098\n",
      "Iteration 510: 8667.116198775993\n",
      "Iteration 511: 8664.013090034268\n",
      "Iteration 516: 8661.642526642443\n",
      "Iteration 517: 8656.028114262244\n",
      "Iteration 523: 8652.449527415427\n",
      "Iteration 529: 8651.589740164947\n",
      "Iteration 530: 8651.033730244422\n",
      "Iteration 536: 8649.395020682581\n",
      "Iteration 549: 8649.095557402885\n",
      "Iteration 550: 8646.54190967067\n",
      "Iteration 554: 8645.794169409826\n",
      "Iteration 558: 8644.346623107891\n",
      "Iteration 559: 8643.619414194867\n",
      "Iteration 560: 8643.32039489611\n",
      "Iteration 562: 8640.662814424664\n",
      "Iteration 564: 8638.880280716452\n",
      "Iteration 565: 8636.330071507708\n",
      "Iteration 579: 8632.678972910988\n",
      "Iteration 580: 8630.311968029915\n",
      "Iteration 583: 8629.214538674236\n",
      "Iteration 584: 8628.120938223974\n",
      "Iteration 587: 8622.858164066804\n",
      "Iteration 589: 8617.821514693518\n",
      "Iteration 591: 8612.83935396285\n",
      "Iteration 598: 8608.228405088816\n",
      "Iteration 606: 8604.84500769731\n",
      "Iteration 611: 8604.60901274805\n",
      "Iteration 616: 8600.553452098822\n",
      "Iteration 630: 8595.742239211851\n",
      "Iteration 639: 8590.985063972312\n",
      "Iteration 643: 8586.24450857917\n",
      "Iteration 645: 8585.195668504677\n",
      "Iteration 646: 8583.440322999517\n",
      "Iteration 651: 8582.379828564675\n",
      "Iteration 659: 8577.139809150247\n",
      "Iteration 660: 8576.569504438605\n",
      "Iteration 671: 8573.457616420372\n",
      "Iteration 675: 8572.73745724149\n",
      "Iteration 677: 8571.143723581743\n",
      "Iteration 678: 8569.935462926023\n",
      "Iteration 679: 8569.662826797528\n",
      "Iteration 680: 8567.933289829316\n",
      "Iteration 681: 8563.208789327344\n",
      "Iteration 685: 8556.410069403242\n",
      "Iteration 688: 8552.438635434277\n",
      "Iteration 689: 8551.081406160094\n",
      "Iteration 692: 8550.519049273616\n",
      "Iteration 699: 8547.663231666731\n",
      "Iteration 700: 8546.844835705964\n",
      "Iteration 701: 8541.333233806141\n",
      "Iteration 702: 8534.693887128597\n",
      "Iteration 709: 8533.02411204474\n",
      "Iteration 713: 8532.042475981641\n",
      "Iteration 720: 8531.473800672375\n",
      "Iteration 722: 8529.131569946649\n",
      "Iteration 732: 8523.432784965693\n",
      "Iteration 734: 8519.834584934866\n",
      "Iteration 738: 8518.463336011802\n",
      "Iteration 740: 8515.89661365678\n",
      "Iteration 742: 8515.124842248882\n",
      "Iteration 748: 8514.930330270798\n",
      "Iteration 749: 8508.441005684715\n",
      "Iteration 754: 8508.382777355635\n",
      "Iteration 760: 8506.575212232508\n",
      "Iteration 762: 8505.885031180831\n",
      "Iteration 764: 8500.469827709123\n",
      "Iteration 773: 8496.01534647151\n",
      "Iteration 774: 8495.591018759977\n",
      "Iteration 780: 8495.185726704316\n",
      "Iteration 781: 8495.031684642378\n",
      "Iteration 784: 8494.783839092714\n",
      "Iteration 788: 8487.83215337689\n",
      "Iteration 789: 8487.746354516312\n",
      "Iteration 792: 8484.236066326954\n",
      "Iteration 793: 8483.22329477131\n",
      "Iteration 798: 8478.42052526362\n",
      "Iteration 801: 8477.409909830694\n",
      "Iteration 802: 8477.081647456838\n",
      "Iteration 808: 8473.035443833205\n",
      "Iteration 811: 8468.565826986991\n",
      "Iteration 816: 8468.06766733455\n",
      "Iteration 825: 8467.117125543955\n",
      "Iteration 826: 8460.947941761024\n",
      "Iteration 829: 8456.012627944463\n",
      "Iteration 835: 8451.016727940367\n",
      "Iteration 836: 8445.756063908726\n",
      "Iteration 840: 8445.433459892616\n",
      "Iteration 841: 8445.32995581235\n",
      "Iteration 856: 8445.233996910372\n",
      "Iteration 860: 8445.136042240109\n",
      "Iteration 861: 8439.132284979987\n",
      "Iteration 869: 8431.875408769602\n",
      "Iteration 871: 8427.620521816576\n",
      "Iteration 876: 8425.674026465504\n",
      "Iteration 879: 8425.640059520996\n",
      "Iteration 882: 8423.925122638582\n",
      "Iteration 883: 8423.557200198435\n",
      "Iteration 896: 8423.365959555167\n",
      "Iteration 898: 8416.895407874916\n",
      "Iteration 902: 8412.225394986024\n",
      "Iteration 903: 8412.073329167957\n",
      "Iteration 908: 8409.45782607121\n",
      "Iteration 910: 8403.309041249275\n",
      "Iteration 912: 8403.243376313045\n",
      "Iteration 920: 8402.745792655505\n",
      "Iteration 922: 8401.656793404158\n",
      "Iteration 924: 8398.097922195275\n",
      "Iteration 932: 8397.673058086233\n",
      "Iteration 935: 8397.632937355986\n",
      "Iteration 937: 8393.737527663088\n",
      "Iteration 956: 8392.329729004417\n",
      "Iteration 959: 8390.745444107037\n",
      "Iteration 962: 8390.570118318563\n",
      "Iteration 979: 8390.541177755704\n",
      "Iteration 980: 8389.974977711152\n",
      "Iteration 983: 8385.353193568255\n"
     ]
    }
   ],
   "source": [
    "sq = best_alloc(C,T,adjacency, 1000);\n",
    "\n"
   ]
  },
  {
   "cell_type": "code",
   "execution_count": 18,
   "id": "bbe60a1c-a626-4a3d-a26d-aa678eb06aea",
   "metadata": {},
   "outputs": [
    {
     "data": {
      "text/plain": [
       "12×5 Matrix{Int32}:\n",
       " 488   7  14  11  17\n",
       "  35  17   7   1   4\n",
       "   8   0  13   1   0\n",
       "   6   0   3   6   0\n",
       "   7   0   0   0   5\n",
       " 135   2   8   7   1\n",
       " 136   1   5   1   3\n",
       "  45  17  14   1   4\n",
       "   7   3   0   2   0\n",
       " 160  22  13  30  41\n",
       "  48   0   1   3   0\n",
       " 184  15   5  20  12"
      ]
     },
     "execution_count": 18,
     "metadata": {},
     "output_type": "execute_result"
    }
   ],
   "source": [
    "sq[1]*adjacency*sq[2]"
   ]
  },
  {
   "cell_type": "code",
   "execution_count": 15,
   "id": "55ba62aa-de6d-4c98-b10a-a3c9be8382c5",
   "metadata": {},
   "outputs": [
    {
     "name": "stdout",
     "output_type": "stream",
     "text": [
      "Australian National University\n",
      "Azerbaijan State University of Economics\n",
      "Brunel University London\n",
      "CERGE-EI (Center for Economic Research and Graduate Education – Economics Institute)\n",
      "Cardiff University\n",
      "Central University of Finance and Economics\n",
      "Collegio Carlo Alberto\n",
      "Colorado State University\n",
      "Dalhousie University\n",
      "Devi Ahilya Vishwavidyalaya, Indore\n",
      "Durham University\n",
      "George Mason University\n",
      "Govind Ballabh Pant University of Agriculture and Technology\n",
      "Hamburg University\n",
      "Instituto Tecnologico Autónomo de Mexico (ITAM)\n",
      "Kyoto University\n",
      "Makerere University\n",
      "Nankai University\n",
      "Nanyang Technological University\n",
      "Nigerian Defence Academy\n",
      "Seoul National University\n",
      "Shiv Nadar University\n",
      "Tata Institute of Social Sciences\n",
      "Trinity College Dublin, University of Dublin\n",
      "Universidad del País Vasco / Euskal Herriko Unibertsitatea\n",
      "University College Dublin\n",
      "University at Buffalo\n",
      "University of Bern\n",
      "University of Delhi\n",
      "University of Edinburgh\n",
      "University of Exeter\n",
      "University of Groningen\n",
      "University of Huddersfield\n",
      "University of Innsbruck\n",
      "University of Strathclyde\n",
      "University of Sydney\n",
      "University of Tennessee, Knoxville\n",
      "University of Tokyo\n",
      "Università Cattolica del Sacro Cuore\n",
      "Università degli Studi di Padova\n",
      "Université Laval\n",
      "Université Libre de Bruxelles\n",
      "Université Paris Nanterre\n",
      "Université de Bordeaux\n",
      "Virginia Tech\n",
      "Washington State University\n",
      "York University\n",
      "École Normale Supérieure Paris-Saclay\n"
     ]
    }
   ],
   "source": [
    "for i in 1:size(adjacency,2)\n",
    "    if sq[2][i,2] == 1\n",
    "        println(institutions[i])\n",
    "    end\n",
    "end"
   ]
  },
  {
   "cell_type": "code",
   "execution_count": 16,
   "id": "8aef8b00-cf25-45e0-9156-b74f2d2d62d9",
   "metadata": {},
   "outputs": [
    {
     "data": {
      "text/plain": [
       "1×5 Matrix{Int64}:\n",
       " 191  48  49  59  65"
      ]
     },
     "execution_count": 16,
     "metadata": {},
     "output_type": "execute_result"
    }
   ],
   "source": [
    "sum(sq[2], dims = 1)"
   ]
  }
 ],
 "metadata": {
  "kernelspec": {
   "display_name": "Julia 1.11.3",
   "language": "julia",
   "name": "julia-1.11"
  },
  "language_info": {
   "file_extension": ".jl",
   "mimetype": "application/julia",
   "name": "julia",
   "version": "1.11.3"
  }
 },
 "nbformat": 4,
 "nbformat_minor": 5
}
